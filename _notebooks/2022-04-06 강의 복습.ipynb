{
 "cells": [
  {
   "cell_type": "markdown",
   "id": "7e15ff89-cf81-407a-9226-52d697d55392",
   "metadata": {},
   "source": [
    "# 파이썬 4월 6일 강의 복습\n",
    "> \"7월 1일\"\n",
    "\n",
    "- toc:true\n",
    "- branch: master\n",
    "- badges: true\n",
    "- comments: true\n",
    "- author: 최석진\n",
    "- categories: [Python]"
   ]
  },
  {
   "cell_type": "markdown",
   "id": "0f9ef0e8-9307-495e-a404-bcd86f7820eb",
   "metadata": {},
   "source": [
    "## numpy (선언, 브로드캐스팅, 수학연산, 인덱싱, reshape, 랜덤으로 생성, 행렬관련기능)\n",
    "> July 1, 2022"
   ]
  },
  {
   "cell_type": "markdown",
   "id": "aeda6e39-b8d5-46ec-824c-d883ceb076d6",
   "metadata": {},
   "source": [
    "### import"
   ]
  },
  {
   "cell_type": "code",
   "execution_count": 1,
   "id": "a6c3cc36-354b-44c6-b917-1cc102e863bd",
   "metadata": {},
   "outputs": [],
   "source": [
    "import numpy as np"
   ]
  },
  {
   "cell_type": "markdown",
   "id": "9eeced08-632b-4f3c-91e7-cc9ce45ede1c",
   "metadata": {},
   "source": [
    "### 넘파이 공부 1단계"
   ]
  },
  {
   "cell_type": "markdown",
   "id": "4ea6a993-0c88-45d3-b454-9284e46149f7",
   "metadata": {},
   "source": [
    "#### 선언"
   ]
  },
  {
   "cell_type": "code",
   "execution_count": 2,
   "id": "ffcfd036-cc50-4c4c-a7aa-63e8cb47f7ba",
   "metadata": {},
   "outputs": [],
   "source": [
    "a=np.array([1,2,3]) #list로 만들고 ndarray화 시킴\n",
    "l=[1,2,3]"
   ]
  },
  {
   "cell_type": "markdown",
   "id": "ac5b6450-bee3-48cc-80f3-bb3312c8c038",
   "metadata": {},
   "source": [
    "#### 기본연산 브로드캐스팅"
   ]
  },
  {
   "cell_type": "code",
   "execution_count": 3,
   "id": "ff6e4689-4f27-4edf-ab28-3db6a40ec50e",
   "metadata": {},
   "outputs": [
    {
     "data": {
      "text/plain": [
       "array([2, 3, 4])"
      ]
     },
     "execution_count": 3,
     "metadata": {},
     "output_type": "execute_result"
    }
   ],
   "source": [
    "a+1 ## [1,2,3]+1=[2,3,4]"
   ]
  },
  {
   "cell_type": "code",
   "execution_count": 4,
   "id": "45628625-3ff6-4c2a-af44-fb172fd243a5",
   "metadata": {},
   "outputs": [
    {
     "ename": "TypeError",
     "evalue": "can only concatenate list (not \"int\") to list",
     "output_type": "error",
     "traceback": [
      "\u001b[0;31m---------------------------------------------------------------------------\u001b[0m",
      "\u001b[0;31mTypeError\u001b[0m                                 Traceback (most recent call last)",
      "Input \u001b[0;32mIn [4]\u001b[0m, in \u001b[0;36m<cell line: 1>\u001b[0;34m()\u001b[0m\n\u001b[0;32m----> 1\u001b[0m \u001b[43ml\u001b[49m\u001b[38;5;241;43m+\u001b[39;49m\u001b[38;5;241;43m1\u001b[39;49m\n",
      "\u001b[0;31mTypeError\u001b[0m: can only concatenate list (not \"int\") to list"
     ]
    }
   ],
   "source": [
    "l+1 #list는 브로드캐스팅 불가"
   ]
  },
  {
   "cell_type": "code",
   "execution_count": 5,
   "id": "1ecb8c68-d3c9-47e2-a685-5b1b0a4598b1",
   "metadata": {},
   "outputs": [
    {
     "data": {
      "text/plain": [
       "array([2, 4, 6])"
      ]
     },
     "execution_count": 5,
     "metadata": {},
     "output_type": "execute_result"
    }
   ],
   "source": [
    "a*2"
   ]
  },
  {
   "cell_type": "code",
   "execution_count": 6,
   "id": "50a1c48c-626b-402c-8683-77b62e3525ff",
   "metadata": {},
   "outputs": [
    {
     "data": {
      "text/plain": [
       "[1, 2, 3, 1, 2, 3]"
      ]
     },
     "execution_count": 6,
     "metadata": {},
     "output_type": "execute_result"
    }
   ],
   "source": [
    "l*2"
   ]
  },
  {
   "cell_type": "code",
   "execution_count": 7,
   "id": "03529bae-00de-429e-8edc-153959124ab1",
   "metadata": {},
   "outputs": [
    {
     "data": {
      "text/plain": [
       "array([0.5, 1. , 1.5])"
      ]
     },
     "execution_count": 7,
     "metadata": {},
     "output_type": "execute_result"
    }
   ],
   "source": [
    "a/2"
   ]
  },
  {
   "cell_type": "code",
   "execution_count": 8,
   "id": "ca7c1908-8370-454b-80d2-0d7e630ca409",
   "metadata": {},
   "outputs": [
    {
     "ename": "TypeError",
     "evalue": "unsupported operand type(s) for /: 'list' and 'int'",
     "output_type": "error",
     "traceback": [
      "\u001b[0;31m---------------------------------------------------------------------------\u001b[0m",
      "\u001b[0;31mTypeError\u001b[0m                                 Traceback (most recent call last)",
      "Input \u001b[0;32mIn [8]\u001b[0m, in \u001b[0;36m<cell line: 1>\u001b[0;34m()\u001b[0m\n\u001b[0;32m----> 1\u001b[0m \u001b[43ml\u001b[49m\u001b[38;5;241;43m/\u001b[39;49m\u001b[38;5;241;43m2\u001b[39;49m\n",
      "\u001b[0;31mTypeError\u001b[0m: unsupported operand type(s) for /: 'list' and 'int'"
     ]
    }
   ],
   "source": [
    "l/2"
   ]
  },
  {
   "cell_type": "code",
   "execution_count": 9,
   "id": "199b956e-b95d-4bf7-bf96-f47fa46aa234",
   "metadata": {},
   "outputs": [
    {
     "data": {
      "text/plain": [
       "array([1, 4, 9])"
      ]
     },
     "execution_count": 9,
     "metadata": {},
     "output_type": "execute_result"
    }
   ],
   "source": [
    "a**2"
   ]
  },
  {
   "cell_type": "code",
   "execution_count": 10,
   "id": "98e73aef-c543-413b-9b88-0108594899fd",
   "metadata": {},
   "outputs": [
    {
     "ename": "TypeError",
     "evalue": "unsupported operand type(s) for ** or pow(): 'list' and 'int'",
     "output_type": "error",
     "traceback": [
      "\u001b[0;31m---------------------------------------------------------------------------\u001b[0m",
      "\u001b[0;31mTypeError\u001b[0m                                 Traceback (most recent call last)",
      "Input \u001b[0;32mIn [10]\u001b[0m, in \u001b[0;36m<cell line: 1>\u001b[0;34m()\u001b[0m\n\u001b[0;32m----> 1\u001b[0m \u001b[43ml\u001b[49m\u001b[38;5;241;43m*\u001b[39;49m\u001b[38;5;241;43m*\u001b[39;49m\u001b[38;5;241;43m2\u001b[39;49m\n",
      "\u001b[0;31mTypeError\u001b[0m: unsupported operand type(s) for ** or pow(): 'list' and 'int'"
     ]
    }
   ],
   "source": [
    "l**2"
   ]
  },
  {
   "cell_type": "code",
   "execution_count": 11,
   "id": "6f006c4a-a1fe-4de2-a236-911985a7be26",
   "metadata": {},
   "outputs": [
    {
     "data": {
      "text/plain": [
       "array([1, 0, 1])"
      ]
     },
     "execution_count": 11,
     "metadata": {},
     "output_type": "execute_result"
    }
   ],
   "source": [
    "a%2"
   ]
  },
  {
   "cell_type": "code",
   "execution_count": 12,
   "id": "8fd3c08a-4f46-48de-9c8f-37e2da19d101",
   "metadata": {},
   "outputs": [
    {
     "ename": "TypeError",
     "evalue": "unsupported operand type(s) for %: 'list' and 'int'",
     "output_type": "error",
     "traceback": [
      "\u001b[0;31m---------------------------------------------------------------------------\u001b[0m",
      "\u001b[0;31mTypeError\u001b[0m                                 Traceback (most recent call last)",
      "Input \u001b[0;32mIn [12]\u001b[0m, in \u001b[0;36m<cell line: 1>\u001b[0;34m()\u001b[0m\n\u001b[0;32m----> 1\u001b[0m \u001b[43ml\u001b[49m\u001b[38;5;241;43m%\u001b[39;49m\u001b[38;5;241;43m2\u001b[39;49m\n",
      "\u001b[0;31mTypeError\u001b[0m: unsupported operand type(s) for %: 'list' and 'int'"
     ]
    }
   ],
   "source": [
    "l%2"
   ]
  },
  {
   "cell_type": "markdown",
   "id": "ee8b59ee-ac37-4b77-a2ab-747c3ca13f1a",
   "metadata": {},
   "source": [
    "기타 수학연산 지원 (루트,로그,sin,cos)"
   ]
  },
  {
   "cell_type": "code",
   "execution_count": 15,
   "id": "48d318c1-8f75-4593-a8e9-9fe97b3ac52f",
   "metadata": {},
   "outputs": [
    {
     "data": {
      "text/plain": [
       "(array([1.        , 1.41421356, 1.73205081]),\n",
       " array([1.        , 1.41421356, 1.73205081]))"
      ]
     },
     "execution_count": 15,
     "metadata": {},
     "output_type": "execute_result"
    }
   ],
   "source": [
    "np.sqrt(a), np.sqrt(l)"
   ]
  },
  {
   "cell_type": "code",
   "execution_count": 16,
   "id": "d3e2cc3e-85cf-4dbc-bc19-2bb7701db268",
   "metadata": {},
   "outputs": [
    {
     "data": {
      "text/plain": [
       "(array([0.        , 0.69314718, 1.09861229]),\n",
       " array([0.        , 0.69314718, 1.09861229]))"
      ]
     },
     "execution_count": 16,
     "metadata": {},
     "output_type": "execute_result"
    }
   ],
   "source": [
    "np.log(a),np.log(l)"
   ]
  },
  {
   "cell_type": "code",
   "execution_count": 17,
   "id": "75d325d4-0b10-434f-9ac1-86c086fef92e",
   "metadata": {},
   "outputs": [
    {
     "data": {
      "text/plain": [
       "(array([ 2.71828183,  7.3890561 , 20.08553692]),\n",
       " array([0.        , 0.69314718, 1.09861229]))"
      ]
     },
     "execution_count": 17,
     "metadata": {},
     "output_type": "execute_result"
    }
   ],
   "source": [
    "np.exp(a),np.log(l)"
   ]
  },
  {
   "cell_type": "code",
   "execution_count": 19,
   "id": "01d850a0-5b8d-4f42-a021-d0805a97e0e3",
   "metadata": {},
   "outputs": [
    {
     "data": {
      "text/plain": [
       "(array([0.84147098, 0.90929743, 0.14112001]),\n",
       " array([0.84147098, 0.90929743, 0.14112001]))"
      ]
     },
     "execution_count": 19,
     "metadata": {},
     "output_type": "execute_result"
    }
   ],
   "source": [
    "np.sin(a),np.sin(l)"
   ]
  },
  {
   "cell_type": "markdown",
   "id": "84143811-939f-4b38-8104-63c144044bb6",
   "metadata": {},
   "source": [
    "### 넘파이 공부 2단계"
   ]
  },
  {
   "cell_type": "markdown",
   "id": "541a4ac3-f99b-469b-9ea2-46c2e1f98332",
   "metadata": {},
   "source": [
    "#### 인덱싱 1차원"
   ]
  },
  {
   "cell_type": "markdown",
   "id": "e1b93294-7214-49bd-a80e-d018641c7374",
   "metadata": {},
   "source": [
    "`-` 선언"
   ]
  },
  {
   "cell_type": "code",
   "execution_count": 21,
   "id": "375c73e4-2c38-4e3a-bd0a-87a977e0cbfb",
   "metadata": {},
   "outputs": [],
   "source": [
    "l=[11,22,33,44,55,66]\n",
    "a=np.array(l)"
   ]
  },
  {
   "cell_type": "markdown",
   "id": "71e02f29-8382-428c-8064-525ad8b097fb",
   "metadata": {},
   "source": [
    "`-` 인덱스로 접근"
   ]
  },
  {
   "cell_type": "code",
   "execution_count": 23,
   "id": "13ac209a-1f67-4586-85e0-0bf7d03ee2cb",
   "metadata": {},
   "outputs": [
    {
     "data": {
      "text/plain": [
       "(11, 22, 33, 44, 55, 66)"
      ]
     },
     "execution_count": 23,
     "metadata": {},
     "output_type": "execute_result"
    }
   ],
   "source": [
    "l[0],l[1],l[2],l[3],l[-2],l[-1]"
   ]
  },
  {
   "cell_type": "code",
   "execution_count": 24,
   "id": "656a540a-ea59-4fe3-bdeb-bea2ba341240",
   "metadata": {},
   "outputs": [
    {
     "data": {
      "text/plain": [
       "(11, 22, 33, 44, 55, 66)"
      ]
     },
     "execution_count": 24,
     "metadata": {},
     "output_type": "execute_result"
    }
   ],
   "source": [
    "a[0],a[1],a[2],a[3],a[-2],a[-1]"
   ]
  },
  {
   "cell_type": "markdown",
   "id": "f5c68b79-a61f-42c2-a3bf-033c9ebb1542",
   "metadata": {},
   "source": [
    "`-` `:` 이용 (슬라이싱)"
   ]
  },
  {
   "cell_type": "code",
   "execution_count": 25,
   "id": "394d1bf8-6a7e-48d6-80f5-d59f28fcce19",
   "metadata": {},
   "outputs": [
    {
     "data": {
      "text/plain": [
       "[33, 44]"
      ]
     },
     "execution_count": 25,
     "metadata": {},
     "output_type": "execute_result"
    }
   ],
   "source": [
    "l[2:4]"
   ]
  },
  {
   "cell_type": "code",
   "execution_count": 26,
   "id": "2368a4b9-d862-497a-8be4-9c0cbd4e37bd",
   "metadata": {},
   "outputs": [
    {
     "data": {
      "text/plain": [
       "array([33, 44])"
      ]
     },
     "execution_count": 26,
     "metadata": {},
     "output_type": "execute_result"
    }
   ],
   "source": [
    "a[2:4]"
   ]
  },
  {
   "cell_type": "markdown",
   "id": "a41931f7-f04f-49a2-bfd1-95f0cb124ab5",
   "metadata": {},
   "source": [
    "`-` 정수배열에 의한 인덱싱"
   ]
  },
  {
   "cell_type": "code",
   "execution_count": 27,
   "id": "adb07521-c9c6-4a71-ac29-5e3bd7c41bde",
   "metadata": {},
   "outputs": [
    {
     "data": {
      "text/plain": [
       "array([11, 33, 55])"
      ]
     },
     "execution_count": 27,
     "metadata": {},
     "output_type": "execute_result"
    }
   ],
   "source": [
    "a[[0,2,4]] #index=0,index=2,index=4에 해당하는 원소를 뽑고 싶음"
   ]
  },
  {
   "cell_type": "code",
   "execution_count": 29,
   "id": "795516a0-6d5e-45a8-910f-08ebf0fdaf81",
   "metadata": {},
   "outputs": [
    {
     "ename": "TypeError",
     "evalue": "list indices must be integers or slices, not list",
     "output_type": "error",
     "traceback": [
      "\u001b[0;31m---------------------------------------------------------------------------\u001b[0m",
      "\u001b[0;31mTypeError\u001b[0m                                 Traceback (most recent call last)",
      "Input \u001b[0;32mIn [29]\u001b[0m, in \u001b[0;36m<cell line: 1>\u001b[0;34m()\u001b[0m\n\u001b[0;32m----> 1\u001b[0m \u001b[43ml\u001b[49m\u001b[43m[\u001b[49m\u001b[43m[\u001b[49m\u001b[38;5;241;43m0\u001b[39;49m\u001b[43m,\u001b[49m\u001b[38;5;241;43m2\u001b[39;49m\u001b[43m,\u001b[49m\u001b[38;5;241;43m4\u001b[39;49m\u001b[43m]\u001b[49m\u001b[43m]\u001b[49m\n",
      "\u001b[0;31mTypeError\u001b[0m: list indices must be integers or slices, not list"
     ]
    }
   ],
   "source": [
    "l[[0,2,4]] #리스트는 불가능"
   ]
  },
  {
   "cell_type": "markdown",
   "id": "8eb08a8f-80e6-4373-a461-830b37f32117",
   "metadata": {},
   "source": [
    "`-` bool값에 의한 인덱싱"
   ]
  },
  {
   "cell_type": "code",
   "execution_count": 30,
   "id": "b06233d3-adca-4c84-9a6f-4194d04d2e2f",
   "metadata": {},
   "outputs": [
    {
     "data": {
      "text/plain": [
       "array([11, 33, 55])"
      ]
     },
     "execution_count": 30,
     "metadata": {},
     "output_type": "execute_result"
    }
   ],
   "source": [
    "a[[True,False,True,False,True,False]]"
   ]
  },
  {
   "cell_type": "code",
   "execution_count": 31,
   "id": "51a7e88f-c32b-4cd0-8c36-1419f40089fc",
   "metadata": {},
   "outputs": [
    {
     "data": {
      "text/plain": [
       "array([ True,  True, False, False, False, False])"
      ]
     },
     "execution_count": 31,
     "metadata": {},
     "output_type": "execute_result"
    }
   ],
   "source": [
    "a<33"
   ]
  },
  {
   "cell_type": "code",
   "execution_count": 32,
   "id": "1d9f4240-10fb-41aa-be15-80585b0dd9cc",
   "metadata": {},
   "outputs": [
    {
     "data": {
      "text/plain": [
       "array([11, 22])"
      ]
     },
     "execution_count": 32,
     "metadata": {},
     "output_type": "execute_result"
    }
   ],
   "source": [
    "a[a<33]"
   ]
  },
  {
   "cell_type": "code",
   "execution_count": 33,
   "id": "60a1a12e-bb77-4491-b6f3-4d97493d8c43",
   "metadata": {},
   "outputs": [
    {
     "ename": "TypeError",
     "evalue": "'<' not supported between instances of 'list' and 'int'",
     "output_type": "error",
     "traceback": [
      "\u001b[0;31m---------------------------------------------------------------------------\u001b[0m",
      "\u001b[0;31mTypeError\u001b[0m                                 Traceback (most recent call last)",
      "Input \u001b[0;32mIn [33]\u001b[0m, in \u001b[0;36m<cell line: 1>\u001b[0;34m()\u001b[0m\n\u001b[0;32m----> 1\u001b[0m \u001b[43ml\u001b[49m\u001b[38;5;241;43m<\u001b[39;49m\u001b[38;5;241;43m33\u001b[39;49m\n",
      "\u001b[0;31mTypeError\u001b[0m: '<' not supported between instances of 'list' and 'int'"
     ]
    }
   ],
   "source": [
    "l<33 #리스트는 불가능"
   ]
  },
  {
   "cell_type": "markdown",
   "id": "ebf3b93a-7677-4482-8132-8ce238a26a0a",
   "metadata": {},
   "source": [
    "#### 인덱싱 2차원"
   ]
  },
  {
   "cell_type": "markdown",
   "id": "f2b8f6d8-1d33-47f5-a47b-5bd24d8543b0",
   "metadata": {},
   "source": [
    "`-` 중첩리스트와 2차원 np.array 선언"
   ]
  },
  {
   "cell_type": "code",
   "execution_count": 34,
   "id": "2c01a1a5-c9fe-4014-b1e1-4c551bf0d999",
   "metadata": {},
   "outputs": [],
   "source": [
    "A=[[1,2,3,4],[-1,-2,-3,-4],[5,6,7,8],[-5,-6,-7,-8]]\n",
    "A2=np.array(A)"
   ]
  },
  {
   "cell_type": "code",
   "execution_count": 35,
   "id": "96ee7883-7f5f-497d-b7f0-63998e7bfdf5",
   "metadata": {},
   "outputs": [
    {
     "data": {
      "text/plain": [
       "array([[ 1,  2,  3,  4],\n",
       "       [-1, -2, -3, -4],\n",
       "       [ 5,  6,  7,  8],\n",
       "       [-5, -6, -7, -8]])"
      ]
     },
     "execution_count": 35,
     "metadata": {},
     "output_type": "execute_result"
    }
   ],
   "source": [
    "A2"
   ]
  },
  {
   "cell_type": "code",
   "execution_count": 36,
   "id": "1d30790e-8617-48b1-bd52-decfd91302db",
   "metadata": {},
   "outputs": [
    {
     "data": {
      "text/plain": [
       "[[1, 2, 3, 4], [-1, -2, -3, -4], [5, 6, 7, 8], [-5, -6, -7, -8]]"
      ]
     },
     "execution_count": 36,
     "metadata": {},
     "output_type": "execute_result"
    }
   ],
   "source": [
    "A"
   ]
  },
  {
   "cell_type": "markdown",
   "id": "063f9baf-90b4-4199-821f-0764067aa28d",
   "metadata": {},
   "source": [
    "`-` A의 원소 인덱싱"
   ]
  },
  {
   "cell_type": "code",
   "execution_count": 37,
   "id": "727ce89c-52c8-4a3f-bc98-e0006b8d7345",
   "metadata": {},
   "outputs": [
    {
     "data": {
      "text/plain": [
       "1"
      ]
     },
     "execution_count": 37,
     "metadata": {},
     "output_type": "execute_result"
    }
   ],
   "source": [
    "A[0][0] #(1,1)"
   ]
  },
  {
   "cell_type": "code",
   "execution_count": 38,
   "id": "7f8a603f-4141-4193-911b-cadedc3b7e7d",
   "metadata": {},
   "outputs": [
    {
     "data": {
      "text/plain": [
       "-3"
      ]
     },
     "execution_count": 38,
     "metadata": {},
     "output_type": "execute_result"
    }
   ],
   "source": [
    "A[1][2] #(2,3)"
   ]
  },
  {
   "cell_type": "code",
   "execution_count": 40,
   "id": "03a24788-c87f-4e4d-baa8-bb238b2ffd64",
   "metadata": {},
   "outputs": [
    {
     "data": {
      "text/plain": [
       "-5"
      ]
     },
     "execution_count": 40,
     "metadata": {},
     "output_type": "execute_result"
    }
   ],
   "source": [
    "A[-1][0] #(4,1)"
   ]
  },
  {
   "cell_type": "markdown",
   "id": "9d248b2b-2f01-4d78-a48d-452454404d66",
   "metadata": {},
   "source": [
    "`-` A2의 원소 인덱싱"
   ]
  },
  {
   "cell_type": "code",
   "execution_count": 41,
   "id": "ec1626b0-3229-4507-b9ad-371f13d4e5ae",
   "metadata": {},
   "outputs": [
    {
     "data": {
      "text/plain": [
       "1"
      ]
     },
     "execution_count": 41,
     "metadata": {},
     "output_type": "execute_result"
    }
   ],
   "source": [
    "A2[0][0]"
   ]
  },
  {
   "cell_type": "code",
   "execution_count": 42,
   "id": "2c17d633-8953-4571-946d-bcb23dc3b7ef",
   "metadata": {},
   "outputs": [
    {
     "data": {
      "text/plain": [
       "-3"
      ]
     },
     "execution_count": 42,
     "metadata": {},
     "output_type": "execute_result"
    }
   ],
   "source": [
    "A2[1][2]"
   ]
  },
  {
   "cell_type": "code",
   "execution_count": 43,
   "id": "38cccb6f-2cf4-42f1-b79b-0557f686f718",
   "metadata": {},
   "outputs": [
    {
     "data": {
      "text/plain": [
       "-5"
      ]
     },
     "execution_count": 43,
     "metadata": {},
     "output_type": "execute_result"
    }
   ],
   "source": [
    "A2[-1][0]"
   ]
  },
  {
   "cell_type": "markdown",
   "id": "56a37b6f-9940-418f-82d1-834311313dec",
   "metadata": {},
   "source": [
    "`-` A2 즉, numpy에서만 되는 기술 "
   ]
  },
  {
   "cell_type": "code",
   "execution_count": 45,
   "id": "077fc8a5-64b7-42b0-805f-7880cbbf09a0",
   "metadata": {},
   "outputs": [
    {
     "data": {
      "text/plain": [
       "1"
      ]
     },
     "execution_count": 45,
     "metadata": {},
     "output_type": "execute_result"
    }
   ],
   "source": [
    "A2[0,0]"
   ]
  },
  {
   "cell_type": "code",
   "execution_count": 46,
   "id": "8991ddd8-6aa2-49af-a4df-1b77b971a5bd",
   "metadata": {},
   "outputs": [
    {
     "data": {
      "text/plain": [
       "-3"
      ]
     },
     "execution_count": 46,
     "metadata": {},
     "output_type": "execute_result"
    }
   ],
   "source": [
    "A2[1,2]"
   ]
  },
  {
   "cell_type": "code",
   "execution_count": 47,
   "id": "328e9761-f2ad-493f-80aa-7c84454fbadc",
   "metadata": {},
   "outputs": [
    {
     "data": {
      "text/plain": [
       "-5"
      ]
     },
     "execution_count": 47,
     "metadata": {},
     "output_type": "execute_result"
    }
   ],
   "source": [
    "A2[-1,0]"
   ]
  },
  {
   "cell_type": "markdown",
   "id": "62e0f5f2-8c39-4bd6-961c-05a4d13e9c78",
   "metadata": {},
   "source": [
    "`-` 정수배열에 의한 인덱싱 & 슬라이싱!"
   ]
  },
  {
   "cell_type": "code",
   "execution_count": 48,
   "id": "0e385122-4748-4479-875f-2a0cdd9d10f3",
   "metadata": {},
   "outputs": [
    {
     "data": {
      "text/plain": [
       "array([[ 1,  2,  3,  4],\n",
       "       [-1, -2, -3, -4],\n",
       "       [ 5,  6,  7,  8],\n",
       "       [-5, -6, -7, -8]])"
      ]
     },
     "execution_count": 48,
     "metadata": {},
     "output_type": "execute_result"
    }
   ],
   "source": [
    "A2"
   ]
  },
  {
   "cell_type": "code",
   "execution_count": 49,
   "id": "da23bb7c-7d9a-4508-8108-2b39cbc4af0c",
   "metadata": {},
   "outputs": [
    {
     "data": {
      "text/plain": [
       "array([1, 2])"
      ]
     },
     "execution_count": 49,
     "metadata": {},
     "output_type": "execute_result"
    }
   ],
   "source": [
    "A2[0,0:2] #1행1열, 1행2열"
   ]
  },
  {
   "cell_type": "code",
   "execution_count": 50,
   "id": "0a9ff07b-d843-48f7-a7f2-8e84c3e46676",
   "metadata": {},
   "outputs": [
    {
     "data": {
      "text/plain": [
       "array([1, 2, 3, 4])"
      ]
     },
     "execution_count": 50,
     "metadata": {},
     "output_type": "execute_result"
    }
   ],
   "source": [
    "A2[0,:] #1행"
   ]
  },
  {
   "cell_type": "code",
   "execution_count": 51,
   "id": "07b982fe-0aab-4879-b4a1-ed70839c044b",
   "metadata": {},
   "outputs": [
    {
     "data": {
      "text/plain": [
       "array([1, 2, 3, 4])"
      ]
     },
     "execution_count": 51,
     "metadata": {},
     "output_type": "execute_result"
    }
   ],
   "source": [
    "A2[0] #1행"
   ]
  },
  {
   "cell_type": "code",
   "execution_count": 53,
   "id": "ebce3208-0ad9-4dd9-b41f-2f8670795e3a",
   "metadata": {},
   "outputs": [
    {
     "data": {
      "text/plain": [
       "array([[1, 2, 3, 4],\n",
       "       [5, 6, 7, 8]])"
      ]
     },
     "execution_count": 53,
     "metadata": {},
     "output_type": "execute_result"
    }
   ],
   "source": [
    "A2[[0,2],:] #1행, 3행"
   ]
  },
  {
   "cell_type": "code",
   "execution_count": 54,
   "id": "5d1ca62c-b367-42c7-96ca-7df84716ca4d",
   "metadata": {},
   "outputs": [
    {
     "data": {
      "text/plain": [
       "array([ 1, -1,  5, -5])"
      ]
     },
     "execution_count": 54,
     "metadata": {},
     "output_type": "execute_result"
    }
   ],
   "source": [
    "A2[:,0] #1열"
   ]
  },
  {
   "cell_type": "code",
   "execution_count": 55,
   "id": "6c3ce40d-04ae-4f1f-be48-3e5bc7614281",
   "metadata": {},
   "outputs": [
    {
     "data": {
      "text/plain": [
       "array([[ 1],\n",
       "       [-1],\n",
       "       [ 5],\n",
       "       [-5]])"
      ]
     },
     "execution_count": 55,
     "metadata": {},
     "output_type": "execute_result"
    }
   ],
   "source": [
    "A2[:,[0]] #1열"
   ]
  },
  {
   "cell_type": "code",
   "execution_count": 56,
   "id": "22543343-05b4-4676-bb45-0e0340f2f599",
   "metadata": {},
   "outputs": [
    {
     "data": {
      "text/plain": [
       "array([[ 1,  3],\n",
       "       [-1, -3],\n",
       "       [ 5,  7],\n",
       "       [-5, -7]])"
      ]
     },
     "execution_count": 56,
     "metadata": {},
     "output_type": "execute_result"
    }
   ],
   "source": [
    "A2[:,[0,2]] # 1열, 3열"
   ]
  },
  {
   "cell_type": "code",
   "execution_count": 57,
   "id": "2b2fbd9d-c3ab-4fdb-88f2-06e12d5e0a84",
   "metadata": {},
   "outputs": [
    {
     "data": {
      "text/plain": [
       "array([[ 1,  3],\n",
       "       [-1, -3]])"
      ]
     },
     "execution_count": 57,
     "metadata": {},
     "output_type": "execute_result"
    }
   ],
   "source": [
    "A2[0:2,[0,2]] #1행~2행 // 1열, 3열"
   ]
  },
  {
   "cell_type": "markdown",
   "id": "52572769-c535-4840-b3ac-af723e912cb1",
   "metadata": {},
   "source": [
    "#### 1차원 배열의 선언\n",
    "\n",
    "`-` 리스트나 튜플을 선언하고 형변환"
   ]
  },
  {
   "cell_type": "code",
   "execution_count": 59,
   "id": "c33338b4-4d9d-4c1c-9c15-690246f11325",
   "metadata": {},
   "outputs": [
    {
     "data": {
      "text/plain": [
       "array([1, 2, 3])"
      ]
     },
     "execution_count": 59,
     "metadata": {},
     "output_type": "execute_result"
    }
   ],
   "source": [
    "np.array((1,2,3)) #tuple->numpy array"
   ]
  },
  {
   "cell_type": "code",
   "execution_count": 61,
   "id": "08c0519b-06a3-4c17-b9b1-2230aca040bb",
   "metadata": {},
   "outputs": [
    {
     "data": {
      "text/plain": [
       "array([1, 2, 3])"
      ]
     },
     "execution_count": 61,
     "metadata": {},
     "output_type": "execute_result"
    }
   ],
   "source": [
    "np.array([1,2,3]) #list->numpy array"
   ]
  },
  {
   "cell_type": "markdown",
   "id": "8a8b44b7-2b81-4662-9a58-d0cca176798c",
   "metadata": {},
   "source": [
    "`-` range()를 이용해서 선언하고 형변환"
   ]
  },
  {
   "cell_type": "code",
   "execution_count": 62,
   "id": "af7326e4-cf44-41d4-989b-fe4d3b4b5fc9",
   "metadata": {},
   "outputs": [
    {
     "data": {
      "text/plain": [
       "array([0, 1, 2, 3, 4, 5, 6, 7, 8, 9])"
      ]
     },
     "execution_count": 62,
     "metadata": {},
     "output_type": "execute_result"
    }
   ],
   "source": [
    "np.array(range(10)) #range(10) -> numpy array"
   ]
  },
  {
   "cell_type": "markdown",
   "id": "c0b6d6d9-b03c-4a2d-9c40-226666c2dbbe",
   "metadata": {},
   "source": [
    "`-` np.zeros, np.ones"
   ]
  },
  {
   "cell_type": "code",
   "execution_count": 63,
   "id": "03973a7e-e297-455d-a787-ead38ffb91a8",
   "metadata": {},
   "outputs": [
    {
     "data": {
      "text/plain": [
       "array([0., 0., 0.])"
      ]
     },
     "execution_count": 63,
     "metadata": {},
     "output_type": "execute_result"
    }
   ],
   "source": [
    "np.zeros(3)"
   ]
  },
  {
   "cell_type": "code",
   "execution_count": 64,
   "id": "ab7ea41e-78de-4ce7-88fb-469f9d40791c",
   "metadata": {},
   "outputs": [
    {
     "data": {
      "text/plain": [
       "array([1., 1., 1., 1.])"
      ]
     },
     "execution_count": 64,
     "metadata": {},
     "output_type": "execute_result"
    }
   ],
   "source": [
    "np.ones(4)"
   ]
  },
  {
   "cell_type": "markdown",
   "id": "9e7a9d7a-5fbb-4cec-9f5d-fdbad450d875",
   "metadata": {},
   "source": [
    "`-` np.linspace"
   ]
  },
  {
   "cell_type": "code",
   "execution_count": 65,
   "id": "67efccf5-bfe9-4e5e-a740-3d848af87884",
   "metadata": {},
   "outputs": [
    {
     "data": {
      "text/plain": [
       "array([0.        , 0.09090909, 0.18181818, 0.27272727, 0.36363636,\n",
       "       0.45454545, 0.54545455, 0.63636364, 0.72727273, 0.81818182,\n",
       "       0.90909091, 1.        ])"
      ]
     },
     "execution_count": 65,
     "metadata": {},
     "output_type": "execute_result"
    }
   ],
   "source": [
    "np.linspace(0,1,12) #0에서 시작하고 1에서 끝남 (양끝넘 모두 포함)"
   ]
  },
  {
   "cell_type": "code",
   "execution_count": 66,
   "id": "d47ad45b-a431-4bfb-b81e-faa4b6273c44",
   "metadata": {},
   "outputs": [
    {
     "data": {
      "text/plain": [
       "12"
      ]
     },
     "execution_count": 66,
     "metadata": {},
     "output_type": "execute_result"
    }
   ],
   "source": [
    "len(np.linspace(0,1,12)) "
   ]
  },
  {
   "cell_type": "markdown",
   "id": "cdd5bc00-8690-48a5-ba86-8894969acc59",
   "metadata": {},
   "source": [
    "`-` np.arrange"
   ]
  },
  {
   "cell_type": "code",
   "execution_count": 68,
   "id": "3ff9ef2c-5469-42f5-9881-4b2f4971f75e",
   "metadata": {},
   "outputs": [
    {
     "data": {
      "text/plain": [
       "array([0, 1, 2, 3, 4])"
      ]
     },
     "execution_count": 68,
     "metadata": {},
     "output_type": "execute_result"
    }
   ],
   "source": [
    "np.arange(5) #np.array(range(5))"
   ]
  },
  {
   "cell_type": "code",
   "execution_count": 69,
   "id": "fc8dc1db-4ada-4260-ba15-db0bb3b8fa62",
   "metadata": {},
   "outputs": [
    {
     "data": {
      "text/plain": [
       "array([1, 2, 3, 4, 5])"
      ]
     },
     "execution_count": 69,
     "metadata": {},
     "output_type": "execute_result"
    }
   ],
   "source": [
    "np.arange(1,6) #np.array(range(1,6))"
   ]
  },
  {
   "cell_type": "markdown",
   "id": "4f4ae56f-58f1-4c69-8164-4f9cd8307cad",
   "metadata": {},
   "source": [
    "#### reshape"
   ]
  },
  {
   "cell_type": "code",
   "execution_count": 70,
   "id": "84c2a09f-cc1e-469f-8f81-2a62513b2090",
   "metadata": {},
   "outputs": [
    {
     "data": {
      "text/plain": [
       "array([11, 22, 33, 44, 55, 66])"
      ]
     },
     "execution_count": 70,
     "metadata": {},
     "output_type": "execute_result"
    }
   ],
   "source": [
    "a=np.array([11,22,33,44,55,66])\n",
    "a ##길이 6인 벡터"
   ]
  },
  {
   "cell_type": "code",
   "execution_count": 71,
   "id": "2ce99653-fff3-4f8d-b76f-9cf07afda420",
   "metadata": {},
   "outputs": [
    {
     "data": {
      "text/plain": [
       "array([[11, 22, 33],\n",
       "       [44, 55, 66]])"
      ]
     },
     "execution_count": 71,
     "metadata": {},
     "output_type": "execute_result"
    }
   ],
   "source": [
    "a.reshape(2,3) #(2,3)인 matrix라 생각해도 무방"
   ]
  },
  {
   "cell_type": "markdown",
   "id": "06e0bc8c-41a3-469e-92d0-396f5c09270b",
   "metadata": {},
   "source": [
    "> reshape은 a자체를 변화시키는 것은 아님"
   ]
  },
  {
   "cell_type": "code",
   "execution_count": 72,
   "id": "55716510-a9d9-45ba-9d06-45d2e809c9ea",
   "metadata": {},
   "outputs": [
    {
     "data": {
      "text/plain": [
       "array([11, 22, 33, 44, 55, 66])"
      ]
     },
     "execution_count": 72,
     "metadata": {},
     "output_type": "execute_result"
    }
   ],
   "source": [
    "a #a는 그대로임"
   ]
  },
  {
   "cell_type": "code",
   "execution_count": 73,
   "id": "e132d2ec-d3ca-4ad1-973c-4c7dbc94a2a3",
   "metadata": {},
   "outputs": [
    {
     "data": {
      "text/plain": [
       "array([[11, 22, 33],\n",
       "       [44, 55, 66]])"
      ]
     },
     "execution_count": 73,
     "metadata": {},
     "output_type": "execute_result"
    }
   ],
   "source": [
    "b=a.reshape(2,3)\n",
    "b"
   ]
  },
  {
   "cell_type": "markdown",
   "id": "c0db83b7-c003-4eab-8ff5-f786709a34f8",
   "metadata": {},
   "source": [
    "`-` 다시 b를 a처럼 바꾸고 싶다"
   ]
  },
  {
   "cell_type": "code",
   "execution_count": 74,
   "id": "972c685f-fd54-454a-bffc-eb091f97822d",
   "metadata": {},
   "outputs": [
    {
     "data": {
      "text/plain": [
       "array([[11, 22, 33],\n",
       "       [44, 55, 66]])"
      ]
     },
     "execution_count": 74,
     "metadata": {},
     "output_type": "execute_result"
    }
   ],
   "source": [
    "b"
   ]
  },
  {
   "cell_type": "code",
   "execution_count": 75,
   "id": "92e247ab-ae67-4735-8272-9d00f697ac47",
   "metadata": {},
   "outputs": [
    {
     "data": {
      "text/plain": [
       "array([11, 22, 33, 44, 55, 66])"
      ]
     },
     "execution_count": 75,
     "metadata": {},
     "output_type": "execute_result"
    }
   ],
   "source": [
    "b.reshape(6) #(2,3) matrix -> 길이 6인 벡터"
   ]
  },
  {
   "cell_type": "markdown",
   "id": "13c1ff24-5fa9-4bbd-92fe-758a576eb49a",
   "metadata": {},
   "source": [
    "`-` reshape with -1"
   ]
  },
  {
   "cell_type": "code",
   "execution_count": 76,
   "id": "dc053d36-0263-4c18-8604-d28a72893380",
   "metadata": {},
   "outputs": [
    {
     "data": {
      "text/plain": [
       "array([ 0,  1,  2,  3,  4,  5,  6,  7,  8,  9, 10, 11, 12, 13, 14, 15, 16,\n",
       "       17, 18, 19, 20, 21, 22, 23])"
      ]
     },
     "execution_count": 76,
     "metadata": {},
     "output_type": "execute_result"
    }
   ],
   "source": [
    "a=np.arange(24)\n",
    "a"
   ]
  },
  {
   "cell_type": "code",
   "execution_count": 77,
   "id": "beae6854-fdf8-42e1-8b91-4889dfc59963",
   "metadata": {},
   "outputs": [
    {
     "data": {
      "text/plain": [
       "array([[ 0,  1,  2,  3,  4,  5,  6,  7,  8,  9, 10, 11],\n",
       "       [12, 13, 14, 15, 16, 17, 18, 19, 20, 21, 22, 23]])"
      ]
     },
     "execution_count": 77,
     "metadata": {},
     "output_type": "execute_result"
    }
   ],
   "source": [
    "a.reshape(2,-1)"
   ]
  },
  {
   "cell_type": "code",
   "execution_count": 78,
   "id": "0c253c20-908d-4840-b308-44a4d3fbc38f",
   "metadata": {},
   "outputs": [
    {
     "data": {
      "text/plain": [
       "array([[ 0,  1,  2,  3,  4,  5,  6,  7],\n",
       "       [ 8,  9, 10, 11, 12, 13, 14, 15],\n",
       "       [16, 17, 18, 19, 20, 21, 22, 23]])"
      ]
     },
     "execution_count": 78,
     "metadata": {},
     "output_type": "execute_result"
    }
   ],
   "source": [
    "a.reshape(3,-1)"
   ]
  },
  {
   "cell_type": "code",
   "execution_count": 79,
   "id": "84a4f8f6-7390-477e-a8fc-c801bceb96c0",
   "metadata": {},
   "outputs": [
    {
     "data": {
      "text/plain": [
       "array([[ 0,  1,  2,  3,  4,  5],\n",
       "       [ 6,  7,  8,  9, 10, 11],\n",
       "       [12, 13, 14, 15, 16, 17],\n",
       "       [18, 19, 20, 21, 22, 23]])"
      ]
     },
     "execution_count": 79,
     "metadata": {},
     "output_type": "execute_result"
    }
   ],
   "source": [
    "a.reshape(4,-1)"
   ]
  },
  {
   "cell_type": "code",
   "execution_count": 80,
   "id": "1e52da8d-5cb7-43cd-bac7-ee23cafe479e",
   "metadata": {},
   "outputs": [
    {
     "ename": "ValueError",
     "evalue": "cannot reshape array of size 24 into shape (5,newaxis)",
     "output_type": "error",
     "traceback": [
      "\u001b[0;31m---------------------------------------------------------------------------\u001b[0m",
      "\u001b[0;31mValueError\u001b[0m                                Traceback (most recent call last)",
      "Input \u001b[0;32mIn [80]\u001b[0m, in \u001b[0;36m<cell line: 1>\u001b[0;34m()\u001b[0m\n\u001b[0;32m----> 1\u001b[0m \u001b[43ma\u001b[49m\u001b[38;5;241;43m.\u001b[39;49m\u001b[43mreshape\u001b[49m\u001b[43m(\u001b[49m\u001b[38;5;241;43m5\u001b[39;49m\u001b[43m,\u001b[49m\u001b[38;5;241;43m-\u001b[39;49m\u001b[38;5;241;43m1\u001b[39;49m\u001b[43m)\u001b[49m\n",
      "\u001b[0;31mValueError\u001b[0m: cannot reshape array of size 24 into shape (5,newaxis)"
     ]
    }
   ],
   "source": [
    "a.reshape(5,-1)"
   ]
  },
  {
   "cell_type": "code",
   "execution_count": 81,
   "id": "8333d446-b673-49d0-80e6-246b443dad11",
   "metadata": {},
   "outputs": [
    {
     "data": {
      "text/plain": [
       "array([[ 0,  1],\n",
       "       [ 2,  3],\n",
       "       [ 4,  5],\n",
       "       [ 6,  7],\n",
       "       [ 8,  9],\n",
       "       [10, 11],\n",
       "       [12, 13],\n",
       "       [14, 15],\n",
       "       [16, 17],\n",
       "       [18, 19],\n",
       "       [20, 21],\n",
       "       [22, 23]])"
      ]
     },
     "execution_count": 81,
     "metadata": {},
     "output_type": "execute_result"
    }
   ],
   "source": [
    "a.reshape(12,-1)"
   ]
  },
  {
   "cell_type": "code",
   "execution_count": 82,
   "id": "1aefd472-80a3-404e-bf76-55c5f30df37e",
   "metadata": {},
   "outputs": [
    {
     "data": {
      "text/plain": [
       "array([[ 0,  1],\n",
       "       [ 2,  3],\n",
       "       [ 4,  5],\n",
       "       [ 6,  7],\n",
       "       [ 8,  9],\n",
       "       [10, 11],\n",
       "       [12, 13],\n",
       "       [14, 15],\n",
       "       [16, 17],\n",
       "       [18, 19],\n",
       "       [20, 21],\n",
       "       [22, 23]])"
      ]
     },
     "execution_count": 82,
     "metadata": {},
     "output_type": "execute_result"
    }
   ],
   "source": [
    "b=a.reshape(12,-1)\n",
    "b"
   ]
  },
  {
   "cell_type": "code",
   "execution_count": 83,
   "id": "f96615f2-276a-4d35-8ae9-4574fff50489",
   "metadata": {},
   "outputs": [
    {
     "data": {
      "text/plain": [
       "array([ 0,  1,  2,  3,  4,  5,  6,  7,  8,  9, 10, 11, 12, 13, 14, 15, 16,\n",
       "       17, 18, 19, 20, 21, 22, 23])"
      ]
     },
     "execution_count": 83,
     "metadata": {},
     "output_type": "execute_result"
    }
   ],
   "source": [
    "b.reshape(-1) #b를 다시 길이가 24인 벡터로!"
   ]
  },
  {
   "cell_type": "markdown",
   "id": "680b457f-e127-4501-8bfb-5346d7742f93",
   "metadata": {},
   "source": [
    "#### 2차원 배열의 선언"
   ]
  },
  {
   "cell_type": "code",
   "execution_count": 84,
   "id": "1afba9b5-c9a6-49e1-bc57-30f3f09cc69e",
   "metadata": {},
   "outputs": [
    {
     "data": {
      "text/plain": [
       "array([[0., 0., 0.],\n",
       "       [0., 0., 0.],\n",
       "       [0., 0., 0.]])"
      ]
     },
     "execution_count": 84,
     "metadata": {},
     "output_type": "execute_result"
    }
   ],
   "source": [
    "np.zeros((3,3))"
   ]
  },
  {
   "cell_type": "code",
   "execution_count": 85,
   "id": "ef02c299-49dd-4635-9e40-32c295b79f17",
   "metadata": {},
   "outputs": [
    {
     "data": {
      "text/plain": [
       "array([[1., 1., 1.],\n",
       "       [1., 1., 1.],\n",
       "       [1., 1., 1.]])"
      ]
     },
     "execution_count": 85,
     "metadata": {},
     "output_type": "execute_result"
    }
   ],
   "source": [
    "np.ones((3,3))"
   ]
  },
  {
   "cell_type": "code",
   "execution_count": 86,
   "id": "3c83706b-2550-42d1-ba94-bb6ed690fe88",
   "metadata": {},
   "outputs": [
    {
     "data": {
      "text/plain": [
       "array([[1., 0., 0.],\n",
       "       [0., 1., 0.],\n",
       "       [0., 0., 1.]])"
      ]
     },
     "execution_count": 86,
     "metadata": {},
     "output_type": "execute_result"
    }
   ],
   "source": [
    "np.eye(3)"
   ]
  },
  {
   "cell_type": "code",
   "execution_count": 87,
   "id": "d913d4fe-3b70-4e51-96bf-d66d9e0de2f0",
   "metadata": {},
   "outputs": [
    {
     "data": {
      "text/plain": [
       "array([[ 1,  0,  0,  0],\n",
       "       [ 0,  2,  0,  0],\n",
       "       [ 0,  0,  3,  0],\n",
       "       [ 0,  0,  0, -1]])"
      ]
     },
     "execution_count": 87,
     "metadata": {},
     "output_type": "execute_result"
    }
   ],
   "source": [
    "np.diag([1,2,3,-1])"
   ]
  },
  {
   "cell_type": "markdown",
   "id": "01006cff-c90f-4bd7-bb5f-9eb77fa6234c",
   "metadata": {},
   "source": [
    "랜덤으로 배열 생성"
   ]
  },
  {
   "cell_type": "code",
   "execution_count": 88,
   "id": "c3d9b39a-3fff-4b49-8108-37dd4e5091e8",
   "metadata": {},
   "outputs": [
    {
     "data": {
      "text/plain": [
       "array([ 0.64050501, -0.77307583,  0.09305379,  0.69274512,  1.99899153,\n",
       "        0.3779905 ,  0.53780081,  0.09507327,  0.90555149,  1.18217057])"
      ]
     },
     "execution_count": 88,
     "metadata": {},
     "output_type": "execute_result"
    }
   ],
   "source": [
    "np.random.randn(10) #표준정규분포에서 10개를 뽑음"
   ]
  },
  {
   "cell_type": "code",
   "execution_count": 89,
   "id": "5a73fe9a-9606-4870-a261-06ec65fdb287",
   "metadata": {},
   "outputs": [
    {
     "data": {
      "text/plain": [
       "array([0.61261792, 0.36564317, 0.88314963, 0.61544869, 0.61356166,\n",
       "       0.04958533, 0.04479986, 0.39979467, 0.51598939, 0.18707705])"
      ]
     },
     "execution_count": 89,
     "metadata": {},
     "output_type": "execute_result"
    }
   ],
   "source": [
    "np.random.rand(10) #0~1사이에서 10개를 뽑음"
   ]
  },
  {
   "cell_type": "code",
   "execution_count": 90,
   "id": "917b7735-c7ee-44cb-a149-69d5eb04d8d8",
   "metadata": {},
   "outputs": [
    {
     "data": {
      "text/plain": [
       "array([[-0.04726468, -1.54741047],\n",
       "       [ 1.25439987, -1.62358495]])"
      ]
     },
     "execution_count": 90,
     "metadata": {},
     "output_type": "execute_result"
    }
   ],
   "source": [
    "np.random.randn(4).reshape(2,2) #표준정규분포에서 4개를 뽑고 (2,2) ndarray로 형태변환"
   ]
  },
  {
   "cell_type": "code",
   "execution_count": 91,
   "id": "1a090c53-d97e-465d-8670-f40824ea7f97",
   "metadata": {},
   "outputs": [
    {
     "data": {
      "text/plain": [
       "array([[0.33327773, 0.76453317],\n",
       "       [0.50525275, 0.81001804]])"
      ]
     },
     "execution_count": 91,
     "metadata": {},
     "output_type": "execute_result"
    }
   ],
   "source": [
    "np.random.rand(4).reshape(2,2) #0~1에서 4개를 뽑고 (2,2) ndarray로 형태변환"
   ]
  },
  {
   "cell_type": "markdown",
   "id": "9cea6af0-4aba-405c-89ff-28fd80c45754",
   "metadata": {},
   "source": [
    "#### 행렬관련기능"
   ]
  },
  {
   "cell_type": "code",
   "execution_count": 94,
   "id": "e3782539-5823-44e2-af92-09c63cb9830b",
   "metadata": {},
   "outputs": [
    {
     "data": {
      "text/plain": [
       "array([[0, 1],\n",
       "       [2, 3]])"
      ]
     },
     "execution_count": 94,
     "metadata": {},
     "output_type": "execute_result"
    }
   ],
   "source": [
    "A=np.arange(4).reshape(2,2)\n",
    "A"
   ]
  },
  {
   "cell_type": "code",
   "execution_count": 95,
   "id": "1a22cc73-70ca-4fe5-b97b-f80084e75772",
   "metadata": {},
   "outputs": [
    {
     "data": {
      "text/plain": [
       "array([[0, 2],\n",
       "       [1, 3]])"
      ]
     },
     "execution_count": 95,
     "metadata": {},
     "output_type": "execute_result"
    }
   ],
   "source": [
    "A.T #T는 전치행렬"
   ]
  },
  {
   "cell_type": "code",
   "execution_count": 96,
   "id": "de2212f6-1759-4181-b053-fe491c6ce7e3",
   "metadata": {},
   "outputs": [
    {
     "data": {
      "text/plain": [
       "array([[-1.5,  0.5],\n",
       "       [ 1. ,  0. ]])"
      ]
     },
     "execution_count": 96,
     "metadata": {},
     "output_type": "execute_result"
    }
   ],
   "source": [
    "np.linalg.inv(A) #np.linalg.inv는 역행렬을 구해주는 함수"
   ]
  },
  {
   "cell_type": "code",
   "execution_count": 97,
   "id": "7d1bcec9-e8bd-42cb-ae7f-0200e86b4e14",
   "metadata": {},
   "outputs": [
    {
     "data": {
      "text/plain": [
       "array([[1., 0.],\n",
       "       [0., 1.]])"
      ]
     },
     "execution_count": 97,
     "metadata": {},
     "output_type": "execute_result"
    }
   ],
   "source": [
    "A @ np.linalg.inv(A) #@는 행렬 곱을 수행"
   ]
  },
  {
   "cell_type": "code",
   "execution_count": null,
   "id": "1102fac1-36b7-4e30-8e90-a590eac12dd5",
   "metadata": {},
   "outputs": [],
   "source": []
  }
 ],
 "metadata": {
  "kernelspec": {
   "display_name": "Python 3 (ipykernel)",
   "language": "python",
   "name": "python3"
  },
  "language_info": {
   "codemirror_mode": {
    "name": "ipython",
    "version": 3
   },
   "file_extension": ".py",
   "mimetype": "text/x-python",
   "name": "python",
   "nbconvert_exporter": "python",
   "pygments_lexer": "ipython3",
   "version": "3.9.7"
  }
 },
 "nbformat": 4,
 "nbformat_minor": 5
}
