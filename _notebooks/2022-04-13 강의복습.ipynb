{
 "cells": [
  {
   "cell_type": "markdown",
   "id": "c0bb9e81-216b-4c64-92e4-e2ade6f61686",
   "metadata": {
    "tags": []
   },
   "source": [
    "# 파이썬 4월 13일 강의 복습\n",
    "> \"7월 3일\"\n",
    "\n",
    "- toc:true\n",
    "- branch: master\n",
    "- badges: true\n",
    "- comments: true\n",
    "- author: 최석진\n",
    "- categories: [Python]"
   ]
  },
  {
   "cell_type": "markdown",
   "id": "11192f0b-5a1a-48c5-80b1-56f291c5e82f",
   "metadata": {},
   "source": [
    "## numpy \n",
    "### (rand,randn,randint,choice,통계분포,np.where/np.argwhere,인덱싱고급,np.ix_)"
   ]
  },
  {
   "cell_type": "code",
   "execution_count": 1,
   "id": "c7648fe5-75ce-4b24-8717-41784d1051bf",
   "metadata": {},
   "outputs": [],
   "source": [
    "import numpy as np"
   ]
  },
  {
   "cell_type": "markdown",
   "id": "d836d2ce-22d2-467e-a6f3-d1231e43d709",
   "metadata": {},
   "source": [
    "### 넘파이공부 5단계: 랜덤모듈"
   ]
  },
  {
   "cell_type": "markdown",
   "id": "a930e133-9201-4309-9634-d9a8da1c1bb1",
   "metadata": {},
   "source": [
    "#### np.random.rand()"
   ]
  },
  {
   "cell_type": "markdown",
   "id": "9cce7cf8-2227-4cc7-bd06-aca7b1b972d8",
   "metadata": {},
   "source": [
    "`-` 0~1 사이에서 10개의 난수 생성"
   ]
  },
  {
   "cell_type": "code",
   "execution_count": 2,
   "id": "de4f4fa4-69b0-44de-b739-faa0395fcf9b",
   "metadata": {},
   "outputs": [
    {
     "data": {
      "text/plain": [
       "array([0.40236218, 0.87443506, 0.45839405, 0.59640667, 0.75735355,\n",
       "       0.40706425, 0.0733528 , 0.17604515, 0.86612186, 0.26403677])"
      ]
     },
     "execution_count": 2,
     "metadata": {},
     "output_type": "execute_result"
    }
   ],
   "source": [
    "np.random.rand(10)"
   ]
  },
  {
   "cell_type": "markdown",
   "id": "3d8bd139-e902-4709-b8a6-5568164b0e1f",
   "metadata": {},
   "source": [
    "`-`0~2사이에서 10개의 난수 생성"
   ]
  },
  {
   "cell_type": "code",
   "execution_count": 3,
   "id": "b79825db-e5ea-4761-85b4-7ffd37377e9d",
   "metadata": {},
   "outputs": [
    {
     "data": {
      "text/plain": [
       "array([1.81799833, 0.41452248, 0.2863462 , 0.82510586, 0.47541581,\n",
       "       1.39861094, 1.68476284, 1.27401562, 0.27471634, 1.19583407])"
      ]
     },
     "execution_count": 3,
     "metadata": {},
     "output_type": "execute_result"
    }
   ],
   "source": [
    "np.random.rand(10)*2"
   ]
  },
  {
   "cell_type": "markdown",
   "id": "6b7a8d5a-d885-4c5a-ae8e-8d2c610843de",
   "metadata": {},
   "source": [
    "`-` 1~2사이에서 10개의 난수 생성"
   ]
  },
  {
   "cell_type": "code",
   "execution_count": 4,
   "id": "87215376-90e5-4412-82d6-0fe9553a6a2b",
   "metadata": {},
   "outputs": [
    {
     "data": {
      "text/plain": [
       "array([1.65355249, 1.54047511, 1.98523073, 1.85773949, 1.58000043,\n",
       "       1.04275226, 1.09609135, 1.38568324, 1.09198105, 1.88517803])"
      ]
     },
     "execution_count": 4,
     "metadata": {},
     "output_type": "execute_result"
    }
   ],
   "source": [
    "np.random.rand(10)+1"
   ]
  },
  {
   "cell_type": "markdown",
   "id": "b0c23e08-2c5e-4332-adb7-a0d8e53994d8",
   "metadata": {},
   "source": [
    "`-` 1~3사이에서 10개의 난수 생성"
   ]
  },
  {
   "cell_type": "code",
   "execution_count": 6,
   "id": "e612518a-ae45-4604-8d05-675d649ef43d",
   "metadata": {},
   "outputs": [
    {
     "data": {
      "text/plain": [
       "array([2.11873837, 1.74166251, 2.09131209, 2.98637845, 2.09015142,\n",
       "       2.69748809, 1.25176549, 2.09116953, 2.33496592, 1.65444888])"
      ]
     },
     "execution_count": 6,
     "metadata": {},
     "output_type": "execute_result"
    }
   ],
   "source": [
    "np.random.rand(10)*2+1"
   ]
  },
  {
   "cell_type": "markdown",
   "id": "76671d0a-476d-4e22-b9f1-bdb79ed0dc99",
   "metadata": {},
   "source": [
    "#### np.random.randn()"
   ]
  },
  {
   "cell_type": "markdown",
   "id": "09511dc1-ed3d-4f19-91d1-3980b2aa0603",
   "metadata": {},
   "source": [
    "`-` N(0,1)에서 10개 추출"
   ]
  },
  {
   "cell_type": "code",
   "execution_count": 7,
   "id": "c5e11db3-a7bd-436c-989b-228452fb7eee",
   "metadata": {},
   "outputs": [
    {
     "data": {
      "text/plain": [
       "array([-0.20631419, -0.04131124,  0.72532655,  1.39103001, -0.64461439,\n",
       "        0.56492181, -0.52680442, -0.35162868, -0.09135304,  0.40215028])"
      ]
     },
     "execution_count": 7,
     "metadata": {},
     "output_type": "execute_result"
    }
   ],
   "source": [
    "np.random.randn(10)"
   ]
  },
  {
   "cell_type": "markdown",
   "id": "53e94012-8e76-4735-9c34-f191364baab8",
   "metadata": {},
   "source": [
    "`-` N(1,1)에서 10개 추출"
   ]
  },
  {
   "cell_type": "code",
   "execution_count": 8,
   "id": "ab001870-b6c9-4714-bed9-0c0b08c8b539",
   "metadata": {},
   "outputs": [
    {
     "data": {
      "text/plain": [
       "array([ 2.63425535, -0.17660609, -0.49076016,  0.62911989,  1.5310684 ,\n",
       "        3.32368726,  1.99533253,  2.00592338, -0.14671444,  0.12775136])"
      ]
     },
     "execution_count": 8,
     "metadata": {},
     "output_type": "execute_result"
    }
   ],
   "source": [
    "np.random.randn(10)+1"
   ]
  },
  {
   "cell_type": "markdown",
   "id": "8bbfb4ae-5e35-4711-8e45-b6be4f20cf52",
   "metadata": {},
   "source": [
    "`-` N(0,4)에서 10개 추출 (평균이 0이고 분산이 4인 분포)"
   ]
  },
  {
   "cell_type": "code",
   "execution_count": 9,
   "id": "953d2f5b-9bd7-4d74-aaa1-2753bb3f0ae7",
   "metadata": {},
   "outputs": [
    {
     "data": {
      "text/plain": [
       "array([ 0.12156013, -2.48216171,  1.86544445, -1.21163889, -2.38288207,\n",
       "       -2.21207458,  1.0455293 , -0.40744864,  1.47241477, -0.98262694])"
      ]
     },
     "execution_count": 9,
     "metadata": {},
     "output_type": "execute_result"
    }
   ],
   "source": [
    "np.random.randn(10)*2"
   ]
  },
  {
   "cell_type": "markdown",
   "id": "17ae8940-f1ed-4f25-a2a3-d65942e91bf5",
   "metadata": {},
   "source": [
    "`-` N(3,4)에서 10개 추출"
   ]
  },
  {
   "cell_type": "code",
   "execution_count": 10,
   "id": "52932bce-7920-4c90-9c23-11dec6947d46",
   "metadata": {},
   "outputs": [
    {
     "data": {
      "text/plain": [
       "array([4.88302298, 2.40360439, 4.4385233 , 5.17978021, 3.64003266,\n",
       "       2.55346388, 2.1418646 , 3.96931924, 6.06363415, 6.0878664 ])"
      ]
     },
     "execution_count": 10,
     "metadata": {},
     "output_type": "execute_result"
    }
   ],
   "source": [
    "np.random.randn(10)*2+3"
   ]
  },
  {
   "cell_type": "markdown",
   "id": "70671364-54e5-4ba0-a7eb-5ebbd640bc39",
   "metadata": {},
   "source": [
    "#### np.random.randint()"
   ]
  },
  {
   "cell_type": "markdown",
   "id": "ab415b57-6487-4519-b95e-06aff0f8faa2",
   "metadata": {},
   "source": [
    "`-`[0,7)의 범위에서 하나의 정수를 랜덤으로 생성"
   ]
  },
  {
   "cell_type": "code",
   "execution_count": 11,
   "id": "b19b6ddd-2cad-4375-8000-24795e5ffcee",
   "metadata": {},
   "outputs": [
    {
     "data": {
      "text/plain": [
       "6"
      ]
     },
     "execution_count": 11,
     "metadata": {},
     "output_type": "execute_result"
    }
   ],
   "source": [
    "np.random.randint(7)"
   ]
  },
  {
   "cell_type": "markdown",
   "id": "5eae930b-1931-402a-94fe-e04545feafda",
   "metadata": {},
   "source": [
    "`-` [0,7)의 범위에서 20개의 정수를 랜덤으로 생성"
   ]
  },
  {
   "cell_type": "code",
   "execution_count": 12,
   "id": "f93a579d-8fac-4017-807b-b047995a2dbc",
   "metadata": {},
   "outputs": [
    {
     "data": {
      "text/plain": [
       "array([5, 5, 5, 3, 4, 3, 4, 5, 3, 1, 1, 1, 2, 0, 0, 3, 6, 0, 1, 1])"
      ]
     },
     "execution_count": 12,
     "metadata": {},
     "output_type": "execute_result"
    }
   ],
   "source": [
    "np.random.randint(7,size=(20,))"
   ]
  },
  {
   "cell_type": "markdown",
   "id": "774134e2-a036-497c-a6ee-e66b4adefffb",
   "metadata": {},
   "source": [
    "`-`[0,7)의 범위에서 (2,2) shape으로 정수를 랜덤으로 생성"
   ]
  },
  {
   "cell_type": "code",
   "execution_count": 13,
   "id": "16e795f0-fbdf-45a9-9471-7c556ac3b10c",
   "metadata": {},
   "outputs": [
    {
     "data": {
      "text/plain": [
       "array([[0, 0],\n",
       "       [0, 1]])"
      ]
     },
     "execution_count": 13,
     "metadata": {},
     "output_type": "execute_result"
    }
   ],
   "source": [
    "np.random.randint(7,size=(2,2))"
   ]
  },
  {
   "cell_type": "markdown",
   "id": "cb36854b-0415-4431-a1ab-1588feb9262e",
   "metadata": {},
   "source": [
    "`-` 위와 같은 코드를 아래와 같이 구현가능"
   ]
  },
  {
   "cell_type": "code",
   "execution_count": 14,
   "id": "fffe4ee8-44b7-4f1a-93f8-a3e84bdf4c86",
   "metadata": {},
   "outputs": [
    {
     "data": {
      "text/plain": [
       "array([[4, 2, 1, 2, 3],\n",
       "       [5, 4, 1, 6, 4],\n",
       "       [4, 1, 1, 6, 4],\n",
       "       [6, 5, 5, 5, 2],\n",
       "       [4, 3, 4, 2, 3]])"
      ]
     },
     "execution_count": 14,
     "metadata": {},
     "output_type": "execute_result"
    }
   ],
   "source": [
    "np.random.randint(low=7,size=(5,5))"
   ]
  },
  {
   "cell_type": "markdown",
   "id": "7c6ae561-d329-44e6-ab17-c28b64851926",
   "metadata": {},
   "source": [
    "`-`[10,20)의 범위에서 (5,5) shape 정수를 랜덤으로 생성"
   ]
  },
  {
   "cell_type": "code",
   "execution_count": 15,
   "id": "7140fc83-0c01-4647-8405-91127abfa6a1",
   "metadata": {},
   "outputs": [
    {
     "data": {
      "text/plain": [
       "array([[10, 11, 14, 13, 16],\n",
       "       [10, 15, 18, 18, 18],\n",
       "       [13, 19, 16, 12, 18],\n",
       "       [10, 11, 14, 19, 14],\n",
       "       [18, 13, 15, 14, 16]])"
      ]
     },
     "execution_count": 15,
     "metadata": {},
     "output_type": "execute_result"
    }
   ],
   "source": [
    "np.random.randint(low=10,high=20,size=(5,5))"
   ]
  },
  {
   "cell_type": "markdown",
   "id": "66ea9992-eeda-409c-aa5c-6ecfaf98a016",
   "metadata": {},
   "source": [
    "#### np.random.choice()"
   ]
  },
  {
   "cell_type": "markdown",
   "id": "beadf811-a13a-4976-aaaa-997588687968",
   "metadata": {},
   "source": [
    "`-` [0,5) 에서 20개를 뽑음, 중복허용"
   ]
  },
  {
   "cell_type": "code",
   "execution_count": 17,
   "id": "42432ba3-b6ae-484f-a047-29959e9c6a40",
   "metadata": {},
   "outputs": [
    {
     "data": {
      "text/plain": [
       "array([2, 2, 2, 1, 0, 1, 1, 1, 3, 2, 2, 1, 3, 4, 1, 3, 3, 2, 1, 4])"
      ]
     },
     "execution_count": 17,
     "metadata": {},
     "output_type": "execute_result"
    }
   ],
   "source": [
    "np.random.choice(5,20)"
   ]
  },
  {
   "cell_type": "markdown",
   "id": "ea805741-1ad2-4f82-a8f6-de2bfc229cef",
   "metadata": {},
   "source": [
    "- np.random.randint(5,size=(20,)) 와 같은 코드"
   ]
  },
  {
   "cell_type": "markdown",
   "id": "299fd7c3-384f-4670-af9c-efc69fe5970f",
   "metadata": {},
   "source": [
    "`-` [0,1,2,3]에서 20개를 뽑음, 중복허용"
   ]
  },
  {
   "cell_type": "code",
   "execution_count": 18,
   "id": "8cc63f26-2fc1-4dfa-a413-174f4b4377bf",
   "metadata": {},
   "outputs": [
    {
     "data": {
      "text/plain": [
       "array([0, 3, 0, 1, 0, 0, 1, 1, 0, 2, 0, 2, 1, 1, 3, 3, 3, 1, 2, 1])"
      ]
     },
     "execution_count": 18,
     "metadata": {},
     "output_type": "execute_result"
    }
   ],
   "source": [
    "np.random.choice([0,1,2,3],20)"
   ]
  },
  {
   "cell_type": "markdown",
   "id": "edb60d82-985a-47b5-a86d-718c82ea8ce6",
   "metadata": {},
   "source": [
    "`-`[\"apple\",\"orange\",\"banana\"]에서 20개를 뽑음, 중복허용"
   ]
  },
  {
   "cell_type": "code",
   "execution_count": 19,
   "id": "ec787294-03fc-412d-9aef-94d8701a1b76",
   "metadata": {},
   "outputs": [
    {
     "data": {
      "text/plain": [
       "array(['orange', 'banana', 'banana', 'apple', 'orange', 'orange', 'apple',\n",
       "       'banana', 'apple', 'orange', 'apple', 'orange', 'banana', 'banana',\n",
       "       'orange', 'apple', 'apple', 'banana', 'apple', 'banana'],\n",
       "      dtype='<U6')"
      ]
     },
     "execution_count": 19,
     "metadata": {},
     "output_type": "execute_result"
    }
   ],
   "source": [
    "np.random.choice([\"apple\",\"orange\",\"banana\"],20)"
   ]
  },
  {
   "cell_type": "markdown",
   "id": "cc679a07-bc7c-4670-8fc8-189c7725b5f9",
   "metadata": {},
   "source": [
    "`-`[\"apple\",\"orange\",\"banana\"]에서 2개를 뽑음, 중복허용 X"
   ]
  },
  {
   "cell_type": "code",
   "execution_count": 21,
   "id": "0a5dd1db-0836-40ca-99ce-775adcf9b7dc",
   "metadata": {},
   "outputs": [
    {
     "data": {
      "text/plain": [
       "array(['banana', 'orange'], dtype='<U6')"
      ]
     },
     "execution_count": 21,
     "metadata": {},
     "output_type": "execute_result"
    }
   ],
   "source": [
    "np.random.choice([\"apple\",\"orange\",\"banana\"],2,replace=False)"
   ]
  },
  {
   "cell_type": "markdown",
   "id": "993ce6cb-7b8d-425d-96ac-2da90dc013a1",
   "metadata": {},
   "source": [
    "#### 통계분포"
   ]
  },
  {
   "cell_type": "code",
   "execution_count": 22,
   "id": "563e3011-3ae3-4658-b09f-feda20ffcbc8",
   "metadata": {},
   "outputs": [
    {
     "data": {
      "text/plain": [
       "array([2, 1, 0, 1, 2])"
      ]
     },
     "execution_count": 22,
     "metadata": {},
     "output_type": "execute_result"
    }
   ],
   "source": [
    "np.random.binomial(n=10,p=0.2,size=(5,)) #X1,....,X5 ~ B(10,0.2)"
   ]
  },
  {
   "cell_type": "code",
   "execution_count": 23,
   "id": "f32e32f4-f486-4001-af2b-dd6abebf77d7",
   "metadata": {},
   "outputs": [
    {
     "data": {
      "text/plain": [
       "array([ 8.13929528,  7.75328746, 11.09847732,  9.32163608, 11.38410008])"
      ]
     },
     "execution_count": 23,
     "metadata": {},
     "output_type": "execute_result"
    }
   ],
   "source": [
    "np.random.normal(loc=10,scale=2,size=(5,)) #X1,...,X5 ~N(10,4)"
   ]
  },
  {
   "cell_type": "markdown",
   "id": "32c99b3a-66a2-474a-ba6b-5b72e966f3b3",
   "metadata": {},
   "source": [
    "- np.random.randn(5)*2+10 와 같은코드"
   ]
  },
  {
   "cell_type": "code",
   "execution_count": 24,
   "id": "00a2c44a-ecf3-4f87-b3ce-d0e136d48fe2",
   "metadata": {},
   "outputs": [
    {
     "data": {
      "text/plain": [
       "array([3.69196416, 3.63529735, 3.58636484, 2.96146708, 2.66701839])"
      ]
     },
     "execution_count": 24,
     "metadata": {},
     "output_type": "execute_result"
    }
   ],
   "source": [
    "np.random.uniform(low=2,high=4,size=(5,)) #X1,...,X5 ~U(2,4)"
   ]
  },
  {
   "cell_type": "markdown",
   "id": "79f14e04-3e03-4b50-9b6c-8b395b744235",
   "metadata": {},
   "source": [
    "- np.random.rand(5)*2+2 와 같은코드"
   ]
  },
  {
   "cell_type": "code",
   "execution_count": 25,
   "id": "69a51055-0aff-4237-8bb0-9fc673954178",
   "metadata": {},
   "outputs": [
    {
     "data": {
      "text/plain": [
       "array([9, 4, 2, 7, 5])"
      ]
     },
     "execution_count": 25,
     "metadata": {},
     "output_type": "execute_result"
    }
   ],
   "source": [
    "np.random.poisson(lam=5,size=(5,)) #X1,...,X5 ~Poi(5)"
   ]
  },
  {
   "cell_type": "markdown",
   "id": "a64ef54b-7cea-4962-8187-568aae7c08bb",
   "metadata": {},
   "source": [
    "### 넘파이공부 6단계: 기타 유용한 기본기능들"
   ]
  },
  {
   "cell_type": "markdown",
   "id": "3c1223c9-38af-43b1-bb7e-84dda5753907",
   "metadata": {},
   "source": [
    "#### np.where,np.argwhere"
   ]
  },
  {
   "cell_type": "markdown",
   "id": "90579e6c-ab29-40cd-a54e-d912f6d174ec",
   "metadata": {},
   "source": [
    "`-` 1차원"
   ]
  },
  {
   "cell_type": "code",
   "execution_count": 26,
   "id": "44d04640-fabb-4ed8-97cc-ca17215f8352",
   "metadata": {},
   "outputs": [
    {
     "data": {
      "text/plain": [
       "array([0, 0, 0, 1, 0])"
      ]
     },
     "execution_count": 26,
     "metadata": {},
     "output_type": "execute_result"
    }
   ],
   "source": [
    "a=np.array([0,0,0,1,0])\n",
    "a"
   ]
  },
  {
   "cell_type": "code",
   "execution_count": 27,
   "id": "4af42171-7592-4601-8621-e401c4958267",
   "metadata": {},
   "outputs": [
    {
     "data": {
      "text/plain": [
       "(array([3]),)"
      ]
     },
     "execution_count": 27,
     "metadata": {},
     "output_type": "execute_result"
    }
   ],
   "source": [
    "np.where(a==1) #조건 a==1을 만족하는 인덱스를 출력하라"
   ]
  },
  {
   "cell_type": "code",
   "execution_count": 28,
   "id": "999f047d-33e0-427c-bd1b-df4e12b8b3ff",
   "metadata": {},
   "outputs": [
    {
     "data": {
      "text/plain": [
       "array([[3]])"
      ]
     },
     "execution_count": 28,
     "metadata": {},
     "output_type": "execute_result"
    }
   ],
   "source": [
    "np.argwhere(a==1)"
   ]
  },
  {
   "cell_type": "markdown",
   "id": "efbf845c-2195-4c46-920a-3f8cfb89817c",
   "metadata": {},
   "source": [
    "`-` 2차원"
   ]
  },
  {
   "cell_type": "code",
   "execution_count": 29,
   "id": "23ff80f8-ef68-455f-be46-7e55e2788d42",
   "metadata": {},
   "outputs": [
    {
     "data": {
      "text/plain": [
       "array([[ 0.38342049,  1.0841745 ,  1.14277825,  0.30789368],\n",
       "       [ 0.23778744,  0.35595116, -1.66307542, -1.38277318],\n",
       "       [-1.92684484, -1.4862163 ,  0.00692519, -0.03488725]])"
      ]
     },
     "execution_count": 29,
     "metadata": {},
     "output_type": "execute_result"
    }
   ],
   "source": [
    "np.random.seed(43052)\n",
    "a=np.random.randn(12).reshape(3,4)\n",
    "a"
   ]
  },
  {
   "cell_type": "code",
   "execution_count": 30,
   "id": "90adcd56-1fb4-432f-8c84-1e07bf496569",
   "metadata": {},
   "outputs": [
    {
     "data": {
      "text/plain": [
       "(array([1, 1, 2, 2, 2]), array([2, 3, 0, 1, 3]))"
      ]
     },
     "execution_count": 30,
     "metadata": {},
     "output_type": "execute_result"
    }
   ],
   "source": [
    "np.where(a<0) # 조건을 만족하는 인덱스가 (1,2),(1,3),(2,0),(2,1),(2,3) 이라는 의미"
   ]
  },
  {
   "cell_type": "code",
   "execution_count": 31,
   "id": "fa22562f-5dea-4a27-874c-d029f39f8184",
   "metadata": {},
   "outputs": [
    {
     "data": {
      "text/plain": [
       "array([[1, 2],\n",
       "       [1, 3],\n",
       "       [2, 0],\n",
       "       [2, 1],\n",
       "       [2, 3]])"
      ]
     },
     "execution_count": 31,
     "metadata": {},
     "output_type": "execute_result"
    }
   ],
   "source": [
    "np.argwhere(a<0) # 조건을 만족하는 인덱스가 (1,2),(1,3),(2,0),(2,1),(2,3) 이라는 의미"
   ]
  },
  {
   "cell_type": "code",
   "execution_count": 32,
   "id": "6c5e49fd-7a23-4ffc-b8ff-e6e29d823095",
   "metadata": {},
   "outputs": [
    {
     "data": {
      "text/plain": [
       "array([-1.66307542, -1.38277318, -1.92684484, -1.4862163 , -0.03488725])"
      ]
     },
     "execution_count": 32,
     "metadata": {},
     "output_type": "execute_result"
    }
   ],
   "source": [
    "a[np.where(a<0)] #조건을 만족하는 인덱스가 모두 출력 => 1차원 array로 출력"
   ]
  },
  {
   "cell_type": "code",
   "execution_count": 33,
   "id": "125fcc83-214f-4c8d-9544-4f7d840f742f",
   "metadata": {},
   "outputs": [
    {
     "ename": "IndexError",
     "evalue": "index 3 is out of bounds for axis 0 with size 3",
     "output_type": "error",
     "traceback": [
      "\u001b[0;31m---------------------------------------------------------------------------\u001b[0m",
      "\u001b[0;31mIndexError\u001b[0m                                Traceback (most recent call last)",
      "Input \u001b[0;32mIn [33]\u001b[0m, in \u001b[0;36m<cell line: 1>\u001b[0;34m()\u001b[0m\n\u001b[0;32m----> 1\u001b[0m \u001b[43ma\u001b[49m\u001b[43m[\u001b[49m\u001b[43mnp\u001b[49m\u001b[38;5;241;43m.\u001b[39;49m\u001b[43margwhere\u001b[49m\u001b[43m(\u001b[49m\u001b[43ma\u001b[49m\u001b[38;5;241;43m<\u001b[39;49m\u001b[38;5;241;43m0\u001b[39;49m\u001b[43m)\u001b[49m\u001b[43m]\u001b[49m\n",
      "\u001b[0;31mIndexError\u001b[0m: index 3 is out of bounds for axis 0 with size 3"
     ]
    }
   ],
   "source": [
    "a[np.argwhere(a<0)] #출력 불가능"
   ]
  },
  {
   "cell_type": "markdown",
   "id": "2d46eeb7-5bd1-472c-869a-d9d6bf19e88f",
   "metadata": {},
   "source": [
    "`-` np.where의 특수기능"
   ]
  },
  {
   "cell_type": "code",
   "execution_count": 34,
   "id": "4b56ad91-2e2a-486f-8c19-40dc66c3faaa",
   "metadata": {},
   "outputs": [
    {
     "data": {
      "text/plain": [
       "array([[ 0.38342049,  1.0841745 ,  1.14277825,  0.30789368],\n",
       "       [ 0.23778744,  0.35595116, -1.66307542, -1.38277318],\n",
       "       [-1.92684484, -1.4862163 ,  0.00692519, -0.03488725]])"
      ]
     },
     "execution_count": 34,
     "metadata": {},
     "output_type": "execute_result"
    }
   ],
   "source": [
    "np.random.seed(43052)\n",
    "a=np.random.randn(12).reshape(3,4)\n",
    "a"
   ]
  },
  {
   "cell_type": "code",
   "execution_count": 35,
   "id": "67e6a301-4813-4923-9a13-1023fd7f36c6",
   "metadata": {},
   "outputs": [
    {
     "data": {
      "text/plain": [
       "array([[0.38342049, 1.0841745 , 1.14277825, 0.30789368],\n",
       "       [0.23778744, 0.35595116, 0.        , 0.        ],\n",
       "       [0.        , 0.        , 0.00692519, 0.        ]])"
      ]
     },
     "execution_count": 35,
     "metadata": {},
     "output_type": "execute_result"
    }
   ],
   "source": [
    "np.where(a<0,0,a) #ifelse같은 구문 // a<0을 체크 => 조건에 맞으면 0 => 조건에 안맞으면 a"
   ]
  },
  {
   "cell_type": "code",
   "execution_count": 36,
   "id": "cbd7064b-eebc-4aa8-94be-f6899a00f7d6",
   "metadata": {},
   "outputs": [
    {
     "data": {
      "text/plain": [
       "array([[1, 1, 1, 1],\n",
       "       [1, 1, 0, 0],\n",
       "       [0, 0, 1, 0]])"
      ]
     },
     "execution_count": 36,
     "metadata": {},
     "output_type": "execute_result"
    }
   ],
   "source": [
    "np.where(a<0,0,1) #a<0을 체크 => 조건에 맞으면 0 => 조건에 안맞으면 1"
   ]
  },
  {
   "cell_type": "markdown",
   "id": "57e1207e-dfae-43b7-94eb-26cc84c494e2",
   "metadata": {},
   "source": [
    "`-` 요약\n",
    "\n",
    "- np.where : 인덱스의 좌표를 읽는 가독성은 떨어짐, 그런데 조건에 맞는 원소를 출력하거나 처리하는 (특수기능) 목적으로는 좋은 함수\n",
    "\n",
    "- np.argwhere : 인덱스의 좌표를 읽는 가독성은 좋음, 그런데 조건에 맞는 원소를 출력하거나 처리하는 기능은 떨어짐"
   ]
  },
  {
   "cell_type": "markdown",
   "id": "a1626bb0-4bcf-4243-8c5c-ce39baf01990",
   "metadata": {},
   "source": [
    "#### 인덱싱고급"
   ]
  },
  {
   "cell_type": "markdown",
   "id": "5dd0bf47-8c35-444d-a74e-fe9012595b31",
   "metadata": {},
   "source": [
    "`-` 원래 a는 2d array"
   ]
  },
  {
   "cell_type": "code",
   "execution_count": 38,
   "id": "8aafa375-4514-4363-a7a7-91c4d64746c2",
   "metadata": {},
   "outputs": [
    {
     "data": {
      "text/plain": [
       "array([[ 0,  1,  2,  3],\n",
       "       [ 4,  5,  6,  7],\n",
       "       [ 8,  9, 10, 11]])"
      ]
     },
     "execution_count": 38,
     "metadata": {},
     "output_type": "execute_result"
    }
   ],
   "source": [
    "a=np.arange(12).reshape(3,4)\n",
    "a"
   ]
  },
  {
   "cell_type": "markdown",
   "id": "f3286600-3e9c-40e3-901a-994d66e78b51",
   "metadata": {},
   "source": [
    "`-` 경우1 : 인덱싱 결과가 1d array로 나올 수 있음"
   ]
  },
  {
   "cell_type": "code",
   "execution_count": 40,
   "id": "b4a008e7-91cc-41be-bd37-1b4822047322",
   "metadata": {},
   "outputs": [
    {
     "data": {
      "text/plain": [
       "array([0, 1, 2, 3])"
      ]
     },
     "execution_count": 40,
     "metadata": {},
     "output_type": "execute_result"
    }
   ],
   "source": [
    "a[0,:] # 인덱싱의 결과 축의 개수가 바뀜 / 2d array -> 1d array"
   ]
  },
  {
   "cell_type": "markdown",
   "id": "5c8ff9a4-be73-4356-968f-4610dacf601e",
   "metadata": {},
   "source": [
    "`-` 경우2 : 인덱싱 결과가 2d array로 나오게 하기"
   ]
  },
  {
   "cell_type": "code",
   "execution_count": 41,
   "id": "5afb8045-4701-4dd8-9da5-4763144d7d88",
   "metadata": {},
   "outputs": [
    {
     "data": {
      "text/plain": [
       "array([[0, 1, 2, 3],\n",
       "       [4, 5, 6, 7]])"
      ]
     },
     "execution_count": 41,
     "metadata": {},
     "output_type": "execute_result"
    }
   ],
   "source": [
    "a[[0,1],:] # 2d array -> 2d array"
   ]
  },
  {
   "cell_type": "markdown",
   "id": "41b10044-66c8-4b4f-a41d-796a935ad240",
   "metadata": {},
   "source": [
    "`-` 경우1의 상황에서도 축의 개수를 유지하면서 인덱싱하려면?"
   ]
  },
  {
   "cell_type": "code",
   "execution_count": 42,
   "id": "9451e40d-d24c-42ad-aa03-1bec1c66ee79",
   "metadata": {},
   "outputs": [
    {
     "data": {
      "text/plain": [
       "array([[0, 1, 2, 3]])"
      ]
     },
     "execution_count": 42,
     "metadata": {},
     "output_type": "execute_result"
    }
   ],
   "source": [
    "a[[0],:]"
   ]
  },
  {
   "cell_type": "code",
   "execution_count": 43,
   "id": "b750447d-3f02-4915-aae8-3b5feccb15e1",
   "metadata": {},
   "outputs": [
    {
     "data": {
      "text/plain": [
       "array([[0],\n",
       "       [4],\n",
       "       [8]])"
      ]
     },
     "execution_count": 43,
     "metadata": {},
     "output_type": "execute_result"
    }
   ],
   "source": [
    "a[:,[0]]"
   ]
  },
  {
   "cell_type": "markdown",
   "id": "5a9d2c9e-1556-4323-a1c5-39cced702459",
   "metadata": {},
   "source": [
    "`-` 차이를 이해"
   ]
  },
  {
   "cell_type": "code",
   "execution_count": 44,
   "id": "adb2ee6c-3682-4c36-ae98-d1f2778a0478",
   "metadata": {},
   "outputs": [
    {
     "data": {
      "text/plain": [
       "(array([0, 1, 2, 3]), array([[0, 1, 2, 3]]))"
      ]
     },
     "execution_count": 44,
     "metadata": {},
     "output_type": "execute_result"
    }
   ],
   "source": [
    "a[0,:],a[[0],:]"
   ]
  },
  {
   "cell_type": "code",
   "execution_count": 45,
   "id": "a35ae22f-8275-48c6-8889-e92bd498e6b6",
   "metadata": {},
   "outputs": [
    {
     "data": {
      "text/plain": [
       "(array([0, 4, 8]),\n",
       " array([[0],\n",
       "        [4],\n",
       "        [8]]))"
      ]
     },
     "execution_count": 45,
     "metadata": {},
     "output_type": "execute_result"
    }
   ],
   "source": [
    "a[:,0],a[:,[0]]"
   ]
  },
  {
   "cell_type": "markdown",
   "id": "c1b24f5a-adb1-4c92-a73c-76739812a21f",
   "metadata": {},
   "source": [
    "#### np.ix_"
   ]
  },
  {
   "cell_type": "markdown",
   "id": "04abe5e6-7734-46f2-a5ff-9020b0b4cfdf",
   "metadata": {},
   "source": [
    "`-` 인덱싱 비교"
   ]
  },
  {
   "cell_type": "code",
   "execution_count": 46,
   "id": "e3137b2c-6561-475c-aa49-6a22116cb422",
   "metadata": {},
   "outputs": [
    {
     "data": {
      "text/plain": [
       "array([[ 0,  1,  2,  3],\n",
       "       [ 4,  5,  6,  7],\n",
       "       [ 8,  9, 10, 11]])"
      ]
     },
     "execution_count": 46,
     "metadata": {},
     "output_type": "execute_result"
    }
   ],
   "source": [
    "a=np.arange(12).reshape(3,4)\n",
    "a"
   ]
  },
  {
   "cell_type": "code",
   "execution_count": 47,
   "id": "f2fb0363-5e19-45d3-9a5a-c606bcab789e",
   "metadata": {},
   "outputs": [
    {
     "data": {
      "text/plain": [
       "array([[0, 1],\n",
       "       [4, 5]])"
      ]
     },
     "execution_count": 47,
     "metadata": {},
     "output_type": "execute_result"
    }
   ],
   "source": [
    "a[0:2,0:2]"
   ]
  },
  {
   "cell_type": "code",
   "execution_count": 48,
   "id": "2e2c3ec8-cd00-43ab-b23c-be3ff1898b3c",
   "metadata": {},
   "outputs": [
    {
     "data": {
      "text/plain": [
       "array([[0, 1],\n",
       "       [4, 5]])"
      ]
     },
     "execution_count": 48,
     "metadata": {},
     "output_type": "execute_result"
    }
   ],
   "source": [
    "a[[0,1],0:2]"
   ]
  },
  {
   "cell_type": "code",
   "execution_count": 49,
   "id": "2a67c257-a1bc-4461-97c9-b385ab70f131",
   "metadata": {},
   "outputs": [
    {
     "data": {
      "text/plain": [
       "array([[0, 1],\n",
       "       [4, 5]])"
      ]
     },
     "execution_count": 49,
     "metadata": {},
     "output_type": "execute_result"
    }
   ],
   "source": [
    "a[0:2,[0,1]]"
   ]
  },
  {
   "cell_type": "markdown",
   "id": "7d6e8d58-d666-4fff-91fc-d01f98711707",
   "metadata": {},
   "source": [
    "그럼 a[[0,1],[0,1]] 결과 역시 동일 할 것임"
   ]
  },
  {
   "cell_type": "code",
   "execution_count": 50,
   "id": "8b8f7cdd-44f5-47f4-b653-329ce70fa2bf",
   "metadata": {},
   "outputs": [
    {
     "data": {
      "text/plain": [
       "array([0, 5])"
      ]
     },
     "execution_count": 50,
     "metadata": {},
     "output_type": "execute_result"
    }
   ],
   "source": [
    "a[[0,1],[0,1]]"
   ]
  },
  {
   "cell_type": "markdown",
   "id": "7a5ad569-c68e-4dc3-96a1-d43b7fb0d80c",
   "metadata": {},
   "source": [
    "- 실제로는 [a[0,0],a[1,1]]이 array로 나옴"
   ]
  },
  {
   "cell_type": "markdown",
   "id": "bac5bef6-d80f-4848-a088-15cb97039926",
   "metadata": {},
   "source": [
    "`-` np.where에서 이미 관찰하였음"
   ]
  },
  {
   "cell_type": "code",
   "execution_count": 52,
   "id": "9ef3ed01-4b97-4c96-8d0d-ff15c96c7e92",
   "metadata": {},
   "outputs": [
    {
     "data": {
      "text/plain": [
       "array([[ 0,  1,  2,  3],\n",
       "       [ 4,  5,  6,  7],\n",
       "       [ 8,  9, 10, 11]])"
      ]
     },
     "execution_count": 52,
     "metadata": {},
     "output_type": "execute_result"
    }
   ],
   "source": [
    "a"
   ]
  },
  {
   "cell_type": "code",
   "execution_count": 53,
   "id": "547a613a-1b47-41f1-bc03-7477a9537601",
   "metadata": {},
   "outputs": [
    {
     "data": {
      "text/plain": [
       "(array([0, 1, 2]), array([0, 1, 2]))"
      ]
     },
     "execution_count": 53,
     "metadata": {},
     "output_type": "execute_result"
    }
   ],
   "source": [
    "np.where(a%5==0)"
   ]
  },
  {
   "cell_type": "code",
   "execution_count": 54,
   "id": "3e2373e6-b873-43e5-8bdd-8629efe8c140",
   "metadata": {},
   "outputs": [
    {
     "data": {
      "text/plain": [
       "array([ 0,  5, 10])"
      ]
     },
     "execution_count": 54,
     "metadata": {},
     "output_type": "execute_result"
    }
   ],
   "source": [
    "a[np.where(a%5==0)]"
   ]
  },
  {
   "cell_type": "code",
   "execution_count": 55,
   "id": "d01ea6f5-54da-4d8a-bea4-86e4b23cddd1",
   "metadata": {},
   "outputs": [
    {
     "data": {
      "text/plain": [
       "array([ 0,  5, 10])"
      ]
     },
     "execution_count": 55,
     "metadata": {},
     "output_type": "execute_result"
    }
   ],
   "source": [
    "a[[0,1,2],[0,1,2]]"
   ]
  },
  {
   "cell_type": "markdown",
   "id": "e7a52f9e-05b3-4d79-b9a7-39bcaf471c6f",
   "metadata": {},
   "source": [
    "`-` a[[0,1],[0,1]]이 a[0:2,0:2]를 의미하게 하려면 아래와 같이 작성"
   ]
  },
  {
   "cell_type": "code",
   "execution_count": 57,
   "id": "4ad62bf0-95ff-4a6c-9e56-03df06a55d8b",
   "metadata": {},
   "outputs": [
    {
     "data": {
      "text/plain": [
       "array([[0, 1],\n",
       "       [4, 5]])"
      ]
     },
     "execution_count": 57,
     "metadata": {},
     "output_type": "execute_result"
    }
   ],
   "source": [
    "a[np.ix_([0,1],[0,1])]"
   ]
  },
  {
   "cell_type": "code",
   "execution_count": null,
   "id": "5789f34b-7b2e-4f06-8ade-c92cd42d2233",
   "metadata": {},
   "outputs": [],
   "source": []
  }
 ],
 "metadata": {
  "kernelspec": {
   "display_name": "Python 3 (ipykernel)",
   "language": "python",
   "name": "python3"
  },
  "language_info": {
   "codemirror_mode": {
    "name": "ipython",
    "version": 3
   },
   "file_extension": ".py",
   "mimetype": "text/x-python",
   "name": "python",
   "nbconvert_exporter": "python",
   "pygments_lexer": "ipython3",
   "version": "3.9.7"
  }
 },
 "nbformat": 4,
 "nbformat_minor": 5
}
