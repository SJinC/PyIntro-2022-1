{
 "cells": [
  {
   "cell_type": "markdown",
   "id": "f128d9a0-9da0-4fd1-a1c8-e6096edd483e",
   "metadata": {
    "tags": []
   },
   "source": [
    "# 파이썬 5월 25일 강의 복습\n",
    "> \"7월 10일\"\n",
    "\n",
    "- toc:true\n",
    "- branch: master\n",
    "- badges: true\n",
    "- comments: true\n",
    "- author: 최석진\n",
    "- categories: [Python]"
   ]
  },
  {
   "cell_type": "code",
   "execution_count": 1,
   "id": "c681746a-57a8-4624-94b3-f4f1e3a254cd",
   "metadata": {},
   "outputs": [],
   "source": [
    "import numpy as np"
   ]
  },
  {
   "cell_type": "markdown",
   "id": "466629f2-25dd-46fa-825f-efc29ac91840",
   "metadata": {},
   "source": [
    "## 클래스 공부 5단계"
   ]
  },
  {
   "cell_type": "markdown",
   "id": "429f31b0-ff7b-4966-a9df-edf0cd60df8c",
   "metadata": {},
   "source": [
    "`-` 지난시간까지 배운것: RPC자료형에 한정해서 print()등의 기능을 조작할 수 있었음. (재정의 할 수 있었다.)\n",
    "\n",
    "`-` 이번시간에 배울것: 특정자료형에 한정하여 print 이외의 파이썬 내부기능을 조작하여 보자. (재정의하여 보자.)"
   ]
  },
  {
   "cell_type": "markdown",
   "id": "1f08f779-b66f-4a21-915b-6ad62cc221a7",
   "metadata": {},
   "source": [
    "### motive"
   ]
  },
  {
   "cell_type": "markdown",
   "id": "2fc289c4-e734-4ca0-b380-f3984158f312",
   "metadata": {},
   "source": [
    "`-` 아래의 연산구조를 관찰"
   ]
  },
  {
   "cell_type": "code",
   "execution_count": 2,
   "id": "112b72c5-72f4-460f-9c80-15621ed3644f",
   "metadata": {},
   "outputs": [
    {
     "data": {
      "text/plain": [
       "3"
      ]
     },
     "execution_count": 2,
     "metadata": {},
     "output_type": "execute_result"
    }
   ],
   "source": [
    "a=1\n",
    "b=2\n",
    "a+b"
   ]
  },
  {
   "cell_type": "markdown",
   "id": "d66c7d12-324f-415d-ac2c-9617960cb277",
   "metadata": {},
   "source": [
    "- a라는 인스턴스와 b라는 인스턴스를 +기호로 연결"
   ]
  },
  {
   "cell_type": "markdown",
   "id": "ae4bfcd0-02ac-4443-b15c-287736ac255b",
   "metadata": {},
   "source": [
    "`-` 아래의 연산구조 관찰"
   ]
  },
  {
   "cell_type": "code",
   "execution_count": 3,
   "id": "7d1e9afa-f046-4fa0-a371-8d18a875049f",
   "metadata": {},
   "outputs": [
    {
     "data": {
      "text/plain": [
       "[1, 2, 3, 4]"
      ]
     },
     "execution_count": 3,
     "metadata": {},
     "output_type": "execute_result"
    }
   ],
   "source": [
    "a=[1,2]\n",
    "b=[3,4]\n",
    "a+b"
   ]
  },
  {
   "cell_type": "markdown",
   "id": "130096ed-e5c4-48f2-9580-bd26adc90383",
   "metadata": {},
   "source": [
    "- a라는 인스턴스와 b라는 인스턴스를 +기호로 연결"
   ]
  },
  {
   "cell_type": "markdown",
   "id": "868939dd-760c-4a0e-a7cb-e663079976c5",
   "metadata": {},
   "source": [
    "`-` 동작이 다른 이유?\n",
    "\n",
    "- 클래스를 배우기 이전 : int자료형의 `+`는 \"정수의 덧셈\"을 의미하고 list자료형의 `+`는 \"자료의 추가\"를 의미한다.\n",
    "- 클래스를 배운 이후 : 아마 클래스는 `+`라는 연산을 정의하는 숨겨진 메소드가 있을것이다. (print가 그랬듯이) 그리고 int클래스에서는 그 메소드를 \"정수의 덧셈\"이 되도록 정의하였고 list클래스에서는 그 메소드를 \"자료의 추가\"를 의미하도록 정의하였다."
   ]
  },
  {
   "cell_type": "markdown",
   "id": "9db2b8f4-da81-47a6-9a4d-2d310a7637cf",
   "metadata": {},
   "source": [
    "`-` 아래의 결과를 관찰"
   ]
  },
  {
   "cell_type": "code",
   "execution_count": 4,
   "id": "2b902961-283c-4b23-ae72-478a8b240dcc",
   "metadata": {},
   "outputs": [],
   "source": [
    "a=1\n",
    "b=2"
   ]
  },
  {
   "cell_type": "code",
   "execution_count": 5,
   "id": "22c89da9-b25c-4a85-8178-73e688029bb1",
   "metadata": {},
   "outputs": [
    {
     "data": {
      "text/plain": [
       "3"
      ]
     },
     "execution_count": 5,
     "metadata": {},
     "output_type": "execute_result"
    }
   ],
   "source": [
    "a.__add__(b)"
   ]
  },
  {
   "cell_type": "code",
   "execution_count": 6,
   "id": "8eff21b0-1c50-49a8-944b-9f90848416f9",
   "metadata": {},
   "outputs": [
    {
     "data": {
      "text/plain": [
       "3"
      ]
     },
     "execution_count": 6,
     "metadata": {},
     "output_type": "execute_result"
    }
   ],
   "source": [
    "b.__add__(a)"
   ]
  },
  {
   "cell_type": "code",
   "execution_count": 7,
   "id": "9bb2dcda-5444-491d-b417-acdf8f5b91c7",
   "metadata": {},
   "outputs": [],
   "source": [
    "a=[1,2]\n",
    "b=[3,4]"
   ]
  },
  {
   "cell_type": "code",
   "execution_count": 8,
   "id": "46a12208-a6e5-4694-b5a4-0155f579bd39",
   "metadata": {},
   "outputs": [
    {
     "data": {
      "text/plain": [
       "[1, 2, 3, 4]"
      ]
     },
     "execution_count": 8,
     "metadata": {},
     "output_type": "execute_result"
    }
   ],
   "source": [
    "a.__add__(b)"
   ]
  },
  {
   "cell_type": "code",
   "execution_count": 9,
   "id": "b00edc51-c534-4019-9c7d-ff1116925dec",
   "metadata": {},
   "outputs": [
    {
     "data": {
      "text/plain": [
       "[3, 4, 1, 2]"
      ]
     },
     "execution_count": 9,
     "metadata": {},
     "output_type": "execute_result"
    }
   ],
   "source": [
    "b.__add__(a)"
   ]
  },
  {
   "cell_type": "markdown",
   "id": "ae96c93f-44dd-4048-9ac2-ad603b928b80",
   "metadata": {},
   "source": [
    "`-` a+b는 사실 내부적으로 `a.__add__(b)`의 축약구문이다. 따라서 만약 `a.__add__(b)`의 기능을 바꾸면(재정의하면) a+b의 기능도 바뀔 것이다."
   ]
  },
  {
   "cell_type": "markdown",
   "id": "964acd08-f0ac-4d78-9393-4babf6e60060",
   "metadata": {},
   "source": [
    "### `__add__`"
   ]
  },
  {
   "cell_type": "code",
   "execution_count": 10,
   "id": "890f0a8e-935e-4d92-bbf6-dca58d43e0cd",
   "metadata": {},
   "outputs": [],
   "source": [
    "class Student:\n",
    "    def __init__(self,age=20.0,semester=0):\n",
    "        self.age=age\n",
    "        self.semester=semester\n",
    "        print(\"입학을 축하합니다. 당신의 나이는 {}이고 현재 학기는 {}학기 입니다.\".format(self.age,self.semester))\n",
    "    def __add__(self,val):\n",
    "        # val==0: 휴학\n",
    "        # val==1: 등록\n",
    "        if val==0:\n",
    "            self.age=self.age+0.5\n",
    "        elif val==1:\n",
    "            self.age=self.age+0.5\n",
    "            self.semester=self.semester+1\n",
    "    def _repr_html_(self):\n",
    "        html_str=\"\"\"\n",
    "        나이: {} <br/>\n",
    "        학기: {} <br/>\n",
    "        \"\"\"\n",
    "        return html_str.format(self.age,self.semester)"
   ]
  },
  {
   "cell_type": "code",
   "execution_count": 11,
   "id": "178177c9-2bfb-4388-9cf9-d15eeac45da3",
   "metadata": {},
   "outputs": [
    {
     "name": "stdout",
     "output_type": "stream",
     "text": [
      "입학을 축하합니다. 당신의 나이는 20.0이고 현재 학기는 0학기 입니다.\n"
     ]
    }
   ],
   "source": [
    "seokjin=Student()"
   ]
  },
  {
   "cell_type": "code",
   "execution_count": 12,
   "id": "292279b6-c844-46f4-b36d-9fa401a3eee7",
   "metadata": {},
   "outputs": [
    {
     "data": {
      "text/html": [
       "\n",
       "        나이: 20.5 <br/>\n",
       "        학기: 1 <br/>\n",
       "        "
      ],
      "text/plain": [
       "<__main__.Student at 0x7fc338267e50>"
      ]
     },
     "execution_count": 12,
     "metadata": {},
     "output_type": "execute_result"
    }
   ],
   "source": [
    "seokjin+1 ## 1학년 1학기 등록\n",
    "seokjin"
   ]
  },
  {
   "cell_type": "code",
   "execution_count": 13,
   "id": "4cd5ea6a-26c5-4d75-9d2e-6986a347daea",
   "metadata": {},
   "outputs": [
    {
     "data": {
      "text/html": [
       "\n",
       "        나이: 21.0 <br/>\n",
       "        학기: 1 <br/>\n",
       "        "
      ],
      "text/plain": [
       "<__main__.Student at 0x7fc338267e50>"
      ]
     },
     "execution_count": 13,
     "metadata": {},
     "output_type": "execute_result"
    }
   ],
   "source": [
    "seokjin+0 ## 휴학\n",
    "seokjin"
   ]
  },
  {
   "cell_type": "markdown",
   "id": "a23b8b38-f687-4a6c-90c5-78451916f449",
   "metadata": {},
   "source": [
    "`-` 연산을 연속으로 하고 싶다"
   ]
  },
  {
   "cell_type": "code",
   "execution_count": 14,
   "id": "231fe378-0663-4fbf-8ba5-239f28e2594f",
   "metadata": {},
   "outputs": [
    {
     "ename": "TypeError",
     "evalue": "unsupported operand type(s) for +: 'NoneType' and 'int'",
     "output_type": "error",
     "traceback": [
      "\u001b[0;31m---------------------------------------------------------------------------\u001b[0m",
      "\u001b[0;31mTypeError\u001b[0m                                 Traceback (most recent call last)",
      "Input \u001b[0;32mIn [14]\u001b[0m, in \u001b[0;36m<cell line: 1>\u001b[0;34m()\u001b[0m\n\u001b[0;32m----> 1\u001b[0m \u001b[43mseokjin\u001b[49m\u001b[38;5;241;43m+\u001b[39;49m\u001b[38;5;241;43m1\u001b[39;49m\u001b[38;5;241;43m+\u001b[39;49m\u001b[38;5;241;43m0\u001b[39;49m\u001b[38;5;241m+\u001b[39m\u001b[38;5;241m1\u001b[39m\u001b[38;5;241m+\u001b[39m\u001b[38;5;241m1\u001b[39m\u001b[38;5;241m+\u001b[39m\u001b[38;5;241m1\u001b[39m\n",
      "\u001b[0;31mTypeError\u001b[0m: unsupported operand type(s) for +: 'NoneType' and 'int'"
     ]
    }
   ],
   "source": [
    "seokjin+1+0+1+1+1"
   ]
  },
  {
   "cell_type": "markdown",
   "id": "85692719-72ce-47c4-92b1-957a55435144",
   "metadata": {},
   "source": [
    "`-` 에러의 이유?\n",
    "\n",
    "(되는코드)"
   ]
  },
  {
   "cell_type": "code",
   "execution_count": 15,
   "id": "57c825b2-5dfe-4539-8ac2-7446d4f175e1",
   "metadata": {},
   "outputs": [
    {
     "data": {
      "text/plain": [
       "3"
      ]
     },
     "execution_count": 15,
     "metadata": {},
     "output_type": "execute_result"
    }
   ],
   "source": [
    "(1+1)+1"
   ]
  },
  {
   "cell_type": "code",
   "execution_count": 16,
   "id": "3ee047ef-c03b-42b4-8d57-192ad3afaed7",
   "metadata": {},
   "outputs": [
    {
     "data": {
      "text/plain": [
       "int"
      ]
     },
     "execution_count": 16,
     "metadata": {},
     "output_type": "execute_result"
    }
   ],
   "source": [
    "_a=(1+1)\n",
    "type(_a)"
   ]
  },
  {
   "cell_type": "code",
   "execution_count": 17,
   "id": "f200b9d8-8cd0-4e16-87be-3f0384fb50e4",
   "metadata": {},
   "outputs": [
    {
     "data": {
      "text/plain": [
       "3"
      ]
     },
     "execution_count": 17,
     "metadata": {},
     "output_type": "execute_result"
    }
   ],
   "source": [
    "_a+1 # int 인스턴스 + int 인스턴스"
   ]
  },
  {
   "cell_type": "markdown",
   "id": "148e915c-3e91-47f4-bfbc-2ff18f0205df",
   "metadata": {},
   "source": [
    "(안되는코드)"
   ]
  },
  {
   "cell_type": "code",
   "execution_count": 18,
   "id": "3492fa2c-d2c3-4e11-98ba-e9a26b2b0a05",
   "metadata": {},
   "outputs": [
    {
     "ename": "TypeError",
     "evalue": "unsupported operand type(s) for +: 'NoneType' and 'int'",
     "output_type": "error",
     "traceback": [
      "\u001b[0;31m---------------------------------------------------------------------------\u001b[0m",
      "\u001b[0;31mTypeError\u001b[0m                                 Traceback (most recent call last)",
      "Input \u001b[0;32mIn [18]\u001b[0m, in \u001b[0;36m<cell line: 1>\u001b[0;34m()\u001b[0m\n\u001b[0;32m----> 1\u001b[0m \u001b[43mseokjin\u001b[49m\u001b[38;5;241;43m+\u001b[39;49m\u001b[38;5;241;43m1\u001b[39;49m\u001b[38;5;241;43m+\u001b[39;49m\u001b[38;5;241;43m1\u001b[39;49m\n",
      "\u001b[0;31mTypeError\u001b[0m: unsupported operand type(s) for +: 'NoneType' and 'int'"
     ]
    }
   ],
   "source": [
    "seokjin+1+1"
   ]
  },
  {
   "cell_type": "code",
   "execution_count": 19,
   "id": "2a0b63a6-7759-4dd6-aed6-9e0370ee6737",
   "metadata": {},
   "outputs": [
    {
     "data": {
      "text/plain": [
       "NoneType"
      ]
     },
     "execution_count": 19,
     "metadata": {},
     "output_type": "execute_result"
    }
   ],
   "source": [
    "_a=seokjin+1\n",
    "type(_a)"
   ]
  },
  {
   "cell_type": "code",
   "execution_count": 20,
   "id": "fd690e3b-edeb-4617-bd0f-1ccc48c132f5",
   "metadata": {},
   "outputs": [
    {
     "ename": "TypeError",
     "evalue": "unsupported operand type(s) for +: 'NoneType' and 'int'",
     "output_type": "error",
     "traceback": [
      "\u001b[0;31m---------------------------------------------------------------------------\u001b[0m",
      "\u001b[0;31mTypeError\u001b[0m                                 Traceback (most recent call last)",
      "Input \u001b[0;32mIn [20]\u001b[0m, in \u001b[0;36m<cell line: 1>\u001b[0;34m()\u001b[0m\n\u001b[0;32m----> 1\u001b[0m \u001b[43m_a\u001b[49m\u001b[38;5;241;43m+\u001b[39;49m\u001b[38;5;241;43m1\u001b[39;49m\n",
      "\u001b[0;31mTypeError\u001b[0m: unsupported operand type(s) for +: 'NoneType' and 'int'"
     ]
    }
   ],
   "source": [
    "_a+1"
   ]
  },
  {
   "cell_type": "markdown",
   "id": "9cab4b6f-9491-41ca-b30c-5ca2187fe172",
   "metadata": {},
   "source": [
    "`-` 에러를 해결하는 방법 : seokjin+1의 결과로 Student클래스의 인스턴스가 리턴되면 된다."
   ]
  },
  {
   "cell_type": "code",
   "execution_count": 22,
   "id": "27f432fc-9328-4ceb-9971-4b4dbcfdd8ea",
   "metadata": {},
   "outputs": [],
   "source": [
    "class Student:\n",
    "    def __init__(self,age=20.0,semester=0):\n",
    "        self.age=age\n",
    "        self.semester=semester\n",
    "        print(\"입학을 축하합니다. 당신의 나이는 {}이고 현재 학기는 {}학기 입니다.\".format(self.age,self.semester))\n",
    "    def __add__(self,val):\n",
    "        # val == 0: 휴학\n",
    "        # val == 1: 등록\n",
    "        if val==0:\n",
    "            self.age=self.age+0.5\n",
    "        elif val==1:\n",
    "            self.age=self.age+0.5\n",
    "            self.semester=self.semester+1\n",
    "        return self\n",
    "    def _repr_html_(self):\n",
    "        html_str=\"\"\"\n",
    "        나이: {} <br/>\n",
    "        학기: {} <br/>\n",
    "        \"\"\"\n",
    "        return html_str.format(self.age,self.semester)"
   ]
  },
  {
   "cell_type": "code",
   "execution_count": 23,
   "id": "3e6975c3-30d8-48a6-be68-6cc0cb3652d5",
   "metadata": {},
   "outputs": [
    {
     "name": "stdout",
     "output_type": "stream",
     "text": [
      "입학을 축하합니다. 당신의 나이는 20.0이고 현재 학기는 0학기 입니다.\n"
     ]
    }
   ],
   "source": [
    "seokjin=Student()"
   ]
  },
  {
   "cell_type": "code",
   "execution_count": 24,
   "id": "c69de126-fa58-4d6b-8430-f07d4334f95f",
   "metadata": {},
   "outputs": [
    {
     "data": {
      "text/html": [
       "\n",
       "        나이: 20.5 <br/>\n",
       "        학기: 1 <br/>\n",
       "        "
      ],
      "text/plain": [
       "<__main__.Student at 0x7fc359ee8c10>"
      ]
     },
     "execution_count": 24,
     "metadata": {},
     "output_type": "execute_result"
    }
   ],
   "source": [
    "seokjin+1"
   ]
  },
  {
   "cell_type": "code",
   "execution_count": 25,
   "id": "2d53f63e-3fb9-4256-8a7d-e36929c1b502",
   "metadata": {},
   "outputs": [
    {
     "data": {
      "text/html": [
       "\n",
       "        나이: 24.0 <br/>\n",
       "        학기: 6 <br/>\n",
       "        "
      ],
      "text/plain": [
       "<__main__.Student at 0x7fc359ee8c10>"
      ]
     },
     "execution_count": 25,
     "metadata": {},
     "output_type": "execute_result"
    }
   ],
   "source": [
    "seokjin+0+1+0+1+1+1+1"
   ]
  },
  {
   "cell_type": "markdown",
   "id": "0851daa8-5bc7-4eb8-bedb-790b74466335",
   "metadata": {},
   "source": [
    "### `__mul__`"
   ]
  },
  {
   "cell_type": "code",
   "execution_count": 32,
   "id": "b81e6b2f-c241-4598-8097-78f2e307464d",
   "metadata": {},
   "outputs": [],
   "source": [
    "class RPC:\n",
    "    def __init__(self,candidate=['가위','바위','보']):\n",
    "        self.candidate=candidate\n",
    "        self.actions=list()\n",
    "        self.results=list()\n",
    "    def __mul__(self,other):\n",
    "        self.choose()\n",
    "        other.choose()\n",
    "        if self.actions[-1]== '가위'and other.actions[-1]=='가위':\n",
    "            self.results.append(0)\n",
    "            other.results.append(0)\n",
    "        if self.actions[-1]== '가위'and other.actions[-1]=='바위':\n",
    "            self.results.append(-1)\n",
    "            other.results.append(1)\n",
    "        if self.actions[-1]== '가위'and other.actions[-1]=='보':\n",
    "            self.results.append(1)\n",
    "            other.results.append(-1)\n",
    "        if self.actions[-1]== '바위'and other.actions[-1]=='가위':\n",
    "            self.results.append(1)\n",
    "            other.results.append(-1)\n",
    "        if self.actions[-1]== '바위'and other.actions[-1]=='바위':\n",
    "            self.results.append(0)\n",
    "            other.results.append(0)\n",
    "        if self.actions[-1]== '바위'and other.actions[-1]=='보':\n",
    "            self.results.append(-1)\n",
    "            other.results.append(1)\n",
    "        if self.actions[-1]== '보'and other.actions[-1]=='가위':\n",
    "            self.results.append(-1)\n",
    "            other.results.append(1)\n",
    "        if self.actions[-1]== '보'and other.actions[-1]=='바위':\n",
    "            self.results.append(1)\n",
    "            other.results.append(-1)\n",
    "        if self.actions[-1]== '보'and other.actions[-1]=='보':\n",
    "            self.results.append(0)\n",
    "            other.results.append(0)\n",
    "    def choose(self):\n",
    "        self.actions.append(np.random.choice(self.candidate))\n",
    "    def _repr_html_(self):\n",
    "        html_str=\"\"\"\n",
    "        낼 수 있는 패: {} <br/>\n",
    "        액션: {} <br/>\n",
    "        승패: {}\n",
    "        \"\"\"\n",
    "        return html_str.format(self.candidate,self.actions,self.results)"
   ]
  },
  {
   "cell_type": "code",
   "execution_count": 33,
   "id": "d5b53903-79ed-4ce5-a867-875f875f9793",
   "metadata": {},
   "outputs": [],
   "source": [
    "a=RPC()\n",
    "b=RPC()"
   ]
  },
  {
   "cell_type": "code",
   "execution_count": 34,
   "id": "c13e8ff1-9d4a-4a3f-9073-a806f648e2dd",
   "metadata": {},
   "outputs": [
    {
     "data": {
      "text/html": [
       "\n",
       "        낼 수 있는 패: ['가위', '바위', '보'] <br/>\n",
       "        액션: [] <br/>\n",
       "        승패: []\n",
       "        "
      ],
      "text/plain": [
       "<__main__.RPC at 0x7fc359f129a0>"
      ]
     },
     "execution_count": 34,
     "metadata": {},
     "output_type": "execute_result"
    }
   ],
   "source": [
    "a"
   ]
  },
  {
   "cell_type": "code",
   "execution_count": 35,
   "id": "0f99c6ff-078f-4e5a-ad1d-154884b047dd",
   "metadata": {},
   "outputs": [
    {
     "data": {
      "text/html": [
       "\n",
       "        낼 수 있는 패: ['가위', '바위', '보'] <br/>\n",
       "        액션: [] <br/>\n",
       "        승패: []\n",
       "        "
      ],
      "text/plain": [
       "<__main__.RPC at 0x7fc359d9c5b0>"
      ]
     },
     "execution_count": 35,
     "metadata": {},
     "output_type": "execute_result"
    }
   ],
   "source": [
    "b"
   ]
  },
  {
   "cell_type": "code",
   "execution_count": 36,
   "id": "395e5657-82b9-45f8-8a4b-bc6173462aef",
   "metadata": {},
   "outputs": [],
   "source": [
    "a*b"
   ]
  },
  {
   "cell_type": "code",
   "execution_count": 37,
   "id": "71023028-b282-4dfc-b94c-a9c4c6d45552",
   "metadata": {},
   "outputs": [
    {
     "data": {
      "text/html": [
       "\n",
       "        낼 수 있는 패: ['가위', '바위', '보'] <br/>\n",
       "        액션: ['가위'] <br/>\n",
       "        승패: [0]\n",
       "        "
      ],
      "text/plain": [
       "<__main__.RPC at 0x7fc359f129a0>"
      ]
     },
     "execution_count": 37,
     "metadata": {},
     "output_type": "execute_result"
    }
   ],
   "source": [
    "a"
   ]
  },
  {
   "cell_type": "code",
   "execution_count": 38,
   "id": "3721c8e6-ba5b-4330-9407-2142c30ac5f3",
   "metadata": {},
   "outputs": [
    {
     "data": {
      "text/html": [
       "\n",
       "        낼 수 있는 패: ['가위', '바위', '보'] <br/>\n",
       "        액션: ['가위'] <br/>\n",
       "        승패: [0]\n",
       "        "
      ],
      "text/plain": [
       "<__main__.RPC at 0x7fc359d9c5b0>"
      ]
     },
     "execution_count": 38,
     "metadata": {},
     "output_type": "execute_result"
    }
   ],
   "source": [
    "b"
   ]
  },
  {
   "cell_type": "code",
   "execution_count": 39,
   "id": "91b55d27-3eb0-434a-a67e-a55e7f3eb798",
   "metadata": {},
   "outputs": [],
   "source": [
    "for i in range(10):\n",
    "    a*b"
   ]
  },
  {
   "cell_type": "code",
   "execution_count": 40,
   "id": "cc802758-47e7-4e1b-887b-43ee0177f359",
   "metadata": {},
   "outputs": [
    {
     "data": {
      "text/html": [
       "\n",
       "        낼 수 있는 패: ['가위', '바위', '보'] <br/>\n",
       "        액션: ['가위', '가위', '가위', '가위', '가위', '보', '가위', '바위', '보', '가위', '가위'] <br/>\n",
       "        승패: [0, 1, 0, -1, -1, -1, 0, -1, 1, -1, 0]\n",
       "        "
      ],
      "text/plain": [
       "<__main__.RPC at 0x7fc359f129a0>"
      ]
     },
     "execution_count": 40,
     "metadata": {},
     "output_type": "execute_result"
    }
   ],
   "source": [
    "a"
   ]
  },
  {
   "cell_type": "code",
   "execution_count": 41,
   "id": "8a5ea434-ddef-4802-a15a-982442d8d341",
   "metadata": {},
   "outputs": [
    {
     "data": {
      "text/html": [
       "\n",
       "        낼 수 있는 패: ['가위', '바위', '보'] <br/>\n",
       "        액션: ['가위', '보', '가위', '바위', '바위', '가위', '가위', '보', '바위', '바위', '가위'] <br/>\n",
       "        승패: [0, -1, 0, 1, 1, 1, 0, 1, -1, 1, 0]\n",
       "        "
      ],
      "text/plain": [
       "<__main__.RPC at 0x7fc359d9c5b0>"
      ]
     },
     "execution_count": 41,
     "metadata": {},
     "output_type": "execute_result"
    }
   ],
   "source": [
    "b"
   ]
  },
  {
   "cell_type": "code",
   "execution_count": 42,
   "id": "f02de295-a15c-4d04-b22a-5e51712b684b",
   "metadata": {},
   "outputs": [],
   "source": [
    "for i in range(50000):\n",
    "    a*b"
   ]
  },
  {
   "cell_type": "code",
   "execution_count": 43,
   "id": "002eef77-6991-415f-bc5d-9af7f402261c",
   "metadata": {},
   "outputs": [
    {
     "data": {
      "text/plain": [
       "-0.0030793225490392115"
      ]
     },
     "execution_count": 43,
     "metadata": {},
     "output_type": "execute_result"
    }
   ],
   "source": [
    "sum(a.results)/len(a.results)"
   ]
  },
  {
   "cell_type": "code",
   "execution_count": 44,
   "id": "a51b5c35-46d4-4435-b3a7-4510716877c4",
   "metadata": {},
   "outputs": [
    {
     "data": {
      "text/plain": [
       "0.0030793225490392115"
      ]
     },
     "execution_count": 44,
     "metadata": {},
     "output_type": "execute_result"
    }
   ],
   "source": [
    "sum(b.results)/len(b.results)"
   ]
  },
  {
   "cell_type": "code",
   "execution_count": null,
   "id": "fd955663-6a30-456c-85de-3dec3d90d47a",
   "metadata": {},
   "outputs": [],
   "source": []
  }
 ],
 "metadata": {
  "kernelspec": {
   "display_name": "Python 3 (ipykernel)",
   "language": "python",
   "name": "python3"
  },
  "language_info": {
   "codemirror_mode": {
    "name": "ipython",
    "version": 3
   },
   "file_extension": ".py",
   "mimetype": "text/x-python",
   "name": "python",
   "nbconvert_exporter": "python",
   "pygments_lexer": "ipython3",
   "version": "3.9.7"
  }
 },
 "nbformat": 4,
 "nbformat_minor": 5
}
