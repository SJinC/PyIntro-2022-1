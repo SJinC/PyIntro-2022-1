{
 "cells": [
  {
   "cell_type": "markdown",
   "id": "e0a8e2a0-86ed-40f5-adf4-a7f6a9fb2a29",
   "metadata": {
    "tags": []
   },
   "source": [
    "# 파이썬 5월 30일 강의 복습\n",
    "> \"7월 11일\"\n",
    "\n",
    "- toc:true\n",
    "- branch: master\n",
    "- badges: true\n",
    "- comments: true\n",
    "- author: 최석진\n",
    "- categories: [Python]"
   ]
  },
  {
   "cell_type": "markdown",
   "id": "ada4d325-b11e-4072-9e4d-4e769cb91189",
   "metadata": {},
   "source": [
    "## 클래스 공부 6단계"
   ]
  },
  {
   "cell_type": "markdown",
   "id": "cc4fc0e1-32d9-45a2-85bf-71de80dd4d5d",
   "metadata": {},
   "source": [
    "`-` 상속"
   ]
  },
  {
   "cell_type": "markdown",
   "id": "18284c12-aac1-4aa7-a5e4-b0b088b6f8c2",
   "metadata": {},
   "source": [
    "### 인사관리 예제"
   ]
  },
  {
   "cell_type": "markdown",
   "id": "9215c1b7-26e1-47a4-a643-8efaa4cdacfa",
   "metadata": {},
   "source": [
    "`-` 아래와 같은 클래스를 만듬\n",
    "\n",
    "- 이름,직급,연봉에 대한 정보가 있음.\n",
    "- 연봉을 올려주는 메소드 존재."
   ]
  },
  {
   "cell_type": "code",
   "execution_count": 4,
   "id": "248de062-04a4-44cc-90d0-8cb3386b2c03",
   "metadata": {},
   "outputs": [],
   "source": [
    "class Employee:\n",
    "    def __init__(self,name,position=None,pay=0):\n",
    "        self.name=name\n",
    "        self.position=position\n",
    "        self.pay=pay\n",
    "    def _repr_html_(self):\n",
    "        html_str=\"\"\"\n",
    "        이름: {} <br/>\n",
    "        직급: {} <br/>\n",
    "        연봉: {} \n",
    "        \"\"\".format(self.name,self.position,self.pay)\n",
    "        return html_str\n",
    "    def giveraise(self,pct):\n",
    "        self.pay=self.pay*(1+pct)"
   ]
  },
  {
   "cell_type": "code",
   "execution_count": 9,
   "id": "cd1f5725-b089-4d7c-be5c-7cb871cd8914",
   "metadata": {},
   "outputs": [],
   "source": [
    "sj=Employee('sj',position='staff',pay=5000)\n",
    "iu=Employee('iu',position='staff',pay=4000)\n",
    "hd=Employee('hd',position='manager',pay=8000)"
   ]
  },
  {
   "cell_type": "code",
   "execution_count": 10,
   "id": "fbc061df-8660-4bbf-a251-4d952f944c6b",
   "metadata": {},
   "outputs": [
    {
     "data": {
      "text/html": [
       "\n",
       "        이름: sj <br/>\n",
       "        직급: staff <br/>\n",
       "        연봉: 5000 \n",
       "        "
      ],
      "text/plain": [
       "<__main__.Employee at 0x7f8eb844f700>"
      ]
     },
     "execution_count": 10,
     "metadata": {},
     "output_type": "execute_result"
    }
   ],
   "source": [
    "sj"
   ]
  },
  {
   "cell_type": "code",
   "execution_count": 11,
   "id": "64ef0c1f-b702-48ef-a98d-a28361243d03",
   "metadata": {},
   "outputs": [],
   "source": [
    "sj.giveraise(0.1)"
   ]
  },
  {
   "cell_type": "code",
   "execution_count": 12,
   "id": "06f743e9-5b1a-47d9-99df-92ef989ffed0",
   "metadata": {},
   "outputs": [
    {
     "data": {
      "text/html": [
       "\n",
       "        이름: sj <br/>\n",
       "        직급: staff <br/>\n",
       "        연봉: 5500.0 \n",
       "        "
      ],
      "text/plain": [
       "<__main__.Employee at 0x7f8eb844f700>"
      ]
     },
     "execution_count": 12,
     "metadata": {},
     "output_type": "execute_result"
    }
   ],
   "source": [
    "sj"
   ]
  },
  {
   "cell_type": "markdown",
   "id": "badf4bc0-e100-4e0b-b7ac-06ebc5b2cf7c",
   "metadata": {},
   "source": [
    "회사의 모든직원 연봉을 10%씩 인상"
   ]
  },
  {
   "cell_type": "code",
   "execution_count": 13,
   "id": "8e12f9ec-0152-4b72-9ee7-c355e8e61b1c",
   "metadata": {},
   "outputs": [],
   "source": [
    "sj=Employee('sj',position='staff',pay=5000)\n",
    "iu=Employee('iu',position='staff',pay=4000)\n",
    "hd=Employee('hd',position='manager',pay=8000)"
   ]
  },
  {
   "cell_type": "code",
   "execution_count": 14,
   "id": "ed88dc3b-2e8c-4dc9-981c-8d92bb7aec2d",
   "metadata": {},
   "outputs": [],
   "source": [
    "for i in [sj,iu,hd]:\n",
    "    i.giveraise(0.1)"
   ]
  },
  {
   "cell_type": "code",
   "execution_count": 15,
   "id": "a65d14ca-674c-4938-b077-c018652bee91",
   "metadata": {},
   "outputs": [
    {
     "data": {
      "text/html": [
       "\n",
       "        이름: iu <br/>\n",
       "        직급: staff <br/>\n",
       "        연봉: 4400.0 \n",
       "        "
      ],
      "text/plain": [
       "<__main__.Employee at 0x7f8eb844f2e0>"
      ]
     },
     "execution_count": 15,
     "metadata": {},
     "output_type": "execute_result"
    }
   ],
   "source": [
    "iu"
   ]
  },
  {
   "cell_type": "code",
   "execution_count": 16,
   "id": "84db7163-08f2-4e84-9c66-02070b9501a4",
   "metadata": {},
   "outputs": [
    {
     "data": {
      "text/html": [
       "\n",
       "        이름: sj <br/>\n",
       "        직급: staff <br/>\n",
       "        연봉: 5500.0 \n",
       "        "
      ],
      "text/plain": [
       "<__main__.Employee at 0x7f8eb844f400>"
      ]
     },
     "execution_count": 16,
     "metadata": {},
     "output_type": "execute_result"
    }
   ],
   "source": [
    "sj"
   ]
  },
  {
   "cell_type": "code",
   "execution_count": 17,
   "id": "921e310f-af6f-4d17-82e8-77733c31d258",
   "metadata": {},
   "outputs": [
    {
     "data": {
      "text/html": [
       "\n",
       "        이름: hd <br/>\n",
       "        직급: manager <br/>\n",
       "        연봉: 8800.0 \n",
       "        "
      ],
      "text/plain": [
       "<__main__.Employee at 0x7f8eb844fa60>"
      ]
     },
     "execution_count": 17,
     "metadata": {},
     "output_type": "execute_result"
    }
   ],
   "source": [
    "hd"
   ]
  },
  {
   "cell_type": "markdown",
   "id": "83a11911-853a-465f-b6e7-f302a5cd4e44",
   "metadata": {},
   "source": [
    "`-` 매니저직급은 일반직원들의 상승분에서 5%의 보너스가 추가되어 상승한다고 가정하고 모든 직원의 연봉을 10%씩 올리는 코드를 구현"
   ]
  },
  {
   "cell_type": "markdown",
   "id": "99fe2716-6735-4391-af3d-57afc225b962",
   "metadata": {},
   "source": [
    "(구현1)"
   ]
  },
  {
   "cell_type": "code",
   "execution_count": 19,
   "id": "bbb74f4b-87fc-413c-98f7-a77ccbc57784",
   "metadata": {},
   "outputs": [],
   "source": [
    "sj=Employee('sj',position='staff',pay=5000)\n",
    "iu=Employee('iu',position='staff',pay=4000)\n",
    "hd=Employee('hd',position='manager',pay=8000)"
   ]
  },
  {
   "cell_type": "code",
   "execution_count": 21,
   "id": "07027e94-69e3-4b9e-92ae-9686640bc50a",
   "metadata": {},
   "outputs": [],
   "source": [
    "for i in [sj,iu,hd]:\n",
    "    if i.position=='manager':\n",
    "        i.giveraise(0.1+0.05)\n",
    "    else:\n",
    "        i.giveraise(0.1)"
   ]
  },
  {
   "cell_type": "code",
   "execution_count": 22,
   "id": "ac91ad2b-ec82-4642-8235-cf76ef9bf1be",
   "metadata": {},
   "outputs": [
    {
     "data": {
      "text/html": [
       "\n",
       "        이름: sj <br/>\n",
       "        직급: staff <br/>\n",
       "        연봉: 5500.0 \n",
       "        "
      ],
      "text/plain": [
       "<__main__.Employee at 0x7f8eb844fac0>"
      ]
     },
     "execution_count": 22,
     "metadata": {},
     "output_type": "execute_result"
    }
   ],
   "source": [
    "sj"
   ]
  },
  {
   "cell_type": "code",
   "execution_count": 23,
   "id": "76cb7aa1-1ad0-454e-b42c-1649d5f89bb3",
   "metadata": {},
   "outputs": [
    {
     "data": {
      "text/html": [
       "\n",
       "        이름: iu <br/>\n",
       "        직급: staff <br/>\n",
       "        연봉: 4400.0 \n",
       "        "
      ],
      "text/plain": [
       "<__main__.Employee at 0x7f8eb844f970>"
      ]
     },
     "execution_count": 23,
     "metadata": {},
     "output_type": "execute_result"
    }
   ],
   "source": [
    "iu"
   ]
  },
  {
   "cell_type": "code",
   "execution_count": 24,
   "id": "41e40959-08ef-433d-b17f-548961f8fc2c",
   "metadata": {},
   "outputs": [
    {
     "data": {
      "text/html": [
       "\n",
       "        이름: hd <br/>\n",
       "        직급: manager <br/>\n",
       "        연봉: 9200.0 \n",
       "        "
      ],
      "text/plain": [
       "<__main__.Employee at 0x7f8eb844f5e0>"
      ]
     },
     "execution_count": 24,
     "metadata": {},
     "output_type": "execute_result"
    }
   ],
   "source": [
    "hd"
   ]
  },
  {
   "cell_type": "markdown",
   "id": "98ae2eba-a2c4-4686-abdd-86b1d0f47b66",
   "metadata": {},
   "source": [
    "(구현2) 새로운 클래스를 만듬"
   ]
  },
  {
   "cell_type": "code",
   "execution_count": 25,
   "id": "6431b1f0-e75e-4d37-a915-73b5bf83f254",
   "metadata": {},
   "outputs": [],
   "source": [
    "class Manager:\n",
    "    def __init__(self,name,position=None,pay=0):\n",
    "        self.name=name\n",
    "        self.position=position\n",
    "        self.pay=pay\n",
    "    def _repr_html_(self):\n",
    "        html_str=\"\"\"\n",
    "        이름: {} <br/>\n",
    "        직급: {} <br/>\n",
    "        연봉: {}\n",
    "        \"\"\".format(self.name,self.position,self.pay)\n",
    "        return html_str\n",
    "    def giveraise(self,pct):\n",
    "        self.pay=self.pay*(1+pct+0.05)"
   ]
  },
  {
   "cell_type": "code",
   "execution_count": 26,
   "id": "d63b196a-7edc-4ff6-a5ff-959a286cc524",
   "metadata": {},
   "outputs": [],
   "source": [
    "sj=Employee('sj',position='staff',pay=5000)\n",
    "iu=Employee('iu',position='staff',pay=4000)\n",
    "hd=Manager('hd',position='manager',pay=8000)"
   ]
  },
  {
   "cell_type": "code",
   "execution_count": 27,
   "id": "b4f6f614-5773-4f79-9ed3-97c4c6dde661",
   "metadata": {},
   "outputs": [],
   "source": [
    "for i in [sj,iu,hd]:\n",
    "    i.giveraise(0.1)"
   ]
  },
  {
   "cell_type": "code",
   "execution_count": 28,
   "id": "d76d7fda-fc26-4ab9-9b1e-3523a02458da",
   "metadata": {},
   "outputs": [
    {
     "data": {
      "text/html": [
       "\n",
       "        이름: sj <br/>\n",
       "        직급: staff <br/>\n",
       "        연봉: 5500.0 \n",
       "        "
      ],
      "text/plain": [
       "<__main__.Employee at 0x7f8eb8487c70>"
      ]
     },
     "execution_count": 28,
     "metadata": {},
     "output_type": "execute_result"
    }
   ],
   "source": [
    "sj"
   ]
  },
  {
   "cell_type": "code",
   "execution_count": 29,
   "id": "17570d58-59ae-4bc0-9daa-ced0394bfa4b",
   "metadata": {},
   "outputs": [
    {
     "data": {
      "text/html": [
       "\n",
       "        이름: iu <br/>\n",
       "        직급: staff <br/>\n",
       "        연봉: 4400.0 \n",
       "        "
      ],
      "text/plain": [
       "<__main__.Employee at 0x7f8eb8487790>"
      ]
     },
     "execution_count": 29,
     "metadata": {},
     "output_type": "execute_result"
    }
   ],
   "source": [
    "iu"
   ]
  },
  {
   "cell_type": "code",
   "execution_count": 30,
   "id": "eb158992-ee30-4845-acae-71bce7782cf0",
   "metadata": {},
   "outputs": [
    {
     "data": {
      "text/html": [
       "\n",
       "        이름: hd <br/>\n",
       "        직급: manager <br/>\n",
       "        연봉: 9200.000000000002\n",
       "        "
      ],
      "text/plain": [
       "<__main__.Manager at 0x7f8eb84872e0>"
      ]
     },
     "execution_count": 30,
     "metadata": {},
     "output_type": "execute_result"
    }
   ],
   "source": [
    "hd"
   ]
  },
  {
   "cell_type": "markdown",
   "id": "83a71953-ebad-444e-80e9-99d83dab186d",
   "metadata": {},
   "source": [
    "(구현3) 상속이용!"
   ]
  },
  {
   "cell_type": "code",
   "execution_count": 31,
   "id": "cfaaff23-272f-4c89-a2f0-96d21b85025d",
   "metadata": {},
   "outputs": [],
   "source": [
    "class Manager(Employee):\n",
    "    def giveraise(self,pct):\n",
    "        self.pay=self.pay*(1+pct+0.05)"
   ]
  },
  {
   "cell_type": "code",
   "execution_count": 32,
   "id": "77fd7aef-19b0-4f33-b91f-7abcbe383a1c",
   "metadata": {},
   "outputs": [],
   "source": [
    "sj=Employee('sj',position='staff',pay=5000)\n",
    "iu=Employee('iu',position='staff',pay=4000)\n",
    "hd=Manager('hd',position='manager',pay=8000)"
   ]
  },
  {
   "cell_type": "code",
   "execution_count": 33,
   "id": "995e6eea-294a-4f83-8b9e-c68005582efb",
   "metadata": {},
   "outputs": [],
   "source": [
    "for i in [sj,iu,hd]:\n",
    "    i.giveraise(0.1)"
   ]
  },
  {
   "cell_type": "code",
   "execution_count": 34,
   "id": "b32339c8-57ba-4a40-866d-fb9c71577e86",
   "metadata": {},
   "outputs": [
    {
     "data": {
      "text/html": [
       "\n",
       "        이름: sj <br/>\n",
       "        직급: staff <br/>\n",
       "        연봉: 5500.0 \n",
       "        "
      ],
      "text/plain": [
       "<__main__.Employee at 0x7f8eb8487400>"
      ]
     },
     "execution_count": 34,
     "metadata": {},
     "output_type": "execute_result"
    }
   ],
   "source": [
    "sj"
   ]
  },
  {
   "cell_type": "code",
   "execution_count": 35,
   "id": "7b688c9b-86b0-4974-82eb-6e0be69d6f18",
   "metadata": {},
   "outputs": [
    {
     "data": {
      "text/html": [
       "\n",
       "        이름: iu <br/>\n",
       "        직급: staff <br/>\n",
       "        연봉: 4400.0 \n",
       "        "
      ],
      "text/plain": [
       "<__main__.Employee at 0x7f8eb8487c40>"
      ]
     },
     "execution_count": 35,
     "metadata": {},
     "output_type": "execute_result"
    }
   ],
   "source": [
    "iu"
   ]
  },
  {
   "cell_type": "code",
   "execution_count": 36,
   "id": "61f3102e-9e27-4059-8ceb-4c3f2c13d4f3",
   "metadata": {},
   "outputs": [
    {
     "data": {
      "text/html": [
       "\n",
       "        이름: hd <br/>\n",
       "        직급: manager <br/>\n",
       "        연봉: 9200.000000000002 \n",
       "        "
      ],
      "text/plain": [
       "<__main__.Manager at 0x7f8eb8487a00>"
      ]
     },
     "execution_count": 36,
     "metadata": {},
     "output_type": "execute_result"
    }
   ],
   "source": [
    "hd"
   ]
  },
  {
   "cell_type": "markdown",
   "id": "8af30d83-e48c-4560-bc8d-a2bce65965b6",
   "metadata": {},
   "source": [
    "`-` 요약: 이미 만들어진 클래스에서 대부분의 기능은 그대로 쓰지만 일부기능만 변경 혹은 추가하고 싶다면 클래스를 상속하면 된다!"
   ]
  },
  {
   "cell_type": "markdown",
   "id": "9dd76600-ba3a-4f92-be43-59f86b18744d",
   "metadata": {},
   "source": [
    "### 리스트의 상속"
   ]
  },
  {
   "cell_type": "markdown",
   "id": "8fddd77f-c7df-4e34-b597-f97a8970b1a3",
   "metadata": {},
   "source": [
    "`-` list와 비슷한데 멤버들의 빈도가 계산되는 메소드를 포함하는 새로운 나만의 list를 만들고 싶다."
   ]
  },
  {
   "cell_type": "code",
   "execution_count": 37,
   "id": "f4731e68-980e-4b25-a2eb-8af26a3b8164",
   "metadata": {},
   "outputs": [
    {
     "data": {
      "text/plain": [
       "['a', 'b', 'c', 'd', 'a', 'b', 'b']"
      ]
     },
     "execution_count": 37,
     "metadata": {},
     "output_type": "execute_result"
    }
   ],
   "source": [
    "lst=['a','b','c','d','a','b','b']\n",
    "lst"
   ]
  },
  {
   "cell_type": "markdown",
   "id": "43ac35e8-9368-4c68-8523-41fa93d86389",
   "metadata": {},
   "source": [
    "`-` 아래와 같은 딕셔너리를 마들고 싶다."
   ]
  },
  {
   "cell_type": "code",
   "execution_count": 38,
   "id": "5ad23e23-c3ac-4867-81a6-cf151b18db0c",
   "metadata": {},
   "outputs": [
    {
     "data": {
      "text/plain": [
       "{'a': 2, 'b': 3, 'c': 1, 'd': 1}"
      ]
     },
     "execution_count": 38,
     "metadata": {},
     "output_type": "execute_result"
    }
   ],
   "source": [
    "freq={'a':2,'b':3,'c':1,'d':1}\n",
    "freq"
   ]
  },
  {
   "cell_type": "markdown",
   "id": "02586b24-aa3b-4fa8-8edf-abc334aeef8b",
   "metadata": {},
   "source": [
    "- `lst.frequency()`를 입력하면 위의 기능이 수행되도록 변형된 list를 쓰고 싶다."
   ]
  },
  {
   "cell_type": "markdown",
   "id": "76a2b0fe-4b24-4d16-8d5f-c81f44445538",
   "metadata": {},
   "source": [
    "`-` 구현"
   ]
  },
  {
   "cell_type": "markdown",
   "id": "c7f31e9e-87ea-46f4-bd70-e5fb3af6b709",
   "metadata": {},
   "source": [
    "(시도1)"
   ]
  },
  {
   "cell_type": "code",
   "execution_count": 40,
   "id": "323c9737-605a-4f17-b4e0-a9d98b0f8f3a",
   "metadata": {},
   "outputs": [
    {
     "data": {
      "text/plain": [
       "['a', 'b', 'c', 'd', 'a', 'b', 'b']"
      ]
     },
     "execution_count": 40,
     "metadata": {},
     "output_type": "execute_result"
    }
   ],
   "source": [
    "lst"
   ]
  },
  {
   "cell_type": "code",
   "execution_count": 41,
   "id": "af865656-6d0b-40b3-a79d-f9d318315861",
   "metadata": {},
   "outputs": [
    {
     "data": {
      "text/plain": [
       "{'a': 0, 'b': 0, 'c': 0, 'd': 0}"
      ]
     },
     "execution_count": 41,
     "metadata": {},
     "output_type": "execute_result"
    }
   ],
   "source": [
    "freq={'a':0,'b':0,'c':0,'d':0}\n",
    "freq"
   ]
  },
  {
   "cell_type": "code",
   "execution_count": 42,
   "id": "31865ad0-145e-49d3-bfd1-f15748b716e7",
   "metadata": {},
   "outputs": [],
   "source": [
    "for item in lst:\n",
    "    freq[item]=freq[item]+1"
   ]
  },
  {
   "cell_type": "code",
   "execution_count": 43,
   "id": "0d1ddd79-e09f-4952-8b39-398c87f9c6ae",
   "metadata": {},
   "outputs": [
    {
     "data": {
      "text/plain": [
       "{'a': 2, 'b': 3, 'c': 1, 'd': 1}"
      ]
     },
     "execution_count": 43,
     "metadata": {},
     "output_type": "execute_result"
    }
   ],
   "source": [
    "freq"
   ]
  },
  {
   "cell_type": "markdown",
   "id": "fa24fa14-b107-459c-96e8-19e73ecb7d96",
   "metadata": {},
   "source": [
    "(시도2)"
   ]
  },
  {
   "cell_type": "code",
   "execution_count": 44,
   "id": "c7eb24d2-b8b9-41cf-be42-a6202e769c83",
   "metadata": {},
   "outputs": [
    {
     "data": {
      "text/plain": [
       "['a', 'b', 'c', 'd', 'a', 'b', 'b']"
      ]
     },
     "execution_count": 44,
     "metadata": {},
     "output_type": "execute_result"
    }
   ],
   "source": [
    "lst"
   ]
  },
  {
   "cell_type": "code",
   "execution_count": 45,
   "id": "b23350fb-30d8-420c-bc14-731f3ab87ef4",
   "metadata": {},
   "outputs": [
    {
     "data": {
      "text/plain": [
       "{}"
      ]
     },
     "execution_count": 45,
     "metadata": {},
     "output_type": "execute_result"
    }
   ],
   "source": [
    "freq=dict()\n",
    "freq"
   ]
  },
  {
   "cell_type": "code",
   "execution_count": 46,
   "id": "4954b67a-6e44-4580-b47d-5f2b766cc5d1",
   "metadata": {},
   "outputs": [
    {
     "ename": "KeyError",
     "evalue": "'a'",
     "output_type": "error",
     "traceback": [
      "\u001b[0;31m---------------------------------------------------------------------------\u001b[0m",
      "\u001b[0;31mKeyError\u001b[0m                                  Traceback (most recent call last)",
      "Input \u001b[0;32mIn [46]\u001b[0m, in \u001b[0;36m<cell line: 1>\u001b[0;34m()\u001b[0m\n\u001b[1;32m      1\u001b[0m \u001b[38;5;28;01mfor\u001b[39;00m item \u001b[38;5;129;01min\u001b[39;00m lst:\n\u001b[0;32m----> 2\u001b[0m     freq[item]\u001b[38;5;241m=\u001b[39m\u001b[43mfreq\u001b[49m\u001b[43m[\u001b[49m\u001b[43mitem\u001b[49m\u001b[43m]\u001b[49m\u001b[38;5;241m+\u001b[39m\u001b[38;5;241m1\u001b[39m\n",
      "\u001b[0;31mKeyError\u001b[0m: 'a'"
     ]
    }
   ],
   "source": [
    "for item in lst:\n",
    "    freq[item]=freq[item]+1"
   ]
  },
  {
   "cell_type": "markdown",
   "id": "0d8ab350-1483-4972-a012-e97325ef256f",
   "metadata": {},
   "source": [
    "에러이유? `freq['a']`를 호출할 수 없다. -> freq.get('a',0) 이용"
   ]
  },
  {
   "cell_type": "markdown",
   "id": "0a086c53-2821-4ecf-b13a-ece0a03aba5a",
   "metadata": {},
   "source": [
    "(시도3)"
   ]
  },
  {
   "cell_type": "code",
   "execution_count": 47,
   "id": "db93f686-03f7-4c24-9ec1-77b36f1dd2b3",
   "metadata": {},
   "outputs": [
    {
     "data": {
      "text/plain": [
       "['a', 'b', 'c', 'd', 'a', 'b', 'b']"
      ]
     },
     "execution_count": 47,
     "metadata": {},
     "output_type": "execute_result"
    }
   ],
   "source": [
    "lst"
   ]
  },
  {
   "cell_type": "code",
   "execution_count": 48,
   "id": "c69a734e-456b-48c2-bcb2-75e8fa6ae233",
   "metadata": {},
   "outputs": [
    {
     "data": {
      "text/plain": [
       "{}"
      ]
     },
     "execution_count": 48,
     "metadata": {},
     "output_type": "execute_result"
    }
   ],
   "source": [
    "freq=dict()\n",
    "freq"
   ]
  },
  {
   "cell_type": "code",
   "execution_count": 49,
   "id": "eee37458-6ae2-4b68-aa76-9652148f97c3",
   "metadata": {},
   "outputs": [],
   "source": [
    "for item in lst:\n",
    "    freq[item]=freq.get(item,0)+1"
   ]
  },
  {
   "cell_type": "code",
   "execution_count": 50,
   "id": "1077698d-64aa-4fdd-927c-32f751eb2180",
   "metadata": {},
   "outputs": [
    {
     "data": {
      "text/plain": [
       "{'a': 2, 'b': 3, 'c': 1, 'd': 1}"
      ]
     },
     "execution_count": 50,
     "metadata": {},
     "output_type": "execute_result"
    }
   ],
   "source": [
    "freq"
   ]
  },
  {
   "cell_type": "markdown",
   "id": "c561eac8-0bee-4eea-997c-797bfd6cbdff",
   "metadata": {},
   "source": [
    "`-` 이것을 내가 정의하는 새로운 list의 메소드로 넣고 싶다."
   ]
  },
  {
   "cell_type": "code",
   "execution_count": 51,
   "id": "d7f7e0a5-a248-4f1c-918e-4dafb6ac9dcd",
   "metadata": {},
   "outputs": [],
   "source": [
    "class L(list):\n",
    "    def frequency(self):\n",
    "        freq=dict()\n",
    "        for item in self:\n",
    "            freq[item]=freq.get(item,0)+1\n",
    "        return freq"
   ]
  },
  {
   "cell_type": "code",
   "execution_count": 55,
   "id": "81af6bfc-d6ad-4b4f-b004-edff54e9005d",
   "metadata": {},
   "outputs": [],
   "source": [
    "lst=L([1,1,1,2,2,3])"
   ]
  },
  {
   "cell_type": "code",
   "execution_count": 56,
   "id": "e57357b4-0ea4-46fc-939f-293d6b6be16d",
   "metadata": {},
   "outputs": [
    {
     "data": {
      "text/plain": [
       "[1, 1, 1, 2, 2, 3]"
      ]
     },
     "execution_count": 56,
     "metadata": {},
     "output_type": "execute_result"
    }
   ],
   "source": [
    "lst #원래list에 있는 repr기능을 상속받아서 이루어지는 결과"
   ]
  },
  {
   "cell_type": "code",
   "execution_count": 57,
   "id": "d30f42ef-07fa-4064-b27d-7afa601ef196",
   "metadata": {},
   "outputs": [],
   "source": [
    "_lst=L([4,5,6])"
   ]
  },
  {
   "cell_type": "code",
   "execution_count": 58,
   "id": "4dd6a167-cdf2-438a-9ab8-2429102e2799",
   "metadata": {},
   "outputs": [
    {
     "data": {
      "text/plain": [
       "[1, 1, 1, 2, 2, 3, 4, 5, 6]"
      ]
     },
     "execution_count": 58,
     "metadata": {},
     "output_type": "execute_result"
    }
   ],
   "source": [
    "lst+_lst"
   ]
  },
  {
   "cell_type": "code",
   "execution_count": 59,
   "id": "195e68be-0ea1-4c22-ab21-6d8e7cc1400c",
   "metadata": {},
   "outputs": [
    {
     "data": {
      "text/plain": [
       "[1, 1, 1, 2, 2, 3, 4, 5, 6]"
      ]
     },
     "execution_count": 59,
     "metadata": {},
     "output_type": "execute_result"
    }
   ],
   "source": [
    "lst+[4,5,6] #L자료형과 list자료형의 덧셈가능"
   ]
  },
  {
   "cell_type": "markdown",
   "id": "da1442ea-dfee-4106-9c52-7d712550ee4c",
   "metadata": {},
   "source": [
    "- L자료형의 덧셈은 list의 덧셈과 완전히 같음"
   ]
  },
  {
   "cell_type": "code",
   "execution_count": 60,
   "id": "f6672af8-6766-4b7b-af89-157b43fa4dbf",
   "metadata": {},
   "outputs": [
    {
     "data": {
      "text/plain": [
       "[1, 1, 1, 2, 2, 3, 10]"
      ]
     },
     "execution_count": 60,
     "metadata": {},
     "output_type": "execute_result"
    }
   ],
   "source": [
    "lst.append(10) #append함수도 그대로 사용가능\n",
    "lst"
   ]
  },
  {
   "cell_type": "markdown",
   "id": "e700082a-ac3e-4490-8036-5f4d1d1a9b06",
   "metadata": {},
   "source": [
    "`-` 기존리스트에서 추가로 frequency() 메소드가 존재함."
   ]
  },
  {
   "cell_type": "code",
   "execution_count": 61,
   "id": "e04baa19-d3e8-4fba-9293-746a27578d51",
   "metadata": {},
   "outputs": [
    {
     "data": {
      "text/plain": [
       "{1: 3, 2: 2, 3: 1, 10: 1}"
      ]
     },
     "execution_count": 61,
     "metadata": {},
     "output_type": "execute_result"
    }
   ],
   "source": [
    "lst.frequency()"
   ]
  },
  {
   "cell_type": "markdown",
   "id": "a633e9bb-be21-49c3-be4b-898da3844bb6",
   "metadata": {},
   "source": [
    "## **Appendix : 사용자정의 자료형의 유용함**"
   ]
  },
  {
   "cell_type": "markdown",
   "id": "fc7b99fb-6197-46d2-998a-8ca3f393033f",
   "metadata": {},
   "source": [
    "`-` 사용자정의 자료형이 어떤 경우에는 유용할 수 있다."
   ]
  },
  {
   "cell_type": "code",
   "execution_count": 62,
   "id": "47dd6297-80ea-43cb-91a7-59269b1f7802",
   "metadata": {},
   "outputs": [],
   "source": [
    "import pandas as pd\n",
    "import numpy as np\n",
    "import matplotlib.pyplot as plt"
   ]
  },
  {
   "cell_type": "markdown",
   "id": "bb79ddaf-750d-464c-acc5-42af75e4e1c4",
   "metadata": {},
   "source": [
    "`-` 예제1"
   ]
  },
  {
   "cell_type": "code",
   "execution_count": 63,
   "id": "8c1ca28c-59c0-40e8-87f2-2dac513e84f8",
   "metadata": {},
   "outputs": [],
   "source": [
    "year=['2016','2017','2017','2017',2017,2018,2018,2019,2019]\n",
    "value=np.random.randn(9)"
   ]
  },
  {
   "cell_type": "code",
   "execution_count": 64,
   "id": "2326ed45-edb6-418e-a968-60bee553af36",
   "metadata": {},
   "outputs": [
    {
     "data": {
      "text/html": [
       "<div>\n",
       "<style scoped>\n",
       "    .dataframe tbody tr th:only-of-type {\n",
       "        vertical-align: middle;\n",
       "    }\n",
       "\n",
       "    .dataframe tbody tr th {\n",
       "        vertical-align: top;\n",
       "    }\n",
       "\n",
       "    .dataframe thead th {\n",
       "        text-align: right;\n",
       "    }\n",
       "</style>\n",
       "<table border=\"1\" class=\"dataframe\">\n",
       "  <thead>\n",
       "    <tr style=\"text-align: right;\">\n",
       "      <th></th>\n",
       "      <th>year</th>\n",
       "      <th>value</th>\n",
       "    </tr>\n",
       "  </thead>\n",
       "  <tbody>\n",
       "    <tr>\n",
       "      <th>0</th>\n",
       "      <td>2016</td>\n",
       "      <td>-0.088765</td>\n",
       "    </tr>\n",
       "    <tr>\n",
       "      <th>1</th>\n",
       "      <td>2017</td>\n",
       "      <td>0.054608</td>\n",
       "    </tr>\n",
       "    <tr>\n",
       "      <th>2</th>\n",
       "      <td>2017</td>\n",
       "      <td>0.899841</td>\n",
       "    </tr>\n",
       "    <tr>\n",
       "      <th>3</th>\n",
       "      <td>2017</td>\n",
       "      <td>1.283843</td>\n",
       "    </tr>\n",
       "    <tr>\n",
       "      <th>4</th>\n",
       "      <td>2017</td>\n",
       "      <td>0.413797</td>\n",
       "    </tr>\n",
       "    <tr>\n",
       "      <th>5</th>\n",
       "      <td>2018</td>\n",
       "      <td>0.523271</td>\n",
       "    </tr>\n",
       "    <tr>\n",
       "      <th>6</th>\n",
       "      <td>2018</td>\n",
       "      <td>-0.745608</td>\n",
       "    </tr>\n",
       "    <tr>\n",
       "      <th>7</th>\n",
       "      <td>2019</td>\n",
       "      <td>0.464243</td>\n",
       "    </tr>\n",
       "    <tr>\n",
       "      <th>8</th>\n",
       "      <td>2019</td>\n",
       "      <td>0.271543</td>\n",
       "    </tr>\n",
       "  </tbody>\n",
       "</table>\n",
       "</div>"
      ],
      "text/plain": [
       "   year     value\n",
       "0  2016 -0.088765\n",
       "1  2017  0.054608\n",
       "2  2017  0.899841\n",
       "3  2017  1.283843\n",
       "4  2017  0.413797\n",
       "5  2018  0.523271\n",
       "6  2018 -0.745608\n",
       "7  2019  0.464243\n",
       "8  2019  0.271543"
      ]
     },
     "execution_count": 64,
     "metadata": {},
     "output_type": "execute_result"
    }
   ],
   "source": [
    "df=pd.DataFrame({'year':year,'value':value})\n",
    "df"
   ]
  },
  {
   "cell_type": "code",
   "execution_count": 65,
   "id": "eb080384-c429-4d42-b93a-bf6c85f2e657",
   "metadata": {},
   "outputs": [
    {
     "ename": "TypeError",
     "evalue": "'value' must be an instance of str or bytes, not a int",
     "output_type": "error",
     "traceback": [
      "\u001b[0;31m---------------------------------------------------------------------------\u001b[0m",
      "\u001b[0;31mTypeError\u001b[0m                                 Traceback (most recent call last)",
      "Input \u001b[0;32mIn [65]\u001b[0m, in \u001b[0;36m<cell line: 1>\u001b[0;34m()\u001b[0m\n\u001b[0;32m----> 1\u001b[0m \u001b[43mplt\u001b[49m\u001b[38;5;241;43m.\u001b[39;49m\u001b[43mplot\u001b[49m\u001b[43m(\u001b[49m\u001b[43mdf\u001b[49m\u001b[38;5;241;43m.\u001b[39;49m\u001b[43myear\u001b[49m\u001b[43m,\u001b[49m\u001b[43mdf\u001b[49m\u001b[38;5;241;43m.\u001b[39;49m\u001b[43mvalue\u001b[49m\u001b[43m)\u001b[49m\n",
      "File \u001b[0;32m~/opt/anaconda3/envs/py39/lib/python3.9/site-packages/matplotlib/pyplot.py:2757\u001b[0m, in \u001b[0;36mplot\u001b[0;34m(scalex, scaley, data, *args, **kwargs)\u001b[0m\n\u001b[1;32m   2755\u001b[0m \u001b[38;5;129m@_copy_docstring_and_deprecators\u001b[39m(Axes\u001b[38;5;241m.\u001b[39mplot)\n\u001b[1;32m   2756\u001b[0m \u001b[38;5;28;01mdef\u001b[39;00m \u001b[38;5;21mplot\u001b[39m(\u001b[38;5;241m*\u001b[39margs, scalex\u001b[38;5;241m=\u001b[39m\u001b[38;5;28;01mTrue\u001b[39;00m, scaley\u001b[38;5;241m=\u001b[39m\u001b[38;5;28;01mTrue\u001b[39;00m, data\u001b[38;5;241m=\u001b[39m\u001b[38;5;28;01mNone\u001b[39;00m, \u001b[38;5;241m*\u001b[39m\u001b[38;5;241m*\u001b[39mkwargs):\n\u001b[0;32m-> 2757\u001b[0m     \u001b[38;5;28;01mreturn\u001b[39;00m \u001b[43mgca\u001b[49m\u001b[43m(\u001b[49m\u001b[43m)\u001b[49m\u001b[38;5;241;43m.\u001b[39;49m\u001b[43mplot\u001b[49m\u001b[43m(\u001b[49m\n\u001b[1;32m   2758\u001b[0m \u001b[43m        \u001b[49m\u001b[38;5;241;43m*\u001b[39;49m\u001b[43margs\u001b[49m\u001b[43m,\u001b[49m\u001b[43m \u001b[49m\u001b[43mscalex\u001b[49m\u001b[38;5;241;43m=\u001b[39;49m\u001b[43mscalex\u001b[49m\u001b[43m,\u001b[49m\u001b[43m \u001b[49m\u001b[43mscaley\u001b[49m\u001b[38;5;241;43m=\u001b[39;49m\u001b[43mscaley\u001b[49m\u001b[43m,\u001b[49m\n\u001b[1;32m   2759\u001b[0m \u001b[43m        \u001b[49m\u001b[38;5;241;43m*\u001b[39;49m\u001b[38;5;241;43m*\u001b[39;49m\u001b[43m(\u001b[49m\u001b[43m{\u001b[49m\u001b[38;5;124;43m\"\u001b[39;49m\u001b[38;5;124;43mdata\u001b[39;49m\u001b[38;5;124;43m\"\u001b[39;49m\u001b[43m:\u001b[49m\u001b[43m \u001b[49m\u001b[43mdata\u001b[49m\u001b[43m}\u001b[49m\u001b[43m \u001b[49m\u001b[38;5;28;43;01mif\u001b[39;49;00m\u001b[43m \u001b[49m\u001b[43mdata\u001b[49m\u001b[43m \u001b[49m\u001b[38;5;129;43;01mis\u001b[39;49;00m\u001b[43m \u001b[49m\u001b[38;5;129;43;01mnot\u001b[39;49;00m\u001b[43m \u001b[49m\u001b[38;5;28;43;01mNone\u001b[39;49;00m\u001b[43m \u001b[49m\u001b[38;5;28;43;01melse\u001b[39;49;00m\u001b[43m \u001b[49m\u001b[43m{\u001b[49m\u001b[43m}\u001b[49m\u001b[43m)\u001b[49m\u001b[43m,\u001b[49m\u001b[43m \u001b[49m\u001b[38;5;241;43m*\u001b[39;49m\u001b[38;5;241;43m*\u001b[39;49m\u001b[43mkwargs\u001b[49m\u001b[43m)\u001b[49m\n",
      "File \u001b[0;32m~/opt/anaconda3/envs/py39/lib/python3.9/site-packages/matplotlib/axes/_axes.py:1632\u001b[0m, in \u001b[0;36mAxes.plot\u001b[0;34m(self, scalex, scaley, data, *args, **kwargs)\u001b[0m\n\u001b[1;32m   1390\u001b[0m \u001b[38;5;124;03m\"\"\"\u001b[39;00m\n\u001b[1;32m   1391\u001b[0m \u001b[38;5;124;03mPlot y versus x as lines and/or markers.\u001b[39;00m\n\u001b[1;32m   1392\u001b[0m \n\u001b[0;32m   (...)\u001b[0m\n\u001b[1;32m   1629\u001b[0m \u001b[38;5;124;03m(``'green'``) or hex strings (``'#008000'``).\u001b[39;00m\n\u001b[1;32m   1630\u001b[0m \u001b[38;5;124;03m\"\"\"\u001b[39;00m\n\u001b[1;32m   1631\u001b[0m kwargs \u001b[38;5;241m=\u001b[39m cbook\u001b[38;5;241m.\u001b[39mnormalize_kwargs(kwargs, mlines\u001b[38;5;241m.\u001b[39mLine2D)\n\u001b[0;32m-> 1632\u001b[0m lines \u001b[38;5;241m=\u001b[39m [\u001b[38;5;241m*\u001b[39m\u001b[38;5;28mself\u001b[39m\u001b[38;5;241m.\u001b[39m_get_lines(\u001b[38;5;241m*\u001b[39margs, data\u001b[38;5;241m=\u001b[39mdata, \u001b[38;5;241m*\u001b[39m\u001b[38;5;241m*\u001b[39mkwargs)]\n\u001b[1;32m   1633\u001b[0m \u001b[38;5;28;01mfor\u001b[39;00m line \u001b[38;5;129;01min\u001b[39;00m lines:\n\u001b[1;32m   1634\u001b[0m     \u001b[38;5;28mself\u001b[39m\u001b[38;5;241m.\u001b[39madd_line(line)\n",
      "File \u001b[0;32m~/opt/anaconda3/envs/py39/lib/python3.9/site-packages/matplotlib/axes/_base.py:312\u001b[0m, in \u001b[0;36m_process_plot_var_args.__call__\u001b[0;34m(self, data, *args, **kwargs)\u001b[0m\n\u001b[1;32m    310\u001b[0m     this \u001b[38;5;241m+\u001b[39m\u001b[38;5;241m=\u001b[39m args[\u001b[38;5;241m0\u001b[39m],\n\u001b[1;32m    311\u001b[0m     args \u001b[38;5;241m=\u001b[39m args[\u001b[38;5;241m1\u001b[39m:]\n\u001b[0;32m--> 312\u001b[0m \u001b[38;5;28;01myield from\u001b[39;00m \u001b[38;5;28;43mself\u001b[39;49m\u001b[38;5;241;43m.\u001b[39;49m\u001b[43m_plot_args\u001b[49m\u001b[43m(\u001b[49m\u001b[43mthis\u001b[49m\u001b[43m,\u001b[49m\u001b[43m \u001b[49m\u001b[43mkwargs\u001b[49m\u001b[43m)\u001b[49m\n",
      "File \u001b[0;32m~/opt/anaconda3/envs/py39/lib/python3.9/site-packages/matplotlib/axes/_base.py:493\u001b[0m, in \u001b[0;36m_process_plot_var_args._plot_args\u001b[0;34m(self, tup, kwargs, return_kwargs)\u001b[0m\n\u001b[1;32m    490\u001b[0m     x, y \u001b[38;5;241m=\u001b[39m index_of(xy[\u001b[38;5;241m-\u001b[39m\u001b[38;5;241m1\u001b[39m])\n\u001b[1;32m    492\u001b[0m \u001b[38;5;28;01mif\u001b[39;00m \u001b[38;5;28mself\u001b[39m\u001b[38;5;241m.\u001b[39maxes\u001b[38;5;241m.\u001b[39mxaxis \u001b[38;5;129;01mis\u001b[39;00m \u001b[38;5;129;01mnot\u001b[39;00m \u001b[38;5;28;01mNone\u001b[39;00m:\n\u001b[0;32m--> 493\u001b[0m     \u001b[38;5;28;43mself\u001b[39;49m\u001b[38;5;241;43m.\u001b[39;49m\u001b[43maxes\u001b[49m\u001b[38;5;241;43m.\u001b[39;49m\u001b[43mxaxis\u001b[49m\u001b[38;5;241;43m.\u001b[39;49m\u001b[43mupdate_units\u001b[49m\u001b[43m(\u001b[49m\u001b[43mx\u001b[49m\u001b[43m)\u001b[49m\n\u001b[1;32m    494\u001b[0m \u001b[38;5;28;01mif\u001b[39;00m \u001b[38;5;28mself\u001b[39m\u001b[38;5;241m.\u001b[39maxes\u001b[38;5;241m.\u001b[39myaxis \u001b[38;5;129;01mis\u001b[39;00m \u001b[38;5;129;01mnot\u001b[39;00m \u001b[38;5;28;01mNone\u001b[39;00m:\n\u001b[1;32m    495\u001b[0m     \u001b[38;5;28mself\u001b[39m\u001b[38;5;241m.\u001b[39maxes\u001b[38;5;241m.\u001b[39myaxis\u001b[38;5;241m.\u001b[39mupdate_units(y)\n",
      "File \u001b[0;32m~/opt/anaconda3/envs/py39/lib/python3.9/site-packages/matplotlib/axis.py:1449\u001b[0m, in \u001b[0;36mAxis.update_units\u001b[0;34m(self, data)\u001b[0m\n\u001b[1;32m   1447\u001b[0m neednew \u001b[38;5;241m=\u001b[39m \u001b[38;5;28mself\u001b[39m\u001b[38;5;241m.\u001b[39mconverter \u001b[38;5;241m!=\u001b[39m converter\n\u001b[1;32m   1448\u001b[0m \u001b[38;5;28mself\u001b[39m\u001b[38;5;241m.\u001b[39mconverter \u001b[38;5;241m=\u001b[39m converter\n\u001b[0;32m-> 1449\u001b[0m default \u001b[38;5;241m=\u001b[39m \u001b[38;5;28;43mself\u001b[39;49m\u001b[38;5;241;43m.\u001b[39;49m\u001b[43mconverter\u001b[49m\u001b[38;5;241;43m.\u001b[39;49m\u001b[43mdefault_units\u001b[49m\u001b[43m(\u001b[49m\u001b[43mdata\u001b[49m\u001b[43m,\u001b[49m\u001b[43m \u001b[49m\u001b[38;5;28;43mself\u001b[39;49m\u001b[43m)\u001b[49m\n\u001b[1;32m   1450\u001b[0m \u001b[38;5;28;01mif\u001b[39;00m default \u001b[38;5;129;01mis\u001b[39;00m \u001b[38;5;129;01mnot\u001b[39;00m \u001b[38;5;28;01mNone\u001b[39;00m \u001b[38;5;129;01mand\u001b[39;00m \u001b[38;5;28mself\u001b[39m\u001b[38;5;241m.\u001b[39munits \u001b[38;5;129;01mis\u001b[39;00m \u001b[38;5;28;01mNone\u001b[39;00m:\n\u001b[1;32m   1451\u001b[0m     \u001b[38;5;28mself\u001b[39m\u001b[38;5;241m.\u001b[39mset_units(default)\n",
      "File \u001b[0;32m~/opt/anaconda3/envs/py39/lib/python3.9/site-packages/matplotlib/category.py:116\u001b[0m, in \u001b[0;36mStrCategoryConverter.default_units\u001b[0;34m(data, axis)\u001b[0m\n\u001b[1;32m    114\u001b[0m \u001b[38;5;66;03m# the conversion call stack is default_units -> axis_info -> convert\u001b[39;00m\n\u001b[1;32m    115\u001b[0m \u001b[38;5;28;01mif\u001b[39;00m axis\u001b[38;5;241m.\u001b[39munits \u001b[38;5;129;01mis\u001b[39;00m \u001b[38;5;28;01mNone\u001b[39;00m:\n\u001b[0;32m--> 116\u001b[0m     axis\u001b[38;5;241m.\u001b[39mset_units(\u001b[43mUnitData\u001b[49m\u001b[43m(\u001b[49m\u001b[43mdata\u001b[49m\u001b[43m)\u001b[49m)\n\u001b[1;32m    117\u001b[0m \u001b[38;5;28;01melse\u001b[39;00m:\n\u001b[1;32m    118\u001b[0m     axis\u001b[38;5;241m.\u001b[39munits\u001b[38;5;241m.\u001b[39mupdate(data)\n",
      "File \u001b[0;32m~/opt/anaconda3/envs/py39/lib/python3.9/site-packages/matplotlib/category.py:192\u001b[0m, in \u001b[0;36mUnitData.__init__\u001b[0;34m(self, data)\u001b[0m\n\u001b[1;32m    190\u001b[0m \u001b[38;5;28mself\u001b[39m\u001b[38;5;241m.\u001b[39m_counter \u001b[38;5;241m=\u001b[39m itertools\u001b[38;5;241m.\u001b[39mcount()\n\u001b[1;32m    191\u001b[0m \u001b[38;5;28;01mif\u001b[39;00m data \u001b[38;5;129;01mis\u001b[39;00m \u001b[38;5;129;01mnot\u001b[39;00m \u001b[38;5;28;01mNone\u001b[39;00m:\n\u001b[0;32m--> 192\u001b[0m     \u001b[38;5;28;43mself\u001b[39;49m\u001b[38;5;241;43m.\u001b[39;49m\u001b[43mupdate\u001b[49m\u001b[43m(\u001b[49m\u001b[43mdata\u001b[49m\u001b[43m)\u001b[49m\n",
      "File \u001b[0;32m~/opt/anaconda3/envs/py39/lib/python3.9/site-packages/matplotlib/category.py:227\u001b[0m, in \u001b[0;36mUnitData.update\u001b[0;34m(self, data)\u001b[0m\n\u001b[1;32m    224\u001b[0m convertible \u001b[38;5;241m=\u001b[39m \u001b[38;5;28;01mTrue\u001b[39;00m\n\u001b[1;32m    225\u001b[0m \u001b[38;5;28;01mfor\u001b[39;00m val \u001b[38;5;129;01min\u001b[39;00m OrderedDict\u001b[38;5;241m.\u001b[39mfromkeys(data):\n\u001b[1;32m    226\u001b[0m     \u001b[38;5;66;03m# OrderedDict just iterates over unique values in data.\u001b[39;00m\n\u001b[0;32m--> 227\u001b[0m     \u001b[43m_api\u001b[49m\u001b[38;5;241;43m.\u001b[39;49m\u001b[43mcheck_isinstance\u001b[49m\u001b[43m(\u001b[49m\u001b[43m(\u001b[49m\u001b[38;5;28;43mstr\u001b[39;49m\u001b[43m,\u001b[49m\u001b[43m \u001b[49m\u001b[38;5;28;43mbytes\u001b[39;49m\u001b[43m)\u001b[49m\u001b[43m,\u001b[49m\u001b[43m \u001b[49m\u001b[43mvalue\u001b[49m\u001b[38;5;241;43m=\u001b[39;49m\u001b[43mval\u001b[49m\u001b[43m)\u001b[49m\n\u001b[1;32m    228\u001b[0m     \u001b[38;5;28;01mif\u001b[39;00m convertible:\n\u001b[1;32m    229\u001b[0m         \u001b[38;5;66;03m# this will only be called so long as convertible is True.\u001b[39;00m\n\u001b[1;32m    230\u001b[0m         convertible \u001b[38;5;241m=\u001b[39m \u001b[38;5;28mself\u001b[39m\u001b[38;5;241m.\u001b[39m_str_is_convertible(val)\n",
      "File \u001b[0;32m~/opt/anaconda3/envs/py39/lib/python3.9/site-packages/matplotlib/_api/__init__.py:93\u001b[0m, in \u001b[0;36mcheck_isinstance\u001b[0;34m(_types, **kwargs)\u001b[0m\n\u001b[1;32m     91\u001b[0m     names\u001b[38;5;241m.\u001b[39mremove(\u001b[38;5;124m\"\u001b[39m\u001b[38;5;124mNone\u001b[39m\u001b[38;5;124m\"\u001b[39m)\n\u001b[1;32m     92\u001b[0m     names\u001b[38;5;241m.\u001b[39mappend(\u001b[38;5;124m\"\u001b[39m\u001b[38;5;124mNone\u001b[39m\u001b[38;5;124m\"\u001b[39m)\n\u001b[0;32m---> 93\u001b[0m \u001b[38;5;28;01mraise\u001b[39;00m \u001b[38;5;167;01mTypeError\u001b[39;00m(\n\u001b[1;32m     94\u001b[0m     \u001b[38;5;124m\"\u001b[39m\u001b[38;5;132;01m{!r}\u001b[39;00m\u001b[38;5;124m must be an instance of \u001b[39m\u001b[38;5;132;01m{}\u001b[39;00m\u001b[38;5;124m, not a \u001b[39m\u001b[38;5;132;01m{}\u001b[39;00m\u001b[38;5;124m\"\u001b[39m\u001b[38;5;241m.\u001b[39mformat(\n\u001b[1;32m     95\u001b[0m         k,\n\u001b[1;32m     96\u001b[0m         \u001b[38;5;124m\"\u001b[39m\u001b[38;5;124m, \u001b[39m\u001b[38;5;124m\"\u001b[39m\u001b[38;5;241m.\u001b[39mjoin(names[:\u001b[38;5;241m-\u001b[39m\u001b[38;5;241m1\u001b[39m]) \u001b[38;5;241m+\u001b[39m \u001b[38;5;124m\"\u001b[39m\u001b[38;5;124m or \u001b[39m\u001b[38;5;124m\"\u001b[39m \u001b[38;5;241m+\u001b[39m names[\u001b[38;5;241m-\u001b[39m\u001b[38;5;241m1\u001b[39m]\n\u001b[1;32m     97\u001b[0m         \u001b[38;5;28;01mif\u001b[39;00m \u001b[38;5;28mlen\u001b[39m(names) \u001b[38;5;241m>\u001b[39m \u001b[38;5;241m1\u001b[39m \u001b[38;5;28;01melse\u001b[39;00m names[\u001b[38;5;241m0\u001b[39m],\n\u001b[1;32m     98\u001b[0m         type_name(\u001b[38;5;28mtype\u001b[39m(v))))\n",
      "\u001b[0;31mTypeError\u001b[0m: 'value' must be an instance of str or bytes, not a int"
     ]
    },
    {
     "data": {
      "image/png": "[encoded data removed]",
      "text/plain": [
       "<Figure size 432x288 with 1 Axes>"
      ]
     },
     "metadata": {
      "needs_background": "light"
     },
     "output_type": "display_data"
    }
   ],
   "source": [
    "plt.plot(df.year,df.value)"
   ]
  },
  {
   "cell_type": "markdown",
   "id": "791fa2eb-af03-4ef8-b984-da03cdb0993b",
   "metadata": {},
   "source": [
    "에러의 이유 : df.year에 str,int가 동시에 존대"
   ]
  },
  {
   "cell_type": "code",
   "execution_count": 66,
   "id": "465ada7f-19f3-4873-8631-c8f0b73a79c4",
   "metadata": {},
   "outputs": [
    {
     "data": {
      "text/plain": [
       "array(['2016', '2017', '2017', '2017', 2017, 2018, 2018, 2019, 2019],\n",
       "      dtype=object)"
      ]
     },
     "execution_count": 66,
     "metadata": {},
     "output_type": "execute_result"
    }
   ],
   "source": [
    "np.array(df.year)"
   ]
  },
  {
   "cell_type": "markdown",
   "id": "9103bceb-f01e-4c41-84dd-1e1e291b1a30",
   "metadata": {},
   "source": [
    "자료형을 바꿔주면 해결가능"
   ]
  },
  {
   "cell_type": "code",
   "execution_count": 68,
   "id": "e701049a-4dbe-446f-b226-7d01b8e52b18",
   "metadata": {},
   "outputs": [
    {
     "data": {
      "text/plain": [
       "array([2016., 2017., 2017., 2017., 2017., 2018., 2018., 2019., 2019.])"
      ]
     },
     "execution_count": 68,
     "metadata": {},
     "output_type": "execute_result"
    }
   ],
   "source": [
    "np.array(df.year,dtype=np.float64)\n",
    "#np.array(df.year).astype(np.float64)\n",
    "#df.year.astype(np.float64)"
   ]
  },
  {
   "cell_type": "code",
   "execution_count": 69,
   "id": "f762d06a-2c6d-43a0-9f3e-95cc9fcf47b7",
   "metadata": {},
   "outputs": [
    {
     "data": {
      "text/plain": [
       "[<matplotlib.lines.Line2D at 0x7f8eaaa87ac0>]"
      ]
     },
     "execution_count": 69,
     "metadata": {},
     "output_type": "execute_result"
    },
    {
     "data": {
      "image/png": "[encoded data removed]",
      "text/plain": [
       "<Figure size 432x288 with 1 Axes>"
      ]
     },
     "metadata": {
      "needs_background": "light"
     },
     "output_type": "display_data"
    }
   ],
   "source": [
    "plt.plot(df.year.astype(np.float64),df.value,'.')"
   ]
  },
  {
   "cell_type": "markdown",
   "id": "36253bf0-dbf6-4bec-93e3-61ee1c408efa",
   "metadata": {},
   "source": [
    "`-` 예제2"
   ]
  },
  {
   "cell_type": "code",
   "execution_count": 70,
   "id": "9e8d97a6-c4ec-44e2-a9a1-43436846cb84",
   "metadata": {},
   "outputs": [],
   "source": [
    "year = ['2016','2017','2017','2017년','2017년',2018,2018,2019,2019] \n",
    "value = np.random.randn(9)"
   ]
  },
  {
   "cell_type": "code",
   "execution_count": 71,
   "id": "34a27f1c-31b1-4f9f-bc6e-d71efc2fe66e",
   "metadata": {},
   "outputs": [
    {
     "data": {
      "text/html": [
       "<div>\n",
       "<style scoped>\n",
       "    .dataframe tbody tr th:only-of-type {\n",
       "        vertical-align: middle;\n",
       "    }\n",
       "\n",
       "    .dataframe tbody tr th {\n",
       "        vertical-align: top;\n",
       "    }\n",
       "\n",
       "    .dataframe thead th {\n",
       "        text-align: right;\n",
       "    }\n",
       "</style>\n",
       "<table border=\"1\" class=\"dataframe\">\n",
       "  <thead>\n",
       "    <tr style=\"text-align: right;\">\n",
       "      <th></th>\n",
       "      <th>year</th>\n",
       "      <th>value</th>\n",
       "    </tr>\n",
       "  </thead>\n",
       "  <tbody>\n",
       "    <tr>\n",
       "      <th>0</th>\n",
       "      <td>2016</td>\n",
       "      <td>-0.080139</td>\n",
       "    </tr>\n",
       "    <tr>\n",
       "      <th>1</th>\n",
       "      <td>2017</td>\n",
       "      <td>0.983098</td>\n",
       "    </tr>\n",
       "    <tr>\n",
       "      <th>2</th>\n",
       "      <td>2017</td>\n",
       "      <td>-0.706139</td>\n",
       "    </tr>\n",
       "    <tr>\n",
       "      <th>3</th>\n",
       "      <td>2017년</td>\n",
       "      <td>2.326529</td>\n",
       "    </tr>\n",
       "    <tr>\n",
       "      <th>4</th>\n",
       "      <td>2017년</td>\n",
       "      <td>1.785984</td>\n",
       "    </tr>\n",
       "    <tr>\n",
       "      <th>5</th>\n",
       "      <td>2018</td>\n",
       "      <td>1.373590</td>\n",
       "    </tr>\n",
       "    <tr>\n",
       "      <th>6</th>\n",
       "      <td>2018</td>\n",
       "      <td>0.301456</td>\n",
       "    </tr>\n",
       "    <tr>\n",
       "      <th>7</th>\n",
       "      <td>2019</td>\n",
       "      <td>0.614993</td>\n",
       "    </tr>\n",
       "    <tr>\n",
       "      <th>8</th>\n",
       "      <td>2019</td>\n",
       "      <td>1.229123</td>\n",
       "    </tr>\n",
       "  </tbody>\n",
       "</table>\n",
       "</div>"
      ],
      "text/plain": [
       "    year     value\n",
       "0   2016 -0.080139\n",
       "1   2017  0.983098\n",
       "2   2017 -0.706139\n",
       "3  2017년  2.326529\n",
       "4  2017년  1.785984\n",
       "5   2018  1.373590\n",
       "6   2018  0.301456\n",
       "7   2019  0.614993\n",
       "8   2019  1.229123"
      ]
     },
     "execution_count": 71,
     "metadata": {},
     "output_type": "execute_result"
    }
   ],
   "source": [
    "df=pd.DataFrame({'year':year,'value':value})\n",
    "df"
   ]
  },
  {
   "cell_type": "code",
   "execution_count": 72,
   "id": "ba4ccabf-45cb-4ec0-897d-72fe8ab530ad",
   "metadata": {},
   "outputs": [
    {
     "ename": "ValueError",
     "evalue": "could not convert string to float: '2017년'",
     "output_type": "error",
     "traceback": [
      "\u001b[0;31m---------------------------------------------------------------------------\u001b[0m",
      "\u001b[0;31mValueError\u001b[0m                                Traceback (most recent call last)",
      "Input \u001b[0;32mIn [72]\u001b[0m, in \u001b[0;36m<cell line: 1>\u001b[0;34m()\u001b[0m\n\u001b[0;32m----> 1\u001b[0m \u001b[43mnp\u001b[49m\u001b[38;5;241;43m.\u001b[39;49m\u001b[43marray\u001b[49m\u001b[43m(\u001b[49m\u001b[43mdf\u001b[49m\u001b[38;5;241;43m.\u001b[39;49m\u001b[43myear\u001b[49m\u001b[43m,\u001b[49m\u001b[43mdtype\u001b[49m\u001b[38;5;241;43m=\u001b[39;49m\u001b[43mnp\u001b[49m\u001b[38;5;241;43m.\u001b[39;49m\u001b[43mfloat64\u001b[49m\u001b[43m)\u001b[49m\n",
      "File \u001b[0;32m~/opt/anaconda3/envs/py39/lib/python3.9/site-packages/pandas/core/series.py:872\u001b[0m, in \u001b[0;36mSeries.__array__\u001b[0;34m(self, dtype)\u001b[0m\n\u001b[1;32m    825\u001b[0m \u001b[38;5;28;01mdef\u001b[39;00m \u001b[38;5;21m__array__\u001b[39m(\u001b[38;5;28mself\u001b[39m, dtype: npt\u001b[38;5;241m.\u001b[39mDTypeLike \u001b[38;5;241m|\u001b[39m \u001b[38;5;28;01mNone\u001b[39;00m \u001b[38;5;241m=\u001b[39m \u001b[38;5;28;01mNone\u001b[39;00m) \u001b[38;5;241m-\u001b[39m\u001b[38;5;241m>\u001b[39m np\u001b[38;5;241m.\u001b[39mndarray:\n\u001b[1;32m    826\u001b[0m     \u001b[38;5;124;03m\"\"\"\u001b[39;00m\n\u001b[1;32m    827\u001b[0m \u001b[38;5;124;03m    Return the values as a NumPy array.\u001b[39;00m\n\u001b[1;32m    828\u001b[0m \n\u001b[0;32m   (...)\u001b[0m\n\u001b[1;32m    870\u001b[0m \u001b[38;5;124;03m          dtype='datetime64[ns]')\u001b[39;00m\n\u001b[1;32m    871\u001b[0m \u001b[38;5;124;03m    \"\"\"\u001b[39;00m\n\u001b[0;32m--> 872\u001b[0m     \u001b[38;5;28;01mreturn\u001b[39;00m \u001b[43mnp\u001b[49m\u001b[38;5;241;43m.\u001b[39;49m\u001b[43masarray\u001b[49m\u001b[43m(\u001b[49m\u001b[38;5;28;43mself\u001b[39;49m\u001b[38;5;241;43m.\u001b[39;49m\u001b[43m_values\u001b[49m\u001b[43m,\u001b[49m\u001b[43m \u001b[49m\u001b[43mdtype\u001b[49m\u001b[43m)\u001b[49m\n",
      "\u001b[0;31mValueError\u001b[0m: could not convert string to float: '2017년'"
     ]
    }
   ],
   "source": [
    "np.array(df.year,dtype=np.float64) #타입을 일괄적으로 바꾸기가 어려움."
   ]
  },
  {
   "cell_type": "code",
   "execution_count": 73,
   "id": "344c46b7-6b3a-47a3-be7f-8bbc63f75681",
   "metadata": {},
   "outputs": [
    {
     "data": {
      "text/plain": [
       "{'2016': 1, '2017': 2, '2017년': 2, 2018: 2, 2019: 2}"
      ]
     },
     "execution_count": 73,
     "metadata": {},
     "output_type": "execute_result"
    }
   ],
   "source": [
    "L(df.year).frequency()"
   ]
  },
  {
   "cell_type": "markdown",
   "id": "629381a2-5f79-45b6-8055-bd6cd25c3aab",
   "metadata": {},
   "source": [
    "- '2016'와 같은형대, '2017년'과 같은 형태, 숫자형이 혼합 -> 맞춤형 변환이 필요함"
   ]
  },
  {
   "cell_type": "code",
   "execution_count": 74,
   "id": "b8f48295-dec4-43c3-a153-0eaf04bee060",
   "metadata": {},
   "outputs": [],
   "source": [
    "def f(a): ##사실 데이터의 구조를 모르면 이런 함수를 짤 수 없음 --> 자료의 구조를 확인해준다는 의미에서 freq가 있다면 편리.\n",
    "    if type(a) is str:\n",
    "        if \"년\" in a:\n",
    "            return int(a.replace(\"년\",\"\"))\n",
    "        else:\n",
    "            return int(a)\n",
    "    else:\n",
    "        return a"
   ]
  },
  {
   "cell_type": "code",
   "execution_count": 75,
   "id": "f2079637-4a63-4a0e-b14d-ef8283db2c45",
   "metadata": {},
   "outputs": [
    {
     "data": {
      "text/plain": [
       "[2016, 2017, 2017, 2017, 2017, 2018, 2018, 2019, 2019]"
      ]
     },
     "execution_count": 75,
     "metadata": {},
     "output_type": "execute_result"
    }
   ],
   "source": [
    "[f(a) for a in df.year]"
   ]
  },
  {
   "cell_type": "code",
   "execution_count": 76,
   "id": "2f80e9e7-4d9f-4f05-af65-4dac3880a034",
   "metadata": {},
   "outputs": [],
   "source": [
    "df.year= [f(a) for a in df.year]"
   ]
  },
  {
   "cell_type": "code",
   "execution_count": 77,
   "id": "e4ae6380-b832-4601-beca-36e0e97ad949",
   "metadata": {},
   "outputs": [
    {
     "data": {
      "text/html": [
       "<div>\n",
       "<style scoped>\n",
       "    .dataframe tbody tr th:only-of-type {\n",
       "        vertical-align: middle;\n",
       "    }\n",
       "\n",
       "    .dataframe tbody tr th {\n",
       "        vertical-align: top;\n",
       "    }\n",
       "\n",
       "    .dataframe thead th {\n",
       "        text-align: right;\n",
       "    }\n",
       "</style>\n",
       "<table border=\"1\" class=\"dataframe\">\n",
       "  <thead>\n",
       "    <tr style=\"text-align: right;\">\n",
       "      <th></th>\n",
       "      <th>year</th>\n",
       "      <th>value</th>\n",
       "    </tr>\n",
       "  </thead>\n",
       "  <tbody>\n",
       "    <tr>\n",
       "      <th>0</th>\n",
       "      <td>2016</td>\n",
       "      <td>-0.080139</td>\n",
       "    </tr>\n",
       "    <tr>\n",
       "      <th>1</th>\n",
       "      <td>2017</td>\n",
       "      <td>0.983098</td>\n",
       "    </tr>\n",
       "    <tr>\n",
       "      <th>2</th>\n",
       "      <td>2017</td>\n",
       "      <td>-0.706139</td>\n",
       "    </tr>\n",
       "    <tr>\n",
       "      <th>3</th>\n",
       "      <td>2017</td>\n",
       "      <td>2.326529</td>\n",
       "    </tr>\n",
       "    <tr>\n",
       "      <th>4</th>\n",
       "      <td>2017</td>\n",
       "      <td>1.785984</td>\n",
       "    </tr>\n",
       "    <tr>\n",
       "      <th>5</th>\n",
       "      <td>2018</td>\n",
       "      <td>1.373590</td>\n",
       "    </tr>\n",
       "    <tr>\n",
       "      <th>6</th>\n",
       "      <td>2018</td>\n",
       "      <td>0.301456</td>\n",
       "    </tr>\n",
       "    <tr>\n",
       "      <th>7</th>\n",
       "      <td>2019</td>\n",
       "      <td>0.614993</td>\n",
       "    </tr>\n",
       "    <tr>\n",
       "      <th>8</th>\n",
       "      <td>2019</td>\n",
       "      <td>1.229123</td>\n",
       "    </tr>\n",
       "  </tbody>\n",
       "</table>\n",
       "</div>"
      ],
      "text/plain": [
       "   year     value\n",
       "0  2016 -0.080139\n",
       "1  2017  0.983098\n",
       "2  2017 -0.706139\n",
       "3  2017  2.326529\n",
       "4  2017  1.785984\n",
       "5  2018  1.373590\n",
       "6  2018  0.301456\n",
       "7  2019  0.614993\n",
       "8  2019  1.229123"
      ]
     },
     "execution_count": 77,
     "metadata": {},
     "output_type": "execute_result"
    }
   ],
   "source": [
    "df"
   ]
  },
  {
   "cell_type": "code",
   "execution_count": 78,
   "id": "1b851a28-aff8-4066-9efd-17674026567a",
   "metadata": {},
   "outputs": [
    {
     "data": {
      "text/plain": [
       "[<matplotlib.lines.Line2D at 0x7f8eaa94f100>]"
      ]
     },
     "execution_count": 78,
     "metadata": {},
     "output_type": "execute_result"
    },
    {
     "data": {
      "image/png": "[encoded data removed]",
      "text/plain": [
       "<Figure size 432x288 with 1 Axes>"
      ]
     },
     "metadata": {
      "needs_background": "light"
     },
     "output_type": "display_data"
    }
   ],
   "source": [
    "plt.plot(df.year,df.value,'.')"
   ]
  },
  {
   "cell_type": "code",
   "execution_count": null,
   "id": "12849512-6a58-4e9d-8871-40290d648830",
   "metadata": {},
   "outputs": [],
   "source": []
  }
 ],
 "metadata": {
  "kernelspec": {
   "display_name": "Python 3 (ipykernel)",
   "language": "python",
   "name": "python3"
  },
  "language_info": {
   "codemirror_mode": {
    "name": "ipython",
    "version": 3
   },
   "file_extension": ".py",
   "mimetype": "text/x-python",
   "name": "python",
   "nbconvert_exporter": "python",
   "pygments_lexer": "ipython3",
   "version": "3.9.7"
  }
 },
 "nbformat": 4,
 "nbformat_minor": 5
}
