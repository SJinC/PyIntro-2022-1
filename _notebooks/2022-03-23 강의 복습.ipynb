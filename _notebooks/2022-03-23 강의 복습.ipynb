{
 "cells": [
  {
   "cell_type": "markdown",
   "id": "66799b8f-d049-4ffd-a443-eee70ec9d9c0",
   "metadata": {},
   "source": [
    "# 파이썬 3월 23일 강의 복습\n",
    "> \"6월 29일\"\n",
    "\n",
    "- toc:true\n",
    "- branch: master\n",
    "- badges: true\n",
    "- comments: true\n",
    "- author: 최석진\n",
    "- categories: [Python]"
   ]
  },
  {
   "cell_type": "markdown",
   "id": "c2f59de3-b077-4312-bffe-fb37fbf3203f",
   "metadata": {},
   "source": [
    "## 딕셔너리(연산,메소드) , 딕셔너리 고급, 집합 (선언,원소추가,원소삭제,연산,메소드,for문)\n",
    "- June 29,2022"
   ]
  },
  {
   "cell_type": "markdown",
   "id": "5591c85d-79cb-4b98-82f0-2da5743bedcb",
   "metadata": {},
   "source": [
    "### 딕셔너리"
   ]
  },
  {
   "cell_type": "markdown",
   "id": "1bb60551-77cd-4046-bc46-d5b05bb3861d",
   "metadata": {},
   "source": [
    "#### 연산"
   ]
  },
  {
   "cell_type": "code",
   "execution_count": 11,
   "id": "2477d66e-8bb3-4f7a-9341-f86398fdb15a",
   "metadata": {},
   "outputs": [
    {
     "data": {
      "text/plain": [
       "{'seokjin': 90, 'iu': 80}"
      ]
     },
     "execution_count": 11,
     "metadata": {},
     "output_type": "execute_result"
    }
   ],
   "source": [
    "score={'seokjin':90,'iu':80}\n",
    "score"
   ]
  },
  {
   "cell_type": "code",
   "execution_count": 2,
   "id": "835e4849-5bd2-4831-96be-0062e56d08f6",
   "metadata": {},
   "outputs": [
    {
     "data": {
      "text/plain": [
       "True"
      ]
     },
     "execution_count": 2,
     "metadata": {},
     "output_type": "execute_result"
    }
   ],
   "source": [
    "'seokjin' in score"
   ]
  },
  {
   "cell_type": "code",
   "execution_count": 3,
   "id": "be4ab1c3-12bf-47e0-9bd4-85c18d6bd673",
   "metadata": {},
   "outputs": [
    {
     "data": {
      "text/plain": [
       "False"
      ]
     },
     "execution_count": 3,
     "metadata": {},
     "output_type": "execute_result"
    }
   ],
   "source": [
    "'jk' in score"
   ]
  },
  {
   "cell_type": "markdown",
   "id": "9d6299b5-9f79-421b-8741-5dab62059f25",
   "metadata": {},
   "source": [
    "`-` in은 사실 다른 자료형에서도 가능한 연산임"
   ]
  },
  {
   "cell_type": "markdown",
   "id": "cf237642-6c70-42fe-aa26-81771b94b323",
   "metadata": {},
   "source": [
    "(관찰1)"
   ]
  },
  {
   "cell_type": "code",
   "execution_count": 4,
   "id": "d14acdbd-25f7-4e5a-bd29-0b02d662dfcd",
   "metadata": {},
   "outputs": [
    {
     "data": {
      "text/plain": [
       "False"
      ]
     },
     "execution_count": 4,
     "metadata": {},
     "output_type": "execute_result"
    }
   ],
   "source": [
    "'a' in 'seokjin'"
   ]
  },
  {
   "cell_type": "code",
   "execution_count": 5,
   "id": "b054c5f4-e538-43a1-a93f-b749b8f2d241",
   "metadata": {},
   "outputs": [
    {
     "data": {
      "text/plain": [
       "True"
      ]
     },
     "execution_count": 5,
     "metadata": {},
     "output_type": "execute_result"
    }
   ],
   "source": [
    "'j' in 'seokjin'"
   ]
  },
  {
   "cell_type": "markdown",
   "id": "6df0c844-b50e-41c6-93b9-e339a39377ff",
   "metadata": {},
   "source": [
    "(관찰2)"
   ]
  },
  {
   "cell_type": "code",
   "execution_count": 6,
   "id": "0d31f868-649e-4be9-9f32-1e8f7ff5d418",
   "metadata": {},
   "outputs": [
    {
     "data": {
      "text/plain": [
       "(1, 2, 3)"
      ]
     },
     "execution_count": 6,
     "metadata": {},
     "output_type": "execute_result"
    }
   ],
   "source": [
    "tpl=1,2,3\n",
    "tpl"
   ]
  },
  {
   "cell_type": "code",
   "execution_count": 7,
   "id": "6ff8ba28-9d11-47cb-b2cc-ba5e7543174e",
   "metadata": {},
   "outputs": [
    {
     "data": {
      "text/plain": [
       "True"
      ]
     },
     "execution_count": 7,
     "metadata": {},
     "output_type": "execute_result"
    }
   ],
   "source": [
    "1 in tpl"
   ]
  },
  {
   "cell_type": "code",
   "execution_count": 8,
   "id": "2d184e1c-f24b-4b01-baae-62328a2a5ce1",
   "metadata": {},
   "outputs": [
    {
     "data": {
      "text/plain": [
       "False"
      ]
     },
     "execution_count": 8,
     "metadata": {},
     "output_type": "execute_result"
    }
   ],
   "source": [
    "5 in tpl"
   ]
  },
  {
   "cell_type": "markdown",
   "id": "48c6a880-128c-406e-bc34-8fdf8d062737",
   "metadata": {},
   "source": [
    "(관찰3)"
   ]
  },
  {
   "cell_type": "code",
   "execution_count": 9,
   "id": "33360aa2-b987-43bd-86b4-be5f41355705",
   "metadata": {},
   "outputs": [
    {
     "data": {
      "text/plain": [
       "[['seokjin', 90], ['iu', 80], ['jk', 70]]"
      ]
     },
     "execution_count": 9,
     "metadata": {},
     "output_type": "execute_result"
    }
   ],
   "source": [
    "score=[['seokjin',90],['iu',80],['jk',70]]\n",
    "score"
   ]
  },
  {
   "cell_type": "code",
   "execution_count": 10,
   "id": "092eba79-f524-464a-b732-29abdc582ab6",
   "metadata": {},
   "outputs": [
    {
     "data": {
      "text/plain": [
       "True"
      ]
     },
     "execution_count": 10,
     "metadata": {},
     "output_type": "execute_result"
    }
   ],
   "source": [
    "['seokjin',90] in score"
   ]
  },
  {
   "cell_type": "markdown",
   "id": "766c510a-6c99-4b79-b595-1abebfc88165",
   "metadata": {},
   "source": [
    "#### 메소드"
   ]
  },
  {
   "cell_type": "markdown",
   "id": "a568ad13-2ce9-4158-a6c6-c98da8a1b3a1",
   "metadata": {},
   "source": [
    "**(get)** "
   ]
  },
  {
   "cell_type": "code",
   "execution_count": 13,
   "id": "0ef7d204-314a-4bec-8e02-7c3f79750fe3",
   "metadata": {},
   "outputs": [
    {
     "data": {
      "text/plain": [
       "{'seokjin': 90, 'iu': 80}"
      ]
     },
     "execution_count": 13,
     "metadata": {},
     "output_type": "execute_result"
    }
   ],
   "source": [
    "score={'seokjin':90,'iu':80}\n",
    "score"
   ]
  },
  {
   "cell_type": "code",
   "execution_count": 14,
   "id": "c9897759-2858-4ed5-9926-a55b0e255667",
   "metadata": {},
   "outputs": [
    {
     "data": {
      "text/plain": [
       "90"
      ]
     },
     "execution_count": 14,
     "metadata": {},
     "output_type": "execute_result"
    }
   ],
   "source": [
    "score.get('seokjin')"
   ]
  },
  {
   "cell_type": "code",
   "execution_count": 15,
   "id": "3cb0ea8c-9ece-4c55-9e4d-0214622decca",
   "metadata": {},
   "outputs": [
    {
     "data": {
      "text/plain": [
       "90"
      ]
     },
     "execution_count": 15,
     "metadata": {},
     "output_type": "execute_result"
    }
   ],
   "source": [
    "score['seokjin'] #위와 같은 기능"
   ]
  },
  {
   "cell_type": "markdown",
   "id": "bce75dc6-093b-4a92-b650-5ee0c9966916",
   "metadata": {},
   "source": [
    "둘 사이의 차이점이 존재"
   ]
  },
  {
   "cell_type": "code",
   "execution_count": 16,
   "id": "e2b66593-cb18-4cb3-af6a-09a14e7c8c51",
   "metadata": {},
   "outputs": [
    {
     "ename": "KeyError",
     "evalue": "'jk'",
     "output_type": "error",
     "traceback": [
      "\u001b[0;31m---------------------------------------------------------------------------\u001b[0m",
      "\u001b[0;31mKeyError\u001b[0m                                  Traceback (most recent call last)",
      "Input \u001b[0;32mIn [16]\u001b[0m, in \u001b[0;36m<cell line: 1>\u001b[0;34m()\u001b[0m\n\u001b[0;32m----> 1\u001b[0m \u001b[43mscore\u001b[49m\u001b[43m[\u001b[49m\u001b[38;5;124;43m'\u001b[39;49m\u001b[38;5;124;43mjk\u001b[39;49m\u001b[38;5;124;43m'\u001b[39;49m\u001b[43m]\u001b[49m\n",
      "\u001b[0;31mKeyError\u001b[0m: 'jk'"
     ]
    }
   ],
   "source": [
    "score['jk'] #jk가 없어서 key error 발생"
   ]
  },
  {
   "cell_type": "code",
   "execution_count": 17,
   "id": "dfe291b0-aed5-4f57-ba5c-1b860c768343",
   "metadata": {},
   "outputs": [],
   "source": [
    "score.get('jk') #jk가 없으면 아무것도 출력하지 않음"
   ]
  },
  {
   "cell_type": "markdown",
   "id": "d41a5fac-cec4-4ad3-8dbf-92d285399a5e",
   "metadata": {},
   "source": [
    "**(keys,values,items)**"
   ]
  },
  {
   "cell_type": "markdown",
   "id": "91256a22-17a2-4b07-9661-c86cdd951a33",
   "metadata": {},
   "source": [
    "`-` .keys() 는 딕셔너리의 키를 리턴"
   ]
  },
  {
   "cell_type": "code",
   "execution_count": 18,
   "id": "c8c2335c-235e-4b00-889e-04198cf8543f",
   "metadata": {},
   "outputs": [
    {
     "data": {
      "text/plain": [
       "{'seokjin': 90, 'iu': 80}"
      ]
     },
     "execution_count": 18,
     "metadata": {},
     "output_type": "execute_result"
    }
   ],
   "source": [
    "score={'seokjin':90,'iu':80}\n",
    "score"
   ]
  },
  {
   "cell_type": "code",
   "execution_count": 21,
   "id": "0512a9c7-7caf-44f5-a88f-92839a8b73e0",
   "metadata": {},
   "outputs": [
    {
     "data": {
      "text/plain": [
       "dict_keys(['seokjin', 'iu'])"
      ]
     },
     "execution_count": 21,
     "metadata": {},
     "output_type": "execute_result"
    }
   ],
   "source": [
    "_keys=score.keys()\n",
    "_keys #return된 자료형은 우리가 알수 없는 자료형임.."
   ]
  },
  {
   "cell_type": "code",
   "execution_count": 22,
   "id": "5a468690-dd7a-4f8e-ae8b-3c12a9156106",
   "metadata": {},
   "outputs": [
    {
     "data": {
      "text/plain": [
       "['seokjin', 'iu']"
      ]
     },
     "execution_count": 22,
     "metadata": {},
     "output_type": "execute_result"
    }
   ],
   "source": [
    "list(_keys)"
   ]
  },
  {
   "cell_type": "markdown",
   "id": "0537446d-6f86-4c73-bc99-7565dffaa8e4",
   "metadata": {},
   "source": [
    "`-` .values() 는 딕셔너리의 값들을 리턴"
   ]
  },
  {
   "cell_type": "code",
   "execution_count": 23,
   "id": "1713e823-a42f-4617-b53c-c5456dc107f6",
   "metadata": {},
   "outputs": [
    {
     "data": {
      "text/plain": [
       "dict_values([90, 80])"
      ]
     },
     "execution_count": 23,
     "metadata": {},
     "output_type": "execute_result"
    }
   ],
   "source": [
    "_values=score.values()\n",
    "_values"
   ]
  },
  {
   "cell_type": "code",
   "execution_count": 24,
   "id": "a5c666d4-570f-4b2c-b1f1-56bdf35d5685",
   "metadata": {},
   "outputs": [
    {
     "data": {
      "text/plain": [
       "[90, 80]"
      ]
     },
     "execution_count": 24,
     "metadata": {},
     "output_type": "execute_result"
    }
   ],
   "source": [
    "list(_values)"
   ]
  },
  {
   "cell_type": "markdown",
   "id": "c78a534e-835e-434a-9a71-fb103962cde9",
   "metadata": {},
   "source": [
    "`-` .items()는 딕셔너리의 (키,값)을 리턴."
   ]
  },
  {
   "cell_type": "code",
   "execution_count": 25,
   "id": "52671454-7636-4709-8b33-a375b5bd5cc4",
   "metadata": {},
   "outputs": [
    {
     "data": {
      "text/plain": [
       "dict_items([('seokjin', 90), ('iu', 80)])"
      ]
     },
     "execution_count": 25,
     "metadata": {},
     "output_type": "execute_result"
    }
   ],
   "source": [
    "_items=score.items()\n",
    "_items"
   ]
  },
  {
   "cell_type": "code",
   "execution_count": 26,
   "id": "401e6ebb-d13e-46d0-bca7-ffc968bba020",
   "metadata": {},
   "outputs": [
    {
     "data": {
      "text/plain": [
       "[('seokjin', 90), ('iu', 80)]"
      ]
     },
     "execution_count": 26,
     "metadata": {},
     "output_type": "execute_result"
    }
   ],
   "source": [
    "list(_items)"
   ]
  },
  {
   "cell_type": "markdown",
   "id": "0787e651-7f5d-4af5-be70-2ca02f9b6983",
   "metadata": {},
   "source": [
    "`-` for문에서의 딕셔너리"
   ]
  },
  {
   "cell_type": "code",
   "execution_count": 27,
   "id": "d47495d6-24e0-4857-9a1c-728b2789f7db",
   "metadata": {},
   "outputs": [
    {
     "name": "stdout",
     "output_type": "stream",
     "text": [
      "seokjin\n",
      "iu\n"
     ]
    }
   ],
   "source": [
    "for i in score.keys():\n",
    "    print(i)"
   ]
  },
  {
   "cell_type": "code",
   "execution_count": 28,
   "id": "52df3fcd-3922-41da-821b-a353bd1ee39c",
   "metadata": {},
   "outputs": [
    {
     "name": "stdout",
     "output_type": "stream",
     "text": [
      "seokjin\n",
      "iu\n"
     ]
    }
   ],
   "source": [
    "for i in score:\n",
    "    print(i)"
   ]
  },
  {
   "cell_type": "markdown",
   "id": "afd14ef2-4dc2-4955-97ff-00f9798c69be",
   "metadata": {},
   "source": [
    "- 딕셔너리 그 자체도 for문에 넣을 수 있음.\n",
    "- i에는 value가 삭제되어 들어감. (즉 key만 들어감)\n",
    "- 결과를 보면 score대신에 score.keys()와 list(score)를 넣었을 때와 결과가 같음."
   ]
  },
  {
   "cell_type": "markdown",
   "id": "cbae36a5-e324-429b-95e7-29fbd8edfbe9",
   "metadata": {},
   "source": [
    "> list(score) 하면 key만 리턴"
   ]
  },
  {
   "cell_type": "code",
   "execution_count": 29,
   "id": "0a181453-71a0-48b0-bf9d-ab469edda1ca",
   "metadata": {},
   "outputs": [
    {
     "name": "stdout",
     "output_type": "stream",
     "text": [
      "90\n",
      "80\n"
     ]
    }
   ],
   "source": [
    "for i in score.values():\n",
    "    print(i)"
   ]
  },
  {
   "cell_type": "code",
   "execution_count": 30,
   "id": "9a0274c0-3775-4d77-b21a-40f59a944154",
   "metadata": {},
   "outputs": [
    {
     "name": "stdout",
     "output_type": "stream",
     "text": [
      "('seokjin', 90)\n",
      "('iu', 80)\n"
     ]
    }
   ],
   "source": [
    "for k in score.items():\n",
    "    print(k)"
   ]
  },
  {
   "cell_type": "code",
   "execution_count": 31,
   "id": "d765e0c0-ede6-4c85-8150-5bba7c0f1791",
   "metadata": {},
   "outputs": [
    {
     "name": "stdout",
     "output_type": "stream",
     "text": [
      "seokjin 90\n",
      "iu 80\n"
     ]
    }
   ],
   "source": [
    "for i,j in score.items():\n",
    "    print(i,j)"
   ]
  },
  {
   "cell_type": "code",
   "execution_count": 32,
   "id": "2435fc4f-17c6-4f28-bb9d-2f82ec575c42",
   "metadata": {},
   "outputs": [
    {
     "name": "stdout",
     "output_type": "stream",
     "text": [
      "seokjin의 중간고사 점수는 90점 입니다.\n",
      "iu의 중간고사 점수는 80점 입니다.\n"
     ]
    }
   ],
   "source": [
    "for i,j in score.items():\n",
    "    print(i+ '의 중간고사 점수는 %s점 입니다.' %j)"
   ]
  },
  {
   "cell_type": "markdown",
   "id": "ef4ffc78-b28c-4d38-8092-f9138e23ffed",
   "metadata": {},
   "source": [
    "### 딕셔너리 고급"
   ]
  },
  {
   "cell_type": "markdown",
   "id": "070c10e6-09fb-4180-a922-d6d9fb0fabef",
   "metadata": {},
   "source": [
    "#### key는 문자열만 가능한 것이 아님."
   ]
  },
  {
   "cell_type": "markdown",
   "id": "1c1d4e39-995e-4a26-a463-8f8f492bc9de",
   "metadata": {},
   "source": [
    "`-` 정수key"
   ]
  },
  {
   "cell_type": "code",
   "execution_count": 33,
   "id": "332c1ec4-86fe-4d54-9853-71235dbf52d8",
   "metadata": {},
   "outputs": [
    {
     "data": {
      "text/plain": [
       "{0: 90, 1: 80, 2: 70}"
      ]
     },
     "execution_count": 33,
     "metadata": {},
     "output_type": "execute_result"
    }
   ],
   "source": [
    "score={0:90,1:80,2:70} #key -> 0,1,2\n",
    "score"
   ]
  },
  {
   "cell_type": "markdown",
   "id": "d8de0592-974c-4182-b523-1c410828332b",
   "metadata": {},
   "source": [
    "`-` 인덱싱은?"
   ]
  },
  {
   "cell_type": "code",
   "execution_count": 37,
   "id": "35bb43eb-65f0-480a-84b9-9b5f5f132ae0",
   "metadata": {},
   "outputs": [
    {
     "data": {
      "text/plain": [
       "90"
      ]
     },
     "execution_count": 37,
     "metadata": {},
     "output_type": "execute_result"
    }
   ],
   "source": [
    "score[0]"
   ]
  },
  {
   "cell_type": "code",
   "execution_count": 38,
   "id": "3a15cd9d-adb1-45b8-b796-ad098a5e092a",
   "metadata": {},
   "outputs": [
    {
     "ename": "TypeError",
     "evalue": "unhashable type: 'slice'",
     "output_type": "error",
     "traceback": [
      "\u001b[0;31m---------------------------------------------------------------------------\u001b[0m",
      "\u001b[0;31mTypeError\u001b[0m                                 Traceback (most recent call last)",
      "Input \u001b[0;32mIn [38]\u001b[0m, in \u001b[0;36m<cell line: 1>\u001b[0;34m()\u001b[0m\n\u001b[0;32m----> 1\u001b[0m \u001b[43mscore\u001b[49m\u001b[43m[\u001b[49m\u001b[43m:\u001b[49m\u001b[38;5;241;43m2\u001b[39;49m\u001b[43m]\u001b[49m\n",
      "\u001b[0;31mTypeError\u001b[0m: unhashable type: 'slice'"
     ]
    }
   ],
   "source": [
    "score[:2] #스트라이딩은 불가능.."
   ]
  },
  {
   "cell_type": "markdown",
   "id": "b8fd0441-a944-483b-8466-652a81da1f89",
   "metadata": {},
   "source": [
    "#### key값으로 가능한 것? 문자열, 숫자값, 튜플"
   ]
  },
  {
   "cell_type": "code",
   "execution_count": 40,
   "id": "2c45ad0a-d4b3-4e60-bb7c-6e4e05ebcef8",
   "metadata": {},
   "outputs": [
    {
     "data": {
      "text/plain": [
       "{('seokjin', 0): 20, ('seokjin', 1): 80, ('seokjin', 2): 90}"
      ]
     },
     "execution_count": 40,
     "metadata": {},
     "output_type": "execute_result"
    }
   ],
   "source": [
    "score={('seokjin',0):20,('seokjin',1):80,('seokjin',2):90} #0은 출석점수 , 1은 중간점수, 2는 기말 점수\n",
    "score"
   ]
  },
  {
   "cell_type": "code",
   "execution_count": 41,
   "id": "f47024aa-1225-4eef-a2b1-2216c78f9932",
   "metadata": {},
   "outputs": [
    {
     "data": {
      "text/plain": [
       "20"
      ]
     },
     "execution_count": 41,
     "metadata": {},
     "output_type": "execute_result"
    }
   ],
   "source": [
    "score[('seokjin',0)]"
   ]
  },
  {
   "cell_type": "code",
   "execution_count": 42,
   "id": "d728b8de-c309-47f4-9aaf-0f2d6f4fd877",
   "metadata": {},
   "outputs": [],
   "source": [
    "score[('seokjin',3)]=10 #seokjin의 레포트 점수를 추가"
   ]
  },
  {
   "cell_type": "code",
   "execution_count": 43,
   "id": "071bc300-45bb-4e77-be2f-b99170435d1d",
   "metadata": {},
   "outputs": [
    {
     "data": {
      "text/plain": [
       "{('seokjin', 0): 20,\n",
       " ('seokjin', 1): 80,\n",
       " ('seokjin', 2): 90,\n",
       " ('seokjin', 3): 10}"
      ]
     },
     "execution_count": 43,
     "metadata": {},
     "output_type": "execute_result"
    }
   ],
   "source": [
    "score"
   ]
  },
  {
   "cell_type": "markdown",
   "id": "23e6ff42-aa30-4db4-9ecd-f127a6b681c5",
   "metadata": {},
   "source": [
    "- 문자열, 숫자값, 튜플의 공통점? 불변객체"
   ]
  },
  {
   "cell_type": "markdown",
   "id": "79f85332-af41-420a-8c9d-c0f670233738",
   "metadata": {},
   "source": [
    "#### 참고 (불변형과 가변형)"
   ]
  },
  {
   "cell_type": "markdown",
   "id": "3591194b-92c2-4958-9206-5e4b56fa8cad",
   "metadata": {},
   "source": [
    "(인트형 불변)"
   ]
  },
  {
   "cell_type": "code",
   "execution_count": 44,
   "id": "7f345733-765f-4ec9-b697-5514fee005c2",
   "metadata": {},
   "outputs": [
    {
     "data": {
      "text/plain": [
       "(1, 140516834601264)"
      ]
     },
     "execution_count": 44,
     "metadata": {},
     "output_type": "execute_result"
    }
   ],
   "source": [
    "a=1\n",
    "a,id(a)"
   ]
  },
  {
   "cell_type": "code",
   "execution_count": 45,
   "id": "8eff5725-0222-405e-a480-a9730236297a",
   "metadata": {},
   "outputs": [
    {
     "data": {
      "text/plain": [
       "(2, 140516834601296)"
      ]
     },
     "execution_count": 45,
     "metadata": {},
     "output_type": "execute_result"
    }
   ],
   "source": [
    "a=2\n",
    "a,id(a)"
   ]
  },
  {
   "cell_type": "markdown",
   "id": "2ae64229-e939-4497-bda0-a6035aad825e",
   "metadata": {},
   "source": [
    "(문자열 불변)"
   ]
  },
  {
   "cell_type": "code",
   "execution_count": 46,
   "id": "5765137f-b500-4226-8767-283b488f2295",
   "metadata": {},
   "outputs": [
    {
     "data": {
      "text/plain": [
       "('seokjin', 140516301124528)"
      ]
     },
     "execution_count": 46,
     "metadata": {},
     "output_type": "execute_result"
    }
   ],
   "source": [
    "a='seokjin'\n",
    "a,id(a)"
   ]
  },
  {
   "cell_type": "code",
   "execution_count": 47,
   "id": "9c20d0d9-44c6-4009-b6df-7dd1f24ef584",
   "metadata": {},
   "outputs": [
    {
     "data": {
      "text/plain": [
       "('Seokjin', 140516575460080)"
      ]
     },
     "execution_count": 47,
     "metadata": {},
     "output_type": "execute_result"
    }
   ],
   "source": [
    "a='Seokjin'\n",
    "a,id(a)"
   ]
  },
  {
   "cell_type": "markdown",
   "id": "3cd92ca7-28ad-4f83-a6dc-34bb1f545eb0",
   "metadata": {},
   "source": [
    "(리스트 가변)"
   ]
  },
  {
   "cell_type": "code",
   "execution_count": 48,
   "id": "451e10cf-547b-4e7d-aede-3372c736a29f",
   "metadata": {},
   "outputs": [
    {
     "data": {
      "text/plain": [
       "(['s', 'e', 'o', 'k', 'j', 'i', 'n'], 140516434678784)"
      ]
     },
     "execution_count": 48,
     "metadata": {},
     "output_type": "execute_result"
    }
   ],
   "source": [
    "a=list('seokjin')\n",
    "a,id(a)"
   ]
  },
  {
   "cell_type": "code",
   "execution_count": 50,
   "id": "6d9d1145-1150-4b8f-802c-ea327061275e",
   "metadata": {},
   "outputs": [],
   "source": [
    "a[0]='G'"
   ]
  },
  {
   "cell_type": "code",
   "execution_count": 51,
   "id": "623026e3-172b-4476-a77b-e5f1d9a9a19b",
   "metadata": {},
   "outputs": [
    {
     "data": {
      "text/plain": [
       "(['G', 'e', 'o', 'k', 'j', 'i', 'n'], 140516434678784)"
      ]
     },
     "execution_count": 51,
     "metadata": {},
     "output_type": "execute_result"
    }
   ],
   "source": [
    "a,id(a)"
   ]
  },
  {
   "cell_type": "markdown",
   "id": "39cc05a6-2a22-42da-a7a1-1895d039894d",
   "metadata": {},
   "source": [
    "### 집합"
   ]
  },
  {
   "cell_type": "markdown",
   "id": "75069639-aec7-40b4-a489-e657e60f1e59",
   "metadata": {},
   "source": [
    "#### 선언"
   ]
  },
  {
   "cell_type": "code",
   "execution_count": 53,
   "id": "710c0622-010a-43cf-b104-2a436133c197",
   "metadata": {},
   "outputs": [],
   "source": [
    "a={'notebook','desktop'}"
   ]
  },
  {
   "cell_type": "markdown",
   "id": "727fb5b6-ac8f-4024-a903-4a87cdf74a92",
   "metadata": {},
   "source": [
    "#### 원소추출\n",
    "\n",
    "- 하는 방법 없음\n",
    "- 하는 의미도 없음 (원소에 접근해서 할 수 있는 게 없음...)"
   ]
  },
  {
   "cell_type": "code",
   "execution_count": 54,
   "id": "624591e1-d655-498f-8966-ab5fa27e3359",
   "metadata": {},
   "outputs": [
    {
     "ename": "TypeError",
     "evalue": "'set' object is not subscriptable",
     "output_type": "error",
     "traceback": [
      "\u001b[0;31m---------------------------------------------------------------------------\u001b[0m",
      "\u001b[0;31mTypeError\u001b[0m                                 Traceback (most recent call last)",
      "Input \u001b[0;32mIn [54]\u001b[0m, in \u001b[0;36m<cell line: 2>\u001b[0;34m()\u001b[0m\n\u001b[1;32m      1\u001b[0m a\u001b[38;5;241m=\u001b[39m{\u001b[38;5;124m'\u001b[39m\u001b[38;5;124mnotebook\u001b[39m\u001b[38;5;124m'\u001b[39m,\u001b[38;5;124m'\u001b[39m\u001b[38;5;124mdesktop\u001b[39m\u001b[38;5;124m'\u001b[39m}\n\u001b[0;32m----> 2\u001b[0m \u001b[43ma\u001b[49m\u001b[43m[\u001b[49m\u001b[38;5;241;43m0\u001b[39;49m\u001b[43m]\u001b[49m\n",
      "\u001b[0;31mTypeError\u001b[0m: 'set' object is not subscriptable"
     ]
    }
   ],
   "source": [
    "a={'notebook','desktop'}\n",
    "a[0]"
   ]
  },
  {
   "cell_type": "markdown",
   "id": "03b56e95-97b3-45d6-8223-b8c4eafb4786",
   "metadata": {},
   "source": [
    "#### 원소추가"
   ]
  },
  {
   "cell_type": "code",
   "execution_count": 55,
   "id": "6c4a885c-58cb-43bc-84ca-64146fcaac08",
   "metadata": {},
   "outputs": [
    {
     "data": {
      "text/plain": [
       "{'desktop', 'notebook'}"
      ]
     },
     "execution_count": 55,
     "metadata": {},
     "output_type": "execute_result"
    }
   ],
   "source": [
    "a={'notebook','desktop'}\n",
    "a"
   ]
  },
  {
   "cell_type": "code",
   "execution_count": 56,
   "id": "0829e0b0-c133-46ae-9dac-cc89f6128fff",
   "metadata": {},
   "outputs": [
    {
     "data": {
      "text/plain": [
       "{'desktop', 'ipad', 'notebook'}"
      ]
     },
     "execution_count": 56,
     "metadata": {},
     "output_type": "execute_result"
    }
   ],
   "source": [
    "a.add('ipad')\n",
    "a"
   ]
  },
  {
   "cell_type": "code",
   "execution_count": 58,
   "id": "2ef5f40c-5d36-4269-8826-1149edd3328d",
   "metadata": {},
   "outputs": [
    {
     "data": {
      "text/plain": [
       "{'desktop', 'ipad', 'notebook'}"
      ]
     },
     "execution_count": 58,
     "metadata": {},
     "output_type": "execute_result"
    }
   ],
   "source": [
    "a.add('notebook') #이미 있는 원소는 추가되지 않음 -> 중복허용하지 않음\n",
    "a"
   ]
  },
  {
   "cell_type": "markdown",
   "id": "8d6ee750-6fca-4ba1-ab2e-f6b25d859146",
   "metadata": {},
   "source": [
    "#### 원소삭제"
   ]
  },
  {
   "cell_type": "code",
   "execution_count": 59,
   "id": "e23a46fa-47b0-450e-bd21-3dd0fcb0a9be",
   "metadata": {},
   "outputs": [
    {
     "data": {
      "text/plain": [
       "{'desktop', 'ipad', 'notebook'}"
      ]
     },
     "execution_count": 59,
     "metadata": {},
     "output_type": "execute_result"
    }
   ],
   "source": [
    "a={'desktop','ipad','notebook'}\n",
    "a"
   ]
  },
  {
   "cell_type": "code",
   "execution_count": 60,
   "id": "db359ad8-d381-4bba-aa07-dbc0a18b2c8d",
   "metadata": {},
   "outputs": [],
   "source": [
    "a.remove('notebook')"
   ]
  },
  {
   "cell_type": "code",
   "execution_count": 61,
   "id": "473e010f-8afc-4579-8975-3b8fd7a0db90",
   "metadata": {},
   "outputs": [
    {
     "data": {
      "text/plain": [
       "{'desktop', 'ipad'}"
      ]
     },
     "execution_count": 61,
     "metadata": {},
     "output_type": "execute_result"
    }
   ],
   "source": [
    "a"
   ]
  },
  {
   "cell_type": "markdown",
   "id": "b2bd62d8-416b-4ae3-99ad-92b4ab01b872",
   "metadata": {},
   "source": [
    "#### 연산"
   ]
  },
  {
   "cell_type": "markdown",
   "id": "718cc3e7-e95c-4d66-8540-9a8bf3eb0331",
   "metadata": {},
   "source": [
    "`-` in 연산자"
   ]
  },
  {
   "cell_type": "code",
   "execution_count": 63,
   "id": "791060a0-3706-4b72-b30e-b83890b8d6ed",
   "metadata": {},
   "outputs": [
    {
     "data": {
      "text/plain": [
       "{'desktop', 'ipad', 'notebook'}"
      ]
     },
     "execution_count": 63,
     "metadata": {},
     "output_type": "execute_result"
    }
   ],
   "source": [
    "a={'notebook','desktop','ipad'}\n",
    "a"
   ]
  },
  {
   "cell_type": "code",
   "execution_count": 64,
   "id": "ad500c89-fd51-45ff-9e5a-b5be91ef25c0",
   "metadata": {},
   "outputs": [
    {
     "data": {
      "text/plain": [
       "True"
      ]
     },
     "execution_count": 64,
     "metadata": {},
     "output_type": "execute_result"
    }
   ],
   "source": [
    "'notebook' in a"
   ]
  },
  {
   "cell_type": "markdown",
   "id": "c88682df-c50a-4bd7-8fe5-b09463d2129d",
   "metadata": {},
   "source": [
    "- 돌이켜보면 in 연산자는 다른 곳에서도 쓰임"
   ]
  },
  {
   "cell_type": "markdown",
   "id": "d1c70077-74af-4c68-87f4-649b24c69fe9",
   "metadata": {},
   "source": [
    "`-` 합집합,교집합,차집합"
   ]
  },
  {
   "cell_type": "code",
   "execution_count": 70,
   "id": "69e65272-b38c-470f-a67f-7216baaa7d0d",
   "metadata": {},
   "outputs": [],
   "source": [
    "day1={'notebook','desktop'}\n",
    "day2={'notebook','ipad'}"
   ]
  },
  {
   "cell_type": "code",
   "execution_count": 71,
   "id": "0a61dd8d-2750-4751-9590-3315b4d0c148",
   "metadata": {},
   "outputs": [
    {
     "data": {
      "text/plain": [
       "{'desktop', 'ipad', 'notebook'}"
      ]
     },
     "execution_count": 71,
     "metadata": {},
     "output_type": "execute_result"
    }
   ],
   "source": [
    "day1 | day2 #합집합"
   ]
  },
  {
   "cell_type": "code",
   "execution_count": 72,
   "id": "08a78188-c49a-49eb-888b-811bae2a0c8f",
   "metadata": {},
   "outputs": [
    {
     "data": {
      "text/plain": [
       "{'notebook'}"
      ]
     },
     "execution_count": 72,
     "metadata": {},
     "output_type": "execute_result"
    }
   ],
   "source": [
    "day1 & day2 #교집합"
   ]
  },
  {
   "cell_type": "code",
   "execution_count": 73,
   "id": "7bbc644b-4638-48b8-bb05-b25362c83dfd",
   "metadata": {},
   "outputs": [
    {
     "data": {
      "text/plain": [
       "{'desktop'}"
      ]
     },
     "execution_count": 73,
     "metadata": {},
     "output_type": "execute_result"
    }
   ],
   "source": [
    "day1-day2 #차집합"
   ]
  },
  {
   "cell_type": "code",
   "execution_count": 74,
   "id": "aa4af4ad-6ebf-47ea-bd53-161ede7db35f",
   "metadata": {},
   "outputs": [
    {
     "data": {
      "text/plain": [
       "{'ipad'}"
      ]
     },
     "execution_count": 74,
     "metadata": {},
     "output_type": "execute_result"
    }
   ],
   "source": [
    "day2-day1 #차집합"
   ]
  },
  {
   "cell_type": "markdown",
   "id": "8588fcbb-cdac-429b-b22b-3fdaef21e4fe",
   "metadata": {},
   "source": [
    "`-` 부분집합"
   ]
  },
  {
   "cell_type": "code",
   "execution_count": 75,
   "id": "6a6a8fe4-69e6-4be5-b3a7-5131425a8ded",
   "metadata": {},
   "outputs": [],
   "source": [
    "day1={'notebook','desktop'}\n",
    "day2=day1|{'ipad'}"
   ]
  },
  {
   "cell_type": "code",
   "execution_count": 76,
   "id": "d8fe37cc-f0ca-40a5-ba0b-5dec1f268122",
   "metadata": {},
   "outputs": [
    {
     "data": {
      "text/plain": [
       "True"
      ]
     },
     "execution_count": 76,
     "metadata": {},
     "output_type": "execute_result"
    }
   ],
   "source": [
    "day1<day2 #day1는 day2의 부분집합인가?"
   ]
  },
  {
   "cell_type": "code",
   "execution_count": 77,
   "id": "14545568-b25f-41b4-99d1-ba58a943986d",
   "metadata": {},
   "outputs": [
    {
     "data": {
      "text/plain": [
       "False"
      ]
     },
     "execution_count": 77,
     "metadata": {},
     "output_type": "execute_result"
    }
   ],
   "source": [
    "day2<day1"
   ]
  },
  {
   "cell_type": "markdown",
   "id": "4c2c4117-1c61-4691-ad52-7cbbefe04bdb",
   "metadata": {},
   "source": [
    "#### 메소드"
   ]
  },
  {
   "cell_type": "markdown",
   "id": "8fb816a5-2c67-470f-9eb3-03b5bd48ff40",
   "metadata": {},
   "source": [
    "`-` 합집합"
   ]
  },
  {
   "cell_type": "code",
   "execution_count": 82,
   "id": "a50967b4-812f-44b2-a79c-eb6a9984324c",
   "metadata": {},
   "outputs": [],
   "source": [
    "day1={'notebook','desktop'}\n",
    "day2={'notebook','ipad'}"
   ]
  },
  {
   "cell_type": "code",
   "execution_count": 80,
   "id": "416f7a73-5544-4b86-88a6-af4e9146c21e",
   "metadata": {},
   "outputs": [
    {
     "data": {
      "text/plain": [
       "{'desktop', 'ipad', 'notebook'}"
      ]
     },
     "execution_count": 80,
     "metadata": {},
     "output_type": "execute_result"
    }
   ],
   "source": [
    "day1.union(day2)"
   ]
  },
  {
   "cell_type": "code",
   "execution_count": 81,
   "id": "7ecc93ea-01ed-46f1-98f4-e1a701fe8e4f",
   "metadata": {},
   "outputs": [
    {
     "data": {
      "text/plain": [
       "{'notebook'}"
      ]
     },
     "execution_count": 81,
     "metadata": {},
     "output_type": "execute_result"
    }
   ],
   "source": [
    "day1.intersection(day2)"
   ]
  },
  {
   "cell_type": "markdown",
   "id": "4ccf44f1-4202-4c8f-87e2-f6541f9996bd",
   "metadata": {},
   "source": [
    "- 여러 메소드가 존재함..."
   ]
  },
  {
   "cell_type": "markdown",
   "id": "9cff399e-7bc9-4576-a9ca-fb2dee388e25",
   "metadata": {},
   "source": [
    "#### for문"
   ]
  },
  {
   "cell_type": "code",
   "execution_count": 83,
   "id": "e9946d49-7226-47ce-a4a2-2a6713ceaa1d",
   "metadata": {},
   "outputs": [],
   "source": [
    "day1={'notebook','desktop'}\n",
    "day2={'notebook','ipad'}"
   ]
  },
  {
   "cell_type": "code",
   "execution_count": 84,
   "id": "8ad1bced-f9b7-493b-80a2-459c63bf787c",
   "metadata": {},
   "outputs": [
    {
     "name": "stdout",
     "output_type": "stream",
     "text": [
      "ipad\n",
      "notebook\n",
      "desktop\n"
     ]
    }
   ],
   "source": [
    "for i in day1|day2:\n",
    "    print(i)"
   ]
  },
  {
   "cell_type": "code",
   "execution_count": null,
   "id": "2a30789b-cebe-4985-a2d5-867c7ec6f0a8",
   "metadata": {},
   "outputs": [],
   "source": []
  }
 ],
 "metadata": {
  "kernelspec": {
   "display_name": "Python 3 (ipykernel)",
   "language": "python",
   "name": "python3"
  },
  "language_info": {
   "codemirror_mode": {
    "name": "ipython",
    "version": 3
   },
   "file_extension": ".py",
   "mimetype": "text/x-python",
   "name": "python",
   "nbconvert_exporter": "python",
   "pygments_lexer": "ipython3",
   "version": "3.9.7"
  }
 },
 "nbformat": 4,
 "nbformat_minor": 5
}
