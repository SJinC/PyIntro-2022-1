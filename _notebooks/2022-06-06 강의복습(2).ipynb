{
 "cells": [
  {
   "cell_type": "markdown",
   "id": "481f74e9-321b-4b84-ab7e-0d988a4d7329",
   "metadata": {
    "tags": []
   },
   "source": [
    "# 파이썬 6월 6일 강의 복습\n",
    "> \"7월 13일\"\n",
    "\n",
    "- toc:true\n",
    "- branch: master\n",
    "- badges: true\n",
    "- comments: true\n",
    "- author: 최석진\n",
    "- categories: [Python]"
   ]
  },
  {
   "cell_type": "code",
   "execution_count": 1,
   "id": "f1532787-8b05-48af-bbb8-4619964b26f1",
   "metadata": {},
   "outputs": [],
   "source": [
    "import numpy as np\n",
    "import matplotlib.pyplot as plt\n",
    "import pandas as pd"
   ]
  },
  {
   "cell_type": "markdown",
   "id": "3bb43ce9-edd1-4dd9-8e9f-dea4125aaeec",
   "metadata": {},
   "source": [
    "## 클래스 공부 9단계"
   ]
  },
  {
   "cell_type": "markdown",
   "id": "f515f38e-9b34-478d-998c-22403204e9a1",
   "metadata": {},
   "source": [
    "### 예비학습 (변수의 범위)"
   ]
  },
  {
   "cell_type": "markdown",
   "id": "aa77d741-e370-413b-ac5d-d09494415520",
   "metadata": {},
   "source": [
    "예제1\n",
    "\n",
    "`-` 관찰1:함수내의 변수 출력"
   ]
  },
  {
   "cell_type": "code",
   "execution_count": 2,
   "id": "91a971e4-20f6-4f2a-8ed7-965b74767c4e",
   "metadata": {},
   "outputs": [],
   "source": [
    "def f():\n",
    "    x=10\n",
    "    print(x)"
   ]
  },
  {
   "cell_type": "code",
   "execution_count": 3,
   "id": "0b57d07f-1e45-42a9-acdd-b7ceac1328dd",
   "metadata": {},
   "outputs": [
    {
     "name": "stdout",
     "output_type": "stream",
     "text": [
      "10\n"
     ]
    }
   ],
   "source": [
    "f()"
   ]
  },
  {
   "cell_type": "markdown",
   "id": "64f9b590-b81c-48ac-bd61-91a14af73176",
   "metadata": {},
   "source": [
    "`-` 관찰2:함수내의 변수가 없을 경우 출력되지 않음"
   ]
  },
  {
   "cell_type": "code",
   "execution_count": 4,
   "id": "169d644c-7dd2-42f6-8eb3-377010befcd8",
   "metadata": {},
   "outputs": [],
   "source": [
    "def g():\n",
    "    print(x)"
   ]
  },
  {
   "cell_type": "code",
   "execution_count": 5,
   "id": "7b36b136-6820-4fca-893b-801a88988d4a",
   "metadata": {},
   "outputs": [
    {
     "ename": "NameError",
     "evalue": "name 'x' is not defined",
     "output_type": "error",
     "traceback": [
      "\u001b[0;31m---------------------------------------------------------------------------\u001b[0m",
      "\u001b[0;31mNameError\u001b[0m                                 Traceback (most recent call last)",
      "Input \u001b[0;32mIn [5]\u001b[0m, in \u001b[0;36m<cell line: 1>\u001b[0;34m()\u001b[0m\n\u001b[0;32m----> 1\u001b[0m \u001b[43mg\u001b[49m\u001b[43m(\u001b[49m\u001b[43m)\u001b[49m\n",
      "Input \u001b[0;32mIn [4]\u001b[0m, in \u001b[0;36mg\u001b[0;34m()\u001b[0m\n\u001b[1;32m      1\u001b[0m \u001b[38;5;28;01mdef\u001b[39;00m \u001b[38;5;21mg\u001b[39m():\n\u001b[0;32m----> 2\u001b[0m     \u001b[38;5;28mprint\u001b[39m(\u001b[43mx\u001b[49m)\n",
      "\u001b[0;31mNameError\u001b[0m: name 'x' is not defined"
     ]
    }
   ],
   "source": [
    "g()"
   ]
  },
  {
   "cell_type": "markdown",
   "id": "f166a953-5840-4914-8d6f-5cf9b9ce47f3",
   "metadata": {},
   "source": [
    "`-` 관찰3:동일한 이름의 변수가 global에 있다면 함수내에 (local에) 그 이름의 변수가 선언되지 않아도 global의 변수를 빌려서 사용함"
   ]
  },
  {
   "cell_type": "code",
   "execution_count": 6,
   "id": "b33ed6b6-1bde-43e2-8da2-c64ffa263c46",
   "metadata": {},
   "outputs": [],
   "source": [
    "x=20\n",
    "def g():\n",
    "    print(x)"
   ]
  },
  {
   "cell_type": "code",
   "execution_count": 7,
   "id": "8d9fc9ba-2af1-4d18-8b2a-98c01cfc47fc",
   "metadata": {},
   "outputs": [
    {
     "name": "stdout",
     "output_type": "stream",
     "text": [
      "20\n"
     ]
    }
   ],
   "source": [
    "g()"
   ]
  },
  {
   "cell_type": "markdown",
   "id": "18fe492e-dec2-43a4-9840-68a050776131",
   "metadata": {},
   "source": [
    "`-` 관찰4:f()가 실행되면서 `x=10`이 함수내에(=local) 실행되지만 이 결과가 외부의 x=20에 (=global) 영향을 미치지는 못함"
   ]
  },
  {
   "cell_type": "code",
   "execution_count": 8,
   "id": "a706fea7-05a3-4873-84ee-60923680e68d",
   "metadata": {},
   "outputs": [
    {
     "name": "stdout",
     "output_type": "stream",
     "text": [
      "10\n"
     ]
    }
   ],
   "source": [
    "f()"
   ]
  },
  {
   "cell_type": "code",
   "execution_count": 9,
   "id": "ddcb3d5c-7569-45f7-9e41-a08b63c202d1",
   "metadata": {},
   "outputs": [
    {
     "data": {
      "text/plain": [
       "20"
      ]
     },
     "execution_count": 9,
     "metadata": {},
     "output_type": "execute_result"
    }
   ],
   "source": [
    "x"
   ]
  },
  {
   "cell_type": "markdown",
   "id": "8210419e-6bb0-41e0-a0ed-1f65f4a37c84",
   "metadata": {},
   "source": [
    "예제2\n",
    "\n",
    "(코드1)"
   ]
  },
  {
   "cell_type": "code",
   "execution_count": 11,
   "id": "4d9119ba-3e37-4f34-b198-bb847c9e76f9",
   "metadata": {},
   "outputs": [
    {
     "name": "stdout",
     "output_type": "stream",
     "text": [
      "26 27\n"
     ]
    }
   ],
   "source": [
    "x=26\n",
    "def nextyear():\n",
    "    y=x+1\n",
    "    print(x,y)\n",
    "nextyear()"
   ]
  },
  {
   "cell_type": "markdown",
   "id": "fe80c4e2-777a-4241-accf-8b27f7c73fa7",
   "metadata": {},
   "source": [
    "(코드2)"
   ]
  },
  {
   "cell_type": "code",
   "execution_count": 12,
   "id": "b41c294f-b352-49e5-bb95-e01c38afec2a",
   "metadata": {},
   "outputs": [
    {
     "ename": "UnboundLocalError",
     "evalue": "local variable 'x' referenced before assignment",
     "output_type": "error",
     "traceback": [
      "\u001b[0;31m---------------------------------------------------------------------------\u001b[0m",
      "\u001b[0;31mUnboundLocalError\u001b[0m                         Traceback (most recent call last)",
      "Input \u001b[0;32mIn [12]\u001b[0m, in \u001b[0;36m<cell line: 6>\u001b[0;34m()\u001b[0m\n\u001b[1;32m      4\u001b[0m     \u001b[38;5;28mprint\u001b[39m(x,y)\n\u001b[1;32m      5\u001b[0m     x\u001b[38;5;241m=\u001b[39m\u001b[38;5;241m0\u001b[39m\n\u001b[0;32m----> 6\u001b[0m \u001b[43mnextyear\u001b[49m\u001b[43m(\u001b[49m\u001b[43m)\u001b[49m\n",
      "Input \u001b[0;32mIn [12]\u001b[0m, in \u001b[0;36mnextyear\u001b[0;34m()\u001b[0m\n\u001b[1;32m      2\u001b[0m \u001b[38;5;28;01mdef\u001b[39;00m \u001b[38;5;21mnextyear\u001b[39m():\n\u001b[0;32m----> 3\u001b[0m     y\u001b[38;5;241m=\u001b[39m\u001b[43mx\u001b[49m\u001b[38;5;241m+\u001b[39m\u001b[38;5;241m1\u001b[39m\n\u001b[1;32m      4\u001b[0m     \u001b[38;5;28mprint\u001b[39m(x,y)\n\u001b[1;32m      5\u001b[0m     x\u001b[38;5;241m=\u001b[39m\u001b[38;5;241m0\u001b[39m\n",
      "\u001b[0;31mUnboundLocalError\u001b[0m: local variable 'x' referenced before assignment"
     ]
    }
   ],
   "source": [
    "x=26\n",
    "def nextyear():\n",
    "    y=x+1\n",
    "    print(x,y)\n",
    "    x=0\n",
    "nextyear()"
   ]
  },
  {
   "cell_type": "markdown",
   "id": "0f88d730-dfa4-4291-8a71-05fca892389b",
   "metadata": {},
   "source": [
    "`-` 해석:\n",
    "- 잘못된 해석: 코드1은 실행되었고, 코드2에서 에러가 남. 코드1과 2의 차이점은 `x=0`이라는 코드가 코드2에 추가로 포함되어있다는 것이다. 따라서 `x=0`이 잘못된 코드이고 이걸 실행하는 과정에서 에러가 발생\n",
    "\n",
    "- 올바른 해석: 코드1에서 x가 global variable이고 코드2에서는 x가 local variable이어서 생기는 문제"
   ]
  },
  {
   "cell_type": "markdown",
   "id": "75cd4e90-6653-4890-ab17-bcd7065be7f4",
   "metadata": {},
   "source": [
    "`-` 코드2의 올바른 수정"
   ]
  },
  {
   "cell_type": "code",
   "execution_count": 14,
   "id": "2971a53e-263b-495d-81f9-9113ab8f707d",
   "metadata": {},
   "outputs": [
    {
     "name": "stdout",
     "output_type": "stream",
     "text": [
      "0 1\n"
     ]
    }
   ],
   "source": [
    "x=26\n",
    "def nextyear():\n",
    "    x=0\n",
    "    y=x+1\n",
    "    print(x,y)\n",
    "nextyear()"
   ]
  },
  {
   "cell_type": "markdown",
   "id": "c22f5d7a-23e7-478d-9c3d-0dd0a373063e",
   "metadata": {},
   "source": [
    "### 인스턴스 변수, 클래스 변수 \n",
    "`-` 예비학습이 주는 교훈\n",
    "\n",
    "(원칙1) global에서 정의된 이름은 local에서 정의된 이름이 없을 경우 그를 대신할 수 있다. (local은 경우에 따라서 global에 있는 변수를 빌려 쓸 수 있다)\n",
    "\n",
    "(원칙2) local과 global에서 같은 이름 'x'가 각각 정의되어 있는 경우? global의 변수와 local의 변수는 각각 따로 행동하며 서로 영향을 주지 않는다. (독립적이다)\n",
    "\n",
    "- 만약 local이 global의 변수를 같이 쓰고 있었다고 할지라도, 추후 새롭게 local에 같은 이름의 변수가 정의된다면 그순간 local과 global의 변수는 각자 따로 행동하며 서로에게 영향을 주지 않음"
   ]
  },
  {
   "cell_type": "code",
   "execution_count": 15,
   "id": "985df764-3b64-4d6d-bbc4-17f6c46576cf",
   "metadata": {},
   "outputs": [],
   "source": [
    "x=10\n",
    "def f():\n",
    "    print(x)"
   ]
  },
  {
   "cell_type": "code",
   "execution_count": 16,
   "id": "e710bf8c-afda-4b0a-a5ab-5bc3fc61b03e",
   "metadata": {},
   "outputs": [
    {
     "name": "stdout",
     "output_type": "stream",
     "text": [
      "10\n"
     ]
    }
   ],
   "source": [
    "f()"
   ]
  },
  {
   "cell_type": "code",
   "execution_count": 17,
   "id": "08a3d0d0-24c3-4d4f-96dc-5a7c1ab9276b",
   "metadata": {},
   "outputs": [],
   "source": [
    "def f():\n",
    "    x=20\n",
    "    print(x)"
   ]
  },
  {
   "cell_type": "code",
   "execution_count": 18,
   "id": "b58d784f-6569-4e22-81e3-578afd837228",
   "metadata": {},
   "outputs": [
    {
     "name": "stdout",
     "output_type": "stream",
     "text": [
      "20\n"
     ]
    }
   ],
   "source": [
    "f()"
   ]
  },
  {
   "cell_type": "markdown",
   "id": "61aa02a4-9bdd-4fbc-b41a-576fb3ec3eed",
   "metadata": {},
   "source": [
    "`-` 이전에 공부하였던 인스턴스변수와 클래스변수 역시 비슷"
   ]
  },
  {
   "cell_type": "code",
   "execution_count": 19,
   "id": "4b062db0-0716-45c1-b707-fa6e0ea8b82d",
   "metadata": {},
   "outputs": [],
   "source": [
    "class Moo:\n",
    "    x=0"
   ]
  },
  {
   "cell_type": "code",
   "execution_count": 20,
   "id": "13d0fff1-ed05-4b85-a004-e40270053f94",
   "metadata": {},
   "outputs": [],
   "source": [
    "moo=Moo()"
   ]
  },
  {
   "cell_type": "markdown",
   "id": "face7be7-9d27-40a1-b9cc-a3044eb5632b",
   "metadata": {},
   "source": [
    "(관찰1)"
   ]
  },
  {
   "cell_type": "code",
   "execution_count": 21,
   "id": "48659d46-1a5a-4192-8429-5499d25fbd0e",
   "metadata": {},
   "outputs": [
    {
     "data": {
      "text/plain": [
       "(0, 0)"
      ]
     },
     "execution_count": 21,
     "metadata": {},
     "output_type": "execute_result"
    }
   ],
   "source": [
    "Moo.x,moo.x"
   ]
  },
  {
   "cell_type": "markdown",
   "id": "2fcc20cc-3ddb-4a3a-b3eb-bfba90690c65",
   "metadata": {},
   "source": [
    "- moo.x는 사실 정의한 적 없지만 MOO.x를 빌려쓰고 있다. (원칙1)"
   ]
  },
  {
   "cell_type": "markdown",
   "id": "69257f6b-13f2-416c-942b-a7d37fa05a4c",
   "metadata": {},
   "source": [
    "(관찰2)"
   ]
  },
  {
   "cell_type": "code",
   "execution_count": 22,
   "id": "dacc7f63-bbee-40cc-8fd9-3dc1eaaac0e6",
   "metadata": {},
   "outputs": [],
   "source": [
    "Moo.x=100"
   ]
  },
  {
   "cell_type": "code",
   "execution_count": 23,
   "id": "4fbdff94-3819-4bbe-b090-1b293f134eaa",
   "metadata": {},
   "outputs": [
    {
     "data": {
      "text/plain": [
       "(100, 100)"
      ]
     },
     "execution_count": 23,
     "metadata": {},
     "output_type": "execute_result"
    }
   ],
   "source": [
    "Moo.x,moo.x"
   ]
  },
  {
   "cell_type": "markdown",
   "id": "e5478a6b-ba2e-422a-ae56-96bb4f436983",
   "metadata": {},
   "source": [
    "- Moo.x를 변화시키면 moo.x도 변화한다(빌려쓰기 때문, 원칙1의 재확인)"
   ]
  },
  {
   "cell_type": "markdown",
   "id": "5998a286-daa6-4276-a838-cbd158f3d9c6",
   "metadata": {},
   "source": [
    "(관찰3)"
   ]
  },
  {
   "cell_type": "code",
   "execution_count": 24,
   "id": "ba2429b9-0b8a-45fc-81ce-cf204a831a03",
   "metadata": {},
   "outputs": [],
   "source": [
    "moo.x=200"
   ]
  },
  {
   "cell_type": "code",
   "execution_count": 25,
   "id": "357f4586-d5be-426a-93b4-a3451145c318",
   "metadata": {},
   "outputs": [
    {
     "data": {
      "text/plain": [
       "(100, 200)"
      ]
     },
     "execution_count": 25,
     "metadata": {},
     "output_type": "execute_result"
    }
   ],
   "source": [
    "Moo.x,moo.x"
   ]
  },
  {
   "cell_type": "markdown",
   "id": "7f41294b-7a9a-4695-9986-3800bcd3c7c3",
   "metadata": {},
   "source": [
    "- moo.x=200을 하는 순간 새롭게 인스턴스변수를 선언. 따라서 원칙2가 적용되어 이제부터 Moo.x,moo.x는 서로 독립적으로 행동."
   ]
  },
  {
   "cell_type": "markdown",
   "id": "cfd33735-ff06-49f3-b5cc-ec307480098c",
   "metadata": {},
   "source": [
    "(관찰4)"
   ]
  },
  {
   "cell_type": "code",
   "execution_count": 26,
   "id": "8c41777d-8822-4cb1-bf92-5a6c5b18f2c2",
   "metadata": {},
   "outputs": [],
   "source": [
    "Moo.x=-99"
   ]
  },
  {
   "cell_type": "code",
   "execution_count": 27,
   "id": "7fcad0b7-94a4-4feb-969d-2e99eab978e2",
   "metadata": {},
   "outputs": [
    {
     "data": {
      "text/plain": [
       "(-99, 200)"
      ]
     },
     "execution_count": 27,
     "metadata": {},
     "output_type": "execute_result"
    }
   ],
   "source": [
    "Moo.x,moo.x"
   ]
  },
  {
   "cell_type": "code",
   "execution_count": 28,
   "id": "ca8005c1-34cb-45f9-aa88-2ff7392f291b",
   "metadata": {},
   "outputs": [],
   "source": [
    "moo.x=99"
   ]
  },
  {
   "cell_type": "code",
   "execution_count": 29,
   "id": "071e49c7-52c9-4974-98c6-633d4bff6fb7",
   "metadata": {},
   "outputs": [
    {
     "data": {
      "text/plain": [
       "(-99, 99)"
      ]
     },
     "execution_count": 29,
     "metadata": {},
     "output_type": "execute_result"
    }
   ],
   "source": [
    "Moo.x,moo.x"
   ]
  },
  {
   "cell_type": "markdown",
   "id": "8cfca371-b9b3-426e-8173-50e755e4e865",
   "metadata": {},
   "source": [
    "- Moo.x를 바꾼다고 해서 moo.x가 영향을 받지 않고 moo.x를 바꿔도 Moo.x가 영향받지 않음(완전히 독립, 원칙2의 재확인)"
   ]
  },
  {
   "cell_type": "markdown",
   "id": "c4c42e15-3d6f-4863-aa3b-6995fee1ac10",
   "metadata": {},
   "source": [
    "`-` 포인트:\n",
    "\n",
    "(1) 클래스변수와 인스턴스 변수의 구분\n",
    "\n",
    "(2) 인스턴스 변수가 정의되지 않으면 클래스변수를 빌려쓸 수 있음\n",
    "\n",
    "(3) 인스턴스변수와 클래스변수가 같은 이름으로 저장되어 있으면 각각 독립적으로 행동"
   ]
  },
  {
   "cell_type": "markdown",
   "id": "adfb561c-919e-4b85-bd0c-0db4cee43040",
   "metadata": {},
   "source": [
    "### 인스턴스 메소드\n",
    "\n",
    "`-` self 비밀: 사실 클래스에서 정의된 함수의 첫번째 인자의 이름이 꼭 self일 필요는 없다(무엇으로 전달하든 클래스안에서 정의된 메소드의 첫번째 인자는 기본적으로 instance의 태명역할)"
   ]
  },
  {
   "cell_type": "code",
   "execution_count": 31,
   "id": "b2693db3-b4b7-42e8-add2-f833b808f543",
   "metadata": {},
   "outputs": [],
   "source": [
    "class Moo:\n",
    "    def __init__(abab):\n",
    "        abab.name='seokjin'\n",
    "    def f(cdcd):\n",
    "        print(cdcd.name)"
   ]
  },
  {
   "cell_type": "code",
   "execution_count": 32,
   "id": "cbb63140-e244-4bc9-9b44-66de0a88d831",
   "metadata": {},
   "outputs": [],
   "source": [
    "moo=Moo()"
   ]
  },
  {
   "cell_type": "code",
   "execution_count": 33,
   "id": "3da8e7d6-eb6a-421c-96ba-e4b1950b2ee0",
   "metadata": {},
   "outputs": [
    {
     "data": {
      "text/plain": [
       "'seokjin'"
      ]
     },
     "execution_count": 33,
     "metadata": {},
     "output_type": "execute_result"
    }
   ],
   "source": [
    "moo.name"
   ]
  },
  {
   "cell_type": "code",
   "execution_count": 34,
   "id": "09d63a3a-9287-430d-b96f-467cbab164ab",
   "metadata": {},
   "outputs": [
    {
     "name": "stdout",
     "output_type": "stream",
     "text": [
      "seokjin\n"
     ]
    }
   ],
   "source": [
    "moo.f()"
   ]
  },
  {
   "cell_type": "markdown",
   "id": "01cbb915-ea80-4d1f-adcd-14261db8c1cf",
   "metadata": {},
   "source": [
    "`-` 인스턴스 메소드: 위의 `__init__`와 `f`와 같이 첫번째 인자를 인스턴스의 태명으로 받는 함수를 인스턴스메소드 (간단히 메소드)라고 한다.\n",
    "\n",
    "- 인스턴스 메소드는 `self.f()`와 같이 사용. 의미는 `f(self)`이다."
   ]
  },
  {
   "cell_type": "code",
   "execution_count": 35,
   "id": "6e26dfa5-18f4-46f2-930d-2afc6253796a",
   "metadata": {},
   "outputs": [],
   "source": [
    "moo.name='sj'"
   ]
  },
  {
   "cell_type": "code",
   "execution_count": 36,
   "id": "59c4f118-55b2-49d9-93d8-63c908dca7e9",
   "metadata": {},
   "outputs": [],
   "source": [
    "moo.__init__() # 인스턴스메소드의 사용예시:self.__init__()의 꼴로 사용"
   ]
  },
  {
   "cell_type": "code",
   "execution_count": 37,
   "id": "0d6ffa29-323e-4f7b-ace6-e7e1d39cddb4",
   "metadata": {},
   "outputs": [
    {
     "data": {
      "text/plain": [
       "'seokjin'"
      ]
     },
     "execution_count": 37,
     "metadata": {},
     "output_type": "execute_result"
    }
   ],
   "source": [
    "moo.name"
   ]
  },
  {
   "cell_type": "code",
   "execution_count": 38,
   "id": "922c563e-1914-4e3b-9436-3297f9a34552",
   "metadata": {},
   "outputs": [
    {
     "name": "stdout",
     "output_type": "stream",
     "text": [
      "seokjin\n"
     ]
    }
   ],
   "source": [
    "moo.f() #인스턴스메소드의 사용예시: self.__init__()의 꼴로 사용"
   ]
  },
  {
   "cell_type": "markdown",
   "id": "6f9ed549-0f10-4df7-8284-a45f06408846",
   "metadata": {},
   "source": [
    "`-` 아래와 같이 사용할 수 없다."
   ]
  },
  {
   "cell_type": "code",
   "execution_count": 39,
   "id": "8d07f482-c6df-4085-8302-a38d5d184dac",
   "metadata": {},
   "outputs": [
    {
     "ename": "TypeError",
     "evalue": "__init__() missing 1 required positional argument: 'abab'",
     "output_type": "error",
     "traceback": [
      "\u001b[0;31m---------------------------------------------------------------------------\u001b[0m",
      "\u001b[0;31mTypeError\u001b[0m                                 Traceback (most recent call last)",
      "Input \u001b[0;32mIn [39]\u001b[0m, in \u001b[0;36m<cell line: 1>\u001b[0;34m()\u001b[0m\n\u001b[0;32m----> 1\u001b[0m \u001b[43mMoo\u001b[49m\u001b[38;5;241;43m.\u001b[39;49m\u001b[38;5;21;43m__init__\u001b[39;49m\u001b[43m(\u001b[49m\u001b[43m)\u001b[49m\n",
      "\u001b[0;31mTypeError\u001b[0m: __init__() missing 1 required positional argument: 'abab'"
     ]
    }
   ],
   "source": [
    "Moo.__init__()"
   ]
  },
  {
   "cell_type": "code",
   "execution_count": 40,
   "id": "2091e8bb-9990-4f1d-897e-2dbfc3fad6d2",
   "metadata": {},
   "outputs": [
    {
     "name": "stdout",
     "output_type": "stream",
     "text": [
      "seokjin\n"
     ]
    }
   ],
   "source": [
    "moo.f()"
   ]
  },
  {
   "cell_type": "markdown",
   "id": "a5f3163e-b493-45f9-a285-2b771b52d8e6",
   "metadata": {},
   "source": [
    "### 클래스 메소드\n",
    "\n",
    "`-` 클래스 메소드: 함수의 첫인자로 클래스오브젝트를 받는 메소드를 클래스메소드라고 한다.\n",
    "\n",
    "`-` 목표: `MOO.f()`와 같은 형태로 사용할 수 있는 함수를 만들어보자 -> 클래스메소드를 만들어보자!"
   ]
  },
  {
   "cell_type": "code",
   "execution_count": 41,
   "id": "35ecc9f1-6bd2-486e-b88a-30473ff42594",
   "metadata": {},
   "outputs": [],
   "source": [
    "class Moo:\n",
    "    def f(self):\n",
    "        print(\"인스턴스메소드\")"
   ]
  },
  {
   "cell_type": "code",
   "execution_count": 43,
   "id": "086a8faa-8c84-422f-b52a-ffb66958d2d4",
   "metadata": {},
   "outputs": [],
   "source": [
    "moo=Moo()"
   ]
  },
  {
   "cell_type": "code",
   "execution_count": 44,
   "id": "1250d925-0b04-4bbc-ae65-d5b05a130a07",
   "metadata": {},
   "outputs": [
    {
     "name": "stdout",
     "output_type": "stream",
     "text": [
      "인스턴스메소드\n"
     ]
    }
   ],
   "source": [
    "moo.f()"
   ]
  },
  {
   "cell_type": "code",
   "execution_count": 45,
   "id": "033b20b7-b192-4dc6-af29-b80db8e89898",
   "metadata": {},
   "outputs": [
    {
     "ename": "TypeError",
     "evalue": "f() missing 1 required positional argument: 'self'",
     "output_type": "error",
     "traceback": [
      "\u001b[0;31m---------------------------------------------------------------------------\u001b[0m",
      "\u001b[0;31mTypeError\u001b[0m                                 Traceback (most recent call last)",
      "Input \u001b[0;32mIn [45]\u001b[0m, in \u001b[0;36m<cell line: 1>\u001b[0;34m()\u001b[0m\n\u001b[0;32m----> 1\u001b[0m \u001b[43mMoo\u001b[49m\u001b[38;5;241;43m.\u001b[39;49m\u001b[43mf\u001b[49m\u001b[43m(\u001b[49m\u001b[43m)\u001b[49m\n",
      "\u001b[0;31mTypeError\u001b[0m: f() missing 1 required positional argument: 'self'"
     ]
    }
   ],
   "source": [
    "Moo.f()"
   ]
  },
  {
   "cell_type": "code",
   "execution_count": 46,
   "id": "cf188efe-5587-4b6d-be03-905ab5de94cb",
   "metadata": {},
   "outputs": [],
   "source": [
    "class Moo:\n",
    "    @classmethod\n",
    "    def f(cls): # 함수의 첫 인자로 클래스오브젝트를 받는다. cls는 클래스 Moo의 별명?이라고 생각\n",
    "        print(\"클래스 메소드\")"
   ]
  },
  {
   "cell_type": "code",
   "execution_count": 47,
   "id": "d940ca24-f149-4ad1-9f5e-711475e76c06",
   "metadata": {},
   "outputs": [],
   "source": [
    "moo=Moo()"
   ]
  },
  {
   "cell_type": "code",
   "execution_count": 48,
   "id": "ab77d233-6648-4f41-a816-e737001ab410",
   "metadata": {},
   "outputs": [
    {
     "name": "stdout",
     "output_type": "stream",
     "text": [
      "클래스 메소드\n"
     ]
    }
   ],
   "source": [
    "Moo.f()"
   ]
  },
  {
   "cell_type": "code",
   "execution_count": 49,
   "id": "21ee8f1a-387d-43f7-8642-1cff03946d3d",
   "metadata": {},
   "outputs": [
    {
     "name": "stdout",
     "output_type": "stream",
     "text": [
      "클래스 메소드\n"
     ]
    }
   ],
   "source": [
    "moo.f() #인스턴스 메소드를 따로 정의한 적은 없지만 같은 이름의 클래스 메소드가 있으므로 빌려와서 씀!"
   ]
  },
  {
   "cell_type": "markdown",
   "id": "a5c2040d-6ad3-4461-98d8-63329dc7cfe4",
   "metadata": {},
   "source": [
    "`-` 예제"
   ]
  },
  {
   "cell_type": "code",
   "execution_count": 56,
   "id": "b8b102ea-ddc2-49c8-9cfa-11322c5d0195",
   "metadata": {},
   "outputs": [],
   "source": [
    "class Moo:\n",
    "    @classmethod\n",
    "    def set_class_x(cls,value): #클래스 메소드\n",
    "        cls.x=value #클래스변수선언, note: Moo.x=value 와 같은 코드!\n",
    "    def set_instance_x(self,value): #인스턴스 메소드\n",
    "        self.x=value"
   ]
  },
  {
   "cell_type": "code",
   "execution_count": 57,
   "id": "88b31e17-4f96-4544-a9fc-dcc63c5f7ab6",
   "metadata": {},
   "outputs": [],
   "source": [
    "moo=Moo()"
   ]
  },
  {
   "cell_type": "code",
   "execution_count": 60,
   "id": "8c715cbc-743e-4743-bd9b-484e2d351585",
   "metadata": {},
   "outputs": [],
   "source": [
    "Moo.set_class_x(10) #클래스메소드로 클래스변수에 10을 설정"
   ]
  },
  {
   "cell_type": "code",
   "execution_count": 61,
   "id": "d5b6b8ed-117f-44ae-8455-4dd48836b83d",
   "metadata": {},
   "outputs": [
    {
     "ename": "TypeError",
     "evalue": "set_instance_x() missing 1 required positional argument: 'value'",
     "output_type": "error",
     "traceback": [
      "\u001b[0;31m---------------------------------------------------------------------------\u001b[0m",
      "\u001b[0;31mTypeError\u001b[0m                                 Traceback (most recent call last)",
      "Input \u001b[0;32mIn [61]\u001b[0m, in \u001b[0;36m<cell line: 1>\u001b[0;34m()\u001b[0m\n\u001b[0;32m----> 1\u001b[0m \u001b[43mMoo\u001b[49m\u001b[38;5;241;43m.\u001b[39;49m\u001b[43mset_instance_x\u001b[49m\u001b[43m(\u001b[49m\u001b[38;5;241;43m10\u001b[39;49m\u001b[43m)\u001b[49m\n",
      "\u001b[0;31mTypeError\u001b[0m: set_instance_x() missing 1 required positional argument: 'value'"
     ]
    }
   ],
   "source": [
    "Moo.set_instance_x(10) #클래스에서 인스턴스메소드를 사용 -> 사용불가"
   ]
  },
  {
   "cell_type": "code",
   "execution_count": 62,
   "id": "1e2b7a02-e598-467f-92a7-126c1718d584",
   "metadata": {},
   "outputs": [
    {
     "data": {
      "text/plain": [
       "(10, 10)"
      ]
     },
     "execution_count": 62,
     "metadata": {},
     "output_type": "execute_result"
    }
   ],
   "source": [
    "Moo.x,moo.x #인스턴스변수는 따로 설정하지 않았지만 클래스변수값을 빌려쓰고 있음"
   ]
  },
  {
   "cell_type": "code",
   "execution_count": 63,
   "id": "400edd97-67b6-4450-896e-5e9dd1412769",
   "metadata": {},
   "outputs": [],
   "source": [
    "moo.set_class_x(20) #인스턴스에서는 원래 set_class_x라는 메소드는 없지만 클래스에서 빌려씀"
   ]
  },
  {
   "cell_type": "code",
   "execution_count": 64,
   "id": "e6a6427b-8564-49ec-bfb7-3dfee51300a4",
   "metadata": {},
   "outputs": [
    {
     "data": {
      "text/plain": [
       "(20, 20)"
      ]
     },
     "execution_count": 64,
     "metadata": {},
     "output_type": "execute_result"
    }
   ],
   "source": [
    "Moo.x,moo.x #현재 moo.x는 클래스변수를 빌려쓰고 있는 상황이므로 같이 바뀜"
   ]
  },
  {
   "cell_type": "code",
   "execution_count": 65,
   "id": "98f7ed95-88e7-4644-8f9c-f127753b1f03",
   "metadata": {},
   "outputs": [],
   "source": [
    "moo.set_instance_x(-20) #인스턴스에서 인스턴스 메소드를 사용하여 인스턴스 변수값을 -20으로 설정\n",
    "#-> 이때부터 인스턴스변수와 클래스 변수는 서로 독립적인 노선을 간다."
   ]
  },
  {
   "cell_type": "code",
   "execution_count": 66,
   "id": "c5e85555-4d68-4cc9-bbae-1572b739de1b",
   "metadata": {},
   "outputs": [
    {
     "data": {
      "text/plain": [
       "(20, -20)"
      ]
     },
     "execution_count": 66,
     "metadata": {},
     "output_type": "execute_result"
    }
   ],
   "source": [
    "Moo.x,moo.x"
   ]
  },
  {
   "cell_type": "code",
   "execution_count": 67,
   "id": "4b05aaba-2e84-4815-9cfb-13aae9ed4ceb",
   "metadata": {},
   "outputs": [
    {
     "data": {
      "text/plain": [
       "(30, -20)"
      ]
     },
     "execution_count": 67,
     "metadata": {},
     "output_type": "execute_result"
    }
   ],
   "source": [
    "Moo.set_class_x(30) #독립적인 노선을 가기로 했으므로 클래스변수만 30으로 바뀜\n",
    "Moo.x,moo.x"
   ]
  },
  {
   "cell_type": "code",
   "execution_count": 68,
   "id": "9ebc0bbf-9407-4d05-8bfc-bd257d53268e",
   "metadata": {},
   "outputs": [
    {
     "data": {
      "text/plain": [
       "(-40, -20)"
      ]
     },
     "execution_count": 68,
     "metadata": {},
     "output_type": "execute_result"
    }
   ],
   "source": [
    "moo.set_class_x(-40) #여전히 인스턴스에서 set_class_x라는 함수는 없으므로 클래스메소드를 빌려쓰고 있음\n",
    "Moo.x,moo.x"
   ]
  },
  {
   "cell_type": "markdown",
   "id": "26403285-aa58-472b-b126-4777ea1799fc",
   "metadata": {},
   "source": [
    "### 스태틱 메소드\n",
    "`-` 스태틱 메소드: 첫 인자로 인스턴스와 클래스 모두 받지 않음(클래스안에 정의되어 있지만 그냥 함수와 같음)"
   ]
  },
  {
   "cell_type": "code",
   "execution_count": 69,
   "id": "e1badd6b-f689-4385-a626-34331b9bdf43",
   "metadata": {},
   "outputs": [],
   "source": [
    "class Cals:\n",
    "    @staticmethod\n",
    "    def add(a,b):\n",
    "        return a+b\n",
    "    @staticmethod\n",
    "    def sub(a,b):\n",
    "        return a-b"
   ]
  },
  {
   "cell_type": "code",
   "execution_count": 70,
   "id": "7f96fb02-74d4-48b6-8057-a0ac0363d300",
   "metadata": {},
   "outputs": [],
   "source": [
    "fs=Cals()"
   ]
  },
  {
   "cell_type": "code",
   "execution_count": 71,
   "id": "05cfb9af-6d56-4a58-8e7c-634c5ddc0f67",
   "metadata": {},
   "outputs": [
    {
     "data": {
      "text/plain": [
       "3"
      ]
     },
     "execution_count": 71,
     "metadata": {},
     "output_type": "execute_result"
    }
   ],
   "source": [
    "fs.add(1,2)"
   ]
  },
  {
   "cell_type": "code",
   "execution_count": 72,
   "id": "22ad21b1-3fde-4f52-8729-7b2a6c3a4ca0",
   "metadata": {},
   "outputs": [
    {
     "data": {
      "text/plain": [
       "-1"
      ]
     },
     "execution_count": 72,
     "metadata": {},
     "output_type": "execute_result"
    }
   ],
   "source": [
    "fs.sub(1,2)"
   ]
  },
  {
   "cell_type": "markdown",
   "id": "f805c6af-286d-425d-8faf-2ce6ea39015c",
   "metadata": {},
   "source": [
    "- fs는 그냥 함수들을 묶어놓은 느낌? 정리하게 편하게?"
   ]
  },
  {
   "cell_type": "markdown",
   "id": "60a658d1-972b-48c8-a96e-89a12ef625da",
   "metadata": {},
   "source": [
    "## 클래스 10단계\n",
    "### 문자열 join"
   ]
  },
  {
   "cell_type": "markdown",
   "id": "ee747029-e1d6-49c0-b752-cfc90da8edca",
   "metadata": {},
   "source": [
    "`-` 예제"
   ]
  },
  {
   "cell_type": "code",
   "execution_count": 73,
   "id": "5d29139a-b172-4295-bb64-af5df2e44eeb",
   "metadata": {},
   "outputs": [
    {
     "data": {
      "text/plain": [
       "['a', 'b', 'c', 'd']"
      ]
     },
     "execution_count": 73,
     "metadata": {},
     "output_type": "execute_result"
    }
   ],
   "source": [
    "lst=list('abcd')\n",
    "lst"
   ]
  },
  {
   "cell_type": "code",
   "execution_count": 74,
   "id": "24b41e8e-193e-4c5d-9c47-579bc62f2e8d",
   "metadata": {},
   "outputs": [
    {
     "data": {
      "text/plain": [
       "'abcd'"
      ]
     },
     "execution_count": 74,
     "metadata": {},
     "output_type": "execute_result"
    }
   ],
   "source": [
    "''.join(lst)"
   ]
  },
  {
   "cell_type": "markdown",
   "id": "9308e209-6e32-4ba8-9232-3c9b0a2fbca0",
   "metadata": {},
   "source": [
    "`-` 해설:''는 string object이고 `.join`는 string object에 소속된 메소드이다."
   ]
  },
  {
   "cell_type": "code",
   "execution_count": 75,
   "id": "e9af362b-de5a-4388-810d-d1421c5f8687",
   "metadata": {},
   "outputs": [
    {
     "data": {
      "text/plain": [
       "'abcd'"
      ]
     },
     "execution_count": 75,
     "metadata": {},
     "output_type": "execute_result"
    }
   ],
   "source": [
    "a=''\n",
    "a.join(lst)"
   ]
  },
  {
   "cell_type": "markdown",
   "id": "4f0e23b3-ac56-4244-8f12-2bf49f47f00c",
   "metadata": {},
   "source": [
    "`-` join의 간단한 사용방법"
   ]
  },
  {
   "cell_type": "code",
   "execution_count": 76,
   "id": "62b1189f-3c69-4e30-9691-7399853dfb43",
   "metadata": {},
   "outputs": [
    {
     "data": {
      "text/plain": [
       "'a-b-c-d'"
      ]
     },
     "execution_count": 76,
     "metadata": {},
     "output_type": "execute_result"
    }
   ],
   "source": [
    "'-'.join(lst)"
   ]
  },
  {
   "cell_type": "markdown",
   "id": "bb85bdca-efa8-409b-80bf-dcdbcfd9f5e2",
   "metadata": {},
   "source": [
    "### matplotlib\n",
    "\n",
    "`-` 파이썬의 모든것은 객체이다:matplotlib의 다른 사용(객체지향적 언어로 그림그리기!)\n",
    "\n",
    "`-` 그림오브젝트 생성"
   ]
  },
  {
   "cell_type": "code",
   "execution_count": 77,
   "id": "eda2d95d-1285-45d0-a9b6-53291733fc1a",
   "metadata": {},
   "outputs": [
    {
     "data": {
      "text/plain": [
       "<Figure size 432x288 with 0 Axes>"
      ]
     },
     "metadata": {},
     "output_type": "display_data"
    }
   ],
   "source": [
    "fig=plt.figure() #그림오브젝트 생성되고 fig라는 이름이 붙음"
   ]
  },
  {
   "cell_type": "markdown",
   "id": "0684a7e1-ba38-433b-a15b-37aea753c2f8",
   "metadata": {},
   "source": [
    "`-` 그림오브젝트의 axes를 확인 -> 아무것도 없음"
   ]
  },
  {
   "cell_type": "code",
   "execution_count": 79,
   "id": "9807dadf-28c4-40be-bbe2-4b544437a1f8",
   "metadata": {},
   "outputs": [
    {
     "data": {
      "text/plain": [
       "[]"
      ]
     },
     "execution_count": 79,
     "metadata": {},
     "output_type": "execute_result"
    }
   ],
   "source": [
    "fig.axes"
   ]
  },
  {
   "cell_type": "markdown",
   "id": "cc81bd9f-1224-46fc-98f6-51f18067b035",
   "metadata": {},
   "source": [
    "`-` (0,0) 자리에 (가로=1,세로=1) 크기의 axes를 넣음."
   ]
  },
  {
   "cell_type": "code",
   "execution_count": 80,
   "id": "bcd45b44-50a3-4bd1-a140-522848381d38",
   "metadata": {},
   "outputs": [
    {
     "data": {
      "text/plain": [
       "<Axes:>"
      ]
     },
     "execution_count": 80,
     "metadata": {},
     "output_type": "execute_result"
    }
   ],
   "source": [
    "fig.add_axes([0,0,1,1])"
   ]
  },
  {
   "cell_type": "code",
   "execution_count": 81,
   "id": "1a58ca3f-cce6-446e-aad0-7fc7b8d99ca8",
   "metadata": {},
   "outputs": [
    {
     "data": {
      "text/plain": [
       "[<Axes:>]"
      ]
     },
     "execution_count": 81,
     "metadata": {},
     "output_type": "execute_result"
    }
   ],
   "source": [
    "fig.axes"
   ]
  },
  {
   "cell_type": "code",
   "execution_count": 82,
   "id": "72857082-8c28-40d8-ac1e-e8b6c1b4f4f1",
   "metadata": {},
   "outputs": [
    {
     "data": {
      "image/png": "[encoded data removed]",
      "text/plain": [
       "<Figure size 432x288 with 1 Axes>"
      ]
     },
     "execution_count": 82,
     "metadata": {},
     "output_type": "execute_result"
    }
   ],
   "source": [
    "fig"
   ]
  },
  {
   "cell_type": "markdown",
   "id": "b18dad05-1331-491b-af39-9324aba55005",
   "metadata": {},
   "source": [
    "`-` (0,1.2) 위치에 (가로=1,세로=1) 크기의 axes 추가"
   ]
  },
  {
   "cell_type": "code",
   "execution_count": 83,
   "id": "3a563710-17a9-4d63-9e42-751b1d6ea4a2",
   "metadata": {},
   "outputs": [
    {
     "data": {
      "image/png": "[encoded data removed]",
      "text/plain": [
       "<Figure size 432x288 with 2 Axes>"
      ]
     },
     "execution_count": 83,
     "metadata": {},
     "output_type": "execute_result"
    }
   ],
   "source": [
    "fig.add_axes([0,1.2,1,1])\n",
    "fig"
   ]
  },
  {
   "cell_type": "markdown",
   "id": "3c05c30e-22d6-472e-b2be-5cc893a77bb6",
   "metadata": {},
   "source": [
    "`-` (0.5,0.5)위치에 (가로=1,세로=1) 크기의 그림 추가"
   ]
  },
  {
   "cell_type": "code",
   "execution_count": 84,
   "id": "3ab1b976-229d-438e-925a-8382e80d80f7",
   "metadata": {},
   "outputs": [
    {
     "data": {
      "text/plain": [
       "<Axes:>"
      ]
     },
     "execution_count": 84,
     "metadata": {},
     "output_type": "execute_result"
    }
   ],
   "source": [
    "fig.add_axes([0.5,0.5,1,1])"
   ]
  },
  {
   "cell_type": "code",
   "execution_count": 85,
   "id": "740ea66b-0b86-45dc-af68-5b2b4f036325",
   "metadata": {},
   "outputs": [
    {
     "data": {
      "image/png": "[encoded data removed]",
      "text/plain": [
       "<Figure size 432x288 with 3 Axes>"
      ]
     },
     "execution_count": 85,
     "metadata": {},
     "output_type": "execute_result"
    }
   ],
   "source": [
    "fig"
   ]
  },
  {
   "cell_type": "markdown",
   "id": "78ad9b44-f562-4f13-9ca8-986de156c862",
   "metadata": {},
   "source": [
    "`-` fig의 세번째 axes에 접근"
   ]
  },
  {
   "cell_type": "code",
   "execution_count": 86,
   "id": "db4c4275-55e7-46db-ba7f-f3a47b673240",
   "metadata": {},
   "outputs": [
    {
     "data": {
      "text/plain": [
       "<Axes:>"
      ]
     },
     "execution_count": 86,
     "metadata": {},
     "output_type": "execute_result"
    }
   ],
   "source": [
    "a3=fig.axes[2]\n",
    "a3"
   ]
  },
  {
   "cell_type": "markdown",
   "id": "5076b16a-7a17-4fbc-b7fe-03abcdefd941",
   "metadata": {},
   "source": [
    "`-` axes의 메소드중 plot이 존재 -> 그림을 그려봄"
   ]
  },
  {
   "cell_type": "code",
   "execution_count": 88,
   "id": "e2942d09-fb88-4e87-9d07-3ae0f2a9c5bf",
   "metadata": {},
   "outputs": [
    {
     "data": {
      "text/plain": [
       "[<matplotlib.lines.Line2D at 0x7fc41aecdbb0>]"
      ]
     },
     "execution_count": 88,
     "metadata": {},
     "output_type": "execute_result"
    }
   ],
   "source": [
    "a3.plot([1,2,3],[4,5,3],'--r')"
   ]
  },
  {
   "cell_type": "code",
   "execution_count": 89,
   "id": "deeae8d7-e50a-484e-8e32-0c634c197050",
   "metadata": {},
   "outputs": [
    {
     "data": {
      "image/png": "[encoded data removed]",
      "text/plain": [
       "<Figure size 432x288 with 3 Axes>"
      ]
     },
     "execution_count": 89,
     "metadata": {},
     "output_type": "execute_result"
    }
   ],
   "source": [
    "fig"
   ]
  },
  {
   "cell_type": "markdown",
   "id": "61c9ddb8-aafc-436a-bd2c-7d97f618002d",
   "metadata": {},
   "source": [
    "`-` 다시 세번째 축에 접근해 다른그림을 그림"
   ]
  },
  {
   "cell_type": "code",
   "execution_count": 92,
   "id": "2e36ebc9-27a8-4f01-9886-135df49d313c",
   "metadata": {},
   "outputs": [
    {
     "data": {
      "image/png": "[encoded data removed]",
      "text/plain": [
       "<Figure size 432x288 with 3 Axes>"
      ]
     },
     "execution_count": 92,
     "metadata": {},
     "output_type": "execute_result"
    }
   ],
   "source": [
    "fig.axes[-1].plot([1,2,3],[5,4,3],':o')\n",
    "fig"
   ]
  },
  {
   "cell_type": "markdown",
   "id": "e8947ec1-9f76-463c-a9c6-313d6a500bb6",
   "metadata": {},
   "source": [
    "`-` 첫번째 축에 접근해 새로운 그림을 그림."
   ]
  },
  {
   "cell_type": "code",
   "execution_count": 93,
   "id": "dae94cb7-8dd9-4976-a3fb-89806ff79f35",
   "metadata": {},
   "outputs": [
    {
     "data": {
      "image/png": "[encoded data removed]",
      "text/plain": [
       "<Figure size 432x288 with 3 Axes>"
      ]
     },
     "execution_count": 93,
     "metadata": {},
     "output_type": "execute_result"
    }
   ],
   "source": [
    "fig.axes[0].plot([1,2,3],[4,1,4],'--b')\n",
    "fig"
   ]
  },
  {
   "cell_type": "markdown",
   "id": "c3fec358-f111-4fb8-b13d-a7b5a785a7de",
   "metadata": {},
   "source": [
    "`-` 클래스에 대한 이해가 없다면 위와 같은 그림을 그리기도 힘들고 코드를 해석하기도 힘듬"
   ]
  },
  {
   "cell_type": "markdown",
   "id": "9bfe7209-b575-425e-a90a-9bb83a24b8b7",
   "metadata": {},
   "source": [
    "### 참조와 에일리어싱"
   ]
  },
  {
   "cell_type": "markdown",
   "id": "9dce3e1f-9cc8-487e-8dda-c71d5206ac8f",
   "metadata": {},
   "source": [
    "`-` 아래의 코드를 관찰"
   ]
  },
  {
   "cell_type": "code",
   "execution_count": 94,
   "id": "582910d5-b48e-41b5-958e-998c267cf2dc",
   "metadata": {},
   "outputs": [],
   "source": [
    "a=[1,2,3]\n",
    "b=a\n",
    "a=a+[4]"
   ]
  },
  {
   "cell_type": "markdown",
   "id": "2c8ce5a9-ec14-44f8-8081-fd0fe5305bbc",
   "metadata": {},
   "source": [
    "현재 a,b의 출력결과는?"
   ]
  },
  {
   "cell_type": "code",
   "execution_count": 95,
   "id": "7b53efa8-0cd6-4c51-a1d0-13aa164a2128",
   "metadata": {},
   "outputs": [
    {
     "data": {
      "text/plain": [
       "([1, 2, 3, 4], [1, 2, 3])"
      ]
     },
     "execution_count": 95,
     "metadata": {},
     "output_type": "execute_result"
    }
   ],
   "source": [
    "a,b"
   ]
  },
  {
   "cell_type": "markdown",
   "id": "f4b4eb50-711a-40ad-a730-6ac0564ed8c4",
   "metadata": {},
   "source": [
    "`-` 아래의 코드를 다시 관찰"
   ]
  },
  {
   "cell_type": "code",
   "execution_count": 96,
   "id": "9a5a3066-1bba-449d-aaa5-3061f9c0970d",
   "metadata": {},
   "outputs": [],
   "source": [
    "a=[1,2,3]\n",
    "b=a\n",
    "a.append(4)"
   ]
  },
  {
   "cell_type": "markdown",
   "id": "2658208e-dff4-455d-8e25-5b846cdbe8c0",
   "metadata": {},
   "source": [
    "현재 a,b의 출력결과는?"
   ]
  },
  {
   "cell_type": "code",
   "execution_count": 97,
   "id": "7fc091d5-6975-4e51-8cd0-e1b88dda8886",
   "metadata": {},
   "outputs": [
    {
     "data": {
      "text/plain": [
       "([1, 2, 3, 4], [1, 2, 3, 4])"
      ]
     },
     "execution_count": 97,
     "metadata": {},
     "output_type": "execute_result"
    }
   ],
   "source": [
    "a,b"
   ]
  },
  {
   "cell_type": "markdown",
   "id": "b647fd40-c4f2-4230-bf67-7697760a0a36",
   "metadata": {},
   "source": [
    "`-` 아래의 코드 다시 살펴봄\n",
    "```python\n",
    "a=[1,2,3]\n",
    "b=a\n",
    "a.append(4)\n",
    "```\n",
    "\n",
    "a,b라는 변수들은 메모리에 어떻게 저장이 되어 있을까?\n",
    "\n",
    "상상력을 조금 발휘하면 아래와 같이 여길 수 있다.\n",
    "\n",
    "(1) 메모리는 변수를 담을 방이 여러개 있는 호텔이라고 생각\n",
    "\n",
    "(2) 아래를 실행하였을 경우\n",
    "```python\n",
    "a=[1,2,3]\n",
    "```\n",
    "- 메모리주소1에 존재하는 방을 a라고 하고, 그 방에 [1,2,3]을 넣는다.\n",
    "\n",
    "(3) 아래를 실행하였을 경우\n",
    "```python\n",
    "b=a\n",
    "```\n",
    "- 메모리주소38에 존재하는 방을 b라고 하고, 그 방에 a를 넣어야하는데, a는 [1,2,3]이니까 [1,2,3]을 넣는다.\n",
    "\n",
    "(4) 아래를 실행하면\n",
    "```python\n",
    "a.append(4)\n",
    "```\n",
    "- 방 a로 가서 [1,2,3]을 [1,2,3,4]로 바꾼다.\n",
    "- 그리고 방 b에는 아무것도 하지 않는다.\n"
   ]
  },
  {
   "cell_type": "markdown",
   "id": "f5e33d2f-2adb-4cdc-b000-9ae989cc12c4",
   "metadata": {},
   "source": [
    "`-` R에서는 맞는 비유인데, 파이썬은 적절하지 않는 비유이다."
   ]
  },
  {
   "cell_type": "code",
   "execution_count": 98,
   "id": "546aa0e1-e12a-4710-8bed-bb85a72e85bf",
   "metadata": {},
   "outputs": [
    {
     "data": {
      "text/plain": [
       "140480241978176"
      ]
     },
     "execution_count": 98,
     "metadata": {},
     "output_type": "execute_result"
    }
   ],
   "source": [
    "id(a)"
   ]
  },
  {
   "cell_type": "code",
   "execution_count": 99,
   "id": "6db6d7f2-b2fc-4bfc-a380-a4fabe4ad0e4",
   "metadata": {},
   "outputs": [
    {
     "data": {
      "text/plain": [
       "140480241978176"
      ]
     },
     "execution_count": 99,
     "metadata": {},
     "output_type": "execute_result"
    }
   ],
   "source": [
    "id(b)"
   ]
  },
  {
   "cell_type": "markdown",
   "id": "6f2f3454-ec9e-4143-8bea-c11687ad4f25",
   "metadata": {},
   "source": [
    "실제로는 a,b가 저장된 메모리 주소가 동일함"
   ]
  },
  {
   "cell_type": "markdown",
   "id": "56d5633b-4edc-4a9a-aefe-ccbce9f0c401",
   "metadata": {},
   "source": [
    "`-` 파이썬에서는 아래가 더 적절한 비유이다.\n",
    "\n",
    "(1) 메모리는 변수를 담을 방이 여러개 있는 호텔이라고 생각하자.\n",
    "\n",
    "(2) 아래를 실행하였을 경우\n",
    "```python\n",
    "a=[1,2,3]\n",
    "```\n",
    "- 메모리주소140480241978176에서 [1,2,3]을 생성\n",
    "- 방 140480241978176의 방문에 a라는 포스트잇을 붙임\n",
    "- 앞으로 [1,2,3]에 접근하기 위해서는 여러 메모리방중에서 a라는 포스트잇이 붙은 방을 찾아가면 됨\n",
    "\n",
    "(3) 아래를 실행하였을 경우\n",
    "```python\n",
    "b=a\n",
    "```\n",
    "\n",
    "- a라는 포스트잇이 있는데, a라는 포스트잇이랑 b라는 포스트잇과 같은 효과를 주도록 함\n",
    "- 쉽게말하면 b라는 포스트잇을 방 140480241978176의 방문에 붙인다는 이야기\n",
    "- 앞으로 [1,2,3]에 접근하기 위해서는 여러 메모리방중에서 a라는 포스트잇이 붙어있거나 b라는 포스트잇이 붙어있는 방을 찾아가면 됨\n",
    "\n",
    "(4) 아래를 실행하면\n",
    "```python\n",
    "a.append(4)\n",
    "```\n",
    "- a라는 포스트잇이 붙어있는 방으로 가서, 그 내용물 append함수를 써서 4를 추가하라. 즉 내용물 [1,2,3]을 [1,2,3,4]로 바꿈\n",
    "- 같은방에 a,b라는 포스트잇이 모두 붙어있음. 따라서 b라는 포스트잇이 붙은 방을 찾아가서 내용물을 열어보면 [1,2,3,4]가 나옴"
   ]
  },
  {
   "cell_type": "markdown",
   "id": "ef97987f-3bfa-424e-9888-bc591b11abc7",
   "metadata": {},
   "source": [
    "`-` 결론: 파이썬의 모든것은 오브젝트이다. 그리고 모든 오브젝트는 메모리주소위에 올라간다. 하지만 그 메모리주소에 붙어있는 포스트잇이 하나라는 보장은 없다."
   ]
  },
  {
   "cell_type": "code",
   "execution_count": null,
   "id": "8609aac6-2e9b-4c17-9068-ebef7fa933f2",
   "metadata": {},
   "outputs": [],
   "source": []
  }
 ],
 "metadata": {
  "kernelspec": {
   "display_name": "Python 3 (ipykernel)",
   "language": "python",
   "name": "python3"
  },
  "language_info": {
   "codemirror_mode": {
    "name": "ipython",
    "version": 3
   },
   "file_extension": ".py",
   "mimetype": "text/x-python",
   "name": "python",
   "nbconvert_exporter": "python",
   "pygments_lexer": "ipython3",
   "version": "3.9.7"
  }
 },
 "nbformat": 4,
 "nbformat_minor": 5
}
