{
 "cells": [
  {
   "cell_type": "markdown",
   "id": "47a154ab-66b6-4791-acac-3d3b6b426684",
   "metadata": {
    "tags": []
   },
   "source": [
    "# 파이썬 6월 6일 강의 복습\n",
    "> \"7월 12일\"\n",
    "\n",
    "- toc:true\n",
    "- branch: master\n",
    "- badges: true\n",
    "- comments: true\n",
    "- author: 최석진\n",
    "- categories: [Python]"
   ]
  },
  {
   "cell_type": "code",
   "execution_count": 1,
   "id": "8fb75470-48b5-4f1c-9f3b-9c85180b1a8c",
   "metadata": {},
   "outputs": [],
   "source": [
    "import numpy as np\n",
    "import matplotlib.pyplot as plt\n",
    "import pandas as pd"
   ]
  },
  {
   "cell_type": "markdown",
   "id": "2f738c6d-02b1-4f37-9dbf-3f513b431e9d",
   "metadata": {},
   "source": [
    "## 클래스 공부 7단계"
   ]
  },
  {
   "cell_type": "markdown",
   "id": "f4ac77e8-d4d5-4ede-aa04-956bdc0df784",
   "metadata": {},
   "source": [
    "### 함수공부"
   ]
  },
  {
   "cell_type": "markdown",
   "id": "1d8177f2-6ac8-4683-9b2f-7381fedf83e9",
   "metadata": {},
   "source": [
    "`-` 함수"
   ]
  },
  {
   "cell_type": "code",
   "execution_count": 3,
   "id": "44a148ad-9353-426d-8978-2cd207e3604e",
   "metadata": {},
   "outputs": [],
   "source": [
    "def f(x):\n",
    "    return x+1"
   ]
  },
  {
   "cell_type": "code",
   "execution_count": 4,
   "id": "5b87156d-87ec-402a-b12c-a5412d28accc",
   "metadata": {},
   "outputs": [
    {
     "data": {
      "text/plain": [
       "4"
      ]
     },
     "execution_count": 4,
     "metadata": {},
     "output_type": "execute_result"
    }
   ],
   "source": [
    "f(3)"
   ]
  },
  {
   "cell_type": "markdown",
   "id": "c208acc2-f4a6-44a2-8bf0-a290b56bbf5d",
   "metadata": {},
   "source": [
    "`-` 함수의 사용방법?\n",
    "- 입력으로 변수 x를 받음 = 입력으로 인스턴스 x를 받음.\n",
    "- 출력으로 변수 x+1을 리턴 = 출력으로 인스턴스 x+1을 리턴."
   ]
  },
  {
   "cell_type": "markdown",
   "id": "15ffb1eb-e705-4326-b9ad-ab56fb665dbc",
   "metadata": {},
   "source": [
    "`-` 사실1 : 파이썬에서 함수는 인스턴스를 입력으로 받고 인스턴스를 출력한다."
   ]
  },
  {
   "cell_type": "markdown",
   "id": "2e99f237-ac16-4b34-ac79-53d175fb993f",
   "metadata": {},
   "source": [
    "`-` 함수의 자료형?"
   ]
  },
  {
   "cell_type": "code",
   "execution_count": 5,
   "id": "d7e24e4e-06c3-40e0-9c03-ee253d123adb",
   "metadata": {},
   "outputs": [
    {
     "data": {
      "text/plain": [
       "\u001b[0;31mSignature:\u001b[0m \u001b[0mf\u001b[0m\u001b[0;34m(\u001b[0m\u001b[0mx\u001b[0m\u001b[0;34m)\u001b[0m\u001b[0;34m\u001b[0m\u001b[0;34m\u001b[0m\u001b[0m\n",
       "\u001b[0;31mDocstring:\u001b[0m <no docstring>\n",
       "\u001b[0;31mFile:\u001b[0m      /var/folders/l1/qgzhh1fs7tsg8pkmzspwgkyw0000gn/T/ipykernel_204/1304018138.py\n",
       "\u001b[0;31mType:\u001b[0m      function\n"
      ]
     },
     "metadata": {},
     "output_type": "display_data"
    }
   ],
   "source": [
    "f?"
   ]
  },
  {
   "cell_type": "markdown",
   "id": "9a66c981-3036-4e4a-8344-a0f4e900e454",
   "metadata": {},
   "source": [
    "- type이 function임.\n",
    "- f는 function class의 instance이다.\n",
    "- f 역시 하나의 오브젝트"
   ]
  },
  {
   "cell_type": "markdown",
   "id": "6f07b47e-a1c4-419d-85b0-042e88ee42f3",
   "metadata": {},
   "source": [
    "`-` 사실2 : 함수도 결국 인스턴스이다. -> 함수의 입력으로 함수를 쓸 수도 있고 함수의 출력으로 함수가 나올 수도 있다."
   ]
  },
  {
   "cell_type": "markdown",
   "id": "344faad4-ccc5-4a4c-80b1-a84996849f60",
   "metadata": {},
   "source": [
    "### 함수형 프로그래밍"
   ]
  },
  {
   "cell_type": "markdown",
   "id": "ccbc7634-725a-4c47-8671-0ee45e2b94dc",
   "metadata": {},
   "source": [
    "(예제1) 숫자입력, 함수입력"
   ]
  },
  {
   "cell_type": "code",
   "execution_count": 6,
   "id": "74a203e9-fe23-43f3-890e-a807bcdc1b4e",
   "metadata": {},
   "outputs": [],
   "source": [
    "def f(a):\n",
    "    def _f(x):\n",
    "        return (x-a)**2\n",
    "    return _f"
   ]
  },
  {
   "cell_type": "code",
   "execution_count": 7,
   "id": "6a3e28a5-d39f-4838-ab07-36e955bc352f",
   "metadata": {},
   "outputs": [],
   "source": [
    "g=f(10) # g(x)=(x-10)**2"
   ]
  },
  {
   "cell_type": "code",
   "execution_count": 8,
   "id": "d92ec3f6-f057-4cfb-9930-8b2d0d04e69b",
   "metadata": {},
   "outputs": [
    {
     "data": {
      "text/plain": [
       "64"
      ]
     },
     "execution_count": 8,
     "metadata": {},
     "output_type": "execute_result"
    }
   ],
   "source": [
    "g(2) ##(2-10)**2 =64"
   ]
  },
  {
   "cell_type": "markdown",
   "id": "68fada0f-4771-4b7e-ac44-c3c6437a45ce",
   "metadata": {},
   "source": [
    "- 해석 : f(a)는 a를 입력으로 받고 g(x)=(x-a)^2 를 함수를 리턴해주는 함수"
   ]
  },
  {
   "cell_type": "markdown",
   "id": "64e5cad0-5aa9-4833-b382-cda2247658a0",
   "metadata": {},
   "source": [
    "(예제1)의 다른표현 : 익명함수 lamda"
   ]
  },
  {
   "cell_type": "markdown",
   "id": "c063bdd6-c73e-4a5d-a72a-a9ddeb10e358",
   "metadata": {},
   "source": [
    "표현1"
   ]
  },
  {
   "cell_type": "code",
   "execution_count": 9,
   "id": "380d35d7-c2cd-4d5f-815f-b35938f8f44a",
   "metadata": {},
   "outputs": [],
   "source": [
    "def f(a):\n",
    "    _f = lambda x:(x-a)**2 ###lambda x:(x-a)**2 가 실행되는 순간 함수오브젝트가 만들어지고 그것이 _f로 저장됨\n",
    "    return _f"
   ]
  },
  {
   "cell_type": "code",
   "execution_count": 10,
   "id": "08a4b932-210e-408f-8338-6ce44e4b43a1",
   "metadata": {},
   "outputs": [],
   "source": [
    "g=f(10) #g(x)=(x-10)**2"
   ]
  },
  {
   "cell_type": "code",
   "execution_count": 11,
   "id": "f5e4f83b-10db-4009-a270-c293c7dfe3e7",
   "metadata": {},
   "outputs": [
    {
     "data": {
      "text/plain": [
       "49"
      ]
     },
     "execution_count": 11,
     "metadata": {},
     "output_type": "execute_result"
    }
   ],
   "source": [
    "g(3) #(3-10)**2 =49"
   ]
  },
  {
   "cell_type": "markdown",
   "id": "75f26327-63be-41cc-a7f1-4d1a23eeeda1",
   "metadata": {},
   "source": [
    "표현2"
   ]
  },
  {
   "cell_type": "code",
   "execution_count": 12,
   "id": "103fce06-ead5-45fe-b929-7a69e82a36b1",
   "metadata": {},
   "outputs": [],
   "source": [
    "def f(a):\n",
    "    return lambda x: (x-a)**2"
   ]
  },
  {
   "cell_type": "code",
   "execution_count": 13,
   "id": "cd6bacf2-eae7-4c9b-9270-d325e842f80d",
   "metadata": {},
   "outputs": [],
   "source": [
    "g=f(10) #g(x)=(x-10)**2"
   ]
  },
  {
   "cell_type": "code",
   "execution_count": 14,
   "id": "9a52b49e-331f-4816-8c31-40278a0235cc",
   "metadata": {},
   "outputs": [
    {
     "data": {
      "text/plain": [
       "49"
      ]
     },
     "execution_count": 14,
     "metadata": {},
     "output_type": "execute_result"
    }
   ],
   "source": [
    "g(3) #(3-10)**3 = 49"
   ]
  },
  {
   "cell_type": "markdown",
   "id": "a6e237d9-51f9-49d7-babc-a1797c84be92",
   "metadata": {},
   "source": [
    "- `lambda x: (x-a)**2`는 $lambda(x)=(x-a)^2$의 느낌으로 기억하면 외우기 쉽다.\n",
    "- `lambda x: (x-a)**2`는 \"아직 이름이 없는 함수오브젝트를 (가칭 lambda 라고 하자) 만들고 기능은 x를 입력하고 (x-a)^2를 출력하도록 하자\" 라는 뜻으로 해석하면 된다."
   ]
  },
  {
   "cell_type": "markdown",
   "id": "50177d6b-062f-4155-8dab-a2487395b419",
   "metadata": {},
   "source": [
    "(예제2) 함수입력,숫자출력"
   ]
  },
  {
   "cell_type": "code",
   "execution_count": 15,
   "id": "5adedfc4-26d8-4403-ab1a-d17db225b64b",
   "metadata": {},
   "outputs": [],
   "source": [
    "def f(x):\n",
    "    return x**2"
   ]
  },
  {
   "cell_type": "code",
   "execution_count": 16,
   "id": "4e41e32e-2550-4e51-8d54-e25cfd1ab2ae",
   "metadata": {},
   "outputs": [],
   "source": [
    "def d(f,x): #함수를 입력받는 함수를 정의\n",
    "    h=0.000000000001\n",
    "    return (f(x+h)-f(x))/h"
   ]
  },
  {
   "cell_type": "code",
   "execution_count": 17,
   "id": "75d947cd-a824-4bb4-81a3-6ffcc6f12a8a",
   "metadata": {},
   "outputs": [
    {
     "data": {
      "text/plain": [
       "8.000711204658728"
      ]
     },
     "execution_count": 17,
     "metadata": {},
     "output_type": "execute_result"
    }
   ],
   "source": [
    "d(f,4) #f'(4)=2*4=8"
   ]
  },
  {
   "cell_type": "markdown",
   "id": "9c3bc840-4ae3-4c7f-a357-107132b93106",
   "metadata": {},
   "source": [
    "(예제3) 함수입력,함수출력"
   ]
  },
  {
   "cell_type": "code",
   "execution_count": 18,
   "id": "4b48d21c-4d26-449b-8966-821b607f23b3",
   "metadata": {},
   "outputs": [],
   "source": [
    "def f(x):\n",
    "    return x**2"
   ]
  },
  {
   "cell_type": "code",
   "execution_count": 19,
   "id": "78dc79cf-b361-4a80-b5d0-bfef3c63972c",
   "metadata": {},
   "outputs": [],
   "source": [
    "def derivate(f):\n",
    "    def df(x):\n",
    "        h=0.000000001\n",
    "        return (f(x+h)-f(x))/h\n",
    "    return df"
   ]
  },
  {
   "cell_type": "code",
   "execution_count": 20,
   "id": "830e2eb3-b2b7-4c4f-9744-e8650654f242",
   "metadata": {},
   "outputs": [],
   "source": [
    "ff=derivate(f)"
   ]
  },
  {
   "cell_type": "code",
   "execution_count": 21,
   "id": "f48da90f-2886-439a-a468-e05db9e51530",
   "metadata": {},
   "outputs": [
    {
     "data": {
      "text/plain": [
       "14.000001158365194"
      ]
     },
     "execution_count": 21,
     "metadata": {},
     "output_type": "execute_result"
    }
   ],
   "source": [
    "ff(7) ##f의 도함수"
   ]
  },
  {
   "cell_type": "markdown",
   "id": "52d66b57-92cf-4fee-869d-9c2f60a9f87e",
   "metadata": {},
   "source": [
    "### **원래함수의 시각화**"
   ]
  },
  {
   "cell_type": "code",
   "execution_count": 22,
   "id": "d39dcac9-ffa3-420a-90bf-271ed5d399c7",
   "metadata": {},
   "outputs": [
    {
     "data": {
      "text/plain": [
       "[<matplotlib.lines.Line2D at 0x7fcd686b5310>]"
      ]
     },
     "execution_count": 22,
     "metadata": {},
     "output_type": "execute_result"
    },
    {
     "data": {
      "image/png": "[encoded data removed]",
      "text/plain": [
       "<Figure size 432x288 with 1 Axes>"
      ]
     },
     "metadata": {
      "needs_background": "light"
     },
     "output_type": "display_data"
    }
   ],
   "source": [
    "x=np.linspace(-1,1,100)\n",
    "plt.plot(x,f(x))"
   ]
  },
  {
   "cell_type": "markdown",
   "id": "13a56dfa-33cb-49f3-8f1d-1603e3573a2b",
   "metadata": {},
   "source": [
    "### **도함수 시각화**"
   ]
  },
  {
   "cell_type": "code",
   "execution_count": 23,
   "id": "878abe9e-8f42-4786-869c-0995aaf528ba",
   "metadata": {},
   "outputs": [
    {
     "data": {
      "text/plain": [
       "[<matplotlib.lines.Line2D at 0x7fcd49541760>]"
      ]
     },
     "execution_count": 23,
     "metadata": {},
     "output_type": "execute_result"
    },
    {
     "data": {
      "image/png": "[encoded data removed]",
      "text/plain": [
       "<Figure size 432x288 with 1 Axes>"
      ]
     },
     "metadata": {
      "needs_background": "light"
     },
     "output_type": "display_data"
    }
   ],
   "source": [
    "x=np.linspace(-1,1,100)\n",
    "plt.plot(x,ff(x))"
   ]
  },
  {
   "cell_type": "markdown",
   "id": "ddbb3cf5-cb54-42e6-ba83-1e4f957840a9",
   "metadata": {},
   "source": [
    "(예제3)의 다른표현"
   ]
  },
  {
   "cell_type": "code",
   "execution_count": 24,
   "id": "ad7e4044-8726-4ad1-ad99-f0a1b085a398",
   "metadata": {},
   "outputs": [],
   "source": [
    "def f(x):\n",
    "    return x**2"
   ]
  },
  {
   "cell_type": "code",
   "execution_count": 25,
   "id": "07a82b20-7c91-4a9e-9005-a6bbcb549aea",
   "metadata": {},
   "outputs": [],
   "source": [
    "def derivate(f):\n",
    "    h=0.00000001\n",
    "    return lambda x:(f(x+h)-f(x))/h"
   ]
  },
  {
   "cell_type": "code",
   "execution_count": 26,
   "id": "c3430546-8dd9-474d-8a9b-37d00db13535",
   "metadata": {},
   "outputs": [],
   "source": [
    "ff=derivate(f)"
   ]
  },
  {
   "cell_type": "code",
   "execution_count": 27,
   "id": "26b8a13a-6d5a-4b24-89cd-07c8d816da4a",
   "metadata": {},
   "outputs": [
    {
     "data": {
      "text/plain": [
       "20.00000165480742"
      ]
     },
     "execution_count": 27,
     "metadata": {},
     "output_type": "execute_result"
    }
   ],
   "source": [
    "ff(10)"
   ]
  },
  {
   "cell_type": "markdown",
   "id": "cd1a71c6-7e92-4097-9d71-df76d855fd1a",
   "metadata": {},
   "source": [
    "(예제4) 함수들의 리스트"
   ]
  },
  {
   "cell_type": "code",
   "execution_count": 29,
   "id": "f6133162-02a3-4e59-b847-c9406120cbbb",
   "metadata": {},
   "outputs": [
    {
     "data": {
      "text/plain": [
       "[<function __main__.<lambda>(x)>,\n",
       " <function __main__.<lambda>(x)>,\n",
       " <function __main__.<lambda>(x)>]"
      ]
     },
     "execution_count": 29,
     "metadata": {},
     "output_type": "execute_result"
    }
   ],
   "source": [
    "flst=[lambda x:x,lambda x:x**2, lambda x:x**3]\n",
    "flst"
   ]
  },
  {
   "cell_type": "code",
   "execution_count": 30,
   "id": "91a6917e-89fb-4e90-94e1-48ce8c0eafe4",
   "metadata": {},
   "outputs": [
    {
     "name": "stdout",
     "output_type": "stream",
     "text": [
      "2\n",
      "4\n",
      "8\n"
     ]
    }
   ],
   "source": [
    "for f in flst:\n",
    "    print(f(2))"
   ]
  },
  {
   "cell_type": "code",
   "execution_count": 31,
   "id": "923f0505-2621-4759-824d-d0df8b30e3d7",
   "metadata": {},
   "outputs": [
    {
     "data": {
      "image/png": "[encoded data removed]",
      "text/plain": [
       "<Figure size 432x288 with 1 Axes>"
      ]
     },
     "metadata": {
      "needs_background": "light"
     },
     "output_type": "display_data"
    }
   ],
   "source": [
    "for f in flst:\n",
    "    plt.plot(x,f(x),'--')"
   ]
  },
  {
   "cell_type": "markdown",
   "id": "d830516e-62e3-4d94-9512-1f5cab2a697b",
   "metadata": {},
   "source": [
    "위 코드와 동일"
   ]
  },
  {
   "cell_type": "code",
   "execution_count": 32,
   "id": "bc693520-bba4-4854-9979-6900cd8b4aa3",
   "metadata": {},
   "outputs": [
    {
     "data": {
      "text/plain": [
       "[<matplotlib.lines.Line2D at 0x7fcd78f648b0>]"
      ]
     },
     "execution_count": 32,
     "metadata": {},
     "output_type": "execute_result"
    },
    {
     "data": {
      "image/png": "[encoded data removed]",
      "text/plain": [
       "<Figure size 432x288 with 1 Axes>"
      ]
     },
     "metadata": {
      "needs_background": "light"
     },
     "output_type": "display_data"
    }
   ],
   "source": [
    "plt.plot(x,(lambda x:x)(x),'--')\n",
    "plt.plot(x,(lambda x:x**2)(x),'--')\n",
    "plt.plot(x,(lambda x:x**3)(x),'--')"
   ]
  },
  {
   "cell_type": "markdown",
   "id": "09c7d94d-d060-4ffe-91ac-7dcb27b71e92",
   "metadata": {},
   "source": [
    "### 정리\n",
    "\n",
    "`-` 지금까지 개념\n",
    "- 함수:변수를 입력으로 받아서 변수를 출력하는 개념\n",
    "- 변수:어떤 값을 저장하는 용도로 쓰거나 함수의 입력 혹은 출력으로 사용\n",
    "\n",
    "`-` 파이썬의 함수형프로그래밍을 잘하려면?\n",
    "- 변수든 함수이든 둘다 인스턴스임.\n",
    "- 변수를 함수처럼: 메소드\n",
    "- 함수를 변수처럼($\\star$): 함수자체를 함수의 입력으로 혹은 출력으로 쓸 수도 있음. 함수를 특정값처럼 생각해서 함수들의 list를 만들 수 있다."
   ]
  },
  {
   "cell_type": "markdown",
   "id": "62875ae5-3bfe-487e-af09-7cc1cf9f1452",
   "metadata": {},
   "source": [
    "### callable object"
   ]
  },
  {
   "cell_type": "markdown",
   "id": "5355d2f6-6d58-4fb9-ad4a-e6c630c44460",
   "metadata": {},
   "source": [
    "`-` 함수오브젝트의 비밀?"
   ]
  },
  {
   "cell_type": "code",
   "execution_count": 34,
   "id": "d3736663-d0ca-40c1-88aa-4c16bd94575d",
   "metadata": {},
   "outputs": [],
   "source": [
    "f= lambda x:x+1"
   ]
  },
  {
   "cell_type": "code",
   "execution_count": 35,
   "id": "582fe465-2e49-4b38-bf44-a1b4d123ca42",
   "metadata": {},
   "outputs": [],
   "source": [
    "lst=[1,2,3]"
   ]
  },
  {
   "cell_type": "code",
   "execution_count": 36,
   "id": "a8dfcbd0-512f-4d1e-8237-a0c1e41d7d7a",
   "metadata": {},
   "outputs": [
    {
     "data": {
      "text/plain": [
       "{'__call__'}"
      ]
     },
     "execution_count": 36,
     "metadata": {},
     "output_type": "execute_result"
    }
   ],
   "source": [
    "set(dir(f))&{'__call__'}"
   ]
  },
  {
   "cell_type": "markdown",
   "id": "69812fa9-6967-4d25-8d29-4f09328568dd",
   "metadata": {},
   "source": [
    "- 함수 오브젝트에는 숨겨진 기능 `__call__`이 있다."
   ]
  },
  {
   "cell_type": "code",
   "execution_count": 37,
   "id": "d55157c0-9d65-4355-abaf-be2be6110993",
   "metadata": {},
   "outputs": [
    {
     "data": {
      "text/plain": [
       "4"
      ]
     },
     "execution_count": 37,
     "metadata": {},
     "output_type": "execute_result"
    }
   ],
   "source": [
    "f.__call__(3) #f(3)"
   ]
  },
  {
   "cell_type": "markdown",
   "id": "448f7aa5-47c2-41e5-831a-7471e607a2c2",
   "metadata": {},
   "source": [
    "- 여기에 우리가 정의한 내용이 있다."
   ]
  },
  {
   "cell_type": "markdown",
   "id": "691a76f4-c991-401a-a9e4-95398810bdf1",
   "metadata": {},
   "source": [
    "`-` 함수처럼 쓸 수 없는 인스턴스는 단지 call이 없는 것일 뿐이다."
   ]
  },
  {
   "cell_type": "code",
   "execution_count": 38,
   "id": "d75fc9de-442b-4778-903d-9f925ecb4819",
   "metadata": {},
   "outputs": [],
   "source": [
    "class Klass:\n",
    "    def __init__(self):\n",
    "        self.name='seokjin'"
   ]
  },
  {
   "cell_type": "code",
   "execution_count": 39,
   "id": "9af48573-bff3-43cb-b419-68582f90e3ac",
   "metadata": {},
   "outputs": [],
   "source": [
    "a=Klass()"
   ]
  },
  {
   "cell_type": "code",
   "execution_count": 40,
   "id": "241cdd84-2f1b-4f12-adb5-dd099e9162bd",
   "metadata": {},
   "outputs": [
    {
     "ename": "TypeError",
     "evalue": "'Klass' object is not callable",
     "output_type": "error",
     "traceback": [
      "\u001b[0;31m---------------------------------------------------------------------------\u001b[0m",
      "\u001b[0;31mTypeError\u001b[0m                                 Traceback (most recent call last)",
      "Input \u001b[0;32mIn [40]\u001b[0m, in \u001b[0;36m<cell line: 1>\u001b[0;34m()\u001b[0m\n\u001b[0;32m----> 1\u001b[0m \u001b[43ma\u001b[49m\u001b[43m(\u001b[49m\u001b[43m)\u001b[49m\n",
      "\u001b[0;31mTypeError\u001b[0m: 'Klass' object is not callable"
     ]
    }
   ],
   "source": [
    "a()"
   ]
  },
  {
   "cell_type": "markdown",
   "id": "75f1b4fe-d548-480b-b0b6-0092f3ed26c2",
   "metadata": {},
   "source": [
    "- a는 callable이 아니라고 한다."
   ]
  },
  {
   "cell_type": "code",
   "execution_count": 41,
   "id": "827053f8-4b5b-4524-adda-04d5cf58dd2c",
   "metadata": {},
   "outputs": [],
   "source": [
    "class Klass2(Klass): #상속\n",
    "    def __call__(self):\n",
    "        print(self.name)"
   ]
  },
  {
   "cell_type": "code",
   "execution_count": 42,
   "id": "2c63119a-f6b7-47ca-a9e2-8341f2b171a2",
   "metadata": {},
   "outputs": [],
   "source": [
    "b=Klass2()"
   ]
  },
  {
   "cell_type": "code",
   "execution_count": 43,
   "id": "55426648-01f2-4621-b918-c2ef50b6afa7",
   "metadata": {},
   "outputs": [
    {
     "name": "stdout",
     "output_type": "stream",
     "text": [
      "seokjin\n"
     ]
    }
   ],
   "source": [
    "b()"
   ]
  },
  {
   "cell_type": "markdown",
   "id": "e1083a2c-52a2-4385-8501-c8596c0fcab7",
   "metadata": {},
   "source": [
    "- b는 callable object. 즉, 숨겨진 메소드로 `__call__`를 가진 오브젝트\n",
    "- Klass는 callable object를 만들지 못하지만 Klass2는 callable object를 만든다."
   ]
  },
  {
   "cell_type": "markdown",
   "id": "eb51cae3-0f2e-4fcb-be95-5848b4f7aef0",
   "metadata": {},
   "source": [
    "`-` 클래스로 함수 만들기"
   ]
  },
  {
   "cell_type": "code",
   "execution_count": 44,
   "id": "81454afc-db3d-44b1-b3ab-aaea0d215e86",
   "metadata": {},
   "outputs": [],
   "source": [
    "class AddConstant:\n",
    "    def __init__(self,c):\n",
    "        self.c=c\n",
    "    def __call__(self,a):\n",
    "        return a+self.c"
   ]
  },
  {
   "cell_type": "code",
   "execution_count": 45,
   "id": "d22bac73-4c5b-4580-bc43-a650eabdf323",
   "metadata": {},
   "outputs": [],
   "source": [
    "f=AddConstant(3) #callable object생성, f.c에는 3이 저장"
   ]
  },
  {
   "cell_type": "code",
   "execution_count": 46,
   "id": "b155c00a-f0d6-42ea-a29f-84c374dffc41",
   "metadata": {},
   "outputs": [
    {
     "data": {
      "text/plain": [
       "8"
      ]
     },
     "execution_count": 46,
     "metadata": {},
     "output_type": "execute_result"
    }
   ],
   "source": [
    "f(5)"
   ]
  },
  {
   "cell_type": "markdown",
   "id": "38037b4f-4d6e-4019-b7cd-873a15de816a",
   "metadata": {},
   "source": [
    "- 클래스도 `오브젝트` 였음. -> 클래스도 함수처럼 `Klass()`와 같이 사용하면 인스턴스를 만들었음 -> `Klass.__call__()`은 `Klass()`와 같은 역할을 할 것이다."
   ]
  },
  {
   "cell_type": "code",
   "execution_count": 48,
   "id": "fa071588-132f-4892-b49b-629cec63dcde",
   "metadata": {},
   "outputs": [],
   "source": [
    "class Klass:\n",
    "    def __init__(self):\n",
    "        self.name='jin'"
   ]
  },
  {
   "cell_type": "code",
   "execution_count": 50,
   "id": "390568d1-5b6c-4b01-ba1a-074f3be5e3aa",
   "metadata": {},
   "outputs": [],
   "source": [
    "a=Klass.__call__() # 이것이 a=Klass()와 같은 효과"
   ]
  },
  {
   "cell_type": "code",
   "execution_count": 51,
   "id": "93a32d46-c354-43a3-8b34-dad5e671e675",
   "metadata": {},
   "outputs": [
    {
     "data": {
      "text/plain": [
       "'jin'"
      ]
     },
     "execution_count": 51,
     "metadata": {},
     "output_type": "execute_result"
    }
   ],
   "source": [
    "a.name"
   ]
  },
  {
   "cell_type": "markdown",
   "id": "352b6bbb-bbee-482a-83e1-12bef6bad6a5",
   "metadata": {},
   "source": [
    "### 파이썬의 비밀 1~4\n",
    "\n",
    "- 파이썬의 비밀1:자료형은 클래스의 이름이다.\n",
    "- 파이썬의 비밀2:클래스에는 `__str__`처럼 숨겨진 메소드가 존재한다. 이를 이용하여 파이썬 내부의 기능을 가로챌 수 있다.\n",
    "- 파이썬의 비밀3:주피터노트북에서는 \"오브젝트이름+엔터\"를 쳐서 나오는 출력은 `__repr__`로 가로챌 수 있다.(주피터의 비밀)\n",
    "- 파이썬의 비밀4:함수와 클래스는 숨겨진 메소드에 `__call__`을 가진 오브젝트일 뿐이다."
   ]
  },
  {
   "cell_type": "markdown",
   "id": "b30445f2-d5a9-481f-9c21-c83461b6a934",
   "metadata": {},
   "source": [
    "## 클래스공부 8단계\n",
    "\n",
    "### for문의 복습"
   ]
  },
  {
   "cell_type": "markdown",
   "id": "f57fcd65-804c-44b0-ae54-846ad9034ee9",
   "metadata": {},
   "source": [
    "`-` 아래의 예제들을 관찰하여 for문을 복습"
   ]
  },
  {
   "cell_type": "markdown",
   "id": "46daf97e-0962-4cf9-ae2c-fc3b7cdca14a",
   "metadata": {},
   "source": [
    "(예제1)"
   ]
  },
  {
   "cell_type": "code",
   "execution_count": 52,
   "id": "9fab1463-ed8a-466e-b93e-365513c50f7a",
   "metadata": {},
   "outputs": [
    {
     "name": "stdout",
     "output_type": "stream",
     "text": [
      "1\n",
      "2\n",
      "3\n",
      "4\n"
     ]
    }
   ],
   "source": [
    "for i in [1,2,3,4]:\n",
    "    print(i)"
   ]
  },
  {
   "cell_type": "markdown",
   "id": "1d8728d5-c8f2-4397-bc7d-8d67145e3032",
   "metadata": {},
   "source": [
    "(예제2)"
   ]
  },
  {
   "cell_type": "code",
   "execution_count": 53,
   "id": "db9af327-b937-48aa-a557-e7ecb1069688",
   "metadata": {},
   "outputs": [
    {
     "name": "stdout",
     "output_type": "stream",
     "text": [
      "1\n",
      "2\n",
      "3\n",
      "4\n"
     ]
    }
   ],
   "source": [
    "for i in (1,2,3,4):\n",
    "    print(i)"
   ]
  },
  {
   "cell_type": "markdown",
   "id": "b71600f4-b794-47db-bd0f-6659e1878346",
   "metadata": {},
   "source": [
    "(예제3)"
   ]
  },
  {
   "cell_type": "code",
   "execution_count": 54,
   "id": "81aba66e-1d47-47b6-a2a8-8cf5df5151f9",
   "metadata": {},
   "outputs": [
    {
     "name": "stdout",
     "output_type": "stream",
     "text": [
      "1\n",
      "2\n",
      "3\n",
      "4\n"
     ]
    }
   ],
   "source": [
    "for i in'1234':\n",
    "    print(i)"
   ]
  },
  {
   "cell_type": "markdown",
   "id": "3f5d933a-9898-4fab-86a3-ebcf8a144f0e",
   "metadata": {},
   "source": [
    "(예제4)"
   ]
  },
  {
   "cell_type": "code",
   "execution_count": 56,
   "id": "7ec71de8-fda4-4d41-b158-19049a5ba6b2",
   "metadata": {},
   "outputs": [
    {
     "ename": "TypeError",
     "evalue": "'int' object is not iterable",
     "output_type": "error",
     "traceback": [
      "\u001b[0;31m---------------------------------------------------------------------------\u001b[0m",
      "\u001b[0;31mTypeError\u001b[0m                                 Traceback (most recent call last)",
      "Input \u001b[0;32mIn [56]\u001b[0m, in \u001b[0;36m<cell line: 2>\u001b[0;34m()\u001b[0m\n\u001b[1;32m      1\u001b[0m a\u001b[38;5;241m=\u001b[39m\u001b[38;5;241m5\u001b[39m\n\u001b[0;32m----> 2\u001b[0m \u001b[38;5;28;01mfor\u001b[39;00m i \u001b[38;5;129;01min\u001b[39;00m a:\n\u001b[1;32m      3\u001b[0m     \u001b[38;5;28mprint\u001b[39m(a)\n",
      "\u001b[0;31mTypeError\u001b[0m: 'int' object is not iterable"
     ]
    }
   ],
   "source": [
    "a=5\n",
    "for i in a:\n",
    "    print(a)"
   ]
  },
  {
   "cell_type": "markdown",
   "id": "15c13348-085d-462e-8c35-d276b9e73beb",
   "metadata": {},
   "source": [
    "`-` 의문1:\n",
    "\n",
    "``` python\n",
    "for i in ???:\n",
    "    print(i)\n",
    "```\n",
    "에서 ??? 자리에 올 수 있는 것이 무엇일까?"
   ]
  },
  {
   "cell_type": "markdown",
   "id": "bcb306c6-e867-4d0f-bc1e-6c25e8d29609",
   "metadata": {},
   "source": [
    "(예제5)"
   ]
  },
  {
   "cell_type": "code",
   "execution_count": 57,
   "id": "50452e6a-a5a2-43c6-96ad-3b3f7795b63c",
   "metadata": {},
   "outputs": [
    {
     "name": "stdout",
     "output_type": "stream",
     "text": [
      "[1, 2, 3, 4]\n",
      "[3, 4, 5, 6]\n"
     ]
    }
   ],
   "source": [
    "lst=[[1,2,3,4],[3,4,5,6]]\n",
    "for l in lst:\n",
    "    print(l)"
   ]
  },
  {
   "cell_type": "code",
   "execution_count": 58,
   "id": "646aaf01-621a-46d9-b380-5db9dd277384",
   "metadata": {},
   "outputs": [
    {
     "data": {
      "text/html": [
       "<div>\n",
       "<style scoped>\n",
       "    .dataframe tbody tr th:only-of-type {\n",
       "        vertical-align: middle;\n",
       "    }\n",
       "\n",
       "    .dataframe tbody tr th {\n",
       "        vertical-align: top;\n",
       "    }\n",
       "\n",
       "    .dataframe thead th {\n",
       "        text-align: right;\n",
       "    }\n",
       "</style>\n",
       "<table border=\"1\" class=\"dataframe\">\n",
       "  <thead>\n",
       "    <tr style=\"text-align: right;\">\n",
       "      <th></th>\n",
       "      <th>0</th>\n",
       "      <th>1</th>\n",
       "      <th>2</th>\n",
       "      <th>3</th>\n",
       "    </tr>\n",
       "  </thead>\n",
       "  <tbody>\n",
       "    <tr>\n",
       "      <th>0</th>\n",
       "      <td>1</td>\n",
       "      <td>2</td>\n",
       "      <td>3</td>\n",
       "      <td>4</td>\n",
       "    </tr>\n",
       "    <tr>\n",
       "      <th>1</th>\n",
       "      <td>3</td>\n",
       "      <td>4</td>\n",
       "      <td>5</td>\n",
       "      <td>6</td>\n",
       "    </tr>\n",
       "  </tbody>\n",
       "</table>\n",
       "</div>"
      ],
      "text/plain": [
       "   0  1  2  3\n",
       "0  1  2  3  4\n",
       "1  3  4  5  6"
      ]
     },
     "execution_count": 58,
     "metadata": {},
     "output_type": "execute_result"
    }
   ],
   "source": [
    "df=pd.DataFrame(lst)\n",
    "df"
   ]
  },
  {
   "cell_type": "code",
   "execution_count": 59,
   "id": "b5898074-b060-4a80-aa69-598503dc80ce",
   "metadata": {},
   "outputs": [
    {
     "name": "stdout",
     "output_type": "stream",
     "text": [
      "0\n",
      "1\n",
      "2\n",
      "3\n"
     ]
    }
   ],
   "source": [
    "for i in df:\n",
    "    print(i)"
   ]
  },
  {
   "cell_type": "markdown",
   "id": "2c0c3260-6177-4e08-9698-629aa8dedb9b",
   "metadata": {},
   "source": [
    "칼럼이름들이 나오는 것 같음 -> 확인."
   ]
  },
  {
   "cell_type": "code",
   "execution_count": 60,
   "id": "eaf4fc87-7700-4fcf-9783-70ca1420cd1b",
   "metadata": {},
   "outputs": [
    {
     "data": {
      "text/html": [
       "<div>\n",
       "<style scoped>\n",
       "    .dataframe tbody tr th:only-of-type {\n",
       "        vertical-align: middle;\n",
       "    }\n",
       "\n",
       "    .dataframe tbody tr th {\n",
       "        vertical-align: top;\n",
       "    }\n",
       "\n",
       "    .dataframe thead th {\n",
       "        text-align: right;\n",
       "    }\n",
       "</style>\n",
       "<table border=\"1\" class=\"dataframe\">\n",
       "  <thead>\n",
       "    <tr style=\"text-align: right;\">\n",
       "      <th></th>\n",
       "      <th>X1</th>\n",
       "      <th>X2</th>\n",
       "      <th>X3</th>\n",
       "      <th>X4</th>\n",
       "    </tr>\n",
       "  </thead>\n",
       "  <tbody>\n",
       "    <tr>\n",
       "      <th>0</th>\n",
       "      <td>1</td>\n",
       "      <td>2</td>\n",
       "      <td>3</td>\n",
       "      <td>4</td>\n",
       "    </tr>\n",
       "    <tr>\n",
       "      <th>1</th>\n",
       "      <td>3</td>\n",
       "      <td>4</td>\n",
       "      <td>5</td>\n",
       "      <td>6</td>\n",
       "    </tr>\n",
       "  </tbody>\n",
       "</table>\n",
       "</div>"
      ],
      "text/plain": [
       "   X1  X2  X3  X4\n",
       "0   1   2   3   4\n",
       "1   3   4   5   6"
      ]
     },
     "execution_count": 60,
     "metadata": {},
     "output_type": "execute_result"
    }
   ],
   "source": [
    "df.columns=pd.Index(['X'+str(i) for i in range(1,5)])\n",
    "df"
   ]
  },
  {
   "cell_type": "code",
   "execution_count": 61,
   "id": "eef6e4b0-1624-4b98-8035-015b1f9118f8",
   "metadata": {},
   "outputs": [
    {
     "name": "stdout",
     "output_type": "stream",
     "text": [
      "X1\n",
      "X2\n",
      "X3\n",
      "X4\n"
     ]
    }
   ],
   "source": [
    "for i in df:\n",
    "    print(i)"
   ]
  },
  {
   "cell_type": "markdown",
   "id": "07649bfd-44ac-421c-aacc-754e3e6286e0",
   "metadata": {},
   "source": [
    "`-` 의문2: for의 출력결과는 어떻게 예측할 수 있을까?"
   ]
  },
  {
   "cell_type": "markdown",
   "id": "8a47326d-bf0f-424a-b2a6-b9b010ab828c",
   "metadata": {},
   "source": [
    "### for문의 동작원리"
   ]
  },
  {
   "cell_type": "markdown",
   "id": "90ba5744-4fcc-4bc3-8b9b-74fb0b753b2f",
   "metadata": {},
   "source": [
    "`-` 의문1의 해결: 아래의???자리에 올수 있는 것은 dir()해서 `__iter__`가 있는 object이다.\n",
    "\n",
    "```python\n",
    "for i in ???:\n",
    "    print(i)\n",
    "```\n",
    "\n",
    "이러한 오브젝트를 iterable object라고 한다."
   ]
  },
  {
   "cell_type": "markdown",
   "id": "f4aff8be-1f2e-4902-8c1e-5c30891a5579",
   "metadata": {},
   "source": [
    "`-` 확인"
   ]
  },
  {
   "cell_type": "code",
   "execution_count": 62,
   "id": "1b1d8b38-0e08-4b59-8d10-e96446ed801c",
   "metadata": {},
   "outputs": [
    {
     "data": {
      "text/plain": [
       "{'__iter__'}"
      ]
     },
     "execution_count": 62,
     "metadata": {},
     "output_type": "execute_result"
    }
   ],
   "source": [
    "a=[1,2,3]\n",
    "set(dir(a)) & {'__iter__'}"
   ]
  },
  {
   "cell_type": "code",
   "execution_count": 63,
   "id": "fa6b885d-ad21-4163-9747-618774fb9f18",
   "metadata": {},
   "outputs": [
    {
     "data": {
      "text/plain": [
       "{'__iter__'}"
      ]
     },
     "execution_count": 63,
     "metadata": {},
     "output_type": "execute_result"
    }
   ],
   "source": [
    "a=1,2,3\n",
    "set(dir(a)) & {'__iter__'}"
   ]
  },
  {
   "cell_type": "code",
   "execution_count": 64,
   "id": "b772caad-f48d-43e5-9c81-2949a55de6b7",
   "metadata": {},
   "outputs": [
    {
     "data": {
      "text/plain": [
       "{'__iter__'}"
      ]
     },
     "execution_count": 64,
     "metadata": {},
     "output_type": "execute_result"
    }
   ],
   "source": [
    "a='123'\n",
    "set(dir(a)) & {'__iter__'}"
   ]
  },
  {
   "cell_type": "code",
   "execution_count": 65,
   "id": "c6a5121e-5767-4b5a-a34f-96e04f2dd22d",
   "metadata": {},
   "outputs": [
    {
     "data": {
      "text/plain": [
       "set()"
      ]
     },
     "execution_count": 65,
     "metadata": {},
     "output_type": "execute_result"
    }
   ],
   "source": [
    "a=5\n",
    "set(dir(a)) & {'__iter__'}"
   ]
  },
  {
   "cell_type": "markdown",
   "id": "b8a2dc47-11da-4702-9dae-afed9c726e82",
   "metadata": {},
   "source": [
    "- 예상대로 예제1~4에서는 int의 클래스 instance만 `__iter__`가 없다.\n",
    "\n",
    "`-` `__iter__`의 역할:iterable object를 iterator로 만들 수 있다!"
   ]
  },
  {
   "cell_type": "code",
   "execution_count": 66,
   "id": "45010e3a-bedf-43a4-8254-4d350a5a6659",
   "metadata": {},
   "outputs": [
    {
     "data": {
      "text/plain": [
       "[1, 2, 3]"
      ]
     },
     "execution_count": 66,
     "metadata": {},
     "output_type": "execute_result"
    }
   ],
   "source": [
    "lst=[1,2,3]\n",
    "lst"
   ]
  },
  {
   "cell_type": "code",
   "execution_count": 67,
   "id": "7d753e09-52b2-42ba-a4ba-3ba0f9f6cf28",
   "metadata": {},
   "outputs": [
    {
     "data": {
      "text/plain": [
       "2"
      ]
     },
     "execution_count": 67,
     "metadata": {},
     "output_type": "execute_result"
    }
   ],
   "source": [
    "lst[1]"
   ]
  },
  {
   "cell_type": "code",
   "execution_count": 68,
   "id": "a5f61f82-3e78-408c-b36e-d1f015c60608",
   "metadata": {},
   "outputs": [
    {
     "data": {
      "text/plain": [
       "<list_iterator at 0x7fcd78f09b50>"
      ]
     },
     "execution_count": 68,
     "metadata": {},
     "output_type": "execute_result"
    }
   ],
   "source": [
    "ltor=iter(lst)\n",
    "#ltor=lst.__iter__()\n",
    "ltor"
   ]
  },
  {
   "cell_type": "code",
   "execution_count": 69,
   "id": "32ca1704-c828-4e8c-9f82-ffd55f9b3fad",
   "metadata": {},
   "outputs": [
    {
     "ename": "NameError",
     "evalue": "name 'ltr' is not defined",
     "output_type": "error",
     "traceback": [
      "\u001b[0;31m---------------------------------------------------------------------------\u001b[0m",
      "\u001b[0;31mNameError\u001b[0m                                 Traceback (most recent call last)",
      "Input \u001b[0;32mIn [69]\u001b[0m, in \u001b[0;36m<cell line: 1>\u001b[0;34m()\u001b[0m\n\u001b[0;32m----> 1\u001b[0m \u001b[43mltr\u001b[49m[\u001b[38;5;241m1\u001b[39m]\n",
      "\u001b[0;31mNameError\u001b[0m: name 'ltr' is not defined"
     ]
    }
   ],
   "source": [
    "ltr[1] #더이상 리스트가 아니다"
   ]
  },
  {
   "cell_type": "code",
   "execution_count": 70,
   "id": "4a9a36ef-ba93-4c94-9c0c-3479e6562e81",
   "metadata": {},
   "outputs": [
    {
     "data": {
      "text/plain": [
       "\u001b[0;31mType:\u001b[0m        list_iterator\n",
       "\u001b[0;31mString form:\u001b[0m <list_iterator object at 0x7fcd78f09b50>\n",
       "\u001b[0;31mDocstring:\u001b[0m   <no docstring>\n"
      ]
     },
     "metadata": {},
     "output_type": "display_data"
    }
   ],
   "source": [
    "ltor?"
   ]
  },
  {
   "cell_type": "markdown",
   "id": "c0d35179-7381-4762-a388-6236bdb7f6b0",
   "metadata": {},
   "source": [
    "`-` iterator가 되면 무엇이 좋은가? -> 숨겨진 기능 `__next__`가 열림."
   ]
  },
  {
   "cell_type": "code",
   "execution_count": 72,
   "id": "f337eae0-7c33-4c3e-bdca-5653c291dab0",
   "metadata": {},
   "outputs": [
    {
     "data": {
      "text/plain": [
       "(set(), {'__next__'})"
      ]
     },
     "execution_count": 72,
     "metadata": {},
     "output_type": "execute_result"
    }
   ],
   "source": [
    "set(dir(lst)) & {'__next__'}, set(dir(ltor)) &{'__next__'}"
   ]
  },
  {
   "cell_type": "markdown",
   "id": "cfa19b4f-7573-49bb-a162-1eec25b01610",
   "metadata": {},
   "source": [
    "- lst에는 `__next__`가 없지만 ltor에는 있다"
   ]
  },
  {
   "cell_type": "markdown",
   "id": "c84985b6-b358-426a-8e3f-594e9bb0e0c5",
   "metadata": {},
   "source": [
    "`-` 그래서 `__next__`의 기능은? -> 원소를 차례대로 꺼내준다 + 더이상 꺼낼 원소가 없으면 StopIteraion Error를 발생시킨다."
   ]
  },
  {
   "cell_type": "code",
   "execution_count": 73,
   "id": "1e60908e-4656-4210-b39c-431627f05244",
   "metadata": {},
   "outputs": [
    {
     "data": {
      "text/plain": [
       "[1, 2, 3]"
      ]
     },
     "execution_count": 73,
     "metadata": {},
     "output_type": "execute_result"
    }
   ],
   "source": [
    "lst"
   ]
  },
  {
   "cell_type": "code",
   "execution_count": 74,
   "id": "b707f679-f13d-4845-b46c-129e9a0f4ba9",
   "metadata": {},
   "outputs": [
    {
     "data": {
      "text/plain": [
       "1"
      ]
     },
     "execution_count": 74,
     "metadata": {},
     "output_type": "execute_result"
    }
   ],
   "source": [
    "ltor.__next__()"
   ]
  },
  {
   "cell_type": "code",
   "execution_count": 75,
   "id": "bf1b0925-dec9-48a1-9039-b9c8506439c9",
   "metadata": {},
   "outputs": [
    {
     "data": {
      "text/plain": [
       "2"
      ]
     },
     "execution_count": 75,
     "metadata": {},
     "output_type": "execute_result"
    }
   ],
   "source": [
    "ltor.__next__()"
   ]
  },
  {
   "cell_type": "code",
   "execution_count": 76,
   "id": "708c16c8-5dcd-4da3-80a6-419d187ad53c",
   "metadata": {},
   "outputs": [
    {
     "data": {
      "text/plain": [
       "3"
      ]
     },
     "execution_count": 76,
     "metadata": {},
     "output_type": "execute_result"
    }
   ],
   "source": [
    "ltor.__next__()"
   ]
  },
  {
   "cell_type": "code",
   "execution_count": 77,
   "id": "86885c0a-774c-454a-8ced-2903d7e5d23f",
   "metadata": {},
   "outputs": [
    {
     "ename": "StopIteration",
     "evalue": "",
     "output_type": "error",
     "traceback": [
      "\u001b[0;31m---------------------------------------------------------------------------\u001b[0m",
      "\u001b[0;31mStopIteration\u001b[0m                             Traceback (most recent call last)",
      "Input \u001b[0;32mIn [77]\u001b[0m, in \u001b[0;36m<cell line: 1>\u001b[0;34m()\u001b[0m\n\u001b[0;32m----> 1\u001b[0m \u001b[43mltor\u001b[49m\u001b[38;5;241;43m.\u001b[39;49m\u001b[38;5;21;43m__next__\u001b[39;49m\u001b[43m(\u001b[49m\u001b[43m)\u001b[49m\n",
      "\u001b[0;31mStopIteration\u001b[0m: "
     ]
    }
   ],
   "source": [
    "ltor.__next__()"
   ]
  },
  {
   "cell_type": "markdown",
   "id": "e5559e3c-943a-4577-943b-5c03ff231e29",
   "metadata": {},
   "source": [
    "`-` for문의 동작원리\n",
    "\n",
    "```python\n",
    "for i in lst:\n",
    "    print(i)\n",
    "```\n",
    "\n",
    "(1) `lst.__iter__()` or `iter(lst)`를 이용하여 lst를 iterator로 만든다. (iterable object -> iterator object)\n",
    "\n",
    "(2) iterator에서 `.__next__()`함수를 호출하고 결과를 i에 저장한 뒤에 for문 블록안에 있는 내용 (들여쓰기 된 내용)을 실행 -> 반복\n",
    "\n",
    "(3) StopIteration 에러가 발생하면 for문을 멈춘다."
   ]
  },
  {
   "cell_type": "markdown",
   "id": "e25e585f-fa9e-4b15-b3b1-2d27c17a1706",
   "metadata": {},
   "source": [
    "`-` 아래의 ??? 자리에 올 수 있는 것이 iterable object가 아니라 iterator 자체여도 for문이 돌아갈까? (당연히 돌아가야 할 것 같음)\n",
    "\n",
    "```python\n",
    "for i in ???:\n",
    "    print(i)\n",
    "```"
   ]
  },
  {
   "cell_type": "code",
   "execution_count": 78,
   "id": "34e95396-df1f-4a90-b906-ccc9e48ece1d",
   "metadata": {},
   "outputs": [
    {
     "name": "stdout",
     "output_type": "stream",
     "text": [
      "1\n",
      "2\n",
      "3\n"
     ]
    }
   ],
   "source": [
    "for i in iter([1,2,3]):\n",
    "    print(i)"
   ]
  },
  {
   "cell_type": "markdown",
   "id": "76206772-e9f9-4052-ae1c-d0c638d0a360",
   "metadata": {},
   "source": [
    "- 당연히 가능!"
   ]
  },
  {
   "cell_type": "markdown",
   "id": "2414a7d8-a870-491c-88b0-bcf7e66c35b5",
   "metadata": {},
   "source": [
    "`-` a가 iterator일때 iter(a)의 출력결과가 a와 같도록 조정한다면 for문의 동작원리 (1)~(3)을 수정하지 않아도 좋다 -> 실제로 이렇게 동작한다\n",
    "\n",
    "`-` 요약\n",
    "- iterable object는 숨겨진 기능으로 `__iter__`를 가진다.\n",
    "- iterator object는 숨겨진 기능으로 `__iter__`와 `__next__`를 가진다. (즉 iterator는 그 자체로 iterable object가 된다!)"
   ]
  },
  {
   "cell_type": "code",
   "execution_count": 79,
   "id": "6b7b117b-f2da-46bd-9a66-9e03485ff1d4",
   "metadata": {},
   "outputs": [],
   "source": [
    "lst=[1,2,3]\n",
    "ltor=iter(lst)"
   ]
  },
  {
   "cell_type": "code",
   "execution_count": 80,
   "id": "bafee226-8220-4494-b3a3-e429e0a86264",
   "metadata": {},
   "outputs": [
    {
     "data": {
      "text/plain": [
       "{'__iter__'}"
      ]
     },
     "execution_count": 80,
     "metadata": {},
     "output_type": "execute_result"
    }
   ],
   "source": [
    "set(dir(lst)) & {'__iter__','__next__'}"
   ]
  },
  {
   "cell_type": "code",
   "execution_count": 81,
   "id": "a00e4bc7-74b6-43a9-be25-caa7d43d52d5",
   "metadata": {},
   "outputs": [
    {
     "data": {
      "text/plain": [
       "{'__iter__', '__next__'}"
      ]
     },
     "execution_count": 81,
     "metadata": {},
     "output_type": "execute_result"
    }
   ],
   "source": [
    "set(dir(ltor)) & {'__iter__','__next__'}"
   ]
  },
  {
   "cell_type": "markdown",
   "id": "846b5dee-15e7-4ee9-9278-6ddf76af0326",
   "metadata": {},
   "source": [
    "`-` 의문2의 해결: for의 출력결과는 어떻게 예측할 수 있을까? iterator를 만들어서 `.__next__()`의 출력값을 확인하면 알 수 있다."
   ]
  },
  {
   "cell_type": "code",
   "execution_count": 82,
   "id": "5f7ef00f-137c-4563-9514-1a37f8125004",
   "metadata": {},
   "outputs": [
    {
     "name": "stdout",
     "output_type": "stream",
     "text": [
      "X1\n",
      "X2\n",
      "X3\n",
      "X4\n"
     ]
    }
   ],
   "source": [
    "for i in df:\n",
    "    print(i)"
   ]
  },
  {
   "cell_type": "code",
   "execution_count": 83,
   "id": "0d8610aa-bd4f-4271-827e-852b056eb53b",
   "metadata": {},
   "outputs": [
    {
     "data": {
      "text/plain": [
       "'X1'"
      ]
     },
     "execution_count": 83,
     "metadata": {},
     "output_type": "execute_result"
    }
   ],
   "source": [
    "dftor=iter(df)\n",
    "dftor.__next__()"
   ]
  },
  {
   "cell_type": "code",
   "execution_count": 84,
   "id": "a35840c2-1d8d-4ba4-aa81-52e4e7ed2a52",
   "metadata": {},
   "outputs": [
    {
     "data": {
      "text/plain": [
       "'X2'"
      ]
     },
     "execution_count": 84,
     "metadata": {},
     "output_type": "execute_result"
    }
   ],
   "source": [
    "dftor.__next__()"
   ]
  },
  {
   "cell_type": "code",
   "execution_count": 85,
   "id": "36294110-18dc-4726-b156-624c5ca21ce1",
   "metadata": {},
   "outputs": [
    {
     "data": {
      "text/plain": [
       "'X3'"
      ]
     },
     "execution_count": 85,
     "metadata": {},
     "output_type": "execute_result"
    }
   ],
   "source": [
    "dftor.__next__()"
   ]
  },
  {
   "cell_type": "code",
   "execution_count": 86,
   "id": "b26df323-2ab1-4f8a-8a85-7da718a3b3f2",
   "metadata": {},
   "outputs": [
    {
     "data": {
      "text/plain": [
       "'X4'"
      ]
     },
     "execution_count": 86,
     "metadata": {},
     "output_type": "execute_result"
    }
   ],
   "source": [
    "dftor.__next__()"
   ]
  },
  {
   "cell_type": "code",
   "execution_count": 87,
   "id": "8dcca6dd-3512-457f-ac08-bb2e04dab26b",
   "metadata": {},
   "outputs": [
    {
     "ename": "StopIteration",
     "evalue": "",
     "output_type": "error",
     "traceback": [
      "\u001b[0;31m---------------------------------------------------------------------------\u001b[0m",
      "\u001b[0;31mStopIteration\u001b[0m                             Traceback (most recent call last)",
      "Input \u001b[0;32mIn [87]\u001b[0m, in \u001b[0;36m<cell line: 1>\u001b[0;34m()\u001b[0m\n\u001b[0;32m----> 1\u001b[0m \u001b[43mdftor\u001b[49m\u001b[38;5;241;43m.\u001b[39;49m\u001b[38;5;21;43m__next__\u001b[39;49m\u001b[43m(\u001b[49m\u001b[43m)\u001b[49m\n",
      "\u001b[0;31mStopIteration\u001b[0m: "
     ]
    }
   ],
   "source": [
    "dftor.__next__()"
   ]
  },
  {
   "cell_type": "markdown",
   "id": "1db5210a-dc4c-45fc-b848-bbbd9e97683b",
   "metadata": {},
   "source": [
    "### range()\n",
    "\n",
    "`-` 파이썬에서 for문을 처음 배울 때: range(5)를 써라!"
   ]
  },
  {
   "cell_type": "code",
   "execution_count": 88,
   "id": "a48caed0-9f27-4dc0-b8e1-0cb6b6dc4b11",
   "metadata": {},
   "outputs": [
    {
     "name": "stdout",
     "output_type": "stream",
     "text": [
      "0\n",
      "1\n",
      "2\n",
      "3\n",
      "4\n"
     ]
    }
   ],
   "source": [
    "for i in range(5):\n",
    "    print(i)"
   ]
  },
  {
   "cell_type": "markdown",
   "id": "0ba9280a-6fd7-4b2b-9d33-481e0bd4796a",
   "metadata": {},
   "source": [
    "- range(5)가 무엇?"
   ]
  },
  {
   "cell_type": "markdown",
   "id": "db62586a-172e-4dc7-9b74-e243a900b3a5",
   "metadata": {},
   "source": [
    "`-` `range(5)`의 정체는 그냥 iterable object이다."
   ]
  },
  {
   "cell_type": "code",
   "execution_count": 89,
   "id": "d776c658-d267-4312-b93f-3ee4e36d0617",
   "metadata": {},
   "outputs": [
    {
     "data": {
      "text/plain": [
       "{'__iter__'}"
      ]
     },
     "execution_count": 89,
     "metadata": {},
     "output_type": "execute_result"
    }
   ],
   "source": [
    "set(dir(range(5))) & {'__iter__','__next__'}"
   ]
  },
  {
   "cell_type": "markdown",
   "id": "043060b2-8700-44c8-bff6-9132b3f0b2f3",
   "metadata": {},
   "source": [
    "`-` 그래서 언제든지 iterator로 바꿀 수 있다."
   ]
  },
  {
   "cell_type": "code",
   "execution_count": 91,
   "id": "fd45639f-f867-4ea9-aff1-07242a309999",
   "metadata": {},
   "outputs": [
    {
     "data": {
      "text/plain": [
       "<range_iterator at 0x7fcd500454b0>"
      ]
     },
     "execution_count": 91,
     "metadata": {},
     "output_type": "execute_result"
    }
   ],
   "source": [
    "rtor=iter(range(5))\n",
    "rtor"
   ]
  },
  {
   "cell_type": "code",
   "execution_count": 92,
   "id": "0df78faa-c385-4e67-87f0-4b8b9f7345d7",
   "metadata": {},
   "outputs": [
    {
     "data": {
      "text/plain": [
       "{'__iter__', '__next__'}"
      ]
     },
     "execution_count": 92,
     "metadata": {},
     "output_type": "execute_result"
    }
   ],
   "source": [
    "set(dir(rtor)) & {'__iter__','__next__'}"
   ]
  },
  {
   "cell_type": "markdown",
   "id": "173702bc-838b-4152-9c33-dc879d00a387",
   "metadata": {},
   "source": [
    "`-` for문에서 range(5)가 행동하는 방법?"
   ]
  },
  {
   "cell_type": "code",
   "execution_count": 93,
   "id": "9d44e264-fe04-4266-a1ac-9ed744662a67",
   "metadata": {},
   "outputs": [],
   "source": [
    "rtor=iter(range(5))"
   ]
  },
  {
   "cell_type": "code",
   "execution_count": 94,
   "id": "d7a3d1cc-94a4-4f17-9ed5-3fb98c8958f3",
   "metadata": {},
   "outputs": [
    {
     "data": {
      "text/plain": [
       "0"
      ]
     },
     "execution_count": 94,
     "metadata": {},
     "output_type": "execute_result"
    }
   ],
   "source": [
    "rtor.__next__()"
   ]
  },
  {
   "cell_type": "code",
   "execution_count": 95,
   "id": "61d9995b-f403-4046-a461-f61090fdd1ca",
   "metadata": {},
   "outputs": [
    {
     "data": {
      "text/plain": [
       "1"
      ]
     },
     "execution_count": 95,
     "metadata": {},
     "output_type": "execute_result"
    }
   ],
   "source": [
    "rtor.__next__()"
   ]
  },
  {
   "cell_type": "code",
   "execution_count": 96,
   "id": "6d3d8026-3ab7-4c94-b878-1f65238cf35d",
   "metadata": {},
   "outputs": [
    {
     "data": {
      "text/plain": [
       "2"
      ]
     },
     "execution_count": 96,
     "metadata": {},
     "output_type": "execute_result"
    }
   ],
   "source": [
    "rtor.__next__()"
   ]
  },
  {
   "cell_type": "code",
   "execution_count": 97,
   "id": "36a19109-b549-473c-8ca7-dd40a3e48059",
   "metadata": {},
   "outputs": [
    {
     "data": {
      "text/plain": [
       "3"
      ]
     },
     "execution_count": 97,
     "metadata": {},
     "output_type": "execute_result"
    }
   ],
   "source": [
    "rtor.__next__()"
   ]
  },
  {
   "cell_type": "code",
   "execution_count": 98,
   "id": "d5aaf4f5-b2b3-4660-bccb-9ba33e451580",
   "metadata": {},
   "outputs": [
    {
     "data": {
      "text/plain": [
       "4"
      ]
     },
     "execution_count": 98,
     "metadata": {},
     "output_type": "execute_result"
    }
   ],
   "source": [
    "rtor.__next__()"
   ]
  },
  {
   "cell_type": "code",
   "execution_count": 99,
   "id": "bf2c84ca-72b9-4550-a83f-bc92ab19f471",
   "metadata": {},
   "outputs": [
    {
     "ename": "StopIteration",
     "evalue": "",
     "output_type": "error",
     "traceback": [
      "\u001b[0;31m---------------------------------------------------------------------------\u001b[0m",
      "\u001b[0;31mStopIteration\u001b[0m                             Traceback (most recent call last)",
      "Input \u001b[0;32mIn [99]\u001b[0m, in \u001b[0;36m<cell line: 1>\u001b[0;34m()\u001b[0m\n\u001b[0;32m----> 1\u001b[0m \u001b[43mrtor\u001b[49m\u001b[38;5;241;43m.\u001b[39;49m\u001b[38;5;21;43m__next__\u001b[39;49m\u001b[43m(\u001b[49m\u001b[43m)\u001b[49m\n",
      "\u001b[0;31mStopIteration\u001b[0m: "
     ]
    }
   ],
   "source": [
    "rtor.__next__()"
   ]
  },
  {
   "cell_type": "markdown",
   "id": "e80c3e32-4921-48c9-b020-0657ec1ab1e1",
   "metadata": {},
   "source": [
    "### zip"
   ]
  },
  {
   "cell_type": "markdown",
   "id": "b3540e6d-976b-4280-9385-a57d8f841978",
   "metadata": {},
   "source": [
    "`-` iterator의 개념을 알면 for문에 대한 이해도가 대폭 상승한다."
   ]
  },
  {
   "cell_type": "code",
   "execution_count": 100,
   "id": "c8faf8aa-a084-4af2-a46d-20c9c73cc1ce",
   "metadata": {},
   "outputs": [
    {
     "name": "stdout",
     "output_type": "stream",
     "text": [
      "(1, 'a')\n",
      "(2, 'b')\n",
      "(3, 'c')\n"
     ]
    }
   ],
   "source": [
    "for i in zip([1,2,3],'abc'):\n",
    "    print(i)"
   ]
  },
  {
   "cell_type": "markdown",
   "id": "b04c3561-00a7-46b1-ba93-f813ff041c85",
   "metadata": {},
   "source": [
    "- zip은 뭐지?"
   ]
  },
  {
   "cell_type": "code",
   "execution_count": 101,
   "id": "57ddc07b-33ea-4713-9570-252252c4eadd",
   "metadata": {},
   "outputs": [
    {
     "data": {
      "text/plain": [
       "<zip at 0x7fcd49511ec0>"
      ]
     },
     "execution_count": 101,
     "metadata": {},
     "output_type": "execute_result"
    }
   ],
   "source": [
    "zip([1,2,3],'abc')"
   ]
  },
  {
   "cell_type": "markdown",
   "id": "1651e346-feb0-48ee-9a91-10f6f0cb481d",
   "metadata": {},
   "source": [
    "`-` 어차피 `for i in ???`:의 ???자리는 iterable object의 자리이다."
   ]
  },
  {
   "cell_type": "code",
   "execution_count": 102,
   "id": "6128b4a1-1620-4b04-8899-77716e1028fa",
   "metadata": {},
   "outputs": [
    {
     "data": {
      "text/plain": [
       "{'__iter__', '__next__'}"
      ]
     },
     "execution_count": 102,
     "metadata": {},
     "output_type": "execute_result"
    }
   ],
   "source": [
    "set(dir(zip([1,2,3],'abc'))) & {'__iter__','__next__'}"
   ]
  },
  {
   "cell_type": "markdown",
   "id": "ff5e1671-da12-4552-9abc-050a0eea55e1",
   "metadata": {},
   "source": [
    "- `__next__()`함수가 있음 $\\to$ `zip([1,2,3],'abc')`은 그 자체로 iterator"
   ]
  },
  {
   "cell_type": "code",
   "execution_count": 103,
   "id": "78c8229f-31ee-4e0c-9733-cbf39a628afc",
   "metadata": {},
   "outputs": [],
   "source": [
    "z=zip([1,2,3],'abc')"
   ]
  },
  {
   "cell_type": "code",
   "execution_count": 104,
   "id": "eed5b537-2a2e-4c1f-89e6-17fb6bf21200",
   "metadata": {},
   "outputs": [
    {
     "data": {
      "text/plain": [
       "(1, 'a')"
      ]
     },
     "execution_count": 104,
     "metadata": {},
     "output_type": "execute_result"
    }
   ],
   "source": [
    "z.__next__()"
   ]
  },
  {
   "cell_type": "code",
   "execution_count": 105,
   "id": "2e131625-ded1-4d0b-a4a2-416da6355b8b",
   "metadata": {},
   "outputs": [
    {
     "data": {
      "text/plain": [
       "(2, 'b')"
      ]
     },
     "execution_count": 105,
     "metadata": {},
     "output_type": "execute_result"
    }
   ],
   "source": [
    "z.__next__()"
   ]
  },
  {
   "cell_type": "code",
   "execution_count": 106,
   "id": "e8359abe-6eb2-46b9-827b-50306daf7d42",
   "metadata": {},
   "outputs": [
    {
     "data": {
      "text/plain": [
       "(3, 'c')"
      ]
     },
     "execution_count": 106,
     "metadata": {},
     "output_type": "execute_result"
    }
   ],
   "source": [
    "z.__next__()"
   ]
  },
  {
   "cell_type": "code",
   "execution_count": 107,
   "id": "89fc2903-38a1-469a-9976-da7ee8016e6a",
   "metadata": {},
   "outputs": [
    {
     "ename": "StopIteration",
     "evalue": "",
     "output_type": "error",
     "traceback": [
      "\u001b[0;31m---------------------------------------------------------------------------\u001b[0m",
      "\u001b[0;31mStopIteration\u001b[0m                             Traceback (most recent call last)",
      "Input \u001b[0;32mIn [107]\u001b[0m, in \u001b[0;36m<cell line: 1>\u001b[0;34m()\u001b[0m\n\u001b[0;32m----> 1\u001b[0m \u001b[43mz\u001b[49m\u001b[38;5;241;43m.\u001b[39;49m\u001b[38;5;21;43m__next__\u001b[39;49m\u001b[43m(\u001b[49m\u001b[43m)\u001b[49m\n",
      "\u001b[0;31mStopIteration\u001b[0m: "
     ]
    }
   ],
   "source": [
    "z.__next__()"
   ]
  },
  {
   "cell_type": "markdown",
   "id": "36fbc79d-b8bd-4a45-bbea-9fb2aa6dee2e",
   "metadata": {},
   "source": [
    "### 사용자정의 iterator"
   ]
  },
  {
   "cell_type": "code",
   "execution_count": 139,
   "id": "6d558d7a-dd87-4096-b0ed-423bdf88e84e",
   "metadata": {},
   "outputs": [],
   "source": [
    "class Klass: #찌를 내는 순간 for문이 멈추도록 하는 iterator를 만듦\n",
    "    def __init__(self):\n",
    "        self.candidate=['묵','찌','빠']\n",
    "    def __iter__(self):\n",
    "        return self\n",
    "    def __next__(self):\n",
    "        action=np.random.choice(self.candidate)\n",
    "        if action == '찌':\n",
    "            print(\"찌가 나와 for문을 멈춥니다.\")\n",
    "            raise StopIteration\n",
    "        else:\n",
    "            return action"
   ]
  },
  {
   "cell_type": "code",
   "execution_count": 140,
   "id": "cfe4777f-03a7-485d-9d7a-9bc3be64dcf5",
   "metadata": {},
   "outputs": [],
   "source": [
    "a=Klass()"
   ]
  },
  {
   "cell_type": "code",
   "execution_count": 127,
   "id": "2c7d1fec-79ad-47f2-8d16-4081f89fd9ac",
   "metadata": {},
   "outputs": [
    {
     "data": {
      "text/plain": [
       "{'__iter__', '__next__'}"
      ]
     },
     "execution_count": 127,
     "metadata": {},
     "output_type": "execute_result"
    }
   ],
   "source": [
    "set(dir(a)) & {'__iter__','__next__'} #a는 iterator"
   ]
  },
  {
   "cell_type": "code",
   "execution_count": 128,
   "id": "c5b762cc-f5a8-4411-b600-f69883bdcd8e",
   "metadata": {},
   "outputs": [
    {
     "data": {
      "text/plain": [
       "'빠'"
      ]
     },
     "execution_count": 128,
     "metadata": {},
     "output_type": "execute_result"
    }
   ],
   "source": [
    "a.__next__()"
   ]
  },
  {
   "cell_type": "code",
   "execution_count": 129,
   "id": "3e48ba54-7602-4827-b20f-da533464f6d8",
   "metadata": {},
   "outputs": [
    {
     "data": {
      "text/plain": [
       "'묵'"
      ]
     },
     "execution_count": 129,
     "metadata": {},
     "output_type": "execute_result"
    }
   ],
   "source": [
    "a.__next__()"
   ]
  },
  {
   "cell_type": "code",
   "execution_count": 130,
   "id": "dbc17cea-69d3-4f1f-b8a3-09d1e5bdb5c9",
   "metadata": {},
   "outputs": [
    {
     "data": {
      "text/plain": [
       "'빠'"
      ]
     },
     "execution_count": 130,
     "metadata": {},
     "output_type": "execute_result"
    }
   ],
   "source": [
    "a.__next__()"
   ]
  },
  {
   "cell_type": "code",
   "execution_count": 131,
   "id": "934b8c9b-ccc9-4806-ae0e-7923eba7be7e",
   "metadata": {},
   "outputs": [
    {
     "data": {
      "text/plain": [
       "'빠'"
      ]
     },
     "execution_count": 131,
     "metadata": {},
     "output_type": "execute_result"
    }
   ],
   "source": [
    "a.__next__()"
   ]
  },
  {
   "cell_type": "code",
   "execution_count": 132,
   "id": "a4f5c1f5-1fd1-40ad-97f1-2f4e948947b8",
   "metadata": {},
   "outputs": [
    {
     "data": {
      "text/plain": [
       "'빠'"
      ]
     },
     "execution_count": 132,
     "metadata": {},
     "output_type": "execute_result"
    }
   ],
   "source": [
    "a.__next__()"
   ]
  },
  {
   "cell_type": "code",
   "execution_count": 133,
   "id": "496fb10e-f68f-42e6-bbbc-dc64a3dd8a76",
   "metadata": {},
   "outputs": [
    {
     "name": "stdout",
     "output_type": "stream",
     "text": [
      "찌가 나와 for문을 멈춥니다.\n"
     ]
    },
    {
     "ename": "StopIteration",
     "evalue": "",
     "output_type": "error",
     "traceback": [
      "\u001b[0;31m---------------------------------------------------------------------------\u001b[0m",
      "\u001b[0;31mStopIteration\u001b[0m                             Traceback (most recent call last)",
      "Input \u001b[0;32mIn [133]\u001b[0m, in \u001b[0;36m<cell line: 1>\u001b[0;34m()\u001b[0m\n\u001b[0;32m----> 1\u001b[0m \u001b[43ma\u001b[49m\u001b[38;5;241;43m.\u001b[39;49m\u001b[38;5;21;43m__next__\u001b[39;49m\u001b[43m(\u001b[49m\u001b[43m)\u001b[49m\n",
      "Input \u001b[0;32mIn [125]\u001b[0m, in \u001b[0;36mKlass.__next__\u001b[0;34m(self)\u001b[0m\n\u001b[1;32m      8\u001b[0m \u001b[38;5;28;01mif\u001b[39;00m action \u001b[38;5;241m==\u001b[39m \u001b[38;5;124m'\u001b[39m\u001b[38;5;124m찌\u001b[39m\u001b[38;5;124m'\u001b[39m:\n\u001b[1;32m      9\u001b[0m     \u001b[38;5;28mprint\u001b[39m(\u001b[38;5;124m\"\u001b[39m\u001b[38;5;124m찌가 나와 for문을 멈춥니다.\u001b[39m\u001b[38;5;124m\"\u001b[39m)\n\u001b[0;32m---> 10\u001b[0m     \u001b[38;5;28;01mraise\u001b[39;00m \u001b[38;5;167;01mStopIteration\u001b[39;00m\n\u001b[1;32m     11\u001b[0m \u001b[38;5;28;01melse\u001b[39;00m:\n\u001b[1;32m     12\u001b[0m     \u001b[38;5;28;01mreturn\u001b[39;00m action\n",
      "\u001b[0;31mStopIteration\u001b[0m: "
     ]
    }
   ],
   "source": [
    "a.__next__()"
   ]
  },
  {
   "cell_type": "code",
   "execution_count": 141,
   "id": "8f741ffc-ff18-4d85-bdc3-95b14700730b",
   "metadata": {},
   "outputs": [
    {
     "name": "stdout",
     "output_type": "stream",
     "text": [
      "빠\n",
      "찌가 나와 for문을 멈춥니다.\n"
     ]
    }
   ],
   "source": [
    "for i in a:\n",
    "    print(i)"
   ]
  },
  {
   "cell_type": "markdown",
   "id": "f8abfd88-7809-47f1-8d79-4bf818758c9e",
   "metadata": {},
   "source": [
    "### 파이썬의 비밀 1~5\n",
    "\n",
    "- 파이썬의 비밀1 : 자료형은 클래스의 이름이다.\n",
    "- 파이썬의 비밀2 : 클래스에는 `__str__`처럼 숨겨진 메소드가 존재하낟. 이를 이용하여 파이썬 내부의 기능을 가로챌 수 있다.\n",
    "- 파이썬의 비밀3 : 주피터노트북에서는 \"오브젝트이름+엔터\"를 쳐서 나오는 출력은 `__repr__`로 가로챌 수 있다. (주피터의 비밀)\n",
    "- 파이썬의 비밀4 : 함수와 클래스는 숨겨진 메소드에 `__call__`을 가진 오브젝트일 뿐이다.\n",
    "- 파이썬의 비밀5 : for문의 비밀(iterable object, iterator, StopIteration Error)"
   ]
  },
  {
   "cell_type": "code",
   "execution_count": null,
   "id": "bec57057-46d8-4e38-bf47-d88c52388291",
   "metadata": {},
   "outputs": [],
   "source": []
  }
 ],
 "metadata": {
  "kernelspec": {
   "display_name": "Python 3 (ipykernel)",
   "language": "python",
   "name": "python3"
  },
  "language_info": {
   "codemirror_mode": {
    "name": "ipython",
    "version": 3
   },
   "file_extension": ".py",
   "mimetype": "text/x-python",
   "name": "python",
   "nbconvert_exporter": "python",
   "pygments_lexer": "ipython3",
   "version": "3.9.7"
  }
 },
 "nbformat": 4,
 "nbformat_minor": 5
}
