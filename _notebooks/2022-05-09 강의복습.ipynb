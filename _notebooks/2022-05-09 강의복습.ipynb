{
 "cells": [
  {
   "cell_type": "markdown",
   "id": "4c961695-bac7-4a07-a798-8ea0344ea6ee",
   "metadata": {
    "tags": []
   },
   "source": [
    "# 파이썬 5월 6일 강의 복습\n",
    "> \"7월 7일\"\n",
    "\n",
    "- toc:true\n",
    "- branch: master\n",
    "- badges: true\n",
    "- comments: true\n",
    "- author: 최석진\n",
    "- categories: [Python]"
   ]
  },
  {
   "cell_type": "markdown",
   "id": "157f6808-eed3-412f-b1f9-e80c217c3a30",
   "metadata": {},
   "source": [
    "## 클래스 (밈과 클래스, motivation)"
   ]
  },
  {
   "cell_type": "markdown",
   "id": "2b33d11b-310e-4b37-8168-dc80fc68f8c0",
   "metadata": {},
   "source": [
    "### 밈(meme)과 클래스"
   ]
  },
  {
   "cell_type": "markdown",
   "id": "160b6e38-2328-4aa0-858d-d64b3c15d33e",
   "metadata": {},
   "source": [
    "`-` 밈이란?? (유전자처럼) 복제가능한 something\n",
    "\n",
    "- 이기적 유전자에서 제시한 개념\n",
    "- 유전자는 (1) 복제 (2) 변형되면서 전파되는 속성이 있다는 사실을 관찰\n",
    "- 종교, 사상, 이념도 유전자처럼 (1) 복제 (2) 변형되면서 전파..\n",
    "- 밈 = 유전자의 일반화된 개념 = 복제가능한 something"
   ]
  },
  {
   "cell_type": "markdown",
   "id": "46237f4e-510a-4d62-9855-35c36b9046f2",
   "metadata": {},
   "source": [
    "`-` 밈의 의미\n",
    "- 딱히 정형화하긴 어렵지만 복제가 되는 어떤 틀이 존재. 이것을 밈(=유전자)라 함.\n",
    "- 그대로 복제하지 않고 변형을 거치며 전혀 다른 성질을 가질 수 있음.\n",
    "- 밈이 또 다른 밈을 만들 수 있음."
   ]
  },
  {
   "cell_type": "markdown",
   "id": "39ea8190-4fc3-49e4-900d-d2cf89c85468",
   "metadata": {},
   "source": [
    "### 클래스"
   ]
  },
  {
   "cell_type": "markdown",
   "id": "ecdcc148-8729-4165-8eed-3833c304e03c",
   "metadata": {},
   "source": [
    "`-` 클래스의 정의\n",
    "\n",
    "- 많은 교재에서 정의를 회피하는 경향 (교수님 개인의견)\n",
    "- 대신에 비유적으로 설명하거나 다른 대상을 가져와서 설명"
   ]
  },
  {
   "cell_type": "markdown",
   "id": "2c1d1c8d-6938-416a-b290-57f3bdf71bbe",
   "metadata": {},
   "source": [
    "`-` 클래스에 대한 비유적 설명 (implicit definition)\n",
    "\n",
    "- 클래스는 과자틀과 비슷. 클래스란 똑같은 무엇인가를 계속 만들어 낼 수도 있는 설계도면이고 객체란 클래스로 만든 피조물 (점프 투 파이썬)\n",
    "\n",
    "- In object-oriented programming, a class is an extensible program-code-template for creating objects, providing initial values for state (member variabels) and implementations of behavior (member functions or methods)//객체 지향 프로그래밍에서 클래스는 상태(멤버 변수) 및 동작 구현(멤버 함수 또는 메서드)에 대한 초기값을 제공하는 객체 생성을 위한 확장 가능한 프로그램 코드 템플릿"
   ]
  },
  {
   "cell_type": "markdown",
   "id": "d30083b6-1380-4790-9acf-9051960a9520",
   "metadata": {},
   "source": [
    "`-` **클래스에 대한 명시적 정의 (교수님 의견)**\n",
    "\n",
    "- 클래스는 복제, 변형, 재생산을 용이하게 하기 위해 만들어진 확장가능한 프로그램의 코드의 단위 (extensible program-code-template)이다. 즉 밈이다."
   ]
  },
  {
   "cell_type": "markdown",
   "id": "866e3d9d-cd04-40fd-8c8e-8a1a2cb1403d",
   "metadata": {},
   "source": [
    "`-` 클래스도 결국 밈이다. 클래스를 만들고 사용하는 과정이 인터넷에서 밈을 만들고 노는 것과 닮음\n",
    "\n",
    "- 1단계 : 개념의 인지 (이거 재미있겠다 -> 밈으로 만들자 // 이 코드 쓸모있다 -> 이 코드를 쉽게 찍어내는 클래스로 만들어두자\n",
    "\n",
    "- 2단계 : 복사하고 싶은 속성을 추려 복사가능한 틀을 만듬 (밈 초기 컨텐츠 // 클래스의 선언)\n",
    "\n",
    "- 3단계 : 밈에서 다양한 컨텐츠를 재생산, 때로는 변형하여 재생산, 때로는 그것을 응용한 다른 밈을 만듬 (밈화 // 클래스의 인스턴스화, 상속, 메소드오버라이딩)"
   ]
  },
  {
   "cell_type": "markdown",
   "id": "42ea0428-36b4-4d3c-a2e6-bb115cffc768",
   "metadata": {},
   "source": [
    "### \"멈춰\" 밈을 컨텐츠화\n",
    "\n",
    "`-` 멈춰 밈을 이용하여 코스피하락, 수강신청매크로등 다양한 예제를 만들고 싶음"
   ]
  },
  {
   "cell_type": "code",
   "execution_count": 1,
   "id": "93b493e4-f341-4c0d-9d0e-c712326b3354",
   "metadata": {},
   "outputs": [],
   "source": [
    "from IPython.core.display import HTML"
   ]
  },
  {
   "cell_type": "markdown",
   "id": "ab4b4b1e-1f9e-46e1-a3be-35ab6bfbbfb7",
   "metadata": {},
   "source": [
    "#### 예비학습"
   ]
  },
  {
   "cell_type": "markdown",
   "id": "5bdff00c-de8a-4cde-a991-15473b9dcb1e",
   "metadata": {},
   "source": [
    "문자열포맷팅"
   ]
  },
  {
   "cell_type": "code",
   "execution_count": 3,
   "id": "4988c85f-e40e-4a88-9416-ab2a5fbf2ae4",
   "metadata": {},
   "outputs": [
    {
     "data": {
      "text/plain": [
       "'제 이름은 최석진입니다'"
      ]
     },
     "execution_count": 3,
     "metadata": {},
     "output_type": "execute_result"
    }
   ],
   "source": [
    "'제 이름은 {}입니다'.format('최석진')"
   ]
  },
  {
   "cell_type": "code",
   "execution_count": 5,
   "id": "87919bbc-ad61-406c-a507-4bc8f354490f",
   "metadata": {},
   "outputs": [
    {
     "data": {
      "text/plain": [
       "'제 이름은 최석진이고, 사는 곳은 광주입니다'"
      ]
     },
     "execution_count": 5,
     "metadata": {},
     "output_type": "execute_result"
    }
   ],
   "source": [
    "'제 이름은 {}이고, 사는 곳은 {}입니다'.format('최석진','광주')"
   ]
  },
  {
   "cell_type": "code",
   "execution_count": 6,
   "id": "00bb1aca-17d2-43de-a0d9-2da93fcf0448",
   "metadata": {},
   "outputs": [
    {
     "data": {
      "text/plain": [
       "'제 이름은 최석진이고, 사는 곳은 광주입니다'"
      ]
     },
     "execution_count": 6,
     "metadata": {},
     "output_type": "execute_result"
    }
   ],
   "source": [
    "'제 이름은 {name}이고, 사는 곳은 {add}입니다'.format(name='최석진',add='광주')"
   ]
  },
  {
   "cell_type": "markdown",
   "id": "83e6ba16-d182-4d78-91cc-1e753a3db15d",
   "metadata": {},
   "source": [
    "HTML"
   ]
  },
  {
   "cell_type": "code",
   "execution_count": 7,
   "id": "a6cb5b69-ba82-42d5-b65d-bcde28df3bad",
   "metadata": {},
   "outputs": [
    {
     "data": {
      "text/html": [
       "<p> name <p>"
      ],
      "text/plain": [
       "<IPython.core.display.HTML object>"
      ]
     },
     "execution_count": 7,
     "metadata": {},
     "output_type": "execute_result"
    }
   ],
   "source": [
    "HTML(\"<p> name <p>\")"
   ]
  },
  {
   "cell_type": "code",
   "execution_count": 8,
   "id": "bf4f7062-cfe7-48e5-913e-ed6654afcd24",
   "metadata": {},
   "outputs": [
    {
     "data": {
      "text/html": [
       "<img src='https://stat.jbnu.ac.kr/sites/stat/atchmnfl_mngr/imageSlide/469/temp_1573001043314100.jpg'>"
      ],
      "text/plain": [
       "<IPython.core.display.HTML object>"
      ]
     },
     "execution_count": 8,
     "metadata": {},
     "output_type": "execute_result"
    }
   ],
   "source": [
    "HTML(\"<img src='https://stat.jbnu.ac.kr/sites/stat/atchmnfl_mngr/imageSlide/469/temp_1573001043314100.jpg'>\")"
   ]
  },
  {
   "cell_type": "code",
   "execution_count": 9,
   "id": "5ae822eb-24c1-4ac9-90ae-136b6d97306c",
   "metadata": {},
   "outputs": [
    {
     "data": {
      "text/html": [
       "<p> 전북대학교 </p> <img src='https://stat.jbnu.ac.kr/sites/stat/atchmnfl_mngr/imageSlide/469/temp_1573001043314100.jpg'>"
      ],
      "text/plain": [
       "<IPython.core.display.HTML object>"
      ]
     },
     "execution_count": 9,
     "metadata": {},
     "output_type": "execute_result"
    }
   ],
   "source": [
    "HTML(\"<p> 전북대학교 </p> <img src='https://stat.jbnu.ac.kr/sites/stat/atchmnfl_mngr/imageSlide/469/temp_1573001043314100.jpg'>\")"
   ]
  },
  {
   "cell_type": "markdown",
   "id": "42bf5f66-dac5-41b0-8581-2674a4bd3ada",
   "metadata": {},
   "source": [
    "HTML을 이용한 밈생성"
   ]
  },
  {
   "cell_type": "code",
   "execution_count": 10,
   "id": "1f9af8e9-1e96-49fe-a4a2-141808425539",
   "metadata": {},
   "outputs": [],
   "source": [
    "url1='https://github.com/guebin/IP2022/blob/master/_notebooks/2022-05-07-stop1.jpeg?raw=true'\n",
    "url2='https://github.com/guebin/IP2022/blob/master/_notebooks/2022-05-07-stop2.png?raw=true'"
   ]
  },
  {
   "cell_type": "markdown",
   "id": "032333d9-90b6-4d1c-a1f2-ddfa7463ab41",
   "metadata": {},
   "source": [
    "원본"
   ]
  },
  {
   "cell_type": "code",
   "execution_count": 16,
   "id": "4349acc3-5b7b-4452-99ff-f5baa00bfea3",
   "metadata": {},
   "outputs": [
    {
     "data": {
      "text/html": [
       "<p> 학교폭력 </p> <img src='https://github.com/guebin/IP2022/blob/master/_notebooks/2022-05-07-stop1.jpeg?raw=true'> <p> 멈춰~~~ </p>"
      ],
      "text/plain": [
       "<IPython.core.display.HTML object>"
      ]
     },
     "execution_count": 16,
     "metadata": {},
     "output_type": "execute_result"
    }
   ],
   "source": [
    "htmlstr=\"<p> {title} </p> <img src='{url}'> <p> {end} </p>\"\n",
    "HTML(htmlstr.format(title='학교폭력',url=url1,end='멈춰~~~'))"
   ]
  },
  {
   "cell_type": "markdown",
   "id": "5ffa6335-bc5e-491f-9bd9-115d2135cff3",
   "metadata": {},
   "source": [
    "코스피하락"
   ]
  },
  {
   "cell_type": "code",
   "execution_count": 13,
   "id": "010a248b-c629-46fb-b463-57285f2292cd",
   "metadata": {},
   "outputs": [
    {
     "data": {
      "text/html": [
       "<p> 코스피하락 </p> <img src='https://github.com/guebin/IP2022/blob/master/_notebooks/2022-05-07-stop1.jpeg?raw=true'> <p> 멈춰~~~ </p>"
      ],
      "text/plain": [
       "<IPython.core.display.HTML object>"
      ]
     },
     "execution_count": 13,
     "metadata": {},
     "output_type": "execute_result"
    }
   ],
   "source": [
    "HTML(htmlstr.format(title='코스피하락',url=url1,end='멈춰~~~'))"
   ]
  },
  {
   "cell_type": "markdown",
   "id": "c713c762-f25b-4cab-a682-3af64ece51e6",
   "metadata": {},
   "source": [
    "수강신청매크로"
   ]
  },
  {
   "cell_type": "code",
   "execution_count": 14,
   "id": "cf6f84d5-ad95-479f-9034-dd6ed4769da2",
   "metadata": {},
   "outputs": [
    {
     "data": {
      "text/html": [
       "<p> 수강신청매크로 </p> <img src='https://github.com/guebin/IP2022/blob/master/_notebooks/2022-05-07-stop1.jpeg?raw=true'> <p> 멈춰~~~ </p>"
      ],
      "text/plain": [
       "<IPython.core.display.HTML object>"
      ]
     },
     "execution_count": 14,
     "metadata": {},
     "output_type": "execute_result"
    }
   ],
   "source": [
    "HTML(htmlstr.format(title='수강신청매크로',url=url1,end='멈춰~~~'))"
   ]
  },
  {
   "cell_type": "markdown",
   "id": "8f2da635-483e-4d59-a45b-790af6de402c",
   "metadata": {},
   "source": [
    "### 함수를 만들어 코드를 관리"
   ]
  },
  {
   "cell_type": "markdown",
   "id": "aecf8685-683b-49aa-83a4-f4a7a696dce2",
   "metadata": {},
   "source": [
    "`-` 함수의 선언"
   ]
  },
  {
   "cell_type": "code",
   "execution_count": 18,
   "id": "cf97bca4-6b87-47b2-bf8f-39d559457ed0",
   "metadata": {},
   "outputs": [],
   "source": [
    "def stop():\n",
    "    htmlstr=\"<p> {title} </p> <img src='{url}'> <p> {end} </p>\"\n",
    "    display(HTML(htmlstr.format(title=ttl,url=url,end=end)))"
   ]
  },
  {
   "cell_type": "markdown",
   "id": "9ed57d87-4403-48a1-bf7c-62e9bbce2ae9",
   "metadata": {},
   "source": [
    "#### 예제들을 함수로 동시에 관리"
   ]
  },
  {
   "cell_type": "markdown",
   "id": "4153d09b-7113-471a-a43b-14412f422772",
   "metadata": {},
   "source": [
    "$t=1$ \"학교폭력 멈춰\" 생성"
   ]
  },
  {
   "cell_type": "code",
   "execution_count": 21,
   "id": "1824f500-bce1-47a1-944e-61ac4b2da797",
   "metadata": {},
   "outputs": [
    {
     "data": {
      "text/html": [
       "<p> 학교폭력 </p> <img src='https://github.com/guebin/IP2022/blob/master/_notebooks/2022-05-07-stop1.jpeg?raw=true'> <p> 멈춰~~~ </p>"
      ],
      "text/plain": [
       "<IPython.core.display.HTML object>"
      ]
     },
     "metadata": {},
     "output_type": "display_data"
    }
   ],
   "source": [
    "ttl= '학교폭력'\n",
    "url=url1\n",
    "end= '멈춰~~~'\n",
    "stop()"
   ]
  },
  {
   "cell_type": "markdown",
   "id": "2a835c81-2372-490c-9b79-e2869bf453f6",
   "metadata": {},
   "source": [
    "$t=2$ : \"코스피하락 멈춰\" 생성"
   ]
  },
  {
   "cell_type": "code",
   "execution_count": 22,
   "id": "6a3b2bdf-4971-48db-a896-e486c27ff38c",
   "metadata": {},
   "outputs": [
    {
     "data": {
      "text/html": [
       "<p> 코스피하락 </p> <img src='https://github.com/guebin/IP2022/blob/master/_notebooks/2022-05-07-stop1.jpeg?raw=true'> <p> 멈춰~~~ </p>"
      ],
      "text/plain": [
       "<IPython.core.display.HTML object>"
      ]
     },
     "metadata": {},
     "output_type": "display_data"
    }
   ],
   "source": [
    "ttl='코스피하락'\n",
    "url=url1\n",
    "end='멈춰~~~'\n",
    "stop()"
   ]
  },
  {
   "cell_type": "markdown",
   "id": "f916c304-253c-4316-9fcf-842220da896f",
   "metadata": {},
   "source": [
    "$t=3$ : \"수강신청 매크로 멈춰\" 생성"
   ]
  },
  {
   "cell_type": "code",
   "execution_count": 23,
   "id": "507a8442-fb09-48d6-8c6d-d7fca62d7b4d",
   "metadata": {},
   "outputs": [
    {
     "data": {
      "text/html": [
       "<p> 수강신청 매크로 </p> <img src='https://github.com/guebin/IP2022/blob/master/_notebooks/2022-05-07-stop1.jpeg?raw=true'> <p> 멈춰~~~ </p>"
      ],
      "text/plain": [
       "<IPython.core.display.HTML object>"
      ]
     },
     "metadata": {},
     "output_type": "display_data"
    }
   ],
   "source": [
    "ttl= \"수강신청 매크로\"\n",
    "url=url1\n",
    "end= \"멈춰~~~\"\n",
    "stop()"
   ]
  },
  {
   "cell_type": "markdown",
   "id": "237d087d-9552-4fac-b524-40a641373173",
   "metadata": {},
   "source": [
    "$t=4$ : \"수강신청 매크로 멈춰\"의 끝을 물결대신 느낌표료!"
   ]
  },
  {
   "cell_type": "code",
   "execution_count": 24,
   "id": "0f2e1b4f-35c1-4c51-8b8b-f061c78ccbc7",
   "metadata": {},
   "outputs": [
    {
     "data": {
      "text/html": [
       "<p> 수강신청 매크로 </p> <img src='https://github.com/guebin/IP2022/blob/master/_notebooks/2022-05-07-stop1.jpeg?raw=true'> <p> 멈춰!!!! </p>"
      ],
      "text/plain": [
       "<IPython.core.display.HTML object>"
      ]
     },
     "metadata": {},
     "output_type": "display_data"
    }
   ],
   "source": [
    "ttl= \"수강신청 매크로\"\n",
    "url=url1\n",
    "end= \"멈춰!!!!\"\n",
    "stop()"
   ]
  },
  {
   "cell_type": "markdown",
   "id": "2725e7dc-fcbd-4fdb-b5bb-5ec94a74f37d",
   "metadata": {},
   "source": [
    "$t=5$ : \"코스피하락 멈춰\"를 다시 출력 <-- 실수발생가능"
   ]
  },
  {
   "cell_type": "code",
   "execution_count": 25,
   "id": "143f0c8d-8392-4b1b-b036-b56557ba0e83",
   "metadata": {},
   "outputs": [
    {
     "data": {
      "text/html": [
       "<p> 코스피하락 </p> <img src='https://github.com/guebin/IP2022/blob/master/_notebooks/2022-05-07-stop1.jpeg?raw=true'> <p> 멈춰!!!!! </p>"
      ],
      "text/plain": [
       "<IPython.core.display.HTML object>"
      ]
     },
     "metadata": {},
     "output_type": "display_data"
    }
   ],
   "source": [
    "ttl=\"코스피하락\"\n",
    "url=url1\n",
    "end=\"멈춰!!!!!\"\n",
    "stop()"
   ]
  },
  {
   "cell_type": "markdown",
   "id": "369443ae-780a-4493-b326-01b2524395ba",
   "metadata": {},
   "source": [
    "- 실수해서 다시 출력 (멈춰~~~로 출력했어야함)"
   ]
  },
  {
   "cell_type": "code",
   "execution_count": 26,
   "id": "51114bfb-7144-4203-8076-92d5acc20fd0",
   "metadata": {},
   "outputs": [
    {
     "data": {
      "text/html": [
       "<p> 코스피하락 </p> <img src='https://github.com/guebin/IP2022/blob/master/_notebooks/2022-05-07-stop1.jpeg?raw=true'> <p> 멈춰~~~ </p>"
      ],
      "text/plain": [
       "<IPython.core.display.HTML object>"
      ]
     },
     "metadata": {},
     "output_type": "display_data"
    }
   ],
   "source": [
    "ttl=\"코스피하락\"\n",
    "url=url1\n",
    "end=\"멈춰~~~\"\n",
    "stop()"
   ]
  },
  {
   "cell_type": "markdown",
   "id": "1f7b9d60-82bc-4dc1-85aa-dec4b0d643a4",
   "metadata": {},
   "source": [
    "$t=6$ : \"학교폭력 멈춰\"와 \"코스피하락 멈춰\"를 동시에 출력"
   ]
  },
  {
   "cell_type": "code",
   "execution_count": 27,
   "id": "76db29be-e3a8-4db7-9243-ba1fb707daf7",
   "metadata": {},
   "outputs": [
    {
     "data": {
      "text/html": [
       "<p> 학교폭력 </p> <img src='https://github.com/guebin/IP2022/blob/master/_notebooks/2022-05-07-stop1.jpeg?raw=true'> <p> 멈춰~~~ </p>"
      ],
      "text/plain": [
       "<IPython.core.display.HTML object>"
      ]
     },
     "metadata": {},
     "output_type": "display_data"
    }
   ],
   "source": [
    "ttl=\"학교폭력\"\n",
    "url=url1\n",
    "end=\"멈춰~~~\"\n",
    "stop()"
   ]
  },
  {
   "cell_type": "code",
   "execution_count": 28,
   "id": "7243ee5c-9532-4ac2-9303-04838db657eb",
   "metadata": {},
   "outputs": [
    {
     "data": {
      "text/html": [
       "<p> 코스피하락 </p> <img src='https://github.com/guebin/IP2022/blob/master/_notebooks/2022-05-07-stop1.jpeg?raw=true'> <p> 멈춰!!!!! </p>"
      ],
      "text/plain": [
       "<IPython.core.display.HTML object>"
      ]
     },
     "metadata": {},
     "output_type": "display_data"
    }
   ],
   "source": [
    "ttl=\"코스피하락\"\n",
    "url=url1\n",
    "end=\"멈춰!!!!!\"\n",
    "stop()"
   ]
  },
  {
   "cell_type": "markdown",
   "id": "8aba0b51-9fd9-44c9-b029-f9cd61be4772",
   "metadata": {},
   "source": [
    "$t=7$ \"학교폭력 멈춰\"의 이미지를 신혜선으로 변경, \"코스피하락 멈춰\"의 title을 \"KOSPI하락\"으로 변경"
   ]
  },
  {
   "cell_type": "code",
   "execution_count": 30,
   "id": "6c9868bd-d120-49d7-a911-e23b641cd7d2",
   "metadata": {},
   "outputs": [
    {
     "data": {
      "text/html": [
       "<p> 학교폭력 </p> <img src='https://github.com/guebin/IP2022/blob/master/_notebooks/2022-05-07-stop2.png?raw=true'> <p> 멈춰!!!!! </p>"
      ],
      "text/plain": [
       "<IPython.core.display.HTML object>"
      ]
     },
     "metadata": {},
     "output_type": "display_data"
    }
   ],
   "source": [
    "ttl=\"학교폭력\"\n",
    "url=url2\n",
    "end=\"멈춰!!!!!\"\n",
    "stop()"
   ]
  },
  {
   "cell_type": "code",
   "execution_count": 31,
   "id": "d8f084a1-ab9a-4bbe-a3ea-f7e22f4b4606",
   "metadata": {},
   "outputs": [
    {
     "data": {
      "text/html": [
       "<p> KOSPI하락 </p> <img src='https://github.com/guebin/IP2022/blob/master/_notebooks/2022-05-07-stop1.jpeg?raw=true'> <p> 멈춰!!!!! </p>"
      ],
      "text/plain": [
       "<IPython.core.display.HTML object>"
      ]
     },
     "metadata": {},
     "output_type": "display_data"
    }
   ],
   "source": [
    "ttl=\"KOSPI하락\"\n",
    "url=url1\n",
    "end=\"멈춰!!!!!\"\n",
    "stop()"
   ]
  },
  {
   "cell_type": "markdown",
   "id": "8310fa9c-31e8-44a9-9a86-7f830a2e273c",
   "metadata": {},
   "source": [
    "### 예제들을 클래스를 이용해 동시관리"
   ]
  },
  {
   "cell_type": "code",
   "execution_count": 32,
   "id": "eb6ebd79-e7f3-4b04-acdd-26e65151f275",
   "metadata": {},
   "outputs": [],
   "source": [
    "class STOOOP:  # STOOOP은 양식문서의 이름이라 생각할 수 있음.\n",
    "    title=\"학교폭력\"\n",
    "    url=url1\n",
    "    end=\"멈춰~~~\"\n",
    "    def stop(self): ## 규칙1: class안에서 정의된 함수는 첫번째 입력으로 무조건 self \n",
    "        htmlstr = \"<p> {title} </p> <img src= '{url}'> <p> {end} </p> \" \n",
    "        display(HTML(htmlstr.format(title=self.title,url=self.url,end=self.end)))\n",
    "        ## 규칙2 : class안에서 정의된 변수 (title,url,end)를 쓰려면 \"self.변수이름\"의 형태로 써야함"
   ]
  },
  {
   "cell_type": "markdown",
   "id": "31f0fb67-8105-49c6-af9d-447d6aa45e15",
   "metadata": {},
   "source": [
    "$t=1$ : \"학교폭력 멈춰\" 생성"
   ]
  },
  {
   "cell_type": "code",
   "execution_count": 33,
   "id": "4cfacf81-ec87-4d45-be2f-7d10a2149cee",
   "metadata": {},
   "outputs": [],
   "source": [
    "school=STOOOP()\n",
    "# STOOOP()이라는 이름의 양식문서를 복사해 하나의 hwp를 파일을 만들어 밈을 생성하고 그 파일이름을 school이라고 선언.\n",
    "# 그러니깐 STOOOP.hwp, school.hwp가 동시에 존재함"
   ]
  },
  {
   "cell_type": "code",
   "execution_count": 34,
   "id": "e39e13d2-936e-47eb-bdbc-090d08f48d8d",
   "metadata": {},
   "outputs": [
    {
     "data": {
      "text/plain": [
       "'학교폭력'"
      ]
     },
     "execution_count": 34,
     "metadata": {},
     "output_type": "execute_result"
    }
   ],
   "source": [
    "school.title"
   ]
  },
  {
   "cell_type": "code",
   "execution_count": 35,
   "id": "4afaae60-ab4f-49af-8150-540e85fd440a",
   "metadata": {},
   "outputs": [
    {
     "data": {
      "text/plain": [
       "'https://github.com/guebin/IP2022/blob/master/_notebooks/2022-05-07-stop1.jpeg?raw=true'"
      ]
     },
     "execution_count": 35,
     "metadata": {},
     "output_type": "execute_result"
    }
   ],
   "source": [
    "school.url"
   ]
  },
  {
   "cell_type": "code",
   "execution_count": 36,
   "id": "0a056adb-4839-45fa-9a73-6ece8237d42f",
   "metadata": {},
   "outputs": [
    {
     "data": {
      "text/plain": [
       "'멈춰~~~'"
      ]
     },
     "execution_count": 36,
     "metadata": {},
     "output_type": "execute_result"
    }
   ],
   "source": [
    "school.end"
   ]
  },
  {
   "cell_type": "code",
   "execution_count": 37,
   "id": "192e8381-eb62-4a1c-aeb6-edcfce0ad16a",
   "metadata": {},
   "outputs": [
    {
     "data": {
      "text/html": [
       "<p> 학교폭력 </p> <img src= 'https://github.com/guebin/IP2022/blob/master/_notebooks/2022-05-07-stop1.jpeg?raw=true'> <p> 멈춰~~~ </p> "
      ],
      "text/plain": [
       "<IPython.core.display.HTML object>"
      ]
     },
     "metadata": {},
     "output_type": "display_data"
    }
   ],
   "source": [
    "school.stop()"
   ]
  },
  {
   "cell_type": "markdown",
   "id": "a6e9d5aa-2282-4c5b-ab16-e14648f0ead5",
   "metadata": {},
   "source": [
    "$t=2$ : \"코스피하락 멈춰\" 생성"
   ]
  },
  {
   "cell_type": "code",
   "execution_count": 38,
   "id": "ad76d765-f981-4c33-a109-9b613ab53ade",
   "metadata": {},
   "outputs": [],
   "source": [
    "kospi=STOOOP() #코스피하락 멈춰를 위해 STOOOP.hwp양식문서에서 하나의 밈을 찍어낸다(=kospi.hwp 생성)."
   ]
  },
  {
   "cell_type": "code",
   "execution_count": 39,
   "id": "8b20da19-d230-4d02-8de4-b85bc90db7ad",
   "metadata": {},
   "outputs": [
    {
     "data": {
      "text/plain": [
       "('학교폭력',\n",
       " 'https://github.com/guebin/IP2022/blob/master/_notebooks/2022-05-07-stop1.jpeg?raw=true',\n",
       " '멈춰~~~')"
      ]
     },
     "execution_count": 39,
     "metadata": {},
     "output_type": "execute_result"
    }
   ],
   "source": [
    "kospi.title, kospi.url,kospi.end"
   ]
  },
  {
   "cell_type": "code",
   "execution_count": 40,
   "id": "63d8fe34-9cf6-4c81-9f4b-2b78c2a3b7b5",
   "metadata": {},
   "outputs": [],
   "source": [
    "kospi.title='코스피하락' #kospi.hwp 제목을 코스피하락으로 변경"
   ]
  },
  {
   "cell_type": "code",
   "execution_count": 41,
   "id": "69699e56-4651-41d6-af1d-1eeb2568aa6c",
   "metadata": {},
   "outputs": [
    {
     "data": {
      "text/plain": [
       "('코스피하락',\n",
       " 'https://github.com/guebin/IP2022/blob/master/_notebooks/2022-05-07-stop1.jpeg?raw=true',\n",
       " '멈춰~~~')"
      ]
     },
     "execution_count": 41,
     "metadata": {},
     "output_type": "execute_result"
    }
   ],
   "source": [
    "kospi.title,kospi.url,kospi.end"
   ]
  },
  {
   "cell_type": "code",
   "execution_count": 42,
   "id": "1a46304c-d060-475b-9419-bab5898bb7f1",
   "metadata": {},
   "outputs": [
    {
     "data": {
      "text/html": [
       "<p> 코스피하락 </p> <img src= 'https://github.com/guebin/IP2022/blob/master/_notebooks/2022-05-07-stop1.jpeg?raw=true'> <p> 멈춰~~~ </p> "
      ],
      "text/plain": [
       "<IPython.core.display.HTML object>"
      ]
     },
     "metadata": {},
     "output_type": "display_data"
    }
   ],
   "source": [
    "kospi.stop()"
   ]
  },
  {
   "cell_type": "markdown",
   "id": "c67ad643-3d10-49cc-8abe-9a43b1603d7a",
   "metadata": {},
   "source": [
    "$t=3$ : \"수강신청 매크로 멈춰\" 생성"
   ]
  },
  {
   "cell_type": "code",
   "execution_count": 43,
   "id": "7969a103-3605-4464-b376-3d7a6e4fc4ac",
   "metadata": {},
   "outputs": [],
   "source": [
    "macro=STOOOP()"
   ]
  },
  {
   "cell_type": "code",
   "execution_count": 44,
   "id": "d2903ba7-f9c4-4b4a-95f6-c66d065bfd8c",
   "metadata": {},
   "outputs": [
    {
     "data": {
      "text/plain": [
       "('학교폭력',\n",
       " 'https://github.com/guebin/IP2022/blob/master/_notebooks/2022-05-07-stop1.jpeg?raw=true',\n",
       " '멈춰~~~')"
      ]
     },
     "execution_count": 44,
     "metadata": {},
     "output_type": "execute_result"
    }
   ],
   "source": [
    "macro.title,macro.url,macro.end"
   ]
  },
  {
   "cell_type": "code",
   "execution_count": 45,
   "id": "75be4cda-a26f-4146-9f34-abc2baf47488",
   "metadata": {},
   "outputs": [],
   "source": [
    "macro.title='수강신청 매크로'"
   ]
  },
  {
   "cell_type": "code",
   "execution_count": 46,
   "id": "8e954fea-a2e6-462d-8cc1-8585cf72d2a6",
   "metadata": {},
   "outputs": [
    {
     "data": {
      "text/plain": [
       "('수강신청 매크로',\n",
       " 'https://github.com/guebin/IP2022/blob/master/_notebooks/2022-05-07-stop1.jpeg?raw=true',\n",
       " '멈춰~~~')"
      ]
     },
     "execution_count": 46,
     "metadata": {},
     "output_type": "execute_result"
    }
   ],
   "source": [
    "macro.title,macro.url,macro.end"
   ]
  },
  {
   "cell_type": "code",
   "execution_count": 47,
   "id": "1b47962c-9337-4b16-a64b-4291d8eefff5",
   "metadata": {},
   "outputs": [
    {
     "data": {
      "text/html": [
       "<p> 수강신청 매크로 </p> <img src= 'https://github.com/guebin/IP2022/blob/master/_notebooks/2022-05-07-stop1.jpeg?raw=true'> <p> 멈춰~~~ </p> "
      ],
      "text/plain": [
       "<IPython.core.display.HTML object>"
      ]
     },
     "metadata": {},
     "output_type": "display_data"
    }
   ],
   "source": [
    "macro.stop()"
   ]
  },
  {
   "cell_type": "markdown",
   "id": "acbb9d04-b6f3-474f-a04c-ce8ec68f8fe7",
   "metadata": {},
   "source": [
    "$t=4$ : \"수강신청 매크로 멈춰\"의 끝을 물결대신 느낌표로!"
   ]
  },
  {
   "cell_type": "code",
   "execution_count": 48,
   "id": "9bf00fb5-ad63-4e17-b280-d93ae4df02b8",
   "metadata": {},
   "outputs": [],
   "source": [
    "macro.end='멈춰!!!'"
   ]
  },
  {
   "cell_type": "code",
   "execution_count": 49,
   "id": "5e0cbe64-9cb6-4d2e-b009-9b957a94d5a2",
   "metadata": {},
   "outputs": [
    {
     "data": {
      "text/html": [
       "<p> 수강신청 매크로 </p> <img src= 'https://github.com/guebin/IP2022/blob/master/_notebooks/2022-05-07-stop1.jpeg?raw=true'> <p> 멈춰!!! </p> "
      ],
      "text/plain": [
       "<IPython.core.display.HTML object>"
      ]
     },
     "metadata": {},
     "output_type": "display_data"
    }
   ],
   "source": [
    "macro.stop()"
   ]
  },
  {
   "cell_type": "markdown",
   "id": "8cef3c25-dea7-4628-b027-3c4b3e201b88",
   "metadata": {},
   "source": [
    "$t=5$ : \"코스피하락 멈춰\" 를 다시 출력"
   ]
  },
  {
   "cell_type": "code",
   "execution_count": 50,
   "id": "81ee7b57-89ac-4b95-a2e5-767b70083d5e",
   "metadata": {},
   "outputs": [
    {
     "data": {
      "text/html": [
       "<p> 코스피하락 </p> <img src= 'https://github.com/guebin/IP2022/blob/master/_notebooks/2022-05-07-stop1.jpeg?raw=true'> <p> 멈춰~~~ </p> "
      ],
      "text/plain": [
       "<IPython.core.display.HTML object>"
      ]
     },
     "metadata": {},
     "output_type": "display_data"
    }
   ],
   "source": [
    "kospi.stop()"
   ]
  },
  {
   "cell_type": "markdown",
   "id": "3ba1d1ad-cc1d-4d02-86b3-a19725fa2864",
   "metadata": {},
   "source": [
    "$t=6$ : \"학교폭력 멈춰\"와 \"코스피하락 멈춰\"를 동시에 출력"
   ]
  },
  {
   "cell_type": "code",
   "execution_count": 51,
   "id": "c9f7bf5b-6c92-4901-9405-f241f810f39a",
   "metadata": {},
   "outputs": [
    {
     "data": {
      "text/html": [
       "<p> 학교폭력 </p> <img src= 'https://github.com/guebin/IP2022/blob/master/_notebooks/2022-05-07-stop1.jpeg?raw=true'> <p> 멈춰~~~ </p> "
      ],
      "text/plain": [
       "<IPython.core.display.HTML object>"
      ]
     },
     "metadata": {},
     "output_type": "display_data"
    }
   ],
   "source": [
    "school.stop()"
   ]
  },
  {
   "cell_type": "code",
   "execution_count": 52,
   "id": "be289c0c-aa26-4f7f-aee2-547aec8af6be",
   "metadata": {},
   "outputs": [
    {
     "data": {
      "text/html": [
       "<p> 코스피하락 </p> <img src= 'https://github.com/guebin/IP2022/blob/master/_notebooks/2022-05-07-stop1.jpeg?raw=true'> <p> 멈춰~~~ </p> "
      ],
      "text/plain": [
       "<IPython.core.display.HTML object>"
      ]
     },
     "metadata": {},
     "output_type": "display_data"
    }
   ],
   "source": [
    "kospi.stop()"
   ]
  },
  {
   "cell_type": "markdown",
   "id": "13b5ad40-474f-488a-995c-3841c9070e50",
   "metadata": {},
   "source": [
    "$t=7$ : \"학교폭력 멈춰\"의 이미지를 신혜선으류 변경, \"코스피하락 멈춰\"의 title을 \"KOSPI하락\"으로 변경"
   ]
  },
  {
   "cell_type": "code",
   "execution_count": 53,
   "id": "1ff7c4a4-b8a3-49bf-a7a5-3bb11878ca7d",
   "metadata": {},
   "outputs": [],
   "source": [
    "school.url=url2\n",
    "kospi.title=\"KOSPI 하락\""
   ]
  },
  {
   "cell_type": "code",
   "execution_count": 54,
   "id": "53ffea8a-e037-40db-be79-e013b10dcad3",
   "metadata": {},
   "outputs": [
    {
     "data": {
      "text/html": [
       "<p> 학교폭력 </p> <img src= 'https://github.com/guebin/IP2022/blob/master/_notebooks/2022-05-07-stop2.png?raw=true'> <p> 멈춰~~~ </p> "
      ],
      "text/plain": [
       "<IPython.core.display.HTML object>"
      ]
     },
     "metadata": {},
     "output_type": "display_data"
    }
   ],
   "source": [
    "school.stop()"
   ]
  },
  {
   "cell_type": "code",
   "execution_count": 55,
   "id": "f144b2db-8825-4ad7-abe8-79cf7d390b66",
   "metadata": {},
   "outputs": [
    {
     "data": {
      "text/html": [
       "<p> KOSPI 하락 </p> <img src= 'https://github.com/guebin/IP2022/blob/master/_notebooks/2022-05-07-stop1.jpeg?raw=true'> <p> 멈춰~~~ </p> "
      ],
      "text/plain": [
       "<IPython.core.display.HTML object>"
      ]
     },
     "metadata": {},
     "output_type": "display_data"
    }
   ],
   "source": [
    "kospi.stop()"
   ]
  },
  {
   "cell_type": "code",
   "execution_count": null,
   "id": "c83eb880-781e-4c6b-87aa-8e894e37fb0d",
   "metadata": {},
   "outputs": [],
   "source": []
  }
 ],
 "metadata": {
  "kernelspec": {
   "display_name": "Python 3 (ipykernel)",
   "language": "python",
   "name": "python3"
  },
  "language_info": {
   "codemirror_mode": {
    "name": "ipython",
    "version": 3
   },
   "file_extension": ".py",
   "mimetype": "text/x-python",
   "name": "python",
   "nbconvert_exporter": "python",
   "pygments_lexer": "ipython3",
   "version": "3.9.7"
  }
 },
 "nbformat": 4,
 "nbformat_minor": 5
}
