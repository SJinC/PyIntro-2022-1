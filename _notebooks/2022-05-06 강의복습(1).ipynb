{
 "cells": [
  {
   "cell_type": "markdown",
   "id": "078494fc-7349-45db-9166-ba9122f1b00c",
   "metadata": {
    "tags": []
   },
   "source": [
    "# 파이썬 5월 6일 강의 복습\n",
    "> \"7월 5일\"\n",
    "\n",
    "- toc:true\n",
    "- branch: master\n",
    "- badges: true\n",
    "- comments: true\n",
    "- author: 최석진\n",
    "- categories: [Python]"
   ]
  },
  {
   "cell_type": "markdown",
   "id": "64547d61-03e1-4ab6-88c4-50ad58f2682f",
   "metadata": {},
   "source": [
    "## 판다스"
   ]
  },
  {
   "cell_type": "code",
   "execution_count": 1,
   "id": "7bb9ea6d-f3be-449a-ae1d-ce5edd4b6c49",
   "metadata": {},
   "outputs": [],
   "source": [
    "import numpy as np\n",
    "import pandas as pd"
   ]
  },
  {
   "cell_type": "markdown",
   "id": "b543621a-7ef8-4bb7-9898-f7d089d8a137",
   "metadata": {},
   "source": [
    "## 부분데이터 꺼내기 : 판다스를 왜 써야할까?"
   ]
  },
  {
   "cell_type": "markdown",
   "id": "002c1386-df80-4639-8d86-5c0b7dd77917",
   "metadata": {},
   "source": [
    "### 기본 인덱싱"
   ]
  },
  {
   "cell_type": "markdown",
   "id": "d4d17e96-07ed-4cc7-8703-60ac766917c4",
   "metadata": {},
   "source": [
    "`-` 예제1 : 기본인덱싱"
   ]
  },
  {
   "cell_type": "code",
   "execution_count": 2,
   "id": "8a9b6f81-c699-4cbf-903f-ca0ee0abd5e5",
   "metadata": {},
   "outputs": [
    {
     "data": {
      "text/plain": [
       "'d'"
      ]
     },
     "execution_count": 2,
     "metadata": {},
     "output_type": "execute_result"
    }
   ],
   "source": [
    "a='asdf'\n",
    "a[2]"
   ]
  },
  {
   "cell_type": "code",
   "execution_count": 3,
   "id": "21fcfde8-8503-4aea-a9d7-cdc5cc9e29fc",
   "metadata": {},
   "outputs": [
    {
     "data": {
      "text/plain": [
       "'f'"
      ]
     },
     "execution_count": 3,
     "metadata": {},
     "output_type": "execute_result"
    }
   ],
   "source": [
    "a[-1]"
   ]
  },
  {
   "cell_type": "markdown",
   "id": "fb11dc59-1c1b-4c34-99ca-56d6cb1a626f",
   "metadata": {},
   "source": [
    "`-` 예제2 : 슬라이싱"
   ]
  },
  {
   "cell_type": "code",
   "execution_count": 5,
   "id": "f99ea3e4-4165-4305-b2bd-367b5d6815cd",
   "metadata": {},
   "outputs": [
    {
     "data": {
      "text/plain": [
       "'sd'"
      ]
     },
     "execution_count": 5,
     "metadata": {},
     "output_type": "execute_result"
    }
   ],
   "source": [
    "a='asdf'\n",
    "a[1:3]"
   ]
  },
  {
   "cell_type": "code",
   "execution_count": 6,
   "id": "e5c5eac5-9b2f-4c48-bd93-f475173babb8",
   "metadata": {},
   "outputs": [
    {
     "data": {
      "text/plain": [
       "'df'"
      ]
     },
     "execution_count": 6,
     "metadata": {},
     "output_type": "execute_result"
    }
   ],
   "source": [
    "a[-2:]"
   ]
  },
  {
   "cell_type": "markdown",
   "id": "84e82d03-1dbb-4de6-8fe8-98b7f3e81f7e",
   "metadata": {},
   "source": [
    "`-` 예제3 : 스트라이딩"
   ]
  },
  {
   "cell_type": "code",
   "execution_count": 7,
   "id": "ba00d089-85bd-41fe-9dbc-5168b9f817f3",
   "metadata": {},
   "outputs": [
    {
     "data": {
      "text/plain": [
       "'adg'"
      ]
     },
     "execution_count": 7,
     "metadata": {},
     "output_type": "execute_result"
    }
   ],
   "source": [
    "a='asdfg'\n",
    "a[::2]"
   ]
  },
  {
   "cell_type": "markdown",
   "id": "f493f50c-1597-4e7e-8b13-7ebc93c41c88",
   "metadata": {},
   "source": [
    "`-` 예제4 : 불가능한 것"
   ]
  },
  {
   "cell_type": "code",
   "execution_count": 9,
   "id": "f8f273a0-a1b4-4789-a63a-3b423a31db6d",
   "metadata": {},
   "outputs": [
    {
     "ename": "TypeError",
     "evalue": "string indices must be integers",
     "output_type": "error",
     "traceback": [
      "\u001b[0;31m---------------------------------------------------------------------------\u001b[0m",
      "\u001b[0;31mTypeError\u001b[0m                                 Traceback (most recent call last)",
      "Input \u001b[0;32mIn [9]\u001b[0m, in \u001b[0;36m<cell line: 2>\u001b[0;34m()\u001b[0m\n\u001b[1;32m      1\u001b[0m a\u001b[38;5;241m=\u001b[39m\u001b[38;5;124m'\u001b[39m\u001b[38;5;124masdf\u001b[39m\u001b[38;5;124m'\u001b[39m\n\u001b[0;32m----> 2\u001b[0m \u001b[43ma\u001b[49m\u001b[43m[\u001b[49m\u001b[43m[\u001b[49m\u001b[38;5;241;43m1\u001b[39;49m\u001b[43m,\u001b[49m\u001b[38;5;241;43m2\u001b[39;49m\u001b[43m]\u001b[49m\u001b[43m]\u001b[49m\n",
      "\u001b[0;31mTypeError\u001b[0m: string indices must be integers"
     ]
    }
   ],
   "source": [
    "a='asdf'\n",
    "a[[1,2]] #정수인덱스를 리스트화 시켜서 인덱싱하는 것은 불가능"
   ]
  },
  {
   "cell_type": "code",
   "execution_count": 10,
   "id": "2bbeedcd-6fce-4f8f-9c64-5ad5ad614697",
   "metadata": {},
   "outputs": [
    {
     "ename": "TypeError",
     "evalue": "string indices must be integers",
     "output_type": "error",
     "traceback": [
      "\u001b[0;31m---------------------------------------------------------------------------\u001b[0m",
      "\u001b[0;31mTypeError\u001b[0m                                 Traceback (most recent call last)",
      "Input \u001b[0;32mIn [10]\u001b[0m, in \u001b[0;36m<cell line: 2>\u001b[0;34m()\u001b[0m\n\u001b[1;32m      1\u001b[0m a\u001b[38;5;241m=\u001b[39m\u001b[38;5;124m'\u001b[39m\u001b[38;5;124masdf\u001b[39m\u001b[38;5;124m'\u001b[39m\n\u001b[0;32m----> 2\u001b[0m \u001b[43ma\u001b[49m\u001b[43m[\u001b[49m\u001b[43m[\u001b[49m\u001b[38;5;28;43;01mTrue\u001b[39;49;00m\u001b[43m,\u001b[49m\u001b[38;5;28;43;01mTrue\u001b[39;49;00m\u001b[43m,\u001b[49m\u001b[38;5;28;43;01mFalse\u001b[39;49;00m\u001b[43m,\u001b[49m\u001b[38;5;28;43;01mFalse\u001b[39;49;00m\u001b[43m]\u001b[49m\u001b[43m]\u001b[49m\n",
      "\u001b[0;31mTypeError\u001b[0m: string indices must be integers"
     ]
    }
   ],
   "source": [
    "a='asdf'\n",
    "a[[True,True,False,False]]"
   ]
  },
  {
   "cell_type": "markdown",
   "id": "cca8cabe-14d5-4987-9a90-f6e6e2c1d4a9",
   "metadata": {},
   "source": [
    "## 팬시인덱싱"
   ]
  },
  {
   "cell_type": "markdown",
   "id": "8a1e43fd-485e-4d15-a333-4d439814ba3f",
   "metadata": {},
   "source": [
    "`-` 예제1 : 인덱스의 리스트 (혹은 ndarray)를 전달"
   ]
  },
  {
   "cell_type": "code",
   "execution_count": 11,
   "id": "7989e890-8a7f-4bac-8cfb-44c1dc431368",
   "metadata": {},
   "outputs": [
    {
     "data": {
      "text/plain": [
       "array([55, 56, 57, 58, 59, 60])"
      ]
     },
     "execution_count": 11,
     "metadata": {},
     "output_type": "execute_result"
    }
   ],
   "source": [
    "a=np.arange(55,61)\n",
    "a"
   ]
  },
  {
   "cell_type": "code",
   "execution_count": 12,
   "id": "a9f1e620-c4b1-421d-a118-892378dd48a4",
   "metadata": {},
   "outputs": [
    {
     "data": {
      "text/plain": [
       "array([56, 57, 60])"
      ]
     },
     "execution_count": 12,
     "metadata": {},
     "output_type": "execute_result"
    }
   ],
   "source": [
    "a[[1,2,-1]]"
   ]
  },
  {
   "cell_type": "code",
   "execution_count": 14,
   "id": "9f73020a-0796-4243-bada-d2b738bd5c64",
   "metadata": {},
   "outputs": [
    {
     "data": {
      "text/plain": [
       "array([56, 57, 60])"
      ]
     },
     "execution_count": 14,
     "metadata": {},
     "output_type": "execute_result"
    }
   ],
   "source": [
    "a[np.array([1,2,-1])]"
   ]
  },
  {
   "cell_type": "markdown",
   "id": "95457f4a-6a03-4e5d-8b25-b162dd7285a3",
   "metadata": {},
   "source": [
    "`-` 예제2 : bool로 이루어진 리스트 (혹은 ndarray)를 전달"
   ]
  },
  {
   "cell_type": "code",
   "execution_count": 15,
   "id": "0e66dbd4-1f61-4b83-873c-60939c1fae47",
   "metadata": {},
   "outputs": [
    {
     "data": {
      "text/plain": [
       "array([55, 56, 57, 58, 59, 60])"
      ]
     },
     "execution_count": 15,
     "metadata": {},
     "output_type": "execute_result"
    }
   ],
   "source": [
    "a=np.arange(55,61)\n",
    "a"
   ]
  },
  {
   "cell_type": "code",
   "execution_count": 16,
   "id": "b8b4e82d-43af-4248-90e8-0de32b37d83d",
   "metadata": {},
   "outputs": [
    {
     "data": {
      "text/plain": [
       "array([55, 56])"
      ]
     },
     "execution_count": 16,
     "metadata": {},
     "output_type": "execute_result"
    }
   ],
   "source": [
    "a[[True,True,False,False,False,False]]"
   ]
  },
  {
   "cell_type": "code",
   "execution_count": 17,
   "id": "a510a945-d1f6-414f-8285-6799cf401cad",
   "metadata": {},
   "outputs": [
    {
     "data": {
      "text/plain": [
       "array([55, 56])"
      ]
     },
     "execution_count": 17,
     "metadata": {},
     "output_type": "execute_result"
    }
   ],
   "source": [
    "a[np.array([True,True,False,False,False,False])]"
   ]
  },
  {
   "cell_type": "code",
   "execution_count": 18,
   "id": "b7ff5b65-b947-4ab1-9aac-fca4ac27e730",
   "metadata": {},
   "outputs": [
    {
     "data": {
      "text/plain": [
       "array([55, 56])"
      ]
     },
     "execution_count": 18,
     "metadata": {},
     "output_type": "execute_result"
    }
   ],
   "source": [
    "a[a<57]"
   ]
  },
  {
   "cell_type": "markdown",
   "id": "da4c681a-8f2f-4ee8-9dcb-e6fdb29c7485",
   "metadata": {},
   "source": [
    "## 2차원자료형의 인덱싱"
   ]
  },
  {
   "cell_type": "markdown",
   "id": "ff67e918-71b9-43ae-8fd1-018c0b83c1c3",
   "metadata": {},
   "source": [
    "`-` 예제1"
   ]
  },
  {
   "cell_type": "code",
   "execution_count": 19,
   "id": "e26f97c6-2a4e-439f-ad63-0ca5b248c072",
   "metadata": {},
   "outputs": [
    {
     "data": {
      "text/plain": [
       "array([[ 0,  1,  2],\n",
       "       [ 3,  4,  5],\n",
       "       [ 6,  7,  8],\n",
       "       [ 9, 10, 11]])"
      ]
     },
     "execution_count": 19,
     "metadata": {},
     "output_type": "execute_result"
    }
   ],
   "source": [
    "a=np.arange(4*3).reshape(4,3)\n",
    "a"
   ]
  },
  {
   "cell_type": "code",
   "execution_count": 20,
   "id": "8a0f63e8-e408-4c79-b5d8-0afd791a4738",
   "metadata": {},
   "outputs": [
    {
     "data": {
      "text/plain": [
       "array([1, 4])"
      ]
     },
     "execution_count": 20,
     "metadata": {},
     "output_type": "execute_result"
    }
   ],
   "source": [
    "a[0:2,1]"
   ]
  },
  {
   "cell_type": "markdown",
   "id": "5ffb829e-84c9-46ef-94cc-e3883167ce82",
   "metadata": {},
   "source": [
    "`-` 예제2 : 차원을 유지하면서 인덱싱을 하고 싶으면?"
   ]
  },
  {
   "cell_type": "code",
   "execution_count": 22,
   "id": "9d1fe0e1-2213-4279-90c4-d3a77ad56ff5",
   "metadata": {},
   "outputs": [
    {
     "data": {
      "text/plain": [
       "array([[1],\n",
       "       [4]])"
      ]
     },
     "execution_count": 22,
     "metadata": {},
     "output_type": "execute_result"
    }
   ],
   "source": [
    "a=np.arange(4*3).reshape(4,3)\n",
    "a[0:2,[1]]"
   ]
  },
  {
   "cell_type": "markdown",
   "id": "c419ce66-7788-4baf-9b65-c88870e11be7",
   "metadata": {},
   "source": [
    "## Hash"
   ]
  },
  {
   "cell_type": "markdown",
   "id": "d90c2ce8-7a42-418e-8d81-59e3d0af6dcc",
   "metadata": {},
   "source": [
    "`-` 예제1 : (key,value)"
   ]
  },
  {
   "cell_type": "code",
   "execution_count": 23,
   "id": "338d4885-6b09-4a63-9246-e42ea1c61379",
   "metadata": {},
   "outputs": [
    {
     "data": {
      "text/plain": [
       "{'att': 65, 'rep': 45, 'mid': 80, 'fin': 100}"
      ]
     },
     "execution_count": 23,
     "metadata": {},
     "output_type": "execute_result"
    }
   ],
   "source": [
    "d={'att':65,'rep':45,'mid':80,'fin':100}\n",
    "d"
   ]
  },
  {
   "cell_type": "code",
   "execution_count": 24,
   "id": "08122657-927c-4db6-a061-aca02566bc8f",
   "metadata": {},
   "outputs": [
    {
     "data": {
      "text/plain": [
       "65"
      ]
     },
     "execution_count": 24,
     "metadata": {},
     "output_type": "execute_result"
    }
   ],
   "source": [
    "d['att'] #key -> value"
   ]
  },
  {
   "cell_type": "markdown",
   "id": "fc5d5dbb-cf85-45dc-aae9-578b3985b5a8",
   "metadata": {},
   "source": [
    "`-` 예제2 : numpy와 비교"
   ]
  },
  {
   "cell_type": "code",
   "execution_count": 25,
   "id": "2066f9aa-7a38-425e-aa9c-90412709b2f4",
   "metadata": {},
   "outputs": [],
   "source": [
    "np.random.seed(43052)\n",
    "att = np.random.choice(np.arange(10,21)*5,200)\n",
    "rep = np.random.choice(np.arange(5,21)*5,200)\n",
    "mid = np.random.choice(np.arange(0,21)*5,200)\n",
    "fin = np.random.choice(np.arange(0,21)*5,200)\n",
    "key = ['202212'+str(s) for s in np.random.choice(np.arange(300,501),200,replace=False)]\n",
    "test_dic = {key[i] : {'att':att[i], 'rep':rep[i], 'mid':mid[i], 'fin':fin[i]} for i in range(200)}\n",
    "test_ndarray = np.array([key,att,rep,mid,fin],dtype=np.int64).T\n",
    "del(att);del(rep);del(mid);del(fin);del(key)"
   ]
  },
  {
   "cell_type": "markdown",
   "id": "aec6bf12-60ef-429f-bc3c-0d562fb9a03e",
   "metadata": {},
   "source": [
    "학번 '202212460'에 해당하는 학생의 출석점수를 알고 싶다면?"
   ]
  },
  {
   "cell_type": "markdown",
   "id": "02bf0540-2277-4f46-88d0-5a322191c876",
   "metadata": {},
   "source": [
    "(풀이1)"
   ]
  },
  {
   "cell_type": "code",
   "execution_count": 26,
   "id": "7967a3d5-3ffd-46ab-9787-1a908227ade1",
   "metadata": {},
   "outputs": [
    {
     "data": {
      "text/plain": [
       "55"
      ]
     },
     "execution_count": 26,
     "metadata": {},
     "output_type": "execute_result"
    }
   ],
   "source": [
    "test_dic['202212460']['att']"
   ]
  },
  {
   "cell_type": "markdown",
   "id": "bab6c828-63ab-41b6-840a-b2099b186042",
   "metadata": {},
   "source": [
    "(풀이2)"
   ]
  },
  {
   "cell_type": "code",
   "execution_count": 27,
   "id": "0361dba8-2910-49b7-9d26-651dab6033e2",
   "metadata": {},
   "outputs": [
    {
     "data": {
      "text/plain": [
       "array([55])"
      ]
     },
     "execution_count": 27,
     "metadata": {},
     "output_type": "execute_result"
    }
   ],
   "source": [
    "test_ndarray[test_ndarray[:,0]==202212460,1]"
   ]
  },
  {
   "cell_type": "markdown",
   "id": "1b3303b1-b06d-4029-bf37-abb13081b49d",
   "metadata": {},
   "source": [
    "(풀이2)가 (풀이1)에 비해 불편한 점\n",
    "\n",
    "- test_ndarray의 첫칼럼은 student id이고 두번째 칼럼은 att라는 사실을 암기하고 있어야 함.\n",
    "\n",
    "- student id가 아니고 만약에 학생이름을 써서 데이터를 정리한다면 모든 자료형은 문자형이 되어야 함.\n",
    "\n",
    "- 작성한 코드의 가독성이 없음. (위치로 접근하기 때문)"
   ]
  },
  {
   "cell_type": "markdown",
   "id": "c1bd64b4-6fe5-40e6-82a4-5cfe10010101",
   "metadata": {},
   "source": [
    "`-` 요약 : hash 스타일로 정보를 추출하는 것이 유용할 때가 있음. 그리고 보통 hash 스타일로 정보를 뽑는 것이 유리.(numpy는 정보추출을 위해 개발된 자료형이 아니라 행렬 및 벡터의 수학연산을 지원하기 위해 개발된 자료형)"
   ]
  },
  {
   "cell_type": "markdown",
   "id": "ad526578-f8d5-47f2-bb96-ed4eee5b3e45",
   "metadata": {},
   "source": [
    "`-` -> 정보를 추출할 때는 hash 스타일도 유용한다는 것은 ok -> 하지만 가끔 numpy스타일로 정보를 뽑고 싶음 그리고 딕셔너리 형태가 아니고 엑셀처럼(행렬처럼) 데이터를 보고 싶음 -> pandas 개발"
   ]
  },
  {
   "cell_type": "markdown",
   "id": "53c2a240-bdec-4063-ba5a-342a6efb21c0",
   "metadata": {},
   "source": [
    "## pandas 개발동기"
   ]
  },
  {
   "cell_type": "markdown",
   "id": "9cf60e94-c35e-4e1c-ab55-b77e2325bf0a",
   "metadata": {},
   "source": [
    "### 엑셀처럼 데이터를 테이블 형태로 정리하고 싶음"
   ]
  },
  {
   "cell_type": "code",
   "execution_count": 28,
   "id": "4f631449-f82f-4439-9770-b32d283f3d1f",
   "metadata": {},
   "outputs": [],
   "source": [
    "np.random.seed(43052)\n",
    "att = np.random.choice(np.arange(10,21)*5,20)\n",
    "rep = np.random.choice(np.arange(5,21)*5,20)\n",
    "mid = np.random.choice(np.arange(0,21)*5,20)\n",
    "fin = np.random.choice(np.arange(0,21)*5,20)\n",
    "key = ['202212'+str(s) for s in np.random.choice(np.arange(300,501),20,replace=False)]\n",
    "test_dic = {key[i] : {'att':att[i], 'rep':rep[i], 'mid':mid[i], 'fin':fin[i]} for i in range(20)}"
   ]
  },
  {
   "cell_type": "code",
   "execution_count": 29,
   "id": "42a5a3fa-7735-4a8e-844b-9a975a8b1aff",
   "metadata": {},
   "outputs": [
    {
     "data": {
      "text/plain": [
       "{'202212380': {'att': 65, 'rep': 55, 'mid': 50, 'fin': 40},\n",
       " '202212370': {'att': 95, 'rep': 100, 'mid': 50, 'fin': 80},\n",
       " '202212363': {'att': 65, 'rep': 90, 'mid': 60, 'fin': 30},\n",
       " '202212488': {'att': 55, 'rep': 80, 'mid': 75, 'fin': 80},\n",
       " '202212312': {'att': 80, 'rep': 30, 'mid': 30, 'fin': 100},\n",
       " '202212377': {'att': 75, 'rep': 40, 'mid': 100, 'fin': 15},\n",
       " '202212463': {'att': 65, 'rep': 45, 'mid': 45, 'fin': 90},\n",
       " '202212471': {'att': 60, 'rep': 60, 'mid': 25, 'fin': 0},\n",
       " '202212400': {'att': 95, 'rep': 65, 'mid': 20, 'fin': 10},\n",
       " '202212469': {'att': 90, 'rep': 80, 'mid': 80, 'fin': 20},\n",
       " '202212318': {'att': 55, 'rep': 75, 'mid': 35, 'fin': 25},\n",
       " '202212432': {'att': 95, 'rep': 95, 'mid': 45, 'fin': 0},\n",
       " '202212443': {'att': 95, 'rep': 55, 'mid': 15, 'fin': 35},\n",
       " '202212367': {'att': 50, 'rep': 80, 'mid': 40, 'fin': 30},\n",
       " '202212458': {'att': 50, 'rep': 55, 'mid': 15, 'fin': 85},\n",
       " '202212396': {'att': 95, 'rep': 30, 'mid': 30, 'fin': 95},\n",
       " '202212482': {'att': 50, 'rep': 50, 'mid': 45, 'fin': 10},\n",
       " '202212452': {'att': 65, 'rep': 55, 'mid': 15, 'fin': 45},\n",
       " '202212387': {'att': 70, 'rep': 70, 'mid': 40, 'fin': 35},\n",
       " '202212354': {'att': 90, 'rep': 90, 'mid': 80, 'fin': 90}}"
      ]
     },
     "execution_count": 29,
     "metadata": {},
     "output_type": "execute_result"
    }
   ],
   "source": [
    "test_dic"
   ]
  },
  {
   "cell_type": "markdown",
   "id": "da660fe3-b819-4735-8b72-fcf3f4fce02f",
   "metadata": {},
   "source": [
    "- 테이블형태로 보고 싶음"
   ]
  },
  {
   "cell_type": "markdown",
   "id": "a2b5e18a-45ac-48e5-ad0f-60d65f807031",
   "metadata": {},
   "source": [
    "(방법1) -- 행렬이기는 하지만 방법 2,3,4,5에 비해 우리가 원하는 만큼 가독성을 주는 형태는 아님.."
   ]
  },
  {
   "cell_type": "code",
   "execution_count": 30,
   "id": "fa19932c-4f94-4b05-a945-0a9dbd5fba8d",
   "metadata": {},
   "outputs": [
    {
     "data": {
      "text/plain": [
       "array([[202212380,        65,        55,        50,        40],\n",
       "       [202212370,        95,       100,        50,        80],\n",
       "       [202212363,        65,        90,        60,        30],\n",
       "       [202212488,        55,        80,        75,        80],\n",
       "       [202212312,        80,        30,        30,       100],\n",
       "       [202212377,        75,        40,       100,        15],\n",
       "       [202212463,        65,        45,        45,        90],\n",
       "       [202212471,        60,        60,        25,         0],\n",
       "       [202212400,        95,        65,        20,        10],\n",
       "       [202212469,        90,        80,        80,        20],\n",
       "       [202212318,        55,        75,        35,        25],\n",
       "       [202212432,        95,        95,        45,         0],\n",
       "       [202212443,        95,        55,        15,        35],\n",
       "       [202212367,        50,        80,        40,        30],\n",
       "       [202212458,        50,        55,        15,        85],\n",
       "       [202212396,        95,        30,        30,        95],\n",
       "       [202212482,        50,        50,        45,        10],\n",
       "       [202212452,        65,        55,        15,        45],\n",
       "       [202212387,        70,        70,        40,        35],\n",
       "       [202212354,        90,        90,        80,        90]])"
      ]
     },
     "execution_count": 30,
     "metadata": {},
     "output_type": "execute_result"
    }
   ],
   "source": [
    "test_ndarray=np.array([key,att,rep,mid,fin],dtype=np.int64).T\n",
    "test_ndarray"
   ]
  },
  {
   "cell_type": "markdown",
   "id": "42010845-247f-4bb3-8096-314725413df1",
   "metadata": {},
   "source": [
    "(방법2)"
   ]
  },
  {
   "cell_type": "code",
   "execution_count": 31,
   "id": "2c0ce563-bb76-4006-b211-fcff4b993277",
   "metadata": {},
   "outputs": [
    {
     "data": {
      "text/html": [
       "<div>\n",
       "<style scoped>\n",
       "    .dataframe tbody tr th:only-of-type {\n",
       "        vertical-align: middle;\n",
       "    }\n",
       "\n",
       "    .dataframe tbody tr th {\n",
       "        vertical-align: top;\n",
       "    }\n",
       "\n",
       "    .dataframe thead th {\n",
       "        text-align: right;\n",
       "    }\n",
       "</style>\n",
       "<table border=\"1\" class=\"dataframe\">\n",
       "  <thead>\n",
       "    <tr style=\"text-align: right;\">\n",
       "      <th></th>\n",
       "      <th>att</th>\n",
       "      <th>rep</th>\n",
       "      <th>mid</th>\n",
       "      <th>fin</th>\n",
       "    </tr>\n",
       "  </thead>\n",
       "  <tbody>\n",
       "    <tr>\n",
       "      <th>202212380</th>\n",
       "      <td>65</td>\n",
       "      <td>55</td>\n",
       "      <td>50</td>\n",
       "      <td>40</td>\n",
       "    </tr>\n",
       "    <tr>\n",
       "      <th>202212370</th>\n",
       "      <td>95</td>\n",
       "      <td>100</td>\n",
       "      <td>50</td>\n",
       "      <td>80</td>\n",
       "    </tr>\n",
       "    <tr>\n",
       "      <th>202212363</th>\n",
       "      <td>65</td>\n",
       "      <td>90</td>\n",
       "      <td>60</td>\n",
       "      <td>30</td>\n",
       "    </tr>\n",
       "    <tr>\n",
       "      <th>202212488</th>\n",
       "      <td>55</td>\n",
       "      <td>80</td>\n",
       "      <td>75</td>\n",
       "      <td>80</td>\n",
       "    </tr>\n",
       "    <tr>\n",
       "      <th>202212312</th>\n",
       "      <td>80</td>\n",
       "      <td>30</td>\n",
       "      <td>30</td>\n",
       "      <td>100</td>\n",
       "    </tr>\n",
       "    <tr>\n",
       "      <th>202212377</th>\n",
       "      <td>75</td>\n",
       "      <td>40</td>\n",
       "      <td>100</td>\n",
       "      <td>15</td>\n",
       "    </tr>\n",
       "    <tr>\n",
       "      <th>202212463</th>\n",
       "      <td>65</td>\n",
       "      <td>45</td>\n",
       "      <td>45</td>\n",
       "      <td>90</td>\n",
       "    </tr>\n",
       "    <tr>\n",
       "      <th>202212471</th>\n",
       "      <td>60</td>\n",
       "      <td>60</td>\n",
       "      <td>25</td>\n",
       "      <td>0</td>\n",
       "    </tr>\n",
       "    <tr>\n",
       "      <th>202212400</th>\n",
       "      <td>95</td>\n",
       "      <td>65</td>\n",
       "      <td>20</td>\n",
       "      <td>10</td>\n",
       "    </tr>\n",
       "    <tr>\n",
       "      <th>202212469</th>\n",
       "      <td>90</td>\n",
       "      <td>80</td>\n",
       "      <td>80</td>\n",
       "      <td>20</td>\n",
       "    </tr>\n",
       "    <tr>\n",
       "      <th>202212318</th>\n",
       "      <td>55</td>\n",
       "      <td>75</td>\n",
       "      <td>35</td>\n",
       "      <td>25</td>\n",
       "    </tr>\n",
       "    <tr>\n",
       "      <th>202212432</th>\n",
       "      <td>95</td>\n",
       "      <td>95</td>\n",
       "      <td>45</td>\n",
       "      <td>0</td>\n",
       "    </tr>\n",
       "    <tr>\n",
       "      <th>202212443</th>\n",
       "      <td>95</td>\n",
       "      <td>55</td>\n",
       "      <td>15</td>\n",
       "      <td>35</td>\n",
       "    </tr>\n",
       "    <tr>\n",
       "      <th>202212367</th>\n",
       "      <td>50</td>\n",
       "      <td>80</td>\n",
       "      <td>40</td>\n",
       "      <td>30</td>\n",
       "    </tr>\n",
       "    <tr>\n",
       "      <th>202212458</th>\n",
       "      <td>50</td>\n",
       "      <td>55</td>\n",
       "      <td>15</td>\n",
       "      <td>85</td>\n",
       "    </tr>\n",
       "    <tr>\n",
       "      <th>202212396</th>\n",
       "      <td>95</td>\n",
       "      <td>30</td>\n",
       "      <td>30</td>\n",
       "      <td>95</td>\n",
       "    </tr>\n",
       "    <tr>\n",
       "      <th>202212482</th>\n",
       "      <td>50</td>\n",
       "      <td>50</td>\n",
       "      <td>45</td>\n",
       "      <td>10</td>\n",
       "    </tr>\n",
       "    <tr>\n",
       "      <th>202212452</th>\n",
       "      <td>65</td>\n",
       "      <td>55</td>\n",
       "      <td>15</td>\n",
       "      <td>45</td>\n",
       "    </tr>\n",
       "    <tr>\n",
       "      <th>202212387</th>\n",
       "      <td>70</td>\n",
       "      <td>70</td>\n",
       "      <td>40</td>\n",
       "      <td>35</td>\n",
       "    </tr>\n",
       "    <tr>\n",
       "      <th>202212354</th>\n",
       "      <td>90</td>\n",
       "      <td>90</td>\n",
       "      <td>80</td>\n",
       "      <td>90</td>\n",
       "    </tr>\n",
       "  </tbody>\n",
       "</table>\n",
       "</div>"
      ],
      "text/plain": [
       "           att  rep  mid  fin\n",
       "202212380   65   55   50   40\n",
       "202212370   95  100   50   80\n",
       "202212363   65   90   60   30\n",
       "202212488   55   80   75   80\n",
       "202212312   80   30   30  100\n",
       "202212377   75   40  100   15\n",
       "202212463   65   45   45   90\n",
       "202212471   60   60   25    0\n",
       "202212400   95   65   20   10\n",
       "202212469   90   80   80   20\n",
       "202212318   55   75   35   25\n",
       "202212432   95   95   45    0\n",
       "202212443   95   55   15   35\n",
       "202212367   50   80   40   30\n",
       "202212458   50   55   15   85\n",
       "202212396   95   30   30   95\n",
       "202212482   50   50   45   10\n",
       "202212452   65   55   15   45\n",
       "202212387   70   70   40   35\n",
       "202212354   90   90   80   90"
      ]
     },
     "execution_count": 31,
     "metadata": {},
     "output_type": "execute_result"
    }
   ],
   "source": [
    "pd.DataFrame(test_dic).T"
   ]
  },
  {
   "cell_type": "markdown",
   "id": "50917675-a6b8-44b4-b04e-416b442295bf",
   "metadata": {},
   "source": [
    "(방법3)"
   ]
  },
  {
   "cell_type": "code",
   "execution_count": 32,
   "id": "2bbfc4de-983c-4cae-b899-1df0a67d8fbc",
   "metadata": {},
   "outputs": [],
   "source": [
    "test_dic2={'att':{key[i]:att[i] for i in range(20)},\n",
    "           'rep':{key[i]:rep[i] for i in range(20)},\n",
    "           'mid':{key[i]:rep[i] for i in range(20)},\n",
    "           'fin':{key[i]:rep[i] for i in range(20)}}"
   ]
  },
  {
   "cell_type": "code",
   "execution_count": 33,
   "id": "3d31d18e-0d5e-43ca-be3f-299d16cd4b4f",
   "metadata": {},
   "outputs": [
    {
     "data": {
      "text/html": [
       "<div>\n",
       "<style scoped>\n",
       "    .dataframe tbody tr th:only-of-type {\n",
       "        vertical-align: middle;\n",
       "    }\n",
       "\n",
       "    .dataframe tbody tr th {\n",
       "        vertical-align: top;\n",
       "    }\n",
       "\n",
       "    .dataframe thead th {\n",
       "        text-align: right;\n",
       "    }\n",
       "</style>\n",
       "<table border=\"1\" class=\"dataframe\">\n",
       "  <thead>\n",
       "    <tr style=\"text-align: right;\">\n",
       "      <th></th>\n",
       "      <th>att</th>\n",
       "      <th>rep</th>\n",
       "      <th>mid</th>\n",
       "      <th>fin</th>\n",
       "    </tr>\n",
       "  </thead>\n",
       "  <tbody>\n",
       "    <tr>\n",
       "      <th>202212380</th>\n",
       "      <td>65</td>\n",
       "      <td>55</td>\n",
       "      <td>55</td>\n",
       "      <td>55</td>\n",
       "    </tr>\n",
       "    <tr>\n",
       "      <th>202212370</th>\n",
       "      <td>95</td>\n",
       "      <td>100</td>\n",
       "      <td>100</td>\n",
       "      <td>100</td>\n",
       "    </tr>\n",
       "    <tr>\n",
       "      <th>202212363</th>\n",
       "      <td>65</td>\n",
       "      <td>90</td>\n",
       "      <td>90</td>\n",
       "      <td>90</td>\n",
       "    </tr>\n",
       "    <tr>\n",
       "      <th>202212488</th>\n",
       "      <td>55</td>\n",
       "      <td>80</td>\n",
       "      <td>80</td>\n",
       "      <td>80</td>\n",
       "    </tr>\n",
       "    <tr>\n",
       "      <th>202212312</th>\n",
       "      <td>80</td>\n",
       "      <td>30</td>\n",
       "      <td>30</td>\n",
       "      <td>30</td>\n",
       "    </tr>\n",
       "    <tr>\n",
       "      <th>202212377</th>\n",
       "      <td>75</td>\n",
       "      <td>40</td>\n",
       "      <td>40</td>\n",
       "      <td>40</td>\n",
       "    </tr>\n",
       "    <tr>\n",
       "      <th>202212463</th>\n",
       "      <td>65</td>\n",
       "      <td>45</td>\n",
       "      <td>45</td>\n",
       "      <td>45</td>\n",
       "    </tr>\n",
       "    <tr>\n",
       "      <th>202212471</th>\n",
       "      <td>60</td>\n",
       "      <td>60</td>\n",
       "      <td>60</td>\n",
       "      <td>60</td>\n",
       "    </tr>\n",
       "    <tr>\n",
       "      <th>202212400</th>\n",
       "      <td>95</td>\n",
       "      <td>65</td>\n",
       "      <td>65</td>\n",
       "      <td>65</td>\n",
       "    </tr>\n",
       "    <tr>\n",
       "      <th>202212469</th>\n",
       "      <td>90</td>\n",
       "      <td>80</td>\n",
       "      <td>80</td>\n",
       "      <td>80</td>\n",
       "    </tr>\n",
       "    <tr>\n",
       "      <th>202212318</th>\n",
       "      <td>55</td>\n",
       "      <td>75</td>\n",
       "      <td>75</td>\n",
       "      <td>75</td>\n",
       "    </tr>\n",
       "    <tr>\n",
       "      <th>202212432</th>\n",
       "      <td>95</td>\n",
       "      <td>95</td>\n",
       "      <td>95</td>\n",
       "      <td>95</td>\n",
       "    </tr>\n",
       "    <tr>\n",
       "      <th>202212443</th>\n",
       "      <td>95</td>\n",
       "      <td>55</td>\n",
       "      <td>55</td>\n",
       "      <td>55</td>\n",
       "    </tr>\n",
       "    <tr>\n",
       "      <th>202212367</th>\n",
       "      <td>50</td>\n",
       "      <td>80</td>\n",
       "      <td>80</td>\n",
       "      <td>80</td>\n",
       "    </tr>\n",
       "    <tr>\n",
       "      <th>202212458</th>\n",
       "      <td>50</td>\n",
       "      <td>55</td>\n",
       "      <td>55</td>\n",
       "      <td>55</td>\n",
       "    </tr>\n",
       "    <tr>\n",
       "      <th>202212396</th>\n",
       "      <td>95</td>\n",
       "      <td>30</td>\n",
       "      <td>30</td>\n",
       "      <td>30</td>\n",
       "    </tr>\n",
       "    <tr>\n",
       "      <th>202212482</th>\n",
       "      <td>50</td>\n",
       "      <td>50</td>\n",
       "      <td>50</td>\n",
       "      <td>50</td>\n",
       "    </tr>\n",
       "    <tr>\n",
       "      <th>202212452</th>\n",
       "      <td>65</td>\n",
       "      <td>55</td>\n",
       "      <td>55</td>\n",
       "      <td>55</td>\n",
       "    </tr>\n",
       "    <tr>\n",
       "      <th>202212387</th>\n",
       "      <td>70</td>\n",
       "      <td>70</td>\n",
       "      <td>70</td>\n",
       "      <td>70</td>\n",
       "    </tr>\n",
       "    <tr>\n",
       "      <th>202212354</th>\n",
       "      <td>90</td>\n",
       "      <td>90</td>\n",
       "      <td>90</td>\n",
       "      <td>90</td>\n",
       "    </tr>\n",
       "  </tbody>\n",
       "</table>\n",
       "</div>"
      ],
      "text/plain": [
       "           att  rep  mid  fin\n",
       "202212380   65   55   55   55\n",
       "202212370   95  100  100  100\n",
       "202212363   65   90   90   90\n",
       "202212488   55   80   80   80\n",
       "202212312   80   30   30   30\n",
       "202212377   75   40   40   40\n",
       "202212463   65   45   45   45\n",
       "202212471   60   60   60   60\n",
       "202212400   95   65   65   65\n",
       "202212469   90   80   80   80\n",
       "202212318   55   75   75   75\n",
       "202212432   95   95   95   95\n",
       "202212443   95   55   55   55\n",
       "202212367   50   80   80   80\n",
       "202212458   50   55   55   55\n",
       "202212396   95   30   30   30\n",
       "202212482   50   50   50   50\n",
       "202212452   65   55   55   55\n",
       "202212387   70   70   70   70\n",
       "202212354   90   90   90   90"
      ]
     },
     "execution_count": 33,
     "metadata": {},
     "output_type": "execute_result"
    }
   ],
   "source": [
    "pd.DataFrame(test_dic2)"
   ]
  },
  {
   "cell_type": "markdown",
   "id": "26d27cdf-cbc1-4b51-8edb-dfa06fd99af4",
   "metadata": {},
   "source": [
    "(방법4)"
   ]
  },
  {
   "cell_type": "code",
   "execution_count": 34,
   "id": "ec64d7bd-3232-4e2c-9f27-7a5f5df3acc2",
   "metadata": {},
   "outputs": [
    {
     "data": {
      "text/html": [
       "<div>\n",
       "<style scoped>\n",
       "    .dataframe tbody tr th:only-of-type {\n",
       "        vertical-align: middle;\n",
       "    }\n",
       "\n",
       "    .dataframe tbody tr th {\n",
       "        vertical-align: top;\n",
       "    }\n",
       "\n",
       "    .dataframe thead th {\n",
       "        text-align: right;\n",
       "    }\n",
       "</style>\n",
       "<table border=\"1\" class=\"dataframe\">\n",
       "  <thead>\n",
       "    <tr style=\"text-align: right;\">\n",
       "      <th></th>\n",
       "      <th>att</th>\n",
       "      <th>rep</th>\n",
       "      <th>mid</th>\n",
       "      <th>fin</th>\n",
       "    </tr>\n",
       "  </thead>\n",
       "  <tbody>\n",
       "    <tr>\n",
       "      <th>202212380</th>\n",
       "      <td>65</td>\n",
       "      <td>55</td>\n",
       "      <td>50</td>\n",
       "      <td>40</td>\n",
       "    </tr>\n",
       "    <tr>\n",
       "      <th>202212370</th>\n",
       "      <td>95</td>\n",
       "      <td>100</td>\n",
       "      <td>50</td>\n",
       "      <td>80</td>\n",
       "    </tr>\n",
       "    <tr>\n",
       "      <th>202212363</th>\n",
       "      <td>65</td>\n",
       "      <td>90</td>\n",
       "      <td>60</td>\n",
       "      <td>30</td>\n",
       "    </tr>\n",
       "    <tr>\n",
       "      <th>202212488</th>\n",
       "      <td>55</td>\n",
       "      <td>80</td>\n",
       "      <td>75</td>\n",
       "      <td>80</td>\n",
       "    </tr>\n",
       "    <tr>\n",
       "      <th>202212312</th>\n",
       "      <td>80</td>\n",
       "      <td>30</td>\n",
       "      <td>30</td>\n",
       "      <td>100</td>\n",
       "    </tr>\n",
       "    <tr>\n",
       "      <th>202212377</th>\n",
       "      <td>75</td>\n",
       "      <td>40</td>\n",
       "      <td>100</td>\n",
       "      <td>15</td>\n",
       "    </tr>\n",
       "    <tr>\n",
       "      <th>202212463</th>\n",
       "      <td>65</td>\n",
       "      <td>45</td>\n",
       "      <td>45</td>\n",
       "      <td>90</td>\n",
       "    </tr>\n",
       "    <tr>\n",
       "      <th>202212471</th>\n",
       "      <td>60</td>\n",
       "      <td>60</td>\n",
       "      <td>25</td>\n",
       "      <td>0</td>\n",
       "    </tr>\n",
       "    <tr>\n",
       "      <th>202212400</th>\n",
       "      <td>95</td>\n",
       "      <td>65</td>\n",
       "      <td>20</td>\n",
       "      <td>10</td>\n",
       "    </tr>\n",
       "    <tr>\n",
       "      <th>202212469</th>\n",
       "      <td>90</td>\n",
       "      <td>80</td>\n",
       "      <td>80</td>\n",
       "      <td>20</td>\n",
       "    </tr>\n",
       "    <tr>\n",
       "      <th>202212318</th>\n",
       "      <td>55</td>\n",
       "      <td>75</td>\n",
       "      <td>35</td>\n",
       "      <td>25</td>\n",
       "    </tr>\n",
       "    <tr>\n",
       "      <th>202212432</th>\n",
       "      <td>95</td>\n",
       "      <td>95</td>\n",
       "      <td>45</td>\n",
       "      <td>0</td>\n",
       "    </tr>\n",
       "    <tr>\n",
       "      <th>202212443</th>\n",
       "      <td>95</td>\n",
       "      <td>55</td>\n",
       "      <td>15</td>\n",
       "      <td>35</td>\n",
       "    </tr>\n",
       "    <tr>\n",
       "      <th>202212367</th>\n",
       "      <td>50</td>\n",
       "      <td>80</td>\n",
       "      <td>40</td>\n",
       "      <td>30</td>\n",
       "    </tr>\n",
       "    <tr>\n",
       "      <th>202212458</th>\n",
       "      <td>50</td>\n",
       "      <td>55</td>\n",
       "      <td>15</td>\n",
       "      <td>85</td>\n",
       "    </tr>\n",
       "    <tr>\n",
       "      <th>202212396</th>\n",
       "      <td>95</td>\n",
       "      <td>30</td>\n",
       "      <td>30</td>\n",
       "      <td>95</td>\n",
       "    </tr>\n",
       "    <tr>\n",
       "      <th>202212482</th>\n",
       "      <td>50</td>\n",
       "      <td>50</td>\n",
       "      <td>45</td>\n",
       "      <td>10</td>\n",
       "    </tr>\n",
       "    <tr>\n",
       "      <th>202212452</th>\n",
       "      <td>65</td>\n",
       "      <td>55</td>\n",
       "      <td>15</td>\n",
       "      <td>45</td>\n",
       "    </tr>\n",
       "    <tr>\n",
       "      <th>202212387</th>\n",
       "      <td>70</td>\n",
       "      <td>70</td>\n",
       "      <td>40</td>\n",
       "      <td>35</td>\n",
       "    </tr>\n",
       "    <tr>\n",
       "      <th>202212354</th>\n",
       "      <td>90</td>\n",
       "      <td>90</td>\n",
       "      <td>80</td>\n",
       "      <td>90</td>\n",
       "    </tr>\n",
       "  </tbody>\n",
       "</table>\n",
       "</div>"
      ],
      "text/plain": [
       "           att  rep  mid  fin\n",
       "202212380   65   55   50   40\n",
       "202212370   95  100   50   80\n",
       "202212363   65   90   60   30\n",
       "202212488   55   80   75   80\n",
       "202212312   80   30   30  100\n",
       "202212377   75   40  100   15\n",
       "202212463   65   45   45   90\n",
       "202212471   60   60   25    0\n",
       "202212400   95   65   20   10\n",
       "202212469   90   80   80   20\n",
       "202212318   55   75   35   25\n",
       "202212432   95   95   45    0\n",
       "202212443   95   55   15   35\n",
       "202212367   50   80   40   30\n",
       "202212458   50   55   15   85\n",
       "202212396   95   30   30   95\n",
       "202212482   50   50   45   10\n",
       "202212452   65   55   15   45\n",
       "202212387   70   70   40   35\n",
       "202212354   90   90   80   90"
      ]
     },
     "execution_count": 34,
     "metadata": {},
     "output_type": "execute_result"
    }
   ],
   "source": [
    "df=pd.DataFrame({'att':att,'rep':rep,'mid':mid,'fin':fin},index=key)\n",
    "df"
   ]
  },
  {
   "cell_type": "markdown",
   "id": "16d4cb7d-c8aa-42d5-8765-a104add844bd",
   "metadata": {},
   "source": [
    "(방법5)"
   ]
  },
  {
   "cell_type": "code",
   "execution_count": 35,
   "id": "d1c87dcf-c617-4583-85c2-79626195cb5a",
   "metadata": {},
   "outputs": [
    {
     "data": {
      "text/html": [
       "<div>\n",
       "<style scoped>\n",
       "    .dataframe tbody tr th:only-of-type {\n",
       "        vertical-align: middle;\n",
       "    }\n",
       "\n",
       "    .dataframe tbody tr th {\n",
       "        vertical-align: top;\n",
       "    }\n",
       "\n",
       "    .dataframe thead th {\n",
       "        text-align: right;\n",
       "    }\n",
       "</style>\n",
       "<table border=\"1\" class=\"dataframe\">\n",
       "  <thead>\n",
       "    <tr style=\"text-align: right;\">\n",
       "      <th></th>\n",
       "      <th>att</th>\n",
       "      <th>rep</th>\n",
       "      <th>mid</th>\n",
       "      <th>fin</th>\n",
       "    </tr>\n",
       "  </thead>\n",
       "  <tbody>\n",
       "    <tr>\n",
       "      <th>0</th>\n",
       "      <td>65</td>\n",
       "      <td>55</td>\n",
       "      <td>50</td>\n",
       "      <td>40</td>\n",
       "    </tr>\n",
       "    <tr>\n",
       "      <th>1</th>\n",
       "      <td>95</td>\n",
       "      <td>100</td>\n",
       "      <td>50</td>\n",
       "      <td>80</td>\n",
       "    </tr>\n",
       "    <tr>\n",
       "      <th>2</th>\n",
       "      <td>65</td>\n",
       "      <td>90</td>\n",
       "      <td>60</td>\n",
       "      <td>30</td>\n",
       "    </tr>\n",
       "    <tr>\n",
       "      <th>3</th>\n",
       "      <td>55</td>\n",
       "      <td>80</td>\n",
       "      <td>75</td>\n",
       "      <td>80</td>\n",
       "    </tr>\n",
       "    <tr>\n",
       "      <th>4</th>\n",
       "      <td>80</td>\n",
       "      <td>30</td>\n",
       "      <td>30</td>\n",
       "      <td>100</td>\n",
       "    </tr>\n",
       "    <tr>\n",
       "      <th>5</th>\n",
       "      <td>75</td>\n",
       "      <td>40</td>\n",
       "      <td>100</td>\n",
       "      <td>15</td>\n",
       "    </tr>\n",
       "    <tr>\n",
       "      <th>6</th>\n",
       "      <td>65</td>\n",
       "      <td>45</td>\n",
       "      <td>45</td>\n",
       "      <td>90</td>\n",
       "    </tr>\n",
       "    <tr>\n",
       "      <th>7</th>\n",
       "      <td>60</td>\n",
       "      <td>60</td>\n",
       "      <td>25</td>\n",
       "      <td>0</td>\n",
       "    </tr>\n",
       "    <tr>\n",
       "      <th>8</th>\n",
       "      <td>95</td>\n",
       "      <td>65</td>\n",
       "      <td>20</td>\n",
       "      <td>10</td>\n",
       "    </tr>\n",
       "    <tr>\n",
       "      <th>9</th>\n",
       "      <td>90</td>\n",
       "      <td>80</td>\n",
       "      <td>80</td>\n",
       "      <td>20</td>\n",
       "    </tr>\n",
       "    <tr>\n",
       "      <th>10</th>\n",
       "      <td>55</td>\n",
       "      <td>75</td>\n",
       "      <td>35</td>\n",
       "      <td>25</td>\n",
       "    </tr>\n",
       "    <tr>\n",
       "      <th>11</th>\n",
       "      <td>95</td>\n",
       "      <td>95</td>\n",
       "      <td>45</td>\n",
       "      <td>0</td>\n",
       "    </tr>\n",
       "    <tr>\n",
       "      <th>12</th>\n",
       "      <td>95</td>\n",
       "      <td>55</td>\n",
       "      <td>15</td>\n",
       "      <td>35</td>\n",
       "    </tr>\n",
       "    <tr>\n",
       "      <th>13</th>\n",
       "      <td>50</td>\n",
       "      <td>80</td>\n",
       "      <td>40</td>\n",
       "      <td>30</td>\n",
       "    </tr>\n",
       "    <tr>\n",
       "      <th>14</th>\n",
       "      <td>50</td>\n",
       "      <td>55</td>\n",
       "      <td>15</td>\n",
       "      <td>85</td>\n",
       "    </tr>\n",
       "    <tr>\n",
       "      <th>15</th>\n",
       "      <td>95</td>\n",
       "      <td>30</td>\n",
       "      <td>30</td>\n",
       "      <td>95</td>\n",
       "    </tr>\n",
       "    <tr>\n",
       "      <th>16</th>\n",
       "      <td>50</td>\n",
       "      <td>50</td>\n",
       "      <td>45</td>\n",
       "      <td>10</td>\n",
       "    </tr>\n",
       "    <tr>\n",
       "      <th>17</th>\n",
       "      <td>65</td>\n",
       "      <td>55</td>\n",
       "      <td>15</td>\n",
       "      <td>45</td>\n",
       "    </tr>\n",
       "    <tr>\n",
       "      <th>18</th>\n",
       "      <td>70</td>\n",
       "      <td>70</td>\n",
       "      <td>40</td>\n",
       "      <td>35</td>\n",
       "    </tr>\n",
       "    <tr>\n",
       "      <th>19</th>\n",
       "      <td>90</td>\n",
       "      <td>90</td>\n",
       "      <td>80</td>\n",
       "      <td>90</td>\n",
       "    </tr>\n",
       "  </tbody>\n",
       "</table>\n",
       "</div>"
      ],
      "text/plain": [
       "    att  rep  mid  fin\n",
       "0    65   55   50   40\n",
       "1    95  100   50   80\n",
       "2    65   90   60   30\n",
       "3    55   80   75   80\n",
       "4    80   30   30  100\n",
       "5    75   40  100   15\n",
       "6    65   45   45   90\n",
       "7    60   60   25    0\n",
       "8    95   65   20   10\n",
       "9    90   80   80   20\n",
       "10   55   75   35   25\n",
       "11   95   95   45    0\n",
       "12   95   55   15   35\n",
       "13   50   80   40   30\n",
       "14   50   55   15   85\n",
       "15   95   30   30   95\n",
       "16   50   50   45   10\n",
       "17   65   55   15   45\n",
       "18   70   70   40   35\n",
       "19   90   90   80   90"
      ]
     },
     "execution_count": 35,
     "metadata": {},
     "output_type": "execute_result"
    }
   ],
   "source": [
    "df=pd.DataFrame({'att':att,'rep':rep,'mid':mid,'fin':fin})\n",
    "df"
   ]
  },
  {
   "cell_type": "code",
   "execution_count": 36,
   "id": "3958356d-050d-419e-8efe-d1c12a339d95",
   "metadata": {},
   "outputs": [
    {
     "data": {
      "text/html": [
       "<div>\n",
       "<style scoped>\n",
       "    .dataframe tbody tr th:only-of-type {\n",
       "        vertical-align: middle;\n",
       "    }\n",
       "\n",
       "    .dataframe tbody tr th {\n",
       "        vertical-align: top;\n",
       "    }\n",
       "\n",
       "    .dataframe thead th {\n",
       "        text-align: right;\n",
       "    }\n",
       "</style>\n",
       "<table border=\"1\" class=\"dataframe\">\n",
       "  <thead>\n",
       "    <tr style=\"text-align: right;\">\n",
       "      <th></th>\n",
       "      <th>att</th>\n",
       "      <th>rep</th>\n",
       "      <th>mid</th>\n",
       "      <th>fin</th>\n",
       "    </tr>\n",
       "  </thead>\n",
       "  <tbody>\n",
       "    <tr>\n",
       "      <th>202212380</th>\n",
       "      <td>65</td>\n",
       "      <td>55</td>\n",
       "      <td>50</td>\n",
       "      <td>40</td>\n",
       "    </tr>\n",
       "    <tr>\n",
       "      <th>202212370</th>\n",
       "      <td>95</td>\n",
       "      <td>100</td>\n",
       "      <td>50</td>\n",
       "      <td>80</td>\n",
       "    </tr>\n",
       "    <tr>\n",
       "      <th>202212363</th>\n",
       "      <td>65</td>\n",
       "      <td>90</td>\n",
       "      <td>60</td>\n",
       "      <td>30</td>\n",
       "    </tr>\n",
       "    <tr>\n",
       "      <th>202212488</th>\n",
       "      <td>55</td>\n",
       "      <td>80</td>\n",
       "      <td>75</td>\n",
       "      <td>80</td>\n",
       "    </tr>\n",
       "    <tr>\n",
       "      <th>202212312</th>\n",
       "      <td>80</td>\n",
       "      <td>30</td>\n",
       "      <td>30</td>\n",
       "      <td>100</td>\n",
       "    </tr>\n",
       "    <tr>\n",
       "      <th>202212377</th>\n",
       "      <td>75</td>\n",
       "      <td>40</td>\n",
       "      <td>100</td>\n",
       "      <td>15</td>\n",
       "    </tr>\n",
       "    <tr>\n",
       "      <th>202212463</th>\n",
       "      <td>65</td>\n",
       "      <td>45</td>\n",
       "      <td>45</td>\n",
       "      <td>90</td>\n",
       "    </tr>\n",
       "    <tr>\n",
       "      <th>202212471</th>\n",
       "      <td>60</td>\n",
       "      <td>60</td>\n",
       "      <td>25</td>\n",
       "      <td>0</td>\n",
       "    </tr>\n",
       "    <tr>\n",
       "      <th>202212400</th>\n",
       "      <td>95</td>\n",
       "      <td>65</td>\n",
       "      <td>20</td>\n",
       "      <td>10</td>\n",
       "    </tr>\n",
       "    <tr>\n",
       "      <th>202212469</th>\n",
       "      <td>90</td>\n",
       "      <td>80</td>\n",
       "      <td>80</td>\n",
       "      <td>20</td>\n",
       "    </tr>\n",
       "    <tr>\n",
       "      <th>202212318</th>\n",
       "      <td>55</td>\n",
       "      <td>75</td>\n",
       "      <td>35</td>\n",
       "      <td>25</td>\n",
       "    </tr>\n",
       "    <tr>\n",
       "      <th>202212432</th>\n",
       "      <td>95</td>\n",
       "      <td>95</td>\n",
       "      <td>45</td>\n",
       "      <td>0</td>\n",
       "    </tr>\n",
       "    <tr>\n",
       "      <th>202212443</th>\n",
       "      <td>95</td>\n",
       "      <td>55</td>\n",
       "      <td>15</td>\n",
       "      <td>35</td>\n",
       "    </tr>\n",
       "    <tr>\n",
       "      <th>202212367</th>\n",
       "      <td>50</td>\n",
       "      <td>80</td>\n",
       "      <td>40</td>\n",
       "      <td>30</td>\n",
       "    </tr>\n",
       "    <tr>\n",
       "      <th>202212458</th>\n",
       "      <td>50</td>\n",
       "      <td>55</td>\n",
       "      <td>15</td>\n",
       "      <td>85</td>\n",
       "    </tr>\n",
       "    <tr>\n",
       "      <th>202212396</th>\n",
       "      <td>95</td>\n",
       "      <td>30</td>\n",
       "      <td>30</td>\n",
       "      <td>95</td>\n",
       "    </tr>\n",
       "    <tr>\n",
       "      <th>202212482</th>\n",
       "      <td>50</td>\n",
       "      <td>50</td>\n",
       "      <td>45</td>\n",
       "      <td>10</td>\n",
       "    </tr>\n",
       "    <tr>\n",
       "      <th>202212452</th>\n",
       "      <td>65</td>\n",
       "      <td>55</td>\n",
       "      <td>15</td>\n",
       "      <td>45</td>\n",
       "    </tr>\n",
       "    <tr>\n",
       "      <th>202212387</th>\n",
       "      <td>70</td>\n",
       "      <td>70</td>\n",
       "      <td>40</td>\n",
       "      <td>35</td>\n",
       "    </tr>\n",
       "    <tr>\n",
       "      <th>202212354</th>\n",
       "      <td>90</td>\n",
       "      <td>90</td>\n",
       "      <td>80</td>\n",
       "      <td>90</td>\n",
       "    </tr>\n",
       "  </tbody>\n",
       "</table>\n",
       "</div>"
      ],
      "text/plain": [
       "           att  rep  mid  fin\n",
       "202212380   65   55   50   40\n",
       "202212370   95  100   50   80\n",
       "202212363   65   90   60   30\n",
       "202212488   55   80   75   80\n",
       "202212312   80   30   30  100\n",
       "202212377   75   40  100   15\n",
       "202212463   65   45   45   90\n",
       "202212471   60   60   25    0\n",
       "202212400   95   65   20   10\n",
       "202212469   90   80   80   20\n",
       "202212318   55   75   35   25\n",
       "202212432   95   95   45    0\n",
       "202212443   95   55   15   35\n",
       "202212367   50   80   40   30\n",
       "202212458   50   55   15   85\n",
       "202212396   95   30   30   95\n",
       "202212482   50   50   45   10\n",
       "202212452   65   55   15   45\n",
       "202212387   70   70   40   35\n",
       "202212354   90   90   80   90"
      ]
     },
     "execution_count": 36,
     "metadata": {},
     "output_type": "execute_result"
    }
   ],
   "source": [
    "df=df.set_index([key])\n",
    "df"
   ]
  },
  {
   "cell_type": "markdown",
   "id": "550fbd9d-9c78-4411-97f8-5fc9f8b5179d",
   "metadata": {},
   "source": [
    "### 해싱으로 원하는 정보를 뽑으면 좋겠다(마치 딕셔너리처럼)"
   ]
  },
  {
   "cell_type": "markdown",
   "id": "02007927-d1c1-4ab6-a8e0-04c1fe803860",
   "metadata": {},
   "source": [
    "`-` 예제1: 출석점수를 출력"
   ]
  },
  {
   "cell_type": "code",
   "execution_count": 37,
   "id": "7978be9a-335d-4572-bd43-23bd8eb2a050",
   "metadata": {},
   "outputs": [
    {
     "data": {
      "text/plain": [
       "{'202212380': 65,\n",
       " '202212370': 95,\n",
       " '202212363': 65,\n",
       " '202212488': 55,\n",
       " '202212312': 80,\n",
       " '202212377': 75,\n",
       " '202212463': 65,\n",
       " '202212471': 60,\n",
       " '202212400': 95,\n",
       " '202212469': 90,\n",
       " '202212318': 55,\n",
       " '202212432': 95,\n",
       " '202212443': 95,\n",
       " '202212367': 50,\n",
       " '202212458': 50,\n",
       " '202212396': 95,\n",
       " '202212482': 50,\n",
       " '202212452': 65,\n",
       " '202212387': 70,\n",
       " '202212354': 90}"
      ]
     },
     "execution_count": 37,
     "metadata": {},
     "output_type": "execute_result"
    }
   ],
   "source": [
    "test_dic2['att']"
   ]
  },
  {
   "cell_type": "code",
   "execution_count": 38,
   "id": "fd5bb49c-7ace-4904-9f66-e22f89332933",
   "metadata": {},
   "outputs": [
    {
     "data": {
      "text/plain": [
       "202212380    65\n",
       "202212370    95\n",
       "202212363    65\n",
       "202212488    55\n",
       "202212312    80\n",
       "202212377    75\n",
       "202212463    65\n",
       "202212471    60\n",
       "202212400    95\n",
       "202212469    90\n",
       "202212318    55\n",
       "202212432    95\n",
       "202212443    95\n",
       "202212367    50\n",
       "202212458    50\n",
       "202212396    95\n",
       "202212482    50\n",
       "202212452    65\n",
       "202212387    70\n",
       "202212354    90\n",
       "Name: att, dtype: int64"
      ]
     },
     "execution_count": 38,
     "metadata": {},
     "output_type": "execute_result"
    }
   ],
   "source": [
    "df['att']"
   ]
  },
  {
   "cell_type": "markdown",
   "id": "4abaa6b9-50b3-4458-ba6c-ddb8cb6eaecc",
   "metadata": {},
   "source": [
    "`-` 예제2: 학번 202212380의 출석점수 출력"
   ]
  },
  {
   "cell_type": "code",
   "execution_count": 39,
   "id": "32ffc729-b87a-4425-bc3c-7152556390f5",
   "metadata": {},
   "outputs": [
    {
     "data": {
      "text/plain": [
       "65"
      ]
     },
     "execution_count": 39,
     "metadata": {},
     "output_type": "execute_result"
    }
   ],
   "source": [
    "test_dic2['att']['202212380']"
   ]
  },
  {
   "cell_type": "code",
   "execution_count": 40,
   "id": "186604d5-dbe1-468f-a8ad-101ef739f460",
   "metadata": {},
   "outputs": [
    {
     "data": {
      "text/plain": [
       "65"
      ]
     },
     "execution_count": 40,
     "metadata": {},
     "output_type": "execute_result"
    }
   ],
   "source": [
    "df['att']['202212380']"
   ]
  },
  {
   "cell_type": "markdown",
   "id": "90633d94-c713-454e-9a0b-b01ddea866a1",
   "metadata": {},
   "source": [
    "### 인덱싱으로 정보를 뽑는 기능도 지원을 하면 좋겠다(마치 리스트나 넘파이처럼)"
   ]
  },
  {
   "cell_type": "markdown",
   "id": "a806545e-dc17-4599-a049-c0f1bfdf3299",
   "metadata": {},
   "source": [
    "`-` 예제1: 첫번째 학생의 기말고사 성적을 출력하고 싶다."
   ]
  },
  {
   "cell_type": "code",
   "execution_count": 42,
   "id": "c2bd8f2b-3aaa-4bc2-be06-f37fc13d96ea",
   "metadata": {},
   "outputs": [
    {
     "data": {
      "text/plain": [
       "40"
      ]
     },
     "execution_count": 42,
     "metadata": {},
     "output_type": "execute_result"
    }
   ],
   "source": [
    "test_ndarray[0,-1]"
   ]
  },
  {
   "cell_type": "code",
   "execution_count": 43,
   "id": "7ec5206f-c27e-4416-8c00-c6b5b05a679f",
   "metadata": {},
   "outputs": [
    {
     "data": {
      "text/plain": [
       "40"
      ]
     },
     "execution_count": 43,
     "metadata": {},
     "output_type": "execute_result"
    }
   ],
   "source": [
    "df.iloc[0,-1]"
   ]
  },
  {
   "cell_type": "markdown",
   "id": "23c608e4-89a1-4d19-b360-dd5797190751",
   "metadata": {},
   "source": [
    "- 벼락치기 : df에서 iloc이라는 특수기능을 이용하면 넘파이 인덱싱처럼 원소출력이 가능"
   ]
  },
  {
   "cell_type": "markdown",
   "id": "9f2dea30-78a4-4ab9-96ae-b966b92ebc37",
   "metadata": {},
   "source": [
    "`-` 예제2: 홀수번째 학생의 점수를 뽑고 싶다."
   ]
  },
  {
   "cell_type": "code",
   "execution_count": 44,
   "id": "677296a3-1074-4785-9b81-b35594caec7f",
   "metadata": {},
   "outputs": [
    {
     "data": {
      "text/plain": [
       "array([[202212380,        65,        55,        50,        40],\n",
       "       [202212363,        65,        90,        60,        30],\n",
       "       [202212312,        80,        30,        30,       100],\n",
       "       [202212463,        65,        45,        45,        90],\n",
       "       [202212400,        95,        65,        20,        10],\n",
       "       [202212318,        55,        75,        35,        25],\n",
       "       [202212443,        95,        55,        15,        35],\n",
       "       [202212458,        50,        55,        15,        85],\n",
       "       [202212482,        50,        50,        45,        10],\n",
       "       [202212387,        70,        70,        40,        35]])"
      ]
     },
     "execution_count": 44,
     "metadata": {},
     "output_type": "execute_result"
    }
   ],
   "source": [
    "test_ndarray[::2]"
   ]
  },
  {
   "cell_type": "code",
   "execution_count": 45,
   "id": "7f3dde20-ad7c-4e75-bee4-59e7dc7538e3",
   "metadata": {},
   "outputs": [
    {
     "data": {
      "text/html": [
       "<div>\n",
       "<style scoped>\n",
       "    .dataframe tbody tr th:only-of-type {\n",
       "        vertical-align: middle;\n",
       "    }\n",
       "\n",
       "    .dataframe tbody tr th {\n",
       "        vertical-align: top;\n",
       "    }\n",
       "\n",
       "    .dataframe thead th {\n",
       "        text-align: right;\n",
       "    }\n",
       "</style>\n",
       "<table border=\"1\" class=\"dataframe\">\n",
       "  <thead>\n",
       "    <tr style=\"text-align: right;\">\n",
       "      <th></th>\n",
       "      <th>att</th>\n",
       "      <th>rep</th>\n",
       "      <th>mid</th>\n",
       "      <th>fin</th>\n",
       "    </tr>\n",
       "  </thead>\n",
       "  <tbody>\n",
       "    <tr>\n",
       "      <th>202212380</th>\n",
       "      <td>65</td>\n",
       "      <td>55</td>\n",
       "      <td>50</td>\n",
       "      <td>40</td>\n",
       "    </tr>\n",
       "    <tr>\n",
       "      <th>202212363</th>\n",
       "      <td>65</td>\n",
       "      <td>90</td>\n",
       "      <td>60</td>\n",
       "      <td>30</td>\n",
       "    </tr>\n",
       "    <tr>\n",
       "      <th>202212312</th>\n",
       "      <td>80</td>\n",
       "      <td>30</td>\n",
       "      <td>30</td>\n",
       "      <td>100</td>\n",
       "    </tr>\n",
       "    <tr>\n",
       "      <th>202212463</th>\n",
       "      <td>65</td>\n",
       "      <td>45</td>\n",
       "      <td>45</td>\n",
       "      <td>90</td>\n",
       "    </tr>\n",
       "    <tr>\n",
       "      <th>202212400</th>\n",
       "      <td>95</td>\n",
       "      <td>65</td>\n",
       "      <td>20</td>\n",
       "      <td>10</td>\n",
       "    </tr>\n",
       "    <tr>\n",
       "      <th>202212318</th>\n",
       "      <td>55</td>\n",
       "      <td>75</td>\n",
       "      <td>35</td>\n",
       "      <td>25</td>\n",
       "    </tr>\n",
       "    <tr>\n",
       "      <th>202212443</th>\n",
       "      <td>95</td>\n",
       "      <td>55</td>\n",
       "      <td>15</td>\n",
       "      <td>35</td>\n",
       "    </tr>\n",
       "    <tr>\n",
       "      <th>202212458</th>\n",
       "      <td>50</td>\n",
       "      <td>55</td>\n",
       "      <td>15</td>\n",
       "      <td>85</td>\n",
       "    </tr>\n",
       "    <tr>\n",
       "      <th>202212482</th>\n",
       "      <td>50</td>\n",
       "      <td>50</td>\n",
       "      <td>45</td>\n",
       "      <td>10</td>\n",
       "    </tr>\n",
       "    <tr>\n",
       "      <th>202212387</th>\n",
       "      <td>70</td>\n",
       "      <td>70</td>\n",
       "      <td>40</td>\n",
       "      <td>35</td>\n",
       "    </tr>\n",
       "  </tbody>\n",
       "</table>\n",
       "</div>"
      ],
      "text/plain": [
       "           att  rep  mid  fin\n",
       "202212380   65   55   50   40\n",
       "202212363   65   90   60   30\n",
       "202212312   80   30   30  100\n",
       "202212463   65   45   45   90\n",
       "202212400   95   65   20   10\n",
       "202212318   55   75   35   25\n",
       "202212443   95   55   15   35\n",
       "202212458   50   55   15   85\n",
       "202212482   50   50   45   10\n",
       "202212387   70   70   40   35"
      ]
     },
     "execution_count": 45,
     "metadata": {},
     "output_type": "execute_result"
    }
   ],
   "source": [
    "df.iloc[::2]"
   ]
  },
  {
   "cell_type": "markdown",
   "id": "aff077d0-00b5-4eae-95c2-8f33868903db",
   "metadata": {},
   "source": [
    "`-` 예제3: 맨 끝에서 3명의 점수를 출력하고 싶다."
   ]
  },
  {
   "cell_type": "code",
   "execution_count": 46,
   "id": "a3031b60-60f2-41c4-b059-d3232d3b5c17",
   "metadata": {},
   "outputs": [
    {
     "data": {
      "text/plain": [
       "array([[202212452,        65,        55,        15,        45],\n",
       "       [202212387,        70,        70,        40,        35],\n",
       "       [202212354,        90,        90,        80,        90]])"
      ]
     },
     "execution_count": 46,
     "metadata": {},
     "output_type": "execute_result"
    }
   ],
   "source": [
    "test_ndarray[-3:]"
   ]
  },
  {
   "cell_type": "code",
   "execution_count": 47,
   "id": "544ba0d5-53fd-4224-b9bb-47d1bf0d39a7",
   "metadata": {},
   "outputs": [
    {
     "data": {
      "text/html": [
       "<div>\n",
       "<style scoped>\n",
       "    .dataframe tbody tr th:only-of-type {\n",
       "        vertical-align: middle;\n",
       "    }\n",
       "\n",
       "    .dataframe tbody tr th {\n",
       "        vertical-align: top;\n",
       "    }\n",
       "\n",
       "    .dataframe thead th {\n",
       "        text-align: right;\n",
       "    }\n",
       "</style>\n",
       "<table border=\"1\" class=\"dataframe\">\n",
       "  <thead>\n",
       "    <tr style=\"text-align: right;\">\n",
       "      <th></th>\n",
       "      <th>att</th>\n",
       "      <th>rep</th>\n",
       "      <th>mid</th>\n",
       "      <th>fin</th>\n",
       "    </tr>\n",
       "  </thead>\n",
       "  <tbody>\n",
       "    <tr>\n",
       "      <th>202212452</th>\n",
       "      <td>65</td>\n",
       "      <td>55</td>\n",
       "      <td>15</td>\n",
       "      <td>45</td>\n",
       "    </tr>\n",
       "    <tr>\n",
       "      <th>202212387</th>\n",
       "      <td>70</td>\n",
       "      <td>70</td>\n",
       "      <td>40</td>\n",
       "      <td>35</td>\n",
       "    </tr>\n",
       "    <tr>\n",
       "      <th>202212354</th>\n",
       "      <td>90</td>\n",
       "      <td>90</td>\n",
       "      <td>80</td>\n",
       "      <td>90</td>\n",
       "    </tr>\n",
       "  </tbody>\n",
       "</table>\n",
       "</div>"
      ],
      "text/plain": [
       "           att  rep  mid  fin\n",
       "202212452   65   55   15   45\n",
       "202212387   70   70   40   35\n",
       "202212354   90   90   80   90"
      ]
     },
     "execution_count": 47,
     "metadata": {},
     "output_type": "execute_result"
    }
   ],
   "source": [
    "df.iloc[-3:]"
   ]
  },
  {
   "cell_type": "markdown",
   "id": "cb7a70cd-07c8-4339-b8a7-43a563c5bc1d",
   "metadata": {},
   "source": [
    "`-` 예제4: 맨 끝에서 3명의 점수중 마지막 2개의 칼럼만 출력하고 싶다."
   ]
  },
  {
   "cell_type": "code",
   "execution_count": 48,
   "id": "ccb34419-37e5-4cb6-b5c1-cc24baa911b5",
   "metadata": {},
   "outputs": [
    {
     "data": {
      "text/plain": [
       "array([[15, 45],\n",
       "       [40, 35],\n",
       "       [80, 90]])"
      ]
     },
     "execution_count": 48,
     "metadata": {},
     "output_type": "execute_result"
    }
   ],
   "source": [
    "test_ndarray[-3:,-2:]"
   ]
  },
  {
   "cell_type": "code",
   "execution_count": 49,
   "id": "e8df7925-bf29-4f29-b200-86dced88443e",
   "metadata": {},
   "outputs": [
    {
     "data": {
      "text/html": [
       "<div>\n",
       "<style scoped>\n",
       "    .dataframe tbody tr th:only-of-type {\n",
       "        vertical-align: middle;\n",
       "    }\n",
       "\n",
       "    .dataframe tbody tr th {\n",
       "        vertical-align: top;\n",
       "    }\n",
       "\n",
       "    .dataframe thead th {\n",
       "        text-align: right;\n",
       "    }\n",
       "</style>\n",
       "<table border=\"1\" class=\"dataframe\">\n",
       "  <thead>\n",
       "    <tr style=\"text-align: right;\">\n",
       "      <th></th>\n",
       "      <th>mid</th>\n",
       "      <th>fin</th>\n",
       "    </tr>\n",
       "  </thead>\n",
       "  <tbody>\n",
       "    <tr>\n",
       "      <th>202212452</th>\n",
       "      <td>15</td>\n",
       "      <td>45</td>\n",
       "    </tr>\n",
       "    <tr>\n",
       "      <th>202212387</th>\n",
       "      <td>40</td>\n",
       "      <td>35</td>\n",
       "    </tr>\n",
       "    <tr>\n",
       "      <th>202212354</th>\n",
       "      <td>80</td>\n",
       "      <td>90</td>\n",
       "    </tr>\n",
       "  </tbody>\n",
       "</table>\n",
       "</div>"
      ],
      "text/plain": [
       "           mid  fin\n",
       "202212452   15   45\n",
       "202212387   40   35\n",
       "202212354   80   90"
      ]
     },
     "execution_count": 49,
     "metadata": {},
     "output_type": "execute_result"
    }
   ],
   "source": [
    "df.iloc[-3:,-2:]"
   ]
  },
  {
   "cell_type": "markdown",
   "id": "122c5e83-a779-4ce5-a173-e207e124e5a8",
   "metadata": {},
   "source": [
    "## 궁극 : 해싱과 인덱싱을 모두 지원하는 아주 우수한 자료형을 만들고 싶음"
   ]
  },
  {
   "cell_type": "markdown",
   "id": "347ae796-9c5a-49ba-850a-89019d0c1e79",
   "metadata": {},
   "source": [
    "`-` 예제1 : 중간고사 점수가 20점 이상이면서 동시에 출석점수가 60점미만인 학생들의 기말고사 점수를 출력"
   ]
  },
  {
   "cell_type": "markdown",
   "id": "32ac9a57-e1dd-4808-8578-85aae39f0488",
   "metadata": {},
   "source": [
    "(방법1) : 데이터베이스 스타일"
   ]
  },
  {
   "cell_type": "code",
   "execution_count": 50,
   "id": "e43b89a7-c9bb-43dc-99ad-6d99342e9ddc",
   "metadata": {},
   "outputs": [
    {
     "data": {
      "text/html": [
       "<div>\n",
       "<style scoped>\n",
       "    .dataframe tbody tr th:only-of-type {\n",
       "        vertical-align: middle;\n",
       "    }\n",
       "\n",
       "    .dataframe tbody tr th {\n",
       "        vertical-align: top;\n",
       "    }\n",
       "\n",
       "    .dataframe thead th {\n",
       "        text-align: right;\n",
       "    }\n",
       "</style>\n",
       "<table border=\"1\" class=\"dataframe\">\n",
       "  <thead>\n",
       "    <tr style=\"text-align: right;\">\n",
       "      <th></th>\n",
       "      <th>att</th>\n",
       "      <th>rep</th>\n",
       "      <th>mid</th>\n",
       "      <th>fin</th>\n",
       "    </tr>\n",
       "  </thead>\n",
       "  <tbody>\n",
       "    <tr>\n",
       "      <th>202212488</th>\n",
       "      <td>55</td>\n",
       "      <td>80</td>\n",
       "      <td>75</td>\n",
       "      <td>80</td>\n",
       "    </tr>\n",
       "    <tr>\n",
       "      <th>202212318</th>\n",
       "      <td>55</td>\n",
       "      <td>75</td>\n",
       "      <td>35</td>\n",
       "      <td>25</td>\n",
       "    </tr>\n",
       "    <tr>\n",
       "      <th>202212367</th>\n",
       "      <td>50</td>\n",
       "      <td>80</td>\n",
       "      <td>40</td>\n",
       "      <td>30</td>\n",
       "    </tr>\n",
       "    <tr>\n",
       "      <th>202212482</th>\n",
       "      <td>50</td>\n",
       "      <td>50</td>\n",
       "      <td>45</td>\n",
       "      <td>10</td>\n",
       "    </tr>\n",
       "  </tbody>\n",
       "</table>\n",
       "</div>"
      ],
      "text/plain": [
       "           att  rep  mid  fin\n",
       "202212488   55   80   75   80\n",
       "202212318   55   75   35   25\n",
       "202212367   50   80   40   30\n",
       "202212482   50   50   45   10"
      ]
     },
     "execution_count": 50,
     "metadata": {},
     "output_type": "execute_result"
    }
   ],
   "source": [
    "df.query(\"mid >= 20 and att <60\")"
   ]
  },
  {
   "cell_type": "code",
   "execution_count": 51,
   "id": "2fa41c4b-13c5-4705-acca-76b8847490ac",
   "metadata": {},
   "outputs": [
    {
     "data": {
      "text/plain": [
       "202212488    80\n",
       "202212318    25\n",
       "202212367    30\n",
       "202212482    10\n",
       "Name: fin, dtype: int64"
      ]
     },
     "execution_count": 51,
     "metadata": {},
     "output_type": "execute_result"
    }
   ],
   "source": [
    "df.query(\"mid >=20 and att <60\")['fin']"
   ]
  },
  {
   "cell_type": "markdown",
   "id": "621d42ac-ab7f-4ae9-b591-b34a79958f6e",
   "metadata": {},
   "source": [
    "(방법2) 넘파이스타일"
   ]
  },
  {
   "cell_type": "code",
   "execution_count": 52,
   "id": "f34b8b91-4142-49fc-9c24-9d3dcd66954e",
   "metadata": {},
   "outputs": [
    {
     "data": {
      "text/plain": [
       "array([[202212380,        65,        55,        50,        40],\n",
       "       [202212370,        95,       100,        50,        80],\n",
       "       [202212363,        65,        90,        60,        30],\n",
       "       [202212488,        55,        80,        75,        80],\n",
       "       [202212312,        80,        30,        30,       100],\n",
       "       [202212377,        75,        40,       100,        15],\n",
       "       [202212463,        65,        45,        45,        90],\n",
       "       [202212471,        60,        60,        25,         0],\n",
       "       [202212400,        95,        65,        20,        10],\n",
       "       [202212469,        90,        80,        80,        20],\n",
       "       [202212318,        55,        75,        35,        25],\n",
       "       [202212432,        95,        95,        45,         0],\n",
       "       [202212443,        95,        55,        15,        35],\n",
       "       [202212367,        50,        80,        40,        30],\n",
       "       [202212458,        50,        55,        15,        85],\n",
       "       [202212396,        95,        30,        30,        95],\n",
       "       [202212482,        50,        50,        45,        10],\n",
       "       [202212452,        65,        55,        15,        45],\n",
       "       [202212387,        70,        70,        40,        35],\n",
       "       [202212354,        90,        90,        80,        90]])"
      ]
     },
     "execution_count": 52,
     "metadata": {},
     "output_type": "execute_result"
    }
   ],
   "source": [
    "test_ndarray"
   ]
  },
  {
   "cell_type": "code",
   "execution_count": 53,
   "id": "07bf87da-2a62-4b43-a72f-0a3b5c224d9d",
   "metadata": {},
   "outputs": [
    {
     "data": {
      "text/plain": [
       "array([ True,  True,  True,  True,  True,  True,  True,  True,  True,\n",
       "        True,  True,  True, False,  True, False,  True,  True, False,\n",
       "        True,  True])"
      ]
     },
     "execution_count": 53,
     "metadata": {},
     "output_type": "execute_result"
    }
   ],
   "source": [
    "test_ndarray[:,3] >= 20 ##중간고사 20점 이상"
   ]
  },
  {
   "cell_type": "code",
   "execution_count": 54,
   "id": "30efbfa4-481a-4432-80f9-963ed958a84e",
   "metadata": {},
   "outputs": [
    {
     "data": {
      "text/plain": [
       "array([False, False, False,  True, False, False, False, False, False,\n",
       "       False,  True, False, False,  True,  True, False,  True, False,\n",
       "       False, False])"
      ]
     },
     "execution_count": 54,
     "metadata": {},
     "output_type": "execute_result"
    }
   ],
   "source": [
    "test_ndarray[:,1] <60 ##출석 60미만"
   ]
  },
  {
   "cell_type": "code",
   "execution_count": 55,
   "id": "9be7df17-90a3-4232-b9df-ed4d1a5c1c75",
   "metadata": {},
   "outputs": [
    {
     "data": {
      "text/plain": [
       "array([False, False, False,  True, False, False, False, False, False,\n",
       "       False,  True, False, False,  True, False, False,  True, False,\n",
       "       False, False])"
      ]
     },
     "execution_count": 55,
     "metadata": {},
     "output_type": "execute_result"
    }
   ],
   "source": [
    "(test_ndarray[:,3] >= 20) & (test_ndarray[:,1] <60)"
   ]
  },
  {
   "cell_type": "code",
   "execution_count": 57,
   "id": "d063361f-1b10-4933-8712-a9a84aec01a7",
   "metadata": {},
   "outputs": [
    {
     "data": {
      "text/plain": [
       "array([80, 25, 30, 10])"
      ]
     },
     "execution_count": 57,
     "metadata": {},
     "output_type": "execute_result"
    }
   ],
   "source": [
    "test_ndarray[(test_ndarray[:,3] >= 20) & (test_ndarray[:,1] <60),-1]"
   ]
  },
  {
   "cell_type": "markdown",
   "id": "ff0d0cea-197d-4eb5-9543-7f5551c6994d",
   "metadata": {},
   "source": [
    "- 구현난이도 어려움, 가독성 꽝"
   ]
  },
  {
   "cell_type": "markdown",
   "id": "96c62a7b-48db-48ba-8e8d-9ee3c056b83f",
   "metadata": {},
   "source": [
    "`-` 예제2: '중간고사점수 < 기말고사점수' 인 학생들의 출석점수 평균 구하기"
   ]
  },
  {
   "cell_type": "code",
   "execution_count": 58,
   "id": "c2b3feba-3043-4209-8f22-b09bec2b4090",
   "metadata": {},
   "outputs": [
    {
     "data": {
      "text/plain": [
       "76.66666666666667"
      ]
     },
     "execution_count": 58,
     "metadata": {},
     "output_type": "execute_result"
    }
   ],
   "source": [
    "df.query('mid < fin')['att'].mean()"
   ]
  },
  {
   "cell_type": "code",
   "execution_count": null,
   "id": "2f080268-eb63-46c7-8133-cfd94e04903b",
   "metadata": {},
   "outputs": [],
   "source": []
  }
 ],
 "metadata": {
  "kernelspec": {
   "display_name": "Python 3 (ipykernel)",
   "language": "python",
   "name": "python3"
  },
  "language_info": {
   "codemirror_mode": {
    "name": "ipython",
    "version": 3
   },
   "file_extension": ".py",
   "mimetype": "text/x-python",
   "name": "python",
   "nbconvert_exporter": "python",
   "pygments_lexer": "ipython3",
   "version": "3.9.7"
  }
 },
 "nbformat": 4,
 "nbformat_minor": 5
}
