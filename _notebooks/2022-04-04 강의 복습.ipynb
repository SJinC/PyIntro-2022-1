{
 "cells": [
  {
   "cell_type": "markdown",
   "id": "88c93e97-8257-4487-b15d-97f860eb88e5",
   "metadata": {},
   "source": [
    "# 파이썬 4월 4일 강의 복습\n",
    "> \"6월 30일\"\n",
    "\n",
    "- toc:true\n",
    "- branch: master\n",
    "- badges: true\n",
    "- comments: true\n",
    "- author: 최석진\n",
    "- categories: [Python]"
   ]
  },
  {
   "cell_type": "markdown",
   "id": "0c881cbb-d537-41ae-8071-215a077a28df",
   "metadata": {},
   "source": [
    "## 소스코드 관리, 모듈, 패키지, 라이브러리\n",
    "- June 30, 2022"
   ]
  },
  {
   "cell_type": "markdown",
   "id": "bc75cb1b-5894-4cc1-8769-2016bc36ef96",
   "metadata": {},
   "source": [
    "### intro"
   ]
  },
  {
   "cell_type": "markdown",
   "id": "c231aeae-9246-44f7-b7d0-45c93fce3889",
   "metadata": {},
   "source": [
    "`-` 현재 파이썬은 길이가 2인 벡터의 덧셈을 지원하지 않음"
   ]
  },
  {
   "cell_type": "code",
   "execution_count": 1,
   "id": "96cadab4-2132-436c-9f01-213031a75898",
   "metadata": {},
   "outputs": [
    {
     "data": {
      "text/plain": [
       "[1, 2, 3, 4]"
      ]
     },
     "execution_count": 1,
     "metadata": {},
     "output_type": "execute_result"
    }
   ],
   "source": [
    "a=[1,2]\n",
    "b=[3,4]\n",
    "a+b"
   ]
  },
  {
   "cell_type": "markdown",
   "id": "df43e64f-668a-43d2-bca3-bf488d3dca3a",
   "metadata": {},
   "source": [
    "`-` 아래와 같은 기능을 구현하는 함수를 만들고 싶음"
   ]
  },
  {
   "cell_type": "markdown",
   "id": "5d53d0ae-ce73-4f67-8509-2f3b7497194e",
   "metadata": {},
   "source": [
    "[1,2],[3,4] -> [4,6]"
   ]
  },
  {
   "cell_type": "markdown",
   "id": "b6e28505-d649-4313-9a32-c0fd4ae665e2",
   "metadata": {},
   "source": [
    "`-`구현"
   ]
  },
  {
   "cell_type": "code",
   "execution_count": 4,
   "id": "e24dd0c2-3354-4773-8d6d-72aaace8e16d",
   "metadata": {},
   "outputs": [],
   "source": [
    "def vec2_add(a,b):\n",
    "    return [a[0]+b[0],a[1]+b[1]]"
   ]
  },
  {
   "cell_type": "code",
   "execution_count": 5,
   "id": "ab53ea01-bbf2-4999-9705-48fb693636c5",
   "metadata": {},
   "outputs": [],
   "source": [
    "a=[1,2]\n",
    "b=[3,4]"
   ]
  },
  {
   "cell_type": "code",
   "execution_count": 6,
   "id": "a006bcba-e63f-45f2-94bb-a2ced2a1edd0",
   "metadata": {},
   "outputs": [
    {
     "data": {
      "text/plain": [
       "[4, 6]"
      ]
     },
     "execution_count": 6,
     "metadata": {},
     "output_type": "execute_result"
    }
   ],
   "source": [
    "vec2_add(a,b)"
   ]
  },
  {
   "cell_type": "markdown",
   "id": "b082b8e8-a3b0-4a6a-acc2-f8197341fc25",
   "metadata": {},
   "source": [
    "### make `myfuns.py`"
   ]
  },
  {
   "cell_type": "markdown",
   "id": "1f7c8e2a-4795-4624-9041-c8b47a403131",
   "metadata": {},
   "source": [
    "`-` vec2_add 기능은 앞으로 자주 사용할 기능임\n",
    "\n",
    "`-` 그런데 현재의 방법으로는 내가 노트북 파일을 만들 때마다 `def vec2_add(a,b):`와 같은 형태로 매번 정의해줘야 하는 불편함이 있음."
   ]
  },
  {
   "cell_type": "markdown",
   "id": "44139e04-247e-4d77-a739-2605e00a4969",
   "metadata": {},
   "source": [
    "해결1"
   ]
  },
  {
   "cell_type": "markdown",
   "id": "601a9ce6-7e4f-4486-8201-77b99783070b",
   "metadata": {},
   "source": [
    "`-` 자주 사용하는 함수를 `myfuns.py`에 저장"
   ]
  },
  {
   "cell_type": "code",
   "execution_count": 7,
   "id": "9913a5ad-243c-41b3-9941-59aaefba8f9c",
   "metadata": {},
   "outputs": [],
   "source": [
    "#myfuns.py\n",
    "def vec2_add(a,b):\n",
    "    return [a[0]+b[0],a[1]+b[1]]"
   ]
  },
  {
   "cell_type": "markdown",
   "id": "3da405aa-ac6d-46b0-9d6b-01f2808d17e9",
   "metadata": {},
   "source": [
    "`-` %run myfuns를 실행"
   ]
  },
  {
   "cell_type": "markdown",
   "id": "2b55a61e-495a-4ad1-a749-44c9dae63871",
   "metadata": {},
   "source": [
    "준비 : \"00\"-> 커널 재시작"
   ]
  },
  {
   "cell_type": "code",
   "execution_count": 9,
   "id": "d2d460c0-6e6b-4af4-8a4c-a1b01bd73623",
   "metadata": {},
   "outputs": [],
   "source": [
    "%run myfuns"
   ]
  },
  {
   "cell_type": "code",
   "execution_count": 10,
   "id": "f74696c8-b6c2-4060-994b-0c0f7e105ddc",
   "metadata": {},
   "outputs": [
    {
     "data": {
      "text/plain": [
       "[4, 6]"
      ]
     },
     "execution_count": 10,
     "metadata": {},
     "output_type": "execute_result"
    }
   ],
   "source": [
    "vec2_add([1,2],[3,4])"
   ]
  },
  {
   "cell_type": "raw",
   "id": "7e5dc55c-814c-464a-b64b-b6196666a653",
   "metadata": {},
   "source": [
    "해결2"
   ]
  },
  {
   "cell_type": "markdown",
   "id": "dbdc3391-3424-4506-a182-2a0812b8bf3a",
   "metadata": {},
   "source": [
    "`-` 자주 사용하는 함수를 `myfuns.py`에 저장"
   ]
  },
  {
   "cell_type": "code",
   "execution_count": 11,
   "id": "db2a0a3a-e1a9-4dbb-99d9-ac3e42119d64",
   "metadata": {},
   "outputs": [],
   "source": [
    "#myfuns.py\n",
    "def vec2_add(a,b):\n",
    "    return [a[0]+b[0],a[1]+b[1]]"
   ]
  },
  {
   "cell_type": "markdown",
   "id": "655bcfb1-4c7c-4c45-baf7-2efb23c6c75b",
   "metadata": {},
   "source": [
    "`-` import myfuns를 이용"
   ]
  },
  {
   "cell_type": "markdown",
   "id": "0d64c26a-ab67-4298-86a5-7a64fb5debb1",
   "metadata": {},
   "source": [
    "(준비) \"00\" -> 커널재시작"
   ]
  },
  {
   "cell_type": "code",
   "execution_count": 12,
   "id": "af327aef-0281-4bb6-baea-bb59e5b07ded",
   "metadata": {},
   "outputs": [],
   "source": [
    "import myfuns"
   ]
  },
  {
   "cell_type": "code",
   "execution_count": 13,
   "id": "07047627-3dfc-4a3b-b2cb-6edc316aabfe",
   "metadata": {},
   "outputs": [
    {
     "data": {
      "text/plain": [
       "[4, 6]"
      ]
     },
     "execution_count": 13,
     "metadata": {},
     "output_type": "execute_result"
    }
   ],
   "source": [
    "a=[1,2]\n",
    "b=[3,4]\n",
    "myfuns.vec2_add(a,b)"
   ]
  },
  {
   "cell_type": "markdown",
   "id": "d8a548ce-3480-41d3-925b-e57f242d19af",
   "metadata": {},
   "source": [
    "### import 기본"
   ]
  },
  {
   "cell_type": "markdown",
   "id": "53072d1a-a5ac-4156-a301-4132b073a563",
   "metadata": {},
   "source": [
    "#### 사용방법"
   ]
  },
  {
   "cell_type": "markdown",
   "id": "43c0eaaf-5489-47db-b884-3b30d75ba7d1",
   "metadata": {},
   "source": [
    "`-` 사용방법1"
   ]
  },
  {
   "cell_type": "markdown",
   "id": "e9258d29-c875-4da1-9b27-fe852b718153",
   "metadata": {},
   "source": [
    "준비 : \"00\" -> 커널재시작"
   ]
  },
  {
   "cell_type": "code",
   "execution_count": 1,
   "id": "9294d0fd-0dc3-4eb3-8aaf-bdad7d6c6284",
   "metadata": {},
   "outputs": [],
   "source": [
    "import myfuns"
   ]
  },
  {
   "cell_type": "code",
   "execution_count": 2,
   "id": "0edbb43d-0e87-4070-a0ed-40a61a2b98be",
   "metadata": {},
   "outputs": [
    {
     "data": {
      "text/plain": [
       "[4, 6]"
      ]
     },
     "execution_count": 2,
     "metadata": {},
     "output_type": "execute_result"
    }
   ],
   "source": [
    "myfuns.vec2_add([1,2],[3,4])"
   ]
  },
  {
   "cell_type": "markdown",
   "id": "40a4ff08-655c-4b01-9363-6eb16f59bf60",
   "metadata": {},
   "source": [
    "- myfuns.vec2_add의 의미 : myfuns.py라는 파일안에 vec2_add라는 함수가 있음. 그것을 실행.\n",
    "- `.`의 의미 : `상위개념.하위개념` "
   ]
  },
  {
   "cell_type": "markdown",
   "id": "abc16395-8ea6-4742-881a-467d6099602f",
   "metadata": {},
   "source": [
    "(주의) 아래와 같이 사용불가능"
   ]
  },
  {
   "cell_type": "code",
   "execution_count": 3,
   "id": "c20f2e05-a43d-4e69-a1ef-3830dd628df8",
   "metadata": {},
   "outputs": [
    {
     "ename": "NameError",
     "evalue": "name 'vec2_add' is not defined",
     "output_type": "error",
     "traceback": [
      "\u001b[0;31m---------------------------------------------------------------------------\u001b[0m",
      "\u001b[0;31mNameError\u001b[0m                                 Traceback (most recent call last)",
      "Input \u001b[0;32mIn [3]\u001b[0m, in \u001b[0;36m<cell line: 1>\u001b[0;34m()\u001b[0m\n\u001b[0;32m----> 1\u001b[0m \u001b[43mvec2_add\u001b[49m([\u001b[38;5;241m1\u001b[39m,\u001b[38;5;241m2\u001b[39m],[\u001b[38;5;241m3\u001b[39m,\u001b[38;5;241m4\u001b[39m])\n",
      "\u001b[0;31mNameError\u001b[0m: name 'vec2_add' is not defined"
     ]
    }
   ],
   "source": [
    "vec2_add([1,2],[3,4])"
   ]
  },
  {
   "cell_type": "markdown",
   "id": "57884aa4-7af9-4b0b-b70b-44eb816a59b8",
   "metadata": {},
   "source": [
    "`-` 사용방법2"
   ]
  },
  {
   "cell_type": "markdown",
   "id": "ee735252-ea5c-423a-a45f-3ba976689aa9",
   "metadata": {},
   "source": [
    "준비: \"00\"-> 커널재시작"
   ]
  },
  {
   "cell_type": "code",
   "execution_count": 1,
   "id": "f737b38e-bbdf-4121-b767-9688b71eb757",
   "metadata": {},
   "outputs": [],
   "source": [
    "from myfuns import vec2_add"
   ]
  },
  {
   "cell_type": "code",
   "execution_count": 2,
   "id": "942844e5-60d7-4355-88b1-600a4c4758b8",
   "metadata": {},
   "outputs": [
    {
     "data": {
      "text/plain": [
       "[4, 6]"
      ]
     },
     "execution_count": 2,
     "metadata": {},
     "output_type": "execute_result"
    }
   ],
   "source": [
    "vec2_add([1,2],[3,4])"
   ]
  },
  {
   "cell_type": "markdown",
   "id": "85646b4e-8c91-4a07-b572-20188aad6e47",
   "metadata": {},
   "source": [
    "(주의) 이 경우는 오히려 아래가 불가능함"
   ]
  },
  {
   "cell_type": "code",
   "execution_count": 4,
   "id": "6f27dc5b-de00-43f3-862b-ed9736cf5e13",
   "metadata": {},
   "outputs": [
    {
     "ename": "NameError",
     "evalue": "name 'myfuns' is not defined",
     "output_type": "error",
     "traceback": [
      "\u001b[0;31m---------------------------------------------------------------------------\u001b[0m",
      "\u001b[0;31mNameError\u001b[0m                                 Traceback (most recent call last)",
      "Input \u001b[0;32mIn [4]\u001b[0m, in \u001b[0;36m<cell line: 1>\u001b[0;34m()\u001b[0m\n\u001b[0;32m----> 1\u001b[0m \u001b[43mmyfuns\u001b[49m\u001b[38;5;241m.\u001b[39mvec2_add([\u001b[38;5;241m1\u001b[39m,\u001b[38;5;241m2\u001b[39m],[\u001b[38;5;241m3\u001b[39m,\u001b[38;5;241m4\u001b[39m])\n",
      "\u001b[0;31mNameError\u001b[0m: name 'myfuns' is not defined"
     ]
    }
   ],
   "source": [
    "myfuns.vec2_add([1,2],[3,4]) #myfuns안의 vec2_add만 import했지 myfuns자체를 import한것이 아님"
   ]
  },
  {
   "cell_type": "markdown",
   "id": "96cbe887-d6fb-4a69-8e60-fbff13f8b20e",
   "metadata": {},
   "source": [
    "`-` 사용방법3"
   ]
  },
  {
   "cell_type": "markdown",
   "id": "199b6be6-1992-49f3-96b7-790f44c5b016",
   "metadata": {},
   "source": [
    "준비:\"00\" -> 커널재시작"
   ]
  },
  {
   "cell_type": "code",
   "execution_count": 1,
   "id": "cb001ab9-13ec-435d-888b-54a60f4642f9",
   "metadata": {},
   "outputs": [],
   "source": [
    "import myfuns\n",
    "from myfuns import vec2_add"
   ]
  },
  {
   "cell_type": "code",
   "execution_count": 2,
   "id": "6311fd22-0564-49a7-b971-d170da87297f",
   "metadata": {},
   "outputs": [
    {
     "data": {
      "text/plain": [
       "[4, 6]"
      ]
     },
     "execution_count": 2,
     "metadata": {},
     "output_type": "execute_result"
    }
   ],
   "source": [
    "myfuns.vec2_add([1,2],[3,4])"
   ]
  },
  {
   "cell_type": "code",
   "execution_count": 3,
   "id": "0649071f-9ad5-4100-820a-45031ca40411",
   "metadata": {},
   "outputs": [
    {
     "data": {
      "text/plain": [
       "[4, 6]"
      ]
     },
     "execution_count": 3,
     "metadata": {},
     "output_type": "execute_result"
    }
   ],
   "source": [
    "vec2_add([1,2],[3,4])"
   ]
  },
  {
   "cell_type": "markdown",
   "id": "80ebc384-92c3-4b83-abb6-c8d54ce0cb28",
   "metadata": {},
   "source": [
    "`-`사용방법4"
   ]
  },
  {
   "cell_type": "markdown",
   "id": "2476299f-6813-49eb-a48a-e49d003a1f85",
   "metadata": {},
   "source": [
    "준비:\"00\" -> 커널재시작"
   ]
  },
  {
   "cell_type": "code",
   "execution_count": 1,
   "id": "5b461713-9795-4b94-bd58-1fda20d77f80",
   "metadata": {},
   "outputs": [],
   "source": [
    "from myfuns import vec2_add,vec2_sub"
   ]
  },
  {
   "cell_type": "code",
   "execution_count": 2,
   "id": "e7b417b2-afb5-4b5f-a75c-689315e2a432",
   "metadata": {},
   "outputs": [
    {
     "data": {
      "text/plain": [
       "[4, 6]"
      ]
     },
     "execution_count": 2,
     "metadata": {},
     "output_type": "execute_result"
    }
   ],
   "source": [
    "vec2_add([1,2],[3,4])"
   ]
  },
  {
   "cell_type": "code",
   "execution_count": 3,
   "id": "8801b550-376d-4f65-ba81-116810883e23",
   "metadata": {},
   "outputs": [
    {
     "data": {
      "text/plain": [
       "[-2, -2]"
      ]
     },
     "execution_count": 3,
     "metadata": {},
     "output_type": "execute_result"
    }
   ],
   "source": [
    "vec2_sub([1,2],[3,4])"
   ]
  },
  {
   "cell_type": "markdown",
   "id": "f3baa57a-501f-4948-93d6-52395db54c4d",
   "metadata": {},
   "source": [
    "`-`사용방법5"
   ]
  },
  {
   "cell_type": "markdown",
   "id": "2063399e-7f6f-4b72-98e2-4605f17db167",
   "metadata": {},
   "source": [
    "준비:\"00\" -> 커널재시작"
   ]
  },
  {
   "cell_type": "code",
   "execution_count": 4,
   "id": "e1d79e8e-378d-498d-92a8-94fbdde75b9d",
   "metadata": {},
   "outputs": [],
   "source": [
    "from myfuns import * #*는 all의 의미"
   ]
  },
  {
   "cell_type": "code",
   "execution_count": 5,
   "id": "5f8d5908-2e43-4fcc-b2cf-fc4250e8dc4b",
   "metadata": {},
   "outputs": [
    {
     "data": {
      "text/plain": [
       "[4, 6]"
      ]
     },
     "execution_count": 5,
     "metadata": {},
     "output_type": "execute_result"
    }
   ],
   "source": [
    "vec2_add([1,2],[3,4])"
   ]
  },
  {
   "cell_type": "code",
   "execution_count": 6,
   "id": "f821349c-1f3d-47f3-a066-437714af2315",
   "metadata": {},
   "outputs": [
    {
     "data": {
      "text/plain": [
       "[-2, -2]"
      ]
     },
     "execution_count": 6,
     "metadata": {},
     "output_type": "execute_result"
    }
   ],
   "source": [
    "vec2_sub([1,2],[3,4])"
   ]
  },
  {
   "cell_type": "markdown",
   "id": "585f9d57-2a20-41b9-b9b9-64684defdddb",
   "metadata": {},
   "source": [
    "`-`사용방법6"
   ]
  },
  {
   "cell_type": "markdown",
   "id": "b01533fe-e5a1-4708-aef7-26fb7c78feba",
   "metadata": {},
   "source": [
    "준비:\"00\" -> 커널재시작"
   ]
  },
  {
   "cell_type": "code",
   "execution_count": 7,
   "id": "b72c4dd6-43d0-44dc-8435-ab77a2f65980",
   "metadata": {},
   "outputs": [],
   "source": [
    "import myfuns as mf"
   ]
  },
  {
   "cell_type": "code",
   "execution_count": 8,
   "id": "e08eadbf-d3fa-4259-ba55-57c40b718096",
   "metadata": {},
   "outputs": [
    {
     "data": {
      "text/plain": [
       "[4, 6]"
      ]
     },
     "execution_count": 8,
     "metadata": {},
     "output_type": "execute_result"
    }
   ],
   "source": [
    "mf.vec2_add([1,2],[3,4])"
   ]
  },
  {
   "cell_type": "code",
   "execution_count": 9,
   "id": "d84c1496-2185-4507-9676-fe0e48fd8942",
   "metadata": {},
   "outputs": [
    {
     "data": {
      "text/plain": [
       "[-2, -2]"
      ]
     },
     "execution_count": 9,
     "metadata": {},
     "output_type": "execute_result"
    }
   ],
   "source": [
    "mf.vec2_sub([1,2],[3,4])"
   ]
  },
  {
   "cell_type": "markdown",
   "id": "d5f60c0e-af74-4168-b1a4-2d8d153d241b",
   "metadata": {},
   "source": [
    "오히려 아래는 실행불가능"
   ]
  },
  {
   "cell_type": "code",
   "execution_count": 12,
   "id": "66a323a5-2d0f-4279-9206-21b59f5425a9",
   "metadata": {},
   "outputs": [
    {
     "ename": "NameError",
     "evalue": "name 'myfuns' is not defined",
     "output_type": "error",
     "traceback": [
      "\u001b[0;31m---------------------------------------------------------------------------\u001b[0m",
      "\u001b[0;31mNameError\u001b[0m                                 Traceback (most recent call last)",
      "Input \u001b[0;32mIn [12]\u001b[0m, in \u001b[0;36m<cell line: 1>\u001b[0;34m()\u001b[0m\n\u001b[0;32m----> 1\u001b[0m \u001b[43mmyfuns\u001b[49m\u001b[38;5;241m.\u001b[39mvec2_add([\u001b[38;5;241m1\u001b[39m,\u001b[38;5;241m2\u001b[39m],[\u001b[38;5;241m3\u001b[39m,\u001b[38;5;241m4\u001b[39m])\n",
      "\u001b[0;31mNameError\u001b[0m: name 'myfuns' is not defined"
     ]
    }
   ],
   "source": [
    "myfuns.vec2_add([1,2],[3,4]) #myfuns를 mf로 불러왔기 때문에 myfuns이라는 건 존재하지 않음"
   ]
  },
  {
   "cell_type": "code",
   "execution_count": 13,
   "id": "dcfe8905-508c-4c2c-9d72-6c502e24e872",
   "metadata": {},
   "outputs": [
    {
     "ename": "NameError",
     "evalue": "name 'myfuns' is not defined",
     "output_type": "error",
     "traceback": [
      "\u001b[0;31m---------------------------------------------------------------------------\u001b[0m",
      "\u001b[0;31mNameError\u001b[0m                                 Traceback (most recent call last)",
      "Input \u001b[0;32mIn [13]\u001b[0m, in \u001b[0;36m<cell line: 1>\u001b[0;34m()\u001b[0m\n\u001b[0;32m----> 1\u001b[0m \u001b[43mmyfuns\u001b[49m\u001b[38;5;241m.\u001b[39mvec2_sub([\u001b[38;5;241m1\u001b[39m,\u001b[38;5;241m2\u001b[39m],[\u001b[38;5;241m3\u001b[39m,\u001b[38;5;241m4\u001b[39m])\n",
      "\u001b[0;31mNameError\u001b[0m: name 'myfuns' is not defined"
     ]
    }
   ],
   "source": [
    "myfuns.vec2_sub([1,2],[3,4]) #myfuns를 mf로 불러왔기 때문에 myfuns라는 건 존재하지 않음"
   ]
  },
  {
   "cell_type": "markdown",
   "id": "6783404b-d998-4663-9e9e-c8c356c6b98c",
   "metadata": {},
   "source": [
    "`-` 잘못된 사용방법1"
   ]
  },
  {
   "cell_type": "markdown",
   "id": "5ce86703-2740-4bac-93fe-f3cd2272f3e5",
   "metadata": {},
   "source": [
    "준비:\"00\" -> 커널재시작"
   ]
  },
  {
   "cell_type": "code",
   "execution_count": 1,
   "id": "13e9fedf-27c6-4873-ac8f-e1641b3d736d",
   "metadata": {},
   "outputs": [],
   "source": [
    "import myfuns as mf\n",
    "from myfuns import vec2_add"
   ]
  },
  {
   "cell_type": "code",
   "execution_count": 2,
   "id": "0bdd9936-620a-4abb-b0a3-90e35f87ab24",
   "metadata": {},
   "outputs": [
    {
     "data": {
      "text/plain": [
       "[4, 6]"
      ]
     },
     "execution_count": 2,
     "metadata": {},
     "output_type": "execute_result"
    }
   ],
   "source": [
    "mf.vec2_add([1,2],[3,4])"
   ]
  },
  {
   "cell_type": "code",
   "execution_count": 3,
   "id": "eaeb993f-fadf-4a86-b001-05dbd20cedc7",
   "metadata": {},
   "outputs": [
    {
     "data": {
      "text/plain": [
       "[4, 6]"
      ]
     },
     "execution_count": 3,
     "metadata": {},
     "output_type": "execute_result"
    }
   ],
   "source": [
    "vec2_add([1,2],[3,4])"
   ]
  },
  {
   "cell_type": "markdown",
   "id": "d45bf6d8-287e-4085-980f-c007e2e64352",
   "metadata": {},
   "source": [
    "`-`시용방법8"
   ]
  },
  {
   "cell_type": "markdown",
   "id": "40eec9a7-0a47-4cc1-bd4f-48982e65d391",
   "metadata": {},
   "source": [
    "준비:\"00\" -> 커널재시작"
   ]
  },
  {
   "cell_type": "code",
   "execution_count": 1,
   "id": "ef8bd888-1cd4-4314-af09-0b1abf42b248",
   "metadata": {},
   "outputs": [],
   "source": [
    "import myfuns as mf\n",
    "from myfuns import vec2_add as add"
   ]
  },
  {
   "cell_type": "code",
   "execution_count": 2,
   "id": "da74018e-4b73-401e-a198-6b7b6af67899",
   "metadata": {},
   "outputs": [
    {
     "data": {
      "text/plain": [
       "[4, 6]"
      ]
     },
     "execution_count": 2,
     "metadata": {},
     "output_type": "execute_result"
    }
   ],
   "source": [
    "mf.vec2_add([1,2],[3,4])"
   ]
  },
  {
   "cell_type": "code",
   "execution_count": 3,
   "id": "0d3bda55-c413-462e-90e2-7ddf4d715271",
   "metadata": {},
   "outputs": [
    {
     "ename": "NameError",
     "evalue": "name 'vec2_add' is not defined",
     "output_type": "error",
     "traceback": [
      "\u001b[0;31m---------------------------------------------------------------------------\u001b[0m",
      "\u001b[0;31mNameError\u001b[0m                                 Traceback (most recent call last)",
      "Input \u001b[0;32mIn [3]\u001b[0m, in \u001b[0;36m<cell line: 1>\u001b[0;34m()\u001b[0m\n\u001b[0;32m----> 1\u001b[0m \u001b[43mvec2_add\u001b[49m([\u001b[38;5;241m1\u001b[39m,\u001b[38;5;241m2\u001b[39m],[\u001b[38;5;241m3\u001b[39m,\u001b[38;5;241m4\u001b[39m])\n",
      "\u001b[0;31mNameError\u001b[0m: name 'vec2_add' is not defined"
     ]
    }
   ],
   "source": [
    "vec2_add([1,2],[3,4])"
   ]
  },
  {
   "cell_type": "code",
   "execution_count": 4,
   "id": "728958f7-8673-4578-a602-cb5adf4e68f4",
   "metadata": {},
   "outputs": [
    {
     "data": {
      "text/plain": [
       "[4, 6]"
      ]
     },
     "execution_count": 4,
     "metadata": {},
     "output_type": "execute_result"
    }
   ],
   "source": [
    "add([1,2],[3,4])"
   ]
  },
  {
   "cell_type": "markdown",
   "id": "df69ffe7-3ad8-46da-92d9-33448e8b0596",
   "metadata": {},
   "source": [
    "#### 도움말 작성기능"
   ]
  },
  {
   "cell_type": "markdown",
   "id": "55c70930-8260-43c8-8e08-cf3e76df6eae",
   "metadata": {},
   "source": [
    "`-` mf란 무엇인가?"
   ]
  },
  {
   "cell_type": "markdown",
   "id": "eb669490-e322-47ea-bda9-e340cc9c4547",
   "metadata": {},
   "source": [
    "준비:\"00\" -> 커널재시작"
   ]
  },
  {
   "cell_type": "code",
   "execution_count": 5,
   "id": "bb608303-f8cb-4293-b286-62e6464b09cc",
   "metadata": {},
   "outputs": [],
   "source": [
    "import myfuns as mf"
   ]
  },
  {
   "cell_type": "code",
   "execution_count": 6,
   "id": "21b509c5-e0a8-48ba-8e24-75f23370ecde",
   "metadata": {},
   "outputs": [
    {
     "data": {
      "text/plain": [
       "<module 'myfuns' from '/Users/seokjinchoi/Desktop/2학년 1학기/python입문/개인 공부/myfuns.py'>"
      ]
     },
     "execution_count": 6,
     "metadata": {},
     "output_type": "execute_result"
    }
   ],
   "source": [
    "mf"
   ]
  },
  {
   "cell_type": "code",
   "execution_count": 7,
   "id": "8d933f77-6b37-4117-97fe-591d61bd1581",
   "metadata": {},
   "outputs": [
    {
     "data": {
      "text/plain": [
       "\u001b[0;31mType:\u001b[0m        module\n",
       "\u001b[0;31mString form:\u001b[0m <module 'myfuns' from '/Users/seokjinchoi/Desktop/2학년 1학기/python입문/개인 공부/myfuns.py'>\n",
       "\u001b[0;31mFile:\u001b[0m        ~/Desktop/2학년 1학기/python입문/개인 공부/myfuns.py\n",
       "\u001b[0;31mDocstring:\u001b[0m   <no docstring>\n"
      ]
     },
     "metadata": {},
     "output_type": "display_data"
    }
   ],
   "source": [
    "mf?"
   ]
  },
  {
   "cell_type": "code",
   "execution_count": 8,
   "id": "6de4f2d5-1f8d-4e21-95ab-ad757ca3ef51",
   "metadata": {},
   "outputs": [
    {
     "data": {
      "text/plain": [
       "module"
      ]
     },
     "execution_count": 8,
     "metadata": {},
     "output_type": "execute_result"
    }
   ],
   "source": [
    "type(mf)"
   ]
  },
  {
   "cell_type": "markdown",
   "id": "db1b7810-546b-4cf0-936a-da4d4fa54891",
   "metadata": {},
   "source": [
    "`-`Doncstring의 내용을 채울 수 있을까?"
   ]
  },
  {
   "cell_type": "markdown",
   "id": "33e81d0b-b0d1-40b9-9260-27b71e259caa",
   "metadata": {},
   "source": [
    "준비1: myfuns.py 파일을 수정\n",
    "\n",
    "\"\"\"이것은 길이가 2인  벡터의 합 혹은 차를 구하는 모듈입니다.\"\"\""
   ]
  },
  {
   "cell_type": "markdown",
   "id": "1a8e8ac6-34ca-480d-805b-e89f2bb06ce8",
   "metadata": {},
   "source": [
    "준비2: \"00\" -> 커널재시작"
   ]
  },
  {
   "cell_type": "code",
   "execution_count": 1,
   "id": "d1bb7fe7-6386-469f-b7cd-78a50c3b0550",
   "metadata": {},
   "outputs": [],
   "source": [
    "import myfuns as mf"
   ]
  },
  {
   "cell_type": "code",
   "execution_count": 2,
   "id": "0aebe44a-28ea-4201-adab-503296fdbe8c",
   "metadata": {},
   "outputs": [
    {
     "data": {
      "text/plain": [
       "\u001b[0;31mType:\u001b[0m        module\n",
       "\u001b[0;31mString form:\u001b[0m <module 'myfuns' from '/Users/seokjinchoi/Desktop/2학년 1학기/python입문/개인 공부/myfuns.py'>\n",
       "\u001b[0;31mFile:\u001b[0m        ~/Desktop/2학년 1학기/python입문/개인 공부/myfuns.py\n",
       "\u001b[0;31mDocstring:\u001b[0m   이것은 길이가 2인  벡터의 합 혹은 차를 구하는 모듈입니다.\n"
      ]
     },
     "metadata": {},
     "output_type": "display_data"
    }
   ],
   "source": [
    "mf?"
   ]
  },
  {
   "cell_type": "markdown",
   "id": "2a8c1fe4-5ff0-410c-b836-12b5f35bf29b",
   "metadata": {},
   "source": [
    "주의점\n",
    "\n",
    "`-` `myfuns.py`는 최초 한번만 import된다.\n",
    "\n",
    "준비:\"00\" -> 커널재시작"
   ]
  },
  {
   "cell_type": "code",
   "execution_count": 1,
   "id": "9ca9874d-db96-4b2d-9d48-b627504c6ae5",
   "metadata": {},
   "outputs": [],
   "source": [
    "import myfuns"
   ]
  },
  {
   "cell_type": "code",
   "execution_count": 2,
   "id": "911a0fda-c167-4332-a770-0389a11af394",
   "metadata": {},
   "outputs": [
    {
     "data": {
      "text/plain": [
       "[4, 6]"
      ]
     },
     "execution_count": 2,
     "metadata": {},
     "output_type": "execute_result"
    }
   ],
   "source": [
    "myfuns.vec2_add([1,2],[3,4])"
   ]
  },
  {
   "cell_type": "markdown",
   "id": "c92f76be-df12-4278-94db-1e3d37e66ff7",
   "metadata": {},
   "source": [
    "`myfuns.py` 파일을 열고 함수를 아래와 같이 바꿈"
   ]
  },
  {
   "cell_type": "code",
   "execution_count": 3,
   "id": "4da14c6c-7b39-4764-8047-a4bea8fc84f3",
   "metadata": {},
   "outputs": [],
   "source": [
    "\"\"\"이것은 길이가 2인 벡터의 합 혹은 차를 구하는 모듈입니다.\"\"\" \n",
    "def vec2_add(a,b): \n",
    "    print(\"이것은 myfuns.py에 정의된 함수입니다\") \n",
    "    return [a[0]+b[0], a[1]+b[1]]\n",
    "def vec2_sub(a,b): \n",
    "    return [a[0]-b[0], a[1]-b[1]]"
   ]
  },
  {
   "cell_type": "markdown",
   "id": "f9b8c0b1-3a6f-4a45-822d-8c05933b5430",
   "metadata": {},
   "source": [
    "다시 myfuns를 로드하고 myfuns.vec2_add를 실행"
   ]
  },
  {
   "cell_type": "code",
   "execution_count": 1,
   "id": "9f0af145-3bfd-4ff7-ae7c-003d077316ab",
   "metadata": {},
   "outputs": [],
   "source": [
    "import myfuns"
   ]
  },
  {
   "cell_type": "code",
   "execution_count": 2,
   "id": "610fa17b-59e3-48bb-9cfd-6a282555cbd3",
   "metadata": {},
   "outputs": [
    {
     "data": {
      "text/plain": [
       "[4, 6]"
      ]
     },
     "execution_count": 2,
     "metadata": {},
     "output_type": "execute_result"
    }
   ],
   "source": [
    "myfuns.vec2_add([1,2],[3,4])"
   ]
  },
  {
   "cell_type": "markdown",
   "id": "233ae877-322b-4f1b-813d-65abd5e8ebb9",
   "metadata": {},
   "source": [
    "바뀐내용이 적용되지 않음\n",
    "\n",
    "커널을 다시 시작하고 import\n",
    "\n",
    "\"00\" -> 커널재시작"
   ]
  },
  {
   "cell_type": "code",
   "execution_count": 1,
   "id": "9943f9e0-92de-4b8e-9b5f-c6f30ebb02a8",
   "metadata": {},
   "outputs": [],
   "source": [
    "import myfuns"
   ]
  },
  {
   "cell_type": "code",
   "execution_count": 2,
   "id": "16555d01-f4f9-4bc7-ba5c-add84c4df647",
   "metadata": {},
   "outputs": [
    {
     "name": "stdout",
     "output_type": "stream",
     "text": [
      "이것은 myfuns.py에 정의된 함수입니다\n"
     ]
    },
    {
     "data": {
      "text/plain": [
       "[4, 6]"
      ]
     },
     "execution_count": 2,
     "metadata": {},
     "output_type": "execute_result"
    }
   ],
   "source": [
    "myfuns.vec2_add([1,2],[3,4])"
   ]
  },
  {
   "cell_type": "markdown",
   "id": "7fcf12ff-c7ed-4606-8f50-4e2dc513c20b",
   "metadata": {},
   "source": [
    "`-` `myfuns.py`는 주피터노트북파일과 같은 폴더에 존재해야함"
   ]
  },
  {
   "cell_type": "markdown",
   "id": "e1af99be-2775-4018-acb4-ac05f720e837",
   "metadata": {},
   "source": [
    "준비1:\"00\" -> 커널재시작\n",
    "\n",
    "준비2:`myfuns.py`을 복사하여 다른 폴더로 이동. 예를 들면 ip0403폴더를 만들고 그 폴더안에 myfuns.py 파일을 복사해서 붙여넣은 뒤에 파일이름을 myfuns2.py로 변경\n",
    "\n",
    "-> 실행결과\n",
    "\n",
    "주피터노트북파일과 같은 폴더에 있는 myfuns는 잘 로드 되지만, 주피터노트북파일과 다른 폴더에 있는 myfuns2는 그렇지 않음"
   ]
  },
  {
   "cell_type": "markdown",
   "id": "e9b43848-e813-499c-8820-6294dcc6d257",
   "metadata": {},
   "source": [
    "`-` ip0403폴더에 있는 myfuns2.py를 실행하기 위해서는 \n",
    "\n",
    "``` python\n",
    "from ip0403 import myfuns\n",
    "```\n",
    "\n",
    "와 같이 실행"
   ]
  },
  {
   "cell_type": "markdown",
   "id": "b22a6f09-cc98-4126-91cf-ecbe9fbc1543",
   "metadata": {},
   "source": [
    "#### import 고급\n",
    "\n",
    "폴더와 함께 사용할 시 밑에 코드가 작동할 것 같지만 불가능\n",
    "\n",
    "```python\n",
    "import ip0403\n",
    "\n",
    "ip0403.myfuns2.vec2_add([1,2],[3,4])\n",
    "```"
   ]
  },
  {
   "cell_type": "markdown",
   "id": "b0b9bda3-8bab-469c-8aa0-c1461566ee7b",
   "metadata": {},
   "source": [
    "`-` **(암기)** ip0403 폴더안에 `__init__.py`라는 파일을 만들고 내용에 아래와 같이 쓰면 가능\n",
    "\n",
    "```python\n",
    "\n",
    "./ip0403/__init__.py\n",
    "from . import myfuns2\n",
    "```"
   ]
  },
  {
   "cell_type": "markdown",
   "id": "442158f1-e802-4c0f-ab87-e35b127aece8",
   "metadata": {},
   "source": [
    "#### **컴퓨터상식**\n",
    "\n",
    "- `.` : 현재폴더를 의미\n",
    "\n",
    "- `..` : 상위폴더를 의미\n",
    "\n",
    "- `,/myfuns.py` : 현재폴더 안에 있는 myfuns.py를 의미\n",
    "\n",
    "- `.ip0403/myfuns2.py` : 현재폴더 안에 있는 ip0403폴더안의 myfuns2.py 파일을 의미\n",
    "\n",
    "- `../myfuns.py` : 현재폴더보다 한단계 상위폴더에 있는 myfuns.py를 의미\n",
    "\n",
    "- `cd ./ip0403` : 현재폴더 안에 있는 ip0403폴더로 이동 (`cd ip0403`으로 줄여쓸 수 있음)\n",
    "\n",
    "- `cd ..` : 현재폴더보다 한단계 상위폴더로 이동하라."
   ]
  },
  {
   "cell_type": "markdown",
   "id": "bfbe6bd1-084d-4dbf-88a3-b7dcce92f59b",
   "metadata": {},
   "source": [
    "**따라서 `from . import myfuns2`는 현재폴더에서 myfuns2를 찾아서 import 하라는 의미로 해석가능**"
   ]
  },
  {
   "cell_type": "markdown",
   "id": "70f38dff-e0d0-4e46-b4f6-8102e23bd216",
   "metadata": {},
   "source": [
    "### 모듈,패키지,라이브러리?"
   ]
  },
  {
   "cell_type": "markdown",
   "id": "00c8b6f9-d9ff-4168-adc7-01526ba78854",
   "metadata": {},
   "source": [
    "`-` 모듈의 개념 - import를 하여 생기게 되는 오브젝트 \n",
    "\n",
    "`-` 교수님들 : 모듈이 모이면 패키지라고 부름. 그리고 라이브러리는 패키지보다 큰 개념\n",
    "\n",
    "`-` 하지만 구분이 모호"
   ]
  },
  {
   "cell_type": "code",
   "execution_count": 3,
   "id": "59031c78-e150-4d5e-aba7-7569451e88e1",
   "metadata": {},
   "outputs": [],
   "source": [
    "import numpy as np"
   ]
  },
  {
   "cell_type": "code",
   "execution_count": 4,
   "id": "22153ea0-a731-47e4-9dd3-7169afae4de2",
   "metadata": {},
   "outputs": [
    {
     "data": {
      "text/plain": [
       "module"
      ]
     },
     "execution_count": 4,
     "metadata": {},
     "output_type": "execute_result"
    }
   ],
   "source": [
    "type(np)"
   ]
  },
  {
   "cell_type": "markdown",
   "id": "90374cc6-e5fd-4cbe-b117-e8fc82eb0c2d",
   "metadata": {},
   "source": [
    "`-` python에서의 numpy의 type은 모듈\n",
    "\n",
    "`-` 그런데 numpy package 라고 검색하면 검색이 가능\n",
    "\n",
    "`-` 심지어 numpy library 라고 해도 검색가능\n",
    "\n",
    "`-` numpy 모듈, numpy 패키지, numpy 라이브러리 모두 다 맞는 말..."
   ]
  },
  {
   "cell_type": "code",
   "execution_count": null,
   "id": "2dca6f7f-ccee-4468-ac70-f6ed22833094",
   "metadata": {},
   "outputs": [],
   "source": []
  }
 ],
 "metadata": {
  "kernelspec": {
   "display_name": "Python 3 (ipykernel)",
   "language": "python",
   "name": "python3"
  },
  "language_info": {
   "codemirror_mode": {
    "name": "ipython",
    "version": 3
   },
   "file_extension": ".py",
   "mimetype": "text/x-python",
   "name": "python",
   "nbconvert_exporter": "python",
   "pygments_lexer": "ipython3",
   "version": "3.9.7"
  }
 },
 "nbformat": 4,
 "nbformat_minor": 5
}
