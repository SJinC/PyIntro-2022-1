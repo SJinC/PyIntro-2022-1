{
 "cells": [
  {
   "cell_type": "markdown",
   "id": "fffc9629-b5ab-44fe-ab4b-00c2ee772c36",
   "metadata": {
    "tags": []
   },
   "source": [
    "# 파이썬 4월 18일 강의 복습\n",
    "> \"7월 3일\"\n",
    "\n",
    "- toc:true\n",
    "- branch: master\n",
    "- badges: true\n",
    "- comments: true\n",
    "- author: 최석진\n",
    "- categories: [Python]"
   ]
  },
  {
   "cell_type": "markdown",
   "id": "5130104b-be90-4586-b29c-01411e4a9f94",
   "metadata": {},
   "source": [
    "## numpy \n",
    "### (메소드 도움말확인, hstack,vstack,append,ravel,flatten, 기타통계함수들, dtype,브로드캐스팅)\n",
    "## matplotlib\n",
    "### (plt.pyplot,plt.hist)"
   ]
  },
  {
   "cell_type": "code",
   "execution_count": 1,
   "id": "2c8616a8-dd4b-48cc-b61b-99bd9401c940",
   "metadata": {},
   "outputs": [],
   "source": [
    "import numpy as np"
   ]
  },
  {
   "cell_type": "code",
   "execution_count": 2,
   "id": "2def2f28-5b4a-49f5-b8ff-2e86782d6f3b",
   "metadata": {},
   "outputs": [],
   "source": [
    "### 넘파이공부 7단계"
   ]
  },
  {
   "cell_type": "markdown",
   "id": "157ec4f8-9615-4ac1-8b47-d9f42d7a7a5f",
   "metadata": {},
   "source": [
    "#### note 1 : 메소드 도움말 확인하기"
   ]
  },
  {
   "cell_type": "markdown",
   "id": "449d00d3-bb49-4727-8fbd-5a50293bc475",
   "metadata": {},
   "source": [
    "`-` 파이썬에서 함수를 적용하는 2가지 방식\n",
    "\n",
    "- np.sum(a)\n",
    "- a.sum()"
   ]
  },
  {
   "cell_type": "code",
   "execution_count": 3,
   "id": "386991d8-3a72-40ba-99d3-330728f3aaf4",
   "metadata": {},
   "outputs": [
    {
     "data": {
      "text/plain": [
       "array([1, 2, 3, 4, 5])"
      ]
     },
     "execution_count": 3,
     "metadata": {},
     "output_type": "execute_result"
    }
   ],
   "source": [
    "a=np.array([1,2,3,4,5])\n",
    "a"
   ]
  },
  {
   "cell_type": "code",
   "execution_count": 4,
   "id": "3f4f7868-309f-41c2-9a78-acae632b19ea",
   "metadata": {},
   "outputs": [
    {
     "data": {
      "text/plain": [
       "15"
      ]
     },
     "execution_count": 4,
     "metadata": {},
     "output_type": "execute_result"
    }
   ],
   "source": [
    "a.sum()"
   ]
  },
  {
   "cell_type": "code",
   "execution_count": 6,
   "id": "604c1b38-eb33-43f5-a88c-7d91dae990be",
   "metadata": {},
   "outputs": [
    {
     "data": {
      "text/plain": [
       "15"
      ]
     },
     "execution_count": 6,
     "metadata": {},
     "output_type": "execute_result"
    }
   ],
   "source": [
    "np.sum(a)"
   ]
  },
  {
   "cell_type": "markdown",
   "id": "a47378c6-5234-4217-b438-4fa19f01d334",
   "metadata": {},
   "source": [
    "`-` 넘파이에서 `a.sum()`에 대한 도움말은 `np.sum()`에 자세히 나와있음 $\\to$ `np.sum()`의 도움말을 확인하고 `np.sum(a)` 와`a.sum()`이 동일함을 이용하여 `a.sum()`의 사용법을 미루어 유추"
   ]
  },
  {
   "cell_type": "code",
   "execution_count": 7,
   "id": "534a4d26-5916-42ba-a564-a16d947957b9",
   "metadata": {},
   "outputs": [
    {
     "data": {
      "text/plain": [
       "\u001b[0;31mDocstring:\u001b[0m\n",
       "a.sum(axis=None, dtype=None, out=None, keepdims=False, initial=0, where=True)\n",
       "\n",
       "Return the sum of the array elements over the given axis.\n",
       "\n",
       "Refer to `numpy.sum` for full documentation.\n",
       "\n",
       "See Also\n",
       "--------\n",
       "numpy.sum : equivalent function\n",
       "\u001b[0;31mType:\u001b[0m      builtin_function_or_method\n"
      ]
     },
     "metadata": {},
     "output_type": "display_data"
    }
   ],
   "source": [
    "a.sum?"
   ]
  },
  {
   "cell_type": "code",
   "execution_count": 8,
   "id": "62a6db5f-0602-4f93-b988-e8c531266b9e",
   "metadata": {},
   "outputs": [
    {
     "data": {
      "text/plain": [
       "\u001b[0;31mSignature:\u001b[0m\n",
       "\u001b[0mnp\u001b[0m\u001b[0;34m.\u001b[0m\u001b[0msum\u001b[0m\u001b[0;34m(\u001b[0m\u001b[0;34m\u001b[0m\n",
       "\u001b[0;34m\u001b[0m    \u001b[0ma\u001b[0m\u001b[0;34m,\u001b[0m\u001b[0;34m\u001b[0m\n",
       "\u001b[0;34m\u001b[0m    \u001b[0maxis\u001b[0m\u001b[0;34m=\u001b[0m\u001b[0;32mNone\u001b[0m\u001b[0;34m,\u001b[0m\u001b[0;34m\u001b[0m\n",
       "\u001b[0;34m\u001b[0m    \u001b[0mdtype\u001b[0m\u001b[0;34m=\u001b[0m\u001b[0;32mNone\u001b[0m\u001b[0;34m,\u001b[0m\u001b[0;34m\u001b[0m\n",
       "\u001b[0;34m\u001b[0m    \u001b[0mout\u001b[0m\u001b[0;34m=\u001b[0m\u001b[0;32mNone\u001b[0m\u001b[0;34m,\u001b[0m\u001b[0;34m\u001b[0m\n",
       "\u001b[0;34m\u001b[0m    \u001b[0mkeepdims\u001b[0m\u001b[0;34m=\u001b[0m\u001b[0;34m<\u001b[0m\u001b[0mno\u001b[0m \u001b[0mvalue\u001b[0m\u001b[0;34m>\u001b[0m\u001b[0;34m,\u001b[0m\u001b[0;34m\u001b[0m\n",
       "\u001b[0;34m\u001b[0m    \u001b[0minitial\u001b[0m\u001b[0;34m=\u001b[0m\u001b[0;34m<\u001b[0m\u001b[0mno\u001b[0m \u001b[0mvalue\u001b[0m\u001b[0;34m>\u001b[0m\u001b[0;34m,\u001b[0m\u001b[0;34m\u001b[0m\n",
       "\u001b[0;34m\u001b[0m    \u001b[0mwhere\u001b[0m\u001b[0;34m=\u001b[0m\u001b[0;34m<\u001b[0m\u001b[0mno\u001b[0m \u001b[0mvalue\u001b[0m\u001b[0;34m>\u001b[0m\u001b[0;34m,\u001b[0m\u001b[0;34m\u001b[0m\n",
       "\u001b[0;34m\u001b[0m\u001b[0;34m)\u001b[0m\u001b[0;34m\u001b[0m\u001b[0;34m\u001b[0m\u001b[0m\n",
       "\u001b[0;31mDocstring:\u001b[0m\n",
       "Sum of array elements over a given axis.\n",
       "\n",
       "Parameters\n",
       "----------\n",
       "a : array_like\n",
       "    Elements to sum.\n",
       "axis : None or int or tuple of ints, optional\n",
       "    Axis or axes along which a sum is performed.  The default,\n",
       "    axis=None, will sum all of the elements of the input array.  If\n",
       "    axis is negative it counts from the last to the first axis.\n",
       "\n",
       "    .. versionadded:: 1.7.0\n",
       "\n",
       "    If axis is a tuple of ints, a sum is performed on all of the axes\n",
       "    specified in the tuple instead of a single axis or all the axes as\n",
       "    before.\n",
       "dtype : dtype, optional\n",
       "    The type of the returned array and of the accumulator in which the\n",
       "    elements are summed.  The dtype of `a` is used by default unless `a`\n",
       "    has an integer dtype of less precision than the default platform\n",
       "    integer.  In that case, if `a` is signed then the platform integer\n",
       "    is used while if `a` is unsigned then an unsigned integer of the\n",
       "    same precision as the platform integer is used.\n",
       "out : ndarray, optional\n",
       "    Alternative output array in which to place the result. It must have\n",
       "    the same shape as the expected output, but the type of the output\n",
       "    values will be cast if necessary.\n",
       "keepdims : bool, optional\n",
       "    If this is set to True, the axes which are reduced are left\n",
       "    in the result as dimensions with size one. With this option,\n",
       "    the result will broadcast correctly against the input array.\n",
       "\n",
       "    If the default value is passed, then `keepdims` will not be\n",
       "    passed through to the `sum` method of sub-classes of\n",
       "    `ndarray`, however any non-default value will be.  If the\n",
       "    sub-class' method does not implement `keepdims` any\n",
       "    exceptions will be raised.\n",
       "initial : scalar, optional\n",
       "    Starting value for the sum. See `~numpy.ufunc.reduce` for details.\n",
       "\n",
       "    .. versionadded:: 1.15.0\n",
       "\n",
       "where : array_like of bool, optional\n",
       "    Elements to include in the sum. See `~numpy.ufunc.reduce` for details.\n",
       "\n",
       "    .. versionadded:: 1.17.0\n",
       "\n",
       "Returns\n",
       "-------\n",
       "sum_along_axis : ndarray\n",
       "    An array with the same shape as `a`, with the specified\n",
       "    axis removed.   If `a` is a 0-d array, or if `axis` is None, a scalar\n",
       "    is returned.  If an output array is specified, a reference to\n",
       "    `out` is returned.\n",
       "\n",
       "See Also\n",
       "--------\n",
       "ndarray.sum : Equivalent method.\n",
       "\n",
       "add.reduce : Equivalent functionality of `add`.\n",
       "\n",
       "cumsum : Cumulative sum of array elements.\n",
       "\n",
       "trapz : Integration of array values using the composite trapezoidal rule.\n",
       "\n",
       "mean, average\n",
       "\n",
       "Notes\n",
       "-----\n",
       "Arithmetic is modular when using integer types, and no error is\n",
       "raised on overflow.\n",
       "\n",
       "The sum of an empty array is the neutral element 0:\n",
       "\n",
       ">>> np.sum([])\n",
       "0.0\n",
       "\n",
       "For floating point numbers the numerical precision of sum (and\n",
       "``np.add.reduce``) is in general limited by directly adding each number\n",
       "individually to the result causing rounding errors in every step.\n",
       "However, often numpy will use a  numerically better approach (partial\n",
       "pairwise summation) leading to improved precision in many use-cases.\n",
       "This improved precision is always provided when no ``axis`` is given.\n",
       "When ``axis`` is given, it will depend on which axis is summed.\n",
       "Technically, to provide the best speed possible, the improved precision\n",
       "is only used when the summation is along the fast axis in memory.\n",
       "Note that the exact precision may vary depending on other parameters.\n",
       "In contrast to NumPy, Python's ``math.fsum`` function uses a slower but\n",
       "more precise approach to summation.\n",
       "Especially when summing a large number of lower precision floating point\n",
       "numbers, such as ``float32``, numerical errors can become significant.\n",
       "In such cases it can be advisable to use `dtype=\"float64\"` to use a higher\n",
       "precision for the output.\n",
       "\n",
       "Examples\n",
       "--------\n",
       ">>> np.sum([0.5, 1.5])\n",
       "2.0\n",
       ">>> np.sum([0.5, 0.7, 0.2, 1.5], dtype=np.int32)\n",
       "1\n",
       ">>> np.sum([[0, 1], [0, 5]])\n",
       "6\n",
       ">>> np.sum([[0, 1], [0, 5]], axis=0)\n",
       "array([0, 6])\n",
       ">>> np.sum([[0, 1], [0, 5]], axis=1)\n",
       "array([1, 5])\n",
       ">>> np.sum([[0, 1], [np.nan, 5]], where=[False, True], axis=1)\n",
       "array([1., 5.])\n",
       "\n",
       "If the accumulator is too small, overflow occurs:\n",
       "\n",
       ">>> np.ones(128, dtype=np.int8).sum(dtype=np.int8)\n",
       "-128\n",
       "\n",
       "You can also start the sum with a value other than zero:\n",
       "\n",
       ">>> np.sum([10], initial=5)\n",
       "15\n",
       "\u001b[0;31mFile:\u001b[0m      ~/opt/anaconda3/envs/py39/lib/python3.9/site-packages/numpy/core/fromnumeric.py\n",
       "\u001b[0;31mType:\u001b[0m      function\n"
      ]
     },
     "metadata": {},
     "output_type": "display_data"
    }
   ],
   "source": [
    "np.sum?"
   ]
  },
  {
   "cell_type": "markdown",
   "id": "5d5eb97c-f589-48b7-8bde-8ff962a4d7d2",
   "metadata": {},
   "source": [
    "#### note 2: hstack,vstack"
   ]
  },
  {
   "cell_type": "markdown",
   "id": "08848ea3-e701-49a8-aac1-11871884e328",
   "metadata": {},
   "source": [
    "`-` hstack,vstack 을 사용하기도 함"
   ]
  },
  {
   "cell_type": "code",
   "execution_count": 9,
   "id": "80c1274b-3c76-468c-b99a-49f5ef0e6499",
   "metadata": {},
   "outputs": [],
   "source": [
    "a=np.arange(6)\n",
    "b=-a"
   ]
  },
  {
   "cell_type": "code",
   "execution_count": 10,
   "id": "9d3cb5bc-c80c-4059-910d-b854f0bb6e04",
   "metadata": {},
   "outputs": [
    {
     "data": {
      "text/plain": [
       "array([[ 0,  1,  2,  3,  4,  5],\n",
       "       [ 0, -1, -2, -3, -4, -5]])"
      ]
     },
     "execution_count": 10,
     "metadata": {},
     "output_type": "execute_result"
    }
   ],
   "source": [
    "np.vstack([a,b])"
   ]
  },
  {
   "cell_type": "code",
   "execution_count": 11,
   "id": "582aa6b6-4cc3-4ca1-8e27-9b4c955bd0f4",
   "metadata": {},
   "outputs": [
    {
     "data": {
      "text/plain": [
       "array([[ 0,  1,  2,  3,  4,  5],\n",
       "       [ 0, -1, -2, -3, -4, -5]])"
      ]
     },
     "execution_count": 11,
     "metadata": {},
     "output_type": "execute_result"
    }
   ],
   "source": [
    "np.stack([a,b],axis=0)"
   ]
  },
  {
   "cell_type": "code",
   "execution_count": 12,
   "id": "12d5ccc1-bc10-4eb1-a7ac-52c830589bee",
   "metadata": {},
   "outputs": [
    {
     "data": {
      "text/plain": [
       "array([ 0,  1,  2,  3,  4,  5,  0, -1, -2, -3, -4, -5])"
      ]
     },
     "execution_count": 12,
     "metadata": {},
     "output_type": "execute_result"
    }
   ],
   "source": [
    "np.hstack([a,b])"
   ]
  },
  {
   "cell_type": "code",
   "execution_count": 15,
   "id": "c119f3c8-969e-4350-9fdf-667ded820dd4",
   "metadata": {},
   "outputs": [
    {
     "data": {
      "text/plain": [
       "array([ 0,  1,  2,  3,  4,  5,  0, -1, -2, -3, -4, -5])"
      ]
     },
     "execution_count": 15,
     "metadata": {},
     "output_type": "execute_result"
    }
   ],
   "source": [
    "np.concatenate([a,b],axis=0)"
   ]
  },
  {
   "cell_type": "markdown",
   "id": "9cb4e10b-54b1-41a3-aa31-f74add564f2e",
   "metadata": {},
   "source": [
    "#### note 3: append"
   ]
  },
  {
   "cell_type": "markdown",
   "id": "faa2f9ed-5c32-47d8-9e6e-54a9b836fc00",
   "metadata": {},
   "source": [
    "`-` 기능1: reshape(-1) + concat"
   ]
  },
  {
   "cell_type": "code",
   "execution_count": 16,
   "id": "ba189bc8-d6e5-45ab-8b57-daafeb2acebc",
   "metadata": {},
   "outputs": [],
   "source": [
    "a=np.arange(30).reshape(5,6)\n",
    "b=-np.arange(8).reshape(2,2,2)"
   ]
  },
  {
   "cell_type": "code",
   "execution_count": 17,
   "id": "0d92e8be-709c-4447-ad70-425c6d2b1b0d",
   "metadata": {},
   "outputs": [
    {
     "data": {
      "text/plain": [
       "((5, 6), (2, 2, 2))"
      ]
     },
     "execution_count": 17,
     "metadata": {},
     "output_type": "execute_result"
    }
   ],
   "source": [
    "a.shape,b.shape"
   ]
  },
  {
   "cell_type": "code",
   "execution_count": 18,
   "id": "b5a95e14-d533-4a90-a2e2-1ccdfc0a887c",
   "metadata": {},
   "outputs": [
    {
     "data": {
      "text/plain": [
       "array([ 0,  1,  2,  3,  4,  5,  6,  7,  8,  9, 10, 11, 12, 13, 14, 15, 16,\n",
       "       17, 18, 19, 20, 21, 22, 23, 24, 25, 26, 27, 28, 29,  0, -1, -2, -3,\n",
       "       -4, -5, -6, -7])"
      ]
     },
     "execution_count": 18,
     "metadata": {},
     "output_type": "execute_result"
    }
   ],
   "source": [
    "np.append(a,b)"
   ]
  },
  {
   "cell_type": "code",
   "execution_count": 19,
   "id": "20768bc0-66aa-494f-9b9e-f1d7afea1e9a",
   "metadata": {},
   "outputs": [
    {
     "data": {
      "text/plain": [
       "array([ 0,  1,  2,  3,  4,  5,  6,  7,  8,  9, 10, 11, 12, 13, 14, 15, 16,\n",
       "       17, 18, 19, 20, 21, 22, 23, 24, 25, 26, 27, 28, 29,  0, -1, -2, -3,\n",
       "       -4, -5, -6, -7])"
      ]
     },
     "execution_count": 19,
     "metadata": {},
     "output_type": "execute_result"
    }
   ],
   "source": [
    "np.concatenate([a.reshape(-1),b.reshape(-1)])"
   ]
  },
  {
   "cell_type": "markdown",
   "id": "8f1aa11a-772e-41c8-b932-3efcd2288a03",
   "metadata": {},
   "source": [
    "`-` 기능2:concat"
   ]
  },
  {
   "cell_type": "code",
   "execution_count": 20,
   "id": "fa3795e7-096e-4865-8202-bd8b8f98d899",
   "metadata": {},
   "outputs": [],
   "source": [
    "a=np.arange(2*3*4).reshape(2,3,4)\n",
    "b=-a"
   ]
  },
  {
   "cell_type": "code",
   "execution_count": 21,
   "id": "8038862a-87a1-4db2-a745-6782f435fcd7",
   "metadata": {},
   "outputs": [
    {
     "data": {
      "text/plain": [
       "((2, 3, 4), (2, 3, 4), (4, 3, 4))"
      ]
     },
     "execution_count": 21,
     "metadata": {},
     "output_type": "execute_result"
    }
   ],
   "source": [
    "a.shape,b.shape,np.append(a,b,axis=0).shape"
   ]
  },
  {
   "cell_type": "code",
   "execution_count": 22,
   "id": "fe109912-07a1-4ba5-a109-fc07535dfc20",
   "metadata": {},
   "outputs": [
    {
     "data": {
      "text/plain": [
       "((2, 3, 4), (2, 3, 4), (2, 6, 4))"
      ]
     },
     "execution_count": 22,
     "metadata": {},
     "output_type": "execute_result"
    }
   ],
   "source": [
    "a.shape,b.shape,np.append(a,b,axis=1).shape"
   ]
  },
  {
   "cell_type": "code",
   "execution_count": 23,
   "id": "46745ceb-d912-414b-90a2-052cc1a9a07e",
   "metadata": {},
   "outputs": [
    {
     "data": {
      "text/plain": [
       "((2, 3, 4), (2, 3, 4), (2, 3, 8))"
      ]
     },
     "execution_count": 23,
     "metadata": {},
     "output_type": "execute_result"
    }
   ],
   "source": [
    "a.shape,b.shape,np.append(a,b,axis=2).shape"
   ]
  },
  {
   "cell_type": "markdown",
   "id": "2eebdb8e-e579-4fd2-8262-04ccd5be5588",
   "metadata": {},
   "source": [
    "`-` concat과의 차이?"
   ]
  },
  {
   "cell_type": "code",
   "execution_count": 24,
   "id": "1f61a578-3508-4024-9ff0-bc610ff96702",
   "metadata": {},
   "outputs": [],
   "source": [
    "a=np.arange(2*3*4).reshape(2,3,4)\n",
    "b=-a\n",
    "c=2*a"
   ]
  },
  {
   "cell_type": "code",
   "execution_count": 25,
   "id": "fd79b256-5ae6-4d40-9ede-257d2a80375f",
   "metadata": {},
   "outputs": [
    {
     "ename": "TypeError",
     "evalue": "_append_dispatcher() got multiple values for argument 'axis'",
     "output_type": "error",
     "traceback": [
      "\u001b[0;31m---------------------------------------------------------------------------\u001b[0m",
      "\u001b[0;31mTypeError\u001b[0m                                 Traceback (most recent call last)",
      "Input \u001b[0;32mIn [25]\u001b[0m, in \u001b[0;36m<cell line: 1>\u001b[0;34m()\u001b[0m\n\u001b[0;32m----> 1\u001b[0m \u001b[43mnp\u001b[49m\u001b[38;5;241;43m.\u001b[39;49m\u001b[43mappend\u001b[49m\u001b[43m(\u001b[49m\u001b[43ma\u001b[49m\u001b[43m,\u001b[49m\u001b[43mb\u001b[49m\u001b[43m,\u001b[49m\u001b[43mc\u001b[49m\u001b[43m,\u001b[49m\u001b[43maxis\u001b[49m\u001b[38;5;241;43m=\u001b[39;49m\u001b[38;5;241;43m0\u001b[39;49m\u001b[43m)\u001b[49m\n",
      "File \u001b[0;32m<__array_function__ internals>:4\u001b[0m, in \u001b[0;36mappend\u001b[0;34m(*args, **kwargs)\u001b[0m\n",
      "\u001b[0;31mTypeError\u001b[0m: _append_dispatcher() got multiple values for argument 'axis'"
     ]
    }
   ],
   "source": [
    "np.append(a,b,c,axis=0)"
   ]
  },
  {
   "cell_type": "code",
   "execution_count": 26,
   "id": "fe46c81f-5d90-41c3-a059-2adbc2707071",
   "metadata": {},
   "outputs": [
    {
     "data": {
      "text/plain": [
       "array([[[  0,   1,   2,   3],\n",
       "        [  4,   5,   6,   7],\n",
       "        [  8,   9,  10,  11]],\n",
       "\n",
       "       [[ 12,  13,  14,  15],\n",
       "        [ 16,  17,  18,  19],\n",
       "        [ 20,  21,  22,  23]],\n",
       "\n",
       "       [[  0,  -1,  -2,  -3],\n",
       "        [ -4,  -5,  -6,  -7],\n",
       "        [ -8,  -9, -10, -11]],\n",
       "\n",
       "       [[-12, -13, -14, -15],\n",
       "        [-16, -17, -18, -19],\n",
       "        [-20, -21, -22, -23]],\n",
       "\n",
       "       [[  0,   2,   4,   6],\n",
       "        [  8,  10,  12,  14],\n",
       "        [ 16,  18,  20,  22]],\n",
       "\n",
       "       [[ 24,  26,  28,  30],\n",
       "        [ 32,  34,  36,  38],\n",
       "        [ 40,  42,  44,  46]]])"
      ]
     },
     "execution_count": 26,
     "metadata": {},
     "output_type": "execute_result"
    }
   ],
   "source": [
    "np.concatenate([a,b,c],axis=0)"
   ]
  },
  {
   "cell_type": "markdown",
   "id": "6e7b9fcc-5c25-40f4-a643-84c29dbb9cc2",
   "metadata": {},
   "source": [
    "#### note 4:ravel,flatten"
   ]
  },
  {
   "cell_type": "code",
   "execution_count": 27,
   "id": "b68194bd-0cce-4cf0-b32d-2f3dbb9f4fd9",
   "metadata": {},
   "outputs": [
    {
     "data": {
      "text/plain": [
       "array([[[ 0,  1,  2,  3],\n",
       "        [ 4,  5,  6,  7],\n",
       "        [ 8,  9, 10, 11]],\n",
       "\n",
       "       [[12, 13, 14, 15],\n",
       "        [16, 17, 18, 19],\n",
       "        [20, 21, 22, 23]]])"
      ]
     },
     "execution_count": 27,
     "metadata": {},
     "output_type": "execute_result"
    }
   ],
   "source": [
    "a=np.arange(2*3*4).reshape(2,3,4)\n",
    "a"
   ]
  },
  {
   "cell_type": "code",
   "execution_count": 28,
   "id": "b060b905-2648-4389-8f24-f1ac248afdca",
   "metadata": {},
   "outputs": [
    {
     "data": {
      "text/plain": [
       "array([ 0,  1,  2,  3,  4,  5,  6,  7,  8,  9, 10, 11, 12, 13, 14, 15, 16,\n",
       "       17, 18, 19, 20, 21, 22, 23])"
      ]
     },
     "execution_count": 28,
     "metadata": {},
     "output_type": "execute_result"
    }
   ],
   "source": [
    "a.reshape(-1)"
   ]
  },
  {
   "cell_type": "code",
   "execution_count": 29,
   "id": "488bc285-1547-47a3-8f9e-76e5f76302d7",
   "metadata": {},
   "outputs": [
    {
     "data": {
      "text/plain": [
       "array([ 0,  1,  2,  3,  4,  5,  6,  7,  8,  9, 10, 11, 12, 13, 14, 15, 16,\n",
       "       17, 18, 19, 20, 21, 22, 23])"
      ]
     },
     "execution_count": 29,
     "metadata": {},
     "output_type": "execute_result"
    }
   ],
   "source": [
    "a.ravel()"
   ]
  },
  {
   "cell_type": "code",
   "execution_count": 30,
   "id": "39493ff5-815c-45a0-b576-eff5db510dbc",
   "metadata": {},
   "outputs": [
    {
     "data": {
      "text/plain": [
       "array([ 0,  1,  2,  3,  4,  5,  6,  7,  8,  9, 10, 11, 12, 13, 14, 15, 16,\n",
       "       17, 18, 19, 20, 21, 22, 23])"
      ]
     },
     "execution_count": 30,
     "metadata": {},
     "output_type": "execute_result"
    }
   ],
   "source": [
    "a.flatten()"
   ]
  },
  {
   "cell_type": "markdown",
   "id": "cf21ff3d-752c-45ce-8f44-13b6833fad0d",
   "metadata": {},
   "source": [
    "#### note 5:기타통계함수들"
   ]
  },
  {
   "cell_type": "code",
   "execution_count": 31,
   "id": "402943c8-881f-484b-878b-cad547553870",
   "metadata": {},
   "outputs": [
    {
     "data": {
      "text/plain": [
       "array([ 2.81062802, -2.4301234 ,  0.40879425,  2.77771522,  1.92859426,\n",
       "        2.00610157,  1.06575886, -2.77097369, -3.9386702 , -1.26048623,\n",
       "       -0.06133352, -0.1160439 ,  2.3494638 ,  0.66132059, -0.30688048,\n",
       "        2.98691651, -3.12728855, -1.11986608, -1.32337034, -5.57809365,\n",
       "       -1.38711156,  0.01856731, -2.85427416,  0.47741577, -3.44474007,\n",
       "       -0.3378466 ,  0.90387286,  0.83311123, -2.33647632,  0.97833108,\n",
       "        1.82084671, -3.38514478,  0.19110647,  5.40099637,  1.98762091,\n",
       "        3.87812786,  0.90118717, -0.89648484, -1.56111551,  1.05940088,\n",
       "        0.62824101, -0.08285867,  1.04666925, -0.2851731 , -2.53994167,\n",
       "        2.48729518, -1.06903678, -0.8965832 ,  0.22236028,  2.01309282,\n",
       "       -0.49004219, -3.29048394,  2.20190855, -0.35925617,  2.87697529,\n",
       "        4.08590117, -2.58177539, -0.31202583, -0.61927845,  0.24311466,\n",
       "       -0.75992627, -1.70688199, -3.37138253,  4.15561096, -1.27976044,\n",
       "       -0.25469394, -0.60203644,  0.08309388, -3.22862701, -0.60625318,\n",
       "       -1.99207407, -1.82866363, -3.12721388,  2.80948134,  0.55576344,\n",
       "        0.53998997, -4.19204113,  1.73148955,  3.28594323, -0.68507661,\n",
       "        2.0707085 , -0.85570979,  1.94515203, -3.06477666,  0.35107123,\n",
       "        1.75669593, -0.23410949, -0.94962367,  0.14367809,  0.74658424,\n",
       "       -0.31540333,  0.30747316,  2.30662419, -0.65133401,  1.27742021,\n",
       "        1.47617458, -1.62357696, -2.8331709 ,  0.57604691,  1.37334666])"
      ]
     },
     "execution_count": 31,
     "metadata": {},
     "output_type": "execute_result"
    }
   ],
   "source": [
    "a=np.random.normal(loc=0,scale=2,size=(100,))\n",
    "a"
   ]
  },
  {
   "cell_type": "code",
   "execution_count": 32,
   "id": "3e9e5999-31df-413e-b3a3-61dca2b27559",
   "metadata": {},
   "outputs": [
    {
     "data": {
      "text/plain": [
       "-0.06181331187777214"
      ]
     },
     "execution_count": 32,
     "metadata": {},
     "output_type": "execute_result"
    }
   ],
   "source": [
    "np.mean(a)"
   ]
  },
  {
   "cell_type": "code",
   "execution_count": 33,
   "id": "f55bcbdf-b5b3-4753-b58f-57e6245579d2",
   "metadata": {},
   "outputs": [
    {
     "data": {
      "text/plain": [
       "-0.0720960928921066"
      ]
     },
     "execution_count": 33,
     "metadata": {},
     "output_type": "execute_result"
    }
   ],
   "source": [
    "np.median(a)"
   ]
  },
  {
   "cell_type": "code",
   "execution_count": 34,
   "id": "a448ea85-0366-494e-bb7a-5794fa64c4b9",
   "metadata": {},
   "outputs": [
    {
     "data": {
      "text/plain": [
       "2.0704650911911333"
      ]
     },
     "execution_count": 34,
     "metadata": {},
     "output_type": "execute_result"
    }
   ],
   "source": [
    "np.std(a)"
   ]
  },
  {
   "cell_type": "code",
   "execution_count": 35,
   "id": "c694c1f9-7f96-4507-b9aa-b1fb491a52a8",
   "metadata": {},
   "outputs": [
    {
     "data": {
      "text/plain": [
       "4.286825693841108"
      ]
     },
     "execution_count": 35,
     "metadata": {},
     "output_type": "execute_result"
    }
   ],
   "source": [
    "np.var(a)"
   ]
  },
  {
   "cell_type": "markdown",
   "id": "ab217bad-41c0-48b3-ab78-4f9bd4122184",
   "metadata": {},
   "source": [
    "`-` corr matrix, cov matrix"
   ]
  },
  {
   "cell_type": "code",
   "execution_count": 36,
   "id": "30cbcbeb-0972-4568-a8ba-eb4f33adab09",
   "metadata": {},
   "outputs": [],
   "source": [
    "np.random.seed(43052)\n",
    "x=np.random.randn(10000)\n",
    "y=np.random.randn(10000)*2\n",
    "z=np.random.randn(10000)*0.5"
   ]
  },
  {
   "cell_type": "code",
   "execution_count": 38,
   "id": "b8a3a585-d070-466c-872c-742daf1505c0",
   "metadata": {},
   "outputs": [
    {
     "data": {
      "text/plain": [
       "array([[ 1.  , -0.01,  0.01],\n",
       "       [-0.01,  1.  ,  0.  ],\n",
       "       [ 0.01,  0.  ,  1.  ]])"
      ]
     },
     "execution_count": 38,
     "metadata": {},
     "output_type": "execute_result"
    }
   ],
   "source": [
    "np.corrcoef([x,y,z]).round(2)"
   ]
  },
  {
   "cell_type": "code",
   "execution_count": 39,
   "id": "e1687bec-eed3-40ee-89c7-5d99984821a5",
   "metadata": {},
   "outputs": [
    {
     "data": {
      "text/plain": [
       "array([[ 0.99, -0.02,  0.  ],\n",
       "       [-0.02,  4.06,  0.  ],\n",
       "       [ 0.  ,  0.  ,  0.25]])"
      ]
     },
     "execution_count": 39,
     "metadata": {},
     "output_type": "execute_result"
    }
   ],
   "source": [
    "np.cov([x,y,z]).round(2)"
   ]
  },
  {
   "cell_type": "markdown",
   "id": "fda95d42-be4b-4e1a-a8f4-d6200a9660c0",
   "metadata": {},
   "source": [
    "#### note 6:dtype"
   ]
  },
  {
   "cell_type": "markdown",
   "id": "f9c14905-b2b9-45a2-97d1-2e29f54f1fc6",
   "metadata": {},
   "source": [
    "`-` np.array는 항상 dtype이 있음."
   ]
  },
  {
   "cell_type": "code",
   "execution_count": 41,
   "id": "25d1fa26-91b3-4bb4-94d5-fd338f3efb6b",
   "metadata": {},
   "outputs": [
    {
     "data": {
      "text/plain": [
       "array([1, 2, 3])"
      ]
     },
     "execution_count": 41,
     "metadata": {},
     "output_type": "execute_result"
    }
   ],
   "source": [
    "a=np.array([1,2,3])\n",
    "a"
   ]
  },
  {
   "cell_type": "code",
   "execution_count": 42,
   "id": "18a694c3-5baf-454b-8239-ecf49ab20825",
   "metadata": {},
   "outputs": [
    {
     "data": {
      "text/plain": [
       "dtype('int64')"
      ]
     },
     "execution_count": 42,
     "metadata": {},
     "output_type": "execute_result"
    }
   ],
   "source": [
    "a.dtype"
   ]
  },
  {
   "cell_type": "code",
   "execution_count": 43,
   "id": "0ce6d62b-1ea0-402c-8824-cd475dfc33ea",
   "metadata": {},
   "outputs": [
    {
     "data": {
      "text/plain": [
       "array([1., 2., 3.])"
      ]
     },
     "execution_count": 43,
     "metadata": {},
     "output_type": "execute_result"
    }
   ],
   "source": [
    "a=np.array([1.0,2.0,3.0])\n",
    "a"
   ]
  },
  {
   "cell_type": "code",
   "execution_count": 44,
   "id": "82bb3b66-8a05-4399-9fb0-5d9099047b71",
   "metadata": {},
   "outputs": [
    {
     "data": {
      "text/plain": [
       "dtype('float64')"
      ]
     },
     "execution_count": 44,
     "metadata": {},
     "output_type": "execute_result"
    }
   ],
   "source": [
    "a.dtype"
   ]
  },
  {
   "cell_type": "markdown",
   "id": "fe623d8f-d762-45a5-ad9d-b9e2c2bb0a1d",
   "metadata": {},
   "source": [
    "`-` 같은 int라도 int16,int32,int64 로 나누어짐\n",
    "\n",
    "`-` float도 float16,float32,float64 로 나누어짐"
   ]
  },
  {
   "cell_type": "markdown",
   "id": "dac1dafa-21ab-421a-bae8-d78086439d17",
   "metadata": {},
   "source": [
    "`-` 데이터타입은 아래와 같은 방법으로 변환시킬 수 있음."
   ]
  },
  {
   "cell_type": "code",
   "execution_count": 45,
   "id": "80716b9b-082e-43c4-bfb3-b6cfcf049156",
   "metadata": {},
   "outputs": [
    {
     "data": {
      "text/plain": [
       "array([1, 2, 3], dtype=int32)"
      ]
     },
     "execution_count": 45,
     "metadata": {},
     "output_type": "execute_result"
    }
   ],
   "source": [
    "a=np.array([1,2,3],dtype=np.int32)\n",
    "a"
   ]
  },
  {
   "cell_type": "code",
   "execution_count": 46,
   "id": "7808ea2d-e105-47cd-ae80-824c0f31f33a",
   "metadata": {},
   "outputs": [
    {
     "data": {
      "text/plain": [
       "array([1, 2, 3])"
      ]
     },
     "execution_count": 46,
     "metadata": {},
     "output_type": "execute_result"
    }
   ],
   "source": [
    "a=a.astype(dtype=np.int64)\n",
    "a"
   ]
  },
  {
   "cell_type": "code",
   "execution_count": 47,
   "id": "63cf6689-c48d-46b8-8b46-9e2118e88ee9",
   "metadata": {},
   "outputs": [
    {
     "data": {
      "text/plain": [
       "dtype('int64')"
      ]
     },
     "execution_count": 47,
     "metadata": {},
     "output_type": "execute_result"
    }
   ],
   "source": [
    "a.dtype"
   ]
  },
  {
   "cell_type": "markdown",
   "id": "f6d00fe9-7be8-4319-9231-9f4e0c19ec71",
   "metadata": {},
   "source": [
    "`-` 문자열의 경우"
   ]
  },
  {
   "cell_type": "code",
   "execution_count": 48,
   "id": "293836bc-30f4-4efe-89a4-e75ffd2198f6",
   "metadata": {},
   "outputs": [
    {
     "data": {
      "text/plain": [
       "array(['a', 'b', 'c'], dtype='<U1')"
      ]
     },
     "execution_count": 48,
     "metadata": {},
     "output_type": "execute_result"
    }
   ],
   "source": [
    "a=np.array(['a','b','c'])\n",
    "a"
   ]
  },
  {
   "cell_type": "code",
   "execution_count": 49,
   "id": "feeaed58-4a18-4f2a-8a8b-a548db3d2c7b",
   "metadata": {},
   "outputs": [
    {
     "data": {
      "text/plain": [
       "array(['ab', 'b', 'c'], dtype='<U2')"
      ]
     },
     "execution_count": 49,
     "metadata": {},
     "output_type": "execute_result"
    }
   ],
   "source": [
    "a=np.array(['ab','b','c'])\n",
    "a"
   ]
  },
  {
   "cell_type": "code",
   "execution_count": 50,
   "id": "541abd25-82c4-4ff7-840d-69f2b9263a12",
   "metadata": {},
   "outputs": [
    {
     "data": {
      "text/plain": [
       "array(['abcdef', 'b', 'c'], dtype='<U6')"
      ]
     },
     "execution_count": 50,
     "metadata": {},
     "output_type": "execute_result"
    }
   ],
   "source": [
    "a=np.array(['abcdef','b','c'])\n",
    "a"
   ]
  },
  {
   "cell_type": "markdown",
   "id": "69cfbd6d-9b44-4d40-a596-7305e6523a6e",
   "metadata": {},
   "source": [
    "`-` 문자열 + 숫자혼합 => 문자열로 통일"
   ]
  },
  {
   "cell_type": "code",
   "execution_count": 51,
   "id": "70bc5bf7-c9d2-408b-bdc7-a4188270f651",
   "metadata": {},
   "outputs": [
    {
     "data": {
      "text/plain": [
       "array(['a', '1'], dtype='<U21')"
      ]
     },
     "execution_count": 51,
     "metadata": {},
     "output_type": "execute_result"
    }
   ],
   "source": [
    "a=np.array(['a',1])\n",
    "a"
   ]
  },
  {
   "cell_type": "code",
   "execution_count": 52,
   "id": "91ced515-6cf3-4cfd-b222-8e97e2e5d33c",
   "metadata": {},
   "outputs": [
    {
     "data": {
      "text/plain": [
       "array(['a', '1.0'], dtype='<U32')"
      ]
     },
     "execution_count": 52,
     "metadata": {},
     "output_type": "execute_result"
    }
   ],
   "source": [
    "a=np.array(['a',1.0])\n",
    "a"
   ]
  },
  {
   "cell_type": "markdown",
   "id": "03c4f557-b231-4e84-a37a-5f45a7bf99af",
   "metadata": {},
   "source": [
    "`-` 숫자를 문자열로 전환"
   ]
  },
  {
   "cell_type": "code",
   "execution_count": 53,
   "id": "85585d2e-01fc-4719-a538-ccdbed263eb9",
   "metadata": {},
   "outputs": [
    {
     "data": {
      "text/plain": [
       "array([1, 2, 3])"
      ]
     },
     "execution_count": 53,
     "metadata": {},
     "output_type": "execute_result"
    }
   ],
   "source": [
    "a=np.array([1,2,3])\n",
    "a"
   ]
  },
  {
   "cell_type": "code",
   "execution_count": 54,
   "id": "a8bfa229-b734-4712-9306-fc0f2970368e",
   "metadata": {},
   "outputs": [
    {
     "data": {
      "text/plain": [
       "array(['1', '2', '3'], dtype='<U21')"
      ]
     },
     "execution_count": 54,
     "metadata": {},
     "output_type": "execute_result"
    }
   ],
   "source": [
    "a.astype(np.str_)"
   ]
  },
  {
   "cell_type": "markdown",
   "id": "0db976e1-c3c2-44f9-b7cf-4026d6de50cd",
   "metadata": {},
   "source": [
    "#### note 7: 브로드캐스팅과 시간측정"
   ]
  },
  {
   "cell_type": "markdown",
   "id": "c93838a8-5a2e-4ad6-ad6b-51af7b38f20b",
   "metadata": {},
   "source": [
    "(예비학습)"
   ]
  },
  {
   "cell_type": "code",
   "execution_count": 55,
   "id": "c60fdabd-9309-4272-a5b5-2922ab2ae956",
   "metadata": {},
   "outputs": [],
   "source": [
    "import time"
   ]
  },
  {
   "cell_type": "code",
   "execution_count": 56,
   "id": "aaeaed60-057d-4576-8bc7-b001ce95900b",
   "metadata": {},
   "outputs": [],
   "source": [
    "t1=time.time()"
   ]
  },
  {
   "cell_type": "code",
   "execution_count": 57,
   "id": "dfee1009-fb0a-47c7-bc58-cff50586d6f8",
   "metadata": {},
   "outputs": [
    {
     "data": {
      "text/plain": [
       "11.007585048675537"
      ]
     },
     "execution_count": 57,
     "metadata": {},
     "output_type": "execute_result"
    }
   ],
   "source": [
    "t2=time.time()\n",
    "t2-t1"
   ]
  },
  {
   "cell_type": "markdown",
   "id": "5a1a1cbc-1663-4133-bad0-e2318f2fa17a",
   "metadata": {},
   "source": [
    "(예제) x=[0,1,2,3,4]인 벡터가 있을 때, (i,j)의 원소가 `(x[i]-x[j])**2` 을 의미하는 5X5 매트릭스를 구함"
   ]
  },
  {
   "cell_type": "markdown",
   "id": "27ba207e-8a67-4924-b3fc-084947a175c6",
   "metadata": {},
   "source": [
    "(풀이1)"
   ]
  },
  {
   "cell_type": "code",
   "execution_count": 58,
   "id": "4f47c884-37d1-40e8-b271-998daf9b95a1",
   "metadata": {},
   "outputs": [
    {
     "data": {
      "text/plain": [
       "array([0, 1, 2, 3, 4])"
      ]
     },
     "execution_count": 58,
     "metadata": {},
     "output_type": "execute_result"
    }
   ],
   "source": [
    "x=np.array(range(5))\n",
    "x"
   ]
  },
  {
   "cell_type": "code",
   "execution_count": 59,
   "id": "9e702fdc-00ec-43af-b4eb-80fac7f10230",
   "metadata": {},
   "outputs": [
    {
     "data": {
      "text/plain": [
       "array([[0., 0., 0., 0., 0.],\n",
       "       [0., 0., 0., 0., 0.],\n",
       "       [0., 0., 0., 0., 0.],\n",
       "       [0., 0., 0., 0., 0.],\n",
       "       [0., 0., 0., 0., 0.]])"
      ]
     },
     "execution_count": 59,
     "metadata": {},
     "output_type": "execute_result"
    }
   ],
   "source": [
    "dist=np.zeros([5,5])\n",
    "dist"
   ]
  },
  {
   "cell_type": "code",
   "execution_count": 60,
   "id": "56c3aaa9-c33f-40cc-9b25-bdc99fd0cd0e",
   "metadata": {},
   "outputs": [],
   "source": [
    "for i in range(5):\n",
    "    for j in range(5):\n",
    "        dist[i,j]=(x[i]-x[j])**2"
   ]
  },
  {
   "cell_type": "code",
   "execution_count": 61,
   "id": "b375dc19-5126-44d9-89db-a76cfd1433f5",
   "metadata": {},
   "outputs": [
    {
     "data": {
      "text/plain": [
       "array([[ 0.,  1.,  4.,  9., 16.],\n",
       "       [ 1.,  0.,  1.,  4.,  9.],\n",
       "       [ 4.,  1.,  0.,  1.,  4.],\n",
       "       [ 9.,  4.,  1.,  0.,  1.],\n",
       "       [16.,  9.,  4.,  1.,  0.]])"
      ]
     },
     "execution_count": 61,
     "metadata": {},
     "output_type": "execute_result"
    }
   ],
   "source": [
    "dist"
   ]
  },
  {
   "cell_type": "markdown",
   "id": "1772db44-efe3-4f90-acbd-3667e9697e8e",
   "metadata": {},
   "source": [
    "(풀이2)"
   ]
  },
  {
   "cell_type": "code",
   "execution_count": 62,
   "id": "0e06a512-4846-4db2-bff5-012b5f40176a",
   "metadata": {},
   "outputs": [],
   "source": [
    "x1=x.reshape(5,1)\n",
    "x2=x.reshape(1,5)"
   ]
  },
  {
   "cell_type": "code",
   "execution_count": 63,
   "id": "b7487d04-bdc8-4805-b473-eb400eeed0d4",
   "metadata": {},
   "outputs": [
    {
     "data": {
      "text/plain": [
       "array([[0],\n",
       "       [1],\n",
       "       [2],\n",
       "       [3],\n",
       "       [4]])"
      ]
     },
     "execution_count": 63,
     "metadata": {},
     "output_type": "execute_result"
    }
   ],
   "source": [
    "x1"
   ]
  },
  {
   "cell_type": "code",
   "execution_count": 64,
   "id": "ec2259ff-d9b7-4197-b085-db0a57d9da36",
   "metadata": {},
   "outputs": [
    {
     "data": {
      "text/plain": [
       "array([[0, 1, 2, 3, 4]])"
      ]
     },
     "execution_count": 64,
     "metadata": {},
     "output_type": "execute_result"
    }
   ],
   "source": [
    "x2"
   ]
  },
  {
   "cell_type": "code",
   "execution_count": 65,
   "id": "bbad52ec-f96b-4f28-a133-be8d486c83b4",
   "metadata": {},
   "outputs": [
    {
     "data": {
      "text/plain": [
       "array([[ 0, -1, -2, -3, -4],\n",
       "       [ 1,  0, -1, -2, -3],\n",
       "       [ 2,  1,  0, -1, -2],\n",
       "       [ 3,  2,  1,  0, -1],\n",
       "       [ 4,  3,  2,  1,  0]])"
      ]
     },
     "execution_count": 65,
     "metadata": {},
     "output_type": "execute_result"
    }
   ],
   "source": [
    "x1-x2"
   ]
  },
  {
   "cell_type": "code",
   "execution_count": 66,
   "id": "e6ee9665-e75e-40cc-9348-38eb842eddda",
   "metadata": {},
   "outputs": [
    {
     "data": {
      "text/plain": [
       "array([[ 0,  1,  4,  9, 16],\n",
       "       [ 1,  0,  1,  4,  9],\n",
       "       [ 4,  1,  0,  1,  4],\n",
       "       [ 9,  4,  1,  0,  1],\n",
       "       [16,  9,  4,  1,  0]])"
      ]
     },
     "execution_count": 66,
     "metadata": {},
     "output_type": "execute_result"
    }
   ],
   "source": [
    "(x1-x2)**2"
   ]
  },
  {
   "cell_type": "markdown",
   "id": "9ab1fbfc-740a-4665-a244-67eb25d1f450",
   "metadata": {},
   "source": [
    "---"
   ]
  },
  {
   "cell_type": "code",
   "execution_count": 67,
   "id": "3a2aa41c-bb9e-4bca-8d14-12226b44b27a",
   "metadata": {},
   "outputs": [],
   "source": [
    "y=np.array(range(10000))\n",
    "dist=np.zeros([10000,10000])"
   ]
  },
  {
   "cell_type": "code",
   "execution_count": 68,
   "id": "7a990610-e7c0-4410-8a9a-2c369b300d47",
   "metadata": {},
   "outputs": [
    {
     "data": {
      "text/plain": [
       "52.08049702644348"
      ]
     },
     "execution_count": 68,
     "metadata": {},
     "output_type": "execute_result"
    }
   ],
   "source": [
    "t1=time.time()\n",
    "for i in range(10000):\n",
    "    for j in range(10000):\n",
    "        dist[i,j]=(y[i]-y[j])**2\n",
    "t2=time.time()\n",
    "t2-t1"
   ]
  },
  {
   "cell_type": "code",
   "execution_count": 69,
   "id": "b60b1279-7315-46cc-aec2-e08bb61fd447",
   "metadata": {},
   "outputs": [],
   "source": [
    "y1=y.reshape(10000,1).astype(np.float64)\n",
    "y2=y.reshape(1,10000).astype(np.float64)"
   ]
  },
  {
   "cell_type": "code",
   "execution_count": 70,
   "id": "99f46868-2d91-4621-87e2-be696c2fec94",
   "metadata": {},
   "outputs": [
    {
     "data": {
      "text/plain": [
       "0.6161599159240723"
      ]
     },
     "execution_count": 70,
     "metadata": {},
     "output_type": "execute_result"
    }
   ],
   "source": [
    "t1=time.time()\n",
    "dist2=(y1-y2)**2\n",
    "t2=time.time()\n",
    "t2-t1"
   ]
  },
  {
   "cell_type": "code",
   "execution_count": 71,
   "id": "260c035f-1d71-4898-a9d8-54de3d6d1e9a",
   "metadata": {},
   "outputs": [
    {
     "data": {
      "text/plain": [
       "0.0"
      ]
     },
     "execution_count": 71,
     "metadata": {},
     "output_type": "execute_result"
    }
   ],
   "source": [
    "(dist-dist2).sum()"
   ]
  },
  {
   "cell_type": "markdown",
   "id": "86fd3cf4-f16a-40ce-a136-c466d72940de",
   "metadata": {},
   "source": [
    "### matplotlib"
   ]
  },
  {
   "cell_type": "code",
   "execution_count": 72,
   "id": "64cd58eb-1dfc-4b92-bfad-339aac80ec89",
   "metadata": {},
   "outputs": [],
   "source": [
    "import matplotlib.pyplot as plt"
   ]
  },
  {
   "cell_type": "markdown",
   "id": "97a0f753-088c-4e38-9f90-ef26b0422bf9",
   "metadata": {},
   "source": [
    "#### plt.plot"
   ]
  },
  {
   "cell_type": "markdown",
   "id": "f1ed52a0-e192-469c-b837-59eb58b068fe",
   "metadata": {},
   "source": [
    "`-` 기본그림"
   ]
  },
  {
   "cell_type": "code",
   "execution_count": 73,
   "id": "bbfa9554-d918-4cb4-bed3-7c63cfb7b13f",
   "metadata": {},
   "outputs": [
    {
     "data": {
      "text/plain": [
       "[<matplotlib.lines.Line2D at 0x7fa7c0eaccd0>]"
      ]
     },
     "execution_count": 73,
     "metadata": {},
     "output_type": "execute_result"
    },
    {
     "data": {
      "image/png": "[encoded data removed]",
      "text/plain": [
       "<Figure size 432x288 with 1 Axes>"
      ]
     },
     "metadata": {
      "needs_background": "light"
     },
     "output_type": "display_data"
    }
   ],
   "source": [
    "plt.plot([1,2,3],[2,4,6],'.')"
   ]
  },
  {
   "cell_type": "code",
   "execution_count": 74,
   "id": "7d033e6a-36eb-4353-9ca3-a97d261ce525",
   "metadata": {},
   "outputs": [
    {
     "data": {
      "text/plain": [
       "[<matplotlib.lines.Line2D at 0x7fa7d04126d0>]"
      ]
     },
     "execution_count": 74,
     "metadata": {},
     "output_type": "execute_result"
    },
    {
     "data": {
      "image/png": "[encoded data removed]",
      "text/plain": [
       "<Figure size 432x288 with 1 Axes>"
      ]
     },
     "metadata": {
      "needs_background": "light"
     },
     "output_type": "display_data"
    }
   ],
   "source": [
    "plt.plot(np.array([1,2,3]),np.array([2,4,6]),'.')"
   ]
  },
  {
   "cell_type": "markdown",
   "id": "333a43d3-ee75-4a43-b132-b0092711be06",
   "metadata": {},
   "source": [
    "`-` 예제들"
   ]
  },
  {
   "cell_type": "code",
   "execution_count": 75,
   "id": "368bb6c3-5113-4752-8951-798d3480b708",
   "metadata": {},
   "outputs": [],
   "source": [
    "t=np.linspace(-6,6,100)\n",
    "x=np.sin(t)\n",
    "y=np.cos(t)"
   ]
  },
  {
   "cell_type": "code",
   "execution_count": 76,
   "id": "b64f22aa-9166-4314-b898-536a5f803c6c",
   "metadata": {},
   "outputs": [
    {
     "data": {
      "text/plain": [
       "[<matplotlib.lines.Line2D at 0x7fa7c0eb0b80>]"
      ]
     },
     "execution_count": 76,
     "metadata": {},
     "output_type": "execute_result"
    },
    {
     "data": {
      "image/png": "[encoded data removed]",
      "text/plain": [
       "<Figure size 432x288 with 1 Axes>"
      ]
     },
     "metadata": {
      "needs_background": "light"
     },
     "output_type": "display_data"
    }
   ],
   "source": [
    "plt.plot(t,x)"
   ]
  },
  {
   "cell_type": "code",
   "execution_count": 77,
   "id": "c8f05245-8e27-4bd0-b7fe-9083e1290375",
   "metadata": {},
   "outputs": [
    {
     "data": {
      "text/plain": [
       "[<matplotlib.lines.Line2D at 0x7fa79804f2e0>]"
      ]
     },
     "execution_count": 77,
     "metadata": {},
     "output_type": "execute_result"
    },
    {
     "data": {
      "image/png": "[encoded data removed]",
      "text/plain": [
       "<Figure size 432x288 with 1 Axes>"
      ]
     },
     "metadata": {
      "needs_background": "light"
     },
     "output_type": "display_data"
    }
   ],
   "source": [
    "plt.plot(t,y)"
   ]
  },
  {
   "cell_type": "code",
   "execution_count": 78,
   "id": "617d5eae-9f29-4913-80b3-0e3b73a81166",
   "metadata": {},
   "outputs": [
    {
     "data": {
      "text/plain": [
       "[<matplotlib.lines.Line2D at 0x7fa7e0efa130>]"
      ]
     },
     "execution_count": 78,
     "metadata": {},
     "output_type": "execute_result"
    },
    {
     "data": {
      "image/png": "[encoded data removed]",
      "text/plain": [
       "<Figure size 432x288 with 1 Axes>"
      ]
     },
     "metadata": {
      "needs_background": "light"
     },
     "output_type": "display_data"
    }
   ],
   "source": [
    "plt.plot(t,x)\n",
    "plt.plot(t,y)"
   ]
  },
  {
   "cell_type": "code",
   "execution_count": 79,
   "id": "9b1e6bec-7169-49c8-b034-97942891ca17",
   "metadata": {},
   "outputs": [
    {
     "data": {
      "text/plain": [
       "[<matplotlib.lines.Line2D at 0x7fa7e0f61cd0>]"
      ]
     },
     "execution_count": 79,
     "metadata": {},
     "output_type": "execute_result"
    },
    {
     "data": {
      "image/png": "[encoded data removed]",
      "text/plain": [
       "<Figure size 432x288 with 1 Axes>"
      ]
     },
     "metadata": {
      "needs_background": "light"
     },
     "output_type": "display_data"
    }
   ],
   "source": [
    "plt.plot(t,x)\n",
    "plt.plot(t,y,'.')"
   ]
  },
  {
   "cell_type": "code",
   "execution_count": 81,
   "id": "3507df43-bad0-4356-90b2-8da9115791c5",
   "metadata": {},
   "outputs": [
    {
     "data": {
      "text/plain": [
       "[<matplotlib.lines.Line2D at 0x7fa7c1019850>]"
      ]
     },
     "execution_count": 81,
     "metadata": {},
     "output_type": "execute_result"
    },
    {
     "data": {
      "image/png": "[encoded data removed]",
      "text/plain": [
       "<Figure size 432x288 with 1 Axes>"
      ]
     },
     "metadata": {
      "needs_background": "light"
     },
     "output_type": "display_data"
    }
   ],
   "source": [
    "plt.plot(t,x)\n",
    "plt.plot(t,y,'--')"
   ]
  },
  {
   "cell_type": "markdown",
   "id": "c699684d-f6e6-4b07-98dc-140b8167590b",
   "metadata": {},
   "source": [
    "#### plt.hist"
   ]
  },
  {
   "cell_type": "code",
   "execution_count": 82,
   "id": "2918aab7-06a0-49db-8322-d61da96966f4",
   "metadata": {},
   "outputs": [],
   "source": [
    "X=np.random.randn(1000)\n",
    "Y=np.random.rand(1000)"
   ]
  },
  {
   "cell_type": "code",
   "execution_count": 83,
   "id": "e93dcce8-72d6-4583-b7a6-2a2ccba84b30",
   "metadata": {},
   "outputs": [
    {
     "data": {
      "text/plain": [
       "(array([  3.,  14.,  66., 157., 232., 245., 155.,  92.,  28.,   8.]),\n",
       " array([-3.29472542, -2.65210581, -2.0094862 , -1.36686658, -0.72424697,\n",
       "        -0.08162736,  0.56099226,  1.20361187,  1.84623148,  2.4888511 ,\n",
       "         3.13147071]),\n",
       " <BarContainer object of 10 artists>)"
      ]
     },
     "execution_count": 83,
     "metadata": {},
     "output_type": "execute_result"
    },
    {
     "data": {
      "image/png": "[encoded data removed]",
      "text/plain": [
       "<Figure size 432x288 with 1 Axes>"
      ]
     },
     "metadata": {
      "needs_background": "light"
     },
     "output_type": "display_data"
    }
   ],
   "source": [
    "plt.hist(X)"
   ]
  },
  {
   "cell_type": "code",
   "execution_count": 84,
   "id": "d93271c8-e366-4bb3-b96f-dd3d4f47b06b",
   "metadata": {},
   "outputs": [
    {
     "data": {
      "text/plain": [
       "(array([110., 100., 113.,  98.,  83., 103.,  97.,  89.,  95., 112.]),\n",
       " array([6.93471885e-04, 1.00483125e-01, 2.00272778e-01, 3.00062432e-01,\n",
       "        3.99852085e-01, 4.99641738e-01, 5.99431391e-01, 6.99221045e-01,\n",
       "        7.99010698e-01, 8.98800351e-01, 9.98590004e-01]),\n",
       " <BarContainer object of 10 artists>)"
      ]
     },
     "execution_count": 84,
     "metadata": {},
     "output_type": "execute_result"
    },
    {
     "data": {
      "image/png": "[encoded data removed]",
      "text/plain": [
       "<Figure size 432x288 with 1 Axes>"
      ]
     },
     "metadata": {
      "needs_background": "light"
     },
     "output_type": "display_data"
    }
   ],
   "source": [
    "plt.hist(Y)"
   ]
  },
  {
   "cell_type": "code",
   "execution_count": null,
   "id": "e4f7111e-02c8-4846-8136-f49e435d4fad",
   "metadata": {},
   "outputs": [],
   "source": []
  }
 ],
 "metadata": {
  "kernelspec": {
   "display_name": "Python 3 (ipykernel)",
   "language": "python",
   "name": "python3"
  },
  "language_info": {
   "codemirror_mode": {
    "name": "ipython",
    "version": 3
   },
   "file_extension": ".py",
   "mimetype": "text/x-python",
   "name": "python",
   "nbconvert_exporter": "python",
   "pygments_lexer": "ipython3",
   "version": "3.9.7"
  }
 },
 "nbformat": 4,
 "nbformat_minor": 5
}
