{
 "cells": [
  {
   "cell_type": "markdown",
   "id": "ea6a1812-eff9-4725-bfe0-9787620aa7e8",
   "metadata": {
    "tags": []
   },
   "source": [
    "# 파이썬 5월 18일 강의 복습\n",
    "> \"7월 9일\"\n",
    "\n",
    "- toc:true\n",
    "- branch: master\n",
    "- badges: true\n",
    "- comments: true\n",
    "- author: 최석진\n",
    "- categories: [Python]"
   ]
  },
  {
   "cell_type": "markdown",
   "id": "596e6548-2234-4b04-b45e-7ae7e3225e13",
   "metadata": {},
   "source": [
    "## 클래스 공부 3단계"
   ]
  },
  {
   "cell_type": "markdown",
   "id": "7a6bcd4b-e788-4108-a7aa-a070fea54df1",
   "metadata": {},
   "source": [
    "`-` 이 단계에서는 클래스오브젝트에 소속된 변수와 인스턴스오브젝트에 소속된 변수를 설명"
   ]
  },
  {
   "cell_type": "markdown",
   "id": "d5c88947-c65f-4810-82d1-6dc1f5044997",
   "metadata": {},
   "source": [
    "### 오브젝트의 개념"
   ]
  },
  {
   "cell_type": "markdown",
   "id": "8f31d9e4-687e-412d-aaea-bd133b11a986",
   "metadata": {},
   "source": [
    "`-` 파이썬은 모든 것이 오브젝트로 이루어져 있다."
   ]
  },
  {
   "cell_type": "markdown",
   "id": "f9270bb9-147c-4293-b098-b3179ee61f39",
   "metadata": {},
   "source": [
    "`-` 오브젝트는 메모리주소에 저장되는 모든 것을 의미"
   ]
  },
  {
   "cell_type": "code",
   "execution_count": 1,
   "id": "c9fcb54f-5c15-4bb5-8691-cdbdcb464744",
   "metadata": {},
   "outputs": [
    {
     "data": {
      "text/plain": [
       "140690243905840"
      ]
     },
     "execution_count": 1,
     "metadata": {},
     "output_type": "execute_result"
    }
   ],
   "source": [
    "a=1\n",
    "id(a) #메모리주소 확인하는 명령어"
   ]
  },
  {
   "cell_type": "code",
   "execution_count": 2,
   "id": "47a1683f-8813-42c7-b27d-5e788639d352",
   "metadata": {},
   "outputs": [
    {
     "data": {
      "text/plain": [
       "140690274179376"
      ]
     },
     "execution_count": 2,
     "metadata": {},
     "output_type": "execute_result"
    }
   ],
   "source": [
    "a='asdf'\n",
    "id(a)"
   ]
  },
  {
   "cell_type": "code",
   "execution_count": 3,
   "id": "8056202c-bcd7-4ea1-b81e-bed5e39618ba",
   "metadata": {},
   "outputs": [
    {
     "data": {
      "text/plain": [
       "140689706947712"
      ]
     },
     "execution_count": 3,
     "metadata": {},
     "output_type": "execute_result"
    }
   ],
   "source": [
    "a=[1,2,3]\n",
    "id(a)"
   ]
  },
  {
   "cell_type": "markdown",
   "id": "ef910e01-78b3-42d9-a12a-e5d978c2e529",
   "metadata": {},
   "source": [
    "`-` 클래스와 인스턴스도 오브젝트다"
   ]
  },
  {
   "cell_type": "code",
   "execution_count": 4,
   "id": "4fe526e3-e64e-418a-9901-95e8ee5733c5",
   "metadata": {},
   "outputs": [],
   "source": [
    "class A:\n",
    "    x=0\n",
    "    def f(self):\n",
    "        print(self.x)"
   ]
  },
  {
   "cell_type": "code",
   "execution_count": 5,
   "id": "771a8313-7c63-4091-b43a-e2ac3fbcbb54",
   "metadata": {},
   "outputs": [
    {
     "data": {
      "text/plain": [
       "140689864153760"
      ]
     },
     "execution_count": 5,
     "metadata": {},
     "output_type": "execute_result"
    }
   ],
   "source": [
    "id(A)"
   ]
  },
  {
   "cell_type": "markdown",
   "id": "c4b97765-2fd1-4769-a728-6dc4f653f30e",
   "metadata": {},
   "source": [
    "- A는 오브젝트"
   ]
  },
  {
   "cell_type": "code",
   "execution_count": 6,
   "id": "2c033b9f-b448-4118-8719-9e213cffef39",
   "metadata": {},
   "outputs": [
    {
     "data": {
      "text/plain": [
       "140690274311712"
      ]
     },
     "execution_count": 6,
     "metadata": {},
     "output_type": "execute_result"
    }
   ],
   "source": [
    "a=A()\n",
    "id(a)"
   ]
  },
  {
   "cell_type": "markdown",
   "id": "8875cc18-860c-4460-b96d-cce874c74c1d",
   "metadata": {},
   "source": [
    "- a는 오브젝트"
   ]
  },
  {
   "cell_type": "code",
   "execution_count": 7,
   "id": "59a3d127-ab9d-460c-a43a-5dbdc5a5525a",
   "metadata": {},
   "outputs": [
    {
     "data": {
      "text/plain": [
       "140690274309792"
      ]
     },
     "execution_count": 7,
     "metadata": {},
     "output_type": "execute_result"
    }
   ],
   "source": [
    "b=A()\n",
    "id(b)"
   ]
  },
  {
   "cell_type": "markdown",
   "id": "3eb07770-e393-471e-aae8-7905601c4377",
   "metadata": {},
   "source": [
    "- b는 오브젝트"
   ]
  },
  {
   "cell_type": "markdown",
   "id": "9bc82ee9-c520-4238-9dc9-0b4d17c66461",
   "metadata": {},
   "source": [
    "`-` A는 클래스오브젝트 / a,b는 인스턴스오브젝트 라고 함"
   ]
  },
  {
   "cell_type": "markdown",
   "id": "dcc318c4-a79a-4f4c-bef8-77fd014828b1",
   "metadata": {},
   "source": [
    "### 예제1: 클래스변수, 인스턴스변수"
   ]
  },
  {
   "cell_type": "markdown",
   "id": "d5f9634d-b8d9-416b-a4cb-7dbd0c3bfd9e",
   "metadata": {},
   "source": [
    "`-` 시점 0"
   ]
  },
  {
   "cell_type": "code",
   "execution_count": 9,
   "id": "fe3ec055-7a3e-4cb4-9c0a-b7dcdf546f2c",
   "metadata": {},
   "outputs": [],
   "source": [
    "class A:\n",
    "    x=0\n",
    "    y=0\n",
    "    def f(self):\n",
    "        self.x=self.x+1\n",
    "        A.y=A.y+1\n",
    "        print(\"현재 인스턴스에서 f가 {}번 실행\".format(self.x))\n",
    "        print(\"A클래스에서 만들어진 모든 인스턴스들에서 f가 총 {}번 실행\".format(self.y))"
   ]
  },
  {
   "cell_type": "code",
   "execution_count": 10,
   "id": "44c7aed6-cc94-47e1-bfa4-023f99f3eca0",
   "metadata": {},
   "outputs": [
    {
     "data": {
      "text/plain": [
       "(0, 0)"
      ]
     },
     "execution_count": 10,
     "metadata": {},
     "output_type": "execute_result"
    }
   ],
   "source": [
    "A.x,A.y"
   ]
  },
  {
   "cell_type": "markdown",
   "id": "012283c8-76bb-4446-a711-484aec8c31a4",
   "metadata": {},
   "source": [
    "`-` 시점 1"
   ]
  },
  {
   "cell_type": "code",
   "execution_count": 12,
   "id": "6c596393-b972-4390-b919-8b6a2d712eb0",
   "metadata": {},
   "outputs": [],
   "source": [
    "a=A()\n",
    "b=A()"
   ]
  },
  {
   "cell_type": "code",
   "execution_count": 13,
   "id": "b3db2338-9e16-4176-9eb8-1b63d2a8913c",
   "metadata": {},
   "outputs": [
    {
     "data": {
      "text/plain": [
       "([0, 0], [0, 0], [0, 0])"
      ]
     },
     "execution_count": 13,
     "metadata": {},
     "output_type": "execute_result"
    }
   ],
   "source": [
    "[A.x,A.y],[a.x,a.y],[b.x,b.y]"
   ]
  },
  {
   "cell_type": "markdown",
   "id": "daa4fce2-eaf3-4592-a5f4-c05b0bc23896",
   "metadata": {},
   "source": [
    "`-` 시점 2"
   ]
  },
  {
   "cell_type": "code",
   "execution_count": 14,
   "id": "feac0b7f-108d-464c-94ef-d7f0d58a04c4",
   "metadata": {},
   "outputs": [
    {
     "name": "stdout",
     "output_type": "stream",
     "text": [
      "현재 인스턴스에서 f가 1번 실행\n",
      "A클래스에서 만들어진 모든 인스턴스들에서 f가 총 1번 실행\n"
     ]
    }
   ],
   "source": [
    "a.f()"
   ]
  },
  {
   "cell_type": "code",
   "execution_count": 15,
   "id": "7d527dea-65cf-478a-ac3f-804d134c4f74",
   "metadata": {},
   "outputs": [
    {
     "data": {
      "text/plain": [
       "([0, 1], [1, 1], [0, 1])"
      ]
     },
     "execution_count": 15,
     "metadata": {},
     "output_type": "execute_result"
    }
   ],
   "source": [
    "[A.x,A.y],[a.x,a.y],[b.x,b.y]"
   ]
  },
  {
   "cell_type": "markdown",
   "id": "f582c53a-aa76-47c6-8a63-85580523dad5",
   "metadata": {},
   "source": [
    "`-` 시점 3"
   ]
  },
  {
   "cell_type": "code",
   "execution_count": 16,
   "id": "e076db9e-bb02-4b47-a387-fca2d65e8361",
   "metadata": {},
   "outputs": [
    {
     "name": "stdout",
     "output_type": "stream",
     "text": [
      "현재 인스턴스에서 f가 1번 실행\n",
      "A클래스에서 만들어진 모든 인스턴스들에서 f가 총 2번 실행\n"
     ]
    }
   ],
   "source": [
    "b.f()"
   ]
  },
  {
   "cell_type": "code",
   "execution_count": 17,
   "id": "3f2f04b7-ca2c-4b6d-9187-13f1a4426b34",
   "metadata": {},
   "outputs": [
    {
     "data": {
      "text/plain": [
       "([0, 2], [1, 2], [1, 2])"
      ]
     },
     "execution_count": 17,
     "metadata": {},
     "output_type": "execute_result"
    }
   ],
   "source": [
    "[A.x,A.y],[a.x,a.y],[b.x,b.y]"
   ]
  },
  {
   "cell_type": "markdown",
   "id": "9533b8db-b5c1-4524-9584-ecc584cb60b2",
   "metadata": {},
   "source": [
    "`-` 시점 4"
   ]
  },
  {
   "cell_type": "code",
   "execution_count": 18,
   "id": "fecad4da-5452-4e9b-a80a-572c5c17d62c",
   "metadata": {},
   "outputs": [
    {
     "name": "stdout",
     "output_type": "stream",
     "text": [
      "현재 인스턴스에서 f가 2번 실행\n",
      "A클래스에서 만들어진 모든 인스턴스들에서 f가 총 3번 실행\n"
     ]
    }
   ],
   "source": [
    "b.f()"
   ]
  },
  {
   "cell_type": "code",
   "execution_count": 19,
   "id": "a1bd57d8-d54b-4f31-96c0-99d890fe6739",
   "metadata": {},
   "outputs": [
    {
     "data": {
      "text/plain": [
       "([0, 3], [1, 3], [2, 3])"
      ]
     },
     "execution_count": 19,
     "metadata": {},
     "output_type": "execute_result"
    }
   ],
   "source": [
    "[A.x,A.y],[a.x,a.y],[b.x,b.y]"
   ]
  },
  {
   "cell_type": "markdown",
   "id": "c886415c-3c9e-4f97-b839-547236c9af5b",
   "metadata": {},
   "source": [
    "`-` 시점 5"
   ]
  },
  {
   "cell_type": "code",
   "execution_count": 20,
   "id": "a69e1279-fadd-4705-9429-b97f4489ac8b",
   "metadata": {},
   "outputs": [
    {
     "name": "stdout",
     "output_type": "stream",
     "text": [
      "현재 인스턴스에서 f가 2번 실행\n",
      "A클래스에서 만들어진 모든 인스턴스들에서 f가 총 4번 실행\n"
     ]
    }
   ],
   "source": [
    "a.f()"
   ]
  },
  {
   "cell_type": "code",
   "execution_count": 21,
   "id": "1c8044ad-3b9b-4d77-aa03-c9c798d06fc7",
   "metadata": {},
   "outputs": [
    {
     "data": {
      "text/plain": [
       "([0, 4], [2, 4], [2, 4])"
      ]
     },
     "execution_count": 21,
     "metadata": {},
     "output_type": "execute_result"
    }
   ],
   "source": [
    "[A.x,A.y],[a.x,a.y],[b.x,b.y]"
   ]
  },
  {
   "cell_type": "markdown",
   "id": "f5795f7d-5e81-4def-8369-8fe8893b7a8b",
   "metadata": {},
   "source": [
    "`-` 시점 6"
   ]
  },
  {
   "cell_type": "code",
   "execution_count": 22,
   "id": "f441279d-9a4d-450b-88eb-d01f156ba9ab",
   "metadata": {},
   "outputs": [],
   "source": [
    "c=A()"
   ]
  },
  {
   "cell_type": "code",
   "execution_count": 23,
   "id": "0e0f7e0f-0501-4113-887c-37cc1516a789",
   "metadata": {},
   "outputs": [
    {
     "data": {
      "text/plain": [
       "([0, 4], [2, 4], [2, 4], [0, 4])"
      ]
     },
     "execution_count": 23,
     "metadata": {},
     "output_type": "execute_result"
    }
   ],
   "source": [
    "[A.x,A.y],[a.x,a.y],[b.x,b.y],[c.x,c.y]"
   ]
  },
  {
   "cell_type": "markdown",
   "id": "e2c0e2bf-4067-4b5a-8643-f18b66125d7c",
   "metadata": {},
   "source": [
    "`-` 시점 7"
   ]
  },
  {
   "cell_type": "code",
   "execution_count": 24,
   "id": "33fcb303-95bc-45ab-971f-2f3ab72df1a0",
   "metadata": {},
   "outputs": [
    {
     "name": "stdout",
     "output_type": "stream",
     "text": [
      "현재 인스턴스에서 f가 1번 실행\n",
      "A클래스에서 만들어진 모든 인스턴스들에서 f가 총 5번 실행\n"
     ]
    }
   ],
   "source": [
    "c.f()"
   ]
  },
  {
   "cell_type": "code",
   "execution_count": 25,
   "id": "fe013720-05a5-4adb-897d-e7438e47edb2",
   "metadata": {},
   "outputs": [
    {
     "data": {
      "text/plain": [
       "([0, 5], [2, 5], [2, 5], [1, 5])"
      ]
     },
     "execution_count": 25,
     "metadata": {},
     "output_type": "execute_result"
    }
   ],
   "source": [
    "[A.x,A.y],[a.x,a.y],[b.x,b.y],[c.x,c.y]"
   ]
  },
  {
   "cell_type": "markdown",
   "id": "269ffbf7-7e93-476a-942b-ccb4485fdee2",
   "metadata": {},
   "source": [
    "`-` 각 인스턴스에서 `인스턴스이름.f()`를 실행한 횟수를 서로 공유하는 듯 하다.(A가 관리하는 것처럼 느껴짐)\n",
    "\n",
    "`-` x와 y는 약간 느낌이 다름. 예를 들면 x는 지점소속, y는 본사소속의 느낌\n",
    "\n",
    "*이 예제에서 x는 인스턴스오브젝트에 소속된 변수, y는 클래스오브젝트에 소속된 변수처럼 느껴짐*\n",
    "\n",
    "약속 -> 앞으로 인스턴스오브젝트에 소속된 변수를 인스턴스변수라고 하고, 클래스오브젝트에 소속된 변수를 클래스변수라고 하자.\n",
    "\n",
    "`-` 인스턴스변수와 클래스변수를 구분하는 방법?  `인스턴스이름.__dict__`를 쓰면 인스턴스변수만 출력된다\n",
    "\n",
    "- 따라서 a.+tab을 눌러서 나오는 변수증 `a.__dict__`에 출력되지 않으면 클래스변수이다."
   ]
  },
  {
   "cell_type": "code",
   "execution_count": 26,
   "id": "354b34e4-91bc-4fb9-8dfa-2515f531ee1a",
   "metadata": {},
   "outputs": [
    {
     "data": {
      "text/plain": [
       "{'x': 2}"
      ]
     },
     "execution_count": 26,
     "metadata": {},
     "output_type": "execute_result"
    }
   ],
   "source": [
    "a.__dict__"
   ]
  },
  {
   "cell_type": "code",
   "execution_count": 27,
   "id": "baf4e3ad-e4f4-4a33-bba0-f2418e202d5c",
   "metadata": {},
   "outputs": [
    {
     "data": {
      "text/plain": [
       "{'x': 2}"
      ]
     },
     "execution_count": 27,
     "metadata": {},
     "output_type": "execute_result"
    }
   ],
   "source": [
    "b.__dict__"
   ]
  },
  {
   "cell_type": "code",
   "execution_count": 28,
   "id": "10d12584-54c2-44ad-ade8-ee751b17c368",
   "metadata": {},
   "outputs": [
    {
     "data": {
      "text/plain": [
       "{'x': 1}"
      ]
     },
     "execution_count": 28,
     "metadata": {},
     "output_type": "execute_result"
    }
   ],
   "source": [
    "c.__dict__"
   ]
  },
  {
   "cell_type": "markdown",
   "id": "eef01666-bb15-4cc4-a0d6-cf117d610fce",
   "metadata": {},
   "source": [
    "`-` 이 예제에서 아래는 모두 클래스변수이다."
   ]
  },
  {
   "cell_type": "code",
   "execution_count": 29,
   "id": "270b0810-6c35-4ce5-812c-0b8a5d37399c",
   "metadata": {},
   "outputs": [
    {
     "data": {
      "text/plain": [
       "(5, 5, 5)"
      ]
     },
     "execution_count": 29,
     "metadata": {},
     "output_type": "execute_result"
    }
   ],
   "source": [
    "a.y,b.y,c.y"
   ]
  },
  {
   "cell_type": "markdown",
   "id": "0361a001-7370-4dbc-a552-d2a6d63d3c92",
   "metadata": {
    "tags": []
   },
   "source": [
    "### 예제2: 인스턴스에서 변수 x 변경 (변경가능)"
   ]
  },
  {
   "cell_type": "markdown",
   "id": "329ceb0a-0613-4839-8bcb-6f9b55c83c9b",
   "metadata": {},
   "source": [
    "`-` 시점 0"
   ]
  },
  {
   "cell_type": "code",
   "execution_count": 31,
   "id": "d5c4f740-d3eb-4b8c-bfd9-f980370a23bc",
   "metadata": {},
   "outputs": [],
   "source": [
    "class A:\n",
    "    x=0\n",
    "    y=0\n",
    "    def f(self):\n",
    "        self.x=self.x+1\n",
    "        A.y=A.y+1\n",
    "        print(\"현재 인스턴스에서 f가 {}번 실행\".format(self.x))\n",
    "        print(\"A클래스에서 만들어진 모든 인스턴스들에서 f가 총 {}번 실행\".format(self.y))"
   ]
  },
  {
   "cell_type": "code",
   "execution_count": 32,
   "id": "2f7c7700-6ad4-4ff1-bca4-c1fb3931b47d",
   "metadata": {},
   "outputs": [],
   "source": [
    "a=A()"
   ]
  },
  {
   "cell_type": "code",
   "execution_count": 33,
   "id": "c80f4686-1b5c-406c-b3c6-ad54febd3f59",
   "metadata": {},
   "outputs": [
    {
     "data": {
      "text/plain": [
       "([0, 0], [0, 0])"
      ]
     },
     "execution_count": 33,
     "metadata": {},
     "output_type": "execute_result"
    }
   ],
   "source": [
    "[A.x,A.y],[a.x,a.y]"
   ]
  },
  {
   "cell_type": "markdown",
   "id": "eb5e1d07-b754-44b9-9e0e-58dd25e00a18",
   "metadata": {},
   "source": [
    "`-` 시점 1"
   ]
  },
  {
   "cell_type": "code",
   "execution_count": 34,
   "id": "7422f48a-e809-480e-8237-59e1c489eefe",
   "metadata": {},
   "outputs": [
    {
     "name": "stdout",
     "output_type": "stream",
     "text": [
      "현재 인스턴스에서 f가 1번 실행\n",
      "A클래스에서 만들어진 모든 인스턴스들에서 f가 총 1번 실행\n"
     ]
    }
   ],
   "source": [
    "a.f()"
   ]
  },
  {
   "cell_type": "code",
   "execution_count": 35,
   "id": "135feeb5-1454-47f5-865e-19238adbcc83",
   "metadata": {},
   "outputs": [
    {
     "name": "stdout",
     "output_type": "stream",
     "text": [
      "현재 인스턴스에서 f가 2번 실행\n",
      "A클래스에서 만들어진 모든 인스턴스들에서 f가 총 2번 실행\n"
     ]
    }
   ],
   "source": [
    "a.f()"
   ]
  },
  {
   "cell_type": "code",
   "execution_count": 36,
   "id": "182d0655-81b6-4178-b963-c4c0e3962ab3",
   "metadata": {},
   "outputs": [
    {
     "name": "stdout",
     "output_type": "stream",
     "text": [
      "현재 인스턴스에서 f가 3번 실행\n",
      "A클래스에서 만들어진 모든 인스턴스들에서 f가 총 3번 실행\n"
     ]
    }
   ],
   "source": [
    "a.f()"
   ]
  },
  {
   "cell_type": "code",
   "execution_count": 37,
   "id": "93287424-8756-4e24-8d3b-10a5085e0710",
   "metadata": {},
   "outputs": [
    {
     "data": {
      "text/plain": [
       "([0, 3], [3, 3])"
      ]
     },
     "execution_count": 37,
     "metadata": {},
     "output_type": "execute_result"
    }
   ],
   "source": [
    "[A.x,A.y],[a.x,a.y]"
   ]
  },
  {
   "cell_type": "markdown",
   "id": "c1f1dbd6-b236-426f-a99d-0c7e79ec66ae",
   "metadata": {},
   "source": [
    "`-` 시점 2"
   ]
  },
  {
   "cell_type": "code",
   "execution_count": 38,
   "id": "4eb770f7-7be4-437a-8c2b-cd76e218b03c",
   "metadata": {},
   "outputs": [],
   "source": [
    "a.x=0 #f의 실행기록을 초기화하고 싶음"
   ]
  },
  {
   "cell_type": "code",
   "execution_count": 39,
   "id": "04f83d65-bb03-4c51-9921-809b39332eed",
   "metadata": {},
   "outputs": [
    {
     "name": "stdout",
     "output_type": "stream",
     "text": [
      "현재 인스턴스에서 f가 1번 실행\n",
      "A클래스에서 만들어진 모든 인스턴스들에서 f가 총 4번 실행\n"
     ]
    }
   ],
   "source": [
    "a.f()"
   ]
  },
  {
   "cell_type": "code",
   "execution_count": 40,
   "id": "ee9ee49a-e9c1-4820-b137-fc887929f6ed",
   "metadata": {},
   "outputs": [
    {
     "data": {
      "text/plain": [
       "([0, 4], [1, 4])"
      ]
     },
     "execution_count": 40,
     "metadata": {},
     "output_type": "execute_result"
    }
   ],
   "source": [
    "[A.x,A.y],[a.x,a.y]"
   ]
  },
  {
   "cell_type": "markdown",
   "id": "4df508d9-69d8-4c13-8175-29ca6839ec13",
   "metadata": {},
   "source": [
    "### 예제3: 클래스에서 변수 y 변경 (변경가능)"
   ]
  },
  {
   "cell_type": "markdown",
   "id": "47d70203-dde6-44f8-b83e-471e10a20b7b",
   "metadata": {},
   "source": [
    "`-` 시점 0"
   ]
  },
  {
   "cell_type": "code",
   "execution_count": 50,
   "id": "16e5a468-49f7-4288-9a90-9263d6bcba55",
   "metadata": {},
   "outputs": [],
   "source": [
    "class A:\n",
    "    x=0\n",
    "    y=0\n",
    "    def f(self):\n",
    "        self.x=self.x+1\n",
    "        A.y=A.y+1\n",
    "        print(\"현재 인스턴스에서 f가 {}번 실행\".format(self.x))\n",
    "        print(\"A클래스에서 만들어진 모든 인스턴스들에서 f가 총 {}번 실행\".format(self.y))"
   ]
  },
  {
   "cell_type": "code",
   "execution_count": 42,
   "id": "5019da8e-67e4-4f8d-abd5-5a1eb99287fe",
   "metadata": {},
   "outputs": [],
   "source": [
    "a=A()\n",
    "b=A()"
   ]
  },
  {
   "cell_type": "code",
   "execution_count": 43,
   "id": "13811817-f62b-4b0b-bc03-60f47416879a",
   "metadata": {},
   "outputs": [
    {
     "data": {
      "text/plain": [
       "([0, 0], [0, 0], [0, 0])"
      ]
     },
     "execution_count": 43,
     "metadata": {},
     "output_type": "execute_result"
    }
   ],
   "source": [
    "[A.x,A.y],[a.x,a.y],[b.x,b.y]"
   ]
  },
  {
   "cell_type": "markdown",
   "id": "ddd809ee-cbdb-4fd3-be1d-5cbc28e93b12",
   "metadata": {},
   "source": [
    "`-` 시점 1"
   ]
  },
  {
   "cell_type": "code",
   "execution_count": 44,
   "id": "5861d475-ce97-40d9-8fae-d4d304881b61",
   "metadata": {},
   "outputs": [
    {
     "name": "stdout",
     "output_type": "stream",
     "text": [
      "현재 인스턴스에서 f가 1번 실행\n",
      "A클래스에서 만들어진 모든 인스턴스들에서 f가 총 1번 실행\n"
     ]
    }
   ],
   "source": [
    "a.f()"
   ]
  },
  {
   "cell_type": "code",
   "execution_count": 45,
   "id": "38d59610-5683-4bea-9e1d-a9ca27d553c0",
   "metadata": {},
   "outputs": [
    {
     "data": {
      "text/plain": [
       "([0, 1], [1, 1], [0, 1])"
      ]
     },
     "execution_count": 45,
     "metadata": {},
     "output_type": "execute_result"
    }
   ],
   "source": [
    "[A.x,A.y],[a.x,a.y],[b.x,b.y]"
   ]
  },
  {
   "cell_type": "markdown",
   "id": "e379e64d-2379-4499-94f0-8e803209056f",
   "metadata": {},
   "source": [
    "`-` 시점 2"
   ]
  },
  {
   "cell_type": "code",
   "execution_count": 46,
   "id": "4eba9abf-2140-419c-8074-028f94ed1a37",
   "metadata": {},
   "outputs": [],
   "source": [
    "A.y=100"
   ]
  },
  {
   "cell_type": "code",
   "execution_count": 47,
   "id": "5689e9b0-0496-4144-b716-59ad7b018d34",
   "metadata": {},
   "outputs": [
    {
     "data": {
      "text/plain": [
       "([0, 100], [1, 100], [0, 100])"
      ]
     },
     "execution_count": 47,
     "metadata": {},
     "output_type": "execute_result"
    }
   ],
   "source": [
    "[A.x,A.y],[a.x,a.y],[b.x,b.y]"
   ]
  },
  {
   "cell_type": "code",
   "execution_count": 48,
   "id": "ce52e823-1f4e-4bc8-908a-a526960a19df",
   "metadata": {},
   "outputs": [
    {
     "name": "stdout",
     "output_type": "stream",
     "text": [
      "현재 인스턴스에서 f가 2번 실행\n",
      "A클래스에서 만들어진 모든 인스턴스들에서 f가 총 101번 실행\n"
     ]
    }
   ],
   "source": [
    "a.f()"
   ]
  },
  {
   "cell_type": "code",
   "execution_count": 51,
   "id": "5d88f7c4-4e3e-423d-8d9d-43e5fa41ba36",
   "metadata": {},
   "outputs": [
    {
     "data": {
      "text/plain": [
       "([0, 0], [2, 101], [0, 101])"
      ]
     },
     "execution_count": 51,
     "metadata": {},
     "output_type": "execute_result"
    }
   ],
   "source": [
    "[A.x,A.y],[a.x,a.y],[b.x,b.y]"
   ]
  },
  {
   "cell_type": "markdown",
   "id": "02890198-9f75-4cec-86e2-58e94f54a573",
   "metadata": {},
   "source": [
    "### 예제4: 클래스에서 변수 x 변경 (변경가능)"
   ]
  },
  {
   "cell_type": "markdown",
   "id": "56613b45-57e5-4f7c-a99f-8d6ebc666935",
   "metadata": {},
   "source": [
    "`-` 시점 0"
   ]
  },
  {
   "cell_type": "code",
   "execution_count": 52,
   "id": "f0fdb8a6-99d3-44c7-ac48-c1fab1586eed",
   "metadata": {},
   "outputs": [],
   "source": [
    "class A:\n",
    "    x=0\n",
    "    y=0\n",
    "    def f(self):\n",
    "        self.x=self.x+1\n",
    "        A.y=A.y+1\n",
    "        print(\"현재 인스턴스에서 f가 {}번 실행\".format(self.x))\n",
    "        print(\"A클래스에서 만들어진 모든 인스턴스들에서 f가 총 {}번 실행\".format(self.y))"
   ]
  },
  {
   "cell_type": "code",
   "execution_count": 53,
   "id": "bad96b73-350a-4ac2-b2ed-ac44a66bf5a7",
   "metadata": {},
   "outputs": [],
   "source": [
    "a=A()"
   ]
  },
  {
   "cell_type": "code",
   "execution_count": 54,
   "id": "2455ff4b-f4fb-482d-9066-92b415a2e169",
   "metadata": {},
   "outputs": [
    {
     "data": {
      "text/plain": [
       "([0, 0], [0, 0])"
      ]
     },
     "execution_count": 54,
     "metadata": {},
     "output_type": "execute_result"
    }
   ],
   "source": [
    "[A.x,A.y],[a.x,a.y]"
   ]
  },
  {
   "cell_type": "markdown",
   "id": "d22723d8-c896-4a1a-b301-90e051d057a5",
   "metadata": {},
   "source": [
    "`-` 시점 1"
   ]
  },
  {
   "cell_type": "code",
   "execution_count": 55,
   "id": "aaaf79c8-f0a2-4447-8bfe-3ac4307eff57",
   "metadata": {},
   "outputs": [
    {
     "name": "stdout",
     "output_type": "stream",
     "text": [
      "현재 인스턴스에서 f가 1번 실행\n",
      "A클래스에서 만들어진 모든 인스턴스들에서 f가 총 1번 실행\n"
     ]
    }
   ],
   "source": [
    "a.f()"
   ]
  },
  {
   "cell_type": "code",
   "execution_count": 56,
   "id": "a0599faa-f51f-4cc0-8743-1f79e7a6dfe1",
   "metadata": {},
   "outputs": [
    {
     "data": {
      "text/plain": [
       "([0, 1], [1, 1])"
      ]
     },
     "execution_count": 56,
     "metadata": {},
     "output_type": "execute_result"
    }
   ],
   "source": [
    "[A.x,A.y],[a.x,a.y]"
   ]
  },
  {
   "cell_type": "markdown",
   "id": "544be934-4157-4e27-a05a-be952297dc49",
   "metadata": {},
   "source": [
    "`-` 시점 2"
   ]
  },
  {
   "cell_type": "code",
   "execution_count": 57,
   "id": "9135c21b-96c0-4dd1-b8bd-7b1abfa026d6",
   "metadata": {},
   "outputs": [],
   "source": [
    "A.x = 100 # 이렇게 되면 앞으로 만들어진 인스턴스는 기본적으로 현재 인스턴스에서 100번 f를 실행하였다는 정보를 가지고 태어나게 됨."
   ]
  },
  {
   "cell_type": "code",
   "execution_count": 58,
   "id": "9b71705b-928c-4f07-b0e4-b8decf40e8bc",
   "metadata": {},
   "outputs": [
    {
     "data": {
      "text/plain": [
       "([100, 1], [1, 1])"
      ]
     },
     "execution_count": 58,
     "metadata": {},
     "output_type": "execute_result"
    }
   ],
   "source": [
    "[A.x,A.y],[a.x,a.y]"
   ]
  },
  {
   "cell_type": "markdown",
   "id": "3bf18df3-31ba-4f5e-8368-7508650aa7cf",
   "metadata": {},
   "source": [
    "`-` 시점 3"
   ]
  },
  {
   "cell_type": "code",
   "execution_count": 59,
   "id": "d5f53685-b151-4f4d-b349-20565d6b0ae0",
   "metadata": {},
   "outputs": [],
   "source": [
    "b=A()"
   ]
  },
  {
   "cell_type": "code",
   "execution_count": 60,
   "id": "2d08d61c-ecee-4249-a025-ee9271254cea",
   "metadata": {},
   "outputs": [
    {
     "data": {
      "text/plain": [
       "([100, 1], [1, 1], [100, 1])"
      ]
     },
     "execution_count": 60,
     "metadata": {},
     "output_type": "execute_result"
    }
   ],
   "source": [
    "[A.x,A.y],[a.x,a.y],[b.x,b.y]"
   ]
  },
  {
   "cell_type": "markdown",
   "id": "d23fa18e-99a4-46ac-b046-0205a7f05152",
   "metadata": {},
   "source": [
    "`-` 시점 4"
   ]
  },
  {
   "cell_type": "code",
   "execution_count": 61,
   "id": "e13d5dbe-b7d1-44b2-9b70-5e74305b13d0",
   "metadata": {},
   "outputs": [
    {
     "name": "stdout",
     "output_type": "stream",
     "text": [
      "현재 인스턴스에서 f가 101번 실행\n",
      "A클래스에서 만들어진 모든 인스턴스들에서 f가 총 2번 실행\n"
     ]
    }
   ],
   "source": [
    "b.f()"
   ]
  },
  {
   "cell_type": "markdown",
   "id": "525cee45-df41-4573-80f8-21aa8ef724d2",
   "metadata": {},
   "source": [
    "`-` 시점 5"
   ]
  },
  {
   "cell_type": "code",
   "execution_count": 62,
   "id": "61961499-3ccc-4b56-b2e0-3bcdd60c437a",
   "metadata": {},
   "outputs": [
    {
     "name": "stdout",
     "output_type": "stream",
     "text": [
      "현재 인스턴스에서 f가 2번 실행\n",
      "A클래스에서 만들어진 모든 인스턴스들에서 f가 총 3번 실행\n"
     ]
    }
   ],
   "source": [
    "a.f()"
   ]
  },
  {
   "cell_type": "code",
   "execution_count": 63,
   "id": "a335afa4-a572-47bf-ac4d-7287a6a6a7c9",
   "metadata": {},
   "outputs": [
    {
     "name": "stdout",
     "output_type": "stream",
     "text": [
      "현재 인스턴스에서 f가 3번 실행\n",
      "A클래스에서 만들어진 모든 인스턴스들에서 f가 총 4번 실행\n"
     ]
    }
   ],
   "source": [
    "a.f()"
   ]
  },
  {
   "cell_type": "code",
   "execution_count": 64,
   "id": "16f6c36d-d90d-4e20-996a-c6b05f8d3fab",
   "metadata": {},
   "outputs": [
    {
     "name": "stdout",
     "output_type": "stream",
     "text": [
      "현재 인스턴스에서 f가 102번 실행\n",
      "A클래스에서 만들어진 모든 인스턴스들에서 f가 총 5번 실행\n"
     ]
    }
   ],
   "source": [
    "b.f()"
   ]
  },
  {
   "cell_type": "markdown",
   "id": "24bbcc5a-9f14-4ba0-9739-1e4654e454b5",
   "metadata": {},
   "source": [
    "### 예제4의 변형"
   ]
  },
  {
   "cell_type": "code",
   "execution_count": 65,
   "id": "2606625c-b747-4936-87f2-c34c4931615c",
   "metadata": {},
   "outputs": [],
   "source": [
    "class B:\n",
    "    x=10 #초기자본금\n",
    "    y=0\n",
    "    def f(self): # f()를 실행할때마다 돈을 사용\n",
    "        self.x=self.x-1\n",
    "        B.y=B.y+1\n",
    "        print(\"현재 인스턴스에서 {}원 잔액남음\".format(self.x))\n",
    "        print(\"A클래스에서 만들어진 모든 인스턴스들에서 총 {}원 사용\".format(self.y))"
   ]
  },
  {
   "cell_type": "code",
   "execution_count": 66,
   "id": "b5ed1634-d4ad-4c88-8301-3f4780c540ef",
   "metadata": {},
   "outputs": [],
   "source": [
    "a=B()"
   ]
  },
  {
   "cell_type": "code",
   "execution_count": 67,
   "id": "cc236ca9-31f0-4d9c-8bbe-a59c4c844b4d",
   "metadata": {},
   "outputs": [],
   "source": [
    "b=B()"
   ]
  },
  {
   "cell_type": "code",
   "execution_count": 68,
   "id": "c911a0e4-7423-44da-a887-fde18df74253",
   "metadata": {},
   "outputs": [
    {
     "data": {
      "text/plain": [
       "([10, 0], [10, 0], [10, 0])"
      ]
     },
     "execution_count": 68,
     "metadata": {},
     "output_type": "execute_result"
    }
   ],
   "source": [
    "[B.x,B.y],[a.x,a.y],[b.x,b.y]"
   ]
  },
  {
   "cell_type": "markdown",
   "id": "e789b313-6830-41cf-ab17-541bc945bc08",
   "metadata": {},
   "source": [
    "`-` 시점 1"
   ]
  },
  {
   "cell_type": "code",
   "execution_count": 70,
   "id": "833890e5-a244-43c7-a442-32fd3d43d29a",
   "metadata": {},
   "outputs": [
    {
     "name": "stdout",
     "output_type": "stream",
     "text": [
      "현재 인스턴스에서 9원 잔액남음\n",
      "A클래스에서 만들어진 모든 인스턴스들에서 총 1원 사용\n"
     ]
    }
   ],
   "source": [
    "a.f() #돈을 사용"
   ]
  },
  {
   "cell_type": "code",
   "execution_count": 71,
   "id": "1f631614-ef86-4a71-b7e6-519f976592dd",
   "metadata": {},
   "outputs": [
    {
     "name": "stdout",
     "output_type": "stream",
     "text": [
      "현재 인스턴스에서 8원 잔액남음\n",
      "A클래스에서 만들어진 모든 인스턴스들에서 총 2원 사용\n"
     ]
    }
   ],
   "source": [
    "a.f()"
   ]
  },
  {
   "cell_type": "code",
   "execution_count": 72,
   "id": "ab7ff7b1-9cdf-4680-8536-2e8a580871ea",
   "metadata": {},
   "outputs": [
    {
     "name": "stdout",
     "output_type": "stream",
     "text": [
      "현재 인스턴스에서 9원 잔액남음\n",
      "A클래스에서 만들어진 모든 인스턴스들에서 총 3원 사용\n"
     ]
    }
   ],
   "source": [
    "b.f()"
   ]
  },
  {
   "cell_type": "markdown",
   "id": "5da9795f-0bed-4762-b48d-2723f1140211",
   "metadata": {},
   "source": [
    "`-` 시점 2"
   ]
  },
  {
   "cell_type": "code",
   "execution_count": 73,
   "id": "724ba8b9-4138-4d0c-9d38-a2ea13881bcc",
   "metadata": {},
   "outputs": [
    {
     "data": {
      "text/plain": [
       "([10, 3], [8, 3], [9, 3])"
      ]
     },
     "execution_count": 73,
     "metadata": {},
     "output_type": "execute_result"
    }
   ],
   "source": [
    "[B.x,B.y],[a.x,a.y],[b.x,b.y]"
   ]
  },
  {
   "cell_type": "markdown",
   "id": "0f4a8c26-0fdc-4406-b7dc-516d71a01c7b",
   "metadata": {},
   "source": [
    "`-` 시점 2"
   ]
  },
  {
   "cell_type": "code",
   "execution_count": 76,
   "id": "0f6ebbeb-bb13-4f3c-860f-b10ded030b6f",
   "metadata": {},
   "outputs": [
    {
     "data": {
      "text/plain": [
       "([999, 3], [8, 3], [9, 3])"
      ]
     },
     "execution_count": 76,
     "metadata": {},
     "output_type": "execute_result"
    }
   ],
   "source": [
    "[B.x,B.y],[a.x,a.y],[b.x,b.y]"
   ]
  },
  {
   "cell_type": "code",
   "execution_count": 77,
   "id": "b949c5bb-2f6a-45d3-a14f-e66bbcbfb6d5",
   "metadata": {},
   "outputs": [],
   "source": [
    "B.x=999"
   ]
  },
  {
   "cell_type": "code",
   "execution_count": 78,
   "id": "09c7b607-a308-4ce1-ae88-57b42ec41fe4",
   "metadata": {},
   "outputs": [
    {
     "data": {
      "text/plain": [
       "([999, 3], [8, 3], [9, 3])"
      ]
     },
     "execution_count": 78,
     "metadata": {},
     "output_type": "execute_result"
    }
   ],
   "source": [
    "[B.x,B.y],[a.x,a.y],[b.x,b.y]"
   ]
  },
  {
   "cell_type": "markdown",
   "id": "dfa7ce9d-2e60-47a2-8271-8ab279d721d7",
   "metadata": {},
   "source": [
    "`-` 시점 3"
   ]
  },
  {
   "cell_type": "code",
   "execution_count": 79,
   "id": "e799feb9-5efa-4b5d-8dc2-0e0db5c82ca1",
   "metadata": {},
   "outputs": [],
   "source": [
    "c=B()"
   ]
  },
  {
   "cell_type": "code",
   "execution_count": 80,
   "id": "e2d2c1de-62e5-4f00-bbc3-b6de4c183741",
   "metadata": {},
   "outputs": [
    {
     "name": "stdout",
     "output_type": "stream",
     "text": [
      "현재 인스턴스에서 998원 잔액남음\n",
      "A클래스에서 만들어진 모든 인스턴스들에서 총 4원 사용\n"
     ]
    }
   ],
   "source": [
    "c.f()"
   ]
  },
  {
   "cell_type": "markdown",
   "id": "257f7439-58fd-443a-aeaf-81b6a63fc296",
   "metadata": {},
   "source": [
    "`-` 시점 4"
   ]
  },
  {
   "cell_type": "code",
   "execution_count": 81,
   "id": "47df6958-5a8b-45ae-a0a8-a2e0efe5c118",
   "metadata": {},
   "outputs": [
    {
     "name": "stdout",
     "output_type": "stream",
     "text": [
      "현재 인스턴스에서 7원 잔액남음\n",
      "A클래스에서 만들어진 모든 인스턴스들에서 총 5원 사용\n"
     ]
    }
   ],
   "source": [
    "a.f()"
   ]
  },
  {
   "cell_type": "code",
   "execution_count": 82,
   "id": "c8f119cb-a1b3-4eae-82e3-9aa984ec9392",
   "metadata": {},
   "outputs": [
    {
     "name": "stdout",
     "output_type": "stream",
     "text": [
      "현재 인스턴스에서 8원 잔액남음\n",
      "A클래스에서 만들어진 모든 인스턴스들에서 총 6원 사용\n"
     ]
    }
   ],
   "source": [
    "b.f()"
   ]
  },
  {
   "cell_type": "code",
   "execution_count": 83,
   "id": "24f7f568-76b1-4113-9cf0-5db80ca23fb8",
   "metadata": {},
   "outputs": [
    {
     "name": "stdout",
     "output_type": "stream",
     "text": [
      "현재 인스턴스에서 997원 잔액남음\n",
      "A클래스에서 만들어진 모든 인스턴스들에서 총 7원 사용\n"
     ]
    }
   ],
   "source": [
    "c.f()"
   ]
  },
  {
   "cell_type": "code",
   "execution_count": 84,
   "id": "b24a1967-5571-4a5c-aa16-b7971a68e48f",
   "metadata": {},
   "outputs": [
    {
     "name": "stdout",
     "output_type": "stream",
     "text": [
      "현재 인스턴스에서 996원 잔액남음\n",
      "A클래스에서 만들어진 모든 인스턴스들에서 총 8원 사용\n"
     ]
    }
   ],
   "source": [
    "c.f()"
   ]
  },
  {
   "cell_type": "code",
   "execution_count": 85,
   "id": "a3ab27cc-8766-47e6-bf4f-0a7d218298a5",
   "metadata": {},
   "outputs": [
    {
     "name": "stdout",
     "output_type": "stream",
     "text": [
      "현재 인스턴스에서 995원 잔액남음\n",
      "A클래스에서 만들어진 모든 인스턴스들에서 총 9원 사용\n"
     ]
    }
   ],
   "source": [
    "c.f()"
   ]
  },
  {
   "cell_type": "markdown",
   "id": "1115a962-c6b9-44c2-8807-a8542da58bf2",
   "metadata": {},
   "source": [
    "### 예제5: 인스턴스에서 클래스변수 변경 (변경가능??)"
   ]
  },
  {
   "cell_type": "markdown",
   "id": "bfed05c8-049e-4d73-b911-8dbb3db41864",
   "metadata": {},
   "source": [
    "`-` 시점 0"
   ]
  },
  {
   "cell_type": "code",
   "execution_count": 86,
   "id": "29efbeb6-6cf1-45d4-a433-6be03c1e0e43",
   "metadata": {},
   "outputs": [],
   "source": [
    "class A:\n",
    "    x=0\n",
    "    y=0\n",
    "    def f(self):\n",
    "        self.x=self.x+1\n",
    "        A.y=A.y+1\n",
    "        print(\"현재 인스턴스에서 f가 {}번 실행\".format(self.x))\n",
    "        print(\"A클래스에서 만들어진 모든 인스턴스들에서 f가 총 {}번 실행\".format(self.y))"
   ]
  },
  {
   "cell_type": "code",
   "execution_count": 87,
   "id": "2943ee55-0877-41ea-9368-0d109da1cd32",
   "metadata": {},
   "outputs": [],
   "source": [
    "a=A()\n",
    "b=A()"
   ]
  },
  {
   "cell_type": "code",
   "execution_count": 88,
   "id": "8f150ad4-1c8b-45f5-b3c5-dc1eacc47084",
   "metadata": {},
   "outputs": [
    {
     "data": {
      "text/plain": [
       "([0, 0], [0, 0], [0, 0])"
      ]
     },
     "execution_count": 88,
     "metadata": {},
     "output_type": "execute_result"
    }
   ],
   "source": [
    "[A.x,A.y],[a.x,a.y],[b.x,b.y]"
   ]
  },
  {
   "cell_type": "markdown",
   "id": "d9712149-db07-4f64-be92-1a76d11bf29d",
   "metadata": {},
   "source": [
    "`-` 시점 1"
   ]
  },
  {
   "cell_type": "code",
   "execution_count": 89,
   "id": "49e76af7-c0f3-45b4-acaa-6e214c7372ea",
   "metadata": {},
   "outputs": [
    {
     "name": "stdout",
     "output_type": "stream",
     "text": [
      "현재 인스턴스에서 f가 1번 실행\n",
      "A클래스에서 만들어진 모든 인스턴스들에서 f가 총 1번 실행\n"
     ]
    }
   ],
   "source": [
    "a.f()"
   ]
  },
  {
   "cell_type": "code",
   "execution_count": 90,
   "id": "18bd78f8-4cc5-4e9e-b3f0-5f948e16c1eb",
   "metadata": {},
   "outputs": [
    {
     "name": "stdout",
     "output_type": "stream",
     "text": [
      "현재 인스턴스에서 f가 1번 실행\n",
      "A클래스에서 만들어진 모든 인스턴스들에서 f가 총 2번 실행\n"
     ]
    }
   ],
   "source": [
    "b.f()"
   ]
  },
  {
   "cell_type": "code",
   "execution_count": 91,
   "id": "98e80680-a0fc-4ace-8aa8-8e60153839c1",
   "metadata": {},
   "outputs": [
    {
     "name": "stdout",
     "output_type": "stream",
     "text": [
      "현재 인스턴스에서 f가 2번 실행\n",
      "A클래스에서 만들어진 모든 인스턴스들에서 f가 총 3번 실행\n"
     ]
    }
   ],
   "source": [
    "a.f()"
   ]
  },
  {
   "cell_type": "code",
   "execution_count": 92,
   "id": "24d8a2fa-5dad-4e7b-b66c-c55aae674e91",
   "metadata": {},
   "outputs": [
    {
     "data": {
      "text/plain": [
       "([0, 3], [2, 3], [1, 3])"
      ]
     },
     "execution_count": 92,
     "metadata": {},
     "output_type": "execute_result"
    }
   ],
   "source": [
    "[A.x,A.y],[a.x,a.y],[b.x,b.y]"
   ]
  },
  {
   "cell_type": "markdown",
   "id": "9601b60e-9fd9-42e5-a1bd-e484c2487929",
   "metadata": {},
   "source": [
    "`-` 시점 2"
   ]
  },
  {
   "cell_type": "code",
   "execution_count": 93,
   "id": "dd8a9c10-f73e-48c2-bcdc-b849dfb4d129",
   "metadata": {},
   "outputs": [
    {
     "data": {
      "text/plain": [
       "3"
      ]
     },
     "execution_count": 93,
     "metadata": {},
     "output_type": "execute_result"
    }
   ],
   "source": [
    "a.y ##인스턴스a에 소속되어있지만 클래스변수"
   ]
  },
  {
   "cell_type": "code",
   "execution_count": 94,
   "id": "289a757c-77d7-4aa6-a739-b8c092efbe26",
   "metadata": {},
   "outputs": [],
   "source": [
    "a.y=999 #내가 하드코딩으로 a.y에 999를 입력 -> 이것이 A.y나 b.y에도 반영될까? (X)"
   ]
  },
  {
   "cell_type": "code",
   "execution_count": 95,
   "id": "5f023079-db2e-46ea-b526-a503e901c3de",
   "metadata": {},
   "outputs": [
    {
     "data": {
      "text/plain": [
       "([0, 3], [2, 999], [1, 3])"
      ]
     },
     "execution_count": 95,
     "metadata": {},
     "output_type": "execute_result"
    }
   ],
   "source": [
    "[A.x,A.y],[a.x,a.y],[b.x,b.y]"
   ]
  },
  {
   "cell_type": "markdown",
   "id": "cab5d594-361c-4678-9369-0f588f9fc566",
   "metadata": {},
   "source": [
    "`-` 시점 3"
   ]
  },
  {
   "cell_type": "code",
   "execution_count": 96,
   "id": "6acc4a13-c096-42a0-9cdd-820a658caba6",
   "metadata": {},
   "outputs": [
    {
     "name": "stdout",
     "output_type": "stream",
     "text": [
      "현재 인스턴스에서 f가 2번 실행\n",
      "A클래스에서 만들어진 모든 인스턴스들에서 f가 총 4번 실행\n"
     ]
    }
   ],
   "source": [
    "b.f()"
   ]
  },
  {
   "cell_type": "code",
   "execution_count": 97,
   "id": "7e0b31e3-04ca-435d-98a5-231737927cd6",
   "metadata": {},
   "outputs": [
    {
     "name": "stdout",
     "output_type": "stream",
     "text": [
      "현재 인스턴스에서 f가 3번 실행\n",
      "A클래스에서 만들어진 모든 인스턴스들에서 f가 총 999번 실행\n"
     ]
    }
   ],
   "source": [
    "a.f()"
   ]
  },
  {
   "cell_type": "code",
   "execution_count": 98,
   "id": "e7941684-5b5e-4b0d-ba98-2c7883434886",
   "metadata": {},
   "outputs": [
    {
     "name": "stdout",
     "output_type": "stream",
     "text": [
      "현재 인스턴스에서 f가 3번 실행\n",
      "A클래스에서 만들어진 모든 인스턴스들에서 f가 총 6번 실행\n"
     ]
    }
   ],
   "source": [
    "b.f()"
   ]
  },
  {
   "cell_type": "code",
   "execution_count": 99,
   "id": "2dd45ebd-f0a2-409f-929c-d96a32829896",
   "metadata": {},
   "outputs": [
    {
     "name": "stdout",
     "output_type": "stream",
     "text": [
      "현재 인스턴스에서 f가 4번 실행\n",
      "A클래스에서 만들어진 모든 인스턴스들에서 f가 총 7번 실행\n"
     ]
    }
   ],
   "source": [
    "b.f()"
   ]
  },
  {
   "cell_type": "code",
   "execution_count": 100,
   "id": "4d56ab93-d0db-4a24-8839-730a0159b581",
   "metadata": {},
   "outputs": [
    {
     "name": "stdout",
     "output_type": "stream",
     "text": [
      "현재 인스턴스에서 f가 4번 실행\n",
      "A클래스에서 만들어진 모든 인스턴스들에서 f가 총 999번 실행\n"
     ]
    }
   ],
   "source": [
    "a.f()"
   ]
  },
  {
   "cell_type": "markdown",
   "id": "1911349a-b0c1-459c-aa6b-860c86d43b0e",
   "metadata": {},
   "source": [
    "`-` 요약 \n",
    "- 인스턴스에서 클래스변수의 값을 변경하면? -> 클래스변수의 값이 변경되는 것이 아니라 인스턴스변수가 새롭게 만들어져서 할당\n",
    "- 이 예제에서 a.y는 이제 클래스변수에서 인스턴스변수로 재탄생 됨. 즉 999 오브젝트가 새롭게 만들어져서 a.y라는 이름을 얻음.\n",
    "- 기존의 A.y나 b.y에는 아무런 변화가 없음\n",
    "\n",
    "*a.y=999 은 새로운 인스턴스변수 y를 할당하는 역할을 함. 클래스변수의 값을 변경하는 것이 아님. (왜냐하면 애초에 a.y는 없는 값이었고, A.y를 빌리고 있었던 것임)*"
   ]
  },
  {
   "cell_type": "code",
   "execution_count": 101,
   "id": "f98dbd29-0c75-4801-8675-35d6ed898c44",
   "metadata": {},
   "outputs": [
    {
     "data": {
      "text/plain": [
       "{'x': 4, 'y': 999}"
      ]
     },
     "execution_count": 101,
     "metadata": {},
     "output_type": "execute_result"
    }
   ],
   "source": [
    "a.__dict__"
   ]
  },
  {
   "cell_type": "code",
   "execution_count": 102,
   "id": "c7d31173-4cd5-4254-a287-c5a304b116c2",
   "metadata": {},
   "outputs": [
    {
     "data": {
      "text/plain": [
       "{'x': 4}"
      ]
     },
     "execution_count": 102,
     "metadata": {},
     "output_type": "execute_result"
    }
   ],
   "source": [
    "b.__dict__"
   ]
  },
  {
   "cell_type": "markdown",
   "id": "9e008233-ed0f-4713-b57f-f834a75e70c6",
   "metadata": {},
   "source": [
    "### 예제 5의 변형"
   ]
  },
  {
   "cell_type": "markdown",
   "id": "ba3737e3-096d-4e77-a485-2b7cdf61b829",
   "metadata": {},
   "source": [
    "`-` 시점 0"
   ]
  },
  {
   "cell_type": "code",
   "execution_count": 103,
   "id": "f86b574e-5522-4ecc-9c42-705bda2ea61e",
   "metadata": {},
   "outputs": [],
   "source": [
    "class A:\n",
    "    x=0\n",
    "    y=0\n",
    "    def f(self):\n",
    "        self.x=self.x+1\n",
    "        A.y=A.y+1\n",
    "        print(\"현재 인스턴스에서 f가 {}번 실행 (인스턴스레벨)\".format(self.x))\n",
    "        print(\"A클래스에서 만들어진 모든 인스턴스들에서 f가 총 {}번 실행 (클래스레벨)\".format(A.y))\n",
    "        print(\"A클래스에서 만들어진 모든 인스턴스들에서 f가 총 {}번 실행 (인스턴스레벨)\".format(self.y))"
   ]
  },
  {
   "cell_type": "code",
   "execution_count": 104,
   "id": "c596d8d3-294d-4e3e-be88-54e602c5f894",
   "metadata": {},
   "outputs": [],
   "source": [
    "a=A()"
   ]
  },
  {
   "cell_type": "code",
   "execution_count": 105,
   "id": "c959f69f-3f49-4953-a16d-dfc26662ec26",
   "metadata": {},
   "outputs": [
    {
     "name": "stdout",
     "output_type": "stream",
     "text": [
      "현재 인스턴스에서 f가 1번 실행 (인스턴스레벨)\n",
      "A클래스에서 만들어진 모든 인스턴스들에서 f가 총 1번 실행 (클래스레벨)\n",
      "A클래스에서 만들어진 모든 인스턴스들에서 f가 총 1번 실행 (인스턴스레벨)\n"
     ]
    }
   ],
   "source": [
    "a.f()"
   ]
  },
  {
   "cell_type": "code",
   "execution_count": 106,
   "id": "eb0c52ae-7f54-4ef9-ac58-0537d16938a0",
   "metadata": {},
   "outputs": [],
   "source": [
    "b=A()"
   ]
  },
  {
   "cell_type": "code",
   "execution_count": 107,
   "id": "1b42cebb-83ae-44e7-871b-6c4ec1b0ceaa",
   "metadata": {},
   "outputs": [
    {
     "name": "stdout",
     "output_type": "stream",
     "text": [
      "현재 인스턴스에서 f가 1번 실행 (인스턴스레벨)\n",
      "A클래스에서 만들어진 모든 인스턴스들에서 f가 총 2번 실행 (클래스레벨)\n",
      "A클래스에서 만들어진 모든 인스턴스들에서 f가 총 2번 실행 (인스턴스레벨)\n"
     ]
    }
   ],
   "source": [
    "b.f()"
   ]
  },
  {
   "cell_type": "markdown",
   "id": "9631844d-ed0d-4b7e-842c-a52ddb535f4e",
   "metadata": {},
   "source": [
    "`-` 시점 1"
   ]
  },
  {
   "cell_type": "code",
   "execution_count": 108,
   "id": "319a0ed8-ffbf-44c2-b1c2-eb4b6845e237",
   "metadata": {},
   "outputs": [],
   "source": [
    "a.y=999"
   ]
  },
  {
   "cell_type": "code",
   "execution_count": 109,
   "id": "33d0816b-02d5-45eb-b0d7-8f8ba02526e3",
   "metadata": {},
   "outputs": [
    {
     "name": "stdout",
     "output_type": "stream",
     "text": [
      "현재 인스턴스에서 f가 2번 실행 (인스턴스레벨)\n",
      "A클래스에서 만들어진 모든 인스턴스들에서 f가 총 3번 실행 (클래스레벨)\n",
      "A클래스에서 만들어진 모든 인스턴스들에서 f가 총 999번 실행 (인스턴스레벨)\n"
     ]
    }
   ],
   "source": [
    "a.f()"
   ]
  },
  {
   "cell_type": "code",
   "execution_count": 110,
   "id": "85ff9308-305c-4617-b548-166bc1d548f0",
   "metadata": {},
   "outputs": [
    {
     "name": "stdout",
     "output_type": "stream",
     "text": [
      "현재 인스턴스에서 f가 3번 실행 (인스턴스레벨)\n",
      "A클래스에서 만들어진 모든 인스턴스들에서 f가 총 4번 실행 (클래스레벨)\n",
      "A클래스에서 만들어진 모든 인스턴스들에서 f가 총 999번 실행 (인스턴스레벨)\n"
     ]
    }
   ],
   "source": [
    "a.f()"
   ]
  },
  {
   "cell_type": "code",
   "execution_count": 111,
   "id": "e33537fc-2aee-4c6e-a384-e48a5b4dab4d",
   "metadata": {},
   "outputs": [
    {
     "name": "stdout",
     "output_type": "stream",
     "text": [
      "현재 인스턴스에서 f가 4번 실행 (인스턴스레벨)\n",
      "A클래스에서 만들어진 모든 인스턴스들에서 f가 총 5번 실행 (클래스레벨)\n",
      "A클래스에서 만들어진 모든 인스턴스들에서 f가 총 999번 실행 (인스턴스레벨)\n"
     ]
    }
   ],
   "source": [
    "a.f()"
   ]
  },
  {
   "cell_type": "markdown",
   "id": "1a2af6d5-fcc9-4a26-b382-86a136d623e5",
   "metadata": {},
   "source": [
    "### 예제6 : 인스턴스 생성시점에 대한 분석"
   ]
  },
  {
   "cell_type": "markdown",
   "id": "62af75f8-be51-4948-b120-f5e3c392ad60",
   "metadata": {},
   "source": [
    "`-` 의문 : 아래의 코드에서 x는 클래스변수라고 봐야할까? 인스턴스 변수라고 봐야할까? --> 클래스변수"
   ]
  },
  {
   "cell_type": "code",
   "execution_count": 112,
   "id": "4325b010-dd20-4590-9077-cf9ffe276c2f",
   "metadata": {},
   "outputs": [],
   "source": [
    "class ASDF:\n",
    "    x=0 ## 이 시점에서 x는 클래스변수인가? 아니면 인스턴스변수인가?\n",
    "    def f(self):\n",
    "        print(self.x)"
   ]
  },
  {
   "cell_type": "markdown",
   "id": "4ef90eee-e93b-4ec5-831e-60ff0d1cc3b1",
   "metadata": {},
   "source": [
    "`-` 시점 0"
   ]
  },
  {
   "cell_type": "code",
   "execution_count": 113,
   "id": "0bb2b0e3-64bd-4b83-892e-47dbfbd15ed5",
   "metadata": {},
   "outputs": [],
   "source": [
    "class A:\n",
    "    x=0\n",
    "    y=0\n",
    "    def f(self):\n",
    "        self.x=self.x+1\n",
    "        A.y=A.y+1\n",
    "        print(\"현재 인스턴스에서 f가 {}번 실행 (인스턴스레벨)\".format(self.x))\n",
    "        print(\"A클래스에서 만들어진 모든 인스턴스들에서 f가 총 {}번 실행 (클래스레벨)\".format(A.y))\n",
    "        #print(\"A클래스에서 만들어진 모든 인스턴스들에서 f가 총 {}번 실행 (인스턴스레벨)\".format(self.y))"
   ]
  },
  {
   "cell_type": "code",
   "execution_count": 114,
   "id": "278d9346-194b-489a-9108-e7265b067f78",
   "metadata": {},
   "outputs": [],
   "source": [
    "a=A()\n",
    "b=A()"
   ]
  },
  {
   "cell_type": "code",
   "execution_count": 115,
   "id": "0f0ce25e-a64f-4bfb-a771-5d56d2da8f2c",
   "metadata": {},
   "outputs": [
    {
     "data": {
      "text/plain": [
       "(0, 0, 0, 0)"
      ]
     },
     "execution_count": 115,
     "metadata": {},
     "output_type": "execute_result"
    }
   ],
   "source": [
    "a.x,a.y,b.x,b.y"
   ]
  },
  {
   "cell_type": "code",
   "execution_count": 116,
   "id": "353e836f-bfc9-4bd3-a2a6-87be8b95cde7",
   "metadata": {},
   "outputs": [
    {
     "data": {
      "text/plain": [
       "({}, {})"
      ]
     },
     "execution_count": 116,
     "metadata": {},
     "output_type": "execute_result"
    }
   ],
   "source": [
    "a.__dict__,b.__dict__"
   ]
  },
  {
   "cell_type": "markdown",
   "id": "29ccf98b-4f3e-46eb-8502-0043bc072e3c",
   "metadata": {},
   "source": [
    "- 지금 시점에서 a.x,a.y,b.x,b.y 는 모두 클래스변수"
   ]
  },
  {
   "cell_type": "markdown",
   "id": "84cd2169-8da5-49fb-aaa2-7d113371f8f8",
   "metadata": {},
   "source": [
    "`-` 시점 1"
   ]
  },
  {
   "cell_type": "code",
   "execution_count": 117,
   "id": "96697b2b-a49e-4dc3-ba88-6350ddebdb41",
   "metadata": {},
   "outputs": [
    {
     "name": "stdout",
     "output_type": "stream",
     "text": [
      "현재 인스턴스에서 f가 1번 실행 (인스턴스레벨)\n",
      "A클래스에서 만들어진 모든 인스턴스들에서 f가 총 1번 실행 (클래스레벨)\n"
     ]
    }
   ],
   "source": [
    "a.f()"
   ]
  },
  {
   "cell_type": "code",
   "execution_count": 118,
   "id": "373a07f2-e06c-4d6a-8bed-9c6d5b11f953",
   "metadata": {},
   "outputs": [
    {
     "data": {
      "text/plain": [
       "({'x': 1}, {})"
      ]
     },
     "execution_count": 118,
     "metadata": {},
     "output_type": "execute_result"
    }
   ],
   "source": [
    "a.__dict__,b.__dict__"
   ]
  },
  {
   "cell_type": "markdown",
   "id": "545cdb37-2c10-4ddc-931e-5468be779550",
   "metadata": {},
   "source": [
    "- 이 순간 a.x가 클래스변수에서 인스턴스변수로 변경되었음. ?--> f가 실행되면서 self.x=self.x+1이 실행되었으므르"
   ]
  },
  {
   "cell_type": "markdown",
   "id": "25bdbb6b-938f-4890-93e7-e8a3d48c9f55",
   "metadata": {},
   "source": [
    "`-` 시점 2"
   ]
  },
  {
   "cell_type": "code",
   "execution_count": 120,
   "id": "a434593f-8f59-4c89-9372-35ebd211736d",
   "metadata": {},
   "outputs": [
    {
     "name": "stdout",
     "output_type": "stream",
     "text": [
      "현재 인스턴스에서 f가 1번 실행 (인스턴스레벨)\n",
      "A클래스에서 만들어진 모든 인스턴스들에서 f가 총 2번 실행 (클래스레벨)\n"
     ]
    }
   ],
   "source": [
    "b.f()"
   ]
  },
  {
   "cell_type": "code",
   "execution_count": 121,
   "id": "d74cef23-ab79-417c-8dea-4d88b6585d05",
   "metadata": {},
   "outputs": [
    {
     "data": {
      "text/plain": [
       "({'x': 1}, {'x': 1})"
      ]
     },
     "execution_count": 121,
     "metadata": {},
     "output_type": "execute_result"
    }
   ],
   "source": [
    "a.__dict__,b.__dict__"
   ]
  },
  {
   "cell_type": "markdown",
   "id": "c0a9b9b6-d28d-47a2-9187-fbecfebc868e",
   "metadata": {},
   "source": [
    "### 예제7 : 잘못된 사용"
   ]
  },
  {
   "cell_type": "markdown",
   "id": "56f82751-e760-4428-a3ea-64f6ff21d715",
   "metadata": {},
   "source": [
    "`-` 아래처럼 코드를 변경하면 어떻게 되는가?"
   ]
  },
  {
   "cell_type": "code",
   "execution_count": 138,
   "id": "a9228749-a4dd-49a7-81a1-f81b5df5be46",
   "metadata": {},
   "outputs": [],
   "source": [
    "class A:\n",
    "    def __init__(self):\n",
    "        self.x=0 # 인스턴스변수로 나중에 사용할 예정이라 명시\n",
    "        A.y=0 # 클래스변수로 나중에 사용할 예정이라 명시\n",
    "    def f(self):\n",
    "        self.x=self.x+1\n",
    "        A.y=A.y+1\n",
    "        print(\"현재 인스턴스에서 f가 {}번 실행 (인스턴스레벨)\".format(self.x))\n",
    "        print(\"A클래스에서 만들어진 모든 인스턴스들에서 f가 총 {}번 실행 (클래스레벨)\".format(A.y))"
   ]
  },
  {
   "cell_type": "markdown",
   "id": "20151416-4161-4901-b20c-d1e49317c506",
   "metadata": {},
   "source": [
    "`-` 사용"
   ]
  },
  {
   "cell_type": "code",
   "execution_count": 139,
   "id": "fee3c154-3839-4291-aa12-a6377d201942",
   "metadata": {},
   "outputs": [],
   "source": [
    "a=A()\n",
    "b=A()"
   ]
  },
  {
   "cell_type": "code",
   "execution_count": 140,
   "id": "5480b3e5-81ca-4daf-8a0d-4bfd2e49b2ff",
   "metadata": {},
   "outputs": [
    {
     "name": "stdout",
     "output_type": "stream",
     "text": [
      "현재 인스턴스에서 f가 1번 실행 (인스턴스레벨)\n",
      "A클래스에서 만들어진 모든 인스턴스들에서 f가 총 1번 실행 (클래스레벨)\n"
     ]
    }
   ],
   "source": [
    "a.f()"
   ]
  },
  {
   "cell_type": "code",
   "execution_count": 141,
   "id": "35a8ac31-366b-4872-9880-c8d798131f78",
   "metadata": {},
   "outputs": [
    {
     "name": "stdout",
     "output_type": "stream",
     "text": [
      "현재 인스턴스에서 f가 1번 실행 (인스턴스레벨)\n",
      "A클래스에서 만들어진 모든 인스턴스들에서 f가 총 2번 실행 (클래스레벨)\n"
     ]
    }
   ],
   "source": [
    "b.f()"
   ]
  },
  {
   "cell_type": "code",
   "execution_count": 142,
   "id": "89e0bd4b-8384-4d22-9236-08b8f5f4c7a5",
   "metadata": {},
   "outputs": [
    {
     "name": "stdout",
     "output_type": "stream",
     "text": [
      "현재 인스턴스에서 f가 2번 실행 (인스턴스레벨)\n",
      "A클래스에서 만들어진 모든 인스턴스들에서 f가 총 3번 실행 (클래스레벨)\n"
     ]
    }
   ],
   "source": [
    "b.f()"
   ]
  },
  {
   "cell_type": "code",
   "execution_count": 143,
   "id": "44f359f5-3117-4122-9d49-884758fbf171",
   "metadata": {},
   "outputs": [
    {
     "name": "stdout",
     "output_type": "stream",
     "text": [
      "현재 인스턴스에서 f가 3번 실행 (인스턴스레벨)\n",
      "A클래스에서 만들어진 모든 인스턴스들에서 f가 총 4번 실행 (클래스레벨)\n"
     ]
    }
   ],
   "source": [
    "b.f()"
   ]
  },
  {
   "cell_type": "code",
   "execution_count": 144,
   "id": "0322aedb-51c3-4806-8c5f-b68c8822b491",
   "metadata": {},
   "outputs": [
    {
     "name": "stdout",
     "output_type": "stream",
     "text": [
      "현재 인스턴스에서 f가 2번 실행 (인스턴스레벨)\n",
      "A클래스에서 만들어진 모든 인스턴스들에서 f가 총 5번 실행 (클래스레벨)\n"
     ]
    }
   ],
   "source": [
    "a.f()"
   ]
  },
  {
   "cell_type": "markdown",
   "id": "51364890-7b55-4499-9e80-cce2aa09660b",
   "metadata": {},
   "source": [
    "`-` 잘 되는 것 같음\n",
    "\n",
    "`-` 조금만 생각해보면 엉터리임을 알수 있음. 아래를 관찰"
   ]
  },
  {
   "cell_type": "code",
   "execution_count": 145,
   "id": "341ecd08-e3f7-4754-afa3-6292a9ab940e",
   "metadata": {},
   "outputs": [],
   "source": [
    "c=A() #이 시점에서 __init__()이 실행!"
   ]
  },
  {
   "cell_type": "code",
   "execution_count": 146,
   "id": "19f44a5a-ce0b-41be-a946-8ba3ea1b46df",
   "metadata": {},
   "outputs": [
    {
     "name": "stdout",
     "output_type": "stream",
     "text": [
      "현재 인스턴스에서 f가 3번 실행 (인스턴스레벨)\n",
      "A클래스에서 만들어진 모든 인스턴스들에서 f가 총 1번 실행 (클래스레벨)\n"
     ]
    }
   ],
   "source": [
    "a.f()"
   ]
  },
  {
   "cell_type": "markdown",
   "id": "0d5b8632-93ff-48e6-808f-d527a62c2993",
   "metadata": {},
   "source": [
    "- 클래스레벨의 변수가 초기화 됨 -> why??\n",
    "\n",
    "`-` 오류의 이유? c=A()가 실행되는 시점에 `__init__()`이 실행되면서 `A.y=0`이 실행됨. 따라서 강제초기화가 진행"
   ]
  },
  {
   "cell_type": "code",
   "execution_count": null,
   "id": "dd0707bc-8fbf-4274-a17e-92251a728a97",
   "metadata": {},
   "outputs": [],
   "source": []
  }
 ],
 "metadata": {
  "kernelspec": {
   "display_name": "Python 3 (ipykernel)",
   "language": "python",
   "name": "python3"
  },
  "language_info": {
   "codemirror_mode": {
    "name": "ipython",
    "version": 3
   },
   "file_extension": ".py",
   "mimetype": "text/x-python",
   "name": "python",
   "nbconvert_exporter": "python",
   "pygments_lexer": "ipython3",
   "version": "3.9.7"
  }
 },
 "nbformat": 4,
 "nbformat_minor": 5
}
