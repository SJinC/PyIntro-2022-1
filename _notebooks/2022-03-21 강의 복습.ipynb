{
 "cells": [
  {
   "cell_type": "markdown",
   "id": "cd42ec14-58d7-4aa5-b1cb-c0a47dd0ee3b",
   "metadata": {},
   "source": [
    "# 파이썬 3월 21일 강의 복습\n",
    "> \"6월 26일\"\n",
    "\n",
    "- toc:true\n",
    "- branch: master\n",
    "- badges: true\n",
    "- comments: true\n",
    "- author: 최석진\n",
    "- categories: [Python]"
   ]
  },
  {
   "cell_type": "markdown",
   "id": "90034249-f4f6-4ee5-be71-a32a4c4f1dfc",
   "metadata": {},
   "source": [
    "## 튜플을 쓰는 이유, 스트라이딩, if문이 포함된 컴프리헨션,조건부리턴, len함수, summary, 딕셔너리(선언,원소추출,원소추가,원소변경,삭제)\n",
    "- june 26 ,2022"
   ]
  },
  {
   "cell_type": "markdown",
   "id": "4ea7b1ba-ceab-4575-9003-43a593fcdfe4",
   "metadata": {},
   "source": [
    "### some minor comments : str, list, tuple"
   ]
  },
  {
   "cell_type": "markdown",
   "id": "a032d70e-c826-4e58-8181-c5fa2a432a02",
   "metadata": {},
   "source": [
    "튜플을 쓰는 이유"
   ]
  },
  {
   "cell_type": "markdown",
   "id": "8964d344-d054-46d1-9918-9c11cf536ae9",
   "metadata": {},
   "source": [
    "`-` 교재의 설명 (파이썬에만 한정되는 것은 아님. 모든 언어에 존재하는 불변형객체에 적용가능한 설명)"
   ]
  },
  {
   "cell_type": "markdown",
   "id": "47dd38d4-167a-4d2f-ae49-9769557ce721",
   "metadata": {},
   "source": [
    "- 실수방지\n",
    "- 빠르다, 다중작업에 유리하다, 여러사람과 작업하기에 유리하다, 깊은복사/얕은복사시 원하지 않는 오류(side effect)를 방지, 메모리관리에도 유리\n",
    "- 느낌 : 불변형은 기능제한이 있는데 가볍고 빠른, 가변형은 기능은 풍부하지만 약간 느리고 무거운 느낌"
   ]
  },
  {
   "cell_type": "markdown",
   "id": "112e1bb9-84be-44ca-8e1b-bc07c7fc77ae",
   "metadata": {},
   "source": [
    "`-` 교수님의 설명 \n",
    "- 튜플의 장점은 소괄호 생략에 있음 (파이썬&줄리아만 가능)\n",
    "- 언패킹구문과 결합하여 엄청난 가독성을 제공"
   ]
  },
  {
   "cell_type": "code",
   "execution_count": 7,
   "id": "6b934d50-b6e2-4712-a740-6b619a5b536f",
   "metadata": {},
   "outputs": [],
   "source": [
    "def mycal(a,b):\n",
    "    return a+b,a-b,a*b,a/b #여러개의 값을 리턴하는 듯 하지만 -> 사실은 길이가 4인 튜플 1개를 리턴"
   ]
  },
  {
   "cell_type": "code",
   "execution_count": 8,
   "id": "70f335f5-1057-45e6-891c-4637477b4b67",
   "metadata": {},
   "outputs": [
    {
     "data": {
      "text/plain": [
       "(8, -2, 15, 0.6)"
      ]
     },
     "execution_count": 8,
     "metadata": {},
     "output_type": "execute_result"
    }
   ],
   "source": [
    "mycal(3,5)"
   ]
  },
  {
   "cell_type": "code",
   "execution_count": 9,
   "id": "c046c844-93f0-4f92-906f-707a3c5d0178",
   "metadata": {},
   "outputs": [],
   "source": [
    "_,_,mulresult,_=mycal(3,5)  #병렬할당"
   ]
  },
  {
   "cell_type": "code",
   "execution_count": 6,
   "id": "e118620d-da40-4157-aaf5-69fa87af798f",
   "metadata": {},
   "outputs": [
    {
     "data": {
      "text/plain": [
       "15"
      ]
     },
     "execution_count": 6,
     "metadata": {},
     "output_type": "execute_result"
    }
   ],
   "source": [
    "mulresult"
   ]
  },
  {
   "cell_type": "markdown",
   "id": "0ddff997-8684-4581-acd0-e24bdc83c42c",
   "metadata": {},
   "source": [
    "`-` 튜플만 괄호를 생략할 수 있는 이유\n",
    "\n",
    "`-` 교수님의 의견\n",
    "- 튜플을 먼저 만들고, 괄호를 생략하는 문법을 추가한 것은 아닐 것임\n",
    "- 원래 괄호없이 콤마만 대충찍어서 선언가능한 아주간단한 타입의 벡터형을 만들고 싶었을 것임.\n",
    "- 왜? 괄호없는 벡터를 만들고 + 언패킹을 사용하면 여러가지 구문들이 간단해짐\n",
    "- 콤마를 사용해 선언한 벡터는 어차피 일시적으로 사용하며 이름도 필요없음 $\\to$ 원소에 접근해서 sorting하여 순서를 바꾸고 싶다던가 원소를 추가할 이유가 없음 $\\to$ 가변형으로 굳이?\n",
    "- 우리가 필요한 것 : 데이터가 벡터의 형태로 모여있기만 하면 된다!"
   ]
  },
  {
   "cell_type": "markdown",
   "id": "bb493fdd-7889-4e8a-95b3-4c726d0507c7",
   "metadata": {},
   "source": [
    "### 인덱싱고급 (스트라이딩)"
   ]
  },
  {
   "cell_type": "markdown",
   "id": "8894e07c-9022-41ff-a502-a9ed5c96384d",
   "metadata": {},
   "source": [
    "`-` 스트라이딩 [start:stop:step]"
   ]
  },
  {
   "cell_type": "code",
   "execution_count": 7,
   "id": "b5efc7a5-fb6a-4482-8c26-3b6208058969",
   "metadata": {},
   "outputs": [
    {
     "data": {
      "text/plain": [
       "['a', 'b', 'c', 'd', 'e', 'f', 'g', 'h']"
      ]
     },
     "execution_count": 7,
     "metadata": {},
     "output_type": "execute_result"
    }
   ],
   "source": [
    "lst=list('abcdefgh')\n",
    "lst"
   ]
  },
  {
   "cell_type": "code",
   "execution_count": 8,
   "id": "cd98ff62-c6c2-4204-985d-70f1613cf87e",
   "metadata": {},
   "outputs": [
    {
     "data": {
      "text/plain": [
       "['a', 'c', 'e', 'g']"
      ]
     },
     "execution_count": 8,
     "metadata": {},
     "output_type": "execute_result"
    }
   ],
   "source": [
    "lst[0:8:2]"
   ]
  },
  {
   "cell_type": "markdown",
   "id": "2c444f56-7b74-4ee9-b41f-75aca1347900",
   "metadata": {},
   "source": [
    "`-` 생략"
   ]
  },
  {
   "cell_type": "code",
   "execution_count": 9,
   "id": "6fdd20bc-0d55-4ad2-8bb9-2d4f71e8042f",
   "metadata": {},
   "outputs": [
    {
     "data": {
      "text/plain": [
       "['a', 'c', 'e', 'g']"
      ]
     },
     "execution_count": 9,
     "metadata": {},
     "output_type": "execute_result"
    }
   ],
   "source": [
    "lst[::2]"
   ]
  },
  {
   "cell_type": "code",
   "execution_count": 10,
   "id": "f98ae117-ede1-4e5c-8f6b-42ff9bb29fc6",
   "metadata": {},
   "outputs": [
    {
     "data": {
      "text/plain": [
       "['a', 'c', 'e', 'g']"
      ]
     },
     "execution_count": 10,
     "metadata": {},
     "output_type": "execute_result"
    }
   ],
   "source": [
    "lst[0::2]"
   ]
  },
  {
   "cell_type": "code",
   "execution_count": 11,
   "id": "70f8bf59-6016-4b01-82a1-d4db11402677",
   "metadata": {},
   "outputs": [
    {
     "data": {
      "text/plain": [
       "['a', 'c', 'e', 'g']"
      ]
     },
     "execution_count": 11,
     "metadata": {},
     "output_type": "execute_result"
    }
   ],
   "source": [
    "lst[:8:2]"
   ]
  },
  {
   "cell_type": "markdown",
   "id": "2be1a4a9-ba84-4414-aa14-c573fc32ed7b",
   "metadata": {},
   "source": [
    "`-` 예제: 짝수/홀수 원소 추출"
   ]
  },
  {
   "cell_type": "code",
   "execution_count": 12,
   "id": "3ef67d14-14e3-4da7-abf2-2ce209445d41",
   "metadata": {},
   "outputs": [
    {
     "data": {
      "text/plain": [
       "['a', 'b', 'c', 'd', 'e', 'f', 'g', 'h']"
      ]
     },
     "execution_count": 12,
     "metadata": {},
     "output_type": "execute_result"
    }
   ],
   "source": [
    "lst"
   ]
  },
  {
   "cell_type": "code",
   "execution_count": 13,
   "id": "25f11b2a-95a1-48bc-90e1-46d5fbdea84b",
   "metadata": {},
   "outputs": [
    {
     "data": {
      "text/plain": [
       "['a', 'c', 'e', 'g']"
      ]
     },
     "execution_count": 13,
     "metadata": {},
     "output_type": "execute_result"
    }
   ],
   "source": [
    "lst[::2]"
   ]
  },
  {
   "cell_type": "code",
   "execution_count": 14,
   "id": "0ba7ae33-ed4d-4181-b944-d61b60d21f7b",
   "metadata": {},
   "outputs": [
    {
     "data": {
      "text/plain": [
       "['b', 'd', 'f', 'h']"
      ]
     },
     "execution_count": 14,
     "metadata": {},
     "output_type": "execute_result"
    }
   ],
   "source": [
    "lst[1::2]"
   ]
  },
  {
   "cell_type": "markdown",
   "id": "d915e8f3-3677-45dd-8d64-9052ca356618",
   "metadata": {},
   "source": [
    "`-` step=-1이면?"
   ]
  },
  {
   "cell_type": "code",
   "execution_count": 15,
   "id": "79b598f0-7230-4dbf-a921-50353ee813d8",
   "metadata": {},
   "outputs": [
    {
     "data": {
      "text/plain": [
       "['a', 'b', 'c', 'd', 'e', 'f', 'g', 'h']"
      ]
     },
     "execution_count": 15,
     "metadata": {},
     "output_type": "execute_result"
    }
   ],
   "source": [
    "lst"
   ]
  },
  {
   "cell_type": "code",
   "execution_count": 16,
   "id": "f5b1f067-b396-4bbe-b70a-1697dd29387f",
   "metadata": {},
   "outputs": [
    {
     "data": {
      "text/plain": [
       "['h', 'g', 'f', 'e', 'd', 'c', 'b', 'a']"
      ]
     },
     "execution_count": 16,
     "metadata": {},
     "output_type": "execute_result"
    }
   ],
   "source": [
    "lst[::-1]"
   ]
  },
  {
   "cell_type": "markdown",
   "id": "7d78e13e-53d8-46ff-a137-6c341142a957",
   "metadata": {},
   "source": [
    "- reverse와 같은 기능"
   ]
  },
  {
   "cell_type": "markdown",
   "id": "fe6e05a4-67b5-4635-a09a-0242ae2f062e",
   "metadata": {},
   "source": [
    "(reverse) 와 비교"
   ]
  },
  {
   "cell_type": "markdown",
   "id": "03969abb-df88-4555-9ccc-544ca6423041",
   "metadata": {},
   "source": [
    "관찰1:reverse 메소드는 리스트 자체를 변화시킴"
   ]
  },
  {
   "cell_type": "code",
   "execution_count": 18,
   "id": "55ba2854-4b2d-4f00-99cf-8403c7dcb90c",
   "metadata": {},
   "outputs": [
    {
     "data": {
      "text/plain": [
       "['a', 'b', 'c', 'd', 'e', 'f', 'g', 'h']"
      ]
     },
     "execution_count": 18,
     "metadata": {},
     "output_type": "execute_result"
    }
   ],
   "source": [
    "lst=list('abcdefgh')\n",
    "lst"
   ]
  },
  {
   "cell_type": "code",
   "execution_count": 19,
   "id": "3f962555-fd3f-4ec5-940b-bd35beb0ae23",
   "metadata": {},
   "outputs": [
    {
     "data": {
      "text/plain": [
       "['h', 'g', 'f', 'e', 'd', 'c', 'b', 'a']"
      ]
     },
     "execution_count": 19,
     "metadata": {},
     "output_type": "execute_result"
    }
   ],
   "source": [
    "lst.reverse()\n",
    "lst"
   ]
  },
  {
   "cell_type": "markdown",
   "id": "33e92c6a-4362-42c2-aa64-14f9f2ddd36f",
   "metadata": {},
   "source": [
    "관찰2:[::-1]는 리스트를 변화시키지 않음"
   ]
  },
  {
   "cell_type": "code",
   "execution_count": 20,
   "id": "8b9ea7ac-073c-445b-bb73-4fca433e95fe",
   "metadata": {},
   "outputs": [
    {
     "data": {
      "text/plain": [
       "['a', 'b', 'c', 'd', 'e', 'f', 'g', 'h']"
      ]
     },
     "execution_count": 20,
     "metadata": {},
     "output_type": "execute_result"
    }
   ],
   "source": [
    "lst=list('abcdefgh')\n",
    "lst"
   ]
  },
  {
   "cell_type": "code",
   "execution_count": 21,
   "id": "06c7fdf5-fed7-4582-b75a-76f969f57c4f",
   "metadata": {},
   "outputs": [
    {
     "data": {
      "text/plain": [
       "['h', 'g', 'f', 'e', 'd', 'c', 'b', 'a']"
      ]
     },
     "execution_count": 21,
     "metadata": {},
     "output_type": "execute_result"
    }
   ],
   "source": [
    "lst[::-1]"
   ]
  },
  {
   "cell_type": "code",
   "execution_count": 22,
   "id": "8d32b32e-6ce6-4f0c-b125-579631d52c71",
   "metadata": {},
   "outputs": [
    {
     "data": {
      "text/plain": [
       "['a', 'b', 'c', 'd', 'e', 'f', 'g', 'h']"
      ]
     },
     "execution_count": 22,
     "metadata": {},
     "output_type": "execute_result"
    }
   ],
   "source": [
    "lst"
   ]
  },
  {
   "cell_type": "markdown",
   "id": "dcc0246a-5b43-47cb-a4b0-ac76857ef156",
   "metadata": {},
   "source": [
    "(예제) 처음과 끝을 생략하지 않고 아래와 동일한 효과를 주는 코드를 만들어 보기"
   ]
  },
  {
   "cell_type": "code",
   "execution_count": 23,
   "id": "373b5cfe-b316-40ee-bc46-e2ad935563a6",
   "metadata": {},
   "outputs": [
    {
     "data": {
      "text/plain": [
       "['h', 'g', 'f', 'e', 'd', 'c', 'b', 'a']"
      ]
     },
     "execution_count": 23,
     "metadata": {},
     "output_type": "execute_result"
    }
   ],
   "source": [
    "lst=list('abcdefgh')\n",
    "lst[::-1]"
   ]
  },
  {
   "cell_type": "markdown",
   "id": "067f2bf2-589a-40a6-a688-36012c3e426e",
   "metadata": {},
   "source": [
    "(풀이) 결국 lst[?:?:-1]의 꼴에서 적당히 ?의 값을 채우면 된다. 특히 가운데 칸에 무엇을 넣을 것인가가 관건!"
   ]
  },
  {
   "cell_type": "code",
   "execution_count": 25,
   "id": "902c8b96-5ae5-462f-a650-efeab8809f03",
   "metadata": {},
   "outputs": [
    {
     "data": {
      "text/plain": [
       "['h', 'g', 'f', 'e', 'd', 'c', 'b', 'a']"
      ]
     },
     "execution_count": 25,
     "metadata": {},
     "output_type": "execute_result"
    }
   ],
   "source": [
    "lst[-1::-1]"
   ]
  },
  {
   "cell_type": "code",
   "execution_count": 26,
   "id": "b5c41f33-ad93-4366-bbe3-9299d39de8e9",
   "metadata": {},
   "outputs": [
    {
     "data": {
      "text/plain": [
       "[]"
      ]
     },
     "execution_count": 26,
     "metadata": {},
     "output_type": "execute_result"
    }
   ],
   "source": [
    "lst[-1:-1:-1] #마지막 인덱스는 포함되지 않음!"
   ]
  },
  {
   "cell_type": "code",
   "execution_count": 27,
   "id": "3d474558-aca3-429c-be77-cc7ad7b6a01f",
   "metadata": {},
   "outputs": [
    {
     "data": {
      "text/plain": [
       "['h', 'g', 'f', 'e', 'd', 'c', 'b', 'a']"
      ]
     },
     "execution_count": 27,
     "metadata": {},
     "output_type": "execute_result"
    }
   ],
   "source": [
    "lst[-1:-9:-1]"
   ]
  },
  {
   "cell_type": "markdown",
   "id": "7085af99-42a1-4abf-af46-006c10584d1f",
   "metadata": {},
   "source": [
    "### 컴프리헨션 고급 (if문이 포함된 컴프리헨션)"
   ]
  },
  {
   "cell_type": "markdown",
   "id": "94fb7185-68fe-40fe-9f08-25efbfdb25cd",
   "metadata": {},
   "source": [
    "`-` 예제: 제곱수중에서 12로 나누어 떨어지는 수 만 원소로 가지는 리스트를 만들고 싶다.\n",
    "- 제곱수 : 1,4,9,16,25,36,49....\n",
    "- 12로 나누어 떨어지는 수 : 36,...\n",
    "\n",
    "#### 파이썬에서 `%`는 나머지를 계산하는 연산자"
   ]
  },
  {
   "cell_type": "markdown",
   "id": "37bcc125-eab3-4b2f-b58a-7a4df7c8ebdd",
   "metadata": {},
   "source": [
    "(풀이1)"
   ]
  },
  {
   "cell_type": "code",
   "execution_count": 29,
   "id": "dfa724b1-f26c-40d0-8168-bfe2ecc675e0",
   "metadata": {},
   "outputs": [],
   "source": [
    "lst=[]\n",
    "for i in range(1,101):\n",
    "    if (i**2 % 12 ==0):\n",
    "        lst.append(i**2)"
   ]
  },
  {
   "cell_type": "code",
   "execution_count": 30,
   "id": "1db9ba44-c128-4917-a099-a40f4f522816",
   "metadata": {},
   "outputs": [
    {
     "data": {
      "text/plain": [
       "[36,\n",
       " 144,\n",
       " 324,\n",
       " 576,\n",
       " 900,\n",
       " 1296,\n",
       " 1764,\n",
       " 2304,\n",
       " 2916,\n",
       " 3600,\n",
       " 4356,\n",
       " 5184,\n",
       " 6084,\n",
       " 7056,\n",
       " 8100,\n",
       " 9216]"
      ]
     },
     "execution_count": 30,
     "metadata": {},
     "output_type": "execute_result"
    }
   ],
   "source": [
    "lst"
   ]
  },
  {
   "cell_type": "code",
   "execution_count": 31,
   "id": "85d83d50-3e8d-482d-ba66-821978e375a7",
   "metadata": {},
   "outputs": [
    {
     "data": {
      "text/plain": [
       "[36,\n",
       " 144,\n",
       " 324,\n",
       " 576,\n",
       " 900,\n",
       " 1296,\n",
       " 1764,\n",
       " 2304,\n",
       " 2916,\n",
       " 3600,\n",
       " 4356,\n",
       " 5184,\n",
       " 6084,\n",
       " 7056,\n",
       " 8100,\n",
       " 9216]"
      ]
     },
     "execution_count": 31,
     "metadata": {},
     "output_type": "execute_result"
    }
   ],
   "source": [
    "[i**2 for i in range(1,101) if (i**2 %12 ==0)]"
   ]
  },
  {
   "cell_type": "markdown",
   "id": "77f84eb8-0333-4e6e-91f2-5a545d624d24",
   "metadata": {},
   "source": [
    "#### 함수고급 (조건부리턴)"
   ]
  },
  {
   "cell_type": "markdown",
   "id": "ca737e22-1d04-4393-b0df-b38151ff056d",
   "metadata": {},
   "source": [
    "`-` 홀수 / 짝수를 판별하는 함수 만들기 1"
   ]
  },
  {
   "cell_type": "code",
   "execution_count": 33,
   "id": "0e76a8fc-05e8-4094-9b94-203bb48c9d9b",
   "metadata": {},
   "outputs": [],
   "source": [
    "def test(a):\n",
    "    if a%2==0:\n",
    "        return 'even'\n",
    "    else:\n",
    "        return 'odd'"
   ]
  },
  {
   "cell_type": "code",
   "execution_count": 34,
   "id": "f171fb80-943e-4154-b018-05e94982450b",
   "metadata": {},
   "outputs": [
    {
     "data": {
      "text/plain": [
       "'odd'"
      ]
     },
     "execution_count": 34,
     "metadata": {},
     "output_type": "execute_result"
    }
   ],
   "source": [
    "test(1)"
   ]
  },
  {
   "cell_type": "code",
   "execution_count": 35,
   "id": "96d3b887-11f1-4d59-977d-065e9d22cb9f",
   "metadata": {},
   "outputs": [
    {
     "data": {
      "text/plain": [
       "'even'"
      ]
     },
     "execution_count": 35,
     "metadata": {},
     "output_type": "execute_result"
    }
   ],
   "source": [
    "test(2)"
   ]
  },
  {
   "cell_type": "code",
   "execution_count": 37,
   "id": "d0592ba4-f20f-4f78-b7b0-c7c2c4d84e73",
   "metadata": {},
   "outputs": [
    {
     "data": {
      "text/plain": [
       "['odd', 'even', 'odd', 'even', 'odd', 'even', 'odd', 'even', 'odd']"
      ]
     },
     "execution_count": 37,
     "metadata": {},
     "output_type": "execute_result"
    }
   ],
   "source": [
    "[test(i) for i in range(1,10)]"
   ]
  },
  {
   "cell_type": "markdown",
   "id": "f56e5c9e-5d1a-4d13-90da-6e72f44a9b74",
   "metadata": {},
   "source": [
    "`-` 홀수 / 짝수를 판별하는 함수 만들기 2"
   ]
  },
  {
   "cell_type": "code",
   "execution_count": 38,
   "id": "be6a8f79-542d-4f44-a26d-8740a45f5777",
   "metadata": {},
   "outputs": [],
   "source": [
    "def test(a):\n",
    "    return 'even' if a%2==0 else 'odd'"
   ]
  },
  {
   "cell_type": "code",
   "execution_count": 39,
   "id": "dafe3c48-43c1-4752-9ea9-36304b0cb346",
   "metadata": {},
   "outputs": [
    {
     "data": {
      "text/plain": [
       "['odd', 'even', 'odd', 'even', 'odd', 'even', 'odd', 'even', 'odd']"
      ]
     },
     "execution_count": 39,
     "metadata": {},
     "output_type": "execute_result"
    }
   ],
   "source": [
    "[test(a) for a in range(1,10)]"
   ]
  },
  {
   "cell_type": "markdown",
   "id": "6752cb36-c1d3-4a99-a95f-fdab86d5574f",
   "metadata": {},
   "source": [
    "#### len함수"
   ]
  },
  {
   "cell_type": "markdown",
   "id": "efe339ed-7614-45eb-80e0-98c0a4a2007e",
   "metadata": {},
   "source": [
    "`-` 복습 \n",
    "- 0차원 자료형은 len함수가 동작하지 않는다"
   ]
  },
  {
   "cell_type": "code",
   "execution_count": 40,
   "id": "8d60f643-b133-4fb3-9402-0a442a43ea7f",
   "metadata": {},
   "outputs": [
    {
     "ename": "TypeError",
     "evalue": "object of type 'int' has no len()",
     "output_type": "error",
     "traceback": [
      "\u001b[0;31m---------------------------------------------------------------------------\u001b[0m",
      "\u001b[0;31mTypeError\u001b[0m                                 Traceback (most recent call last)",
      "Input \u001b[0;32mIn [40]\u001b[0m, in \u001b[0;36m<cell line: 2>\u001b[0;34m()\u001b[0m\n\u001b[1;32m      1\u001b[0m a\u001b[38;5;241m=\u001b[39m\u001b[38;5;241m1\u001b[39m\n\u001b[0;32m----> 2\u001b[0m \u001b[38;5;28;43mlen\u001b[39;49m\u001b[43m(\u001b[49m\u001b[43ma\u001b[49m\u001b[43m)\u001b[49m\n",
      "\u001b[0;31mTypeError\u001b[0m: object of type 'int' has no len()"
     ]
    }
   ],
   "source": [
    "a=1\n",
    "len(a)"
   ]
  },
  {
   "cell_type": "code",
   "execution_count": 41,
   "id": "b141fe9a-4d96-4a65-84fd-fcc0f0f803a4",
   "metadata": {},
   "outputs": [
    {
     "ename": "TypeError",
     "evalue": "object of type 'bool' has no len()",
     "output_type": "error",
     "traceback": [
      "\u001b[0;31m---------------------------------------------------------------------------\u001b[0m",
      "\u001b[0;31mTypeError\u001b[0m                                 Traceback (most recent call last)",
      "Input \u001b[0;32mIn [41]\u001b[0m, in \u001b[0;36m<cell line: 2>\u001b[0;34m()\u001b[0m\n\u001b[1;32m      1\u001b[0m a\u001b[38;5;241m=\u001b[39m\u001b[38;5;28;01mTrue\u001b[39;00m\n\u001b[0;32m----> 2\u001b[0m \u001b[38;5;28;43mlen\u001b[39;49m\u001b[43m(\u001b[49m\u001b[43ma\u001b[49m\u001b[43m)\u001b[49m\n",
      "\u001b[0;31mTypeError\u001b[0m: object of type 'bool' has no len()"
     ]
    }
   ],
   "source": [
    "a=True\n",
    "len(a)"
   ]
  },
  {
   "cell_type": "code",
   "execution_count": 42,
   "id": "53cb44f5-198e-423f-9a38-a6109cbb694c",
   "metadata": {},
   "outputs": [
    {
     "ename": "TypeError",
     "evalue": "object of type 'float' has no len()",
     "output_type": "error",
     "traceback": [
      "\u001b[0;31m---------------------------------------------------------------------------\u001b[0m",
      "\u001b[0;31mTypeError\u001b[0m                                 Traceback (most recent call last)",
      "Input \u001b[0;32mIn [42]\u001b[0m, in \u001b[0;36m<cell line: 2>\u001b[0;34m()\u001b[0m\n\u001b[1;32m      1\u001b[0m a\u001b[38;5;241m=\u001b[39m\u001b[38;5;241m2.41\u001b[39m\n\u001b[0;32m----> 2\u001b[0m \u001b[38;5;28;43mlen\u001b[39;49m\u001b[43m(\u001b[49m\u001b[43ma\u001b[49m\u001b[43m)\u001b[49m\n",
      "\u001b[0;31mTypeError\u001b[0m: object of type 'float' has no len()"
     ]
    }
   ],
   "source": [
    "a=2.41\n",
    "len(a)"
   ]
  },
  {
   "cell_type": "markdown",
   "id": "896384b7-684e-404d-a474-6f3e0ab9a9f5",
   "metadata": {},
   "source": [
    "`-` 1차원 자료형은 len함수가 동작"
   ]
  },
  {
   "cell_type": "code",
   "execution_count": 43,
   "id": "ec7d8b13-cf57-41a5-a71b-ad2352508d27",
   "metadata": {},
   "outputs": [
    {
     "data": {
      "text/plain": [
       "7"
      ]
     },
     "execution_count": 43,
     "metadata": {},
     "output_type": "execute_result"
    }
   ],
   "source": [
    "a='seokjin'\n",
    "len(a)"
   ]
  },
  {
   "cell_type": "code",
   "execution_count": 44,
   "id": "b93a492e-22a9-4c9f-b360-0c45c9039228",
   "metadata": {},
   "outputs": [
    {
     "data": {
      "text/plain": [
       "6"
      ]
     },
     "execution_count": 44,
     "metadata": {},
     "output_type": "execute_result"
    }
   ],
   "source": [
    "a=[1,2,3,4,5,6]\n",
    "len(a)"
   ]
  },
  {
   "cell_type": "code",
   "execution_count": 45,
   "id": "c0483c68-ac3a-4471-b56d-eb08ebe8df45",
   "metadata": {},
   "outputs": [
    {
     "data": {
      "text/plain": [
       "6"
      ]
     },
     "execution_count": 45,
     "metadata": {},
     "output_type": "execute_result"
    }
   ],
   "source": [
    "a=1,2,3,4,5,6\n",
    "len(a)"
   ]
  },
  {
   "cell_type": "code",
   "execution_count": 46,
   "id": "8e74c5e7-fb01-4b3a-98f3-b9da2644619c",
   "metadata": {},
   "outputs": [
    {
     "data": {
      "text/plain": [
       "10"
      ]
     },
     "execution_count": 46,
     "metadata": {},
     "output_type": "execute_result"
    }
   ],
   "source": [
    "a=range(10)\n",
    "len(a)"
   ]
  },
  {
   "cell_type": "markdown",
   "id": "28be0e0b-f917-4ca7-827b-e61d0ba4999d",
   "metadata": {},
   "source": [
    "> 길이가 1인 1차원 자료형과 0차원 자료형은 다름!"
   ]
  },
  {
   "cell_type": "code",
   "execution_count": 47,
   "id": "45df6dbe-9431-4277-a24f-874d9a0e9e27",
   "metadata": {},
   "outputs": [
    {
     "data": {
      "text/plain": [
       "1"
      ]
     },
     "execution_count": 47,
     "metadata": {},
     "output_type": "execute_result"
    }
   ],
   "source": [
    "a='s'\n",
    "len(a)"
   ]
  },
  {
   "cell_type": "code",
   "execution_count": 48,
   "id": "51ecc757-eec8-4f3f-b53f-acf8d6e94eda",
   "metadata": {},
   "outputs": [
    {
     "data": {
      "text/plain": [
       "1"
      ]
     },
     "execution_count": 48,
     "metadata": {},
     "output_type": "execute_result"
    }
   ],
   "source": [
    "a=[1]\n",
    "len(a)"
   ]
  },
  {
   "cell_type": "code",
   "execution_count": 50,
   "id": "6a3e169e-4d85-4700-b111-60c5a7648af1",
   "metadata": {},
   "outputs": [
    {
     "data": {
      "text/plain": [
       "1"
      ]
     },
     "execution_count": 50,
     "metadata": {},
     "output_type": "execute_result"
    }
   ],
   "source": [
    "a=(1,)\n",
    "len(a)"
   ]
  },
  {
   "cell_type": "code",
   "execution_count": 51,
   "id": "77bd4324-9282-4fcf-b7e6-a0d7f600ceb9",
   "metadata": {},
   "outputs": [
    {
     "data": {
      "text/plain": [
       "1"
      ]
     },
     "execution_count": 51,
     "metadata": {},
     "output_type": "execute_result"
    }
   ],
   "source": [
    "a=range(1)\n",
    "len(a)"
   ]
  },
  {
   "cell_type": "markdown",
   "id": "d8cea5f1-7f4f-4982-9171-2fed9f2e7aa1",
   "metadata": {},
   "source": [
    "`-` 길이가 0인 1차원 자료형도 존재"
   ]
  },
  {
   "cell_type": "code",
   "execution_count": 52,
   "id": "ccda7487-29c0-4843-8c60-c5a9469cd16f",
   "metadata": {},
   "outputs": [
    {
     "data": {
      "text/plain": [
       "0"
      ]
     },
     "execution_count": 52,
     "metadata": {},
     "output_type": "execute_result"
    }
   ],
   "source": [
    "a=''\n",
    "len(a)"
   ]
  },
  {
   "cell_type": "code",
   "execution_count": 53,
   "id": "a6d72428-6df0-4f23-9e34-c24d293c30ab",
   "metadata": {},
   "outputs": [
    {
     "data": {
      "text/plain": [
       "0"
      ]
     },
     "execution_count": 53,
     "metadata": {},
     "output_type": "execute_result"
    }
   ],
   "source": [
    "a=[]\n",
    "len(a)"
   ]
  },
  {
   "cell_type": "code",
   "execution_count": 54,
   "id": "f52cee15-29cc-43e0-b6ba-89f9ced93dcb",
   "metadata": {},
   "outputs": [
    {
     "data": {
      "text/plain": [
       "0"
      ]
     },
     "execution_count": 54,
     "metadata": {},
     "output_type": "execute_result"
    }
   ],
   "source": [
    "a=()\n",
    "len(a)"
   ]
  },
  {
   "cell_type": "code",
   "execution_count": 55,
   "id": "eb9039ba-c3ea-46ae-8eba-fbefc0e65552",
   "metadata": {},
   "outputs": [
    {
     "data": {
      "text/plain": [
       "0"
      ]
     },
     "execution_count": 55,
     "metadata": {},
     "output_type": "execute_result"
    }
   ],
   "source": [
    "a=range(0)\n",
    "len(a)"
   ]
  },
  {
   "cell_type": "markdown",
   "id": "1d6878c5-4c38-4688-ae68-c07f5bfc20a6",
   "metadata": {},
   "source": [
    "### summary : str, list, tuple"
   ]
  },
  {
   "cell_type": "markdown",
   "id": "d0a7ff7f-76fa-4750-ad15-63f1eaf1764b",
   "metadata": {},
   "source": [
    "`-` str,list,tuple은 모두 시퀀스형이라는 공통점이 있다. $\\to$ 원소의 위치번호로 인덱싱이 가능"
   ]
  },
  {
   "cell_type": "code",
   "execution_count": 56,
   "id": "16fc3409-0f9b-4cd4-824a-4390943a8c8f",
   "metadata": {},
   "outputs": [],
   "source": [
    "lst=[1,2,3,4]"
   ]
  },
  {
   "cell_type": "code",
   "execution_count": 59,
   "id": "ed4add70-9937-4972-9e13-0a2625c636f0",
   "metadata": {},
   "outputs": [
    {
     "data": {
      "text/plain": [
       "1"
      ]
     },
     "execution_count": 59,
     "metadata": {},
     "output_type": "execute_result"
    }
   ],
   "source": [
    "lst[0] #위치번호 = 0"
   ]
  },
  {
   "cell_type": "code",
   "execution_count": 60,
   "id": "aa323a8a-4ba2-4aa5-af47-6a66471b2ac1",
   "metadata": {},
   "outputs": [
    {
     "data": {
      "text/plain": [
       "4"
      ]
     },
     "execution_count": 60,
     "metadata": {},
     "output_type": "execute_result"
    }
   ],
   "source": [
    "lst[-1] #위치번호 = -1"
   ]
  },
  {
   "cell_type": "markdown",
   "id": "18f82cc2-476a-4e45-be1d-cf8becd68cf4",
   "metadata": {},
   "source": [
    "`-` str,list,tuple은 차이점도 존재함. "
   ]
  },
  {
   "cell_type": "markdown",
   "id": "344a3184-0437-4e8a-91ab-bf928da8fc9f",
   "metadata": {},
   "source": [
    "***시퀀스형의 카테고리***"
   ]
  },
  {
   "cell_type": "markdown",
   "id": "97ee450f-81a0-4b07-b37e-64963b07786e",
   "metadata": {},
   "source": [
    "- 컨테이너형 : list,tuple\n",
    "- 균일형 : str\n",
    "- 가변형 : list\n",
    "- 불변형 : tuple,str"
   ]
  },
  {
   "cell_type": "markdown",
   "id": "86c20c3e-0977-4f05-afe4-1a5e0c6bdb89",
   "metadata": {},
   "source": [
    "***표로 정리하면***"
   ]
  },
  {
   "cell_type": "markdown",
   "id": "6c620a3a-52be-4471-8dbd-7d3eca311bbc",
   "metadata": {},
   "source": [
    "||컨테이너형|균일형|\n",
    "|:-:|:-:|:-:|\n",
    "|가변형|list||\n",
    "|불변형|tuple|str|"
   ]
  },
  {
   "cell_type": "markdown",
   "id": "96b74998-14cc-4c99-9847-6989c6bc6152",
   "metadata": {},
   "source": [
    "`-`시퀀스형이 아닌 1차원 자료형도 있을까?? -> 원소의 위치번호로 인덱싱이 불가능한 자료형"
   ]
  },
  {
   "cell_type": "markdown",
   "id": "bde4b14d-6678-4f66-9982-a7ef90f9fd66",
   "metadata": {},
   "source": [
    "`-` 왜 이런게 필요할까?\n",
    "- 벡터에서 원소를 뽑는 것은 정보의 모임에서 정보를 검색하는 것과 같다.\n",
    "- 정보를 `순서`대로 나열한 뒤에 그 `순서`를 이용하여 검색하는 방법은 유용하다.\n",
    "- 하지만 경우에 따라서는 `키워드`를 기억해서 그 `키워드`를 바탕으로 정보에 접근하는 방법이 유용할 수 있다."
   ]
  },
  {
   "cell_type": "markdown",
   "id": "adbc4126-c07e-4b0a-bd28-5f1ac1c5ca5e",
   "metadata": {},
   "source": [
    "`-` 즉, 순서대로 정리된 자료를 검색할 때는 시퀀스형이 유리하다. 그런데 키워드로 검색하고 싶을 경우는 딕셔너리 타입이 유리하다."
   ]
  },
  {
   "cell_type": "markdown",
   "id": "4f295e3c-5319-46c6-a6fd-7a3f08078818",
   "metadata": {},
   "source": [
    "### 딕셔너리"
   ]
  },
  {
   "cell_type": "markdown",
   "id": "9705bb12-ea9d-45a9-b157-7507409f0291",
   "metadata": {},
   "source": [
    "#### 선언"
   ]
  },
  {
   "cell_type": "markdown",
   "id": "c727b56a-7ab1-4159-81f6-72571f08721a",
   "metadata": {},
   "source": [
    "`-` 방법 1"
   ]
  },
  {
   "cell_type": "code",
   "execution_count": 65,
   "id": "27f887de-d8d5-4c99-8a68-74686ed76013",
   "metadata": {},
   "outputs": [
    {
     "data": {
      "text/plain": [
       "{'seokjin': 26, 'iu': 29}"
      ]
     },
     "execution_count": 65,
     "metadata": {},
     "output_type": "execute_result"
    }
   ],
   "source": [
    "age={'seokjin':26,'iu':29}\n",
    "age"
   ]
  },
  {
   "cell_type": "code",
   "execution_count": 66,
   "id": "f2e40d15-d571-41ff-85df-e4bbaead2a99",
   "metadata": {},
   "outputs": [
    {
     "data": {
      "text/plain": [
       "dict"
      ]
     },
     "execution_count": 66,
     "metadata": {},
     "output_type": "execute_result"
    }
   ],
   "source": [
    "type(age)"
   ]
  },
  {
   "cell_type": "markdown",
   "id": "d8ab6cf6-91e5-4f49-bd0f-7ea2e73b3bf9",
   "metadata": {},
   "source": [
    "`-` 방법 2"
   ]
  },
  {
   "cell_type": "code",
   "execution_count": 67,
   "id": "e83b711f-2c8b-4cb8-ab92-81ff26abdc60",
   "metadata": {},
   "outputs": [
    {
     "data": {
      "text/plain": [
       "{'seokjin': 26, 'iu': 29}"
      ]
     },
     "execution_count": 67,
     "metadata": {},
     "output_type": "execute_result"
    }
   ],
   "source": [
    "age=dict(seokjin=26,iu=29)\n",
    "age"
   ]
  },
  {
   "cell_type": "code",
   "execution_count": 68,
   "id": "34752b42-edef-443c-a4bd-6fc0be3b96e3",
   "metadata": {},
   "outputs": [
    {
     "data": {
      "text/plain": [
       "dict"
      ]
     },
     "execution_count": 68,
     "metadata": {},
     "output_type": "execute_result"
    }
   ],
   "source": [
    "type(age)"
   ]
  },
  {
   "cell_type": "markdown",
   "id": "4b40b6ec-6ba3-405d-b60d-ab6f196792fb",
   "metadata": {},
   "source": [
    "`-` 방법 3"
   ]
  },
  {
   "cell_type": "code",
   "execution_count": 69,
   "id": "eedefaca-38b2-4154-a73f-29813e6567b3",
   "metadata": {},
   "outputs": [
    {
     "data": {
      "text/plain": [
       "[['seokjin', 26], ['iu', 29]]"
      ]
     },
     "execution_count": 69,
     "metadata": {},
     "output_type": "execute_result"
    }
   ],
   "source": [
    "_lst=[['seokjin',26],['iu',29]]\n",
    "_lst"
   ]
  },
  {
   "cell_type": "code",
   "execution_count": 70,
   "id": "4dcaad47-84b7-4b07-939d-ef3a7c606e1c",
   "metadata": {},
   "outputs": [
    {
     "data": {
      "text/plain": [
       "{'seokjin': 26, 'iu': 29}"
      ]
     },
     "execution_count": 70,
     "metadata": {},
     "output_type": "execute_result"
    }
   ],
   "source": [
    "dict(_lst)"
   ]
  },
  {
   "cell_type": "markdown",
   "id": "91220914-e31e-4f98-951a-bede799d8c47",
   "metadata": {},
   "source": [
    "`-` 방법 4"
   ]
  },
  {
   "cell_type": "code",
   "execution_count": 71,
   "id": "47a3b0f7-9778-41de-bd6d-7e2959c87b3c",
   "metadata": {},
   "outputs": [
    {
     "data": {
      "text/plain": [
       "(('seokjin', 26), ('iu', 29))"
      ]
     },
     "execution_count": 71,
     "metadata": {},
     "output_type": "execute_result"
    }
   ],
   "source": [
    "_tpl=('seokjin',26),('iu',29)\n",
    "_tpl"
   ]
  },
  {
   "cell_type": "code",
   "execution_count": 72,
   "id": "feec524a-0414-4f27-a3d0-123b7f369e44",
   "metadata": {},
   "outputs": [
    {
     "data": {
      "text/plain": [
       "{'seokjin': 26, 'iu': 29}"
      ]
     },
     "execution_count": 72,
     "metadata": {},
     "output_type": "execute_result"
    }
   ],
   "source": [
    "dict(_tpl)"
   ]
  },
  {
   "cell_type": "markdown",
   "id": "7b094093-b560-4435-b8e2-d39cbe36091e",
   "metadata": {},
   "source": [
    "#### 원소추출"
   ]
  },
  {
   "cell_type": "code",
   "execution_count": 73,
   "id": "45c474d6-9974-4ad5-9b8e-0800975d1b94",
   "metadata": {},
   "outputs": [
    {
     "data": {
      "text/plain": [
       "{'seokjin': 26, 'iu': 29}"
      ]
     },
     "execution_count": 73,
     "metadata": {},
     "output_type": "execute_result"
    }
   ],
   "source": [
    "age={'seokjin':26,'iu':29}\n",
    "age"
   ]
  },
  {
   "cell_type": "markdown",
   "id": "1410652b-3d04-4011-a14b-01660f949878",
   "metadata": {},
   "source": [
    "seokjin의 나이를 추출하고 싶으면?"
   ]
  },
  {
   "cell_type": "code",
   "execution_count": 75,
   "id": "67b821e3-28f5-423e-a282-31491e16f035",
   "metadata": {},
   "outputs": [
    {
     "ename": "KeyError",
     "evalue": "0",
     "output_type": "error",
     "traceback": [
      "\u001b[0;31m---------------------------------------------------------------------------\u001b[0m",
      "\u001b[0;31mKeyError\u001b[0m                                  Traceback (most recent call last)",
      "Input \u001b[0;32mIn [75]\u001b[0m, in \u001b[0;36m<cell line: 1>\u001b[0;34m()\u001b[0m\n\u001b[0;32m----> 1\u001b[0m \u001b[43mage\u001b[49m\u001b[43m[\u001b[49m\u001b[38;5;241;43m0\u001b[39;49m\u001b[43m]\u001b[49m\n",
      "\u001b[0;31mKeyError\u001b[0m: 0"
     ]
    }
   ],
   "source": [
    "age[0] #이렇게 하는게 아니라"
   ]
  },
  {
   "cell_type": "code",
   "execution_count": 76,
   "id": "733302a6-188b-4724-9dcf-9db35ef9a8f6",
   "metadata": {},
   "outputs": [
    {
     "data": {
      "text/plain": [
       "26"
      ]
     },
     "execution_count": 76,
     "metadata": {},
     "output_type": "execute_result"
    }
   ],
   "source": [
    "age['seokjin']"
   ]
  },
  {
   "cell_type": "markdown",
   "id": "99a61c82-4bdf-4153-bcfe-c2b4ff0d5cdc",
   "metadata": {},
   "source": [
    "만약 리스트로 저장했다면??"
   ]
  },
  {
   "cell_type": "code",
   "execution_count": 77,
   "id": "b2025175-1247-486f-8e5f-eefaa358f356",
   "metadata": {},
   "outputs": [],
   "source": [
    "age=[['seokjin',26],['iu',29]]"
   ]
  },
  {
   "cell_type": "markdown",
   "id": "83fe57a2-a87c-46d9-ac54-1ab773ead37d",
   "metadata": {},
   "source": [
    "seokjin의 나이를 추출하고 싶다면?"
   ]
  },
  {
   "cell_type": "markdown",
   "id": "a1c2b174-aca0-4a55-b1b1-2b35f130c361",
   "metadata": {},
   "source": [
    "(방법1)"
   ]
  },
  {
   "cell_type": "code",
   "execution_count": 78,
   "id": "59c25762-83ac-48a9-8200-6f253dff9bba",
   "metadata": {},
   "outputs": [
    {
     "data": {
      "text/plain": [
       "26"
      ]
     },
     "execution_count": 78,
     "metadata": {},
     "output_type": "execute_result"
    }
   ],
   "source": [
    "age[0][1] #seokjin의 나이를 출력하라는 의미"
   ]
  },
  {
   "cell_type": "markdown",
   "id": "ac141fe6-959f-4150-b5e0-c780d8957011",
   "metadata": {},
   "source": [
    "(방법2)"
   ]
  },
  {
   "cell_type": "code",
   "execution_count": 80,
   "id": "fa03bbcd-3e9c-4beb-b9f1-4e5c6c6b8c7c",
   "metadata": {},
   "outputs": [
    {
     "data": {
      "text/plain": [
       "['seokjin', 'iu']"
      ]
     },
     "execution_count": 80,
     "metadata": {},
     "output_type": "execute_result"
    }
   ],
   "source": [
    "_keys=[age[i][0] for i in range(len(age))] #리스트컴프리헨션\n",
    "_keys"
   ]
  },
  {
   "cell_type": "code",
   "execution_count": 81,
   "id": "70dd8a45-3bde-4f1a-969a-b5df50f68760",
   "metadata": {},
   "outputs": [
    {
     "data": {
      "text/plain": [
       "[26]"
      ]
     },
     "execution_count": 81,
     "metadata": {},
     "output_type": "execute_result"
    }
   ],
   "source": [
    "[age[i][1] for i in range(len(age)) if age[i][0]=='seokjin'] "
   ]
  },
  {
   "cell_type": "markdown",
   "id": "f060f056-ef70-447f-a5f7-fbc46825c9a7",
   "metadata": {},
   "source": [
    "- ... 사용하지 말자.."
   ]
  },
  {
   "cell_type": "markdown",
   "id": "273b1906-4e03-424d-b9f3-b01557ad3f21",
   "metadata": {},
   "source": [
    "#### 원소추가, 변경, 삭제"
   ]
  },
  {
   "cell_type": "code",
   "execution_count": 82,
   "id": "fbe32281-fd71-463d-adc0-2e4214bdf610",
   "metadata": {},
   "outputs": [
    {
     "data": {
      "text/plain": [
       "{'seokjin': 26, 'iu': 29}"
      ]
     },
     "execution_count": 82,
     "metadata": {},
     "output_type": "execute_result"
    }
   ],
   "source": [
    "age={'seokjin':26,'iu':29}\n",
    "age"
   ]
  },
  {
   "cell_type": "markdown",
   "id": "b75c2674-fe4d-40df-8b77-704872983c8a",
   "metadata": {},
   "source": [
    "`-` 원소에 접근"
   ]
  },
  {
   "cell_type": "code",
   "execution_count": 83,
   "id": "40af1446-ec84-48d8-830a-495871474b05",
   "metadata": {},
   "outputs": [
    {
     "data": {
      "text/plain": [
       "26"
      ]
     },
     "execution_count": 83,
     "metadata": {},
     "output_type": "execute_result"
    }
   ],
   "source": [
    "age['seokjin']"
   ]
  },
  {
   "cell_type": "markdown",
   "id": "ce1e7f0b-8c26-4400-b172-0d06cda66663",
   "metadata": {},
   "source": [
    "`-` 추가"
   ]
  },
  {
   "cell_type": "code",
   "execution_count": 85,
   "id": "79821e3f-5e8a-4a17-aee1-1961f69441c3",
   "metadata": {},
   "outputs": [
    {
     "data": {
      "text/plain": [
       "{'seokjin': 26, 'iu': 29, 'jk': 26}"
      ]
     },
     "execution_count": 85,
     "metadata": {},
     "output_type": "execute_result"
    }
   ],
   "source": [
    "age['jk']=26 #추가\n",
    "age"
   ]
  },
  {
   "cell_type": "markdown",
   "id": "7cde0c25-2fb5-4f08-b086-2f9f2f3b9ff6",
   "metadata": {},
   "source": [
    "`-` 변경"
   ]
  },
  {
   "cell_type": "code",
   "execution_count": 86,
   "id": "bf1e8ed1-eee2-49d4-b69c-e6cbf820182d",
   "metadata": {},
   "outputs": [
    {
     "data": {
      "text/plain": [
       "{'seokjin': 25, 'iu': 29, 'jk': 26}"
      ]
     },
     "execution_count": 86,
     "metadata": {},
     "output_type": "execute_result"
    }
   ],
   "source": [
    "age['seokjin']=25 #변경\n",
    "age"
   ]
  },
  {
   "cell_type": "markdown",
   "id": "3b4fe55e-b2cf-4e64-9ee1-bb89b8a38025",
   "metadata": {},
   "source": [
    "`-` 삭제"
   ]
  },
  {
   "cell_type": "markdown",
   "id": "30ec3050-15d4-474b-9330-9ef156065656",
   "metadata": {},
   "source": [
    "(방법1)"
   ]
  },
  {
   "cell_type": "code",
   "execution_count": 88,
   "id": "180b809e-032b-4217-b9d3-e9d9a8c9e046",
   "metadata": {},
   "outputs": [
    {
     "data": {
      "text/plain": [
       "{'seokjin': 26, 'iu': 29}"
      ]
     },
     "execution_count": 88,
     "metadata": {},
     "output_type": "execute_result"
    }
   ],
   "source": [
    "age={'seokjin':26,'iu':29,'jk':26}\n",
    "del age['jk']\n",
    "age"
   ]
  },
  {
   "cell_type": "markdown",
   "id": "a0a6b53a-032b-439b-b06a-4292b53d663d",
   "metadata": {},
   "source": [
    "(방법2)"
   ]
  },
  {
   "cell_type": "code",
   "execution_count": 89,
   "id": "ba8f2b6b-7422-4836-8a62-8e06dc32e269",
   "metadata": {},
   "outputs": [
    {
     "data": {
      "text/plain": [
       "26"
      ]
     },
     "execution_count": 89,
     "metadata": {},
     "output_type": "execute_result"
    }
   ],
   "source": [
    "age={'seokjin':26,'iu':29,'jk':26}\n",
    "age.pop('jk')"
   ]
  },
  {
   "cell_type": "code",
   "execution_count": 90,
   "id": "15a8b6b4-be70-4c55-b2f4-afb407cd68ae",
   "metadata": {},
   "outputs": [
    {
     "data": {
      "text/plain": [
       "{'seokjin': 26, 'iu': 29}"
      ]
     },
     "execution_count": 90,
     "metadata": {},
     "output_type": "execute_result"
    }
   ],
   "source": [
    "age"
   ]
  },
  {
   "cell_type": "markdown",
   "id": "ae347301-c3cf-49a7-a32b-399f9a894261",
   "metadata": {},
   "source": [
    "`-` 참고로 리스트였다면 이러한 삭제작업이 비효율적일 것임"
   ]
  },
  {
   "cell_type": "code",
   "execution_count": 91,
   "id": "910fa608-16c7-42c7-b424-9ffce2476ffd",
   "metadata": {},
   "outputs": [
    {
     "data": {
      "text/plain": [
       "[['seokjin', 26], ['iu', 29], ['jk', 26]]"
      ]
     },
     "execution_count": 91,
     "metadata": {},
     "output_type": "execute_result"
    }
   ],
   "source": [
    "age=[['seokjin',26],['iu',29],['jk',26]]\n",
    "age"
   ]
  },
  {
   "cell_type": "code",
   "execution_count": 92,
   "id": "107622b4-40d8-4039-b075-ad06ebe2e89f",
   "metadata": {},
   "outputs": [
    {
     "data": {
      "text/plain": [
       "[['seokjin', 26], ['iu', 29]]"
      ]
     },
     "execution_count": 92,
     "metadata": {},
     "output_type": "execute_result"
    }
   ],
   "source": [
    "age=[[key,val] for key,val in age if key !='jk']\n",
    "age"
   ]
  },
  {
   "cell_type": "code",
   "execution_count": null,
   "id": "901fc63b-1783-4bf5-988d-8f5d793332c1",
   "metadata": {},
   "outputs": [],
   "source": []
  }
 ],
 "metadata": {
  "kernelspec": {
   "display_name": "Python 3 (ipykernel)",
   "language": "python",
   "name": "python3"
  },
  "language_info": {
   "codemirror_mode": {
    "name": "ipython",
    "version": 3
   },
   "file_extension": ".py",
   "mimetype": "text/x-python",
   "name": "python",
   "nbconvert_exporter": "python",
   "pygments_lexer": "ipython3",
   "version": "3.9.7"
  }
 },
 "nbformat": 4,
 "nbformat_minor": 5
}
