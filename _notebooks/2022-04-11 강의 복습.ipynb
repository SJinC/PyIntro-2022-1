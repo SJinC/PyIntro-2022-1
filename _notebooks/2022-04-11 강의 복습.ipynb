{
 "cells": [
  {
   "cell_type": "markdown",
   "id": "8fd511bc-d581-442e-bec0-372405727284",
   "metadata": {},
   "source": [
    "# 파이썬 4월 11일 강의 복습\n",
    "> \"7월 1일\"\n",
    "\n",
    "- toc:true\n",
    "- branch: master\n",
    "- badges: true\n",
    "- comments: true\n",
    "- author: 최석진\n",
    "- categories: [Python]"
   ]
  },
  {
   "cell_type": "markdown",
   "id": "e25997a4-2622-449d-977a-1b9b9576bb09",
   "metadata": {},
   "source": [
    "## numpy \n",
    "### (@,concat,stack,sum,mean,std,max,min,prod,argmax,argmin,cumsum,cumprod,diff)"
   ]
  },
  {
   "cell_type": "code",
   "execution_count": 2,
   "id": "641808ba-14ef-4dbe-bd6c-41e1bce2ec2b",
   "metadata": {},
   "outputs": [],
   "source": [
    "import numpy as np"
   ]
  },
  {
   "cell_type": "markdown",
   "id": "9978b57c-553e-4cf6-bd55-0cc36527bb2a",
   "metadata": {},
   "source": [
    "### 넘파이공부 3단계 : 차원"
   ]
  },
  {
   "cell_type": "markdown",
   "id": "498648ff-b822-46dd-8398-9aab0dfb5670",
   "metadata": {},
   "source": [
    "2차원 배열과 연립 1차 방정식"
   ]
  },
  {
   "cell_type": "markdown",
   "id": "38218b8a-160a-4b28-a3a1-8d31b4d578a7",
   "metadata": {},
   "source": [
    "`-` 아래의 연립방정식 고려 \n",
    "\n",
    "$\\begin{cases}\n",
    "y+z+w = 3 \\\\ \n",
    "x+z+w = 3 \\\\ \n",
    "x+y+w = 3 \\\\\n",
    "x+y+z = 3 \n",
    "\\end{cases}$"
   ]
  },
  {
   "cell_type": "markdown",
   "id": "c6443565-ec6e-45f3-8aed-4d2bacee07a5",
   "metadata": {},
   "source": [
    "`-` 행렬표현? \n",
    "\n",
    "$\\begin{bmatrix} \n",
    "0 & 1 & 1 & 1 \\\\\n",
    "1 & 0 & 1 & 1 \\\\\n",
    "1 & 1 & 0 & 1 \\\\\n",
    "1 & 1 & 1 & 0 \n",
    "\\end{bmatrix}\n",
    "\\begin{bmatrix}\n",
    "x \\\\ \n",
    "y \\\\ \n",
    "z \\\\ \n",
    "w \n",
    "\\end{bmatrix} =\n",
    "\\begin{bmatrix}\n",
    "3 \\\\ \n",
    "3 \\\\ \n",
    "3 \\\\ \n",
    "3 \n",
    "\\end{bmatrix}$\n"
   ]
  },
  {
   "cell_type": "markdown",
   "id": "c9f53d43-5c2e-4751-a5b6-0d3e0aa2e177",
   "metadata": {},
   "source": [
    "`-` 풀이"
   ]
  },
  {
   "cell_type": "code",
   "execution_count": 3,
   "id": "b40dc5f6-ff81-43b0-82ab-fa6c011acd80",
   "metadata": {},
   "outputs": [
    {
     "data": {
      "text/plain": [
       "array([[0, 1, 1, 1],\n",
       "       [1, 0, 1, 1],\n",
       "       [1, 1, 0, 1],\n",
       "       [1, 1, 1, 0]])"
      ]
     },
     "execution_count": 3,
     "metadata": {},
     "output_type": "execute_result"
    }
   ],
   "source": [
    "A=np.array([[0,1,1,1],[1,0,1,1],[1,1,0,1],[1,1,1,0]])\n",
    "A"
   ]
  },
  {
   "cell_type": "code",
   "execution_count": 4,
   "id": "ef4133ec-7a5c-4157-a6a5-dee4cfd3d1d7",
   "metadata": {},
   "outputs": [
    {
     "data": {
      "text/plain": [
       "array([[3],\n",
       "       [3],\n",
       "       [3],\n",
       "       [3]])"
      ]
     },
     "execution_count": 4,
     "metadata": {},
     "output_type": "execute_result"
    }
   ],
   "source": [
    "b=np.array([3,3,3,3]).reshape(4,1)\n",
    "b"
   ]
  },
  {
   "cell_type": "code",
   "execution_count": 5,
   "id": "c2541508-44e2-4728-b1b0-eaa391c5a31c",
   "metadata": {},
   "outputs": [
    {
     "data": {
      "text/plain": [
       "array([[1.],\n",
       "       [1.],\n",
       "       [1.],\n",
       "       [1.]])"
      ]
     },
     "execution_count": 5,
     "metadata": {},
     "output_type": "execute_result"
    }
   ],
   "source": [
    "np.linalg.inv(A)@b"
   ]
  },
  {
   "cell_type": "markdown",
   "id": "ca902eb5-0911-4ea0-a71b-c5a39378e7f7",
   "metadata": {},
   "source": [
    "`-` 다른풀이\n",
    "b를 아래와 같이 만들어도 된다."
   ]
  },
  {
   "cell_type": "code",
   "execution_count": 6,
   "id": "2310e0b3-118d-422e-93a7-fba546c42ce6",
   "metadata": {},
   "outputs": [
    {
     "data": {
      "text/plain": [
       "array([3, 3, 3, 3])"
      ]
     },
     "execution_count": 6,
     "metadata": {},
     "output_type": "execute_result"
    }
   ],
   "source": [
    "b=np.array([3,3,3,3])\n",
    "b"
   ]
  },
  {
   "cell_type": "code",
   "execution_count": 7,
   "id": "207143cd-cfef-44a5-be5a-d111b7b6ff63",
   "metadata": {},
   "outputs": [
    {
     "data": {
      "text/plain": [
       "(4,)"
      ]
     },
     "execution_count": 7,
     "metadata": {},
     "output_type": "execute_result"
    }
   ],
   "source": [
    "b.shape #b.shape은 길이가 1인 튜플로 나옴"
   ]
  },
  {
   "cell_type": "code",
   "execution_count": 8,
   "id": "bfa9a259-caf0-431d-867d-51c430dfb570",
   "metadata": {},
   "outputs": [
    {
     "data": {
      "text/plain": [
       "array([1., 1., 1., 1.])"
      ]
     },
     "execution_count": 8,
     "metadata": {},
     "output_type": "execute_result"
    }
   ],
   "source": [
    "np.linalg.inv(A)@b"
   ]
  },
  {
   "cell_type": "markdown",
   "id": "77c19a16-c2bb-4d3a-8b9a-ee6156932e07",
   "metadata": {},
   "source": [
    "### `@`의 유연성\n",
    "\n",
    "`-` 엄밀하게는 아래의 행렬곱이 가능\n",
    "\n",
    "- (2,2) @ (2,1) => (2,1)\n",
    "- (1,2) @ (2,2) => (1,2)"
   ]
  },
  {
   "cell_type": "code",
   "execution_count": 9,
   "id": "490df4fd-072c-40f2-9746-e4b838d97fe2",
   "metadata": {},
   "outputs": [
    {
     "data": {
      "text/plain": [
       "array([[ 5],\n",
       "       [11]])"
      ]
     },
     "execution_count": 9,
     "metadata": {},
     "output_type": "execute_result"
    }
   ],
   "source": [
    "A=np.array([1,2,3,4]).reshape(2,2)\n",
    "b=np.array([1,2]).reshape(2,1)\n",
    "A@b"
   ]
  },
  {
   "cell_type": "code",
   "execution_count": 10,
   "id": "3d13d417-156e-404b-a18a-840438c475b9",
   "metadata": {},
   "outputs": [
    {
     "data": {
      "text/plain": [
       "((2, 2), (2, 1), (2, 1))"
      ]
     },
     "execution_count": 10,
     "metadata": {},
     "output_type": "execute_result"
    }
   ],
   "source": [
    "A.shape,b.shape,(A@b).shape"
   ]
  },
  {
   "cell_type": "code",
   "execution_count": 11,
   "id": "702b7ffb-54df-49c3-ac86-0667aa4e9725",
   "metadata": {},
   "outputs": [
    {
     "data": {
      "text/plain": [
       "array([[ 7, 10]])"
      ]
     },
     "execution_count": 11,
     "metadata": {},
     "output_type": "execute_result"
    }
   ],
   "source": [
    "A=np.array([1,2,3,4]).reshape(2,2)\n",
    "b=np.array([1,2]).reshape(1,2)\n",
    "b@A"
   ]
  },
  {
   "cell_type": "code",
   "execution_count": 12,
   "id": "1d2c0dee-7dcf-49e3-b164-eed69f2c5fb1",
   "metadata": {},
   "outputs": [
    {
     "data": {
      "text/plain": [
       "((2, 2), (1, 2), (1, 2))"
      ]
     },
     "execution_count": 12,
     "metadata": {},
     "output_type": "execute_result"
    }
   ],
   "source": [
    "A.shape, b.shape, (b@A).shape"
   ]
  },
  {
   "cell_type": "markdown",
   "id": "364cecf5-d245-450d-a2b5-09edba5fc4fd",
   "metadata": {},
   "source": [
    "`-` 아래는 성립안함"
   ]
  },
  {
   "cell_type": "code",
   "execution_count": 13,
   "id": "379ab5f7-0077-4598-8174-f6a7d1902711",
   "metadata": {},
   "outputs": [
    {
     "ename": "ValueError",
     "evalue": "matmul: Input operand 1 has a mismatch in its core dimension 0, with gufunc signature (n?,k),(k,m?)->(n?,m?) (size 1 is different from 2)",
     "output_type": "error",
     "traceback": [
      "\u001b[0;31m---------------------------------------------------------------------------\u001b[0m",
      "\u001b[0;31mValueError\u001b[0m                                Traceback (most recent call last)",
      "Input \u001b[0;32mIn [13]\u001b[0m, in \u001b[0;36m<cell line: 3>\u001b[0;34m()\u001b[0m\n\u001b[1;32m      1\u001b[0m A\u001b[38;5;241m=\u001b[39mnp\u001b[38;5;241m.\u001b[39marray([\u001b[38;5;241m1\u001b[39m,\u001b[38;5;241m2\u001b[39m,\u001b[38;5;241m3\u001b[39m,\u001b[38;5;241m4\u001b[39m])\u001b[38;5;241m.\u001b[39mreshape(\u001b[38;5;241m2\u001b[39m,\u001b[38;5;241m2\u001b[39m)\n\u001b[1;32m      2\u001b[0m b\u001b[38;5;241m=\u001b[39mnp\u001b[38;5;241m.\u001b[39marray([\u001b[38;5;241m1\u001b[39m,\u001b[38;5;241m2\u001b[39m])\u001b[38;5;241m.\u001b[39mreshape(\u001b[38;5;241m1\u001b[39m,\u001b[38;5;241m2\u001b[39m)\n\u001b[0;32m----> 3\u001b[0m \u001b[43mA\u001b[49m\u001b[38;5;129;43m@b\u001b[39;49m\n",
      "\u001b[0;31mValueError\u001b[0m: matmul: Input operand 1 has a mismatch in its core dimension 0, with gufunc signature (n?,k),(k,m?)->(n?,m?) (size 1 is different from 2)"
     ]
    }
   ],
   "source": [
    "A=np.array([1,2,3,4]).reshape(2,2)\n",
    "b=np.array([1,2]).reshape(1,2)\n",
    "A@b"
   ]
  },
  {
   "cell_type": "code",
   "execution_count": 14,
   "id": "b84794af-a338-4a6a-acaa-a54a23ed8ff0",
   "metadata": {},
   "outputs": [
    {
     "ename": "ValueError",
     "evalue": "matmul: Input operand 1 has a mismatch in its core dimension 0, with gufunc signature (n?,k),(k,m?)->(n?,m?) (size 2 is different from 1)",
     "output_type": "error",
     "traceback": [
      "\u001b[0;31m---------------------------------------------------------------------------\u001b[0m",
      "\u001b[0;31mValueError\u001b[0m                                Traceback (most recent call last)",
      "Input \u001b[0;32mIn [14]\u001b[0m, in \u001b[0;36m<cell line: 3>\u001b[0;34m()\u001b[0m\n\u001b[1;32m      1\u001b[0m A\u001b[38;5;241m=\u001b[39mnp\u001b[38;5;241m.\u001b[39marray([\u001b[38;5;241m1\u001b[39m,\u001b[38;5;241m2\u001b[39m,\u001b[38;5;241m3\u001b[39m,\u001b[38;5;241m4\u001b[39m])\u001b[38;5;241m.\u001b[39mreshape(\u001b[38;5;241m2\u001b[39m,\u001b[38;5;241m2\u001b[39m)\n\u001b[1;32m      2\u001b[0m b\u001b[38;5;241m=\u001b[39mnp\u001b[38;5;241m.\u001b[39marray([\u001b[38;5;241m1\u001b[39m,\u001b[38;5;241m2\u001b[39m])\u001b[38;5;241m.\u001b[39mreshape(\u001b[38;5;241m2\u001b[39m,\u001b[38;5;241m1\u001b[39m)\n\u001b[0;32m----> 3\u001b[0m \u001b[43mb\u001b[49m\u001b[38;5;129;43m@A\u001b[39;49m\n",
      "\u001b[0;31mValueError\u001b[0m: matmul: Input operand 1 has a mismatch in its core dimension 0, with gufunc signature (n?,k),(k,m?)->(n?,m?) (size 2 is different from 1)"
     ]
    }
   ],
   "source": [
    "A=np.array([1,2,3,4]).reshape(2,2)\n",
    "b=np.array([1,2]).reshape(2,1)\n",
    "b@A"
   ]
  },
  {
   "cell_type": "markdown",
   "id": "5fd78cc8-baa6-4f35-a9f9-bacad3da83b5",
   "metadata": {},
   "source": [
    "`-` 아래는? $\\to$ 모두 계산가능!\n",
    "\n",
    "- (2,) @ (2,2) = (2,)\n",
    "- (2,2) @ (2,) = (2,)"
   ]
  },
  {
   "cell_type": "code",
   "execution_count": 15,
   "id": "b1728d94-d4e9-4fc5-a7f4-e537510e5e3d",
   "metadata": {},
   "outputs": [
    {
     "data": {
      "text/plain": [
       "array([ 5, 11])"
      ]
     },
     "execution_count": 15,
     "metadata": {},
     "output_type": "execute_result"
    }
   ],
   "source": [
    "A=np.array([1,2,3,4]).reshape(2,2)\n",
    "b=np.array([1,2])\n",
    "A@b"
   ]
  },
  {
   "cell_type": "code",
   "execution_count": 16,
   "id": "0c3a7891-78e0-4077-8a09-5a83063f3452",
   "metadata": {},
   "outputs": [
    {
     "data": {
      "text/plain": [
       "((2, 2), (2,), (2,))"
      ]
     },
     "execution_count": 16,
     "metadata": {},
     "output_type": "execute_result"
    }
   ],
   "source": [
    "A.shape,b.shape,(A@b).shape"
   ]
  },
  {
   "cell_type": "markdown",
   "id": "4c19cc88-563a-4798-9212-78ecf496bf6f",
   "metadata": {},
   "source": [
    "- b를 마치 (2,1)처럼 해석하여 행렬 곱하고 결과는 다시 (2,)로 만든 것 같음."
   ]
  },
  {
   "cell_type": "code",
   "execution_count": 20,
   "id": "524bda92-476d-4a08-a2b6-4211f95c730b",
   "metadata": {},
   "outputs": [
    {
     "data": {
      "text/plain": [
       "array([ 7, 10])"
      ]
     },
     "execution_count": 20,
     "metadata": {},
     "output_type": "execute_result"
    }
   ],
   "source": [
    "b@A"
   ]
  },
  {
   "cell_type": "code",
   "execution_count": 18,
   "id": "0aaa8489-f794-4135-aa4a-73d132de4d77",
   "metadata": {},
   "outputs": [
    {
     "data": {
      "text/plain": [
       "((2, 2), (2,), (2,))"
      ]
     },
     "execution_count": 18,
     "metadata": {},
     "output_type": "execute_result"
    }
   ],
   "source": [
    "A.shape,b.shape,(b@A).shape"
   ]
  },
  {
   "cell_type": "markdown",
   "id": "c966f17c-67a9-455c-b59e-360713612132",
   "metadata": {},
   "source": [
    "- 여기서는 b를 마치 (1,2)처럼 해석하여 행렬 곱하고 결과는 다시 (2,)로 만든 것 같음."
   ]
  },
  {
   "cell_type": "code",
   "execution_count": 23,
   "id": "12d21c19-734d-444a-8924-aa6b5824c222",
   "metadata": {},
   "outputs": [
    {
     "data": {
      "text/plain": [
       "30"
      ]
     },
     "execution_count": 23,
     "metadata": {},
     "output_type": "execute_result"
    }
   ],
   "source": [
    "b1=np.array([1,2,3,4])\n",
    "b2=np.array([1,2,3,4])\n",
    "b1@b2"
   ]
  },
  {
   "cell_type": "code",
   "execution_count": 25,
   "id": "b8c3fcd7-87be-4eb7-ad7a-16d54b2df733",
   "metadata": {},
   "outputs": [
    {
     "data": {
      "text/plain": [
       "((1, 4), (4, 1), (1, 1))"
      ]
     },
     "execution_count": 25,
     "metadata": {},
     "output_type": "execute_result"
    }
   ],
   "source": [
    "b1.shape,b2.shape,(b1@b2).shape"
   ]
  },
  {
   "cell_type": "markdown",
   "id": "a228b39b-3f4e-4a00-9d5a-326b7757e698",
   "metadata": {},
   "source": [
    "- (1,4) @ (4,1) = (1,1)로 생각"
   ]
  },
  {
   "cell_type": "markdown",
   "id": "a7d4a44d-f93d-49cc-8576-da812287a056",
   "metadata": {},
   "source": [
    "`-` 즉 위는 아래와 같이 해석하고 행렬 곱한 것과 같은 결과"
   ]
  },
  {
   "cell_type": "code",
   "execution_count": 27,
   "id": "40fdbb5a-563e-46db-8082-b45224ce5264",
   "metadata": {},
   "outputs": [
    {
     "data": {
      "text/plain": [
       "array([[30]])"
      ]
     },
     "execution_count": 27,
     "metadata": {},
     "output_type": "execute_result"
    }
   ],
   "source": [
    "b1=np.array([1,2,3,4]).reshape(1,4)\n",
    "b2=np.array([1,2,3,4]).reshape(4,1)\n",
    "b1@b2"
   ]
  },
  {
   "cell_type": "code",
   "execution_count": 26,
   "id": "e500d441-58b2-4759-8e64-04b9aa20c1b5",
   "metadata": {},
   "outputs": [
    {
     "data": {
      "text/plain": [
       "((1, 4), (4, 1), (1, 1))"
      ]
     },
     "execution_count": 26,
     "metadata": {},
     "output_type": "execute_result"
    }
   ],
   "source": [
    "b1.shape,b2.shape,(b1@b2).shape"
   ]
  },
  {
   "cell_type": "markdown",
   "id": "ee315fa1-4bec-45b9-b052-cc10619a8083",
   "metadata": {},
   "source": [
    "`-` 때로는 (4,1) @ (1,4)와 같은 계산결과를 얻고 싶을 수 있는데 이때는 차원을 명시해야함."
   ]
  },
  {
   "cell_type": "code",
   "execution_count": 28,
   "id": "00f04418-edfe-4f13-b56b-720196d6ae22",
   "metadata": {},
   "outputs": [
    {
     "data": {
      "text/plain": [
       "array([[ 1,  2,  3,  4],\n",
       "       [ 2,  4,  6,  8],\n",
       "       [ 3,  6,  9, 12],\n",
       "       [ 4,  8, 12, 16]])"
      ]
     },
     "execution_count": 28,
     "metadata": {},
     "output_type": "execute_result"
    }
   ],
   "source": [
    "b1=np.array([1,2,3,4]).reshape(4,1)\n",
    "b2=np.array([1,2,3,4]).reshape(1,4)\n",
    "b1@b2"
   ]
  },
  {
   "cell_type": "markdown",
   "id": "131c63d9-ce2a-430b-8ef4-b792be68daff",
   "metadata": {},
   "source": [
    "### 차원\n",
    "\n",
    "`-` 넘파이배열의 차원은 .shape으로 확인가능\n",
    "\n",
    "`-` 아래는 미묘하게 다름"
   ]
  },
  {
   "cell_type": "code",
   "execution_count": 29,
   "id": "dbc679da-72be-4541-bf31-e7d5538a24b7",
   "metadata": {},
   "outputs": [
    {
     "data": {
      "text/plain": [
       "(array(3.14), ())"
      ]
     },
     "execution_count": 29,
     "metadata": {},
     "output_type": "execute_result"
    }
   ],
   "source": [
    "a=np.array(3.14) #스칼라, 0d array\n",
    "a, a.shape"
   ]
  },
  {
   "cell_type": "code",
   "execution_count": 30,
   "id": "096f6455-2a2e-4ca7-a906-70a6aac9658d",
   "metadata": {},
   "outputs": [
    {
     "data": {
      "text/plain": [
       "(array([3.14]), (1,))"
      ]
     },
     "execution_count": 30,
     "metadata": {},
     "output_type": "execute_result"
    }
   ],
   "source": [
    "a=np.array([3.14]) #벡터, 1d array\n",
    "a, a.shape"
   ]
  },
  {
   "cell_type": "code",
   "execution_count": 31,
   "id": "df6a91a6-254b-4986-85bb-415bd854fa26",
   "metadata": {},
   "outputs": [
    {
     "data": {
      "text/plain": [
       "(array([[3.14]]), (1, 1))"
      ]
     },
     "execution_count": 31,
     "metadata": {},
     "output_type": "execute_result"
    }
   ],
   "source": [
    "a=np.array([[3.14]]) #매트릭스, 2d array\n",
    "a, a.shape"
   ]
  },
  {
   "cell_type": "code",
   "execution_count": 32,
   "id": "23a15046-c9c2-4bcb-b5d3-9b50f7ad8fbc",
   "metadata": {},
   "outputs": [
    {
     "data": {
      "text/plain": [
       "(array([[[3.14]]]), (1, 1, 1))"
      ]
     },
     "execution_count": 32,
     "metadata": {},
     "output_type": "execute_result"
    }
   ],
   "source": [
    "a=np.array([[[3.14]]]) #텐서, 3d array\n",
    "a, a.shape"
   ]
  },
  {
   "cell_type": "markdown",
   "id": "b72f3255-f241-4d6e-a673-125e01eecd90",
   "metadata": {},
   "source": [
    "### 넘파이공부 4단계 : 축"
   ]
  },
  {
   "cell_type": "markdown",
   "id": "181875bb-8390-412e-a982-e83e9fac5dc8",
   "metadata": {},
   "source": [
    "#### np.concatenate"
   ]
  },
  {
   "cell_type": "markdown",
   "id": "11b65335-65bc-421e-bbe9-ca1371f0f314",
   "metadata": {},
   "source": [
    "`-` 기본예제"
   ]
  },
  {
   "cell_type": "code",
   "execution_count": 33,
   "id": "3bcc2f0c-177e-4ee7-abd7-1e23861e78ce",
   "metadata": {},
   "outputs": [],
   "source": [
    "a=np.array([1,2])\n",
    "b=-a"
   ]
  },
  {
   "cell_type": "code",
   "execution_count": 34,
   "id": "8e14359d-0016-468a-86c3-0f96bb4c75f1",
   "metadata": {},
   "outputs": [
    {
     "data": {
      "text/plain": [
       "array([ 1,  2, -1, -2])"
      ]
     },
     "execution_count": 34,
     "metadata": {},
     "output_type": "execute_result"
    }
   ],
   "source": [
    "np.concatenate([a,b])"
   ]
  },
  {
   "cell_type": "markdown",
   "id": "3ec52304-c92d-4b42-accd-90ec878aee8d",
   "metadata": {},
   "source": [
    "`-` 응용"
   ]
  },
  {
   "cell_type": "code",
   "execution_count": 35,
   "id": "1f2270f3-df28-42ad-b435-3f4e7960bb52",
   "metadata": {},
   "outputs": [],
   "source": [
    "a=np.array([1,2])\n",
    "b=-a\n",
    "c=np.array([3,4,5])"
   ]
  },
  {
   "cell_type": "code",
   "execution_count": 36,
   "id": "0d8be4c1-81d1-434b-b030-837d74bf7b11",
   "metadata": {},
   "outputs": [
    {
     "data": {
      "text/plain": [
       "array([ 1,  2, -1, -2,  3,  4,  5])"
      ]
     },
     "execution_count": 36,
     "metadata": {},
     "output_type": "execute_result"
    }
   ],
   "source": [
    "np.concatenate([a,b,c])"
   ]
  },
  {
   "cell_type": "markdown",
   "id": "2937e50f-c14a-4c49-9fa0-e772b72aca12",
   "metadata": {},
   "source": [
    "- 여기까지는 concatenate의 메리트가 없어 보임\n",
    "\n",
    "- 리스트였다면 a+b+c하면 되는 기능이니깐"
   ]
  },
  {
   "cell_type": "markdown",
   "id": "07164e42-b065-43a9-9536-193e05d38810",
   "metadata": {},
   "source": [
    "`-` 2d array에 적용"
   ]
  },
  {
   "cell_type": "code",
   "execution_count": 37,
   "id": "23fa6b3f-2bac-46fb-bd6c-a24be6bfa116",
   "metadata": {},
   "outputs": [],
   "source": [
    "a=np.arange(4).reshape(2,2)\n",
    "b=-a"
   ]
  },
  {
   "cell_type": "code",
   "execution_count": 38,
   "id": "d88207fe-4307-4bc0-8ef5-49b5141da72e",
   "metadata": {},
   "outputs": [
    {
     "data": {
      "text/plain": [
       "array([[ 0,  1],\n",
       "       [ 2,  3],\n",
       "       [ 0, -1],\n",
       "       [-2, -3]])"
      ]
     },
     "execution_count": 38,
     "metadata": {},
     "output_type": "execute_result"
    }
   ],
   "source": [
    "np.concatenate([a,b])"
   ]
  },
  {
   "cell_type": "markdown",
   "id": "7428399c-7872-4eab-b0d9-87f8b6294675",
   "metadata": {},
   "source": [
    "옆으로 붙이려면?"
   ]
  },
  {
   "cell_type": "code",
   "execution_count": 39,
   "id": "5b2c54ad-e5ad-431f-83f1-95787c5c0ed1",
   "metadata": {},
   "outputs": [
    {
     "data": {
      "text/plain": [
       "array([[ 0,  1,  0, -1],\n",
       "       [ 2,  3, -2, -3]])"
      ]
     },
     "execution_count": 39,
     "metadata": {},
     "output_type": "execute_result"
    }
   ],
   "source": [
    "np.concatenate([a,b],axis=1)"
   ]
  },
  {
   "cell_type": "markdown",
   "id": "5811d49d-9cff-4888-99b4-c569691989e9",
   "metadata": {},
   "source": [
    "`-` axis? $\\to$ 관찰해보자"
   ]
  },
  {
   "cell_type": "code",
   "execution_count": 40,
   "id": "52f613f1-dd3b-4d85-a30e-57e4d357ee48",
   "metadata": {},
   "outputs": [
    {
     "data": {
      "text/plain": [
       "array([[ 0,  1],\n",
       "       [ 2,  3],\n",
       "       [ 0, -1],\n",
       "       [-2, -3]])"
      ]
     },
     "execution_count": 40,
     "metadata": {},
     "output_type": "execute_result"
    }
   ],
   "source": [
    "np.concatenate([a,b],axis=0) #np.concatenate([a,b]) 와 완전히 동일한 코드"
   ]
  },
  {
   "cell_type": "code",
   "execution_count": 41,
   "id": "07b2e7b1-3f9d-4167-9f5d-8be86f260ccb",
   "metadata": {},
   "outputs": [
    {
     "ename": "AxisError",
     "evalue": "axis 2 is out of bounds for array of dimension 2",
     "output_type": "error",
     "traceback": [
      "\u001b[0;31m---------------------------------------------------------------------------\u001b[0m",
      "\u001b[0;31mAxisError\u001b[0m                                 Traceback (most recent call last)",
      "Input \u001b[0;32mIn [41]\u001b[0m, in \u001b[0;36m<cell line: 1>\u001b[0;34m()\u001b[0m\n\u001b[0;32m----> 1\u001b[0m \u001b[43mnp\u001b[49m\u001b[38;5;241;43m.\u001b[39;49m\u001b[43mconcatenate\u001b[49m\u001b[43m(\u001b[49m\u001b[43m[\u001b[49m\u001b[43ma\u001b[49m\u001b[43m,\u001b[49m\u001b[43mb\u001b[49m\u001b[43m]\u001b[49m\u001b[43m,\u001b[49m\u001b[43m \u001b[49m\u001b[43maxis\u001b[49m\u001b[38;5;241;43m=\u001b[39;49m\u001b[38;5;241;43m2\u001b[39;49m\u001b[43m)\u001b[49m\n",
      "File \u001b[0;32m<__array_function__ internals>:5\u001b[0m, in \u001b[0;36mconcatenate\u001b[0;34m(*args, **kwargs)\u001b[0m\n",
      "\u001b[0;31mAxisError\u001b[0m: axis 2 is out of bounds for array of dimension 2"
     ]
    }
   ],
   "source": [
    "np.concatenate([a,b], axis=2) #이런건 없음..."
   ]
  },
  {
   "cell_type": "code",
   "execution_count": 42,
   "id": "2d774e87-0c2e-42ef-9b93-669b4b84f44e",
   "metadata": {},
   "outputs": [
    {
     "data": {
      "text/plain": [
       "array([[[ 0,  1,  2,  3],\n",
       "        [ 4,  5,  6,  7],\n",
       "        [ 8,  9, 10, 11]],\n",
       "\n",
       "       [[12, 13, 14, 15],\n",
       "        [16, 17, 18, 19],\n",
       "        [20, 21, 22, 23]]])"
      ]
     },
     "execution_count": 42,
     "metadata": {},
     "output_type": "execute_result"
    }
   ],
   "source": [
    "a=np.array(range(2*3*4)).reshape(2,3,4)\n",
    "a"
   ]
  },
  {
   "cell_type": "code",
   "execution_count": 43,
   "id": "0cba6351-0d84-462b-976c-48ae6de2f39b",
   "metadata": {},
   "outputs": [
    {
     "data": {
      "text/plain": [
       "array([[[  0,  -1,  -2,  -3],\n",
       "        [ -4,  -5,  -6,  -7],\n",
       "        [ -8,  -9, -10, -11]],\n",
       "\n",
       "       [[-12, -13, -14, -15],\n",
       "        [-16, -17, -18, -19],\n",
       "        [-20, -21, -22, -23]]])"
      ]
     },
     "execution_count": 43,
     "metadata": {},
     "output_type": "execute_result"
    }
   ],
   "source": [
    "b=-a\n",
    "b"
   ]
  },
  {
   "cell_type": "code",
   "execution_count": 44,
   "id": "7991f365-f204-408c-aec5-cbe3725e1b36",
   "metadata": {},
   "outputs": [
    {
     "data": {
      "text/plain": [
       "array([[[  0,   1,   2,   3],\n",
       "        [  4,   5,   6,   7],\n",
       "        [  8,   9,  10,  11]],\n",
       "\n",
       "       [[ 12,  13,  14,  15],\n",
       "        [ 16,  17,  18,  19],\n",
       "        [ 20,  21,  22,  23]],\n",
       "\n",
       "       [[  0,  -1,  -2,  -3],\n",
       "        [ -4,  -5,  -6,  -7],\n",
       "        [ -8,  -9, -10, -11]],\n",
       "\n",
       "       [[-12, -13, -14, -15],\n",
       "        [-16, -17, -18, -19],\n",
       "        [-20, -21, -22, -23]]])"
      ]
     },
     "execution_count": 44,
     "metadata": {},
     "output_type": "execute_result"
    }
   ],
   "source": [
    "np.concatenate([a,b],axis=0)"
   ]
  },
  {
   "cell_type": "code",
   "execution_count": 45,
   "id": "8d768578-32ca-46d7-a19e-45d63955ae8d",
   "metadata": {},
   "outputs": [
    {
     "data": {
      "text/plain": [
       "array([[[  0,   1,   2,   3],\n",
       "        [  4,   5,   6,   7],\n",
       "        [  8,   9,  10,  11],\n",
       "        [  0,  -1,  -2,  -3],\n",
       "        [ -4,  -5,  -6,  -7],\n",
       "        [ -8,  -9, -10, -11]],\n",
       "\n",
       "       [[ 12,  13,  14,  15],\n",
       "        [ 16,  17,  18,  19],\n",
       "        [ 20,  21,  22,  23],\n",
       "        [-12, -13, -14, -15],\n",
       "        [-16, -17, -18, -19],\n",
       "        [-20, -21, -22, -23]]])"
      ]
     },
     "execution_count": 45,
     "metadata": {},
     "output_type": "execute_result"
    }
   ],
   "source": [
    "np.concatenate([a,b],axis=1)"
   ]
  },
  {
   "cell_type": "code",
   "execution_count": 46,
   "id": "28c72d8b-e372-4f20-8fb8-6bbe04ff0185",
   "metadata": {},
   "outputs": [
    {
     "data": {
      "text/plain": [
       "array([[[  0,   1,   2,   3,   0,  -1,  -2,  -3],\n",
       "        [  4,   5,   6,   7,  -4,  -5,  -6,  -7],\n",
       "        [  8,   9,  10,  11,  -8,  -9, -10, -11]],\n",
       "\n",
       "       [[ 12,  13,  14,  15, -12, -13, -14, -15],\n",
       "        [ 16,  17,  18,  19, -16, -17, -18, -19],\n",
       "        [ 20,  21,  22,  23, -20, -21, -22, -23]]])"
      ]
     },
     "execution_count": 46,
     "metadata": {},
     "output_type": "execute_result"
    }
   ],
   "source": [
    "np.concatenate([a,b],axis=2)"
   ]
  },
  {
   "cell_type": "code",
   "execution_count": 47,
   "id": "046de9a7-2e84-4704-b958-2a3dba69431f",
   "metadata": {},
   "outputs": [
    {
     "ename": "AxisError",
     "evalue": "axis 3 is out of bounds for array of dimension 3",
     "output_type": "error",
     "traceback": [
      "\u001b[0;31m---------------------------------------------------------------------------\u001b[0m",
      "\u001b[0;31mAxisError\u001b[0m                                 Traceback (most recent call last)",
      "Input \u001b[0;32mIn [47]\u001b[0m, in \u001b[0;36m<cell line: 1>\u001b[0;34m()\u001b[0m\n\u001b[0;32m----> 1\u001b[0m \u001b[43mnp\u001b[49m\u001b[38;5;241;43m.\u001b[39;49m\u001b[43mconcatenate\u001b[49m\u001b[43m(\u001b[49m\u001b[43m[\u001b[49m\u001b[43ma\u001b[49m\u001b[43m,\u001b[49m\u001b[43mb\u001b[49m\u001b[43m]\u001b[49m\u001b[43m,\u001b[49m\u001b[43maxis\u001b[49m\u001b[38;5;241;43m=\u001b[39;49m\u001b[38;5;241;43m3\u001b[39;49m\u001b[43m)\u001b[49m\n",
      "File \u001b[0;32m<__array_function__ internals>:5\u001b[0m, in \u001b[0;36mconcatenate\u001b[0;34m(*args, **kwargs)\u001b[0m\n",
      "\u001b[0;31mAxisError\u001b[0m: axis 3 is out of bounds for array of dimension 3"
     ]
    }
   ],
   "source": [
    "np.concatenate([a,b],axis=3)"
   ]
  },
  {
   "cell_type": "markdown",
   "id": "1c018e4d-0dbd-4460-a878-b468dfb84e7b",
   "metadata": {},
   "source": [
    "(분석1) np.concatenate([a,b],axis=0)"
   ]
  },
  {
   "cell_type": "code",
   "execution_count": 49,
   "id": "845e689b-f48a-40c9-9ac6-a3871185e479",
   "metadata": {},
   "outputs": [],
   "source": [
    "a=np.array(range(2*3*4)).reshape(2,3,4)\n",
    "b=-a"
   ]
  },
  {
   "cell_type": "code",
   "execution_count": 50,
   "id": "2d26aa20-13c8-45ea-95d8-c88bddb29776",
   "metadata": {},
   "outputs": [
    {
     "data": {
      "text/plain": [
       "((2, 3, 4), (2, 3, 4), (4, 3, 4))"
      ]
     },
     "execution_count": 50,
     "metadata": {},
     "output_type": "execute_result"
    }
   ],
   "source": [
    "a.shape,b.shape,np.concatenate([a,b],axis=0).shape"
   ]
  },
  {
   "cell_type": "markdown",
   "id": "116c27a3-bddf-4415-b93e-fcdbe796f127",
   "metadata": {},
   "source": [
    "- 첫번째차원이 바뀌었다. => 첫번째 축이 바뀌었다. => axis=0 "
   ]
  },
  {
   "cell_type": "markdown",
   "id": "ed1ed2f8-d476-4466-b0ef-c52aa3e04b89",
   "metadata": {},
   "source": [
    "(분석2) np.concatenate([a,b],axis=1)"
   ]
  },
  {
   "cell_type": "code",
   "execution_count": 51,
   "id": "c3d9f91d-652d-4f73-8d50-356a3792ed7a",
   "metadata": {},
   "outputs": [],
   "source": [
    "a=np.array(range(2*3*4)).reshape(2,3,4)\n",
    "b=-a"
   ]
  },
  {
   "cell_type": "code",
   "execution_count": 52,
   "id": "3182fa80-820f-467b-bb16-deaaadb6bb09",
   "metadata": {},
   "outputs": [
    {
     "data": {
      "text/plain": [
       "((2, 3, 4), (2, 3, 4), (2, 6, 4))"
      ]
     },
     "execution_count": 52,
     "metadata": {},
     "output_type": "execute_result"
    }
   ],
   "source": [
    "a.shape,b.shape,np.concatenate([a,b],axis=1).shape"
   ]
  },
  {
   "cell_type": "markdown",
   "id": "65756753-d6b4-4db9-ba8f-582dce948f5b",
   "metadata": {},
   "source": [
    "- 두번째차원이 바뀌었다. => 두번째 축이 바뀌었다. => axis=1"
   ]
  },
  {
   "cell_type": "markdown",
   "id": "dc13c056-5a48-4ce8-b707-c53649dea5af",
   "metadata": {},
   "source": [
    "(분석3) np.concatenate([a,b],axis=2)"
   ]
  },
  {
   "cell_type": "code",
   "execution_count": 3,
   "id": "f76d99df-0f14-4a2e-8e6b-fc620ba9acca",
   "metadata": {},
   "outputs": [],
   "source": [
    "a=np.array(range(2*3*4)).reshape(2,3,4)\n",
    "b=-a"
   ]
  },
  {
   "cell_type": "code",
   "execution_count": 4,
   "id": "01693625-ba67-489b-9988-4aa1b9dd3993",
   "metadata": {},
   "outputs": [
    {
     "data": {
      "text/plain": [
       "((2, 3, 4), (2, 3, 4), (2, 3, 8))"
      ]
     },
     "execution_count": 4,
     "metadata": {},
     "output_type": "execute_result"
    }
   ],
   "source": [
    "a.shape,b.shape,np.concatenate([a,b],axis=2).shape"
   ]
  },
  {
   "cell_type": "markdown",
   "id": "dae7293c-414c-4f37-9f35-1a03406dcd29",
   "metadata": {},
   "source": [
    "- 세번째차원이 바뀌었다. => 세번째 축이 바뀌었다. => axis=2"
   ]
  },
  {
   "cell_type": "markdown",
   "id": "77066a4a-e6cd-4c7d-9c30-823a7fd4a3d0",
   "metadata": {},
   "source": [
    "(분석4) np.concatenate([a,b],axis=3)"
   ]
  },
  {
   "cell_type": "code",
   "execution_count": 6,
   "id": "3554f428-b86c-44db-a281-ea51b2ad5c71",
   "metadata": {},
   "outputs": [],
   "source": [
    "a=np.array(range(2*3*4)).reshape(2,3,4)\n",
    "b=-a"
   ]
  },
  {
   "cell_type": "code",
   "execution_count": 7,
   "id": "d33b5d6b-bcef-4783-911e-9766af87aeb7",
   "metadata": {},
   "outputs": [
    {
     "ename": "AxisError",
     "evalue": "axis 3 is out of bounds for array of dimension 3",
     "output_type": "error",
     "traceback": [
      "\u001b[0;31m---------------------------------------------------------------------------\u001b[0m",
      "\u001b[0;31mAxisError\u001b[0m                                 Traceback (most recent call last)",
      "Input \u001b[0;32mIn [7]\u001b[0m, in \u001b[0;36m<cell line: 1>\u001b[0;34m()\u001b[0m\n\u001b[0;32m----> 1\u001b[0m a\u001b[38;5;241m.\u001b[39mshape,b\u001b[38;5;241m.\u001b[39mshape,\u001b[43mnp\u001b[49m\u001b[38;5;241;43m.\u001b[39;49m\u001b[43mconcatenate\u001b[49m\u001b[43m(\u001b[49m\u001b[43m[\u001b[49m\u001b[43ma\u001b[49m\u001b[43m,\u001b[49m\u001b[43mb\u001b[49m\u001b[43m]\u001b[49m\u001b[43m,\u001b[49m\u001b[43maxis\u001b[49m\u001b[38;5;241;43m=\u001b[39;49m\u001b[38;5;241;43m3\u001b[39;49m\u001b[43m)\u001b[49m\u001b[38;5;241m.\u001b[39mshape\n",
      "File \u001b[0;32m<__array_function__ internals>:5\u001b[0m, in \u001b[0;36mconcatenate\u001b[0;34m(*args, **kwargs)\u001b[0m\n",
      "\u001b[0;31mAxisError\u001b[0m: axis 3 is out of bounds for array of dimension 3"
     ]
    }
   ],
   "source": [
    "a.shape,b.shape,np.concatenate([a,b],axis=3).shape"
   ]
  },
  {
   "cell_type": "markdown",
   "id": "b75f2dd2-948d-411b-8b52-4fddc2d906a1",
   "metadata": {},
   "source": [
    "- 네번째차원이 없다. => 네번째 축이 없다 => axis=3으로 하면 에러가 난다."
   ]
  },
  {
   "cell_type": "markdown",
   "id": "8d1cb4a7-2285-428e-b3e2-ef2b1a2335f7",
   "metadata": {},
   "source": [
    "(추가1)"
   ]
  },
  {
   "cell_type": "code",
   "execution_count": 11,
   "id": "33fe6b9f-9349-44c9-b730-1a0bf25ed270",
   "metadata": {},
   "outputs": [],
   "source": [
    "a=np.array(range(2*3*4)).reshape(2,3,4)\n",
    "b=-a"
   ]
  },
  {
   "cell_type": "code",
   "execution_count": 10,
   "id": "a375530f-cdd0-4609-8480-695e62915c00",
   "metadata": {},
   "outputs": [
    {
     "data": {
      "text/plain": [
       "((2, 3, 4), (2, 3, 4), (2, 3, 8))"
      ]
     },
     "execution_count": 10,
     "metadata": {},
     "output_type": "execute_result"
    }
   ],
   "source": [
    "a.shape,b.shape,np.concatenate([a,b],axis=-1).shape"
   ]
  },
  {
   "cell_type": "markdown",
   "id": "7c817088-ddc2-469c-84f5-61e9777f4f48",
   "metadata": {},
   "source": [
    "- 마지막 차원이 바뀌었다.=> 마지막 축이 바뀌었다. => axis=-1"
   ]
  },
  {
   "cell_type": "markdown",
   "id": "08a10340-2ed4-4143-a7e4-6bec0223369e",
   "metadata": {},
   "source": [
    "(추가2)"
   ]
  },
  {
   "cell_type": "code",
   "execution_count": 12,
   "id": "119c7249-d3aa-489d-b7cd-1b499b324348",
   "metadata": {},
   "outputs": [],
   "source": [
    "a=np.array(range(2*3*4)).reshape(2,3,4)\n",
    "b=-a"
   ]
  },
  {
   "cell_type": "code",
   "execution_count": 13,
   "id": "04678484-40e8-4610-b5e9-02649aaff2c3",
   "metadata": {},
   "outputs": [
    {
     "data": {
      "text/plain": [
       "array([[[  0,   1,   2,   3],\n",
       "        [  4,   5,   6,   7],\n",
       "        [  8,   9,  10,  11],\n",
       "        [  0,  -1,  -2,  -3],\n",
       "        [ -4,  -5,  -6,  -7],\n",
       "        [ -8,  -9, -10, -11]],\n",
       "\n",
       "       [[ 12,  13,  14,  15],\n",
       "        [ 16,  17,  18,  19],\n",
       "        [ 20,  21,  22,  23],\n",
       "        [-12, -13, -14, -15],\n",
       "        [-16, -17, -18, -19],\n",
       "        [-20, -21, -22, -23]]])"
      ]
     },
     "execution_count": 13,
     "metadata": {},
     "output_type": "execute_result"
    }
   ],
   "source": [
    "np.concatenate([a,b],axis=-2)"
   ]
  },
  {
   "cell_type": "code",
   "execution_count": 14,
   "id": "814901a4-3367-4c3c-95dd-2cb420c96c5a",
   "metadata": {},
   "outputs": [
    {
     "data": {
      "text/plain": [
       "((2, 3, 4), (2, 3, 4), (2, 6, 4))"
      ]
     },
     "execution_count": 14,
     "metadata": {},
     "output_type": "execute_result"
    }
   ],
   "source": [
    "a.shape,b.shape,np.concatenate([a,b],axis=-2).shape"
   ]
  },
  {
   "cell_type": "markdown",
   "id": "64ad4031-cdf8-425a-b707-4b6b8b58e57f",
   "metadata": {},
   "source": [
    "- 마지막에서 2번째 차원이 바뀌었다. => 마지막에서 2번째 축이 바뀌었다. => axis=-2"
   ]
  },
  {
   "cell_type": "markdown",
   "id": "9aa764e5-a0ad-4e97-bace-9fdaab6214a2",
   "metadata": {},
   "source": [
    "(보너스3)"
   ]
  },
  {
   "cell_type": "code",
   "execution_count": 15,
   "id": "d13c0d3a-2d58-4e2d-8f20-a463ef44eda2",
   "metadata": {},
   "outputs": [],
   "source": [
    "a=np.array(range(2*3*4)).reshape(2,3,4)\n",
    "b=-a"
   ]
  },
  {
   "cell_type": "code",
   "execution_count": 16,
   "id": "bc15b203-4ef3-4b60-9632-b3a84572b813",
   "metadata": {},
   "outputs": [
    {
     "data": {
      "text/plain": [
       "array([[[  0,   1,   2,   3],\n",
       "        [  4,   5,   6,   7],\n",
       "        [  8,   9,  10,  11]],\n",
       "\n",
       "       [[ 12,  13,  14,  15],\n",
       "        [ 16,  17,  18,  19],\n",
       "        [ 20,  21,  22,  23]],\n",
       "\n",
       "       [[  0,  -1,  -2,  -3],\n",
       "        [ -4,  -5,  -6,  -7],\n",
       "        [ -8,  -9, -10, -11]],\n",
       "\n",
       "       [[-12, -13, -14, -15],\n",
       "        [-16, -17, -18, -19],\n",
       "        [-20, -21, -22, -23]]])"
      ]
     },
     "execution_count": 16,
     "metadata": {},
     "output_type": "execute_result"
    }
   ],
   "source": [
    "np.concatenate([a,b],axis=-3)"
   ]
  },
  {
   "cell_type": "code",
   "execution_count": 17,
   "id": "6c78454b-0aec-410a-87ef-b9c771717658",
   "metadata": {},
   "outputs": [
    {
     "data": {
      "text/plain": [
       "((2, 3, 4), (2, 3, 4), (4, 3, 4))"
      ]
     },
     "execution_count": 17,
     "metadata": {},
     "output_type": "execute_result"
    }
   ],
   "source": [
    "a.shape,b.shape,np.concatenate([a,b],axis=-3).shape"
   ]
  },
  {
   "cell_type": "markdown",
   "id": "48489bb4-342f-4db1-9f5c-7b79ba0998cf",
   "metadata": {},
   "source": [
    "- 마지막에서 3번째 차원이 바뀌었다. => 마지막에서 3번째 축이 바뀌었다. => axis=-3"
   ]
  },
  {
   "cell_type": "markdown",
   "id": "6afed8e4-4eaa-4d09-9389-0e94e6bc3567",
   "metadata": {},
   "source": [
    "`-` 0차원은 축이 없으므로 concatenate를 쓸 수 없다."
   ]
  },
  {
   "cell_type": "code",
   "execution_count": 18,
   "id": "a4f8394b-ada5-481c-95c4-114d1f3deaf3",
   "metadata": {},
   "outputs": [],
   "source": [
    "a=np.array(1)\n",
    "b=np.array(-1)"
   ]
  },
  {
   "cell_type": "code",
   "execution_count": 19,
   "id": "a5db0c81-1cc2-47dd-bb4c-0e28b3c51b8e",
   "metadata": {},
   "outputs": [
    {
     "data": {
      "text/plain": [
       "((), ())"
      ]
     },
     "execution_count": 19,
     "metadata": {},
     "output_type": "execute_result"
    }
   ],
   "source": [
    "a.shape,b.shape"
   ]
  },
  {
   "cell_type": "code",
   "execution_count": 20,
   "id": "b8ad42c8-3058-4b03-b05c-0bc0c42d96bc",
   "metadata": {},
   "outputs": [
    {
     "ename": "ValueError",
     "evalue": "zero-dimensional arrays cannot be concatenated",
     "output_type": "error",
     "traceback": [
      "\u001b[0;31m---------------------------------------------------------------------------\u001b[0m",
      "\u001b[0;31mValueError\u001b[0m                                Traceback (most recent call last)",
      "Input \u001b[0;32mIn [20]\u001b[0m, in \u001b[0;36m<cell line: 1>\u001b[0;34m()\u001b[0m\n\u001b[0;32m----> 1\u001b[0m \u001b[43mnp\u001b[49m\u001b[38;5;241;43m.\u001b[39;49m\u001b[43mconcatenate\u001b[49m\u001b[43m(\u001b[49m\u001b[43m[\u001b[49m\u001b[43ma\u001b[49m\u001b[43m,\u001b[49m\u001b[43mb\u001b[49m\u001b[43m]\u001b[49m\u001b[43m)\u001b[49m\n",
      "File \u001b[0;32m<__array_function__ internals>:5\u001b[0m, in \u001b[0;36mconcatenate\u001b[0;34m(*args, **kwargs)\u001b[0m\n",
      "\u001b[0;31mValueError\u001b[0m: zero-dimensional arrays cannot be concatenated"
     ]
    }
   ],
   "source": [
    "np.concatenate([a,b])"
   ]
  },
  {
   "cell_type": "markdown",
   "id": "a12510af-99b8-42c3-81f3-13b64bc57612",
   "metadata": {},
   "source": [
    "`-` 꼭 a,b가 같은 차원일 필요는 없다."
   ]
  },
  {
   "cell_type": "code",
   "execution_count": 21,
   "id": "9a788b93-51e6-482c-b185-e8563755c3c6",
   "metadata": {},
   "outputs": [],
   "source": [
    "a=np.array(range(4)).reshape(2,2)\n",
    "b=np.array(range(2)).reshape(2,1)"
   ]
  },
  {
   "cell_type": "code",
   "execution_count": 22,
   "id": "66cb3669-be9a-49db-9349-f07139593c39",
   "metadata": {},
   "outputs": [
    {
     "data": {
      "text/plain": [
       "array([[0, 1, 0],\n",
       "       [2, 3, 1]])"
      ]
     },
     "execution_count": 22,
     "metadata": {},
     "output_type": "execute_result"
    }
   ],
   "source": [
    "np.concatenate([a,b],axis=1)"
   ]
  },
  {
   "cell_type": "code",
   "execution_count": 23,
   "id": "a14b6128-7dc5-4d73-b030-0486a8956f32",
   "metadata": {},
   "outputs": [
    {
     "data": {
      "text/plain": [
       "((2, 2), (2, 1), (2, 3))"
      ]
     },
     "execution_count": 23,
     "metadata": {},
     "output_type": "execute_result"
    }
   ],
   "source": [
    "a.shape,b.shape,np.concatenate([a,b],axis=1).shape"
   ]
  },
  {
   "cell_type": "markdown",
   "id": "20820f19-57c6-4f76-ba36-cb3aa2beefb4",
   "metadata": {},
   "source": [
    "#### np.stack"
   ]
  },
  {
   "cell_type": "markdown",
   "id": "955943b2-efd7-4398-9eb1-7dda79a06f28",
   "metadata": {},
   "source": [
    "- ex) (3,) 결합 (3,) => (3,2) 가 가능할까?"
   ]
  },
  {
   "cell_type": "code",
   "execution_count": 24,
   "id": "47708b1d-1dbd-4baa-9631-04605227d20b",
   "metadata": {},
   "outputs": [],
   "source": [
    "a=np.array([1,2,3])\n",
    "b=-a"
   ]
  },
  {
   "cell_type": "code",
   "execution_count": 25,
   "id": "db61a57f-6e2e-466c-beb4-d56b26dc1ef9",
   "metadata": {},
   "outputs": [
    {
     "data": {
      "text/plain": [
       "(array([1, 2, 3]), array([-1, -2, -3]))"
      ]
     },
     "execution_count": 25,
     "metadata": {},
     "output_type": "execute_result"
    }
   ],
   "source": [
    "a,b"
   ]
  },
  {
   "cell_type": "code",
   "execution_count": 26,
   "id": "24f8a75d-3fc1-4faa-b064-0dc9eea70f9d",
   "metadata": {},
   "outputs": [
    {
     "ename": "AxisError",
     "evalue": "axis 1 is out of bounds for array of dimension 1",
     "output_type": "error",
     "traceback": [
      "\u001b[0;31m---------------------------------------------------------------------------\u001b[0m",
      "\u001b[0;31mAxisError\u001b[0m                                 Traceback (most recent call last)",
      "Input \u001b[0;32mIn [26]\u001b[0m, in \u001b[0;36m<cell line: 1>\u001b[0;34m()\u001b[0m\n\u001b[0;32m----> 1\u001b[0m \u001b[43mnp\u001b[49m\u001b[38;5;241;43m.\u001b[39;49m\u001b[43mconcatenate\u001b[49m\u001b[43m(\u001b[49m\u001b[43m[\u001b[49m\u001b[43ma\u001b[49m\u001b[43m,\u001b[49m\u001b[43mb\u001b[49m\u001b[43m]\u001b[49m\u001b[43m,\u001b[49m\u001b[43maxis\u001b[49m\u001b[38;5;241;43m=\u001b[39;49m\u001b[38;5;241;43m1\u001b[39;49m\u001b[43m)\u001b[49m\n",
      "File \u001b[0;32m<__array_function__ internals>:5\u001b[0m, in \u001b[0;36mconcatenate\u001b[0;34m(*args, **kwargs)\u001b[0m\n",
      "\u001b[0;31mAxisError\u001b[0m: axis 1 is out of bounds for array of dimension 1"
     ]
    }
   ],
   "source": [
    "np.concatenate([a,b],axis=1)"
   ]
  },
  {
   "cell_type": "markdown",
   "id": "c480453d-dad8-426a-87d0-81c7f42465ae",
   "metadata": {},
   "source": [
    "- 불가능"
   ]
  },
  {
   "cell_type": "markdown",
   "id": "31d77cb0-2707-4a0f-8b28-b22aab8db4d8",
   "metadata": {},
   "source": [
    "`-` 아래와 같이 하면 해결가능"
   ]
  },
  {
   "cell_type": "code",
   "execution_count": 27,
   "id": "eafcec2d-8200-4c7f-aa33-3097eb4ba165",
   "metadata": {},
   "outputs": [],
   "source": [
    "a=np.array([1,2,3]).reshape(3,1)\n",
    "b=-a"
   ]
  },
  {
   "cell_type": "code",
   "execution_count": 28,
   "id": "ce7b2479-9638-4266-9ea8-193889548f6c",
   "metadata": {},
   "outputs": [
    {
     "data": {
      "text/plain": [
       "(array([[1],\n",
       "        [2],\n",
       "        [3]]),\n",
       " array([[-1],\n",
       "        [-2],\n",
       "        [-3]]))"
      ]
     },
     "execution_count": 28,
     "metadata": {},
     "output_type": "execute_result"
    }
   ],
   "source": [
    "a,b"
   ]
  },
  {
   "cell_type": "code",
   "execution_count": 29,
   "id": "0b67fcb7-b4bd-43dc-aff1-2ce3597a86db",
   "metadata": {},
   "outputs": [
    {
     "data": {
      "text/plain": [
       "array([[ 1, -1],\n",
       "       [ 2, -2],\n",
       "       [ 3, -3]])"
      ]
     },
     "execution_count": 29,
     "metadata": {},
     "output_type": "execute_result"
    }
   ],
   "source": [
    "np.concatenate([a,b],axis=1)"
   ]
  },
  {
   "cell_type": "markdown",
   "id": "8cf368d1-3f53-4e47-89dd-3e93f630a25f",
   "metadata": {},
   "source": [
    "- 분석 : (3)(3) => (3,1)(3,1) => (3,1) concat (3,1)"
   ]
  },
  {
   "cell_type": "markdown",
   "id": "8462a843-dda4-4e24-8fe9-ceaa61f513ff",
   "metadata": {},
   "source": [
    "`-` 위의 과정을 줄여서 아래와 같이 할 수 있음."
   ]
  },
  {
   "cell_type": "code",
   "execution_count": 30,
   "id": "4435cca4-3e32-47cc-8189-0e63f29602dc",
   "metadata": {},
   "outputs": [],
   "source": [
    "a=np.array([1,2,3])\n",
    "b=-a"
   ]
  },
  {
   "cell_type": "code",
   "execution_count": 31,
   "id": "6f27f2f1-fc71-42b3-b0fa-9f290796fad5",
   "metadata": {},
   "outputs": [
    {
     "data": {
      "text/plain": [
       "array([[ 1, -1],\n",
       "       [ 2, -2],\n",
       "       [ 3, -3]])"
      ]
     },
     "execution_count": 31,
     "metadata": {},
     "output_type": "execute_result"
    }
   ],
   "source": [
    "np.stack([a,b],axis=1)"
   ]
  },
  {
   "cell_type": "code",
   "execution_count": 32,
   "id": "f55c68bb-0253-4d07-b6a7-f583d2a99a7f",
   "metadata": {},
   "outputs": [
    {
     "data": {
      "text/plain": [
       "array([[ 1,  2,  3],\n",
       "       [-1, -2, -3]])"
      ]
     },
     "execution_count": 32,
     "metadata": {},
     "output_type": "execute_result"
    }
   ],
   "source": [
    "np.stack([a,b],axis=0)"
   ]
  },
  {
   "cell_type": "markdown",
   "id": "9040f7f4-06d0-47c6-93f6-30250d951247",
   "metadata": {},
   "source": [
    "(분석1)"
   ]
  },
  {
   "cell_type": "code",
   "execution_count": 33,
   "id": "2128e938-5033-4252-9834-db21de45dbff",
   "metadata": {},
   "outputs": [],
   "source": [
    "a=np.array([1,2,3])\n",
    "b=-a"
   ]
  },
  {
   "cell_type": "code",
   "execution_count": 34,
   "id": "96b16c0a-d8a7-4a2c-9993-575256392ae3",
   "metadata": {},
   "outputs": [
    {
     "data": {
      "text/plain": [
       "((3,), (3,), (2, 3))"
      ]
     },
     "execution_count": 34,
     "metadata": {},
     "output_type": "execute_result"
    }
   ],
   "source": [
    "a.shape,b.shape,np.stack([a,b],axis=0).shape"
   ]
  },
  {
   "cell_type": "markdown",
   "id": "a794f3b6-e8a0-43f6-9cdd-ca4c500fab9c",
   "metadata": {},
   "source": [
    "- (3)(3) => 첫 위치에 축을 추가 (axis=0) => (1,3)(1,3) => (2,3)"
   ]
  },
  {
   "cell_type": "markdown",
   "id": "7e1c9b6d-da1e-4027-913c-431835cefdb0",
   "metadata": {},
   "source": [
    "(분석2)"
   ]
  },
  {
   "cell_type": "code",
   "execution_count": 35,
   "id": "5b86cf1c-0d8b-42b9-82f6-7d52e4327ace",
   "metadata": {},
   "outputs": [],
   "source": [
    "a=np.array([1,2,3])\n",
    "b=-a"
   ]
  },
  {
   "cell_type": "code",
   "execution_count": 36,
   "id": "bb0d844c-6f0f-4ef3-ab26-94956e7be7ff",
   "metadata": {},
   "outputs": [
    {
     "data": {
      "text/plain": [
       "((3,), (3,), (3, 2))"
      ]
     },
     "execution_count": 36,
     "metadata": {},
     "output_type": "execute_result"
    }
   ],
   "source": [
    "a.shape,b.shape,np.stack([a,b],axis=1).shape"
   ]
  },
  {
   "cell_type": "markdown",
   "id": "c6269112-b067-4eeb-a213-d0c9365311ba",
   "metadata": {},
   "source": [
    "- (3)(3) => 두번째 위치에 축을 추가 (axis=1) => (3,1)(3,1) => (3,2)"
   ]
  },
  {
   "cell_type": "markdown",
   "id": "9b5ee222-06bf-4c6d-9c3e-c8cc69100306",
   "metadata": {},
   "source": [
    "`-` 고차원예제"
   ]
  },
  {
   "cell_type": "code",
   "execution_count": 37,
   "id": "c7e96845-620f-46a6-83d3-57e896e07def",
   "metadata": {},
   "outputs": [],
   "source": [
    "a=np.arange(3*4*5).reshape(3,4,5)\n",
    "b=-a"
   ]
  },
  {
   "cell_type": "code",
   "execution_count": 45,
   "id": "8509ee58-b327-4092-b02c-15c5b2724ca6",
   "metadata": {},
   "outputs": [
    {
     "data": {
      "text/plain": [
       "((3, 4, 5), (3, 4, 5))"
      ]
     },
     "execution_count": 45,
     "metadata": {},
     "output_type": "execute_result"
    }
   ],
   "source": [
    "a.shape,b.shape"
   ]
  },
  {
   "cell_type": "code",
   "execution_count": 46,
   "id": "8f06e07e-40bc-4cad-946d-52bb07662d2e",
   "metadata": {},
   "outputs": [
    {
     "data": {
      "text/plain": [
       "(2, 3, 4, 5)"
      ]
     },
     "execution_count": 46,
     "metadata": {},
     "output_type": "execute_result"
    }
   ],
   "source": [
    "np.stack([a,b],axis=0).shape  #(3,4,5) => (1,3,4,5) // 첫번째 위치에 축이 추가되고 스택"
   ]
  },
  {
   "cell_type": "code",
   "execution_count": 47,
   "id": "d30cc741-5868-4236-81c0-309bfb951454",
   "metadata": {},
   "outputs": [
    {
     "data": {
      "text/plain": [
       "(3, 2, 4, 5)"
      ]
     },
     "execution_count": 47,
     "metadata": {},
     "output_type": "execute_result"
    }
   ],
   "source": [
    "np.stack([a,b],axis=1).shape  #(3,4,5) => (3,1,4,5) // 두번째 위치에 축이 추가되고 스택"
   ]
  },
  {
   "cell_type": "code",
   "execution_count": 48,
   "id": "ee4bb396-f8ea-40e5-aff5-f261d42871a1",
   "metadata": {},
   "outputs": [
    {
     "data": {
      "text/plain": [
       "(3, 4, 2, 5)"
      ]
     },
     "execution_count": 48,
     "metadata": {},
     "output_type": "execute_result"
    }
   ],
   "source": [
    "np.stack([a,b],axis=2).shape  #(3,4,5) => (3,4,1,5) // 세번째 위치에 축이 추가되고 스택"
   ]
  },
  {
   "cell_type": "code",
   "execution_count": 49,
   "id": "d691aa5b-5cc9-48eb-853f-58619971ce22",
   "metadata": {},
   "outputs": [
    {
     "data": {
      "text/plain": [
       "(3, 4, 5, 2)"
      ]
     },
     "execution_count": 49,
     "metadata": {},
     "output_type": "execute_result"
    }
   ],
   "source": [
    "np.stack([a,b],axis=3).shape  #(3,4,5) => (3,4,5,1) // 네번째 위치에 축이 추가되고 스택"
   ]
  },
  {
   "cell_type": "code",
   "execution_count": 50,
   "id": "8f8e9ac8-7f9d-4be9-93c2-e7f02a7a3821",
   "metadata": {},
   "outputs": [
    {
     "data": {
      "text/plain": [
       "(3, 4, 5, 2)"
      ]
     },
     "execution_count": 50,
     "metadata": {},
     "output_type": "execute_result"
    }
   ],
   "source": [
    "np.stack([a,b],axis=-1).shape  #axis=-1 <=> axis=3"
   ]
  },
  {
   "cell_type": "code",
   "execution_count": 51,
   "id": "57db1868-d939-4da9-8e51-f6bba876ddab",
   "metadata": {},
   "outputs": [
    {
     "data": {
      "text/plain": [
       "(3, 4, 2, 5)"
      ]
     },
     "execution_count": 51,
     "metadata": {},
     "output_type": "execute_result"
    }
   ],
   "source": [
    "np.stack([a,b],axis=-2).shape #axis=-2 <=> axis=2"
   ]
  },
  {
   "cell_type": "markdown",
   "id": "6d550d6b-8c62-4114-8373-2f5e7fd72311",
   "metadata": {},
   "source": [
    "**np.concatenate 는 축의 총 개수를 유지하면서 결합, np.stack 은 축의 갯수를 하나 증가시키면서 결합**"
   ]
  },
  {
   "cell_type": "markdown",
   "id": "923e2060-8483-4a6e-a12c-b83db4698229",
   "metadata": {},
   "source": [
    "sum"
   ]
  },
  {
   "cell_type": "markdown",
   "id": "c58fe3fb-7095-4d20-9261-9efacac18d53",
   "metadata": {},
   "source": [
    "`-` 1차원"
   ]
  },
  {
   "cell_type": "code",
   "execution_count": 52,
   "id": "a74fc1f7-8957-45bf-84ca-7f4ee6efd39c",
   "metadata": {},
   "outputs": [
    {
     "data": {
      "text/plain": [
       "array([1, 2, 3])"
      ]
     },
     "execution_count": 52,
     "metadata": {},
     "output_type": "execute_result"
    }
   ],
   "source": [
    "a=np.array([1,2,3])\n",
    "a"
   ]
  },
  {
   "cell_type": "code",
   "execution_count": 53,
   "id": "3337cae7-468e-47ee-940e-77b5de7b6fde",
   "metadata": {},
   "outputs": [
    {
     "data": {
      "text/plain": [
       "6"
      ]
     },
     "execution_count": 53,
     "metadata": {},
     "output_type": "execute_result"
    }
   ],
   "source": [
    "a.sum()"
   ]
  },
  {
   "cell_type": "code",
   "execution_count": 54,
   "id": "ac61c081-c781-48a3-81a1-864f6c02083c",
   "metadata": {},
   "outputs": [
    {
     "data": {
      "text/plain": [
       "6"
      ]
     },
     "execution_count": 54,
     "metadata": {},
     "output_type": "execute_result"
    }
   ],
   "source": [
    "a.sum(axis=0)"
   ]
  },
  {
   "cell_type": "markdown",
   "id": "b0ab4d07-40d7-4ded-bbd7-d0f1512a4018",
   "metadata": {},
   "source": [
    "`-`2차원"
   ]
  },
  {
   "cell_type": "code",
   "execution_count": 55,
   "id": "e77e8540-c92d-4835-8bfb-c9c4d0374af9",
   "metadata": {},
   "outputs": [
    {
     "data": {
      "text/plain": [
       "array([[0, 1, 2],\n",
       "       [3, 4, 5]])"
      ]
     },
     "execution_count": 55,
     "metadata": {},
     "output_type": "execute_result"
    }
   ],
   "source": [
    "a=np.array(range(6)).reshape(2,3)\n",
    "a"
   ]
  },
  {
   "cell_type": "code",
   "execution_count": 56,
   "id": "b62f141b-f5f5-424c-b86b-4d8f9d14206c",
   "metadata": {},
   "outputs": [
    {
     "data": {
      "text/plain": [
       "15"
      ]
     },
     "execution_count": 56,
     "metadata": {},
     "output_type": "execute_result"
    }
   ],
   "source": [
    "a.sum() #전체합"
   ]
  },
  {
   "cell_type": "code",
   "execution_count": 57,
   "id": "cbcbdb8f-ad7f-48e2-b8ac-a42c01fb3481",
   "metadata": {},
   "outputs": [
    {
     "data": {
      "text/plain": [
       "array([3, 5, 7])"
      ]
     },
     "execution_count": 57,
     "metadata": {},
     "output_type": "execute_result"
    }
   ],
   "source": [
    "a.sum(axis=0)"
   ]
  },
  {
   "cell_type": "code",
   "execution_count": 58,
   "id": "1dbafc9b-d6ee-4fa0-b229-a32313fd5dd8",
   "metadata": {},
   "outputs": [
    {
     "data": {
      "text/plain": [
       "array([ 3, 12])"
      ]
     },
     "execution_count": 58,
     "metadata": {},
     "output_type": "execute_result"
    }
   ],
   "source": [
    "a.sum(axis=1)"
   ]
  },
  {
   "cell_type": "markdown",
   "id": "94b536dd-bd12-4e60-97e3-5cea04ef50cd",
   "metadata": {},
   "source": [
    "`-`2차원 결과 분석"
   ]
  },
  {
   "cell_type": "code",
   "execution_count": 59,
   "id": "5eceb494-5176-42a9-8aa5-f1deaa818100",
   "metadata": {},
   "outputs": [
    {
     "data": {
      "text/plain": [
       "((2, 3), (3,))"
      ]
     },
     "execution_count": 59,
     "metadata": {},
     "output_type": "execute_result"
    }
   ],
   "source": [
    "a.shape,a.sum(axis=0).shape"
   ]
  },
  {
   "cell_type": "markdown",
   "id": "17886293-8b8a-4123-9587-92090f1ea928",
   "metadata": {},
   "source": [
    "- 첫번째 축이 삭제됨 => axis=0"
   ]
  },
  {
   "cell_type": "code",
   "execution_count": 60,
   "id": "894a3fd2-f83a-4ec5-998f-43bc9c14fcb7",
   "metadata": {},
   "outputs": [
    {
     "data": {
      "text/plain": [
       "((2, 3), (2,))"
      ]
     },
     "execution_count": 60,
     "metadata": {},
     "output_type": "execute_result"
    }
   ],
   "source": [
    "a.shape,a.sum(axis=1).shape"
   ]
  },
  {
   "cell_type": "markdown",
   "id": "027d9e9d-c7b5-45c9-94ba-ea208d1f37a2",
   "metadata": {},
   "source": [
    "- 두번째 축이 삭제됨 => axis=1"
   ]
  },
  {
   "cell_type": "markdown",
   "id": "d6fb261e-4ec3-41bd-89ed-a13b38dbf674",
   "metadata": {},
   "source": [
    "`-` 연습"
   ]
  },
  {
   "cell_type": "code",
   "execution_count": 61,
   "id": "f99774d1-bc37-4db1-963f-f8621fc49c8c",
   "metadata": {},
   "outputs": [
    {
     "data": {
      "text/plain": [
       "array([[0, 1],\n",
       "       [2, 3],\n",
       "       [4, 5],\n",
       "       [6, 7],\n",
       "       [8, 9]])"
      ]
     },
     "execution_count": 61,
     "metadata": {},
     "output_type": "execute_result"
    }
   ],
   "source": [
    "a=np.array(range(10)).reshape(5,2)\n",
    "a"
   ]
  },
  {
   "cell_type": "markdown",
   "id": "a6466b6a-6687-4457-ba3f-2f16e9c1a2cf",
   "metadata": {},
   "source": [
    "(문제1) 1열의 합, 2열의 합을 계산\n",
    "\n",
    "(풀이) 차원 (5,2) => (2,)로 나와야 함. 즉 첫번째 축이 삭제되어야 함"
   ]
  },
  {
   "cell_type": "code",
   "execution_count": 62,
   "id": "5ea54bbc-5771-4c24-ba2e-c18f22b60019",
   "metadata": {},
   "outputs": [
    {
     "data": {
      "text/plain": [
       "array([20, 25])"
      ]
     },
     "execution_count": 62,
     "metadata": {},
     "output_type": "execute_result"
    }
   ],
   "source": [
    "a.sum(axis=0)"
   ]
  },
  {
   "cell_type": "markdown",
   "id": "3d425927-3849-406b-b687-b6d420e621a3",
   "metadata": {},
   "source": [
    "(문제2) 1행의 합, 2행의 합... ,5행의 합을 계산\n",
    "\n",
    "(풀이) 차원 (5,2) => (5,)로 나와야 함. 즉 두번째 축이 삭제되어야 함"
   ]
  },
  {
   "cell_type": "code",
   "execution_count": 63,
   "id": "65fa08a7-be87-40f6-93f9-823a726180a7",
   "metadata": {},
   "outputs": [
    {
     "data": {
      "text/plain": [
       "array([ 1,  5,  9, 13, 17])"
      ]
     },
     "execution_count": 63,
     "metadata": {},
     "output_type": "execute_result"
    }
   ],
   "source": [
    "a.sum(axis=1)"
   ]
  },
  {
   "cell_type": "markdown",
   "id": "3c6203db-4953-4e4d-96a2-7d51df17a804",
   "metadata": {},
   "source": [
    "(문제3) a의 모든원소의 합을 계산\n",
    "\n",
    "(풀이) 차원이 (5,2) => ()로 나와야 함. 즉 첫번째 축, 두번째 축 모두 삭제되어야 함"
   ]
  },
  {
   "cell_type": "code",
   "execution_count": 64,
   "id": "bce84c48-78f0-4197-b638-60f56fcf2298",
   "metadata": {},
   "outputs": [
    {
     "data": {
      "text/plain": [
       "45"
      ]
     },
     "execution_count": 64,
     "metadata": {},
     "output_type": "execute_result"
    }
   ],
   "source": [
    "a.sum()"
   ]
  },
  {
   "cell_type": "code",
   "execution_count": 65,
   "id": "c5df2f6d-109a-47d5-981b-c7ae259f52a7",
   "metadata": {},
   "outputs": [
    {
     "data": {
      "text/plain": [
       "45"
      ]
     },
     "execution_count": 65,
     "metadata": {},
     "output_type": "execute_result"
    }
   ],
   "source": [
    "a.sum(axis=(0,1))"
   ]
  },
  {
   "cell_type": "markdown",
   "id": "305b6ca8-e36d-4c17-9d55-6cd16efb987c",
   "metadata": {},
   "source": [
    "#### mean,std, max, min, prod\n",
    "\n",
    "`-` 모두 sum이랑 유사한 논리"
   ]
  },
  {
   "cell_type": "code",
   "execution_count": 66,
   "id": "b744c388-379d-46f4-8792-395d2d03a83d",
   "metadata": {},
   "outputs": [
    {
     "data": {
      "text/plain": [
       "array([[0, 1],\n",
       "       [2, 3],\n",
       "       [4, 5],\n",
       "       [6, 7],\n",
       "       [8, 9]])"
      ]
     },
     "execution_count": 66,
     "metadata": {},
     "output_type": "execute_result"
    }
   ],
   "source": [
    "a=np.array(range(10)).reshape(5,2)\n",
    "a"
   ]
  },
  {
   "cell_type": "code",
   "execution_count": 67,
   "id": "7906f986-562c-43b8-b035-7c1cba64e650",
   "metadata": {},
   "outputs": [
    {
     "data": {
      "text/plain": [
       "(array([4., 5.]),\n",
       " array([2.82842712, 2.82842712]),\n",
       " array([8, 9]),\n",
       " array([0, 1]),\n",
       " array([  0, 945]))"
      ]
     },
     "execution_count": 67,
     "metadata": {},
     "output_type": "execute_result"
    }
   ],
   "source": [
    "a.mean(axis=0),a.std(axis=0),a.max(axis=0),a.min(axis=0),a.prod(axis=0)"
   ]
  },
  {
   "cell_type": "code",
   "execution_count": 68,
   "id": "04246f3d-c1ae-434c-bbd0-ffbd2412df68",
   "metadata": {},
   "outputs": [
    {
     "data": {
      "text/plain": [
       "(array([0.5, 2.5, 4.5, 6.5, 8.5]),\n",
       " array([0.5, 0.5, 0.5, 0.5, 0.5]),\n",
       " array([1, 3, 5, 7, 9]),\n",
       " array([0, 2, 4, 6, 8]),\n",
       " array([ 0,  6, 20, 42, 72]))"
      ]
     },
     "execution_count": 68,
     "metadata": {},
     "output_type": "execute_result"
    }
   ],
   "source": [
    "a.mean(axis=1),a.std(axis=1),a.max(axis=1),a.min(axis=1),a.prod(axis=1)"
   ]
  },
  {
   "cell_type": "markdown",
   "id": "2ccc5d1c-93aa-4230-8fc0-c59d95db80e5",
   "metadata": {},
   "source": [
    "`-` 참고로 std는 분포를 n으로 나눈다."
   ]
  },
  {
   "cell_type": "code",
   "execution_count": 69,
   "id": "a28bf2fb-eaba-4c28-82df-ea7bc5d25f24",
   "metadata": {},
   "outputs": [
    {
     "data": {
      "text/plain": [
       "1.118033988749895"
      ]
     },
     "execution_count": 69,
     "metadata": {},
     "output_type": "execute_result"
    }
   ],
   "source": [
    "a=np.array([1,2,3,4])\n",
    "a.std()"
   ]
  },
  {
   "cell_type": "code",
   "execution_count": 70,
   "id": "e70af4d7-4eb4-4059-8f58-3a1a9d5e582a",
   "metadata": {},
   "outputs": [
    {
     "data": {
      "text/plain": [
       "1.118033988749895"
      ]
     },
     "execution_count": 70,
     "metadata": {},
     "output_type": "execute_result"
    }
   ],
   "source": [
    "np.sqrt(sum((a-a.mean())**2)/4)"
   ]
  },
  {
   "cell_type": "markdown",
   "id": "52cac628-b12b-4773-a33e-b1a143441676",
   "metadata": {},
   "source": [
    "`-` 분모를 n-1로 나누려면?"
   ]
  },
  {
   "cell_type": "code",
   "execution_count": 71,
   "id": "e0bd51ae-a0a7-450d-9dc4-99a04ebefc80",
   "metadata": {},
   "outputs": [
    {
     "data": {
      "text/plain": [
       "1.2909944487358056"
      ]
     },
     "execution_count": 71,
     "metadata": {},
     "output_type": "execute_result"
    }
   ],
   "source": [
    "a=np.array([1,2,3,4])\n",
    "a.std(ddof=1)"
   ]
  },
  {
   "cell_type": "markdown",
   "id": "1340326d-0575-442c-ad07-8c4e7b7b6bb1",
   "metadata": {},
   "source": [
    "#### argmax, argmin"
   ]
  },
  {
   "cell_type": "markdown",
   "id": "376cecf2-23c8-46f5-92ad-7af670082ff7",
   "metadata": {},
   "source": [
    "`-` 1차원"
   ]
  },
  {
   "cell_type": "code",
   "execution_count": 72,
   "id": "85bd174c-ecd2-4399-9c54-2328fd0d9d37",
   "metadata": {},
   "outputs": [
    {
     "data": {
      "text/plain": [
       "array([ 1, -2,  3, 10,  4])"
      ]
     },
     "execution_count": 72,
     "metadata": {},
     "output_type": "execute_result"
    }
   ],
   "source": [
    "a=np.array([1,-2,3,10,4])\n",
    "a"
   ]
  },
  {
   "cell_type": "code",
   "execution_count": 73,
   "id": "3523434d-0907-43a2-94ef-72d67c1d1036",
   "metadata": {},
   "outputs": [
    {
     "data": {
      "text/plain": [
       "3"
      ]
     },
     "execution_count": 73,
     "metadata": {},
     "output_type": "execute_result"
    }
   ],
   "source": [
    "a.argmax() #가장 큰 값이 위치한 원소의 인덱스를 리턴"
   ]
  },
  {
   "cell_type": "code",
   "execution_count": 74,
   "id": "370b675a-47c1-459f-865a-2d3a10d9a9eb",
   "metadata": {},
   "outputs": [
    {
     "data": {
      "text/plain": [
       "1"
      ]
     },
     "execution_count": 74,
     "metadata": {},
     "output_type": "execute_result"
    }
   ],
   "source": [
    "a.argmin() #가장 작은 값이 위치한 원소의 인덱스를 리턴"
   ]
  },
  {
   "cell_type": "markdown",
   "id": "7f8fee1d-db61-4e08-b8d8-6341a2e4be78",
   "metadata": {},
   "source": [
    "`-` 2차원"
   ]
  },
  {
   "cell_type": "code",
   "execution_count": 75,
   "id": "c7bae52b-9847-4f50-8ccc-59498fac49c8",
   "metadata": {},
   "outputs": [
    {
     "data": {
      "text/plain": [
       "array([[ 0.38342049,  1.0841745 ,  1.14277825,  0.30789368,  0.23778744],\n",
       "       [ 0.35595116, -1.66307542, -1.38277318, -1.92684484, -1.4862163 ],\n",
       "       [ 0.00692519, -0.03488725, -0.34357323,  0.70895648, -1.55100608],\n",
       "       [ 1.34565583, -0.05654272, -0.83017342, -1.46395159, -0.35459593]])"
      ]
     },
     "execution_count": 75,
     "metadata": {},
     "output_type": "execute_result"
    }
   ],
   "source": [
    "np.random.seed(43052)\n",
    "a=np.random.randn(4*5).reshape(4,5)\n",
    "a"
   ]
  },
  {
   "cell_type": "code",
   "execution_count": 76,
   "id": "f56941f2-6ea6-48ca-a775-1d6dea04906d",
   "metadata": {},
   "outputs": [
    {
     "data": {
      "text/plain": [
       "(8, -1.9268448358915802)"
      ]
     },
     "execution_count": 76,
     "metadata": {},
     "output_type": "execute_result"
    }
   ],
   "source": [
    "a.argmin(), a.min()"
   ]
  },
  {
   "cell_type": "code",
   "execution_count": 77,
   "id": "513282a5-2706-489c-b94a-d432beaacb88",
   "metadata": {},
   "outputs": [
    {
     "data": {
      "text/plain": [
       "(15, 1.3456558341738827)"
      ]
     },
     "execution_count": 77,
     "metadata": {},
     "output_type": "execute_result"
    }
   ],
   "source": [
    "a.argmax(), a.max()"
   ]
  },
  {
   "cell_type": "code",
   "execution_count": 78,
   "id": "be24eb5a-5daf-4f99-a41c-360b8c4f94de",
   "metadata": {},
   "outputs": [
    {
     "data": {
      "text/plain": [
       "(array([2, 1, 1, 1, 2]), array([4, 3, 4, 3]))"
      ]
     },
     "execution_count": 78,
     "metadata": {},
     "output_type": "execute_result"
    }
   ],
   "source": [
    "a.argmin(axis=0), a.argmin(axis=1)"
   ]
  },
  {
   "cell_type": "code",
   "execution_count": 79,
   "id": "09b4322e-b730-4711-87ab-95cb93396775",
   "metadata": {},
   "outputs": [
    {
     "data": {
      "text/plain": [
       "(array([3, 0, 0, 2, 0]), array([2, 0, 3, 0]))"
      ]
     },
     "execution_count": 79,
     "metadata": {},
     "output_type": "execute_result"
    }
   ],
   "source": [
    "a.argmax(axis=0), a.argmax(axis=1)"
   ]
  },
  {
   "cell_type": "markdown",
   "id": "764efc88-e3c9-427d-a07a-e570a7127747",
   "metadata": {},
   "source": [
    "#### cumsum,cumprod"
   ]
  },
  {
   "cell_type": "markdown",
   "id": "b023cbe5-1016-4da2-aec9-d1c2c7968d76",
   "metadata": {},
   "source": [
    "`-` 1차원"
   ]
  },
  {
   "cell_type": "code",
   "execution_count": 80,
   "id": "73238fcd-36f2-4c38-95d6-2ce5b5c12619",
   "metadata": {},
   "outputs": [
    {
     "data": {
      "text/plain": [
       "array([1, 2, 3, 4])"
      ]
     },
     "execution_count": 80,
     "metadata": {},
     "output_type": "execute_result"
    }
   ],
   "source": [
    "a=np.array([1,2,3,4])\n",
    "a"
   ]
  },
  {
   "cell_type": "code",
   "execution_count": 81,
   "id": "8e938c8d-e249-4b3c-b0f5-940b87e40e74",
   "metadata": {},
   "outputs": [
    {
     "data": {
      "text/plain": [
       "array([ 1,  3,  6, 10])"
      ]
     },
     "execution_count": 81,
     "metadata": {},
     "output_type": "execute_result"
    }
   ],
   "source": [
    "a.cumsum()"
   ]
  },
  {
   "cell_type": "code",
   "execution_count": 82,
   "id": "4afb8782-4216-4a97-aa46-a3d21b655a55",
   "metadata": {},
   "outputs": [
    {
     "data": {
      "text/plain": [
       "array([ 1,  2,  6, 24])"
      ]
     },
     "execution_count": 82,
     "metadata": {},
     "output_type": "execute_result"
    }
   ],
   "source": [
    "a.cumprod()"
   ]
  },
  {
   "cell_type": "markdown",
   "id": "719fefb8-2370-4598-b353-361f5a3ccf4a",
   "metadata": {},
   "source": [
    "`-` 2차원"
   ]
  },
  {
   "cell_type": "code",
   "execution_count": 83,
   "id": "f9902591-221a-4304-8871-bb51d3c23d41",
   "metadata": {},
   "outputs": [
    {
     "data": {
      "text/plain": [
       "array([[ 0,  1,  2,  3],\n",
       "       [ 4,  5,  6,  7],\n",
       "       [ 8,  9, 10, 11]])"
      ]
     },
     "execution_count": 83,
     "metadata": {},
     "output_type": "execute_result"
    }
   ],
   "source": [
    "a=np.array(range(3*4)).reshape(3,4)\n",
    "a"
   ]
  },
  {
   "cell_type": "code",
   "execution_count": 84,
   "id": "69bdd7dd-e735-44ea-a1a3-8be8a7c31733",
   "metadata": {},
   "outputs": [
    {
     "data": {
      "text/plain": [
       "(array([[ 0,  1,  2,  3],\n",
       "        [ 4,  6,  8, 10],\n",
       "        [12, 15, 18, 21]]),\n",
       " array([[ 0,  1,  3,  6],\n",
       "        [ 4,  9, 15, 22],\n",
       "        [ 8, 17, 27, 38]]))"
      ]
     },
     "execution_count": 84,
     "metadata": {},
     "output_type": "execute_result"
    }
   ],
   "source": [
    "a.cumsum(axis=0),a.cumsum(axis=1)"
   ]
  },
  {
   "cell_type": "code",
   "execution_count": 85,
   "id": "5105abb9-733f-471d-9c1e-f12f66811346",
   "metadata": {},
   "outputs": [
    {
     "data": {
      "text/plain": [
       "(array([[  0,   1,   2,   3],\n",
       "        [  0,   5,  12,  21],\n",
       "        [  0,  45, 120, 231]]),\n",
       " array([[   0,    0,    0,    0],\n",
       "        [   4,   20,  120,  840],\n",
       "        [   8,   72,  720, 7920]]))"
      ]
     },
     "execution_count": 85,
     "metadata": {},
     "output_type": "execute_result"
    }
   ],
   "source": [
    "a.cumprod(axis=0),a.cumprod(axis=1)"
   ]
  },
  {
   "cell_type": "markdown",
   "id": "4a07e0c1-9127-4081-b7fc-03fc38d1979b",
   "metadata": {},
   "source": [
    "#### diff"
   ]
  },
  {
   "cell_type": "markdown",
   "id": "0ec03610-1343-42bf-9c82-087711eba33e",
   "metadata": {},
   "source": [
    "`-` 1차차분"
   ]
  },
  {
   "cell_type": "code",
   "execution_count": 86,
   "id": "f5fccccf-0581-4401-b5c6-e48c30b00e16",
   "metadata": {},
   "outputs": [
    {
     "data": {
      "text/plain": [
       "array([1, 2, 4, 6, 7])"
      ]
     },
     "execution_count": 86,
     "metadata": {},
     "output_type": "execute_result"
    }
   ],
   "source": [
    "a=np.array([1,2,4,6,7])\n",
    "a"
   ]
  },
  {
   "cell_type": "code",
   "execution_count": 87,
   "id": "5eb20835-13e5-4e8f-9e66-964a33cdea62",
   "metadata": {},
   "outputs": [
    {
     "data": {
      "text/plain": [
       "array([1, 2, 2, 1])"
      ]
     },
     "execution_count": 87,
     "metadata": {},
     "output_type": "execute_result"
    }
   ],
   "source": [
    "np.diff(a)"
   ]
  },
  {
   "cell_type": "markdown",
   "id": "88ac225f-4f63-4c06-b36e-91eccf3f5814",
   "metadata": {},
   "source": [
    "`-` 2차차분"
   ]
  },
  {
   "cell_type": "code",
   "execution_count": 88,
   "id": "6cddb2cd-e640-43b7-8f63-13d2926d9f41",
   "metadata": {},
   "outputs": [
    {
     "data": {
      "text/plain": [
       "array([ 1,  0, -1])"
      ]
     },
     "execution_count": 88,
     "metadata": {},
     "output_type": "execute_result"
    }
   ],
   "source": [
    "np.diff(np.diff(a))"
   ]
  },
  {
   "cell_type": "markdown",
   "id": "08d9df5f-e7cf-4155-a320-94ba300dbdc0",
   "metadata": {},
   "source": [
    "`-` prepend,append"
   ]
  },
  {
   "cell_type": "code",
   "execution_count": 89,
   "id": "a1de9382-53ff-4f1c-956c-754a77bcaa3b",
   "metadata": {},
   "outputs": [
    {
     "data": {
      "text/plain": [
       "array([1, 2, 4, 6, 7])"
      ]
     },
     "execution_count": 89,
     "metadata": {},
     "output_type": "execute_result"
    }
   ],
   "source": [
    "a=np.array([1,2,4,6,7])\n",
    "a"
   ]
  },
  {
   "cell_type": "code",
   "execution_count": 90,
   "id": "b68fe767-8c54-42eb-a130-ff8ad7d38c87",
   "metadata": {},
   "outputs": [
    {
     "data": {
      "text/plain": [
       "array([-99,   1,   2,   2,   1])"
      ]
     },
     "execution_count": 90,
     "metadata": {},
     "output_type": "execute_result"
    }
   ],
   "source": [
    "np.diff(a,prepend=100)\n",
    "#np.diff(np.array([100]_a.tolist()))"
   ]
  },
  {
   "cell_type": "code",
   "execution_count": 91,
   "id": "ea7468ea-05cb-4664-9646-956a88c744ed",
   "metadata": {},
   "outputs": [
    {
     "data": {
      "text/plain": [
       "array([ 1,  2,  2,  1, 93])"
      ]
     },
     "execution_count": 91,
     "metadata": {},
     "output_type": "execute_result"
    }
   ],
   "source": [
    "np.diff(a,append=100)"
   ]
  },
  {
   "cell_type": "markdown",
   "id": "18286fc4-79fe-45e5-9b04-a49a7f26b8e8",
   "metadata": {},
   "source": [
    "`-` 2차원 array의 차분"
   ]
  },
  {
   "cell_type": "code",
   "execution_count": 92,
   "id": "fbd125d5-dfd3-4b96-bd28-d7eb6f354d5a",
   "metadata": {},
   "outputs": [
    {
     "data": {
      "text/plain": [
       "array([[ 0,  1,  2,  3,  4,  5],\n",
       "       [ 6,  7,  8,  9, 10, 11],\n",
       "       [12, 13, 14, 15, 16, 17],\n",
       "       [18, 19, 20, 21, 22, 23]])"
      ]
     },
     "execution_count": 92,
     "metadata": {},
     "output_type": "execute_result"
    }
   ],
   "source": [
    "a=np.arange(24).reshape(4,6)\n",
    "a"
   ]
  },
  {
   "cell_type": "code",
   "execution_count": 93,
   "id": "657ddb44-29b1-4efe-bb25-d54da300e70c",
   "metadata": {},
   "outputs": [
    {
     "data": {
      "text/plain": [
       "array([[6, 6, 6, 6, 6, 6],\n",
       "       [6, 6, 6, 6, 6, 6],\n",
       "       [6, 6, 6, 6, 6, 6]])"
      ]
     },
     "execution_count": 93,
     "metadata": {},
     "output_type": "execute_result"
    }
   ],
   "source": [
    "np.diff(a,axis=0)"
   ]
  },
  {
   "cell_type": "code",
   "execution_count": 94,
   "id": "f9ae81cc-230a-4afd-8930-c2b8e6fdaf6c",
   "metadata": {},
   "outputs": [
    {
     "data": {
      "text/plain": [
       "array([[1, 1, 1, 1, 1],\n",
       "       [1, 1, 1, 1, 1],\n",
       "       [1, 1, 1, 1, 1],\n",
       "       [1, 1, 1, 1, 1]])"
      ]
     },
     "execution_count": 94,
     "metadata": {},
     "output_type": "execute_result"
    }
   ],
   "source": [
    "np.diff(a,axis=1)"
   ]
  },
  {
   "cell_type": "code",
   "execution_count": null,
   "id": "c9c8150d-b15c-4a32-a2ee-a0dcb73007d9",
   "metadata": {},
   "outputs": [],
   "source": []
  }
 ],
 "metadata": {
  "kernelspec": {
   "display_name": "Python 3 (ipykernel)",
   "language": "python",
   "name": "python3"
  },
  "language_info": {
   "codemirror_mode": {
    "name": "ipython",
    "version": 3
   },
   "file_extension": ".py",
   "mimetype": "text/x-python",
   "name": "python",
   "nbconvert_exporter": "python",
   "pygments_lexer": "ipython3",
   "version": "3.9.7"
  }
 },
 "nbformat": 4,
 "nbformat_minor": 5
}
