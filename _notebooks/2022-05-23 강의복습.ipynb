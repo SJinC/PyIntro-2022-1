{
 "cells": [
  {
   "cell_type": "markdown",
   "id": "9736f648-baee-43b3-979b-fb97c32ac02c",
   "metadata": {
    "tags": []
   },
   "source": [
    "# 파이썬 5월 23일 강의 복습\n",
    "> \"7월 9일\"\n",
    "\n",
    "- toc:true\n",
    "- branch: master\n",
    "- badges: true\n",
    "- comments: true\n",
    "- author: 최석진\n",
    "- categories: [Python]"
   ]
  },
  {
   "cell_type": "markdown",
   "id": "64394253-d103-49c7-b2ee-d89fced76df7",
   "metadata": {},
   "source": [
    "## 클래스 공부 4단계"
   ]
  },
  {
   "cell_type": "code",
   "execution_count": 1,
   "id": "9936089a-24d1-470c-a8e5-4b1969fe4a75",
   "metadata": {},
   "outputs": [],
   "source": [
    "import numpy as np"
   ]
  },
  {
   "cell_type": "markdown",
   "id": "6f771df1-422d-4547-a753-7bc3f7352c98",
   "metadata": {},
   "source": [
    "### motivating Example"
   ]
  },
  {
   "cell_type": "markdown",
   "id": "0bf66862-3150-4c5f-b981-bce257205c58",
   "metadata": {},
   "source": [
    "`-` 가위바위보"
   ]
  },
  {
   "cell_type": "code",
   "execution_count": 4,
   "id": "abd6c3e0-aa51-4d31-a9b6-cab7e1a9bca6",
   "metadata": {},
   "outputs": [],
   "source": [
    "class RPC:\n",
    "    def __init__(self,candidate=['가위','바위','보']):\n",
    "        self.candidate=candidate\n",
    "    def throw(self):\n",
    "        print(np.random.choice(self.candidate))"
   ]
  },
  {
   "cell_type": "code",
   "execution_count": 5,
   "id": "210bc4af-a15c-44a2-854e-bc53df988e0a",
   "metadata": {},
   "outputs": [],
   "source": [
    "a=RPC() #__init__는 암묵적으로 실행"
   ]
  },
  {
   "cell_type": "code",
   "execution_count": 6,
   "id": "82a1623b-5ff0-4d37-b598-66f462ece1f4",
   "metadata": {},
   "outputs": [
    {
     "name": "stdout",
     "output_type": "stream",
     "text": [
      "바위\n"
     ]
    }
   ],
   "source": [
    "a.throw()"
   ]
  },
  {
   "cell_type": "markdown",
   "id": "f711b566-a52a-4257-8f5d-cf587f6a325d",
   "metadata": {},
   "source": [
    "`-` throw = choose + show 의 느낌"
   ]
  },
  {
   "cell_type": "code",
   "execution_count": 7,
   "id": "6a64ef77-e842-4065-a97d-06d4cfe5ab4e",
   "metadata": {},
   "outputs": [],
   "source": [
    "class RPC: ##시점1\n",
    "    def __init__(self,candidate=['가위','바위','보']):\n",
    "        self.candidate=candidate\n",
    "    def choose(self):\n",
    "        self.actions=np.random.choice(self.candidate)\n",
    "    def show(self):\n",
    "        print(self.actions)"
   ]
  },
  {
   "cell_type": "code",
   "execution_count": 8,
   "id": "28baa4df-875a-4313-bb81-bc006f641b36",
   "metadata": {},
   "outputs": [],
   "source": [
    "a=RPC() ## 시점2"
   ]
  },
  {
   "cell_type": "code",
   "execution_count": 9,
   "id": "a5316c41-47cb-40de-a641-38c35cafb404",
   "metadata": {},
   "outputs": [
    {
     "ename": "AttributeError",
     "evalue": "'RPC' object has no attribute 'actions'",
     "output_type": "error",
     "traceback": [
      "\u001b[0;31m---------------------------------------------------------------------------\u001b[0m",
      "\u001b[0;31mAttributeError\u001b[0m                            Traceback (most recent call last)",
      "Input \u001b[0;32mIn [9]\u001b[0m, in \u001b[0;36m<cell line: 1>\u001b[0;34m()\u001b[0m\n\u001b[0;32m----> 1\u001b[0m \u001b[43ma\u001b[49m\u001b[38;5;241;43m.\u001b[39;49m\u001b[43mactions\u001b[49m\n",
      "\u001b[0;31mAttributeError\u001b[0m: 'RPC' object has no attribute 'actions'"
     ]
    }
   ],
   "source": [
    "a.actions ## 시점3"
   ]
  },
  {
   "cell_type": "code",
   "execution_count": 11,
   "id": "c00ff598-17bd-4487-9e71-ac5c6c17d185",
   "metadata": {},
   "outputs": [],
   "source": [
    "a.choose() ##시점4"
   ]
  },
  {
   "cell_type": "code",
   "execution_count": 12,
   "id": "f7ec1b23-83be-4274-8eb5-35047e8f364f",
   "metadata": {},
   "outputs": [
    {
     "data": {
      "text/plain": [
       "'보'"
      ]
     },
     "execution_count": 12,
     "metadata": {},
     "output_type": "execute_result"
    }
   ],
   "source": [
    "a.actions ## 시점5"
   ]
  },
  {
   "cell_type": "code",
   "execution_count": 15,
   "id": "fd65d6b0-27fe-4acc-8bc0-b802e9b07e5e",
   "metadata": {},
   "outputs": [
    {
     "name": "stdout",
     "output_type": "stream",
     "text": [
      "보\n"
     ]
    }
   ],
   "source": [
    "a.show() ## 시점6"
   ]
  },
  {
   "cell_type": "markdown",
   "id": "2edab276-afe9-43c1-a71b-07584507a6d3",
   "metadata": {},
   "source": [
    "*보충학습*: 위와 같은 코드"
   ]
  },
  {
   "cell_type": "code",
   "execution_count": 16,
   "id": "e1233145-1219-4c9f-b295-a80feb933c3b",
   "metadata": {},
   "outputs": [],
   "source": [
    "class _RPC: ##시점1\n",
    "    pass # 빈 클래스를 정의하는 방법"
   ]
  },
  {
   "cell_type": "code",
   "execution_count": 17,
   "id": "dbfcb537-7622-4cd9-a143-f1d585360fa4",
   "metadata": {},
   "outputs": [],
   "source": [
    "_a=_RPC() ##시점2\n",
    "def _init(_a,candidate=['가위','바위','보']):\n",
    "    _a.candidate=candidate\n",
    "_init(_a)"
   ]
  },
  {
   "cell_type": "code",
   "execution_count": 18,
   "id": "aea0638a-7fed-4b0f-ac8c-0e20c246cc41",
   "metadata": {},
   "outputs": [
    {
     "ename": "AttributeError",
     "evalue": "'_RPC' object has no attribute 'actions'",
     "output_type": "error",
     "traceback": [
      "\u001b[0;31m---------------------------------------------------------------------------\u001b[0m",
      "\u001b[0;31mAttributeError\u001b[0m                            Traceback (most recent call last)",
      "Input \u001b[0;32mIn [18]\u001b[0m, in \u001b[0;36m<cell line: 1>\u001b[0;34m()\u001b[0m\n\u001b[0;32m----> 1\u001b[0m \u001b[43m_a\u001b[49m\u001b[38;5;241;43m.\u001b[39;49m\u001b[43mactions\u001b[49m\n",
      "\u001b[0;31mAttributeError\u001b[0m: '_RPC' object has no attribute 'actions'"
     ]
    }
   ],
   "source": [
    "_a.actions ##시점3"
   ]
  },
  {
   "cell_type": "code",
   "execution_count": 19,
   "id": "d553261d-21c3-4158-b2eb-6667eef8e655",
   "metadata": {},
   "outputs": [],
   "source": [
    "def _choose(_a): ##시점4\n",
    "    _a.actions=np.random.choice(_a.candidate)\n",
    "_choose(_a)"
   ]
  },
  {
   "cell_type": "code",
   "execution_count": 21,
   "id": "66bb7c86-74e5-4444-ad72-50abcd1a4a8f",
   "metadata": {},
   "outputs": [
    {
     "data": {
      "text/plain": [
       "'바위'"
      ]
     },
     "execution_count": 21,
     "metadata": {},
     "output_type": "execute_result"
    }
   ],
   "source": [
    "_a.actions ##시점5"
   ]
  },
  {
   "cell_type": "code",
   "execution_count": 23,
   "id": "a795b036-688e-49a8-9723-328bfb8ffbc5",
   "metadata": {},
   "outputs": [
    {
     "name": "stdout",
     "output_type": "stream",
     "text": [
      "바위\n"
     ]
    }
   ],
   "source": [
    "def _show(_a): ##시점6\n",
    "    print(_a.actions)\n",
    "_show(_a)"
   ]
  },
  {
   "cell_type": "markdown",
   "id": "128fef68-2915-4afc-89f5-583dd6c57343",
   "metadata": {},
   "source": [
    "`-` 또 다른 인스턴스 b를 만듬. b는 가위만 낼 수 있음"
   ]
  },
  {
   "cell_type": "code",
   "execution_count": 24,
   "id": "0241a8c0-e07a-42fc-a390-14a14b51ca02",
   "metadata": {},
   "outputs": [],
   "source": [
    "b=RPC(['가위'])"
   ]
  },
  {
   "cell_type": "code",
   "execution_count": 25,
   "id": "00ceb2ce-a1c8-4965-b71d-2a4476de790e",
   "metadata": {},
   "outputs": [
    {
     "data": {
      "text/plain": [
       "['가위']"
      ]
     },
     "execution_count": 25,
     "metadata": {},
     "output_type": "execute_result"
    }
   ],
   "source": [
    "b.candidate"
   ]
  },
  {
   "cell_type": "code",
   "execution_count": 26,
   "id": "dce022f8-52ea-4b00-b6f2-54020f190637",
   "metadata": {},
   "outputs": [
    {
     "name": "stdout",
     "output_type": "stream",
     "text": [
      "가위\n"
     ]
    }
   ],
   "source": [
    "b.choose()\n",
    "b.show()"
   ]
  },
  {
   "cell_type": "markdown",
   "id": "c39f290a-18d6-464e-bbe6-6a7a2dbeabe2",
   "metadata": {},
   "source": [
    "`-`  a,b의 선택들을 모아서 기록하고 싶음"
   ]
  },
  {
   "cell_type": "code",
   "execution_count": 27,
   "id": "a9e64838-5c25-4115-b792-2a4863d24138",
   "metadata": {},
   "outputs": [],
   "source": [
    "class RPC:\n",
    "    def __init__(self,candidate=['가위','바위','보']):\n",
    "        self.candidate=candidate\n",
    "        self.actions=list()\n",
    "    def choose(self):\n",
    "        self.actions.append(np.random.choice(self.candidate))\n",
    "    def show(self):\n",
    "        print(self.actions[-1])"
   ]
  },
  {
   "cell_type": "code",
   "execution_count": 28,
   "id": "1a255616-57ca-4155-8929-a33ac6d2c389",
   "metadata": {},
   "outputs": [],
   "source": [
    "a=RPC()\n",
    "b=RPC(['가위'])"
   ]
  },
  {
   "cell_type": "code",
   "execution_count": 29,
   "id": "ff84d5b6-5800-4f0e-af15-8f369fc5bfe1",
   "metadata": {},
   "outputs": [
    {
     "name": "stdout",
     "output_type": "stream",
     "text": [
      "바위\n",
      "보\n",
      "바위\n",
      "바위\n",
      "가위\n"
     ]
    }
   ],
   "source": [
    "for i in range(5):\n",
    "    a.choose()\n",
    "    a.show()"
   ]
  },
  {
   "cell_type": "code",
   "execution_count": 30,
   "id": "824348b2-8306-42ce-841b-bbd7d0314775",
   "metadata": {},
   "outputs": [
    {
     "data": {
      "text/plain": [
       "['바위', '보', '바위', '바위', '가위']"
      ]
     },
     "execution_count": 30,
     "metadata": {},
     "output_type": "execute_result"
    }
   ],
   "source": [
    "a.actions"
   ]
  },
  {
   "cell_type": "code",
   "execution_count": 31,
   "id": "2e2a3646-4e87-4f9d-b8d1-65fdf23910bd",
   "metadata": {},
   "outputs": [
    {
     "name": "stdout",
     "output_type": "stream",
     "text": [
      "가위\n",
      "가위\n",
      "가위\n",
      "가위\n",
      "가위\n"
     ]
    }
   ],
   "source": [
    "for i in range(5):\n",
    "    b.choose()\n",
    "    b.show()"
   ]
  },
  {
   "cell_type": "code",
   "execution_count": 32,
   "id": "11e0501a-aecf-44fd-91ad-b94c7ac7d726",
   "metadata": {},
   "outputs": [
    {
     "data": {
      "text/plain": [
       "['가위', '가위', '가위', '가위', '가위']"
      ]
     },
     "execution_count": 32,
     "metadata": {},
     "output_type": "execute_result"
    }
   ],
   "source": [
    "b.actions"
   ]
  },
  {
   "cell_type": "markdown",
   "id": "99de6b0f-f644-410d-b0bc-4e3c45aa7b25",
   "metadata": {},
   "source": [
    "`-` info라는 함수를 만들어 a,b오브젝트가 가지고 있는 정보를 모두 보도록 함."
   ]
  },
  {
   "cell_type": "code",
   "execution_count": 33,
   "id": "67fb0f56-036f-47df-80a1-086bc19d033b",
   "metadata": {},
   "outputs": [],
   "source": [
    "class RPC:\n",
    "    def __init__(self,candidate=['가위','바위','보']):\n",
    "        self.candidate=candidate\n",
    "        self.actions=list()\n",
    "    def choose(self):\n",
    "        self.actions.append(np.random.choice(self.candidate))\n",
    "    def show(self):\n",
    "        print(self.actions[-1])\n",
    "    def info(self):\n",
    "        print(\"낼 수 있는 패 : {} \\n기록:{}\".format(self.candidate,self.actions))"
   ]
  },
  {
   "cell_type": "code",
   "execution_count": 34,
   "id": "dab21f05-babd-411a-b624-b0640b889e50",
   "metadata": {},
   "outputs": [],
   "source": [
    "a=RPC()\n",
    "b=RPC(['가위'])"
   ]
  },
  {
   "cell_type": "code",
   "execution_count": 35,
   "id": "23fa9734-f166-49b3-8192-1c77c969b719",
   "metadata": {},
   "outputs": [
    {
     "name": "stdout",
     "output_type": "stream",
     "text": [
      "가위\n",
      "보\n",
      "보\n",
      "보\n",
      "바위\n"
     ]
    }
   ],
   "source": [
    "for i in range(5):\n",
    "    a.choose()\n",
    "    a.show()"
   ]
  },
  {
   "cell_type": "code",
   "execution_count": 36,
   "id": "91a746e1-f79f-40e0-b428-f760c67239b6",
   "metadata": {},
   "outputs": [
    {
     "name": "stdout",
     "output_type": "stream",
     "text": [
      "가위\n",
      "가위\n",
      "가위\n",
      "가위\n",
      "가위\n"
     ]
    }
   ],
   "source": [
    "for i in range(5):\n",
    "    b.choose()\n",
    "    b.show()"
   ]
  },
  {
   "cell_type": "code",
   "execution_count": 37,
   "id": "9ae917cd-28e4-4942-b55e-818935d15cd6",
   "metadata": {},
   "outputs": [
    {
     "name": "stdout",
     "output_type": "stream",
     "text": [
      "낼 수 있는 패 : ['가위', '바위', '보'] \n",
      "기록:['가위', '보', '보', '보', '바위']\n"
     ]
    }
   ],
   "source": [
    "a.info()"
   ]
  },
  {
   "cell_type": "code",
   "execution_count": 38,
   "id": "99fa4736-7d35-4ee8-bb5d-161628a3f6f8",
   "metadata": {},
   "outputs": [
    {
     "name": "stdout",
     "output_type": "stream",
     "text": [
      "낼 수 있는 패 : ['가위'] \n",
      "기록:['가위', '가위', '가위', '가위', '가위']\n"
     ]
    }
   ],
   "source": [
    "b.info()"
   ]
  },
  {
   "cell_type": "markdown",
   "id": "208715ea-2e7e-4efe-941f-c30ee8948318",
   "metadata": {},
   "source": [
    "`-` 만들고 보니 info와 print의 기능이 유사함 $\\to$ print(a)를 하면 a.info()와 동일한 효과를 내도록 만들 수 있을까?\n",
    "\n",
    "`-` 말도 안되는 소리 같음 왜?\n",
    "- 이유1 : print는 파이썬 내장 기능, 내장기능을 우리가 맘대로 커스터마이징해서 쓰기는 어려울 것 같음\n",
    "- 이유2 : 이유1이 해결된다고 하더라도 우리가 그동안 사용했던 수많은 print()의 결과는 어떻게 되는가?\n",
    "\n",
    "`-` 그런데 a의 자료형 (RPC 자료형)에 해당하는 오브젝트들에 한정하여 print를 수정하는 방법이 가능하다면? (그럼 다른 오브젝트들은 수정된 print에 영향을 받지 않음)"
   ]
  },
  {
   "cell_type": "markdown",
   "id": "b4c1cb94-cb0f-43bd-881f-3b92032ca5d0",
   "metadata": {},
   "source": [
    "### **`__str__`**"
   ]
  },
  {
   "cell_type": "markdown",
   "id": "14086aee-27bd-49f9-a373-42b2ad18fecf",
   "metadata": {},
   "source": [
    "`-` 관찰1 : 현재 print(a)의 결과는 아래와 같다."
   ]
  },
  {
   "cell_type": "code",
   "execution_count": 39,
   "id": "c43680d4-3e56-4227-a77d-9625f4bffcc8",
   "metadata": {},
   "outputs": [
    {
     "name": "stdout",
     "output_type": "stream",
     "text": [
      "<__main__.RPC object at 0x7fd8403d36d0>\n"
     ]
    }
   ],
   "source": [
    "print(a)"
   ]
  },
  {
   "cell_type": "markdown",
   "id": "2af227a9-cc27-4b3a-b0a7-a6f0f83ea42d",
   "metadata": {},
   "source": [
    "- a는 RPC클래스에서 만든 오브젝트이며 a가 저장된 메모리 주소는 0x7fd8403d36d0라는 의미"
   ]
  },
  {
   "cell_type": "markdown",
   "id": "de51e914-7b4c-45a7-b384-a4cf6bdcc1aa",
   "metadata": {},
   "source": [
    "`-` 관찰2 : a에는 `__str__`이 있다."
   ]
  },
  {
   "cell_type": "code",
   "execution_count": 41,
   "id": "453c08b1-8799-4dcc-a48a-e16c3912ddfe",
   "metadata": {},
   "outputs": [
    {
     "data": {
      "text/plain": [
       "{'__str__'}"
      ]
     },
     "execution_count": 41,
     "metadata": {},
     "output_type": "execute_result"
    }
   ],
   "source": [
    "set(dir(a)) & {'__str__'}"
   ]
  },
  {
   "cell_type": "markdown",
   "id": "22211560-a9ac-4591-8102-ad9f42edb3b1",
   "metadata": {},
   "source": [
    "이것을 함수처럼 사용하니까 아래와 같이 된다."
   ]
  },
  {
   "cell_type": "code",
   "execution_count": 42,
   "id": "9eca3d58-4eaf-49b2-b7ac-5e914de8a40f",
   "metadata": {},
   "outputs": [
    {
     "data": {
      "text/plain": [
       "'<__main__.RPC object at 0x7fd8403d36d0>'"
      ]
     },
     "execution_count": 42,
     "metadata": {},
     "output_type": "execute_result"
    }
   ],
   "source": [
    "a.__str__()"
   ]
  },
  {
   "cell_type": "markdown",
   "id": "1317f61e-6764-426c-bfe1-b63f9d5f8226",
   "metadata": {},
   "source": [
    "? print(a) 와 동일한 결과값이 출력"
   ]
  },
  {
   "cell_type": "markdown",
   "id": "312e7e78-b847-454b-8afd-226ddd461a77",
   "metadata": {},
   "source": [
    "`-` 생각 : 만약에 내가 `a.__str__()`라는 함수를 재정의해서 리턴값을 임의로 바꾸게 되면 print(a)해서 나오는 결과는 어떻게 될까?"
   ]
  },
  {
   "cell_type": "markdown",
   "id": "fc445c34-5551-4a26-9702-923b06ea83cc",
   "metadata": {},
   "source": [
    "(예비학습) 함수 덮어씌우기"
   ]
  },
  {
   "cell_type": "code",
   "execution_count": 43,
   "id": "522d241f-5cd1-46c2-97d2-0efafbd8caaf",
   "metadata": {},
   "outputs": [],
   "source": [
    "def f():\n",
    "    print('asdf')"
   ]
  },
  {
   "cell_type": "code",
   "execution_count": 44,
   "id": "2737dfc8-8c99-4d42-92f2-c87198771c0d",
   "metadata": {},
   "outputs": [
    {
     "name": "stdout",
     "output_type": "stream",
     "text": [
      "asdf\n"
     ]
    }
   ],
   "source": [
    "f()"
   ]
  },
  {
   "cell_type": "code",
   "execution_count": 45,
   "id": "04aa8288-c2f6-444f-abe0-9b048e1c85b1",
   "metadata": {},
   "outputs": [],
   "source": [
    "def f():\n",
    "    print('Seokjin')"
   ]
  },
  {
   "cell_type": "code",
   "execution_count": 46,
   "id": "c3138f32-31b9-4474-ab35-27d8efb97fe2",
   "metadata": {},
   "outputs": [
    {
     "name": "stdout",
     "output_type": "stream",
     "text": [
      "Seokjin\n"
     ]
    }
   ],
   "source": [
    "f()"
   ]
  },
  {
   "cell_type": "markdown",
   "id": "d4d154ff-126a-4a96-b883-15b244dc0913",
   "metadata": {},
   "source": [
    "이런식으로 함수가 이미 정의되어 있다하더라도, 내가 나중에 덮어씌우면 그 함수의 기능을 다시 정의한다."
   ]
  },
  {
   "cell_type": "code",
   "execution_count": 53,
   "id": "b7d785a4-b2c3-4c03-b0aa-08618f770cf8",
   "metadata": {},
   "outputs": [],
   "source": [
    "class RPC:\n",
    "    def __init__(self,candidate=['가위','바위','보']):\n",
    "        self.candidate=candidate\n",
    "        self.actions=list()\n",
    "    def choose(self):\n",
    "        self.actions.append(np.random.choice(self.candidate))\n",
    "    def show(self):\n",
    "        print(self.actions[-1])\n",
    "    def __str__(self):\n",
    "        return 'Seokjin'\n",
    "    def info(self):\n",
    "        print(\"낼 수 있는 패: {}\\n기록: {}\".format(self.candidate,self.actions))"
   ]
  },
  {
   "cell_type": "code",
   "execution_count": 48,
   "id": "5b9c3395-48ba-4e4e-ad38-ab2c1b6e1a49",
   "metadata": {},
   "outputs": [],
   "source": [
    "a=RPC()"
   ]
  },
  {
   "cell_type": "code",
   "execution_count": 50,
   "id": "19bd2838-e360-4a41-b4fb-b9e17626f2d7",
   "metadata": {},
   "outputs": [
    {
     "name": "stdout",
     "output_type": "stream",
     "text": [
      "Seokjin\n"
     ]
    }
   ],
   "source": [
    "print(a)"
   ]
  },
  {
   "cell_type": "code",
   "execution_count": 51,
   "id": "8a8e30ec-a96e-4700-a744-5aca050e0f7d",
   "metadata": {},
   "outputs": [
    {
     "name": "stdout",
     "output_type": "stream",
     "text": [
      "Seokjin\n"
     ]
    }
   ],
   "source": [
    "print(a.__str__())"
   ]
  },
  {
   "cell_type": "markdown",
   "id": "eb38a340-97fb-4997-b659-5f310df6cb1a",
   "metadata": {},
   "source": [
    "`-` `__str__`의 리턴값을 info에서 타이핑했던 문자열로 재정의 한다면??"
   ]
  },
  {
   "cell_type": "code",
   "execution_count": 54,
   "id": "90f12ccb-735e-4bce-a574-b9851356a1a7",
   "metadata": {},
   "outputs": [],
   "source": [
    "class RPC:\n",
    "    def __init__(self,candidate=['가위','바위','보']):\n",
    "        self.candidate=candidate\n",
    "        self.actions=list()\n",
    "    def choose(self):\n",
    "        self.actions.append(np.random.choice(self.candidate))\n",
    "    def show(self):\n",
    "        print(self.actions[-1])\n",
    "    def __str__(self):\n",
    "        return \"낼 수 있는 패: {}\\n기록: {}\".format(self.candidate,self.actions)"
   ]
  },
  {
   "cell_type": "code",
   "execution_count": 55,
   "id": "d50b26ee-f484-4156-afd6-799769b46c9c",
   "metadata": {},
   "outputs": [],
   "source": [
    "a=RPC()"
   ]
  },
  {
   "cell_type": "code",
   "execution_count": 56,
   "id": "be5f4e3a-df21-4659-9750-6c1e26b18b6f",
   "metadata": {},
   "outputs": [
    {
     "name": "stdout",
     "output_type": "stream",
     "text": [
      "낼 수 있는 패: ['가위', '바위', '보']\n",
      "기록: []\n"
     ]
    }
   ],
   "source": [
    "print(a)"
   ]
  },
  {
   "cell_type": "code",
   "execution_count": 57,
   "id": "c3dbe525-bf93-44ea-9cda-9937bd1bb3a7",
   "metadata": {},
   "outputs": [
    {
     "name": "stdout",
     "output_type": "stream",
     "text": [
      "보\n"
     ]
    }
   ],
   "source": [
    "a.choose()\n",
    "a.show()"
   ]
  },
  {
   "cell_type": "code",
   "execution_count": 58,
   "id": "617f6646-0836-43b1-af8f-c222209e4907",
   "metadata": {},
   "outputs": [
    {
     "name": "stdout",
     "output_type": "stream",
     "text": [
      "낼 수 있는 패: ['가위', '바위', '보']\n",
      "기록: ['보']\n"
     ]
    }
   ],
   "source": [
    "print(a)"
   ]
  },
  {
   "cell_type": "markdown",
   "id": "7ed97f01-3d5f-45ce-9785-6aaa66f7e874",
   "metadata": {},
   "source": [
    "### 파이썬의 비밀2\n",
    "\n",
    "`-` `print(a)`와 `print(a.__str__())`는 같은 문법.\n",
    "\n",
    "`-` `a.__str__()`와 `str(a)`도 같은 문법."
   ]
  },
  {
   "cell_type": "code",
   "execution_count": 59,
   "id": "b96f94af-121c-4adf-b4d1-d90051db5b42",
   "metadata": {},
   "outputs": [
    {
     "data": {
      "text/plain": [
       "\"낼 수 있는 패: ['가위', '바위', '보']\\n기록: ['보']\""
      ]
     },
     "execution_count": 59,
     "metadata": {},
     "output_type": "execute_result"
    }
   ],
   "source": [
    "a.__str__()"
   ]
  },
  {
   "cell_type": "code",
   "execution_count": 60,
   "id": "cc942b3d-014f-47da-8a2a-e96b67d03940",
   "metadata": {},
   "outputs": [
    {
     "data": {
      "text/plain": [
       "\"낼 수 있는 패: ['가위', '바위', '보']\\n기록: ['보']\""
      ]
     },
     "execution_count": 60,
     "metadata": {},
     "output_type": "execute_result"
    }
   ],
   "source": [
    "str(a)"
   ]
  },
  {
   "cell_type": "markdown",
   "id": "c526c563-b4f1-4a9b-83eb-6ce49d95078b",
   "metadata": {},
   "source": [
    "### `__repr__`\n",
    "\n",
    "`-` 생각해보니 print를 해서 우리가 원하는 정보를 확인하는 것은 아니었음"
   ]
  },
  {
   "cell_type": "code",
   "execution_count": 61,
   "id": "a53b06d8-84fa-487d-a0d4-614a48806082",
   "metadata": {},
   "outputs": [],
   "source": [
    "a=[1,2,3]"
   ]
  },
  {
   "cell_type": "code",
   "execution_count": 62,
   "id": "9754b1e8-b094-4a04-94fc-60f3d07e67f2",
   "metadata": {},
   "outputs": [
    {
     "data": {
      "text/plain": [
       "[1, 2, 3]"
      ]
     },
     "execution_count": 62,
     "metadata": {},
     "output_type": "execute_result"
    }
   ],
   "source": [
    "a"
   ]
  },
  {
   "cell_type": "code",
   "execution_count": 63,
   "id": "f33a8fde-0d0b-4e2c-9a9a-f72faea9e65e",
   "metadata": {},
   "outputs": [
    {
     "name": "stdout",
     "output_type": "stream",
     "text": [
      "[1, 2, 3]\n"
     ]
    }
   ],
   "source": [
    "print(a)"
   ]
  },
  {
   "cell_type": "markdown",
   "id": "e6505134-3b16-4fd5-a2db-88e884e4aa31",
   "metadata": {},
   "source": [
    "`-` `a+엔터`는 `print(a)+엔터`와 같은 효과?"
   ]
  },
  {
   "cell_type": "markdown",
   "id": "7741b5ab-44ca-4775-8f88-5a0a7a955ae1",
   "metadata": {},
   "source": [
    "(반례)"
   ]
  },
  {
   "cell_type": "code",
   "execution_count": 64,
   "id": "2daf7f2a-eb3a-4cac-bb8c-c079b9d07cad",
   "metadata": {},
   "outputs": [],
   "source": [
    "a=np.array([1,2,3,4]).reshape(2,2)"
   ]
  },
  {
   "cell_type": "code",
   "execution_count": 65,
   "id": "0f6601ce-ae92-4d29-9999-3a6168696b17",
   "metadata": {},
   "outputs": [
    {
     "data": {
      "text/plain": [
       "array([[1, 2],\n",
       "       [3, 4]])"
      ]
     },
     "execution_count": 65,
     "metadata": {},
     "output_type": "execute_result"
    }
   ],
   "source": [
    "a"
   ]
  },
  {
   "cell_type": "code",
   "execution_count": 66,
   "id": "eb8d2bcb-e324-4d8f-aa9e-caaeb52a7368",
   "metadata": {},
   "outputs": [
    {
     "name": "stdout",
     "output_type": "stream",
     "text": [
      "[[1 2]\n",
      " [3 4]]\n"
     ]
    }
   ],
   "source": [
    "print(a)"
   ]
  },
  {
   "cell_type": "markdown",
   "id": "78b5be23-0a14-4aa7-861d-2be76ad1d3de",
   "metadata": {},
   "source": [
    "`-` 서로 다른 경우도 있음 $\\to$ 추측: 서로 다른 숨겨진 기능이 있다! $\\to$ 결론: 추측이 맞음. 그 기능은 `__repr__`에 저장되어있음"
   ]
  },
  {
   "cell_type": "code",
   "execution_count": 69,
   "id": "fd78e625-255f-403d-a2f7-3545ed4f3602",
   "metadata": {},
   "outputs": [],
   "source": [
    "class RPC:\n",
    "    def __init__(self,candidate=['가위','바위','보']):\n",
    "        self.candidate=candidate\n",
    "        self.actions=list()\n",
    "    def choose(self):\n",
    "        self.actions.append(np.random.choice(self.candidate))\n",
    "    def show(self):\n",
    "        print(self.actions[-1])\n",
    "    def __repr__(self):\n",
    "        return \"낼 수 있는 패: {}\\n기록: {}\".format(self.candidate,self.actions)"
   ]
  },
  {
   "cell_type": "code",
   "execution_count": 70,
   "id": "e6f04997-9e9f-4970-a816-ff73c66659ab",
   "metadata": {},
   "outputs": [],
   "source": [
    "a=RPC()"
   ]
  },
  {
   "cell_type": "code",
   "execution_count": 71,
   "id": "39d4d0ac-bd56-4fcf-8f5d-f179ed0e4191",
   "metadata": {},
   "outputs": [
    {
     "data": {
      "text/plain": [
       "낼 수 있는 패: ['가위', '바위', '보']\n",
       "기록: []"
      ]
     },
     "execution_count": 71,
     "metadata": {},
     "output_type": "execute_result"
    }
   ],
   "source": [
    "a # print(a.__repr__())"
   ]
  },
  {
   "cell_type": "code",
   "execution_count": 72,
   "id": "a8980f02-60ba-461e-851c-13bef9594954",
   "metadata": {},
   "outputs": [],
   "source": [
    "a=np.array([1,2,3])"
   ]
  },
  {
   "cell_type": "code",
   "execution_count": 73,
   "id": "5edbcd43-dabd-46f8-a528-341840a5cf98",
   "metadata": {},
   "outputs": [
    {
     "data": {
      "text/plain": [
       "array([1, 2, 3])"
      ]
     },
     "execution_count": 73,
     "metadata": {},
     "output_type": "execute_result"
    }
   ],
   "source": [
    "a"
   ]
  },
  {
   "cell_type": "code",
   "execution_count": 74,
   "id": "bc5b11ce-81c1-467e-a48c-bc9e6f68ead6",
   "metadata": {},
   "outputs": [
    {
     "name": "stdout",
     "output_type": "stream",
     "text": [
      "[1 2 3]\n"
     ]
    }
   ],
   "source": [
    "print(a)"
   ]
  },
  {
   "cell_type": "code",
   "execution_count": 75,
   "id": "35e2696f-98c3-4ead-970c-eb06bed0b8d2",
   "metadata": {},
   "outputs": [
    {
     "data": {
      "text/plain": [
       "'array([1, 2, 3])'"
      ]
     },
     "execution_count": 75,
     "metadata": {},
     "output_type": "execute_result"
    }
   ],
   "source": [
    "a.__repr__()"
   ]
  },
  {
   "cell_type": "code",
   "execution_count": 76,
   "id": "8e86c8a4-6b3d-41c5-accd-7e351b513014",
   "metadata": {},
   "outputs": [
    {
     "data": {
      "text/plain": [
       "'[1 2 3]'"
      ]
     },
     "execution_count": 76,
     "metadata": {},
     "output_type": "execute_result"
    }
   ],
   "source": [
    "a.__str__()"
   ]
  },
  {
   "cell_type": "markdown",
   "id": "6a1d14f5-cdd0-4fd4-b246-214c0cd75ac2",
   "metadata": {},
   "source": [
    "### 파이썬의 비밀3"
   ]
  },
  {
   "cell_type": "markdown",
   "id": "52258c78-86cf-41cc-a495-4fc2f9d800ff",
   "metadata": {},
   "source": [
    "`-` 대화형콘솔에서 `오브젝트이름+엔터`를 쳐서 나오는 출력은 `__repr__`의 결과와 연관있다."
   ]
  },
  {
   "cell_type": "code",
   "execution_count": 77,
   "id": "3ccbda12-b5bc-4dd0-ad7c-49dd0f32478c",
   "metadata": {},
   "outputs": [
    {
     "data": {
      "text/plain": [
       "array([[   0,    1,    2, ...,   97,   98,   99],\n",
       "       [ 100,  101,  102, ...,  197,  198,  199],\n",
       "       [ 200,  201,  202, ...,  297,  298,  299],\n",
       "       ...,\n",
       "       [9700, 9701, 9702, ..., 9797, 9798, 9799],\n",
       "       [9800, 9801, 9802, ..., 9897, 9898, 9899],\n",
       "       [9900, 9901, 9902, ..., 9997, 9998, 9999]])"
      ]
     },
     "execution_count": 77,
     "metadata": {},
     "output_type": "execute_result"
    }
   ],
   "source": [
    "a=np.array(range(10000)).reshape(100,100)\n",
    "a"
   ]
  },
  {
   "cell_type": "code",
   "execution_count": 78,
   "id": "63345300-0d1f-4eca-9572-1db612fdf2c8",
   "metadata": {},
   "outputs": [
    {
     "data": {
      "text/plain": [
       "'array([[   0,    1,    2, ...,   97,   98,   99],\\n       [ 100,  101,  102, ...,  197,  198,  199],\\n       [ 200,  201,  202, ...,  297,  298,  299],\\n       ...,\\n       [9700, 9701, 9702, ..., 9797, 9798, 9799],\\n       [9800, 9801, 9802, ..., 9897, 9898, 9899],\\n       [9900, 9901, 9902, ..., 9997, 9998, 9999]])'"
      ]
     },
     "execution_count": 78,
     "metadata": {},
     "output_type": "execute_result"
    }
   ],
   "source": [
    "a.__repr__()"
   ]
  },
  {
   "cell_type": "code",
   "execution_count": 79,
   "id": "aae9db97-6f4d-491e-bba5-19056eebcb3d",
   "metadata": {},
   "outputs": [
    {
     "data": {
      "text/plain": [
       "'array([[   0,    1,    2, ...,   97,   98,   99],\\n       [ 100,  101,  102, ...,  197,  198,  199],\\n       [ 200,  201,  202, ...,  297,  298,  299],\\n       ...,\\n       [9700, 9701, 9702, ..., 9797, 9798, 9799],\\n       [9800, 9801, 9802, ..., 9897, 9898, 9899],\\n       [9900, 9901, 9902, ..., 9997, 9998, 9999]])'"
      ]
     },
     "execution_count": 79,
     "metadata": {},
     "output_type": "execute_result"
    }
   ],
   "source": [
    "repr(a)"
   ]
  },
  {
   "cell_type": "markdown",
   "id": "1145d508-5ce8-4665-b475-70afe05df0af",
   "metadata": {},
   "source": [
    "`__repr__`와 `__str__`의 우선적용 순위"
   ]
  },
  {
   "cell_type": "markdown",
   "id": "5ef6f07a-abea-4034-a59e-6b8a910aa6bd",
   "metadata": {},
   "source": [
    "(예제1)"
   ]
  },
  {
   "cell_type": "code",
   "execution_count": 84,
   "id": "2139b290-cc6b-48cf-a4e5-ab996b5cea05",
   "metadata": {},
   "outputs": [],
   "source": [
    "class RPC:\n",
    "    def __init__(self,candidate=['가위','바위','보']):\n",
    "        self.candidate=candidate\n",
    "        self.actions=list()\n",
    "    def choose(self):\n",
    "        self.actions.append(np.random.choice(self.candidate))\n",
    "    def show(self):\n",
    "        print(self.actions[-1])\n",
    "    def __repr__(self):\n",
    "        return \"낼 수 있는 패: {}\\n기록: {}\".format(self.candidate,self.actions)"
   ]
  },
  {
   "cell_type": "code",
   "execution_count": 85,
   "id": "af7d472b-97c8-49e0-ad0b-6eb0f0e17d18",
   "metadata": {},
   "outputs": [
    {
     "data": {
      "text/plain": [
       "낼 수 있는 패: ['가위', '바위', '보']\n",
       "기록: []"
      ]
     },
     "execution_count": 85,
     "metadata": {},
     "output_type": "execute_result"
    }
   ],
   "source": [
    "a=RPC()\n",
    "a"
   ]
  },
  {
   "cell_type": "code",
   "execution_count": 86,
   "id": "f829e007-4a65-4f56-800e-15fd8c6df5ba",
   "metadata": {},
   "outputs": [
    {
     "data": {
      "text/plain": [
       "\"낼 수 있는 패: ['가위', '바위', '보']\\n기록: []\""
      ]
     },
     "execution_count": 86,
     "metadata": {},
     "output_type": "execute_result"
    }
   ],
   "source": [
    "a.__repr__()"
   ]
  },
  {
   "cell_type": "code",
   "execution_count": 87,
   "id": "07641b82-eca2-42a9-972d-a2b650c9e0e9",
   "metadata": {},
   "outputs": [
    {
     "data": {
      "text/plain": [
       "\"낼 수 있는 패: ['가위', '바위', '보']\\n기록: []\""
      ]
     },
     "execution_count": 87,
     "metadata": {},
     "output_type": "execute_result"
    }
   ],
   "source": [
    "repr(a)"
   ]
  },
  {
   "cell_type": "code",
   "execution_count": 88,
   "id": "374866ed-479d-4bd1-a991-7a08c8d32cad",
   "metadata": {},
   "outputs": [
    {
     "name": "stdout",
     "output_type": "stream",
     "text": [
      "낼 수 있는 패: ['가위', '바위', '보']\n",
      "기록: []\n"
     ]
    }
   ],
   "source": [
    "print(a) #print(a.__str__())"
   ]
  },
  {
   "cell_type": "code",
   "execution_count": 89,
   "id": "a3a58bee-9ef8-4001-9104-8d18d348af6b",
   "metadata": {},
   "outputs": [
    {
     "data": {
      "text/plain": [
       "\"낼 수 있는 패: ['가위', '바위', '보']\\n기록: []\""
      ]
     },
     "execution_count": 89,
     "metadata": {},
     "output_type": "execute_result"
    }
   ],
   "source": [
    "a.__str__()"
   ]
  },
  {
   "cell_type": "code",
   "execution_count": 90,
   "id": "e7d6828e-b458-49e7-b7f4-6be6f068985d",
   "metadata": {},
   "outputs": [
    {
     "data": {
      "text/plain": [
       "\"낼 수 있는 패: ['가위', '바위', '보']\\n기록: []\""
      ]
     },
     "execution_count": 90,
     "metadata": {},
     "output_type": "execute_result"
    }
   ],
   "source": [
    "str(a)"
   ]
  },
  {
   "cell_type": "markdown",
   "id": "995f722d-8e16-4967-a9a0-a2b01f73dd58",
   "metadata": {},
   "source": [
    "`-` `__str__()`은 건드린적이 없는데 기능이 바뀜"
   ]
  },
  {
   "cell_type": "code",
   "execution_count": 91,
   "id": "2f914505-cb86-422b-933c-0f2aec96e810",
   "metadata": {},
   "outputs": [
    {
     "data": {
      "text/plain": [
       "\u001b[0;31mSignature:\u001b[0m      \u001b[0ma\u001b[0m\u001b[0;34m.\u001b[0m\u001b[0m__str__\u001b[0m\u001b[0;34m(\u001b[0m\u001b[0;34m)\u001b[0m\u001b[0;34m\u001b[0m\u001b[0;34m\u001b[0m\u001b[0m\n",
       "\u001b[0;31mCall signature:\u001b[0m \u001b[0ma\u001b[0m\u001b[0;34m.\u001b[0m\u001b[0m__str__\u001b[0m\u001b[0;34m(\u001b[0m\u001b[0;34m*\u001b[0m\u001b[0margs\u001b[0m\u001b[0;34m,\u001b[0m \u001b[0;34m**\u001b[0m\u001b[0mkwargs\u001b[0m\u001b[0;34m)\u001b[0m\u001b[0;34m\u001b[0m\u001b[0;34m\u001b[0m\u001b[0m\n",
       "\u001b[0;31mType:\u001b[0m           method-wrapper\n",
       "\u001b[0;31mString form:\u001b[0m    <method-wrapper '__str__' of RPC object at 0x7fd8207a6e80>\n",
       "\u001b[0;31mDocstring:\u001b[0m      Return str(self).\n"
      ]
     },
     "metadata": {},
     "output_type": "display_data"
    }
   ],
   "source": [
    "a.__str__??"
   ]
  },
  {
   "cell_type": "code",
   "execution_count": 92,
   "id": "faa70035-a591-4a05-b9cb-6c11eb2d5b56",
   "metadata": {},
   "outputs": [
    {
     "data": {
      "text/plain": [
       "\u001b[0;31mSignature:\u001b[0m \u001b[0ma\u001b[0m\u001b[0;34m.\u001b[0m\u001b[0m__repr__\u001b[0m\u001b[0;34m(\u001b[0m\u001b[0;34m)\u001b[0m\u001b[0;34m\u001b[0m\u001b[0;34m\u001b[0m\u001b[0m\n",
       "\u001b[0;31mDocstring:\u001b[0m Return repr(self).\n",
       "\u001b[0;31mSource:\u001b[0m   \n",
       "    \u001b[0;32mdef\u001b[0m \u001b[0m__repr__\u001b[0m\u001b[0;34m(\u001b[0m\u001b[0mself\u001b[0m\u001b[0;34m)\u001b[0m\u001b[0;34m:\u001b[0m\u001b[0;34m\u001b[0m\n",
       "\u001b[0;34m\u001b[0m        \u001b[0;32mreturn\u001b[0m \u001b[0;34m\"낼 수 있는 패: {}\\n기록: {}\"\u001b[0m\u001b[0;34m.\u001b[0m\u001b[0mformat\u001b[0m\u001b[0;34m(\u001b[0m\u001b[0mself\u001b[0m\u001b[0;34m.\u001b[0m\u001b[0mcandidate\u001b[0m\u001b[0;34m,\u001b[0m\u001b[0mself\u001b[0m\u001b[0;34m.\u001b[0m\u001b[0mactions\u001b[0m\u001b[0;34m)\u001b[0m\u001b[0;34m\u001b[0m\u001b[0;34m\u001b[0m\u001b[0m\n",
       "\u001b[0;31mFile:\u001b[0m      /var/folders/l1/qgzhh1fs7tsg8pkmzspwgkyw0000gn/T/ipykernel_52927/1167939066.py\n",
       "\u001b[0;31mType:\u001b[0m      method\n"
      ]
     },
     "metadata": {},
     "output_type": "display_data"
    }
   ],
   "source": [
    "a.__repr__??"
   ]
  },
  {
   "cell_type": "markdown",
   "id": "0525a842-9abb-4352-ab14-ad6c1bfce5ad",
   "metadata": {},
   "source": [
    "(예제2)"
   ]
  },
  {
   "cell_type": "code",
   "execution_count": 93,
   "id": "5ef5b262-d791-4f3a-8c6b-8e4844c20023",
   "metadata": {},
   "outputs": [],
   "source": [
    "class RPC:\n",
    "    def __init__(self,candidate=['가위','바위','보']):\n",
    "        self.candidate=candidate\n",
    "        self.actions=list()\n",
    "    def choose(self):\n",
    "        self.actions.append(np.random.choice(self.candidate))\n",
    "    def show(self):\n",
    "        print(self.actions[-1])\n",
    "    def __str__(self):\n",
    "        return \"낼 수 있는 패: {}\\n기록: {}\".format(self.candidate,self.actions)"
   ]
  },
  {
   "cell_type": "code",
   "execution_count": 94,
   "id": "cf812bd9-f740-4687-8738-23df17c6a7de",
   "metadata": {},
   "outputs": [],
   "source": [
    "a=RPC()"
   ]
  },
  {
   "cell_type": "code",
   "execution_count": 95,
   "id": "dcddc669-17c6-45f6-a31f-7d19cfeb4e64",
   "metadata": {},
   "outputs": [
    {
     "name": "stdout",
     "output_type": "stream",
     "text": [
      "낼 수 있는 패: ['가위', '바위', '보']\n",
      "기록: []\n"
     ]
    }
   ],
   "source": [
    "print(a)"
   ]
  },
  {
   "cell_type": "code",
   "execution_count": 96,
   "id": "3e9ee977-2853-4a2c-b834-99a59029f569",
   "metadata": {},
   "outputs": [
    {
     "data": {
      "text/plain": [
       "<__main__.RPC at 0x7fd8408effd0>"
      ]
     },
     "execution_count": 96,
     "metadata": {},
     "output_type": "execute_result"
    }
   ],
   "source": [
    "a"
   ]
  },
  {
   "cell_type": "code",
   "execution_count": 97,
   "id": "cd1cff40-d653-4dba-9353-2232fb682b95",
   "metadata": {},
   "outputs": [
    {
     "data": {
      "text/plain": [
       "\"낼 수 있는 패: ['가위', '바위', '보']\\n기록: []\""
      ]
     },
     "execution_count": 97,
     "metadata": {},
     "output_type": "execute_result"
    }
   ],
   "source": [
    "a.__str__()"
   ]
  },
  {
   "cell_type": "code",
   "execution_count": 98,
   "id": "d81f2e1a-e35d-4afd-98eb-022e658eba6f",
   "metadata": {},
   "outputs": [
    {
     "data": {
      "text/plain": [
       "'<__main__.RPC object at 0x7fd8408effd0>'"
      ]
     },
     "execution_count": 98,
     "metadata": {},
     "output_type": "execute_result"
    }
   ],
   "source": [
    "a.__repr__()"
   ]
  },
  {
   "cell_type": "code",
   "execution_count": 101,
   "id": "92c1474d-2a7f-4c68-ae97-5fad6628fb96",
   "metadata": {},
   "outputs": [
    {
     "data": {
      "text/plain": [
       "\u001b[0;31mSignature:\u001b[0m \u001b[0ma\u001b[0m\u001b[0;34m.\u001b[0m\u001b[0m__str__\u001b[0m\u001b[0;34m(\u001b[0m\u001b[0;34m)\u001b[0m\u001b[0;34m\u001b[0m\u001b[0;34m\u001b[0m\u001b[0m\n",
       "\u001b[0;31mDocstring:\u001b[0m Return str(self).\n",
       "\u001b[0;31mSource:\u001b[0m   \n",
       "    \u001b[0;32mdef\u001b[0m \u001b[0m__str__\u001b[0m\u001b[0;34m(\u001b[0m\u001b[0mself\u001b[0m\u001b[0;34m)\u001b[0m\u001b[0;34m:\u001b[0m\u001b[0;34m\u001b[0m\n",
       "\u001b[0;34m\u001b[0m        \u001b[0;32mreturn\u001b[0m \u001b[0;34m\"낼 수 있는 패: {}\\n기록: {}\"\u001b[0m\u001b[0;34m.\u001b[0m\u001b[0mformat\u001b[0m\u001b[0;34m(\u001b[0m\u001b[0mself\u001b[0m\u001b[0;34m.\u001b[0m\u001b[0mcandidate\u001b[0m\u001b[0;34m,\u001b[0m\u001b[0mself\u001b[0m\u001b[0;34m.\u001b[0m\u001b[0mactions\u001b[0m\u001b[0;34m)\u001b[0m\u001b[0;34m\u001b[0m\u001b[0;34m\u001b[0m\u001b[0m\n",
       "\u001b[0;31mFile:\u001b[0m      /var/folders/l1/qgzhh1fs7tsg8pkmzspwgkyw0000gn/T/ipykernel_52927/576896846.py\n",
       "\u001b[0;31mType:\u001b[0m      method\n"
      ]
     },
     "metadata": {},
     "output_type": "display_data"
    }
   ],
   "source": [
    "a.__str__??"
   ]
  },
  {
   "cell_type": "code",
   "execution_count": 102,
   "id": "45871bb2-d5d3-4bee-b4dc-5010beddcc28",
   "metadata": {},
   "outputs": [
    {
     "data": {
      "text/plain": [
       "\u001b[0;31mSignature:\u001b[0m      \u001b[0ma\u001b[0m\u001b[0;34m.\u001b[0m\u001b[0m__repr__\u001b[0m\u001b[0;34m(\u001b[0m\u001b[0;34m)\u001b[0m\u001b[0;34m\u001b[0m\u001b[0;34m\u001b[0m\u001b[0m\n",
       "\u001b[0;31mCall signature:\u001b[0m \u001b[0ma\u001b[0m\u001b[0;34m.\u001b[0m\u001b[0m__repr__\u001b[0m\u001b[0;34m(\u001b[0m\u001b[0;34m*\u001b[0m\u001b[0margs\u001b[0m\u001b[0;34m,\u001b[0m \u001b[0;34m**\u001b[0m\u001b[0mkwargs\u001b[0m\u001b[0;34m)\u001b[0m\u001b[0;34m\u001b[0m\u001b[0;34m\u001b[0m\u001b[0m\n",
       "\u001b[0;31mType:\u001b[0m           method-wrapper\n",
       "\u001b[0;31mString form:\u001b[0m    <method-wrapper '__repr__' of RPC object at 0x7fd8408effd0>\n",
       "\u001b[0;31mDocstring:\u001b[0m      Return repr(self).\n"
      ]
     },
     "metadata": {},
     "output_type": "display_data"
    }
   ],
   "source": [
    "a.__repr__??"
   ]
  },
  {
   "cell_type": "markdown",
   "id": "aaabeab0-b69b-46d4-9b01-28ba4a88105d",
   "metadata": {},
   "source": [
    "(예제3)"
   ]
  },
  {
   "cell_type": "code",
   "execution_count": 103,
   "id": "0880a014-e733-4df6-8c80-4c19d3a94c1b",
   "metadata": {},
   "outputs": [],
   "source": [
    "class RPC:\n",
    "    def __init__(self,candidate=['가위','바위','보']):\n",
    "        self.candidate=candidate\n",
    "        self.actions=list()\n",
    "    def choose(self):\n",
    "        self.actions.append(np.random.choice(self.candidate))\n",
    "    def show(self):\n",
    "        print(self.actions[-1])\n",
    "    def __repr__(self):\n",
    "        return \"seokjin\"\n",
    "    def __str__(self):\n",
    "        return \"낼 수 있는 패: {}\\n기록: {}\".format(self.candidate,self.actions)"
   ]
  },
  {
   "cell_type": "code",
   "execution_count": 104,
   "id": "637c30d1-d982-4427-8e08-480589b98b4d",
   "metadata": {},
   "outputs": [],
   "source": [
    "a=RPC()"
   ]
  },
  {
   "cell_type": "code",
   "execution_count": 105,
   "id": "32b1f57e-522b-4394-9e11-66f9308d6424",
   "metadata": {},
   "outputs": [
    {
     "data": {
      "text/plain": [
       "seokjin"
      ]
     },
     "execution_count": 105,
     "metadata": {},
     "output_type": "execute_result"
    }
   ],
   "source": [
    "a"
   ]
  },
  {
   "cell_type": "code",
   "execution_count": 106,
   "id": "0f6559c2-2006-4f68-b99c-8672cefaaa73",
   "metadata": {},
   "outputs": [
    {
     "name": "stdout",
     "output_type": "stream",
     "text": [
      "낼 수 있는 패: ['가위', '바위', '보']\n",
      "기록: []\n"
     ]
    }
   ],
   "source": [
    "print(a)"
   ]
  },
  {
   "cell_type": "markdown",
   "id": "c4621b1f-3e85-4674-b267-7010e4d3f4f5",
   "metadata": {},
   "source": [
    "`-` `__str__` & `_repr__`을 건드리지 않고 출력결과를 바꾸고 싶다면?"
   ]
  },
  {
   "cell_type": "code",
   "execution_count": 107,
   "id": "ce1e7300-e1b4-4f77-8841-b0f19f269898",
   "metadata": {},
   "outputs": [],
   "source": [
    "class RPC:\n",
    "    def __init__(self,candidate=['가위','바위','보']):\n",
    "        self.candidate=candidate\n",
    "        self.actions=list()\n",
    "    def choose(self):\n",
    "        self.actions.append(np.random.choice(self.candidate))\n",
    "    def show(self):\n",
    "        print(self.actions[-1])\n",
    "    def _repr_html_(self):\n",
    "        html_str=\"\"\"\n",
    "        낼 수 있는 패 : {} <br/>\n",
    "        기록 : {}\n",
    "        \"\"\"\n",
    "        return html_str.format(self.candidate,self.actions)"
   ]
  },
  {
   "cell_type": "code",
   "execution_count": 108,
   "id": "6970ac09-e5da-4691-a8c0-40178d50b235",
   "metadata": {},
   "outputs": [],
   "source": [
    "a=RPC()"
   ]
  },
  {
   "cell_type": "code",
   "execution_count": 109,
   "id": "5bb37777-f8ed-4d07-aa55-6bb84213cd41",
   "metadata": {},
   "outputs": [
    {
     "data": {
      "text/plain": [
       "'<__main__.RPC object at 0x7fd8408ef2e0>'"
      ]
     },
     "execution_count": 109,
     "metadata": {},
     "output_type": "execute_result"
    }
   ],
   "source": [
    "str(a)"
   ]
  },
  {
   "cell_type": "code",
   "execution_count": 110,
   "id": "b87e23ff-364a-4787-a2de-e49dfe491610",
   "metadata": {},
   "outputs": [
    {
     "data": {
      "text/plain": [
       "'<__main__.RPC object at 0x7fd8408ef2e0>'"
      ]
     },
     "execution_count": 110,
     "metadata": {},
     "output_type": "execute_result"
    }
   ],
   "source": [
    "repr(a)"
   ]
  },
  {
   "cell_type": "code",
   "execution_count": 111,
   "id": "35390c71-e7d7-4cac-8cab-b387a215b441",
   "metadata": {},
   "outputs": [
    {
     "data": {
      "text/html": [
       "\n",
       "        낼 수 있는 패 : ['가위', '바위', '보'] <br/>\n",
       "        기록 : []\n",
       "        "
      ],
      "text/plain": [
       "<__main__.RPC at 0x7fd8408ef2e0>"
      ]
     },
     "execution_count": 111,
     "metadata": {},
     "output_type": "execute_result"
    }
   ],
   "source": [
    "a"
   ]
  },
  {
   "cell_type": "code",
   "execution_count": 112,
   "id": "33207006-be5c-45c0-8468-c68e3299bf29",
   "metadata": {},
   "outputs": [
    {
     "name": "stdout",
     "output_type": "stream",
     "text": [
      "가위\n",
      "보\n",
      "바위\n",
      "가위\n",
      "보\n"
     ]
    }
   ],
   "source": [
    "for i in range(5):\n",
    "    a.choose()\n",
    "    a.show()"
   ]
  },
  {
   "cell_type": "code",
   "execution_count": 113,
   "id": "6188f05f-9c89-4af0-9faf-1d12f47ec102",
   "metadata": {},
   "outputs": [
    {
     "data": {
      "text/html": [
       "\n",
       "        낼 수 있는 패 : ['가위', '바위', '보'] <br/>\n",
       "        기록 : ['가위', '보', '바위', '가위', '보']\n",
       "        "
      ],
      "text/plain": [
       "<__main__.RPC at 0x7fd8408ef2e0>"
      ]
     },
     "execution_count": 113,
     "metadata": {},
     "output_type": "execute_result"
    }
   ],
   "source": [
    "a"
   ]
  },
  {
   "cell_type": "code",
   "execution_count": null,
   "id": "6458dd86-3d8a-4428-aadd-6af48fcc52b1",
   "metadata": {},
   "outputs": [],
   "source": []
  }
 ],
 "metadata": {
  "kernelspec": {
   "display_name": "Python 3 (ipykernel)",
   "language": "python",
   "name": "python3"
  },
  "language_info": {
   "codemirror_mode": {
    "name": "ipython",
    "version": 3
   },
   "file_extension": ".py",
   "mimetype": "text/x-python",
   "name": "python",
   "nbconvert_exporter": "python",
   "pygments_lexer": "ipython3",
   "version": "3.9.7"
  }
 },
 "nbformat": 4,
 "nbformat_minor": 5
}
